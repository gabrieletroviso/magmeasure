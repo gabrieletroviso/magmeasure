{
 "cells": [
  {
   "cell_type": "code",
   "execution_count": 2,
   "metadata": {},
   "outputs": [],
   "source": [
    "from pyLensLib.piemd import piemd\n",
    "from pyLensLib.pointsrc import pointsrc\n",
    "from pyLensLib.sersic import *\n",
    "import numpy as np\n",
    "from astropy.cosmology import FlatLambdaCDM\n",
    "from skimage import measure\n",
    "import shapely.geometry\n",
    "from pyLensLib.critcau import CriticalLine\n",
    "from shapely.ops import polygonize, unary_union\n",
    "import astropy.io.fits as pyfits\n",
    "from tqdm import tqdm\n",
    "from pyLensLib.deflector import deflector\n",
    "import pandas as pd\n",
    "import skimage\n",
    "import matplotlib.pyplot as plt\n",
    "from pyLensLib.observation import observation\n",
    "from pyLensLib.maputils import image_fit\n",
    "from scipy.ndimage import map_coordinates\n",
    "from astropy.wcs import WCS\n",
    "import astropy.units as u\n",
    "from astropy.coordinates import SkyCoord, funcs\n",
    "from astropy.nddata import Cutout2D\n",
    "from skimage.transform import rescale\n",
    "from pyLensLib.maputils import image_fit, map_obj, contour_fit\n",
    "\n",
    "# set up cosmology\n",
    "co = FlatLambdaCDM(H0=70.0, Om0=0.3)"
   ]
  },
  {
   "cell_type": "code",
   "execution_count": 3,
   "metadata": {},
   "outputs": [],
   "source": [
    "def rescale(image, newpix):\n",
    "    image_rescaled = skimage.transform.rescale(image, newpix/image.shape[0])\n",
    "    return image_rescaled\n",
    "\n",
    "def cutout_image(image, coords, fov=200.0):\n",
    "    \n",
    "    hdul=image\n",
    "    w = WCS(image)\n",
    "    image_ = hdul.data\n",
    "    size = u.Quantity((fov,fov), u.arcsec)\n",
    "    position_ = SkyCoord(coords, frame = 'fk5', unit = 'deg')\n",
    "    cutout_ = Cutout2D(image_, position_, size, wcs=w)\n",
    "    w_up = cutout_.wcs\n",
    "    header_ = w_up.to_header()\n",
    "    hdu_hst = pyfits.PrimaryHDU(cutout_.data, header=header_)\n",
    "    hdu_hst = formatNewHeader(hdu_hst, fov)\n",
    "    \n",
    "    return hdu_hst"
   ]
  },
  {
   "cell_type": "code",
   "execution_count": 3,
   "metadata": {},
   "outputs": [],
   "source": [
    "def formatHeaderForCut(a_x, a_y, pix):\n",
    "    \n",
    "    a_x.header[\"CRPIX1\"]  =  (a_x.shape[0]//2, \"Pixel coordinate of reference point\")            \n",
    "    a_x.header[\"CRPIX2\"]  =  (a_x.shape[0]//2, \"Pixel coordinate of reference point\")  \n",
    "    a_x.header[\"CRVAL1\"]  =  (0.0, \"[deg] Coordinate value at reference point\")      \n",
    "    a_x.header[\"CRVAL2\"]  =  (0.0, \"[deg] Coordinate value at reference point\")\n",
    "    a_x.header[\"CDELT1\"]  =  ( pix , \"[deg] Coordinate increment at reference point\")  \n",
    "    a_x.header[\"CDELT2\"]  =  ( pix , \"[deg] Coordinate increment at reference point\")  \n",
    "    a_x.header[\"CUNIT1\"]  =  (\"deg\", \"Units of coordinate increment and value\")        \n",
    "    a_x.header[\"CUNIT2\"]  =  (\"deg\", \"Units of coordinate increment and value\")        \n",
    "    a_x.header[\"CTYPE1\"]  =  (\"RA---TAN\", \"Right ascension, gnomonic projection\")          \n",
    "    a_x.header[\"CTYPE2\"]  =  (\"DEC--TAN\", \"Declination, gnomonic projection\") \n",
    "    \n",
    "    \n",
    "    a_y.header[\"CRPIX1\"]  =  (a_y.shape[0]//2, \"Pixel coordinate of reference point\")            \n",
    "    a_y.header[\"CRPIX2\"]  =  (a_y.shape[0]//2, \"Pixel coordinate of reference point\")  \n",
    "    a_y.header[\"CRVAL1\"]  =  (0.0, \"[deg] Coordinate value at reference point\")      \n",
    "    a_y.header[\"CRVAL2\"]  =  (0.0, \"[deg] Coordinate value at reference point\")\n",
    "    a_y.header[\"CDELT1\"]  =  ( pix , \"[deg] Coordinate increment at reference point\")  \n",
    "    a_y.header[\"CDELT2\"]  =  ( pix , \"[deg] Coordinate increment at reference point\")  \n",
    "    a_y.header[\"CUNIT1\"]  =  (\"deg\", \"Units of coordinate increment and value\")        \n",
    "    a_y.header[\"CUNIT2\"]  =  (\"deg\", \"Units of coordinate increment and value\")        \n",
    "    a_y.header[\"CTYPE1\"]  =  (\"RA---TAN\", \"Right ascension, gnomonic projection\")          \n",
    "    a_y.header[\"CTYPE2\"]  =  (\"DEC--TAN\", \"Declination, gnomonic projection\")\n",
    "    \n",
    "    a_x.header[\"RADESYS\"] = \"FK5\"\n",
    "    a_y.header[\"RADESYS\"] = \"FK5\"\n",
    "    \n",
    "    return a_x, a_y\n",
    "\n",
    "def formatNewHeader(hdu, fov):\n",
    "   \n",
    "    hdu.header[\"XMAX\"] = (fov/2, \"xMax arcsec\")\n",
    "    hdu.header[\"XMIN\"] = (-fov/2, \"xMin arcsec\")\n",
    "    hdu.header[\"YMAX\"] = (fov/2, \"yMax arcsec\")\n",
    "    hdu.header[\"YMIN\"] = (-fov/2, \"yMin arcsec\")\n",
    "    hdu.header[\"CRPIX1\"] = (hdu.shape[0]//2, \"Pixel coordinate of reference point\")\n",
    "    hdu.header[\"CRPIX2\"] = (hdu.shape[1]//2, \"Pixel coordinate of reference point\")\n",
    "    \n",
    "    del hdu.header[\"CRVAL1\"]\n",
    "    del hdu.header[\"CRVAL2\"]\n",
    "    \n",
    "    return hdu"
   ]
  },
  {
   "cell_type": "code",
   "execution_count": 4,
   "metadata": {},
   "outputs": [],
   "source": [
    "def formatHeaderDef(newAng, oldAng):\n",
    "    \n",
    "    hdu = pyfits.PrimaryHDU(newAng)\n",
    "    hdu.header[\"XMIN\"] = (oldAng.header[\"XMIN\"], \"xMin arcsec\")\n",
    "    hdu.header[\"XMAX\"] = (oldAng.header[\"XMAX\"], \"xMax arcsec\")\n",
    "    hdu.header[\"YMIN\"] = (oldAng.header[\"YMIN\"], \"yMin arcsec\")\n",
    "    hdu.header[\"YMAX\"] = (oldAng.header[\"YMAX\"], \"yMax arcsec\")\n",
    "    \n",
    "    return hdu\n",
    "\n",
    "def selImage(file_sim, mu_image, lens, cnt):\n",
    "    \n",
    "    x, y = lens.getCritPoints(cnt, pixel_units=True)\n",
    "    xmin, xmax, ymin, ymax = np.min(x), np.max(x), np.min(y), np.max(y)\n",
    "    lim = max(int(round(xmax-xmin)), int(round(ymax-ymin)))\n",
    "    xc, yc = (xmax-xmin)/2+xmin, (ymax-ymin)/2+ymin\n",
    "\n",
    "    cutSim = file_sim[int(round(yc-lim/2-1)):int(round(yc+lim/2+1)),int(round(xc-lim/2-1)):int(round(xc+lim/2+1))]\n",
    "    cutMap = mu_image[int(round(yc-lim/2-1)):int(round(yc+lim/2+1)),int(round(xc-lim/2-1)):int(round(xc+lim/2+1))]\n",
    "    \n",
    "    return cutSim, cutMap, xc, yc\n",
    "\n",
    "def check(cnt, lens, point):\n",
    "    \n",
    "    x, y = lens.getCritPoints(cnt, pixel_units=True)\n",
    "    xmin, xmax, ymin, ymax = np.min(x), np.max(x), np.min(y), np.max(y)\n",
    "    i = []\n",
    "    for p in point:\n",
    "        if p[0] >= xmin and p[0] <=xmax and p[1] >= ymin and p[1] <= ymax:\n",
    "            i.append([p[0],p[1]])\n",
    "    i = np.array(i)\n",
    "    \n",
    "    return i"
   ]
  },
  {
   "cell_type": "code",
   "execution_count": 5,
   "metadata": {},
   "outputs": [],
   "source": [
    "def multiple_images(se, noise_level, mu, mus, mask_unlensed, s, sFoldImages, xpos, ypos, pix, sz, model, lens, cntList, point):\n",
    "    \n",
    "    for i in range(len(cntList)):\n",
    "        \n",
    "        cutSim, cutMap, xc, yc = selImage(se.image, mu, lens, cntList[i])\n",
    "        \n",
    "        ai = image_fit(cutSim, ith= noise_level)\n",
    "        cen = ai.centroid()\n",
    "            \n",
    "        #mu_point = cutMap[int(cen[1]),int(cen[0])]\n",
    "        mask_lensed = cutSim > noise_level\n",
    "        \n",
    "        #ff, aa = plt.subplots(1,2,figsize=(10,10))\n",
    "        #aa[0].imshow(cutSim, origin=\"lower\", vmin=10e-6, vmax=10e-2, cmap=plt.cm.bone)\n",
    "        #aa[1].imshow(cutMap, origin=\"lower\", cmap=plt.cm.cubehelix)\n",
    "        \n",
    "        ratio_area = mask_lensed.sum()/mask_unlensed.sum()\n",
    "        ratio_flux = np.sum(cutSim*mask_lensed)/np.sum(se.image_unlensed*mask_unlensed)\n",
    "        mean_map = np.mean(cutMap[mask_lensed])\n",
    "        median_map = np.median(cutMap[mask_lensed])\n",
    "        weAvarage_map = np.average(cutMap[mask_lensed], weights=cutSim[mask_lensed])\n",
    "        #point_map = mu_point\n",
    "        \n",
    "        mu_flux = np.sum((mus * se.image_unlensed) * mask_unlensed)\n",
    "        flux = np.sum(se.image_unlensed * mask_unlensed)\n",
    "        mu_true = mu_flux / flux\n",
    "        \n",
    "        #aa[0].plot(cen[0], cen[1], \"o\", markersize=1, color=\"red\")\n",
    "        #aa[1].plot(cen[0], cen[1], \"o\", markersize=1, color=\"red\")\n",
    "        \n",
    "        pntInImage = check(cntList[i], lens, point)\n",
    "        if len(pntInImage)==0:\n",
    "            xi, yi = xc*pix-sz/2.0, yc*pix-sz/2.0\n",
    "            point_map = cutMap[int(cen[1]),int(cen[0])]\n",
    "            \n",
    "            s_entry = {'x': xpos,'y': ypos,\n",
    "                       'xi': xi,'yi': yi,\n",
    "                       'mus_true': mu_true, 'area_ratio': ratio_area,\n",
    "                       'flux_ratio': ratio_flux, model+'_mean_mu': mean_map,\n",
    "                       model+'_median_mu':  median_map, model+'_wfl_mu':weAvarage_map, model+'_mu_point': point_map}\n",
    "            s.append(s_entry)\n",
    "        else:\n",
    "            for n in pntInImage:\n",
    "                xi, yi = n[0]*pix-sz/2.0, n[1]*pix-sz/2.0\n",
    "                point_map = mu[int(n[1]),int(n[0])]\n",
    "            \n",
    "                s_entry = {'x': xpos,'y': ypos,\n",
    "                           'xi': xi,'yi': yi,\n",
    "                           'mus_true': mu_true, 'area_ratio': ratio_area,\n",
    "                           'flux_ratio': ratio_flux, model+'_mean_mu': mean_map,\n",
    "                           model+'_median_mu':  median_map, model+'_wfl_mu':weAvarage_map, model+'_mu_point': point_map}\n",
    "            \n",
    "                s.append(s_entry)\n",
    "        \n",
    "        if len(cntList) == 3 and len(point) == 3:\n",
    "            for n in pntInImage:\n",
    "                xi, yi = n[0]*pix-sz/2.0, n[1]*pix-sz/2.0\n",
    "                point_map = mu[int(n[1]),int(n[0])]\n",
    "                s_fold_entry = {'x': xpos,'y': ypos,\n",
    "                                'xi': xi,'yi': yi,\n",
    "                                'mus_true': mu_true, 'area_ratio': ratio_area,\n",
    "                                'flux_ratio': ratio_flux, model+'_mean_mu': mean_map,\n",
    "                                model+'_median_mu':  median_map, model+'_wfl_mu':weAvarage_map, model+'_mu_point': point_map, \n",
    "                                'flux': np.sum(cutSim*mask_lensed)} \n",
    "                sFoldImages.append(s_fold_entry)"
   ]
  },
  {
   "cell_type": "code",
   "execution_count": 6,
   "metadata": {},
   "outputs": [],
   "source": [
    "def sort_contours(contours):\n",
    "    c_all = []\n",
    "    j = 0\n",
    "    for contour in contours:\n",
    "        contour[:, 0], contour[:, 1] = contour[:, 1].copy(), contour[:, 0].copy()\n",
    "        ls = shapely.geometry.LineString(contour)\n",
    "        lr = shapely.geometry.LineString(ls.coords[:] + ls.coords[0:1])\n",
    "        mls = unary_union(lr)\n",
    "        mp = shapely.geometry.MultiPolygon(list(polygonize(mls)))\n",
    "        c = CriticalLine(j, mp)\n",
    "        c.setPoints(contour)\n",
    "        A = 0.0\n",
    "        for g in range(len(mp)):\n",
    "            A += mp[g].area\n",
    "        c.setArea(A)\n",
    "        c_all.append(c)\n",
    "        j += 1\n",
    "    c_sorted = sorted(c_all, key=lambda x: x.getArea(), reverse=True)\n",
    "    return (c_sorted)"
   ]
  },
  {
   "cell_type": "code",
   "execution_count": 7,
   "metadata": {},
   "outputs": [
    {
     "name": "stdout",
     "output_type": "stream",
     "text": [
      "Source's redshift: 6 - - - -\n",
      "Shape:  4080 px\n",
      "Fov: 203.88 arcsec\n",
      "Pixel:  0.05 arcsec\n",
      "Einstein's radius: 29.18 arcsec\n",
      "- - - - - - - - - - - - - - - - - - - \n"
     ]
    },
    {
     "name": "stderr",
     "output_type": "stream",
     "text": [
      "WARNING: FITSFixedWarning: RADECSYS= 'FK5 ' / RADECSYS \n",
      "the RADECSYS keyword is deprecated, use RADESYSa. [astropy.wcs.wcs]\n",
      "  0%|          | 0/2300 [00:00<?, ?it/s]"
     ]
    },
    {
     "name": "stdout",
     "output_type": "stream",
     "text": [
      "[-41.41222846]\n",
      "[-44.17892802]\n",
      "[1.860391]\n",
      "[0.0, 0.0]\n"
     ]
    },
    {
     "name": "stderr",
     "output_type": "stream",
     "text": [
      "  0%|          | 1/2300 [00:14<9:18:25, 14.57s/it]"
     ]
    },
    {
     "name": "stdout",
     "output_type": "stream",
     "text": [
      "[-40.51242096]\n",
      "[-44.3789212]\n",
      "[1.8753235]\n",
      "[0.0, 0.0]\n"
     ]
    },
    {
     "name": "stderr",
     "output_type": "stream",
     "text": [
      "  0%|          | 2/2300 [00:29<9:18:06, 14.57s/it]"
     ]
    },
    {
     "name": "stdout",
     "output_type": "stream",
     "text": [
      "[-39.57961521]\n",
      "[-44.61251023]\n",
      "[1.868341]\n",
      "[0.0, 0.0]\n"
     ]
    },
    {
     "name": "stderr",
     "output_type": "stream",
     "text": [
      "  0%|          | 3/2300 [00:44<9:23:03, 14.71s/it]"
     ]
    },
    {
     "name": "stdout",
     "output_type": "stream",
     "text": [
      "[-38.71269671]\n",
      "[-44.87887716]\n",
      "[1.8648925]\n",
      "[0.0, 0.0]\n"
     ]
    },
    {
     "name": "stderr",
     "output_type": "stream",
     "text": [
      "  0%|          | 4/2300 [00:59<9:24:40, 14.76s/it]"
     ]
    },
    {
     "name": "stdout",
     "output_type": "stream",
     "text": [
      "[-37.81281097]\n",
      "[-45.07886332]\n",
      "[1.8785052]\n",
      "[0.0, 0.0]\n"
     ]
    },
    {
     "name": "stderr",
     "output_type": "stream",
     "text": [
      "  0%|          | 5/2300 [01:13<9:20:02, 14.64s/it]"
     ]
    },
    {
     "name": "stdout",
     "output_type": "stream",
     "text": [
      "[-36.87980031]\n",
      "[-45.31235179]\n",
      "[1.8852092]\n",
      "[0.0, 0.0]\n"
     ]
    },
    {
     "name": "stderr",
     "output_type": "stream",
     "text": [
      "  0%|          | 6/2300 [01:27<9:16:12, 14.55s/it]"
     ]
    },
    {
     "name": "stdout",
     "output_type": "stream",
     "text": [
      "[-35.91303265]\n",
      "[-45.47883315]\n",
      "[1.8945237]\n",
      "[0.0, 0.0]\n"
     ]
    },
    {
     "name": "stderr",
     "output_type": "stream",
     "text": [
      "  0%|          | 7/2300 [01:42<9:14:21, 14.51s/it]"
     ]
    },
    {
     "name": "stdout",
     "output_type": "stream",
     "text": [
      "[-34.97996362]\n",
      "[-45.7122828]\n",
      "[1.9039522]\n",
      "[0.0, 0.0]\n"
     ]
    },
    {
     "name": "stderr",
     "output_type": "stream",
     "text": [
      "  0%|          | 8/2300 [01:56<9:12:05, 14.45s/it]"
     ]
    },
    {
     "name": "stdout",
     "output_type": "stream",
     "text": [
      "[-34.0132426]\n",
      "[-45.87879811]\n",
      "[1.9210199]\n",
      "[0.0, 0.0]\n"
     ]
    },
    {
     "name": "stderr",
     "output_type": "stream",
     "text": [
      "  0%|          | 9/2300 [02:11<9:13:56, 14.51s/it]"
     ]
    },
    {
     "name": "stdout",
     "output_type": "stream",
     "text": [
      "[-33.08013493]\n",
      "[-46.11222398]\n",
      "[1.9318593]\n",
      "[0.0, 0.0]\n"
     ]
    },
    {
     "name": "stderr",
     "output_type": "stream",
     "text": [
      "  0%|          | 10/2300 [02:25<9:10:18, 14.42s/it]"
     ]
    },
    {
     "name": "stdout",
     "output_type": "stream",
     "text": [
      "[-32.08022836]\n",
      "[-46.31219773]\n",
      "[1.9315981]\n",
      "[0.0, 0.0]\n"
     ]
    },
    {
     "name": "stderr",
     "output_type": "stream",
     "text": [
      "  0%|          | 11/2300 [02:39<9:07:34, 14.35s/it]"
     ]
    },
    {
     "name": "stdout",
     "output_type": "stream",
     "text": [
      "[-31.1135467]\n",
      "[-46.47874309]\n",
      "[1.9340333]\n",
      "[0.0, 0.0]\n"
     ]
    },
    {
     "name": "stderr",
     "output_type": "stream",
     "text": [
      "  1%|          | 12/2300 [02:55<9:24:56, 14.81s/it]"
     ]
    },
    {
     "name": "stdout",
     "output_type": "stream",
     "text": [
      "[-30.11364939]\n",
      "[-46.67872452]\n",
      "[1.959866]\n",
      "[0.0, 0.0]\n"
     ]
    },
    {
     "name": "stderr",
     "output_type": "stream",
     "text": [
      "  1%|          | 13/2300 [03:09<9:21:21, 14.73s/it]"
     ]
    },
    {
     "name": "stdout",
     "output_type": "stream",
     "text": [
      "[-29.11375106]\n",
      "[-46.87870642]\n",
      "[1.9827406]\n",
      "[0.0, 0.0]\n"
     ]
    },
    {
     "name": "stderr",
     "output_type": "stream",
     "text": [
      "  1%|          | 14/2300 [03:24<9:24:43, 14.82s/it]"
     ]
    },
    {
     "name": "stdout",
     "output_type": "stream",
     "text": [
      "[-27.98061887]\n",
      "[-47.01211106]\n",
      "[1.9781586]\n",
      "[0.0, 0.0]\n"
     ]
    },
    {
     "name": "stderr",
     "output_type": "stream",
     "text": [
      "  1%|          | 15/2300 [03:39<9:21:11, 14.74s/it]"
     ]
    },
    {
     "name": "stdout",
     "output_type": "stream",
     "text": [
      "[-27.01396607]\n",
      "[-47.17868051]\n",
      "[1.964811]\n",
      "[0.0, 0.0]\n"
     ]
    },
    {
     "name": "stderr",
     "output_type": "stream",
     "text": [
      "  1%|          | 16/2300 [03:53<9:17:16, 14.64s/it]"
     ]
    },
    {
     "name": "stdout",
     "output_type": "stream",
     "text": [
      "[-25.98080703]\n",
      "[-47.31207212]\n",
      "[1.9824197]\n",
      "[0.0, 0.0]\n"
     ]
    },
    {
     "name": "stderr",
     "output_type": "stream",
     "text": [
      "  1%|          | 17/2300 [04:08<9:12:08, 14.51s/it]"
     ]
    },
    {
     "name": "stdout",
     "output_type": "stream",
     "text": [
      "[-24.91417976]\n",
      "[-47.47865156]\n",
      "[2.003767]\n",
      "[0.0, 0.0]\n"
     ]
    },
    {
     "name": "stderr",
     "output_type": "stream",
     "text": [
      "  1%|          | 18/2300 [04:22<9:11:30, 14.50s/it]"
     ]
    },
    {
     "name": "stdout",
     "output_type": "stream",
     "text": [
      "[-23.88100712]\n",
      "[-47.61203751]\n",
      "[2.0016725]\n",
      "[0.0, 0.0]\n"
     ]
    },
    {
     "name": "stderr",
     "output_type": "stream",
     "text": [
      "  1%|          | 19/2300 [04:36<9:09:50, 14.46s/it]"
     ]
    },
    {
     "name": "stdout",
     "output_type": "stream",
     "text": [
      "[-22.81438915]\n",
      "[-47.77862066]\n",
      "[1.9671476]\n",
      "[0.0, 0.0]\n"
     ]
    },
    {
     "name": "stderr",
     "output_type": "stream",
     "text": [
      "  1%|          | 20/2300 [04:51<9:05:07, 14.35s/it]"
     ]
    },
    {
     "name": "stdout",
     "output_type": "stream",
     "text": [
      "[-21.78120881]\n",
      "[-47.91200503]\n",
      "[1.9520153]\n",
      "[0.0, 0.0]\n"
     ]
    },
    {
     "name": "stderr",
     "output_type": "stream",
     "text": [
      "  1%|          | 21/2300 [05:05<9:00:26, 14.23s/it]"
     ]
    },
    {
     "name": "stdout",
     "output_type": "stream",
     "text": [
      "[-20.71459786]\n",
      "[-47.97860061]\n",
      "[1.9515121]\n",
      "[0.0, 0.0]\n"
     ]
    },
    {
     "name": "stderr",
     "output_type": "stream",
     "text": [
      "  1%|          | 22/2300 [05:19<9:00:21, 14.23s/it]"
     ]
    },
    {
     "name": "stdout",
     "output_type": "stream",
     "text": [
      "[-19.68141102]\n",
      "[-48.11198205]\n",
      "[1.9438444]\n",
      "[0.0, 0.0]\n"
     ]
    },
    {
     "name": "stderr",
     "output_type": "stream",
     "text": [
      "  1%|          | 23/2300 [05:33<8:58:21, 14.19s/it]"
     ]
    },
    {
     "name": "stdout",
     "output_type": "stream",
     "text": [
      "[-18.68150595]\n",
      "[-48.21197004]\n",
      "[1.94378]\n",
      "[0.0, 0.0]\n"
     ]
    },
    {
     "name": "stderr",
     "output_type": "stream",
     "text": [
      "  1%|          | 24/2300 [05:47<8:58:13, 14.19s/it]"
     ]
    },
    {
     "name": "stdout",
     "output_type": "stream",
     "text": [
      "[-17.61490802]\n",
      "[-48.27856866]\n",
      "[1.9411633]\n",
      "[0.0, 0.0]\n"
     ]
    },
    {
     "name": "stderr",
     "output_type": "stream",
     "text": [
      "  1%|          | 25/2300 [06:01<8:59:04, 14.22s/it]"
     ]
    },
    {
     "name": "stdout",
     "output_type": "stream",
     "text": [
      "[-16.61500828]\n",
      "[-48.37855771]\n",
      "[1.9531151]\n",
      "[0.0, 0.0]\n"
     ]
    },
    {
     "name": "stderr",
     "output_type": "stream",
     "text": [
      "  1%|          | 26/2300 [06:16<9:01:02, 14.28s/it]"
     ]
    },
    {
     "name": "stdout",
     "output_type": "stream",
     "text": [
      "[-15.51511868]\n",
      "[-48.4785467]\n",
      "[1.9829398]\n",
      "[0.0, 0.0]\n"
     ]
    },
    {
     "name": "stderr",
     "output_type": "stream",
     "text": [
      "  1%|          | 27/2300 [06:30<9:03:41, 14.35s/it]"
     ]
    },
    {
     "name": "stdout",
     "output_type": "stream",
     "text": [
      "[-14.51521851]\n",
      "[-48.57853585]\n",
      "[2.008424]\n",
      "[0.0, 0.0]\n"
     ]
    },
    {
     "name": "stderr",
     "output_type": "stream",
     "text": [
      "  1%|          | 28/2300 [06:45<9:06:06, 14.42s/it]"
     ]
    },
    {
     "name": "stdout",
     "output_type": "stream",
     "text": [
      "[-13.41532792]\n",
      "[-48.57853577]\n",
      "[2.0318592]\n",
      "[0.0, 0.0]\n"
     ]
    },
    {
     "name": "stderr",
     "output_type": "stream",
     "text": [
      "  1%|▏         | 29/2300 [06:59<9:04:36, 14.39s/it]"
     ]
    },
    {
     "name": "stdout",
     "output_type": "stream",
     "text": [
      "[-12.38210788]\n",
      "[-48.71190969]\n",
      "[2.0309353]\n",
      "[0.0, 0.0]\n"
     ]
    },
    {
     "name": "stderr",
     "output_type": "stream",
     "text": [
      "  1%|▏         | 30/2300 [07:13<9:02:23, 14.34s/it]"
     ]
    },
    {
     "name": "stdout",
     "output_type": "stream",
     "text": [
      "[-11.31553603]\n",
      "[-48.77851691]\n",
      "[2.011541]\n",
      "[0.0, 0.0]\n"
     ]
    },
    {
     "name": "stderr",
     "output_type": "stream",
     "text": [
      "  1%|▏         | 31/2300 [07:28<9:03:01, 14.36s/it]"
     ]
    },
    {
     "name": "stdout",
     "output_type": "stream",
     "text": [
      "[-10.28231452]\n",
      "[-48.81189908]\n",
      "[2.0218558]\n",
      "[0.0, 0.0]\n"
     ]
    },
    {
     "name": "stderr",
     "output_type": "stream",
     "text": [
      "  1%|▏         | 32/2300 [07:41<8:54:18, 14.14s/it]"
     ]
    },
    {
     "name": "stdout",
     "output_type": "stream",
     "text": [
      "[-9.21574238]\n",
      "[-48.87850796]\n",
      "[2.0340126]\n",
      "[0.0, 0.0]\n"
     ]
    },
    {
     "name": "stderr",
     "output_type": "stream",
     "text": [
      "  1%|▏         | 33/2300 [07:55<8:52:07, 14.08s/it]"
     ]
    },
    {
     "name": "stdout",
     "output_type": "stream",
     "text": [
      "[-8.18251973]\n",
      "[-48.91188846]\n",
      "[2.027445]\n",
      "[0.0, 0.0]\n"
     ]
    },
    {
     "name": "stderr",
     "output_type": "stream",
     "text": [
      "  1%|▏         | 34/2300 [08:10<8:54:56, 14.16s/it]"
     ]
    },
    {
     "name": "stdout",
     "output_type": "stream",
     "text": [
      "[-7.11594883]\n",
      "[-48.87850672]\n",
      "[2.0378866]\n",
      "[0.0, 0.0]\n"
     ]
    },
    {
     "name": "stderr",
     "output_type": "stream",
     "text": [
      "  2%|▏         | 35/2300 [08:24<8:57:40, 14.24s/it]"
     ]
    },
    {
     "name": "stdout",
     "output_type": "stream",
     "text": [
      "[-6.11604648]\n",
      "[-48.97849529]\n",
      "[2.0636175]\n",
      "[0.0, 0.0]\n"
     ]
    },
    {
     "name": "stderr",
     "output_type": "stream",
     "text": [
      "  2%|▏         | 36/2300 [08:39<8:59:11, 14.29s/it]"
     ]
    },
    {
     "name": "stdout",
     "output_type": "stream",
     "text": [
      "[-5.11614412]\n",
      "[-48.97849374]\n",
      "[2.0883884]\n",
      "[0.0, 0.0]\n"
     ]
    },
    {
     "name": "stderr",
     "output_type": "stream",
     "text": [
      "  2%|▏         | 37/2300 [08:53<9:00:48, 14.34s/it]"
     ]
    },
    {
     "name": "stdout",
     "output_type": "stream",
     "text": [
      "[-4.01625214]\n",
      "[-48.9784924]\n",
      "[2.1462703]\n",
      "[0.0, 0.0]\n"
     ]
    },
    {
     "name": "stderr",
     "output_type": "stream",
     "text": [
      "  2%|▏         | 38/2300 [09:07<9:00:13, 14.33s/it]"
     ]
    },
    {
     "name": "stdout",
     "output_type": "stream",
     "text": [
      "[-2.98302347]\n",
      "[-49.01187886]\n",
      "[2.2344446]\n",
      "[0.0, 0.0]\n"
     ]
    },
    {
     "name": "stderr",
     "output_type": "stream",
     "text": [
      "  2%|▏         | 39/2300 [09:22<8:59:41, 14.32s/it]"
     ]
    },
    {
     "name": "stdout",
     "output_type": "stream",
     "text": [
      "[-1.91645874]\n",
      "[-48.97849076]\n",
      "[2.3417878]\n",
      "[0.0, 0.0]\n"
     ]
    },
    {
     "name": "stderr",
     "output_type": "stream",
     "text": [
      "  2%|▏         | 40/2300 [09:36<9:00:58, 14.36s/it]"
     ]
    },
    {
     "name": "stdout",
     "output_type": "stream",
     "text": [
      "[-0.8165667]\n",
      "[-48.97849018]\n",
      "[2.493997]\n",
      "[0.0, 0.0]\n"
     ]
    },
    {
     "name": "stderr",
     "output_type": "stream",
     "text": [
      "  2%|▏         | 41/2300 [09:50<8:56:38, 14.25s/it]"
     ]
    },
    {
     "name": "stdout",
     "output_type": "stream",
     "text": [
      "[0.31665521]\n",
      "[-49.01187878]\n",
      "[2.759076]\n",
      "[0.0, 0.0]\n"
     ]
    },
    {
     "name": "stderr",
     "output_type": "stream",
     "text": [
      "  2%|▏         | 42/2300 [10:04<8:56:01, 14.24s/it]"
     ]
    },
    {
     "name": "stdout",
     "output_type": "stream",
     "text": [
      "[9.38244006 1.51653749 7.51594703]\n",
      "[-47.37864014 -49.01188029 -48.1119734 ]\n",
      "[10.7619    3.303831 11.041098]\n",
      "[0.0, 0.0]\n",
      "[0.0, 0.0]\n",
      "[0.0, 0.0]\n"
     ]
    },
    {
     "name": "stderr",
     "output_type": "stream",
     "text": [
      "  2%|▏         | 43/2300 [10:19<9:03:37, 14.45s/it]"
     ]
    },
    {
     "name": "stdout",
     "output_type": "stream",
     "text": [
      "[ 5.98277218 11.28225465  3.01638838]\n",
      "[-48.87849587 -46.97867875 -49.11187285]\n",
      "[6.0784173 4.343235  5.26805  ]\n",
      "[0.0, 0.0]\n",
      "[0.0, 0.0]\n",
      "[0.0, 0.0]\n"
     ]
    },
    {
     "name": "stderr",
     "output_type": "stream",
     "text": [
      "  2%|▏         | 44/2300 [10:36<9:25:50, 15.05s/it]"
     ]
    },
    {
     "name": "stdout",
     "output_type": "stream",
     "text": [
      "[12.7154369]\n",
      "[-46.71211303]\n",
      "[3.5187545]\n",
      "[0.0, 0.0]\n"
     ]
    },
    {
     "name": "stderr",
     "output_type": "stream",
     "text": [
      "  2%|▏         | 45/2300 [10:50<9:15:52, 14.79s/it]"
     ]
    },
    {
     "name": "stdout",
     "output_type": "stream",
     "text": [
      "[14.01530853]\n",
      "[-46.41214293]\n",
      "[3.1302702]\n",
      "[0.0, 0.0]\n"
     ]
    },
    {
     "name": "stderr",
     "output_type": "stream",
     "text": [
      "  2%|▏         | 46/2300 [11:04<9:10:32, 14.66s/it]"
     ]
    },
    {
     "name": "stdout",
     "output_type": "stream",
     "text": [
      "[15.18187357]\n",
      "[-46.17875805]\n",
      "[2.8321402]\n",
      "[0.0, 0.0]\n"
     ]
    },
    {
     "name": "stderr",
     "output_type": "stream",
     "text": [
      "  2%|▏         | 47/2300 [11:18<9:04:27, 14.50s/it]"
     ]
    },
    {
     "name": "stdout",
     "output_type": "stream",
     "text": [
      "[16.3817561]\n",
      "[-45.87878888]\n",
      "[2.7598667]\n",
      "[0.0, 0.0]\n"
     ]
    },
    {
     "name": "stderr",
     "output_type": "stream",
     "text": [
      "  2%|▏         | 48/2300 [11:33<9:01:02, 14.41s/it]"
     ]
    },
    {
     "name": "stdout",
     "output_type": "stream",
     "text": [
      "[17.48164787]\n",
      "[-45.67881004]\n",
      "[2.7912667]\n",
      "[0.0, 0.0]\n"
     ]
    },
    {
     "name": "stderr",
     "output_type": "stream",
     "text": [
      "  2%|▏         | 49/2300 [11:47<8:56:56, 14.31s/it]"
     ]
    },
    {
     "name": "stdout",
     "output_type": "stream",
     "text": [
      "[18.68153009]\n",
      "[-45.37884173]\n",
      "[2.8405457]\n",
      "[0.0, 0.0]\n"
     ]
    },
    {
     "name": "stderr",
     "output_type": "stream",
     "text": [
      "  2%|▏         | 50/2300 [12:01<8:55:22, 14.28s/it]"
     ]
    },
    {
     "name": "stdout",
     "output_type": "stream",
     "text": [
      "[-41.61201429]\n",
      "[-43.37902127]\n",
      "[1.8614168]\n",
      "[0.0, 0.0]\n"
     ]
    },
    {
     "name": "stderr",
     "output_type": "stream",
     "text": [
      "  2%|▏         | 51/2300 [12:15<8:51:28, 14.18s/it]"
     ]
    },
    {
     "name": "stdout",
     "output_type": "stream",
     "text": [
      "[-40.71231448]\n",
      "[-43.57900603]\n",
      "[1.8694701]\n",
      "[0.0, 0.0]\n"
     ]
    },
    {
     "name": "stderr",
     "output_type": "stream",
     "text": [
      "  2%|▏         | 52/2300 [12:29<8:52:15, 14.21s/it]"
     ]
    },
    {
     "name": "stdout",
     "output_type": "stream",
     "text": [
      "[-39.81250124]\n",
      "[-43.87896495]\n",
      "[1.8752979]\n",
      "[0.0, 0.0]\n"
     ]
    },
    {
     "name": "stderr",
     "output_type": "stream",
     "text": [
      "  2%|▏         | 53/2300 [12:43<8:51:13, 14.18s/it]"
     ]
    },
    {
     "name": "stdout",
     "output_type": "stream",
     "text": [
      "[-38.91264512]\n",
      "[-44.07895501]\n",
      "[1.8798884]\n",
      "[0.0, 0.0]\n"
     ]
    },
    {
     "name": "stderr",
     "output_type": "stream",
     "text": [
      "  2%|▏         | 54/2300 [12:57<8:52:16, 14.22s/it]"
     ]
    },
    {
     "name": "stdout",
     "output_type": "stream",
     "text": [
      "[-38.01276964]\n",
      "[-44.27894172]\n",
      "[1.8987103]\n",
      "[0.0, 0.0]\n"
     ]
    },
    {
     "name": "stderr",
     "output_type": "stream",
     "text": [
      "  2%|▏         | 55/2300 [13:12<8:51:24, 14.20s/it]"
     ]
    },
    {
     "name": "stdout",
     "output_type": "stream",
     "text": [
      "[-37.07979725]\n",
      "[-44.51244705]\n",
      "[1.9080298]\n",
      "[0.0, 0.0]\n"
     ]
    },
    {
     "name": "stderr",
     "output_type": "stream",
     "text": [
      "  2%|▏         | 56/2300 [13:26<8:52:21, 14.23s/it]"
     ]
    },
    {
     "name": "stdout",
     "output_type": "stream",
     "text": [
      "[-36.11300078]\n",
      "[-44.67891225]\n",
      "[1.918569]\n",
      "[0.0, 0.0]\n"
     ]
    },
    {
     "name": "stderr",
     "output_type": "stream",
     "text": [
      "  2%|▏         | 57/2300 [13:40<8:55:26, 14.32s/it]"
     ]
    },
    {
     "name": "stdout",
     "output_type": "stream",
     "text": [
      "[-35.17995404]\n",
      "[-44.91237172]\n",
      "[1.9313326]\n",
      "[0.0, 0.0]\n"
     ]
    },
    {
     "name": "stderr",
     "output_type": "stream",
     "text": [
      "  3%|▎         | 58/2300 [13:54<8:47:22, 14.11s/it]"
     ]
    },
    {
     "name": "stdout",
     "output_type": "stream",
     "text": [
      "[-34.21321442]\n",
      "[-45.17886313]\n",
      "[1.9407725]\n",
      "[0.0, 0.0]\n"
     ]
    },
    {
     "name": "stderr",
     "output_type": "stream",
     "text": [
      "  3%|▎         | 59/2300 [14:08<8:45:27, 14.07s/it]"
     ]
    },
    {
     "name": "stdout",
     "output_type": "stream",
     "text": [
      "[-33.28011874]\n",
      "[-45.41229986]\n",
      "[1.9526469]\n",
      "[0.0, 0.0]\n"
     ]
    },
    {
     "name": "stderr",
     "output_type": "stream",
     "text": [
      "  3%|▎         | 60/2300 [14:22<8:48:28, 14.16s/it]"
     ]
    },
    {
     "name": "stdout",
     "output_type": "stream",
     "text": [
      "[-32.31341807]\n",
      "[-45.57882765]\n",
      "[1.967247]\n",
      "[0.0, 0.0]\n"
     ]
    },
    {
     "name": "stderr",
     "output_type": "stream",
     "text": [
      "  3%|▎         | 61/2300 [14:37<8:51:26, 14.24s/it]"
     ]
    },
    {
     "name": "stdout",
     "output_type": "stream",
     "text": [
      "[-31.3135226]\n",
      "[-45.77880969]\n",
      "[1.9683222]\n",
      "[0.0, 0.0]\n"
     ]
    },
    {
     "name": "stderr",
     "output_type": "stream",
     "text": [
      "  3%|▎         | 62/2300 [14:51<8:51:07, 14.24s/it]"
     ]
    },
    {
     "name": "stdout",
     "output_type": "stream",
     "text": [
      "[-30.31362596]\n",
      "[-45.97879125]\n",
      "[1.9879935]\n",
      "[0.0, 0.0]\n"
     ]
    },
    {
     "name": "stderr",
     "output_type": "stream",
     "text": [
      "  3%|▎         | 63/2300 [15:05<8:51:52, 14.27s/it]"
     ]
    },
    {
     "name": "stdout",
     "output_type": "stream",
     "text": [
      "[-29.28049521]\n",
      "[-46.11220704]\n",
      "[2.0313883]\n",
      "[0.0, 0.0]\n"
     ]
    },
    {
     "name": "stderr",
     "output_type": "stream",
     "text": [
      "  3%|▎         | 64/2300 [15:20<8:51:46, 14.27s/it]"
     ]
    },
    {
     "name": "stdout",
     "output_type": "stream",
     "text": [
      "[-28.18060116]\n",
      "[-46.31218336]\n",
      "[2.03285]\n",
      "[0.0, 0.0]\n"
     ]
    },
    {
     "name": "stderr",
     "output_type": "stream",
     "text": [
      "  3%|▎         | 65/2300 [15:34<8:49:32, 14.22s/it]"
     ]
    },
    {
     "name": "stdout",
     "output_type": "stream",
     "text": [
      "[-27.11395276]\n",
      "[-46.47874815]\n",
      "[2.0033457]\n",
      "[0.0, 0.0]\n"
     ]
    },
    {
     "name": "stderr",
     "output_type": "stream",
     "text": [
      "  3%|▎         | 66/2300 [15:48<8:48:39, 14.20s/it]"
     ]
    },
    {
     "name": "stdout",
     "output_type": "stream",
     "text": [
      "[-26.11405612]\n",
      "[-46.67872902]\n",
      "[2.0000546]\n",
      "[0.0, 0.0]\n"
     ]
    },
    {
     "name": "stderr",
     "output_type": "stream",
     "text": [
      "  3%|▎         | 67/2300 [16:02<8:51:17, 14.28s/it]"
     ]
    },
    {
     "name": "stdout",
     "output_type": "stream",
     "text": [
      "[-25.01416848]\n",
      "[-46.77872032]\n",
      "[2.0308597]\n",
      "[0.0, 0.0]\n"
     ]
    },
    {
     "name": "stderr",
     "output_type": "stream",
     "text": [
      "  3%|▎         | 68/2300 [16:16<8:43:32, 14.07s/it]"
     ]
    },
    {
     "name": "stdout",
     "output_type": "stream",
     "text": [
      "[-23.98099858]\n",
      "[-46.91210721]\n",
      "[2.0397503]\n",
      "[0.0, 0.0]\n"
     ]
    },
    {
     "name": "stderr",
     "output_type": "stream",
     "text": [
      "  3%|▎         | 69/2300 [16:30<8:43:21, 14.08s/it]"
     ]
    },
    {
     "name": "stdout",
     "output_type": "stream",
     "text": [
      "[-22.91437858]\n",
      "[-47.07868971]\n",
      "[2.005907]\n",
      "[0.0, 0.0]\n"
     ]
    },
    {
     "name": "stderr",
     "output_type": "stream",
     "text": [
      "  3%|▎         | 70/2300 [16:44<8:45:46, 14.15s/it]"
     ]
    },
    {
     "name": "stdout",
     "output_type": "stream",
     "text": [
      "[-21.88119981]\n",
      "[-47.21207434]\n",
      "[1.9741715]\n",
      "[0.0, 0.0]\n"
     ]
    },
    {
     "name": "stderr",
     "output_type": "stream",
     "text": [
      "  3%|▎         | 71/2300 [16:59<8:48:28, 14.23s/it]"
     ]
    },
    {
     "name": "stdout",
     "output_type": "stream",
     "text": [
      "[-20.81458712]\n",
      "[-47.27866918]\n",
      "[1.9763801]\n",
      "[0.0, 0.0]\n"
     ]
    },
    {
     "name": "stderr",
     "output_type": "stream",
     "text": [
      "  3%|▎         | 72/2300 [17:13<8:49:41, 14.26s/it]"
     ]
    },
    {
     "name": "stdout",
     "output_type": "stream",
     "text": [
      "[-19.78140195]\n",
      "[-47.41205191]\n",
      "[1.9840031]\n",
      "[0.0, 0.0]\n"
     ]
    },
    {
     "name": "stderr",
     "output_type": "stream",
     "text": [
      "  3%|▎         | 73/2300 [17:28<8:53:56, 14.39s/it]"
     ]
    },
    {
     "name": "stdout",
     "output_type": "stream",
     "text": [
      "[-18.78149658]\n",
      "[-47.51203976]\n",
      "[1.9867249]\n",
      "[0.0, 0.0]\n"
     ]
    },
    {
     "name": "stderr",
     "output_type": "stream",
     "text": [
      "  3%|▎         | 74/2300 [17:42<8:52:14, 14.35s/it]"
     ]
    },
    {
     "name": "stdout",
     "output_type": "stream",
     "text": [
      "[-17.68160117]\n",
      "[-47.61202776]\n",
      "[1.978397]\n",
      "[0.0, 0.0]\n"
     ]
    },
    {
     "name": "stderr",
     "output_type": "stream",
     "text": [
      "  3%|▎         | 75/2300 [17:56<8:49:34, 14.28s/it]"
     ]
    },
    {
     "name": "stdout",
     "output_type": "stream",
     "text": [
      "[-16.68169614]\n",
      "[-47.712016]\n",
      "[1.9787022]\n",
      "[0.0, 0.0]\n"
     ]
    },
    {
     "name": "stderr",
     "output_type": "stream",
     "text": [
      "  3%|▎         | 76/2300 [18:10<8:48:06, 14.25s/it]"
     ]
    },
    {
     "name": "stdout",
     "output_type": "stream",
     "text": [
      "[-15.61510783]\n",
      "[-47.77861481]\n",
      "[2.0078135]\n",
      "[0.0, 0.0]\n"
     ]
    },
    {
     "name": "stderr",
     "output_type": "stream",
     "text": [
      "  3%|▎         | 77/2300 [18:25<8:50:07, 14.31s/it]"
     ]
    },
    {
     "name": "stdout",
     "output_type": "stream",
     "text": [
      "[-14.58189547]\n",
      "[-47.91199179]\n",
      "[2.0231194]\n",
      "[0.0, 0.0]\n"
     ]
    },
    {
     "name": "stderr",
     "output_type": "stream",
     "text": [
      "  3%|▎         | 78/2300 [18:39<8:43:59, 14.15s/it]"
     ]
    },
    {
     "name": "stdout",
     "output_type": "stream",
     "text": [
      "[-13.51531735]\n",
      "[-47.97859411]\n",
      "[2.0445733]\n",
      "[0.0, 0.0]\n"
     ]
    },
    {
     "name": "stderr",
     "output_type": "stream",
     "text": [
      "  3%|▎         | 79/2300 [18:53<8:43:31, 14.14s/it]"
     ]
    },
    {
     "name": "stdout",
     "output_type": "stream",
     "text": [
      "[-12.41542679]\n",
      "[-47.97859431]\n",
      "[2.0616927]\n",
      "[0.0, 0.0]\n"
     ]
    },
    {
     "name": "stderr",
     "output_type": "stream",
     "text": [
      "  3%|▎         | 80/2300 [19:07<8:45:55, 14.21s/it]"
     ]
    },
    {
     "name": "stdout",
     "output_type": "stream",
     "text": [
      "[-11.38220585]\n",
      "[-48.11196838]\n",
      "[2.0475562]\n",
      "[0.0, 0.0]\n"
     ]
    },
    {
     "name": "stderr",
     "output_type": "stream",
     "text": [
      "  4%|▎         | 81/2300 [19:21<8:47:32, 14.26s/it]"
     ]
    },
    {
     "name": "stdout",
     "output_type": "stream",
     "text": [
      "[-10.28231438]\n",
      "[-48.11196831]\n",
      "[2.057856]\n",
      "[0.0, 0.0]\n"
     ]
    },
    {
     "name": "stderr",
     "output_type": "stream",
     "text": [
      "  4%|▎         | 82/2300 [19:36<8:47:44, 14.28s/it]"
     ]
    },
    {
     "name": "stdout",
     "output_type": "stream",
     "text": [
      "[-9.28241217]\n",
      "[-48.21195819]\n",
      "[2.0643065]\n",
      "[0.0, 0.0]\n"
     ]
    },
    {
     "name": "stderr",
     "output_type": "stream",
     "text": [
      "  4%|▎         | 83/2300 [19:50<8:47:18, 14.27s/it]"
     ]
    },
    {
     "name": "stdout",
     "output_type": "stream",
     "text": [
      "[-8.18251932]\n",
      "[-48.21195751]\n",
      "[2.0619266]\n",
      "[0.0, 0.0]\n"
     ]
    },
    {
     "name": "stderr",
     "output_type": "stream",
     "text": [
      "  4%|▎         | 84/2300 [20:04<8:46:52, 14.27s/it]"
     ]
    },
    {
     "name": "stdout",
     "output_type": "stream",
     "text": [
      "[-7.18261603]\n",
      "[-48.21195693]\n",
      "[2.0747113]\n",
      "[0.0, 0.0]\n"
     ]
    },
    {
     "name": "stderr",
     "output_type": "stream",
     "text": [
      "  4%|▎         | 85/2300 [20:18<8:45:40, 14.24s/it]"
     ]
    },
    {
     "name": "stdout",
     "output_type": "stream",
     "text": [
      "[-6.08272234]\n",
      "[-48.21195682]\n",
      "[2.1108067]\n",
      "[0.0, 0.0]\n"
     ]
    },
    {
     "name": "stderr",
     "output_type": "stream",
     "text": [
      "  4%|▎         | 86/2300 [20:33<8:44:35, 14.22s/it]"
     ]
    },
    {
     "name": "stdout",
     "output_type": "stream",
     "text": [
      "[-5.11614449]\n",
      "[-48.27856176]\n",
      "[2.1392078]\n",
      "[0.0, 0.0]\n"
     ]
    },
    {
     "name": "stderr",
     "output_type": "stream",
     "text": [
      "  4%|▍         | 87/2300 [20:47<8:47:56, 14.31s/it]"
     ]
    },
    {
     "name": "stdout",
     "output_type": "stream",
     "text": [
      "[-4.0162521]\n",
      "[-48.27856028]\n",
      "[2.2022727]\n",
      "[0.0, 0.0]\n"
     ]
    },
    {
     "name": "stderr",
     "output_type": "stream",
     "text": [
      "  4%|▍         | 88/2300 [21:01<8:40:29, 14.12s/it]"
     ]
    },
    {
     "name": "stdout",
     "output_type": "stream",
     "text": [
      "[-2.98302282]\n",
      "[-48.21195741]\n",
      "[2.288121]\n",
      "[0.0, 0.0]\n"
     ]
    },
    {
     "name": "stderr",
     "output_type": "stream",
     "text": [
      "  4%|▍         | 89/2300 [21:15<8:41:16, 14.15s/it]"
     ]
    },
    {
     "name": "stdout",
     "output_type": "stream",
     "text": [
      "[-1.88312996]\n",
      "[-48.21195741]\n",
      "[2.400348]\n",
      "[0.0, 0.0]\n"
     ]
    },
    {
     "name": "stderr",
     "output_type": "stream",
     "text": [
      "  4%|▍         | 90/2300 [21:29<8:40:28, 14.13s/it]"
     ]
    },
    {
     "name": "stdout",
     "output_type": "stream",
     "text": [
      "[-0.81656654]\n",
      "[-48.17856784]\n",
      "[2.5644908]\n",
      "[0.0, 0.0]\n"
     ]
    },
    {
     "name": "stderr",
     "output_type": "stream",
     "text": [
      "  4%|▍         | 91/2300 [21:43<8:41:47, 14.17s/it]"
     ]
    },
    {
     "name": "stdout",
     "output_type": "stream",
     "text": [
      "[0.28332528]\n",
      "[-48.17856713]\n",
      "[2.8417027]\n",
      "[0.0, 0.0]\n"
     ]
    },
    {
     "name": "stderr",
     "output_type": "stream",
     "text": [
      "  4%|▍         | 92/2300 [21:58<8:46:18, 14.30s/it]"
     ]
    },
    {
     "name": "stdout",
     "output_type": "stream",
     "text": [
      "[6.68270374 1.5165395  9.81572348]\n",
      "[-46.67870894 -48.11196735 -46.21216105]\n",
      "[7.617993  3.4950151 7.005538 ]\n",
      "[0.0, 0.0]\n",
      "[0.0, 0.0]\n",
      "[0.0, 0.0]\n"
     ]
    },
    {
     "name": "stderr",
     "output_type": "stream",
     "text": [
      "  4%|▍         | 93/2300 [22:14<9:04:15, 14.80s/it]"
     ]
    },
    {
     "name": "stdout",
     "output_type": "stream",
     "text": [
      "[ 5.38283021  3.11637941 11.61554592]\n",
      "[-47.37864198 -48.01198007 -45.91219117]\n",
      "[8.596517  6.730857  4.0472064]\n",
      "[0.0, 0.0]\n",
      "[0.0, 0.0]\n",
      "[0.0, 0.0]\n"
     ]
    },
    {
     "name": "stderr",
     "output_type": "stream",
     "text": [
      "  4%|▍         | 94/2300 [22:30<9:21:52, 15.28s/it]"
     ]
    },
    {
     "name": "stdout",
     "output_type": "stream",
     "text": [
      "[12.98208888]\n",
      "[-45.67880553]\n",
      "[3.4696546]\n",
      "[0.0, 0.0]\n"
     ]
    },
    {
     "name": "stderr",
     "output_type": "stream",
     "text": [
      "  4%|▍         | 95/2300 [22:45<9:09:02, 14.94s/it]"
     ]
    },
    {
     "name": "stdout",
     "output_type": "stream",
     "text": [
      "[14.21528896]\n",
      "[-45.51223151]\n",
      "[3.0817173]\n",
      "[0.0, 0.0]\n"
     ]
    },
    {
     "name": "stderr",
     "output_type": "stream",
     "text": [
      "  4%|▍         | 96/2300 [22:59<8:59:58, 14.70s/it]"
     ]
    },
    {
     "name": "stdout",
     "output_type": "stream",
     "text": [
      "[15.41516981]\n",
      "[-45.31225148]\n",
      "[2.8441072]\n",
      "[0.0, 0.0]\n"
     ]
    },
    {
     "name": "stderr",
     "output_type": "stream",
     "text": [
      "  4%|▍         | 97/2300 [23:13<8:58:09, 14.66s/it]"
     ]
    },
    {
     "name": "stdout",
     "output_type": "stream",
     "text": [
      "[16.61504998]\n",
      "[-45.01228128]\n",
      "[2.8548076]\n",
      "[0.0, 0.0]\n"
     ]
    },
    {
     "name": "stderr",
     "output_type": "stream",
     "text": [
      "  4%|▍         | 98/2300 [23:28<8:53:51, 14.55s/it]"
     ]
    },
    {
     "name": "stdout",
     "output_type": "stream",
     "text": [
      "[17.78161883]\n",
      "[-44.77889937]\n",
      "[2.9023416]\n",
      "[0.0, 0.0]\n"
     ]
    },
    {
     "name": "stderr",
     "output_type": "stream",
     "text": [
      "  4%|▍         | 99/2300 [23:42<8:51:28, 14.49s/it]"
     ]
    },
    {
     "name": "stdout",
     "output_type": "stream",
     "text": [
      "[18.98150095]\n",
      "[-44.47893163]\n",
      "[2.9471557]\n",
      "[0.0, 0.0]\n"
     ]
    },
    {
     "name": "stderr",
     "output_type": "stream",
     "text": [
      "  4%|▍         | 100/2300 [23:56<8:51:05, 14.48s/it]"
     ]
    },
    {
     "name": "stdout",
     "output_type": "stream",
     "text": [
      "[-41.88051133]\n",
      "[-42.61413589]\n",
      "[1.882506]\n",
      "[0.0, 0.0]\n"
     ]
    },
    {
     "name": "stderr",
     "output_type": "stream",
     "text": [
      "  4%|▍         | 101/2300 [24:10<8:45:28, 14.34s/it]"
     ]
    },
    {
     "name": "stdout",
     "output_type": "stream",
     "text": [
      "[-40.97972717]\n",
      "[-42.91305465]\n",
      "[1.8668431]\n",
      "[0.0, 0.0]\n"
     ]
    },
    {
     "name": "stderr",
     "output_type": "stream",
     "text": [
      "  4%|▍         | 102/2300 [24:24<8:40:56, 14.22s/it]"
     ]
    },
    {
     "name": "stdout",
     "output_type": "stream",
     "text": [
      "[-40.07966719]\n",
      "[-43.11280633]\n",
      "[1.8729801]\n",
      "[0.0, 0.0]\n"
     ]
    },
    {
     "name": "stderr",
     "output_type": "stream",
     "text": [
      "  4%|▍         | 103/2300 [24:39<8:40:41, 14.22s/it]"
     ]
    },
    {
     "name": "stdout",
     "output_type": "stream",
     "text": [
      "[-39.11257833]\n",
      "[-43.27903261]\n",
      "[1.8887047]\n",
      "[0.0, 0.0]\n"
     ]
    },
    {
     "name": "stderr",
     "output_type": "stream",
     "text": [
      "  5%|▍         | 104/2300 [24:53<8:38:38, 14.17s/it]"
     ]
    },
    {
     "name": "stdout",
     "output_type": "stream",
     "text": [
      "[-38.21271921]\n",
      "[-43.47902017]\n",
      "[1.9160718]\n",
      "[0.0, 0.0]\n"
     ]
    },
    {
     "name": "stderr",
     "output_type": "stream",
     "text": [
      "  5%|▍         | 105/2300 [25:07<8:38:04, 14.16s/it]"
     ]
    },
    {
     "name": "stdout",
     "output_type": "stream",
     "text": [
      "[-37.27980015]\n",
      "[-43.71254785]\n",
      "[1.9385684]\n",
      "[0.0, 0.0]\n"
     ]
    },
    {
     "name": "stderr",
     "output_type": "stream",
     "text": [
      "  5%|▍         | 106/2300 [25:21<8:40:41, 14.24s/it]"
     ]
    },
    {
     "name": "stdout",
     "output_type": "stream",
     "text": [
      "[-36.37986023]\n",
      "[-44.01249213]\n",
      "[1.940141]\n",
      "[0.0, 0.0]\n"
     ]
    },
    {
     "name": "stderr",
     "output_type": "stream",
     "text": [
      "  5%|▍         | 107/2300 [25:35<8:38:52, 14.20s/it]"
     ]
    },
    {
     "name": "stdout",
     "output_type": "stream",
     "text": [
      "[-35.4130728]\n",
      "[-44.17895884]\n",
      "[1.9609051]\n",
      "[0.0, 0.0]\n"
     ]
    },
    {
     "name": "stderr",
     "output_type": "stream",
     "text": [
      "  5%|▍         | 108/2300 [25:49<8:37:32, 14.17s/it]"
     ]
    },
    {
     "name": "stdout",
     "output_type": "stream",
     "text": [
      "[-34.41318544]\n",
      "[-44.3789413]\n",
      "[1.9791006]\n",
      "[0.0, 0.0]\n"
     ]
    },
    {
     "name": "stderr",
     "output_type": "stream",
     "text": [
      "  5%|▍         | 109/2300 [26:04<8:37:35, 14.17s/it]"
     ]
    },
    {
     "name": "stdout",
     "output_type": "stream",
     "text": [
      "[-33.48010608]\n",
      "[-44.61238673]\n",
      "[1.9771373]\n",
      "[0.0, 0.0]\n"
     ]
    },
    {
     "name": "stderr",
     "output_type": "stream",
     "text": [
      "  5%|▍         | 110/2300 [26:18<8:36:05, 14.14s/it]"
     ]
    },
    {
     "name": "stdout",
     "output_type": "stream",
     "text": [
      "[-32.4801973]\n",
      "[-44.81235764]\n",
      "[1.985705]\n",
      "[0.0, 0.0]\n"
     ]
    },
    {
     "name": "stderr",
     "output_type": "stream",
     "text": [
      "  5%|▍         | 111/2300 [26:32<8:39:25, 14.24s/it]"
     ]
    },
    {
     "name": "stdout",
     "output_type": "stream",
     "text": [
      "[-31.48028968]\n",
      "[-45.01233009]\n",
      "[1.9952693]\n",
      "[0.0, 0.0]\n"
     ]
    },
    {
     "name": "stderr",
     "output_type": "stream",
     "text": [
      "  5%|▍         | 112/2300 [26:46<8:34:46, 14.12s/it]"
     ]
    },
    {
     "name": "stdout",
     "output_type": "stream",
     "text": [
      "[-30.48038283]\n",
      "[-45.21230389]\n",
      "[2.020625]\n",
      "[0.0, 0.0]\n"
     ]
    },
    {
     "name": "stderr",
     "output_type": "stream",
     "text": [
      "  5%|▍         | 113/2300 [27:00<8:36:12, 14.16s/it]"
     ]
    },
    {
     "name": "stdout",
     "output_type": "stream",
     "text": [
      "[-29.48047765]\n",
      "[-45.41227936]\n",
      "[2.0788555]\n",
      "[0.0, 0.0]\n"
     ]
    },
    {
     "name": "stderr",
     "output_type": "stream",
     "text": [
      "  5%|▍         | 114/2300 [27:14<8:36:09, 14.17s/it]"
     ]
    },
    {
     "name": "stdout",
     "output_type": "stream",
     "text": [
      "[-28.38058364]\n",
      "[-45.61225559]\n",
      "[2.1132505]\n",
      "[0.0, 0.0]\n"
     ]
    },
    {
     "name": "stderr",
     "output_type": "stream",
     "text": [
      "  5%|▌         | 115/2300 [27:28<8:35:28, 14.15s/it]"
     ]
    },
    {
     "name": "stdout",
     "output_type": "stream",
     "text": [
      "[-27.31392924]\n",
      "[-45.7788153]\n",
      "[2.0778449]\n",
      "[0.0, 0.0]\n"
     ]
    },
    {
     "name": "stderr",
     "output_type": "stream",
     "text": [
      "  5%|▌         | 116/2300 [27:43<8:36:29, 14.19s/it]"
     ]
    },
    {
     "name": "stdout",
     "output_type": "stream",
     "text": [
      "[-26.21404285]\n",
      "[-45.97879658]\n",
      "[2.0393782]\n",
      "[0.0, 0.0]\n"
     ]
    },
    {
     "name": "stderr",
     "output_type": "stream",
     "text": [
      "  5%|▌         | 117/2300 [27:57<8:36:16, 14.19s/it]"
     ]
    },
    {
     "name": "stdout",
     "output_type": "stream",
     "text": [
      "[-25.18088518]\n",
      "[-46.11219122]\n",
      "[2.0529368]\n",
      "[0.0, 0.0]\n"
     ]
    },
    {
     "name": "stderr",
     "output_type": "stream",
     "text": [
      "  5%|▌         | 118/2300 [28:11<8:40:07, 14.30s/it]"
     ]
    },
    {
     "name": "stdout",
     "output_type": "stream",
     "text": [
      "[-24.08098987]\n",
      "[-46.21217715]\n",
      "[2.0732439]\n",
      "[0.0, 0.0]\n"
     ]
    },
    {
     "name": "stderr",
     "output_type": "stream",
     "text": [
      "  5%|▌         | 119/2300 [28:26<8:39:06, 14.28s/it]"
     ]
    },
    {
     "name": "stdout",
     "output_type": "stream",
     "text": [
      "[-23.08108518]\n",
      "[-46.41215546]\n",
      "[2.0500944]\n",
      "[0.0, 0.0]\n"
     ]
    },
    {
     "name": "stderr",
     "output_type": "stream",
     "text": [
      "  5%|▌         | 120/2300 [28:40<8:38:03, 14.26s/it]"
     ]
    },
    {
     "name": "stdout",
     "output_type": "stream",
     "text": [
      "[-21.98119079]\n",
      "[-46.51214373]\n",
      "[2.0055497]\n",
      "[0.0, 0.0]\n"
     ]
    },
    {
     "name": "stderr",
     "output_type": "stream",
     "text": [
      "  5%|▌         | 121/2300 [28:54<8:38:57, 14.29s/it]"
     ]
    },
    {
     "name": "stdout",
     "output_type": "stream",
     "text": [
      "[-20.9812871]\n",
      "[-46.61213272]\n",
      "[1.9971704]\n",
      "[0.0, 0.0]\n"
     ]
    },
    {
     "name": "stderr",
     "output_type": "stream",
     "text": [
      "  5%|▌         | 122/2300 [29:09<8:38:50, 14.29s/it]"
     ]
    },
    {
     "name": "stdout",
     "output_type": "stream",
     "text": [
      "[-19.88139291]\n",
      "[-46.71212149]\n",
      "[2.0354712]\n",
      "[0.0, 0.0]\n"
     ]
    },
    {
     "name": "stderr",
     "output_type": "stream",
     "text": [
      "  5%|▌         | 123/2300 [29:23<8:37:56, 14.27s/it]"
     ]
    },
    {
     "name": "stdout",
     "output_type": "stream",
     "text": [
      "[-18.91477632]\n",
      "[-46.87870572]\n",
      "[2.018942]\n",
      "[0.0, 0.0]\n"
     ]
    },
    {
     "name": "stderr",
     "output_type": "stream",
     "text": [
      "  5%|▌         | 124/2300 [29:37<8:35:04, 14.20s/it]"
     ]
    },
    {
     "name": "stdout",
     "output_type": "stream",
     "text": [
      "[-17.78159179]\n",
      "[-46.91209741]\n",
      "[2.0110052]\n",
      "[0.0, 0.0]\n"
     ]
    },
    {
     "name": "stderr",
     "output_type": "stream",
     "text": [
      "  5%|▌         | 125/2300 [29:51<8:37:32, 14.28s/it]"
     ]
    },
    {
     "name": "stdout",
     "output_type": "stream",
     "text": [
      "[-16.78168685]\n",
      "[-47.01208565]\n",
      "[2.0037007]\n",
      "[0.0, 0.0]\n"
     ]
    },
    {
     "name": "stderr",
     "output_type": "stream",
     "text": [
      "  5%|▌         | 126/2300 [30:05<8:36:07, 14.24s/it]"
     ]
    },
    {
     "name": "stdout",
     "output_type": "stream",
     "text": [
      "[-15.68179128]\n",
      "[-47.11207335]\n",
      "[2.0264232]\n",
      "[0.0, 0.0]\n"
     ]
    },
    {
     "name": "stderr",
     "output_type": "stream",
     "text": [
      "  6%|▌         | 127/2300 [30:20<8:35:27, 14.23s/it]"
     ]
    },
    {
     "name": "stdout",
     "output_type": "stream",
     "text": [
      "[-14.68188622]\n",
      "[-47.21206134]\n",
      "[2.0393543]\n",
      "[0.0, 0.0]\n"
     ]
    },
    {
     "name": "stderr",
     "output_type": "stream",
     "text": [
      "  6%|▌         | 128/2300 [30:34<8:35:49, 14.25s/it]"
     ]
    },
    {
     "name": "stdout",
     "output_type": "stream",
     "text": [
      "[-13.61530673]\n",
      "[-47.27866239]\n",
      "[2.0692668]\n",
      "[0.0, 0.0]\n"
     ]
    },
    {
     "name": "stderr",
     "output_type": "stream",
     "text": [
      "  6%|▌         | 129/2300 [30:48<8:31:15, 14.13s/it]"
     ]
    },
    {
     "name": "stdout",
     "output_type": "stream",
     "text": [
      "[-12.51541618]\n",
      "[-47.37865261]\n",
      "[2.094333]\n",
      "[0.0, 0.0]\n"
     ]
    },
    {
     "name": "stderr",
     "output_type": "stream",
     "text": [
      "  6%|▌         | 130/2300 [31:02<8:31:52, 14.15s/it]"
     ]
    },
    {
     "name": "stdout",
     "output_type": "stream",
     "text": [
      "[-11.41552516]\n",
      "[-47.37865323]\n",
      "[2.094583]\n",
      "[0.0, 0.0]\n"
     ]
    },
    {
     "name": "stderr",
     "output_type": "stream",
     "text": [
      "  6%|▌         | 131/2300 [31:16<8:33:05, 14.19s/it]"
     ]
    },
    {
     "name": "stdout",
     "output_type": "stream",
     "text": [
      "[-10.31563318]\n",
      "[-47.47864366]\n",
      "[2.088649]\n",
      "[0.0, 0.0]\n"
     ]
    },
    {
     "name": "stderr",
     "output_type": "stream",
     "text": [
      "  6%|▌         | 132/2300 [31:30<8:31:22, 14.15s/it]"
     ]
    },
    {
     "name": "stdout",
     "output_type": "stream",
     "text": [
      "[-9.28241212]\n",
      "[-47.51202729]\n",
      "[2.0981936]\n",
      "[0.0, 0.0]\n"
     ]
    },
    {
     "name": "stderr",
     "output_type": "stream",
     "text": [
      "  6%|▌         | 133/2300 [31:45<8:34:32, 14.25s/it]"
     ]
    },
    {
     "name": "stdout",
     "output_type": "stream",
     "text": [
      "[-8.21584017]\n",
      "[-47.47864371]\n",
      "[2.098335]\n",
      "[0.0, 0.0]\n"
     ]
    },
    {
     "name": "stderr",
     "output_type": "stream",
     "text": [
      "  6%|▌         | 134/2300 [31:59<8:29:11, 14.10s/it]"
     ]
    },
    {
     "name": "stdout",
     "output_type": "stream",
     "text": [
      "[-7.18261551]\n",
      "[-47.51202569]\n",
      "[2.1112278]\n",
      "[0.0, 0.0]\n"
     ]
    },
    {
     "name": "stderr",
     "output_type": "stream",
     "text": [
      "  6%|▌         | 135/2300 [32:13<8:27:59, 14.08s/it]"
     ]
    },
    {
     "name": "stdout",
     "output_type": "stream",
     "text": [
      "[-6.11604739]\n",
      "[-47.4786415]\n",
      "[2.1581607]\n",
      "[0.0, 0.0]\n"
     ]
    },
    {
     "name": "stderr",
     "output_type": "stream",
     "text": [
      "  6%|▌         | 136/2300 [32:27<8:31:05, 14.17s/it]"
     ]
    },
    {
     "name": "stdout",
     "output_type": "stream",
     "text": [
      "[-5.08281845]\n",
      "[-47.51202531]\n",
      "[2.2109818]\n",
      "[0.0, 0.0]\n"
     ]
    },
    {
     "name": "stderr",
     "output_type": "stream",
     "text": [
      "  6%|▌         | 137/2300 [32:41<8:29:28, 14.13s/it]"
     ]
    },
    {
     "name": "stdout",
     "output_type": "stream",
     "text": [
      "[-4.01625254]\n",
      "[-47.47863844]\n",
      "[2.2741451]\n",
      "[0.0, 0.0]\n"
     ]
    },
    {
     "name": "stderr",
     "output_type": "stream",
     "text": [
      "  6%|▌         | 138/2300 [32:55<8:27:44, 14.09s/it]"
     ]
    },
    {
     "name": "stdout",
     "output_type": "stream",
     "text": [
      "[-2.98302226]\n",
      "[-47.51202602]\n",
      "[2.3402686]\n",
      "[0.0, 0.0]\n"
     ]
    },
    {
     "name": "stderr",
     "output_type": "stream",
     "text": [
      "  6%|▌         | 139/2300 [33:09<8:29:45, 14.15s/it]"
     ]
    },
    {
     "name": "stdout",
     "output_type": "stream",
     "text": [
      "[-1.88312937]\n",
      "[-47.41203574]\n",
      "[2.471163]\n",
      "[0.0, 0.0]\n"
     ]
    },
    {
     "name": "stderr",
     "output_type": "stream",
     "text": [
      "  6%|▌         | 140/2300 [33:24<8:31:56, 14.22s/it]"
     ]
    },
    {
     "name": "stdout",
     "output_type": "stream",
     "text": [
      "[-0.78323651]\n",
      "[-47.4120359]\n",
      "[2.6577911]\n",
      "[0.0, 0.0]\n"
     ]
    },
    {
     "name": "stderr",
     "output_type": "stream",
     "text": [
      "  6%|▌         | 141/2300 [33:38<8:31:36, 14.22s/it]"
     ]
    },
    {
     "name": "stdout",
     "output_type": "stream",
     "text": [
      "[0.38331589]\n",
      "[-47.27865406]\n",
      "[3.0239525]\n",
      "[0.0, 0.0]\n"
     ]
    },
    {
     "name": "stderr",
     "output_type": "stream",
     "text": [
      "  6%|▌         | 142/2300 [33:52<8:34:43, 14.31s/it]"
     ]
    },
    {
     "name": "stdout",
     "output_type": "stream",
     "text": [
      "[ 1.6831882   6.11608814 10.01570416]\n",
      "[-47.17866253 -45.61221843 -45.11226996]\n",
      "[3.915742 6.006955 6.021052]\n",
      "[0.0, 0.0]\n",
      "[0.0, 0.0]\n",
      "[0.0, 0.0]\n"
     ]
    },
    {
     "name": "stderr",
     "output_type": "stream",
     "text": [
      "  6%|▌         | 143/2300 [34:09<8:53:36, 14.84s/it]"
     ]
    },
    {
     "name": "stdout",
     "output_type": "stream",
     "text": [
      "[11.78220641]\n",
      "[-44.97887298]\n",
      "[3.9172359]\n",
      "[0.0, 0.0]\n"
     ]
    },
    {
     "name": "stderr",
     "output_type": "stream",
     "text": [
      "  6%|▋         | 144/2300 [34:24<9:00:44, 15.05s/it]"
     ]
    },
    {
     "name": "stdout",
     "output_type": "stream",
     "text": [
      "[13.18206971]\n",
      "[-44.77889342]\n",
      "[3.390766]\n",
      "[0.0, 0.0]\n"
     ]
    },
    {
     "name": "stderr",
     "output_type": "stream",
     "text": [
      "  6%|▋         | 145/2300 [34:38<8:49:58, 14.76s/it]"
     ]
    },
    {
     "name": "stdout",
     "output_type": "stream",
     "text": [
      "[14.41526882]\n",
      "[-44.61231998]\n",
      "[3.02931]\n",
      "[0.0, 0.0]\n"
     ]
    },
    {
     "name": "stderr",
     "output_type": "stream",
     "text": [
      "  6%|▋         | 146/2300 [34:52<8:41:32, 14.53s/it]"
     ]
    },
    {
     "name": "stdout",
     "output_type": "stream",
     "text": [
      "[15.68182496]\n",
      "[-44.37893569]\n",
      "[2.9139366]\n",
      "[0.0, 0.0]\n"
     ]
    },
    {
     "name": "stderr",
     "output_type": "stream",
     "text": [
      "  6%|▋         | 147/2300 [35:07<8:40:52, 14.52s/it]"
     ]
    },
    {
     "name": "stdout",
     "output_type": "stream",
     "text": [
      "[16.91501907]\n",
      "[-44.11236972]\n",
      "[2.955119]\n",
      "[0.0, 0.0]\n"
     ]
    },
    {
     "name": "stderr",
     "output_type": "stream",
     "text": [
      "  6%|▋         | 148/2300 [35:20<8:32:33, 14.29s/it]"
     ]
    },
    {
     "name": "stdout",
     "output_type": "stream",
     "text": [
      "[18.08158966]\n",
      "[-43.87898951]\n",
      "[3.0187852]\n",
      "[0.0, 0.0]\n"
     ]
    },
    {
     "name": "stderr",
     "output_type": "stream",
     "text": [
      "  6%|▋         | 149/2300 [35:35<8:32:18, 14.29s/it]"
     ]
    },
    {
     "name": "stdout",
     "output_type": "stream",
     "text": [
      "[19.31477873]\n",
      "[-43.51242802]\n",
      "[3.002291]\n",
      "[0.0, 0.0]\n"
     ]
    },
    {
     "name": "stderr",
     "output_type": "stream",
     "text": [
      "  7%|▋         | 150/2300 [35:49<8:29:30, 14.22s/it]"
     ]
    },
    {
     "name": "stdout",
     "output_type": "stream",
     "text": [
      "[-42.07727627]\n",
      "[-41.80977549]\n",
      "[1.9266303]\n",
      "[0.0, 0.0]\n"
     ]
    },
    {
     "name": "stderr",
     "output_type": "stream",
     "text": [
      "  7%|▋         | 151/2300 [36:02<8:24:27, 14.08s/it]"
     ]
    },
    {
     "name": "stdout",
     "output_type": "stream",
     "text": [
      "[-41.21153462]\n",
      "[-42.07887869]\n",
      "[1.8918597]\n",
      "[0.0, 0.0]\n"
     ]
    },
    {
     "name": "stderr",
     "output_type": "stream",
     "text": [
      "  7%|▋         | 152/2300 [36:17<8:25:33, 14.12s/it]"
     ]
    },
    {
     "name": "stdout",
     "output_type": "stream",
     "text": [
      "[-40.27980156]\n",
      "[-42.3130778]\n",
      "[1.8734666]\n",
      "[0.0, 0.0]\n"
     ]
    },
    {
     "name": "stderr",
     "output_type": "stream",
     "text": [
      "  7%|▋         | 153/2300 [36:31<8:24:28, 14.10s/it]"
     ]
    },
    {
     "name": "stdout",
     "output_type": "stream",
     "text": [
      "[-39.37973676]\n",
      "[-42.51285058]\n",
      "[1.8837055]\n",
      "[0.0, 0.0]\n"
     ]
    },
    {
     "name": "stderr",
     "output_type": "stream",
     "text": [
      "  7%|▋         | 154/2300 [36:45<8:25:22, 14.13s/it]"
     ]
    },
    {
     "name": "stdout",
     "output_type": "stream",
     "text": [
      "[-38.47975077]\n",
      "[-42.71273596]\n",
      "[1.9130994]\n",
      "[0.0, 0.0]\n"
     ]
    },
    {
     "name": "stderr",
     "output_type": "stream",
     "text": [
      "  7%|▋         | 155/2300 [36:59<8:25:59, 14.15s/it]"
     ]
    },
    {
     "name": "stdout",
     "output_type": "stream",
     "text": [
      "[-37.51279367]\n",
      "[-42.97906491]\n",
      "[1.9523956]\n",
      "[0.0, 0.0]\n"
     ]
    },
    {
     "name": "stderr",
     "output_type": "stream",
     "text": [
      "  7%|▋         | 156/2300 [37:14<8:27:50, 14.21s/it]"
     ]
    },
    {
     "name": "stdout",
     "output_type": "stream",
     "text": [
      "[-36.57986091]\n",
      "[-43.2125925]\n",
      "[1.9738265]\n",
      "[0.0, 0.0]\n"
     ]
    },
    {
     "name": "stderr",
     "output_type": "stream",
     "text": [
      "  7%|▋         | 157/2300 [37:28<8:26:42, 14.19s/it]"
     ]
    },
    {
     "name": "stdout",
     "output_type": "stream",
     "text": [
      "[-35.5799393]\n",
      "[-43.41254594]\n",
      "[1.9894404]\n",
      "[0.0, 0.0]\n"
     ]
    },
    {
     "name": "stderr",
     "output_type": "stream",
     "text": [
      "  7%|▋         | 158/2300 [37:42<8:28:00, 14.23s/it]"
     ]
    },
    {
     "name": "stdout",
     "output_type": "stream",
     "text": [
      "[-34.61315514]\n",
      "[-43.57902033]\n",
      "[2.0130124]\n",
      "[0.0, 0.0]\n"
     ]
    },
    {
     "name": "stderr",
     "output_type": "stream",
     "text": [
      "  7%|▋         | 159/2300 [37:56<8:25:43, 14.17s/it]"
     ]
    },
    {
     "name": "stdout",
     "output_type": "stream",
     "text": [
      "[-33.71325592]\n",
      "[-43.87898709]\n",
      "[2.008384]\n",
      "[0.0, 0.0]\n"
     ]
    },
    {
     "name": "stderr",
     "output_type": "stream",
     "text": [
      "  7%|▋         | 160/2300 [38:10<8:25:10, 14.16s/it]"
     ]
    },
    {
     "name": "stdout",
     "output_type": "stream",
     "text": [
      "[-32.71336448]\n",
      "[-44.07896982]\n",
      "[2.0021627]\n",
      "[0.0, 0.0]\n"
     ]
    },
    {
     "name": "stderr",
     "output_type": "stream",
     "text": [
      "  7%|▋         | 161/2300 [38:24<8:25:25, 14.18s/it]"
     ]
    },
    {
     "name": "stdout",
     "output_type": "stream",
     "text": [
      "[-31.71347122]\n",
      "[-44.27895273]\n",
      "[2.0079577]\n",
      "[0.0, 0.0]\n"
     ]
    },
    {
     "name": "stderr",
     "output_type": "stream",
     "text": [
      "  7%|▋         | 162/2300 [38:39<8:26:02, 14.20s/it]"
     ]
    },
    {
     "name": "stdout",
     "output_type": "stream",
     "text": [
      "[-30.71357697]\n",
      "[-44.47893522]\n",
      "[2.0359418]\n",
      "[0.0, 0.0]\n"
     ]
    },
    {
     "name": "stderr",
     "output_type": "stream",
     "text": [
      "  7%|▋         | 163/2300 [38:53<8:25:45, 14.20s/it]"
     ]
    },
    {
     "name": "stdout",
     "output_type": "stream",
     "text": [
      "[-29.68046033]\n",
      "[-44.71235231]\n",
      "[2.111029]\n",
      "[0.0, 0.0]\n"
     ]
    },
    {
     "name": "stderr",
     "output_type": "stream",
     "text": [
      "  7%|▋         | 164/2300 [39:07<8:29:00, 14.30s/it]"
     ]
    },
    {
     "name": "stdout",
     "output_type": "stream",
     "text": [
      "[-28.61379359]\n",
      "[-44.87890087]\n",
      "[2.2010155]\n",
      "[0.0, 0.0]\n"
     ]
    },
    {
     "name": "stderr",
     "output_type": "stream",
     "text": [
      "  7%|▋         | 165/2300 [39:21<8:24:15, 14.17s/it]"
     ]
    },
    {
     "name": "stdout",
     "output_type": "stream",
     "text": [
      "[-27.48067107]\n",
      "[-45.11230351]\n",
      "[2.1759112]\n",
      "[0.0, 0.0]\n"
     ]
    },
    {
     "name": "stderr",
     "output_type": "stream",
     "text": [
      "  7%|▋         | 166/2300 [39:35<8:23:39, 14.16s/it]"
     ]
    },
    {
     "name": "stdout",
     "output_type": "stream",
     "text": [
      "[-26.41401941]\n",
      "[-45.27886398]\n",
      "[2.105064]\n",
      "[0.0, 0.0]\n"
     ]
    },
    {
     "name": "stderr",
     "output_type": "stream",
     "text": [
      "  7%|▋         | 167/2300 [39:50<8:26:04, 14.24s/it]"
     ]
    },
    {
     "name": "stdout",
     "output_type": "stream",
     "text": [
      "[-25.31413283]\n",
      "[-45.37885497]\n",
      "[2.0847027]\n",
      "[0.0, 0.0]\n"
     ]
    },
    {
     "name": "stderr",
     "output_type": "stream",
     "text": [
      "  7%|▋         | 168/2300 [40:03<8:18:34, 14.03s/it]"
     ]
    },
    {
     "name": "stdout",
     "output_type": "stream",
     "text": [
      "[-24.28097167]\n",
      "[-45.51224889]\n",
      "[2.0956652]\n",
      "[0.0, 0.0]\n"
     ]
    },
    {
     "name": "stderr",
     "output_type": "stream",
     "text": [
      "  7%|▋         | 169/2300 [40:17<8:19:24, 14.06s/it]"
     ]
    },
    {
     "name": "stdout",
     "output_type": "stream",
     "text": [
      "[-23.21434652]\n",
      "[-45.67882643]\n",
      "[2.0902414]\n",
      "[0.0, 0.0]\n"
     ]
    },
    {
     "name": "stderr",
     "output_type": "stream",
     "text": [
      "  7%|▋         | 170/2300 [40:31<8:18:47, 14.05s/it]"
     ]
    },
    {
     "name": "stdout",
     "output_type": "stream",
     "text": [
      "[-22.11445679]\n",
      "[-45.77881646]\n",
      "[2.0460527]\n",
      "[0.0, 0.0]\n"
     ]
    },
    {
     "name": "stderr",
     "output_type": "stream",
     "text": [
      "  7%|▋         | 171/2300 [40:46<8:20:45, 14.11s/it]"
     ]
    },
    {
     "name": "stdout",
     "output_type": "stream",
     "text": [
      "[-21.08127779]\n",
      "[-45.91220219]\n",
      "[2.0288436]\n",
      "[0.0, 0.0]\n"
     ]
    },
    {
     "name": "stderr",
     "output_type": "stream",
     "text": [
      "  7%|▋         | 172/2300 [41:00<8:21:02, 14.13s/it]"
     ]
    },
    {
     "name": "stdout",
     "output_type": "stream",
     "text": [
      "[-20.01466535]\n",
      "[-46.07878523]\n",
      "[2.07901]\n",
      "[0.0, 0.0]\n"
     ]
    },
    {
     "name": "stderr",
     "output_type": "stream",
     "text": [
      "  8%|▊         | 173/2300 [41:14<8:25:46, 14.27s/it]"
     ]
    },
    {
     "name": "stdout",
     "output_type": "stream",
     "text": [
      "[-18.98147792]\n",
      "[-46.21216945]\n",
      "[2.048826]\n",
      "[0.0, 0.0]\n"
     ]
    },
    {
     "name": "stderr",
     "output_type": "stream",
     "text": [
      "  8%|▊         | 174/2300 [41:29<8:26:56, 14.31s/it]"
     ]
    },
    {
     "name": "stdout",
     "output_type": "stream",
     "text": [
      "[-17.91487568]\n",
      "[-46.2787629]\n",
      "[2.0348516]\n",
      "[0.0, 0.0]\n"
     ]
    },
    {
     "name": "stderr",
     "output_type": "stream",
     "text": [
      "  8%|▊         | 175/2300 [41:43<8:27:30, 14.33s/it]"
     ]
    },
    {
     "name": "stdout",
     "output_type": "stream",
     "text": [
      "[-16.81498572]\n",
      "[-46.37875211]\n",
      "[2.022256]\n",
      "[0.0, 0.0]\n"
     ]
    },
    {
     "name": "stderr",
     "output_type": "stream",
     "text": [
      "  8%|▊         | 176/2300 [41:58<8:26:24, 14.31s/it]"
     ]
    },
    {
     "name": "stdout",
     "output_type": "stream",
     "text": [
      "[-15.78178221]\n",
      "[-46.41214314]\n",
      "[2.0360181]\n",
      "[0.0, 0.0]\n"
     ]
    },
    {
     "name": "stderr",
     "output_type": "stream",
     "text": [
      "  8%|▊         | 177/2300 [42:12<8:27:26, 14.34s/it]"
     ]
    },
    {
     "name": "stdout",
     "output_type": "stream",
     "text": [
      "[-14.71519657]\n",
      "[-46.47874081]\n",
      "[2.0622191]\n",
      "[0.0, 0.0]\n"
     ]
    },
    {
     "name": "stderr",
     "output_type": "stream",
     "text": [
      "  8%|▊         | 178/2300 [42:26<8:24:29, 14.26s/it]"
     ]
    },
    {
     "name": "stdout",
     "output_type": "stream",
     "text": [
      "[-13.68198286]\n",
      "[-46.61211944]\n",
      "[2.1012802]\n",
      "[0.0, 0.0]\n"
     ]
    },
    {
     "name": "stderr",
     "output_type": "stream",
     "text": [
      "  8%|▊         | 179/2300 [42:41<8:27:21, 14.35s/it]"
     ]
    },
    {
     "name": "stdout",
     "output_type": "stream",
     "text": [
      "[-12.58208937]\n",
      "[-46.71210823]\n",
      "[2.139119]\n",
      "[0.0, 0.0]\n"
     ]
    },
    {
     "name": "stderr",
     "output_type": "stream",
     "text": [
      "  8%|▊         | 180/2300 [42:55<8:24:58, 14.29s/it]"
     ]
    },
    {
     "name": "stdout",
     "output_type": "stream",
     "text": [
      "[-11.48219648]\n",
      "[-46.71210685]\n",
      "[2.1445134]\n",
      "[0.0, 0.0]\n"
     ]
    },
    {
     "name": "stderr",
     "output_type": "stream",
     "text": [
      "  8%|▊         | 181/2300 [43:09<8:24:36, 14.29s/it]"
     ]
    },
    {
     "name": "stdout",
     "output_type": "stream",
     "text": [
      "[-10.4156231]\n",
      "[-46.77871186]\n",
      "[2.1242774]\n",
      "[0.0, 0.0]\n"
     ]
    },
    {
     "name": "stderr",
     "output_type": "stream",
     "text": [
      "  8%|▊         | 182/2300 [43:23<8:25:05, 14.31s/it]"
     ]
    },
    {
     "name": "stdout",
     "output_type": "stream",
     "text": [
      "[-9.31573117]\n",
      "[-46.77871209]\n",
      "[2.132511]\n",
      "[0.0, 0.0]\n"
     ]
    },
    {
     "name": "stderr",
     "output_type": "stream",
     "text": [
      "  8%|▊         | 183/2300 [43:38<8:24:26, 14.30s/it]"
     ]
    },
    {
     "name": "stdout",
     "output_type": "stream",
     "text": [
      "[-8.21583986]\n",
      "[-46.77871196]\n",
      "[2.1369896]\n",
      "[0.0, 0.0]\n"
     ]
    },
    {
     "name": "stderr",
     "output_type": "stream",
     "text": [
      "  8%|▊         | 184/2300 [43:52<8:23:13, 14.27s/it]"
     ]
    },
    {
     "name": "stdout",
     "output_type": "stream",
     "text": [
      "[-7.18261523]\n",
      "[-46.81209443]\n",
      "[2.1497314]\n",
      "[0.0, 0.0]\n"
     ]
    },
    {
     "name": "stderr",
     "output_type": "stream",
     "text": [
      "  8%|▊         | 185/2300 [44:07<8:35:57, 14.64s/it]"
     ]
    },
    {
     "name": "stdout",
     "output_type": "stream",
     "text": [
      "[-6.11604756]\n",
      "[-46.77870985]\n",
      "[2.1995156]\n",
      "[0.0, 0.0]\n"
     ]
    },
    {
     "name": "stderr",
     "output_type": "stream",
     "text": [
      "  8%|▊         | 186/2300 [44:24<9:01:55, 15.38s/it]"
     ]
    },
    {
     "name": "stdout",
     "output_type": "stream",
     "text": [
      "[-5.08281768]\n",
      "[-46.81209337]\n",
      "[2.2620265]\n",
      "[0.0, 0.0]\n"
     ]
    },
    {
     "name": "stderr",
     "output_type": "stream",
     "text": [
      "  8%|▊         | 187/2300 [44:38<8:47:31, 14.98s/it]"
     ]
    },
    {
     "name": "stdout",
     "output_type": "stream",
     "text": [
      "[-4.01625307]\n",
      "[-46.77870663]\n",
      "[2.3334277]\n",
      "[0.0, 0.0]\n"
     ]
    },
    {
     "name": "stderr",
     "output_type": "stream",
     "text": [
      "  8%|▊         | 188/2300 [44:53<8:42:04, 14.83s/it]"
     ]
    },
    {
     "name": "stdout",
     "output_type": "stream",
     "text": [
      "[-2.88303162]\n",
      "[-46.71210418]\n",
      "[2.423445]\n",
      "[0.0, 0.0]\n"
     ]
    },
    {
     "name": "stderr",
     "output_type": "stream",
     "text": [
      "  8%|▊         | 189/2300 [45:07<8:34:14, 14.62s/it]"
     ]
    },
    {
     "name": "stdout",
     "output_type": "stream",
     "text": [
      "[-1.78313841]\n",
      "[-46.61211384]\n",
      "[2.5824966]\n",
      "[0.0, 0.0]\n"
     ]
    },
    {
     "name": "stderr",
     "output_type": "stream",
     "text": [
      "  8%|▊         | 190/2300 [45:21<8:30:25, 14.51s/it]"
     ]
    },
    {
     "name": "stdout",
     "output_type": "stream",
     "text": [
      "[-0.68324494]\n",
      "[-46.51212391]\n",
      "[2.823509]\n",
      "[0.0, 0.0]\n"
     ]
    },
    {
     "name": "stderr",
     "output_type": "stream",
     "text": [
      "  8%|▊         | 191/2300 [45:36<8:26:51, 14.42s/it]"
     ]
    },
    {
     "name": "stdout",
     "output_type": "stream",
     "text": [
      "[0.51663942]\n",
      "[-46.41213409]\n",
      "[3.2777119]\n",
      "[0.0, 0.0]\n"
     ]
    },
    {
     "name": "stderr",
     "output_type": "stream",
     "text": [
      "  8%|▊         | 192/2300 [45:50<8:25:52, 14.40s/it]"
     ]
    },
    {
     "name": "stdout",
     "output_type": "stream",
     "text": [
      "[ 1.98316034  5.48282213 10.21568484]\n",
      "[-46.07876745 -44.77889074 -44.21235984]\n",
      "[4.9146876 6.371542  5.52271  ]\n",
      "[0.0, 0.0]\n",
      "[0.0, 0.0]\n",
      "[0.0, 0.0]\n"
     ]
    },
    {
     "name": "stderr",
     "output_type": "stream",
     "text": [
      "  8%|▊         | 193/2300 [46:06<8:47:59, 15.04s/it]"
     ]
    },
    {
     "name": "stdout",
     "output_type": "stream",
     "text": [
      "[11.88219754]\n",
      "[-44.07895973]\n",
      "[3.8196237]\n",
      "[0.0, 0.0]\n"
     ]
    },
    {
     "name": "stderr",
     "output_type": "stream",
     "text": [
      "  8%|▊         | 194/2300 [46:21<8:41:03, 14.84s/it]"
     ]
    },
    {
     "name": "stdout",
     "output_type": "stream",
     "text": [
      "[13.382051]\n",
      "[-43.87898122]\n",
      "[3.2748165]\n",
      "[0.0, 0.0]\n"
     ]
    },
    {
     "name": "stderr",
     "output_type": "stream",
     "text": [
      "  8%|▊         | 195/2300 [46:35<8:33:42, 14.64s/it]"
     ]
    },
    {
     "name": "stdout",
     "output_type": "stream",
     "text": [
      "[14.615248]\n",
      "[-43.71240871]\n",
      "[3.0220604]\n",
      "[0.0, 0.0]\n"
     ]
    },
    {
     "name": "stderr",
     "output_type": "stream",
     "text": [
      "  9%|▊         | 196/2300 [46:49<8:27:22, 14.47s/it]"
     ]
    },
    {
     "name": "stdout",
     "output_type": "stream",
     "text": [
      "[15.88180536]\n",
      "[-43.47902518]\n",
      "[3.000795]\n",
      "[0.0, 0.0]\n"
     ]
    },
    {
     "name": "stderr",
     "output_type": "stream",
     "text": [
      "  9%|▊         | 197/2300 [47:04<8:26:37, 14.45s/it]"
     ]
    },
    {
     "name": "stdout",
     "output_type": "stream",
     "text": [
      "[17.11499766]\n",
      "[-43.21245821]\n",
      "[3.0610666]\n",
      "[0.0, 0.0]\n"
     ]
    },
    {
     "name": "stderr",
     "output_type": "stream",
     "text": [
      "  9%|▊         | 198/2300 [47:17<8:20:42, 14.29s/it]"
     ]
    },
    {
     "name": "stdout",
     "output_type": "stream",
     "text": [
      "[18.41486727]\n",
      "[-42.9124874]\n",
      "[3.0759141]\n",
      "[0.0, 0.0]\n"
     ]
    },
    {
     "name": "stderr",
     "output_type": "stream",
     "text": [
      "  9%|▊         | 199/2300 [47:32<8:21:13, 14.31s/it]"
     ]
    },
    {
     "name": "stdout",
     "output_type": "stream",
     "text": [
      "[19.68143257]\n",
      "[-42.57912167]\n",
      "[3.054251]\n",
      "[0.0, 0.0]\n"
     ]
    },
    {
     "name": "stderr",
     "output_type": "stream",
     "text": [
      "  9%|▊         | 200/2300 [47:46<8:18:22, 14.24s/it]"
     ]
    },
    {
     "name": "stdout",
     "output_type": "stream",
     "text": [
      "[-42.27854825]\n",
      "[-41.01182273]\n",
      "[1.9764695]\n",
      "[0.0, 0.0]\n"
     ]
    },
    {
     "name": "stderr",
     "output_type": "stream",
     "text": [
      "  9%|▊         | 201/2300 [48:00<8:18:43, 14.26s/it]"
     ]
    },
    {
     "name": "stdout",
     "output_type": "stream",
     "text": [
      "[-41.42637366]\n",
      "[-41.28061534]\n",
      "[1.9459031]\n",
      "[0.0, 0.0]\n"
     ]
    },
    {
     "name": "stderr",
     "output_type": "stream",
     "text": [
      "  9%|▉         | 202/2300 [48:14<8:16:56, 14.21s/it]"
     ]
    },
    {
     "name": "stdout",
     "output_type": "stream",
     "text": [
      "[-40.48030047]\n",
      "[-41.51377932]\n",
      "[1.9052303]\n",
      "[0.0, 0.0]\n"
     ]
    },
    {
     "name": "stderr",
     "output_type": "stream",
     "text": [
      "  9%|▉         | 203/2300 [48:28<8:15:33, 14.18s/it]"
     ]
    },
    {
     "name": "stdout",
     "output_type": "stream",
     "text": [
      "[-39.57987635]\n",
      "[-41.71310418]\n",
      "[1.8937882]\n",
      "[0.0, 0.0]\n"
     ]
    },
    {
     "name": "stderr",
     "output_type": "stream",
     "text": [
      "  9%|▉         | 204/2300 [48:43<8:16:35, 14.22s/it]"
     ]
    },
    {
     "name": "stdout",
     "output_type": "stream",
     "text": [
      "[-38.71255144]\n",
      "[-41.979128]\n",
      "[1.9110111]\n",
      "[0.0, 0.0]\n"
     ]
    },
    {
     "name": "stderr",
     "output_type": "stream",
     "text": [
      "  9%|▉         | 205/2300 [48:57<8:14:43, 14.17s/it]"
     ]
    },
    {
     "name": "stdout",
     "output_type": "stream",
     "text": [
      "[-37.779805]\n",
      "[-42.21277572]\n",
      "[1.9448527]\n",
      "[0.0, 0.0]\n"
     ]
    },
    {
     "name": "stderr",
     "output_type": "stream",
     "text": [
      "  9%|▉         | 206/2300 [49:11<8:15:12, 14.19s/it]"
     ]
    },
    {
     "name": "stdout",
     "output_type": "stream",
     "text": [
      "[-36.77987019]\n",
      "[-42.41270165]\n",
      "[1.9852583]\n",
      "[0.0, 0.0]\n"
     ]
    },
    {
     "name": "stderr",
     "output_type": "stream",
     "text": [
      "  9%|▉         | 207/2300 [49:25<8:16:01, 14.22s/it]"
     ]
    },
    {
     "name": "stdout",
     "output_type": "stream",
     "text": [
      "[-35.81299918]\n",
      "[-42.57911699]\n",
      "[2.0161397]\n",
      "[0.0, 0.0]\n"
     ]
    },
    {
     "name": "stderr",
     "output_type": "stream",
     "text": [
      "  9%|▉         | 208/2300 [49:40<8:21:25, 14.38s/it]"
     ]
    },
    {
     "name": "stdout",
     "output_type": "stream",
     "text": [
      "[-34.87999872]\n",
      "[-42.91259123]\n",
      "[2.026058]\n",
      "[0.0, 0.0]\n"
     ]
    },
    {
     "name": "stderr",
     "output_type": "stream",
     "text": [
      "  9%|▉         | 209/2300 [49:54<8:18:08, 14.29s/it]"
     ]
    },
    {
     "name": "stdout",
     "output_type": "stream",
     "text": [
      "[-33.88008225]\n",
      "[-43.11255396]\n",
      "[2.0329404]\n",
      "[0.0, 0.0]\n"
     ]
    },
    {
     "name": "stderr",
     "output_type": "stream",
     "text": [
      "  9%|▉         | 210/2300 [50:08<8:14:36, 14.20s/it]"
     ]
    },
    {
     "name": "stdout",
     "output_type": "stream",
     "text": [
      "[-32.88016982]\n",
      "[-43.31252147]\n",
      "[2.0265052]\n",
      "[0.0, 0.0]\n"
     ]
    },
    {
     "name": "stderr",
     "output_type": "stream",
     "text": [
      "  9%|▉         | 211/2300 [50:22<8:14:48, 14.21s/it]"
     ]
    },
    {
     "name": "stdout",
     "output_type": "stream",
     "text": [
      "[-31.88026017]\n",
      "[-43.51249197]\n",
      "[2.0277917]\n",
      "[0.0, 0.0]\n"
     ]
    },
    {
     "name": "stderr",
     "output_type": "stream",
     "text": [
      "  9%|▉         | 212/2300 [50:36<8:13:09, 14.17s/it]"
     ]
    },
    {
     "name": "stdout",
     "output_type": "stream",
     "text": [
      "[-30.88035196]\n",
      "[-43.71246351]\n",
      "[2.0484974]\n",
      "[0.0, 0.0]\n"
     ]
    },
    {
     "name": "stderr",
     "output_type": "stream",
     "text": [
      "  9%|▉         | 213/2300 [50:50<8:11:47, 14.14s/it]"
     ]
    },
    {
     "name": "stdout",
     "output_type": "stream",
     "text": [
      "[-29.88044504]\n",
      "[-43.91243629]\n",
      "[2.1228452]\n",
      "[0.0, 0.0]\n"
     ]
    },
    {
     "name": "stderr",
     "output_type": "stream",
     "text": [
      "  9%|▉         | 214/2300 [51:05<8:14:36, 14.23s/it]"
     ]
    },
    {
     "name": "stdout",
     "output_type": "stream",
     "text": [
      "[-28.78055024]\n",
      "[-44.11241073]\n",
      "[2.2602162]\n",
      "[0.0, 0.0]\n"
     ]
    },
    {
     "name": "stderr",
     "output_type": "stream",
     "text": [
      "  9%|▉         | 215/2300 [51:19<8:14:49, 14.24s/it]"
     ]
    },
    {
     "name": "stdout",
     "output_type": "stream",
     "text": [
      "[-27.71388274]\n",
      "[-44.37895019]\n",
      "[2.305296]\n",
      "[0.0, 0.0]\n"
     ]
    },
    {
     "name": "stderr",
     "output_type": "stream",
     "text": [
      "  9%|▉         | 216/2300 [51:33<8:12:36, 14.18s/it]"
     ]
    },
    {
     "name": "stdout",
     "output_type": "stream",
     "text": [
      "[-26.58075847]\n",
      "[-44.51236075]\n",
      "[2.1993005]\n",
      "[0.0, 0.0]\n"
     ]
    },
    {
     "name": "stderr",
     "output_type": "stream",
     "text": [
      "  9%|▉         | 217/2300 [51:47<8:12:53, 14.20s/it]"
     ]
    },
    {
     "name": "stdout",
     "output_type": "stream",
     "text": [
      "[-25.48086023]\n",
      "[-44.7123351]\n",
      "[2.1282125]\n",
      "[0.0, 0.0]\n"
     ]
    },
    {
     "name": "stderr",
     "output_type": "stream",
     "text": [
      "  9%|▉         | 218/2300 [52:01<8:10:29, 14.14s/it]"
     ]
    },
    {
     "name": "stdout",
     "output_type": "stream",
     "text": [
      "[-24.38096392]\n",
      "[-44.81232036]\n",
      "[2.1180763]\n",
      "[0.0, 0.0]\n"
     ]
    },
    {
     "name": "stderr",
     "output_type": "stream",
     "text": [
      " 10%|▉         | 219/2300 [52:16<8:13:59, 14.24s/it]"
     ]
    },
    {
     "name": "stdout",
     "output_type": "stream",
     "text": [
      "[-23.31433454]\n",
      "[-44.97889444]\n",
      "[2.118492]\n",
      "[0.0, 0.0]\n"
     ]
    },
    {
     "name": "stderr",
     "output_type": "stream",
     "text": [
      " 10%|▉         | 220/2300 [52:30<8:10:16, 14.14s/it]"
     ]
    },
    {
     "name": "stdout",
     "output_type": "stream",
     "text": [
      "[-22.28116292]\n",
      "[-45.11228353]\n",
      "[2.0848463]\n",
      "[0.0, 0.0]\n"
     ]
    },
    {
     "name": "stderr",
     "output_type": "stream",
     "text": [
      " 10%|▉         | 221/2300 [52:44<8:11:30, 14.19s/it]"
     ]
    },
    {
     "name": "stdout",
     "output_type": "stream",
     "text": [
      "[-21.18126847]\n",
      "[-45.21227177]\n",
      "[2.0669625]\n",
      "[0.0, 0.0]\n"
     ]
    },
    {
     "name": "stderr",
     "output_type": "stream",
     "text": [
      " 10%|▉         | 222/2300 [52:58<8:10:58, 14.18s/it]"
     ]
    },
    {
     "name": "stdout",
     "output_type": "stream",
     "text": [
      "[-20.11465461]\n",
      "[-45.37885346]\n",
      "[2.0916557]\n",
      "[0.0, 0.0]\n"
     ]
    },
    {
     "name": "stderr",
     "output_type": "stream",
     "text": [
      " 10%|▉         | 223/2300 [53:12<8:10:24, 14.17s/it]"
     ]
    },
    {
     "name": "stdout",
     "output_type": "stream",
     "text": [
      "[-19.08146883]\n",
      "[-45.51223915]\n",
      "[2.0798998]\n",
      "[0.0, 0.0]\n"
     ]
    },
    {
     "name": "stderr",
     "output_type": "stream",
     "text": [
      " 10%|▉         | 224/2300 [53:27<8:16:02, 14.34s/it]"
     ]
    },
    {
     "name": "stdout",
     "output_type": "stream",
     "text": [
      "[-18.01486496]\n",
      "[-45.57883135]\n",
      "[2.0615628]\n",
      "[0.0, 0.0]\n"
     ]
    },
    {
     "name": "stderr",
     "output_type": "stream",
     "text": [
      " 10%|▉         | 225/2300 [53:41<8:14:57, 14.31s/it]"
     ]
    },
    {
     "name": "stdout",
     "output_type": "stream",
     "text": [
      "[-16.914975]\n",
      "[-45.67882048]\n",
      "[2.0466115]\n",
      "[0.0, 0.0]\n"
     ]
    },
    {
     "name": "stderr",
     "output_type": "stream",
     "text": [
      " 10%|▉         | 226/2300 [53:56<8:17:35, 14.40s/it]"
     ]
    },
    {
     "name": "stdout",
     "output_type": "stream",
     "text": [
      "[-15.91507512]\n",
      "[-45.77880965]\n",
      "[2.0463495]\n",
      "[0.0, 0.0]\n"
     ]
    },
    {
     "name": "stderr",
     "output_type": "stream",
     "text": [
      " 10%|▉         | 227/2300 [54:10<8:15:58, 14.36s/it]"
     ]
    },
    {
     "name": "stdout",
     "output_type": "stream",
     "text": [
      "[-14.78187753]\n",
      "[-45.81220047]\n",
      "[2.0829558]\n",
      "[0.0, 0.0]\n"
     ]
    },
    {
     "name": "stderr",
     "output_type": "stream",
     "text": [
      " 10%|▉         | 228/2300 [54:25<8:14:52, 14.33s/it]"
     ]
    },
    {
     "name": "stdout",
     "output_type": "stream",
     "text": [
      "[-13.71529542]\n",
      "[-45.87879894]\n",
      "[2.1464589]\n",
      "[0.0, 0.0]\n"
     ]
    },
    {
     "name": "stderr",
     "output_type": "stream",
     "text": [
      " 10%|▉         | 229/2300 [54:39<8:14:17, 14.32s/it]"
     ]
    },
    {
     "name": "stdout",
     "output_type": "stream",
     "text": [
      "[-12.61540469]\n",
      "[-45.9787892]\n",
      "[2.1958416]\n",
      "[0.0, 0.0]\n"
     ]
    },
    {
     "name": "stderr",
     "output_type": "stream",
     "text": [
      " 10%|█         | 230/2300 [54:53<8:13:14, 14.30s/it]"
     ]
    },
    {
     "name": "stdout",
     "output_type": "stream",
     "text": [
      "[-11.48219689]\n",
      "[-46.01217626]\n",
      "[2.2034383]\n",
      "[0.0, 0.0]\n"
     ]
    },
    {
     "name": "stderr",
     "output_type": "stream",
     "text": [
      " 10%|█         | 231/2300 [55:07<8:11:58, 14.27s/it]"
     ]
    },
    {
     "name": "stdout",
     "output_type": "stream",
     "text": [
      "[-10.41562269]\n",
      "[-46.07878013]\n",
      "[2.1724355]\n",
      "[0.0, 0.0]\n"
     ]
    },
    {
     "name": "stderr",
     "output_type": "stream",
     "text": [
      " 10%|█         | 232/2300 [55:22<8:15:24, 14.37s/it]"
     ]
    },
    {
     "name": "stdout",
     "output_type": "stream",
     "text": [
      "[-9.31573084]\n",
      "[-46.07878037]\n",
      "[2.1734004]\n",
      "[0.0, 0.0]\n"
     ]
    },
    {
     "name": "stderr",
     "output_type": "stream",
     "text": [
      " 10%|█         | 233/2300 [55:36<8:14:28, 14.35s/it]"
     ]
    },
    {
     "name": "stdout",
     "output_type": "stream",
     "text": [
      "[-8.21583941]\n",
      "[-46.07878008]\n",
      "[2.1857643]\n",
      "[0.0, 0.0]\n"
     ]
    },
    {
     "name": "stderr",
     "output_type": "stream",
     "text": [
      " 10%|█         | 234/2300 [55:50<8:12:24, 14.30s/it]"
     ]
    },
    {
     "name": "stdout",
     "output_type": "stream",
     "text": [
      "[-7.18261507]\n",
      "[-46.11216347]\n",
      "[2.200016]\n",
      "[0.0, 0.0]\n"
     ]
    },
    {
     "name": "stderr",
     "output_type": "stream",
     "text": [
      " 10%|█         | 235/2300 [56:05<8:11:11, 14.27s/it]"
     ]
    },
    {
     "name": "stdout",
     "output_type": "stream",
     "text": [
      "[-6.11604799]\n",
      "[-46.07877866]\n",
      "[2.2405167]\n",
      "[0.0, 0.0]\n"
     ]
    },
    {
     "name": "stderr",
     "output_type": "stream",
     "text": [
      " 10%|█         | 236/2300 [56:19<8:11:05, 14.28s/it]"
     ]
    },
    {
     "name": "stdout",
     "output_type": "stream",
     "text": [
      "[-4.98282672]\n",
      "[-46.01217092]\n",
      "[2.314073]\n",
      "[0.0, 0.0]\n"
     ]
    },
    {
     "name": "stderr",
     "output_type": "stream",
     "text": [
      " 10%|█         | 237/2300 [56:33<8:11:07, 14.28s/it]"
     ]
    },
    {
     "name": "stdout",
     "output_type": "stream",
     "text": [
      "[-3.9829229]\n",
      "[-46.01217213]\n",
      "[2.3991961]\n",
      "[0.0, 0.0]\n"
     ]
    },
    {
     "name": "stderr",
     "output_type": "stream",
     "text": [
      " 10%|█         | 238/2300 [56:48<8:12:56, 14.34s/it]"
     ]
    },
    {
     "name": "stdout",
     "output_type": "stream",
     "text": [
      "[-2.81637084]\n",
      "[-45.8787937]\n",
      "[2.5193079]\n",
      "[0.0, 0.0]\n"
     ]
    },
    {
     "name": "stderr",
     "output_type": "stream",
     "text": [
      " 10%|█         | 239/2300 [57:02<8:11:42, 14.31s/it]"
     ]
    },
    {
     "name": "stdout",
     "output_type": "stream",
     "text": [
      "[-1.68314696]\n",
      "[-45.81219205]\n",
      "[2.70064]\n",
      "[0.0, 0.0]\n"
     ]
    },
    {
     "name": "stderr",
     "output_type": "stream",
     "text": [
      " 10%|█         | 240/2300 [57:16<8:12:53, 14.36s/it]"
     ]
    },
    {
     "name": "stdout",
     "output_type": "stream",
     "text": [
      "[-0.51659624]\n",
      "[-45.67880902]\n",
      "[3.0015602]\n",
      "[0.0, 0.0]\n"
     ]
    },
    {
     "name": "stderr",
     "output_type": "stream",
     "text": [
      " 10%|█         | 241/2300 [57:31<8:11:42, 14.33s/it]"
     ]
    },
    {
     "name": "stdout",
     "output_type": "stream",
     "text": [
      "[0.81661237]\n",
      "[-45.412232]\n",
      "[3.7025318]\n",
      "[0.0, 0.0]\n"
     ]
    },
    {
     "name": "stderr",
     "output_type": "stream",
     "text": [
      " 11%|█         | 242/2300 [57:45<8:12:58, 14.37s/it]"
     ]
    },
    {
     "name": "stdout",
     "output_type": "stream",
     "text": [
      "[ 4.38292918  2.71642691 10.31567558]\n",
      "[-44.17894772 -44.91228313 -43.31245015]\n",
      "[11.335354  9.953659  5.308929]\n",
      "[0.0, 0.0]\n",
      "[0.0, 0.0]\n",
      "[0.0, 0.0]\n"
     ]
    },
    {
     "name": "stderr",
     "output_type": "stream",
     "text": [
      " 11%|█         | 243/2300 [58:01<8:32:37, 14.95s/it]"
     ]
    },
    {
     "name": "stdout",
     "output_type": "stream",
     "text": [
      "[12.08217933]\n",
      "[-43.17904706]\n",
      "[3.671662]\n",
      "[0.0, 0.0]\n"
     ]
    },
    {
     "name": "stderr",
     "output_type": "stream",
     "text": [
      " 11%|█         | 244/2300 [58:16<8:25:43, 14.76s/it]"
     ]
    },
    {
     "name": "stdout",
     "output_type": "stream",
     "text": [
      "[13.51535539]\n",
      "[-43.01247832]\n",
      "[3.2460902]\n",
      "[0.0, 0.0]\n"
     ]
    },
    {
     "name": "stderr",
     "output_type": "stream",
     "text": [
      " 11%|█         | 245/2300 [58:30<8:23:29, 14.70s/it]"
     ]
    },
    {
     "name": "stdout",
     "output_type": "stream",
     "text": [
      "[14.81522679]\n",
      "[-42.81249774]\n",
      "[3.0862753]\n",
      "[0.0, 0.0]\n"
     ]
    },
    {
     "name": "stderr",
     "output_type": "stream",
     "text": [
      " 11%|█         | 246/2300 [58:44<8:17:51, 14.54s/it]"
     ]
    },
    {
     "name": "stdout",
     "output_type": "stream",
     "text": [
      "[16.11509813]\n",
      "[-42.61251616]\n",
      "[3.1116252]\n",
      "[0.0, 0.0]\n"
     ]
    },
    {
     "name": "stderr",
     "output_type": "stream",
     "text": [
      " 11%|█         | 247/2300 [58:58<8:12:13, 14.39s/it]"
     ]
    },
    {
     "name": "stdout",
     "output_type": "stream",
     "text": [
      "[17.4149659]\n",
      "[-42.31254663]\n",
      "[3.1299694]\n",
      "[0.0, 0.0]\n"
     ]
    },
    {
     "name": "stderr",
     "output_type": "stream",
     "text": [
      " 11%|█         | 248/2300 [59:13<8:10:41, 14.35s/it]"
     ]
    },
    {
     "name": "stdout",
     "output_type": "stream",
     "text": [
      "[18.71483609]\n",
      "[-42.012576]\n",
      "[3.1098812]\n",
      "[0.0, 0.0]\n"
     ]
    },
    {
     "name": "stderr",
     "output_type": "stream",
     "text": [
      " 11%|█         | 249/2300 [59:27<8:09:36, 14.32s/it]"
     ]
    },
    {
     "name": "stdout",
     "output_type": "stream",
     "text": [
      "[19.98140336]\n",
      "[-41.6792119]\n",
      "[3.1628277]\n",
      "[0.0, 0.0]\n"
     ]
    },
    {
     "name": "stderr",
     "output_type": "stream",
     "text": [
      " 11%|█         | 250/2300 [59:41<8:07:32, 14.27s/it]"
     ]
    },
    {
     "name": "stdout",
     "output_type": "stream",
     "text": [
      "[-42.57874517]\n",
      "[-40.21225942]\n",
      "[2.0026152]\n",
      "[0.0, 0.0]\n"
     ]
    },
    {
     "name": "stderr",
     "output_type": "stream",
     "text": [
      " 11%|█         | 251/2300 [59:55<8:04:45, 14.19s/it]"
     ]
    },
    {
     "name": "stdout",
     "output_type": "stream",
     "text": [
      "[-41.6785243]\n",
      "[-40.41185685]\n",
      "[1.9998076]\n",
      "[0.0, 0.0]\n"
     ]
    },
    {
     "name": "stderr",
     "output_type": "stream",
     "text": [
      " 11%|█         | 252/2300 [1:00:09<8:05:58, 14.24s/it]"
     ]
    },
    {
     "name": "stdout",
     "output_type": "stream",
     "text": [
      "[-40.7263428]\n",
      "[-40.69794633]\n",
      "[1.968451]\n",
      "[0.0, 0.0]\n"
     ]
    },
    {
     "name": "stderr",
     "output_type": "stream",
     "text": [
      " 11%|█         | 253/2300 [1:00:24<8:08:00, 14.30s/it]"
     ]
    },
    {
     "name": "stdout",
     "output_type": "stream",
     "text": [
      "[-39.78039039]\n",
      "[-40.91370924]\n",
      "[1.933578]\n",
      "[0.0, 0.0]\n"
     ]
    },
    {
     "name": "stderr",
     "output_type": "stream",
     "text": [
      " 11%|█         | 254/2300 [1:00:38<8:08:19, 14.32s/it]"
     ]
    },
    {
     "name": "stdout",
     "output_type": "stream",
     "text": [
      "[-38.9123991]\n",
      "[-41.1791951]\n",
      "[1.9295796]\n",
      "[0.0, 0.0]\n"
     ]
    },
    {
     "name": "stderr",
     "output_type": "stream",
     "text": [
      " 11%|█         | 255/2300 [1:00:53<8:07:47, 14.31s/it]"
     ]
    },
    {
     "name": "stdout",
     "output_type": "stream",
     "text": [
      "[-37.97985518]\n",
      "[-41.41292797]\n",
      "[1.9443564]\n",
      "[0.0, 0.0]\n"
     ]
    },
    {
     "name": "stderr",
     "output_type": "stream",
     "text": [
      " 11%|█         | 256/2300 [1:01:07<8:08:22, 14.34s/it]"
     ]
    },
    {
     "name": "stdout",
     "output_type": "stream",
     "text": [
      "[-37.01280814]\n",
      "[-41.5792123]\n",
      "[1.9790049]\n",
      "[0.0, 0.0]\n"
     ]
    },
    {
     "name": "stderr",
     "output_type": "stream",
     "text": [
      " 11%|█         | 257/2300 [1:01:21<8:07:19, 14.31s/it]"
     ]
    },
    {
     "name": "stdout",
     "output_type": "stream",
     "text": [
      "[-36.11294205]\n",
      "[-41.87917347]\n",
      "[2.025559]\n",
      "[0.0, 0.0]\n"
     ]
    },
    {
     "name": "stderr",
     "output_type": "stream",
     "text": [
      " 11%|█         | 258/2300 [1:01:36<8:09:19, 14.38s/it]"
     ]
    },
    {
     "name": "stdout",
     "output_type": "stream",
     "text": [
      "[-35.07999812]\n",
      "[-42.11268918]\n",
      "[2.050923]\n",
      "[0.0, 0.0]\n"
     ]
    },
    {
     "name": "stderr",
     "output_type": "stream",
     "text": [
      " 11%|█▏        | 259/2300 [1:01:50<8:06:18, 14.30s/it]"
     ]
    },
    {
     "name": "stdout",
     "output_type": "stream",
     "text": [
      "[-34.08007553]\n",
      "[-42.31264611]\n",
      "[2.0537024]\n",
      "[0.0, 0.0]\n"
     ]
    },
    {
     "name": "stderr",
     "output_type": "stream",
     "text": [
      " 11%|█▏        | 260/2300 [1:02:04<8:01:53, 14.17s/it]"
     ]
    },
    {
     "name": "stdout",
     "output_type": "stream",
     "text": [
      "[-33.08015971]\n",
      "[-42.51261077]\n",
      "[2.0540369]\n",
      "[0.0, 0.0]\n"
     ]
    },
    {
     "name": "stderr",
     "output_type": "stream",
     "text": [
      " 11%|█▏        | 261/2300 [1:02:18<8:02:25, 14.20s/it]"
     ]
    },
    {
     "name": "stdout",
     "output_type": "stream",
     "text": [
      "[-32.11341566]\n",
      "[-42.77909399]\n",
      "[2.0521884]\n",
      "[0.0, 0.0]\n"
     ]
    },
    {
     "name": "stderr",
     "output_type": "stream",
     "text": [
      " 11%|█▏        | 262/2300 [1:02:32<8:01:25, 14.17s/it]"
     ]
    },
    {
     "name": "stdout",
     "output_type": "stream",
     "text": [
      "[-31.11352315]\n",
      "[-42.97907698]\n",
      "[2.0598726]\n",
      "[0.0, 0.0]\n"
     ]
    },
    {
     "name": "stderr",
     "output_type": "stream",
     "text": [
      " 11%|█▏        | 263/2300 [1:02:46<8:00:59, 14.17s/it]"
     ]
    },
    {
     "name": "stdout",
     "output_type": "stream",
     "text": [
      "[-30.11362981]\n",
      "[-43.17906034]\n",
      "[2.1130493]\n",
      "[0.0, 0.0]\n"
     ]
    },
    {
     "name": "stderr",
     "output_type": "stream",
     "text": [
      " 11%|█▏        | 264/2300 [1:03:00<8:00:56, 14.17s/it]"
     ]
    },
    {
     "name": "stdout",
     "output_type": "stream",
     "text": [
      "[-29.01374501]\n",
      "[-43.3790448]\n",
      "[2.2451367]\n",
      "[0.0, 0.0]\n"
     ]
    },
    {
     "name": "stderr",
     "output_type": "stream",
     "text": [
      " 12%|█▏        | 265/2300 [1:03:15<8:03:58, 14.27s/it]"
     ]
    },
    {
     "name": "stdout",
     "output_type": "stream",
     "text": [
      "[-27.91385872]\n",
      "[-43.57902773]\n",
      "[2.6525311]\n",
      "[0.0, 0.0]\n"
     ]
    },
    {
     "name": "stderr",
     "output_type": "stream",
     "text": [
      " 12%|█▏        | 266/2300 [1:03:30<8:08:13, 14.40s/it]"
     ]
    },
    {
     "name": "stdout",
     "output_type": "stream",
     "text": [
      "[-26.7139825]\n",
      "[-43.77901063]\n",
      "[2.2995415]\n",
      "[0.0, 0.0]\n"
     ]
    },
    {
     "name": "stderr",
     "output_type": "stream",
     "text": [
      " 12%|█▏        | 267/2300 [1:03:44<8:06:14, 14.35s/it]"
     ]
    },
    {
     "name": "stdout",
     "output_type": "stream",
     "text": [
      "[-25.61409687]\n",
      "[-43.97899112]\n",
      "[2.1973567]\n",
      "[0.0, 0.0]\n"
     ]
    },
    {
     "name": "stderr",
     "output_type": "stream",
     "text": [
      " 12%|█▏        | 268/2300 [1:03:58<8:05:36, 14.34s/it]"
     ]
    },
    {
     "name": "stdout",
     "output_type": "stream",
     "text": [
      "[-24.58094645]\n",
      "[-44.11239209]\n",
      "[2.1518934]\n",
      "[0.0, 0.0]\n"
     ]
    },
    {
     "name": "stderr",
     "output_type": "stream",
     "text": [
      " 12%|█▏        | 269/2300 [1:04:12<8:03:38, 14.29s/it]"
     ]
    },
    {
     "name": "stdout",
     "output_type": "stream",
     "text": [
      "[-23.48105032]\n",
      "[-44.3123682]\n",
      "[2.1418135]\n",
      "[0.0, 0.0]\n"
     ]
    },
    {
     "name": "stderr",
     "output_type": "stream",
     "text": [
      " 12%|█▏        | 270/2300 [1:04:29<8:24:49, 14.92s/it]"
     ]
    },
    {
     "name": "stdout",
     "output_type": "stream",
     "text": [
      "[-22.38115464]\n",
      "[-44.41235425]\n",
      "[2.1168633]\n",
      "[0.0, 0.0]\n"
     ]
    },
    {
     "name": "stderr",
     "output_type": "stream",
     "text": [
      " 12%|█▏        | 271/2300 [1:04:42<8:11:15, 14.53s/it]"
     ]
    },
    {
     "name": "stdout",
     "output_type": "stream",
     "text": [
      "[-21.2812595]\n",
      "[-44.5123415]\n",
      "[2.1023767]\n",
      "[0.0, 0.0]\n"
     ]
    },
    {
     "name": "stderr",
     "output_type": "stream",
     "text": [
      " 12%|█▏        | 272/2300 [1:04:56<8:05:25, 14.36s/it]"
     ]
    },
    {
     "name": "stdout",
     "output_type": "stream",
     "text": [
      "[-20.28135482]\n",
      "[-44.71232053]\n",
      "[2.1269155]\n",
      "[0.0, 0.0]\n"
     ]
    },
    {
     "name": "stderr",
     "output_type": "stream",
     "text": [
      " 12%|█▏        | 273/2300 [1:05:11<8:05:26, 14.37s/it]"
     ]
    },
    {
     "name": "stdout",
     "output_type": "stream",
     "text": [
      "[-19.18145981]\n",
      "[-44.81230888]\n",
      "[2.123336]\n",
      "[0.0, 0.0]\n"
     ]
    },
    {
     "name": "stderr",
     "output_type": "stream",
     "text": [
      " 12%|█▏        | 274/2300 [1:05:25<8:07:34, 14.44s/it]"
     ]
    },
    {
     "name": "stdout",
     "output_type": "stream",
     "text": [
      "[-18.11485414]\n",
      "[-44.87889975]\n",
      "[2.0945063]\n",
      "[0.0, 0.0]\n"
     ]
    },
    {
     "name": "stderr",
     "output_type": "stream",
     "text": [
      " 12%|█▏        | 275/2300 [1:05:40<8:06:00, 14.40s/it]"
     ]
    },
    {
     "name": "stdout",
     "output_type": "stream",
     "text": [
      "[-17.01496429]\n",
      "[-44.97888892]\n",
      "[2.082118]\n",
      "[0.0, 0.0]\n"
     ]
    },
    {
     "name": "stderr",
     "output_type": "stream",
     "text": [
      " 12%|█▏        | 276/2300 [1:05:54<8:08:55, 14.49s/it]"
     ]
    },
    {
     "name": "stdout",
     "output_type": "stream",
     "text": [
      "[-15.9817637]\n",
      "[-45.11227281]\n",
      "[2.072235]\n",
      "[0.0, 0.0]\n"
     ]
    },
    {
     "name": "stderr",
     "output_type": "stream",
     "text": [
      " 12%|█▏        | 277/2300 [1:06:09<8:05:53, 14.41s/it]"
     ]
    },
    {
     "name": "stdout",
     "output_type": "stream",
     "text": [
      "[-14.88186848]\n",
      "[-45.11227035]\n",
      "[2.1065617]\n",
      "[0.0, 0.0]\n"
     ]
    },
    {
     "name": "stderr",
     "output_type": "stream",
     "text": [
      " 12%|█▏        | 278/2300 [1:06:23<8:04:54, 14.39s/it]"
     ]
    },
    {
     "name": "stdout",
     "output_type": "stream",
     "text": [
      "[-13.78197387]\n",
      "[-45.21225835]\n",
      "[2.1864328]\n",
      "[0.0, 0.0]\n"
     ]
    },
    {
     "name": "stderr",
     "output_type": "stream",
     "text": [
      " 12%|█▏        | 279/2300 [1:06:37<8:05:09, 14.40s/it]"
     ]
    },
    {
     "name": "stdout",
     "output_type": "stream",
     "text": [
      "[-12.71539403]\n",
      "[-45.27885754]\n",
      "[2.2569668]\n",
      "[0.0, 0.0]\n"
     ]
    },
    {
     "name": "stderr",
     "output_type": "stream",
     "text": [
      " 12%|█▏        | 280/2300 [1:06:51<7:56:08, 14.14s/it]"
     ]
    },
    {
     "name": "stdout",
     "output_type": "stream",
     "text": [
      "[-11.58218755]\n",
      "[-45.31224572]\n",
      "[2.2763133]\n",
      "[0.0, 0.0]\n"
     ]
    },
    {
     "name": "stderr",
     "output_type": "stream",
     "text": [
      " 12%|█▏        | 281/2300 [1:07:05<7:57:03, 14.18s/it]"
     ]
    },
    {
     "name": "stdout",
     "output_type": "stream",
     "text": [
      "[-10.41562225]\n",
      "[-45.37884847]\n",
      "[2.2359736]\n",
      "[0.0, 0.0]\n"
     ]
    },
    {
     "name": "stderr",
     "output_type": "stream",
     "text": [
      " 12%|█▏        | 282/2300 [1:07:19<7:51:25, 14.02s/it]"
     ]
    },
    {
     "name": "stdout",
     "output_type": "stream",
     "text": [
      "[-9.31573051]\n",
      "[-45.37884853]\n",
      "[2.2228625]\n",
      "[0.0, 0.0]\n"
     ]
    },
    {
     "name": "stderr",
     "output_type": "stream",
     "text": [
      " 12%|█▏        | 283/2300 [1:07:33<7:52:04, 14.04s/it]"
     ]
    },
    {
     "name": "stdout",
     "output_type": "stream",
     "text": [
      "[-8.21583894]\n",
      "[-45.37884789]\n",
      "[2.2376976]\n",
      "[0.0, 0.0]\n"
     ]
    },
    {
     "name": "stderr",
     "output_type": "stream",
     "text": [
      " 12%|█▏        | 284/2300 [1:07:47<7:55:14, 14.14s/it]"
     ]
    },
    {
     "name": "stdout",
     "output_type": "stream",
     "text": [
      "[-7.215938]\n",
      "[-45.37884681]\n",
      "[2.2571414]\n",
      "[0.0, 0.0]\n"
     ]
    },
    {
     "name": "stderr",
     "output_type": "stream",
     "text": [
      " 12%|█▏        | 285/2300 [1:08:01<7:50:56, 14.02s/it]"
     ]
    },
    {
     "name": "stdout",
     "output_type": "stream",
     "text": [
      "[-6.08272053]\n",
      "[-45.31224143]\n",
      "[2.295446]\n",
      "[0.0, 0.0]\n"
     ]
    },
    {
     "name": "stderr",
     "output_type": "stream",
     "text": [
      " 12%|█▏        | 286/2300 [1:08:15<7:52:47, 14.08s/it]"
     ]
    },
    {
     "name": "stdout",
     "output_type": "stream",
     "text": [
      "[-5.01615623]\n",
      "[-45.27885611]\n",
      "[2.3534873]\n",
      "[0.0, 0.0]\n"
     ]
    },
    {
     "name": "stderr",
     "output_type": "stream",
     "text": [
      " 12%|█▏        | 287/2300 [1:08:29<7:52:40, 14.09s/it]"
     ]
    },
    {
     "name": "stdout",
     "output_type": "stream",
     "text": [
      "[-3.88293352]\n",
      "[-45.21224787]\n",
      "[2.4616122]\n",
      "[0.0, 0.0]\n"
     ]
    },
    {
     "name": "stderr",
     "output_type": "stream",
     "text": [
      " 13%|█▎        | 288/2300 [1:08:43<7:50:56, 14.04s/it]"
     ]
    },
    {
     "name": "stdout",
     "output_type": "stream",
     "text": [
      "[-2.7163809]\n",
      "[-45.07887094]\n",
      "[2.6017163]\n",
      "[0.0, 0.0]\n"
     ]
    },
    {
     "name": "stderr",
     "output_type": "stream",
     "text": [
      " 13%|█▎        | 289/2300 [1:08:58<7:52:30, 14.10s/it]"
     ]
    },
    {
     "name": "stdout",
     "output_type": "stream",
     "text": [
      "[-1.58315487]\n",
      "[-45.01227048]\n",
      "[2.794207]\n",
      "[0.0, 0.0]\n"
     ]
    },
    {
     "name": "stderr",
     "output_type": "stream",
     "text": [
      " 13%|█▎        | 290/2300 [1:09:12<7:52:31, 14.11s/it]"
     ]
    },
    {
     "name": "stdout",
     "output_type": "stream",
     "text": [
      "[-0.31661604]\n",
      "[-44.77889447]\n",
      "[3.190124]\n",
      "[0.0, 0.0]\n"
     ]
    },
    {
     "name": "stderr",
     "output_type": "stream",
     "text": [
      " 13%|█▎        | 291/2300 [1:09:26<7:53:29, 14.14s/it]"
     ]
    },
    {
     "name": "stdout",
     "output_type": "stream",
     "text": [
      "[1.18323791]\n",
      "[-44.47892101]\n",
      "[4.3383226]\n",
      "[0.0, 0.0]\n"
     ]
    },
    {
     "name": "stderr",
     "output_type": "stream",
     "text": [
      " 13%|█▎        | 292/2300 [1:09:41<8:05:43, 14.51s/it]"
     ]
    },
    {
     "name": "stdout",
     "output_type": "stream",
     "text": [
      "[10.48233971]\n",
      "[-42.47911028]\n",
      "[4.9304237]\n",
      "[0.0, 0.0]\n"
     ]
    },
    {
     "name": "stderr",
     "output_type": "stream",
     "text": [
      " 13%|█▎        | 293/2300 [1:09:57<8:22:18, 15.02s/it]"
     ]
    },
    {
     "name": "stdout",
     "output_type": "stream",
     "text": [
      "[12.215487]\n",
      "[-42.31255033]\n",
      "[3.6255445]\n",
      "[0.0, 0.0]\n"
     ]
    },
    {
     "name": "stderr",
     "output_type": "stream",
     "text": [
      " 13%|█▎        | 294/2300 [1:10:12<8:13:19, 14.76s/it]"
     ]
    },
    {
     "name": "stdout",
     "output_type": "stream",
     "text": [
      "[13.68202448]\n",
      "[-42.17914721]\n",
      "[3.28867]\n",
      "[0.0, 0.0]\n"
     ]
    },
    {
     "name": "stderr",
     "output_type": "stream",
     "text": [
      " 13%|█▎        | 295/2300 [1:10:26<8:08:46, 14.63s/it]"
     ]
    },
    {
     "name": "stdout",
     "output_type": "stream",
     "text": [
      "[15.08188627]\n",
      "[-41.97917108]\n",
      "[3.187717]\n",
      "[0.0, 0.0]\n"
     ]
    },
    {
     "name": "stderr",
     "output_type": "stream",
     "text": [
      " 13%|█▎        | 296/2300 [1:10:40<8:04:28, 14.51s/it]"
     ]
    },
    {
     "name": "stdout",
     "output_type": "stream",
     "text": [
      "[16.41506709]\n",
      "[-41.71260639]\n",
      "[3.2396243]\n",
      "[0.0, 0.0]\n"
     ]
    },
    {
     "name": "stderr",
     "output_type": "stream",
     "text": [
      " 13%|█▎        | 297/2300 [1:10:55<8:02:57, 14.47s/it]"
     ]
    },
    {
     "name": "stdout",
     "output_type": "stream",
     "text": [
      "[17.71493523]\n",
      "[-41.41263582]\n",
      "[3.1873434]\n",
      "[0.0, 0.0]\n"
     ]
    },
    {
     "name": "stderr",
     "output_type": "stream",
     "text": [
      " 13%|█▎        | 298/2300 [1:11:09<8:00:33, 14.40s/it]"
     ]
    },
    {
     "name": "stdout",
     "output_type": "stream",
     "text": [
      "[19.0814929]\n",
      "[-41.07926897]\n",
      "[3.2301881]\n",
      "[0.0, 0.0]\n"
     ]
    },
    {
     "name": "stderr",
     "output_type": "stream",
     "text": [
      " 13%|█▎        | 299/2300 [1:11:23<8:01:52, 14.45s/it]"
     ]
    },
    {
     "name": "stdout",
     "output_type": "stream",
     "text": [
      "[20.38136507]\n",
      "[-40.67931152]\n",
      "[3.2672095]\n",
      "[0.0, 0.0]\n"
     ]
    },
    {
     "name": "stderr",
     "output_type": "stream",
     "text": [
      " 13%|█▎        | 300/2300 [1:11:38<8:00:09, 14.40s/it]"
     ]
    },
    {
     "name": "stdout",
     "output_type": "stream",
     "text": [
      "[-42.77887679]\n",
      "[-39.31248881]\n",
      "[2.0147233]\n",
      "[0.0, 0.0]\n"
     ]
    },
    {
     "name": "stderr",
     "output_type": "stream",
     "text": [
      " 13%|█▎        | 301/2300 [1:11:52<7:57:32, 14.33s/it]"
     ]
    },
    {
     "name": "stdout",
     "output_type": "stream",
     "text": [
      "[-41.91307711]\n",
      "[-39.57954799]\n",
      "[2.0229466]\n",
      "[0.0, 0.0]\n"
     ]
    },
    {
     "name": "stderr",
     "output_type": "stream",
     "text": [
      " 13%|█▎        | 302/2300 [1:12:06<7:56:35, 14.31s/it]"
     ]
    },
    {
     "name": "stdout",
     "output_type": "stream",
     "text": [
      "[-41.01374701]\n",
      "[-39.8795432]\n",
      "[2.0242696]\n",
      "[0.0, 0.0]\n"
     ]
    },
    {
     "name": "stderr",
     "output_type": "stream",
     "text": [
      " 13%|█▎        | 303/2300 [1:12:20<7:56:39, 14.32s/it]"
     ]
    },
    {
     "name": "stdout",
     "output_type": "stream",
     "text": [
      "[-40.08746801]\n",
      "[-40.13401845]\n",
      "[1.9919175]\n",
      "[0.0, 0.0]\n"
     ]
    },
    {
     "name": "stderr",
     "output_type": "stream",
     "text": [
      " 13%|█▎        | 304/2300 [1:12:34<7:53:13, 14.23s/it]"
     ]
    },
    {
     "name": "stdout",
     "output_type": "stream",
     "text": [
      "[-39.1120414]\n",
      "[-40.37926888]\n",
      "[1.972984]\n",
      "[0.0, 0.0]\n"
     ]
    },
    {
     "name": "stderr",
     "output_type": "stream",
     "text": [
      " 13%|█▎        | 305/2300 [1:12:48<7:51:13, 14.17s/it]"
     ]
    },
    {
     "name": "stdout",
     "output_type": "stream",
     "text": [
      "[-38.21249101]\n",
      "[-40.57929284]\n",
      "[1.97323]\n",
      "[0.0, 0.0]\n"
     ]
    },
    {
     "name": "stderr",
     "output_type": "stream",
     "text": [
      " 13%|█▎        | 306/2300 [1:13:03<7:51:09, 14.18s/it]"
     ]
    },
    {
     "name": "stdout",
     "output_type": "stream",
     "text": [
      "[-37.27993143]\n",
      "[-40.8129725]\n",
      "[1.9824975]\n",
      "[0.0, 0.0]\n"
     ]
    },
    {
     "name": "stderr",
     "output_type": "stream",
     "text": [
      " 13%|█▎        | 307/2300 [1:13:17<7:52:34, 14.23s/it]"
     ]
    },
    {
     "name": "stdout",
     "output_type": "stream",
     "text": [
      "[-36.31288688]\n",
      "[-41.07925769]\n",
      "[2.0271444]\n",
      "[0.0, 0.0]\n"
     ]
    },
    {
     "name": "stderr",
     "output_type": "stream",
     "text": [
      " 13%|█▎        | 308/2300 [1:13:31<7:54:15, 14.28s/it]"
     ]
    },
    {
     "name": "stdout",
     "output_type": "stream",
     "text": [
      "[-35.31302993]\n",
      "[-41.27924374]\n",
      "[2.0801325]\n",
      "[0.0, 0.0]\n"
     ]
    },
    {
     "name": "stderr",
     "output_type": "stream",
     "text": [
      " 13%|█▎        | 309/2300 [1:13:46<7:54:19, 14.29s/it]"
     ]
    },
    {
     "name": "stdout",
     "output_type": "stream",
     "text": [
      "[-34.31315781]\n",
      "[-41.57920785]\n",
      "[2.0831702]\n",
      "[0.0, 0.0]\n"
     ]
    },
    {
     "name": "stderr",
     "output_type": "stream",
     "text": [
      " 13%|█▎        | 310/2300 [1:14:00<7:56:02, 14.35s/it]"
     ]
    },
    {
     "name": "stdout",
     "output_type": "stream",
     "text": [
      "[-33.31327441]\n",
      "[-41.77918904]\n",
      "[2.0858657]\n",
      "[0.0, 0.0]\n"
     ]
    },
    {
     "name": "stderr",
     "output_type": "stream",
     "text": [
      " 14%|█▎        | 311/2300 [1:14:14<7:54:35, 14.32s/it]"
     ]
    },
    {
     "name": "stdout",
     "output_type": "stream",
     "text": [
      "[-32.31338616]\n",
      "[-41.97917097]\n",
      "[2.0904694]\n",
      "[0.0, 0.0]\n"
     ]
    },
    {
     "name": "stderr",
     "output_type": "stream",
     "text": [
      " 14%|█▎        | 312/2300 [1:14:29<7:53:03, 14.28s/it]"
     ]
    },
    {
     "name": "stdout",
     "output_type": "stream",
     "text": [
      "[-31.28032387]\n",
      "[-42.21262761]\n",
      "[2.0871365]\n",
      "[0.0, 0.0]\n"
     ]
    },
    {
     "name": "stderr",
     "output_type": "stream",
     "text": [
      " 14%|█▎        | 313/2300 [1:14:43<7:51:42, 14.24s/it]"
     ]
    },
    {
     "name": "stdout",
     "output_type": "stream",
     "text": [
      "[-30.28041544]\n",
      "[-42.41259844]\n",
      "[2.1148746]\n",
      "[0.0, 0.0]\n"
     ]
    },
    {
     "name": "stderr",
     "output_type": "stream",
     "text": [
      " 14%|█▎        | 314/2300 [1:14:57<7:49:47, 14.19s/it]"
     ]
    },
    {
     "name": "stdout",
     "output_type": "stream",
     "text": [
      "[-29.21371896]\n",
      "[-42.57912167]\n",
      "[2.2234983]\n",
      "[0.0, 0.0]\n"
     ]
    },
    {
     "name": "stderr",
     "output_type": "stream",
     "text": [
      " 14%|█▎        | 315/2300 [1:15:11<7:47:24, 14.13s/it]"
     ]
    },
    {
     "name": "stdout",
     "output_type": "stream",
     "text": [
      "[-28.11383396]\n",
      "[-42.77910517]\n",
      "[2.3869042]\n",
      "[0.0, 0.0]\n"
     ]
    },
    {
     "name": "stderr",
     "output_type": "stream",
     "text": [
      " 14%|█▎        | 316/2300 [1:15:25<7:50:01, 14.21s/it]"
     ]
    },
    {
     "name": "stdout",
     "output_type": "stream",
     "text": [
      "[-26.98072609]\n",
      "[-43.01251685]\n",
      "[2.404183]\n",
      "[0.0, 0.0]\n"
     ]
    },
    {
     "name": "stderr",
     "output_type": "stream",
     "text": [
      " 14%|█▍        | 317/2300 [1:15:39<7:49:27, 14.20s/it]"
     ]
    },
    {
     "name": "stdout",
     "output_type": "stream",
     "text": [
      "[-25.78083821]\n",
      "[-43.2124899]\n",
      "[2.2837546]\n",
      "[0.0, 0.0]\n"
     ]
    },
    {
     "name": "stderr",
     "output_type": "stream",
     "text": [
      " 14%|█▍        | 318/2300 [1:15:54<7:52:02, 14.29s/it]"
     ]
    },
    {
     "name": "stdout",
     "output_type": "stream",
     "text": [
      "[-24.71418726   2.21709091   3.91691176]\n",
      "[-43.37904979   6.28303882   7.2830248 ]\n",
      "[ 2.2033913 22.270672  29.77389  ]\n",
      "[0.0, 0.0]\n",
      "[0.0, 0.0]\n",
      "[0.0, 0.0]\n"
     ]
    },
    {
     "name": "stderr",
     "output_type": "stream",
     "text": [
      " 14%|█▍        | 319/2300 [1:16:10<8:09:05, 14.81s/it]"
     ]
    },
    {
     "name": "stdout",
     "output_type": "stream",
     "text": [
      "[-23.61429966   3.08278285  -5.21620736  -0.18283636  -2.08282342]\n",
      "[-43.57903017  10.61577384  12.11565629   6.2828843   12.7821831 ]\n",
      "[  2.1676803  44.488495   87.501755    9.299824  129.6269   ]\n",
      "[0.0, 0.0]\n",
      "[0.0, 0.0]\n",
      "[0.0, 0.0]\n",
      "[0.0, 0.0]\n",
      "[0.0, 0.0]\n"
     ]
    },
    {
     "name": "stderr",
     "output_type": "stream",
     "text": [
      " 14%|█▍        | 320/2300 [1:16:26<8:25:56, 15.33s/it]"
     ]
    },
    {
     "name": "stdout",
     "output_type": "stream",
     "text": [
      "[-22.51441193]\n",
      "[-43.67902088]\n",
      "[2.1452434]\n",
      "[0.0, 0.0]\n"
     ]
    },
    {
     "name": "stderr",
     "output_type": "stream",
     "text": [
      " 14%|█▍        | 321/2300 [1:16:43<8:34:54, 15.61s/it]"
     ]
    },
    {
     "name": "stdout",
     "output_type": "stream",
     "text": [
      "[-21.48124102]\n",
      "[-43.8124119]\n",
      "[2.1352568]\n",
      "[0.0, 0.0]\n"
     ]
    },
    {
     "name": "stderr",
     "output_type": "stream",
     "text": [
      " 14%|█▍        | 322/2300 [1:16:57<8:20:21, 15.18s/it]"
     ]
    },
    {
     "name": "stdout",
     "output_type": "stream",
     "text": [
      "[-20.41462344]\n",
      "[-43.97899011]\n",
      "[2.1623237]\n",
      "[0.0, 0.0]\n"
     ]
    },
    {
     "name": "stderr",
     "output_type": "stream",
     "text": [
      " 14%|█▍        | 323/2300 [1:17:11<8:09:59, 14.87s/it]"
     ]
    },
    {
     "name": "stdout",
     "output_type": "stream",
     "text": [
      "[-19.28145087]\n",
      "[-44.11237852]\n",
      "[2.1710873]\n",
      "[0.0, 0.0]\n"
     ]
    },
    {
     "name": "stderr",
     "output_type": "stream",
     "text": [
      " 14%|█▍        | 324/2300 [1:17:25<8:05:17, 14.74s/it]"
     ]
    },
    {
     "name": "stdout",
     "output_type": "stream",
     "text": [
      "[-18.21484336]\n",
      "[-44.17896833]\n",
      "[2.1446052]\n",
      "[0.0, 0.0]\n"
     ]
    },
    {
     "name": "stderr",
     "output_type": "stream",
     "text": [
      " 14%|█▍        | 325/2300 [1:17:40<8:01:32, 14.63s/it]"
     ]
    },
    {
     "name": "stdout",
     "output_type": "stream",
     "text": [
      "[-17.1149535]\n",
      "[-44.2789574]\n",
      "[2.1297357]\n",
      "[0.0, 0.0]\n"
     ]
    },
    {
     "name": "stderr",
     "output_type": "stream",
     "text": [
      " 14%|█▍        | 326/2300 [1:17:54<7:58:13, 14.54s/it]"
     ]
    },
    {
     "name": "stdout",
     "output_type": "stream",
     "text": [
      "[-16.01506369]\n",
      "[-44.37894661]\n",
      "[2.122951]\n",
      "[0.0, 0.0]\n"
     ]
    },
    {
     "name": "stderr",
     "output_type": "stream",
     "text": [
      " 14%|█▍        | 327/2300 [1:18:08<7:55:11, 14.45s/it]"
     ]
    },
    {
     "name": "stdout",
     "output_type": "stream",
     "text": [
      "[-14.98185951]\n",
      "[-44.41234001]\n",
      "[2.1444085]\n",
      "[0.0, 0.0]\n"
     ]
    },
    {
     "name": "stderr",
     "output_type": "stream",
     "text": [
      " 14%|█▍        | 328/2300 [1:18:23<7:54:31, 14.44s/it]"
     ]
    },
    {
     "name": "stdout",
     "output_type": "stream",
     "text": [
      "[-13.88196474]\n",
      "[-44.51232803]\n",
      "[2.22562]\n",
      "[0.0, 0.0]\n"
     ]
    },
    {
     "name": "stderr",
     "output_type": "stream",
     "text": [
      " 14%|█▍        | 329/2300 [1:18:37<7:53:30, 14.41s/it]"
     ]
    },
    {
     "name": "stdout",
     "output_type": "stream",
     "text": [
      "[-12.78207134]\n",
      "[-44.61231671]\n",
      "[2.332502]\n",
      "[0.0, 0.0]\n"
     ]
    },
    {
     "name": "stderr",
     "output_type": "stream",
     "text": [
      " 14%|█▍        | 330/2300 [1:18:51<7:50:57, 14.34s/it]"
     ]
    },
    {
     "name": "stdout",
     "output_type": "stream",
     "text": [
      "[-11.58218801]\n",
      "[-44.61231506]\n",
      "[2.3769276]\n",
      "[0.0, 0.0]\n"
     ]
    },
    {
     "name": "stderr",
     "output_type": "stream",
     "text": [
      " 14%|█▍        | 331/2300 [1:19:06<7:50:20, 14.33s/it]"
     ]
    },
    {
     "name": "stdout",
     "output_type": "stream",
     "text": [
      "[-10.41562165]\n",
      "[-44.67891672]\n",
      "[2.313983]\n",
      "[0.0, 0.0]\n"
     ]
    },
    {
     "name": "stderr",
     "output_type": "stream",
     "text": [
      " 14%|█▍        | 332/2300 [1:19:20<7:47:38, 14.26s/it]"
     ]
    },
    {
     "name": "stdout",
     "output_type": "stream",
     "text": [
      "[-9.31573024]\n",
      "[-44.67891653]\n",
      "[2.2774317]\n",
      "[0.0, 0.0]\n"
     ]
    },
    {
     "name": "stderr",
     "output_type": "stream",
     "text": [
      " 14%|█▍        | 333/2300 [1:19:34<7:47:39, 14.27s/it]"
     ]
    },
    {
     "name": "stdout",
     "output_type": "stream",
     "text": [
      "[-8.2158386]\n",
      "[-44.67891553]\n",
      "[2.2799506]\n",
      "[0.0, 0.0]\n"
     ]
    },
    {
     "name": "stderr",
     "output_type": "stream",
     "text": [
      " 15%|█▍        | 334/2300 [1:19:50<8:07:39, 14.88s/it]"
     ]
    },
    {
     "name": "stdout",
     "output_type": "stream",
     "text": [
      "[-7.11594736]\n",
      "[-44.57892406]\n",
      "[2.3037896]\n",
      "[0.0, 0.0]\n"
     ]
    },
    {
     "name": "stderr",
     "output_type": "stream",
     "text": [
      " 15%|█▍        | 335/2300 [1:20:07<8:23:49, 15.38s/it]"
     ]
    },
    {
     "name": "stdout",
     "output_type": "stream",
     "text": [
      "[-6.01605602]\n",
      "[-44.57892265]\n",
      "[2.34029]\n",
      "[0.0, 0.0]\n"
     ]
    },
    {
     "name": "stderr",
     "output_type": "stream",
     "text": [
      " 15%|█▍        | 336/2300 [1:20:21<8:13:15, 15.07s/it]"
     ]
    },
    {
     "name": "stdout",
     "output_type": "stream",
     "text": [
      "[-4.88283433]\n",
      "[-44.51232019]\n",
      "[2.4013414]\n",
      "[0.0, 0.0]\n"
     ]
    },
    {
     "name": "stderr",
     "output_type": "stream",
     "text": [
      " 15%|█▍        | 337/2300 [1:20:36<8:07:00, 14.89s/it]"
     ]
    },
    {
     "name": "stdout",
     "output_type": "stream",
     "text": [
      "[-3.81627406]\n",
      "[-44.47892866]\n",
      "[2.5007207]\n",
      "[0.0, 0.0]\n"
     ]
    },
    {
     "name": "stderr",
     "output_type": "stream",
     "text": [
      " 15%|█▍        | 338/2300 [1:20:50<8:01:50, 14.74s/it]"
     ]
    },
    {
     "name": "stdout",
     "output_type": "stream",
     "text": [
      "[-2.58305645]\n",
      "[-44.31233919]\n",
      "[2.6730297]\n",
      "[0.0, 0.0]\n"
     ]
    },
    {
     "name": "stderr",
     "output_type": "stream",
     "text": [
      " 15%|█▍        | 339/2300 [1:21:05<7:58:13, 14.63s/it]"
     ]
    },
    {
     "name": "stdout",
     "output_type": "stream",
     "text": [
      "[-1.41650781]\n",
      "[-44.17895375]\n",
      "[2.901997]\n",
      "[0.0, 0.0]\n"
     ]
    },
    {
     "name": "stderr",
     "output_type": "stream",
     "text": [
      " 15%|█▍        | 340/2300 [1:21:19<7:51:49, 14.44s/it]"
     ]
    },
    {
     "name": "stdout",
     "output_type": "stream",
     "text": [
      "[-0.01664489]\n",
      "[-43.87897919]\n",
      "[3.4778683]\n",
      "[0.0, 0.0]\n"
     ]
    },
    {
     "name": "stderr",
     "output_type": "stream",
     "text": [
      " 15%|█▍        | 341/2300 [1:21:33<7:54:31, 14.53s/it]"
     ]
    },
    {
     "name": "stdout",
     "output_type": "stream",
     "text": [
      "[1.81652069]\n",
      "[-43.41242972]\n",
      "[6.088641]\n",
      "[0.0, 0.0]\n"
     ]
    },
    {
     "name": "stderr",
     "output_type": "stream",
     "text": [
      " 15%|█▍        | 342/2300 [1:21:49<8:09:02, 14.99s/it]"
     ]
    },
    {
     "name": "stdout",
     "output_type": "stream",
     "text": [
      "[10.61564745]\n",
      "[-41.71261254]\n",
      "[4.7493677]\n",
      "[0.0, 0.0]\n"
     ]
    },
    {
     "name": "stderr",
     "output_type": "stream",
     "text": [
      " 15%|█▍        | 343/2300 [1:22:04<8:01:29, 14.76s/it]"
     ]
    },
    {
     "name": "stdout",
     "output_type": "stream",
     "text": [
      "[12.41546691]\n",
      "[-41.51263208]\n",
      "[3.631623]\n",
      "[0.0, 0.0]\n"
     ]
    },
    {
     "name": "stderr",
     "output_type": "stream",
     "text": [
      " 15%|█▍        | 344/2300 [1:22:18<7:58:05, 14.67s/it]"
     ]
    },
    {
     "name": "stdout",
     "output_type": "stream",
     "text": [
      "[13.91531515]\n",
      "[-41.31265121]\n",
      "[3.320914]\n",
      "[0.0, 0.0]\n"
     ]
    },
    {
     "name": "stderr",
     "output_type": "stream",
     "text": [
      " 15%|█▌        | 345/2300 [1:22:32<7:53:24, 14.53s/it]"
     ]
    },
    {
     "name": "stdout",
     "output_type": "stream",
     "text": [
      "[15.28186974]\n",
      "[-41.07925776]\n",
      "[3.3172982]\n",
      "[0.0, 0.0]\n"
     ]
    },
    {
     "name": "stderr",
     "output_type": "stream",
     "text": [
      " 15%|█▌        | 346/2300 [1:22:46<7:50:09, 14.44s/it]"
     ]
    },
    {
     "name": "stdout",
     "output_type": "stream",
     "text": [
      "[16.68173086]\n",
      "[-40.77929081]\n",
      "[3.3617272]\n",
      "[0.0, 0.0]\n"
     ]
    },
    {
     "name": "stderr",
     "output_type": "stream",
     "text": [
      " 15%|█▌        | 347/2300 [1:23:01<7:49:31, 14.42s/it]"
     ]
    },
    {
     "name": "stdout",
     "output_type": "stream",
     "text": [
      "[18.08159306]\n",
      "[-40.47932446]\n",
      "[3.304181]\n",
      "[0.0, 0.0]\n"
     ]
    },
    {
     "name": "stderr",
     "output_type": "stream",
     "text": [
      " 15%|█▌        | 348/2300 [1:23:14<7:41:36, 14.19s/it]"
     ]
    },
    {
     "name": "stdout",
     "output_type": "stream",
     "text": [
      "[19.41476332]\n",
      "[-40.11276502]\n",
      "[3.3755238]\n",
      "[0.0, 0.0]\n"
     ]
    },
    {
     "name": "stderr",
     "output_type": "stream",
     "text": [
      " 15%|█▌        | 349/2300 [1:23:29<7:41:17, 14.19s/it]"
     ]
    },
    {
     "name": "stdout",
     "output_type": "stream",
     "text": [
      "[20.7813274]\n",
      "[-39.67941006]\n",
      "[3.3323874]\n",
      "[0.0, 0.0]\n"
     ]
    },
    {
     "name": "stderr",
     "output_type": "stream",
     "text": [
      " 15%|█▌        | 350/2300 [1:23:43<7:43:23, 14.26s/it]"
     ]
    },
    {
     "name": "stdout",
     "output_type": "stream",
     "text": [
      "[-43.07889254]\n",
      "[-38.51264388]\n",
      "[2.0186598]\n",
      "[0.0, 0.0]\n"
     ]
    },
    {
     "name": "stderr",
     "output_type": "stream",
     "text": [
      " 15%|█▌        | 351/2300 [1:23:57<7:40:30, 14.18s/it]"
     ]
    },
    {
     "name": "stdout",
     "output_type": "stream",
     "text": [
      "[-42.17891973]\n",
      "[-38.71254368]\n",
      "[2.0266623]\n",
      "[0.0, 0.0]\n"
     ]
    },
    {
     "name": "stderr",
     "output_type": "stream",
     "text": [
      " 15%|█▌        | 352/2300 [1:24:11<7:37:44, 14.10s/it]"
     ]
    },
    {
     "name": "stdout",
     "output_type": "stream",
     "text": [
      "[-41.27884931]\n",
      "[-39.01235138]\n",
      "[2.0478787]\n",
      "[0.0, 0.0]\n"
     ]
    },
    {
     "name": "stderr",
     "output_type": "stream",
     "text": [
      " 15%|█▌        | 353/2300 [1:24:25<7:37:03, 14.09s/it]"
     ]
    },
    {
     "name": "stdout",
     "output_type": "stream",
     "text": [
      "[-40.31392641]\n",
      "[-39.27974275]\n",
      "[2.0494058]\n",
      "[0.0, 0.0]\n"
     ]
    },
    {
     "name": "stderr",
     "output_type": "stream",
     "text": [
      " 15%|█▌        | 354/2300 [1:24:39<7:38:46, 14.15s/it]"
     ]
    },
    {
     "name": "stdout",
     "output_type": "stream",
     "text": [
      "[-39.39280144]\n",
      "[-39.52437897]\n",
      "[2.0326653]\n",
      "[0.0, 0.0]\n"
     ]
    },
    {
     "name": "stderr",
     "output_type": "stream",
     "text": [
      " 15%|█▌        | 355/2300 [1:24:53<7:38:17, 14.14s/it]"
     ]
    },
    {
     "name": "stdout",
     "output_type": "stream",
     "text": [
      "[-38.4802248]\n",
      "[-39.81364984]\n",
      "[2.021528]\n",
      "[0.0, 0.0]\n"
     ]
    },
    {
     "name": "stderr",
     "output_type": "stream",
     "text": [
      " 15%|█▌        | 356/2300 [1:25:08<7:40:27, 14.21s/it]"
     ]
    },
    {
     "name": "stdout",
     "output_type": "stream",
     "text": [
      "[-37.48005456]\n",
      "[-40.01318067]\n",
      "[2.0225089]\n",
      "[0.0, 0.0]\n"
     ]
    },
    {
     "name": "stderr",
     "output_type": "stream",
     "text": [
      " 16%|█▌        | 357/2300 [1:25:22<7:40:49, 14.23s/it]"
     ]
    },
    {
     "name": "stdout",
     "output_type": "stream",
     "text": [
      "[-36.57997725]\n",
      "[-40.31300372]\n",
      "[2.0308607]\n",
      "[0.0, 0.0]\n"
     ]
    },
    {
     "name": "stderr",
     "output_type": "stream",
     "text": [
      " 16%|█▌        | 358/2300 [1:25:37<7:43:10, 14.31s/it]"
     ]
    },
    {
     "name": "stdout",
     "output_type": "stream",
     "text": [
      "[-35.58001682]\n",
      "[-40.51290841]\n",
      "[2.0936337]\n",
      "[0.0, 0.0]\n"
     ]
    },
    {
     "name": "stderr",
     "output_type": "stream",
     "text": [
      " 16%|█▌        | 359/2300 [1:25:51<7:43:23, 14.32s/it]"
     ]
    },
    {
     "name": "stdout",
     "output_type": "stream",
     "text": [
      "[-34.6131067]\n",
      "[-40.77928612]\n",
      "[2.1232135]\n",
      "[0.0, 0.0]\n"
     ]
    },
    {
     "name": "stderr",
     "output_type": "stream",
     "text": [
      " 16%|█▌        | 360/2300 [1:26:05<7:40:35, 14.24s/it]"
     ]
    },
    {
     "name": "stdout",
     "output_type": "stream",
     "text": [
      "[-33.51324118]\n",
      "[-40.97927003]\n",
      "[2.1324558]\n",
      "[0.0, 0.0]\n"
     ]
    },
    {
     "name": "stderr",
     "output_type": "stream",
     "text": [
      " 16%|█▌        | 361/2300 [1:26:20<7:43:52, 14.35s/it]"
     ]
    },
    {
     "name": "stdout",
     "output_type": "stream",
     "text": [
      "[-32.48022596]\n",
      "[-41.21274879]\n",
      "[2.1440005]\n",
      "[0.0, 0.0]\n"
     ]
    },
    {
     "name": "stderr",
     "output_type": "stream",
     "text": [
      " 16%|█▌        | 362/2300 [1:26:34<7:41:11, 14.28s/it]"
     ]
    },
    {
     "name": "stdout",
     "output_type": "stream",
     "text": [
      "[-31.48031331]\n",
      "[-41.41271639]\n",
      "[2.1327565]\n",
      "[0.0, 0.0]\n"
     ]
    },
    {
     "name": "stderr",
     "output_type": "stream",
     "text": [
      " 16%|█▌        | 363/2300 [1:26:48<7:39:49, 14.24s/it]"
     ]
    },
    {
     "name": "stdout",
     "output_type": "stream",
     "text": [
      "[-30.48040345]\n",
      "[-41.61268581]\n",
      "[2.1352947]\n",
      "[0.0, 0.0]\n"
     ]
    },
    {
     "name": "stderr",
     "output_type": "stream",
     "text": [
      " 16%|█▌        | 364/2300 [1:27:02<7:38:15, 14.20s/it]"
     ]
    },
    {
     "name": "stdout",
     "output_type": "stream",
     "text": [
      "[-29.38050586]\n",
      "[-41.8126558]\n",
      "[2.2098255]\n",
      "[0.0, 0.0]\n"
     ]
    },
    {
     "name": "stderr",
     "output_type": "stream",
     "text": [
      " 16%|█▌        | 365/2300 [1:27:16<7:37:25, 14.18s/it]"
     ]
    },
    {
     "name": "stdout",
     "output_type": "stream",
     "text": [
      "[-28.28060825]\n",
      "[-42.01262729]\n",
      "[2.3461819]\n",
      "[0.0, 0.0]\n"
     ]
    },
    {
     "name": "stderr",
     "output_type": "stream",
     "text": [
      " 16%|█▌        | 366/2300 [1:27:30<7:38:21, 14.22s/it]"
     ]
    },
    {
     "name": "stdout",
     "output_type": "stream",
     "text": [
      "[-27.21392349]\n",
      "[-42.27915463]\n",
      "[2.4319286]\n",
      "[0.0, 0.0]\n"
     ]
    },
    {
     "name": "stderr",
     "output_type": "stream",
     "text": [
      " 16%|█▌        | 367/2300 [1:27:44<7:35:25, 14.14s/it]"
     ]
    },
    {
     "name": "stdout",
     "output_type": "stream",
     "text": [
      "[-26.01404861]\n",
      "[-42.47913745]\n",
      "[2.3603315]\n",
      "[0.0, 0.0]\n"
     ]
    },
    {
     "name": "stderr",
     "output_type": "stream",
     "text": [
      " 16%|█▌        | 368/2300 [1:27:58<7:34:54, 14.13s/it]"
     ]
    },
    {
     "name": "stdout",
     "output_type": "stream",
     "text": [
      "[-24.91416399   1.81728501   6.01764917]\n",
      "[-42.67911782   4.98324166   6.68435737]\n",
      "[ 2.2632058  5.5169067 11.020787 ]\n",
      "[0.0, 0.0]\n",
      "[0.0, 0.0]\n",
      "[0.0, 0.0]\n"
     ]
    },
    {
     "name": "stderr",
     "output_type": "stream",
     "text": [
      " 16%|█▌        | 369/2300 [1:28:15<7:56:21, 14.80s/it]"
     ]
    },
    {
     "name": "stdout",
     "output_type": "stream",
     "text": [
      "[  6.78183929  -2.91648613 -23.7810262    0.11723196  -8.98230015]\n",
      "[  8.51531982  14.61540445 -42.81252088   5.08305018  11.6822005 ]\n",
      "[14.720157  31.527668   2.2012196  3.9616716 22.92921  ]\n",
      "[0.0, 0.0]\n",
      "[0.0, 0.0]\n",
      "[0.0, 0.0]\n",
      "[0.0, 0.0]\n",
      "[0.0, 0.0]\n"
     ]
    },
    {
     "name": "stderr",
     "output_type": "stream",
     "text": [
      " 16%|█▌        | 370/2300 [1:28:35<8:49:37, 16.47s/it]"
     ]
    },
    {
     "name": "stdout",
     "output_type": "stream",
     "text": [
      "[ -7.91590268 -22.68112929  -1.78274375]\n",
      "[  9.2159179  -43.01249688   5.58289726]\n",
      "[16.103697   2.1735957  7.3971257]\n",
      "[0.0, 0.0]\n",
      "[0.0, 0.0]\n",
      "[0.0, 0.0]\n"
     ]
    },
    {
     "name": "stderr",
     "output_type": "stream",
     "text": [
      " 16%|█▌        | 371/2300 [1:28:52<8:55:03, 16.64s/it]"
     ]
    },
    {
     "name": "stdout",
     "output_type": "stream",
     "text": [
      "[-21.58123293]\n",
      "[-43.11248272]\n",
      "[2.1754875]\n",
      "[0.0, 0.0]\n"
     ]
    },
    {
     "name": "stderr",
     "output_type": "stream",
     "text": [
      " 16%|█▌        | 372/2300 [1:29:06<8:28:58, 15.84s/it]"
     ]
    },
    {
     "name": "stdout",
     "output_type": "stream",
     "text": [
      "[-20.51461255]\n",
      "[-43.2790585]\n",
      "[2.1915011]\n",
      "[0.0, 0.0]\n"
     ]
    },
    {
     "name": "stderr",
     "output_type": "stream",
     "text": [
      " 16%|█▌        | 373/2300 [1:29:20<8:12:12, 15.33s/it]"
     ]
    },
    {
     "name": "stdout",
     "output_type": "stream",
     "text": [
      "[-19.41472226]\n",
      "[-43.37904773]\n",
      "[2.205182]\n",
      "[0.0, 0.0]\n"
     ]
    },
    {
     "name": "stderr",
     "output_type": "stream",
     "text": [
      " 16%|█▋        | 374/2300 [1:29:35<8:01:51, 15.01s/it]"
     ]
    },
    {
     "name": "stdout",
     "output_type": "stream",
     "text": [
      "[-18.31483244]\n",
      "[-43.47903679]\n",
      "[2.1948726]\n",
      "[0.0, 0.0]\n"
     ]
    },
    {
     "name": "stderr",
     "output_type": "stream",
     "text": [
      " 16%|█▋        | 375/2300 [1:29:49<7:52:46, 14.74s/it]"
     ]
    },
    {
     "name": "stdout",
     "output_type": "stream",
     "text": [
      "[-17.21494274]\n",
      "[-43.57902601]\n",
      "[2.184657]\n",
      "[0.0, 0.0]\n"
     ]
    },
    {
     "name": "stderr",
     "output_type": "stream",
     "text": [
      " 16%|█▋        | 376/2300 [1:30:03<7:44:20, 14.48s/it]"
     ]
    },
    {
     "name": "stdout",
     "output_type": "stream",
     "text": [
      "[-16.11505296]\n",
      "[-43.67901518]\n",
      "[2.1810791]\n",
      "[0.0, 0.0]\n"
     ]
    },
    {
     "name": "stderr",
     "output_type": "stream",
     "text": [
      " 16%|█▋        | 377/2300 [1:30:17<7:41:02, 14.38s/it]"
     ]
    },
    {
     "name": "stdout",
     "output_type": "stream",
     "text": [
      "[-15.01516322]\n",
      "[-43.67901453]\n",
      "[2.2008612]\n",
      "[0.0, 0.0]\n"
     ]
    },
    {
     "name": "stderr",
     "output_type": "stream",
     "text": [
      " 16%|█▋        | 378/2300 [1:30:31<7:37:30, 14.28s/it]"
     ]
    },
    {
     "name": "stdout",
     "output_type": "stream",
     "text": [
      "[-13.98195575]\n",
      "[-43.81239766]\n",
      "[2.2690284]\n",
      "[0.0, 0.0]\n"
     ]
    },
    {
     "name": "stderr",
     "output_type": "stream",
     "text": [
      " 16%|█▋        | 379/2300 [1:30:45<7:33:39, 14.17s/it]"
     ]
    },
    {
     "name": "stdout",
     "output_type": "stream",
     "text": [
      "[-12.81538265]\n",
      "[-43.87899453]\n",
      "[2.4277134]\n",
      "[0.0, 0.0]\n"
     ]
    },
    {
     "name": "stderr",
     "output_type": "stream",
     "text": [
      " 17%|█▋        | 380/2300 [1:30:59<7:32:16, 14.13s/it]"
     ]
    },
    {
     "name": "stdout",
     "output_type": "stream",
     "text": [
      "[-11.615502]\n",
      "[-43.87899491]\n",
      "[2.5126193]\n",
      "[0.0, 0.0]\n"
     ]
    },
    {
     "name": "stderr",
     "output_type": "stream",
     "text": [
      " 17%|█▋        | 381/2300 [1:31:13<7:32:03, 14.13s/it]"
     ]
    },
    {
     "name": "stdout",
     "output_type": "stream",
     "text": [
      "[-10.48229491]\n",
      "[-43.91238308]\n",
      "[2.4103534]\n",
      "[0.0, 0.0]\n"
     ]
    },
    {
     "name": "stderr",
     "output_type": "stream",
     "text": [
      " 17%|█▋        | 382/2300 [1:31:27<7:32:04, 14.14s/it]"
     ]
    },
    {
     "name": "stdout",
     "output_type": "stream",
     "text": [
      "[-9.28241124]\n",
      "[-43.91238204]\n",
      "[2.3363996]\n",
      "[0.0, 0.0]\n"
     ]
    },
    {
     "name": "stderr",
     "output_type": "stream",
     "text": [
      " 17%|█▋        | 383/2300 [1:31:42<7:35:36, 14.26s/it]"
     ]
    },
    {
     "name": "stdout",
     "output_type": "stream",
     "text": [
      "[-8.18251719]\n",
      "[-43.91238131]\n",
      "[2.3164463]\n",
      "[0.0, 0.0]\n"
     ]
    },
    {
     "name": "stderr",
     "output_type": "stream",
     "text": [
      " 17%|█▋        | 384/2300 [1:31:55<7:29:36, 14.08s/it]"
     ]
    },
    {
     "name": "stdout",
     "output_type": "stream",
     "text": [
      "[-7.11594699]\n",
      "[-43.87899154]\n",
      "[2.3284125]\n",
      "[0.0, 0.0]\n"
     ]
    },
    {
     "name": "stderr",
     "output_type": "stream",
     "text": [
      " 17%|█▋        | 385/2300 [1:32:09<7:29:57, 14.10s/it]"
     ]
    },
    {
     "name": "stdout",
     "output_type": "stream",
     "text": [
      "[-5.98272792]\n",
      "[-43.81238953]\n",
      "[2.3794036]\n",
      "[0.0, 0.0]\n"
     ]
    },
    {
     "name": "stderr",
     "output_type": "stream",
     "text": [
      " 17%|█▋        | 386/2300 [1:32:24<7:30:54, 14.14s/it]"
     ]
    },
    {
     "name": "stdout",
     "output_type": "stream",
     "text": [
      "[-4.88283266]\n",
      "[-43.81238912]\n",
      "[2.4420352]\n",
      "[0.0, 0.0]\n"
     ]
    },
    {
     "name": "stderr",
     "output_type": "stream",
     "text": [
      " 17%|█▋        | 387/2300 [1:32:38<7:29:16, 14.09s/it]"
     ]
    },
    {
     "name": "stdout",
     "output_type": "stream",
     "text": [
      "[-3.71628275]\n",
      "[-43.67900464]\n",
      "[2.5614872]\n",
      "[0.0, 0.0]\n"
     ]
    },
    {
     "name": "stderr",
     "output_type": "stream",
     "text": [
      " 17%|█▋        | 388/2300 [1:32:52<7:28:48, 14.08s/it]"
     ]
    },
    {
     "name": "stdout",
     "output_type": "stream",
     "text": [
      "[-2.48306364]\n",
      "[-43.51241804]\n",
      "[2.742934]\n",
      "[0.0, 0.0]\n"
     ]
    },
    {
     "name": "stderr",
     "output_type": "stream",
     "text": [
      " 17%|█▋        | 389/2300 [1:33:06<7:30:42, 14.15s/it]"
     ]
    },
    {
     "name": "stdout",
     "output_type": "stream",
     "text": [
      "[-1.18318791]\n",
      "[-43.31243794]\n",
      "[3.0566838]\n",
      "[0.0, 0.0]\n"
     ]
    },
    {
     "name": "stderr",
     "output_type": "stream",
     "text": [
      " 17%|█▋        | 390/2300 [1:33:20<7:28:24, 14.09s/it]"
     ]
    },
    {
     "name": "stdout",
     "output_type": "stream",
     "text": [
      "[0.31666877]\n",
      "[-43.01246769]\n",
      "[3.9046528]\n",
      "[0.0, 0.0]\n"
     ]
    },
    {
     "name": "stderr",
     "output_type": "stream",
     "text": [
      " 17%|█▋        | 391/2300 [1:33:34<7:30:34, 14.16s/it]"
     ]
    },
    {
     "name": "stdout",
     "output_type": "stream",
     "text": [
      "[3.41636771 4.6162494  7.11600123]\n",
      "[-42.1125604  -41.7126028  -41.21265886]\n",
      "[39.917458 63.05289  24.584044]\n",
      "[0.0, 0.0]\n",
      "[0.0, 0.0]\n",
      "[0.0, 0.0]\n"
     ]
    },
    {
     "name": "stderr",
     "output_type": "stream",
     "text": [
      " 17%|█▋        | 392/2300 [1:33:49<7:31:41, 14.20s/it]"
     ]
    },
    {
     "name": "stdout",
     "output_type": "stream",
     "text": [
      "[10.8156281]\n",
      "[-40.9126944]\n",
      "[4.6750793]\n",
      "[0.0, 0.0]\n"
     ]
    },
    {
     "name": "stderr",
     "output_type": "stream",
     "text": [
      " 17%|█▋        | 393/2300 [1:34:03<7:30:01, 14.16s/it]"
     ]
    },
    {
     "name": "stdout",
     "output_type": "stream",
     "text": [
      "[12.61544635]\n",
      "[-40.71271398]\n",
      "[3.6318507]\n",
      "[0.0, 0.0]\n"
     ]
    },
    {
     "name": "stderr",
     "output_type": "stream",
     "text": [
      " 17%|█▋        | 394/2300 [1:34:17<7:29:18, 14.14s/it]"
     ]
    },
    {
     "name": "stdout",
     "output_type": "stream",
     "text": [
      "[14.08199228]\n",
      "[-40.47931017]\n",
      "[3.3614898]\n",
      "[0.0, 0.0]\n"
     ]
    },
    {
     "name": "stderr",
     "output_type": "stream",
     "text": [
      " 17%|█▋        | 395/2300 [1:34:31<7:29:32, 14.16s/it]"
     ]
    },
    {
     "name": "stdout",
     "output_type": "stream",
     "text": [
      "[15.58184345]\n",
      "[-40.17934461]\n",
      "[3.448677]\n",
      "[0.0, 0.0]\n"
     ]
    },
    {
     "name": "stderr",
     "output_type": "stream",
     "text": [
      " 17%|█▋        | 396/2300 [1:34:45<7:28:36, 14.14s/it]"
     ]
    },
    {
     "name": "stdout",
     "output_type": "stream",
     "text": [
      "[16.98170413]\n",
      "[-39.87937862]\n",
      "[3.4622397]\n",
      "[0.0, 0.0]\n"
     ]
    },
    {
     "name": "stderr",
     "output_type": "stream",
     "text": [
      " 17%|█▋        | 397/2300 [1:34:59<7:28:20, 14.14s/it]"
     ]
    },
    {
     "name": "stdout",
     "output_type": "stream",
     "text": [
      "[18.41486231]\n",
      "[-39.51282655]\n",
      "[3.4897697]\n",
      "[0.0, 0.0]\n"
     ]
    },
    {
     "name": "stderr",
     "output_type": "stream",
     "text": [
      " 17%|█▋        | 398/2300 [1:35:13<7:30:22, 14.21s/it]"
     ]
    },
    {
     "name": "stdout",
     "output_type": "stream",
     "text": [
      "[19.81472152]\n",
      "[-39.11286478]\n",
      "[3.4856975]\n",
      "[0.0, 0.0]\n"
     ]
    },
    {
     "name": "stderr",
     "output_type": "stream",
     "text": [
      " 17%|█▋        | 399/2300 [1:35:27<7:27:27, 14.12s/it]"
     ]
    },
    {
     "name": "stdout",
     "output_type": "stream",
     "text": [
      "[21.18128939]\n",
      "[-38.67950891]\n",
      "[3.5930185]\n",
      "[0.0, 0.0]\n"
     ]
    },
    {
     "name": "stderr",
     "output_type": "stream",
     "text": [
      " 17%|█▋        | 400/2300 [1:35:42<7:29:17, 14.19s/it]"
     ]
    },
    {
     "name": "stdout",
     "output_type": "stream",
     "text": [
      "[-43.3126221]\n",
      "[-37.57967815]\n",
      "[2.0313623]\n",
      "[0.0, 0.0]\n"
     ]
    },
    {
     "name": "stderr",
     "output_type": "stream",
     "text": [
      " 17%|█▋        | 401/2300 [1:35:56<7:28:46, 14.18s/it]"
     ]
    },
    {
     "name": "stdout",
     "output_type": "stream",
     "text": [
      "[-42.41276675]\n",
      "[-37.87965568]\n",
      "[2.025043]\n",
      "[0.0, 0.0]\n"
     ]
    },
    {
     "name": "stderr",
     "output_type": "stream",
     "text": [
      " 17%|█▋        | 402/2300 [1:36:10<7:26:15, 14.11s/it]"
     ]
    },
    {
     "name": "stdout",
     "output_type": "stream",
     "text": [
      "[-41.5129529]\n",
      "[-38.17963297]\n",
      "[2.0531087]\n",
      "[0.0, 0.0]\n"
     ]
    },
    {
     "name": "stderr",
     "output_type": "stream",
     "text": [
      " 18%|█▊        | 403/2300 [1:36:24<7:25:35, 14.09s/it]"
     ]
    },
    {
     "name": "stdout",
     "output_type": "stream",
     "text": [
      "[-40.57892342]\n",
      "[-38.41239225]\n",
      "[2.083334]\n",
      "[0.0, 0.0]\n"
     ]
    },
    {
     "name": "stderr",
     "output_type": "stream",
     "text": [
      " 18%|█▊        | 404/2300 [1:36:38<7:27:49, 14.17s/it]"
     ]
    },
    {
     "name": "stdout",
     "output_type": "stream",
     "text": [
      "[-39.67841754]\n",
      "[-38.71183047]\n",
      "[2.081708]\n",
      "[0.0, 0.0]\n"
     ]
    },
    {
     "name": "stderr",
     "output_type": "stream",
     "text": [
      " 18%|█▊        | 405/2300 [1:36:52<7:23:21, 14.04s/it]"
     ]
    },
    {
     "name": "stdout",
     "output_type": "stream",
     "text": [
      "[-38.71031614]\n",
      "[-38.97907831]\n",
      "[2.0739615]\n",
      "[0.0, 0.0]\n"
     ]
    },
    {
     "name": "stderr",
     "output_type": "stream",
     "text": [
      " 18%|█▊        | 406/2300 [1:37:06<7:23:09, 14.04s/it]"
     ]
    },
    {
     "name": "stdout",
     "output_type": "stream",
     "text": [
      "[-37.78031387]\n",
      "[-39.21363013]\n",
      "[2.0714653]\n",
      "[0.0, 0.0]\n"
     ]
    },
    {
     "name": "stderr",
     "output_type": "stream",
     "text": [
      " 18%|█▊        | 407/2300 [1:37:20<7:22:58, 14.04s/it]"
     ]
    },
    {
     "name": "stdout",
     "output_type": "stream",
     "text": [
      "[-36.81267851]\n",
      "[-39.4794156]\n",
      "[2.0754673]\n",
      "[0.0, 0.0]\n"
     ]
    },
    {
     "name": "stderr",
     "output_type": "stream",
     "text": [
      " 18%|█▊        | 408/2300 [1:37:34<7:20:09, 13.96s/it]"
     ]
    },
    {
     "name": "stdout",
     "output_type": "stream",
     "text": [
      "[-35.7800646]\n",
      "[-39.71304101]\n",
      "[2.1132603]\n",
      "[0.0, 0.0]\n"
     ]
    },
    {
     "name": "stderr",
     "output_type": "stream",
     "text": [
      " 18%|█▊        | 409/2300 [1:37:48<7:22:44, 14.05s/it]"
     ]
    },
    {
     "name": "stdout",
     "output_type": "stream",
     "text": [
      "[-34.81305928]\n",
      "[-39.97937479]\n",
      "[2.1594965]\n",
      "[0.0, 0.0]\n"
     ]
    },
    {
     "name": "stderr",
     "output_type": "stream",
     "text": [
      " 18%|█▊        | 410/2300 [1:38:02<7:22:21, 14.04s/it]"
     ]
    },
    {
     "name": "stdout",
     "output_type": "stream",
     "text": [
      "[-33.78013658]\n",
      "[-40.21288169]\n",
      "[2.179728]\n",
      "[0.0, 0.0]\n"
     ]
    },
    {
     "name": "stderr",
     "output_type": "stream",
     "text": [
      " 18%|█▊        | 411/2300 [1:38:16<7:20:32, 13.99s/it]"
     ]
    },
    {
     "name": "stdout",
     "output_type": "stream",
     "text": [
      "[-32.71332328]\n",
      "[-40.37932975]\n",
      "[2.206567]\n",
      "[0.0, 0.0]\n"
     ]
    },
    {
     "name": "stderr",
     "output_type": "stream",
     "text": [
      " 18%|█▊        | 412/2300 [1:38:30<7:22:08, 14.05s/it]"
     ]
    },
    {
     "name": "stdout",
     "output_type": "stream",
     "text": [
      "[-31.71343398]\n",
      "[-40.67929496]\n",
      "[2.1903458]\n",
      "[0.0, 0.0]\n"
     ]
    },
    {
     "name": "stderr",
     "output_type": "stream",
     "text": [
      " 18%|█▊        | 413/2300 [1:38:44<7:21:49, 14.05s/it]"
     ]
    },
    {
     "name": "stdout",
     "output_type": "stream",
     "text": [
      "[-30.68039041]\n",
      "[-40.91276494]\n",
      "[2.1685855]\n",
      "[0.0, 0.0]\n"
     ]
    },
    {
     "name": "stderr",
     "output_type": "stream",
     "text": [
      " 18%|█▊        | 414/2300 [1:38:58<7:19:49, 13.99s/it]"
     ]
    },
    {
     "name": "stdout",
     "output_type": "stream",
     "text": [
      "[-29.61366402]\n",
      "[-41.07926588]\n",
      "[2.2037747]\n",
      "[0.0, 0.0]\n"
     ]
    },
    {
     "name": "stderr",
     "output_type": "stream",
     "text": [
      " 18%|█▊        | 415/2300 [1:39:12<7:20:05, 14.01s/it]"
     ]
    },
    {
     "name": "stdout",
     "output_type": "stream",
     "text": [
      "[-28.51378226]\n",
      "[-41.27925027]\n",
      "[2.3004267]\n",
      "[0.0, 0.0]\n"
     ]
    },
    {
     "name": "stderr",
     "output_type": "stream",
     "text": [
      " 18%|█▊        | 416/2300 [1:39:27<7:23:40, 14.13s/it]"
     ]
    },
    {
     "name": "stdout",
     "output_type": "stream",
     "text": [
      "[-27.41389845]\n",
      "[-41.47923336]\n",
      "[2.4037416]\n",
      "[0.0, 0.0]\n"
     ]
    },
    {
     "name": "stderr",
     "output_type": "stream",
     "text": [
      " 18%|█▊        | 417/2300 [1:39:40<7:18:15, 13.96s/it]"
     ]
    },
    {
     "name": "stdout",
     "output_type": "stream",
     "text": [
      "[-26.21402387]\n",
      "[-41.67921659]\n",
      "[2.4205334]\n",
      "[0.0, 0.0]\n"
     ]
    },
    {
     "name": "stderr",
     "output_type": "stream",
     "text": [
      " 18%|█▊        | 418/2300 [1:39:56<7:31:52, 14.41s/it]"
     ]
    },
    {
     "name": "stdout",
     "output_type": "stream",
     "text": [
      "[  7.28317134 -25.08090839   1.71748383 -10.78214551  -8.48233989]\n",
      "[  5.7164774  -41.91261927   4.18341483  14.08196841  15.58184286]\n",
      "[ 7.751063   2.3344886  3.1833086 46.24649   45.973213 ]\n",
      "[0.0, 0.0]\n",
      "[0.0, 0.0]\n",
      "[0.0, 0.0]\n",
      "[0.0, 0.0]\n",
      "[0.0, 0.0]\n"
     ]
    },
    {
     "name": "stderr",
     "output_type": "stream",
     "text": [
      " 18%|█▊        | 419/2300 [1:40:13<7:56:01, 15.18s/it]"
     ]
    },
    {
     "name": "stdout",
     "output_type": "stream",
     "text": [
      "[-23.91426453   0.38299884   8.58295527  -3.31645386 -11.48209291]\n",
      "[-42.07917772   4.31665273   6.91697754  16.11521669  11.18223486]\n",
      "[ 2.2469418  2.5412695  9.139626  17.474018  14.315646 ]\n",
      "[0.0, 0.0]\n",
      "[0.0, 0.0]\n",
      "[0.0, 0.0]\n",
      "[0.0, 0.0]\n",
      "[0.0, 0.0]\n"
     ]
    },
    {
     "name": "stderr",
     "output_type": "stream",
     "text": [
      " 18%|█▊        | 420/2300 [1:40:31<8:27:16, 16.19s/it]"
     ]
    },
    {
     "name": "stdout",
     "output_type": "stream",
     "text": [
      "[-22.81437705   8.87370955  -0.98272227 -10.08221496   1.51674929]\n",
      "[-42.27915728   8.8073043    4.58304618   9.18243066  14.88208245]\n",
      "[ 2.2132738 15.489682   3.166697  11.746589  20.038286 ]\n",
      "[0.0, 0.0]\n",
      "[0.0, 0.0]\n",
      "[0.0, 0.0]\n",
      "[0.0, 0.0]\n",
      "[0.0, 0.0]\n"
     ]
    },
    {
     "name": "stderr",
     "output_type": "stream",
     "text": [
      " 18%|█▊        | 421/2300 [1:40:49<8:45:56, 16.79s/it]"
     ]
    },
    {
     "name": "stdout",
     "output_type": "stream",
     "text": [
      "[-21.71448936]\n",
      "[-42.37914741]\n",
      "[2.2224743]\n",
      "[0.0, 0.0]\n"
     ]
    },
    {
     "name": "stderr",
     "output_type": "stream",
     "text": [
      " 18%|█▊        | 422/2300 [1:41:05<8:39:24, 16.59s/it]"
     ]
    },
    {
     "name": "stdout",
     "output_type": "stream",
     "text": [
      "[-20.58132884]\n",
      "[-42.51253991]\n",
      "[2.2290995]\n",
      "[0.0, 0.0]\n"
     ]
    },
    {
     "name": "stderr",
     "output_type": "stream",
     "text": [
      " 18%|█▊        | 423/2300 [1:41:19<8:13:56, 15.79s/it]"
     ]
    },
    {
     "name": "stdout",
     "output_type": "stream",
     "text": [
      "[-19.51471152]\n",
      "[-42.67911617]\n",
      "[2.223483]\n",
      "[0.0, 0.0]\n"
     ]
    },
    {
     "name": "stderr",
     "output_type": "stream",
     "text": [
      " 18%|█▊        | 424/2300 [1:41:33<7:57:58, 15.29s/it]"
     ]
    },
    {
     "name": "stdout",
     "output_type": "stream",
     "text": [
      "[-18.41482147]\n",
      "[-42.7791053]\n",
      "[2.2320302]\n",
      "[0.0, 0.0]\n"
     ]
    },
    {
     "name": "stderr",
     "output_type": "stream",
     "text": [
      " 18%|█▊        | 425/2300 [1:41:48<7:48:42, 15.00s/it]"
     ]
    },
    {
     "name": "stdout",
     "output_type": "stream",
     "text": [
      "[-17.31493187]\n",
      "[-42.87909461]\n",
      "[2.2378635]\n",
      "[0.0, 0.0]\n"
     ]
    },
    {
     "name": "stderr",
     "output_type": "stream",
     "text": [
      " 19%|█▊        | 426/2300 [1:42:02<7:40:11, 14.73s/it]"
     ]
    },
    {
     "name": "stdout",
     "output_type": "stream",
     "text": [
      "[-16.18174687]\n",
      "[-42.91249106]\n",
      "[2.2360146]\n",
      "[0.0, 0.0]\n"
     ]
    },
    {
     "name": "stderr",
     "output_type": "stream",
     "text": [
      " 19%|█▊        | 427/2300 [1:42:16<7:35:40, 14.60s/it]"
     ]
    },
    {
     "name": "stdout",
     "output_type": "stream",
     "text": [
      "[-15.11515248]\n",
      "[-42.97908306]\n",
      "[2.2479947]\n",
      "[0.0, 0.0]\n"
     ]
    },
    {
     "name": "stderr",
     "output_type": "stream",
     "text": [
      " 19%|█▊        | 428/2300 [1:42:30<7:27:29, 14.34s/it]"
     ]
    },
    {
     "name": "stdout",
     "output_type": "stream",
     "text": [
      "[-14.01526234]\n",
      "[-43.0790727]\n",
      "[2.311076]\n",
      "[0.0, 0.0]\n"
     ]
    },
    {
     "name": "stderr",
     "output_type": "stream",
     "text": [
      " 19%|█▊        | 429/2300 [1:42:44<7:25:02, 14.27s/it]"
     ]
    },
    {
     "name": "stdout",
     "output_type": "stream",
     "text": [
      "[-12.88206336]\n",
      "[-43.1124654]\n",
      "[2.472658]\n",
      "[0.0, 0.0]\n"
     ]
    },
    {
     "name": "stderr",
     "output_type": "stream",
     "text": [
      " 19%|█▊        | 430/2300 [1:42:58<7:24:48, 14.27s/it]"
     ]
    },
    {
     "name": "stdout",
     "output_type": "stream",
     "text": [
      "[-11.61550142]\n",
      "[-43.17906358]\n",
      "[2.621547]\n",
      "[0.0, 0.0]\n"
     ]
    },
    {
     "name": "stderr",
     "output_type": "stream",
     "text": [
      " 19%|█▊        | 431/2300 [1:43:12<7:22:35, 14.21s/it]"
     ]
    },
    {
     "name": "stdout",
     "output_type": "stream",
     "text": [
      "[-10.4822951]\n",
      "[-43.2124522]\n",
      "[2.4750988]\n",
      "[0.0, 0.0]\n"
     ]
    },
    {
     "name": "stderr",
     "output_type": "stream",
     "text": [
      " 19%|█▉        | 432/2300 [1:43:26<7:20:44, 14.16s/it]"
     ]
    },
    {
     "name": "stdout",
     "output_type": "stream",
     "text": [
      "[-9.31572952]\n",
      "[-43.17906242]\n",
      "[2.3886747]\n",
      "[0.0, 0.0]\n"
     ]
    },
    {
     "name": "stderr",
     "output_type": "stream",
     "text": [
      " 19%|█▉        | 433/2300 [1:43:41<7:22:45, 14.23s/it]"
     ]
    },
    {
     "name": "stdout",
     "output_type": "stream",
     "text": [
      "[-8.2158382]\n",
      "[-43.1790609]\n",
      "[2.3543003]\n",
      "[0.0, 0.0]\n"
     ]
    },
    {
     "name": "stderr",
     "output_type": "stream",
     "text": [
      " 19%|█▉        | 434/2300 [1:43:55<7:23:10, 14.25s/it]"
     ]
    },
    {
     "name": "stdout",
     "output_type": "stream",
     "text": [
      "[-7.11594672]\n",
      "[-43.1790591]\n",
      "[2.3632534]\n",
      "[0.0, 0.0]\n"
     ]
    },
    {
     "name": "stderr",
     "output_type": "stream",
     "text": [
      " 19%|█▉        | 435/2300 [1:44:09<7:20:07, 14.16s/it]"
     ]
    },
    {
     "name": "stdout",
     "output_type": "stream",
     "text": [
      "[-5.91606568]\n",
      "[-43.07906703]\n",
      "[2.4348032]\n",
      "[0.0, 0.0]\n"
     ]
    },
    {
     "name": "stderr",
     "output_type": "stream",
     "text": [
      " 19%|█▉        | 436/2300 [1:44:23<7:20:52, 14.19s/it]"
     ]
    },
    {
     "name": "stdout",
     "output_type": "stream",
     "text": [
      "[-4.78284115]\n",
      "[-43.01246734]\n",
      "[2.5204766]\n",
      "[0.0, 0.0]\n"
     ]
    },
    {
     "name": "stderr",
     "output_type": "stream",
     "text": [
      " 19%|█▉        | 437/2300 [1:44:37<7:17:20, 14.08s/it]"
     ]
    },
    {
     "name": "stdout",
     "output_type": "stream",
     "text": [
      "[-3.58295555]\n",
      "[-42.91247651]\n",
      "[2.6440663]\n",
      "[0.0, 0.0]\n"
     ]
    },
    {
     "name": "stderr",
     "output_type": "stream",
     "text": [
      " 19%|█▉        | 438/2300 [1:44:51<7:18:55, 14.14s/it]"
     ]
    },
    {
     "name": "stdout",
     "output_type": "stream",
     "text": [
      "[-2.28308032]\n",
      "[-42.71249649]\n",
      "[2.8400543]\n",
      "[0.0, 0.0]\n"
     ]
    },
    {
     "name": "stderr",
     "output_type": "stream",
     "text": [
      " 19%|█▉        | 439/2300 [1:45:06<7:19:36, 14.17s/it]"
     ]
    },
    {
     "name": "stdout",
     "output_type": "stream",
     "text": [
      "[-0.88321387]\n",
      "[-42.5125166]\n",
      "[3.280166]\n",
      "[0.0, 0.0]\n"
     ]
    },
    {
     "name": "stderr",
     "output_type": "stream",
     "text": [
      " 19%|█▉        | 440/2300 [1:45:19<7:14:36, 14.02s/it]"
     ]
    },
    {
     "name": "stdout",
     "output_type": "stream",
     "text": [
      "[0.8166237]\n",
      "[-42.11255658]\n",
      "[4.740241]\n",
      "[0.0, 0.0]\n"
     ]
    },
    {
     "name": "stderr",
     "output_type": "stream",
     "text": [
      " 19%|█▉        | 441/2300 [1:45:34<7:16:49, 14.10s/it]"
     ]
    },
    {
     "name": "stdout",
     "output_type": "stream",
     "text": [
      "[8.01591277]\n",
      "[-40.41274153]\n",
      "[10.711408]\n",
      "[0.0, 0.0]\n"
     ]
    },
    {
     "name": "stderr",
     "output_type": "stream",
     "text": [
      " 19%|█▉        | 442/2300 [1:45:48<7:19:48, 14.20s/it]"
     ]
    },
    {
     "name": "stdout",
     "output_type": "stream",
     "text": [
      "[11.01560809]\n",
      "[-40.11277615]\n",
      "[4.6787534]\n",
      "[0.0, 0.0]\n"
     ]
    },
    {
     "name": "stderr",
     "output_type": "stream",
     "text": [
      " 19%|█▉        | 443/2300 [1:46:02<7:16:30, 14.10s/it]"
     ]
    },
    {
     "name": "stdout",
     "output_type": "stream",
     "text": [
      "[12.88211401]\n",
      "[-39.87936158]\n",
      "[3.6453557]\n",
      "[0.0, 0.0]\n"
     ]
    },
    {
     "name": "stderr",
     "output_type": "stream",
     "text": [
      " 19%|█▉        | 444/2300 [1:46:16<7:16:52, 14.12s/it]"
     ]
    },
    {
     "name": "stdout",
     "output_type": "stream",
     "text": [
      "[14.38196638]\n",
      "[-39.57939739]\n",
      "[3.482149]\n",
      "[0.0, 0.0]\n"
     ]
    },
    {
     "name": "stderr",
     "output_type": "stream",
     "text": [
      " 19%|█▉        | 445/2300 [1:46:30<7:17:49, 14.16s/it]"
     ]
    },
    {
     "name": "stdout",
     "output_type": "stream",
     "text": [
      "[15.88181681]\n",
      "[-39.27943271]\n",
      "[3.5882895]\n",
      "[0.0, 0.0]\n"
     ]
    },
    {
     "name": "stderr",
     "output_type": "stream",
     "text": [
      " 19%|█▉        | 446/2300 [1:46:44<7:15:50, 14.10s/it]"
     ]
    },
    {
     "name": "stdout",
     "output_type": "stream",
     "text": [
      "[17.41496069]\n",
      "[-38.91288857]\n",
      "[3.6481864]\n",
      "[0.0, 0.0]\n"
     ]
    },
    {
     "name": "stderr",
     "output_type": "stream",
     "text": [
      " 19%|█▉        | 447/2300 [1:46:59<7:17:23, 14.16s/it]"
     ]
    },
    {
     "name": "stdout",
     "output_type": "stream",
     "text": [
      "[18.81481969]\n",
      "[-38.51292611]\n",
      "[3.6598685]\n",
      "[0.0, 0.0]\n"
     ]
    },
    {
     "name": "stderr",
     "output_type": "stream",
     "text": [
      " 19%|█▉        | 448/2300 [1:47:13<7:17:28, 14.17s/it]"
     ]
    },
    {
     "name": "stdout",
     "output_type": "stream",
     "text": [
      "[20.28137974]\n",
      "[-38.07956594]\n",
      "[3.7269857]\n",
      "[0.0, 0.0]\n"
     ]
    },
    {
     "name": "stderr",
     "output_type": "stream",
     "text": [
      " 20%|█▉        | 449/2300 [1:47:27<7:16:28, 14.15s/it]"
     ]
    },
    {
     "name": "stdout",
     "output_type": "stream",
     "text": [
      "[21.68124124]\n",
      "[-37.57961853]\n",
      "[4.0001864]\n",
      "[0.0, 0.0]\n"
     ]
    },
    {
     "name": "stderr",
     "output_type": "stream",
     "text": [
      " 20%|█▉        | 450/2300 [1:47:41<7:14:28, 14.09s/it]"
     ]
    },
    {
     "name": "stdout",
     "output_type": "stream",
     "text": [
      "[-43.57891168]\n",
      "[-36.71289891]\n",
      "[2.0442533]\n",
      "[0.0, 0.0]\n"
     ]
    },
    {
     "name": "stderr",
     "output_type": "stream",
     "text": [
      " 20%|█▉        | 451/2300 [1:47:55<7:17:44, 14.20s/it]"
     ]
    },
    {
     "name": "stdout",
     "output_type": "stream",
     "text": [
      "[-42.67896919]\n",
      "[-37.01283676]\n",
      "[2.0343983]\n",
      "[0.0, 0.0]\n"
     ]
    },
    {
     "name": "stderr",
     "output_type": "stream",
     "text": [
      " 20%|█▉        | 452/2300 [1:48:09<7:12:00, 14.03s/it]"
     ]
    },
    {
     "name": "stdout",
     "output_type": "stream",
     "text": [
      "[-41.81282839]\n",
      "[-37.27970404]\n",
      "[2.0455291]\n",
      "[0.0, 0.0]\n"
     ]
    },
    {
     "name": "stderr",
     "output_type": "stream",
     "text": [
      " 20%|█▉        | 453/2300 [1:48:23<7:13:06, 14.07s/it]"
     ]
    },
    {
     "name": "stdout",
     "output_type": "stream",
     "text": [
      "[-40.91301548]\n",
      "[-37.579674]\n",
      "[2.0947356]\n",
      "[0.0, 0.0]\n"
     ]
    },
    {
     "name": "stderr",
     "output_type": "stream",
     "text": [
      " 20%|█▉        | 454/2300 [1:48:37<7:13:10, 14.08s/it]"
     ]
    },
    {
     "name": "stdout",
     "output_type": "stream",
     "text": [
      "[-39.87899623]\n",
      "[-37.81243186]\n",
      "[2.1285238]\n",
      "[0.0, 0.0]\n"
     ]
    },
    {
     "name": "stderr",
     "output_type": "stream",
     "text": [
      " 20%|█▉        | 455/2300 [1:48:51<7:13:40, 14.10s/it]"
     ]
    },
    {
     "name": "stdout",
     "output_type": "stream",
     "text": [
      "[-38.97847447]\n",
      "[-38.11178436]\n",
      "[2.1223376]\n",
      "[0.0, 0.0]\n"
     ]
    },
    {
     "name": "stderr",
     "output_type": "stream",
     "text": [
      " 20%|█▉        | 456/2300 [1:49:06<7:16:01, 14.19s/it]"
     ]
    },
    {
     "name": "stdout",
     "output_type": "stream",
     "text": [
      "[-38.01083826]\n",
      "[-38.37985237]\n",
      "[2.120825]\n",
      "[0.0, 0.0]\n"
     ]
    },
    {
     "name": "stderr",
     "output_type": "stream",
     "text": [
      " 20%|█▉        | 457/2300 [1:49:20<7:13:30, 14.11s/it]"
     ]
    },
    {
     "name": "stdout",
     "output_type": "stream",
     "text": [
      "[-37.01242774]\n",
      "[-38.67950855]\n",
      "[2.1279767]\n",
      "[0.0, 0.0]\n"
     ]
    },
    {
     "name": "stderr",
     "output_type": "stream",
     "text": [
      " 20%|█▉        | 458/2300 [1:49:34<7:10:53, 14.04s/it]"
     ]
    },
    {
     "name": "stdout",
     "output_type": "stream",
     "text": [
      "[-36.08013309]\n",
      "[-38.91323247]\n",
      "[2.1513455]\n",
      "[0.0, 0.0]\n"
     ]
    },
    {
     "name": "stderr",
     "output_type": "stream",
     "text": [
      " 20%|█▉        | 459/2300 [1:49:48<7:12:43, 14.10s/it]"
     ]
    },
    {
     "name": "stdout",
     "output_type": "stream",
     "text": [
      "[-35.08010191]\n",
      "[-39.2130728]\n",
      "[2.1925151]\n",
      "[0.0, 0.0]\n"
     ]
    },
    {
     "name": "stderr",
     "output_type": "stream",
     "text": [
      " 20%|██        | 460/2300 [1:50:01<7:07:20, 13.93s/it]"
     ]
    },
    {
     "name": "stdout",
     "output_type": "stream",
     "text": [
      "[-34.01315281]\n",
      "[-39.37944404]\n",
      "[2.2288535]\n",
      "[0.0, 0.0]\n"
     ]
    },
    {
     "name": "stderr",
     "output_type": "stream",
     "text": [
      " 20%|██        | 461/2300 [1:50:16<7:09:01, 14.00s/it]"
     ]
    },
    {
     "name": "stdout",
     "output_type": "stream",
     "text": [
      "[-32.98020827]\n",
      "[-39.61293117]\n",
      "[2.2512107]\n",
      "[0.0, 0.0]\n"
     ]
    },
    {
     "name": "stderr",
     "output_type": "stream",
     "text": [
      " 20%|██        | 462/2300 [1:50:29<7:08:40, 13.99s/it]"
     ]
    },
    {
     "name": "stdout",
     "output_type": "stream",
     "text": [
      "[-31.91340254]\n",
      "[-39.87937412]\n",
      "[2.2500572]\n",
      "[0.0, 0.0]\n"
     ]
    },
    {
     "name": "stderr",
     "output_type": "stream",
     "text": [
      " 20%|██        | 463/2300 [1:50:43<7:07:36, 13.97s/it]"
     ]
    },
    {
     "name": "stdout",
     "output_type": "stream",
     "text": [
      "[-30.88038226]\n",
      "[-40.1128558]\n",
      "[2.217097]\n",
      "[0.0, 0.0]\n"
     ]
    },
    {
     "name": "stderr",
     "output_type": "stream",
     "text": [
      " 20%|██        | 464/2300 [1:50:58<7:09:34, 14.04s/it]"
     ]
    },
    {
     "name": "stdout",
     "output_type": "stream",
     "text": [
      "[-29.81363447]\n",
      "[-40.27934477]\n",
      "[2.224362]\n",
      "[0.0, 0.0]\n"
     ]
    },
    {
     "name": "stderr",
     "output_type": "stream",
     "text": [
      " 20%|██        | 465/2300 [1:51:12<7:08:45, 14.02s/it]"
     ]
    },
    {
     "name": "stdout",
     "output_type": "stream",
     "text": [
      "[-28.7137548]\n",
      "[-40.47932968]\n",
      "[2.2764394]\n",
      "[0.0, 0.0]\n"
     ]
    },
    {
     "name": "stderr",
     "output_type": "stream",
     "text": [
      " 20%|██        | 466/2300 [1:51:25<7:07:03, 13.97s/it]"
     ]
    },
    {
     "name": "stdout",
     "output_type": "stream",
     "text": [
      "[-27.58068334]\n",
      "[-40.71275926]\n",
      "[2.369819]\n",
      "[0.0, 0.0]\n"
     ]
    },
    {
     "name": "stderr",
     "output_type": "stream",
     "text": [
      " 20%|██        | 467/2300 [1:51:39<7:07:35, 14.00s/it]"
     ]
    },
    {
     "name": "stdout",
     "output_type": "stream",
     "text": [
      "[-26.51398857   3.88756027   5.78327123]\n",
      "[-40.97928295   3.71383108   4.01622512]\n",
      "[ 2.441605   8.4835615 10.843772 ]\n",
      "[0.0, 0.0]\n",
      "[0.0, 0.0]\n",
      "[0.0, 0.0]\n"
     ]
    },
    {
     "name": "stderr",
     "output_type": "stream",
     "text": [
      " 20%|██        | 468/2300 [1:51:57<7:40:42, 15.09s/it]"
     ]
    },
    {
     "name": "stdout",
     "output_type": "stream",
     "text": [
      "[  1.78245961 -13.81531233  -7.41600995 -25.28089303   8.21592486]\n",
      "[  3.51700723  13.01547886  17.41505909 -41.21269318   4.78268746]\n",
      "[ 2.2604413 14.737215  17.182903   2.4101808  6.1412435]\n",
      "[0.0, 0.0]\n",
      "[0.0, 0.0]\n",
      "[0.0, 0.0]\n",
      "[0.0, 0.0]\n",
      "[0.0, 0.0]\n"
     ]
    },
    {
     "name": "stderr",
     "output_type": "stream",
     "text": [
      " 20%|██        | 469/2300 [1:52:15<8:08:51, 16.02s/it]"
     ]
    },
    {
     "name": "stdout",
     "output_type": "stream",
     "text": [
      "[-24.11424104   0.48290837 -13.51533059   9.71610095  -3.78276304]\n",
      "[-41.37924561   3.61679435  10.91569322   5.58269123  17.38174499]\n",
      "[ 2.3182647  1.761265  12.0345545  6.939882  12.424726 ]\n",
      "[0.0, 0.0]\n",
      "[0.0, 0.0]\n",
      "[0.0, 0.0]\n",
      "[0.0, 0.0]\n",
      "[0.0, 0.0]\n"
     ]
    },
    {
     "name": "stderr",
     "output_type": "stream",
     "text": [
      " 20%|██        | 470/2300 [1:52:34<8:29:32, 16.71s/it]"
     ]
    },
    {
     "name": "stdout",
     "output_type": "stream",
     "text": [
      "[-1.19154871e+01 -1.68687285e-02 -2.29811055e+01 -5.82661965e-01\n",
      "  1.07165174e+01]\n",
      "[  9.01589498  16.61501419 -41.51264946   3.88316882   6.68262488]\n",
      "[ 9.742482  13.497669   2.2720494  2.0071998  8.808773 ]\n",
      "[0.0, 0.0]\n",
      "[0.0, 0.0]\n",
      "[0.0, 0.0]\n",
      "[0.0, 0.0]\n",
      "[0.0, 0.0]\n"
     ]
    },
    {
     "name": "stderr",
     "output_type": "stream",
     "text": [
      " 20%|██        | 471/2300 [1:52:54<9:02:27, 17.79s/it]"
     ]
    },
    {
     "name": "stdout",
     "output_type": "stream",
     "text": [
      "[ -9.01578094  10.98230903 -21.88120765  -2.28269326   4.91598817]\n",
      "[  7.21610365   8.51895535 -41.71262533   4.38300766  14.68227037]\n",
      "[10.523575  15.2814665  2.266859   4.2532554 24.098389 ]\n",
      "[0.0, 0.0]\n",
      "[0.0, 0.0]\n",
      "[0.0, 0.0]\n",
      "[0.0, 0.0]\n",
      "[0.0, 0.0]\n"
     ]
    },
    {
     "name": "stderr",
     "output_type": "stream",
     "text": [
      " 21%|██        | 472/2300 [1:53:12<9:05:38, 17.91s/it]"
     ]
    },
    {
     "name": "stdout",
     "output_type": "stream",
     "text": [
      "[-20.71458928]\n",
      "[-41.77920561]\n",
      "[2.2712667]\n",
      "[0.0, 0.0]\n"
     ]
    },
    {
     "name": "stderr",
     "output_type": "stream",
     "text": [
      " 21%|██        | 473/2300 [1:53:26<8:29:52, 16.74s/it]"
     ]
    },
    {
     "name": "stdout",
     "output_type": "stream",
     "text": [
      "[-19.58142476]\n",
      "[-41.91259741]\n",
      "[2.2485533]\n",
      "[0.0, 0.0]\n"
     ]
    },
    {
     "name": "stderr",
     "output_type": "stream",
     "text": [
      " 21%|██        | 474/2300 [1:53:40<8:07:00, 16.00s/it]"
     ]
    },
    {
     "name": "stdout",
     "output_type": "stream",
     "text": [
      "[-18.48152941]\n",
      "[-42.01258524]\n",
      "[2.2607718]\n",
      "[0.0, 0.0]\n"
     ]
    },
    {
     "name": "stderr",
     "output_type": "stream",
     "text": [
      " 21%|██        | 475/2300 [1:53:55<7:53:07, 15.55s/it]"
     ]
    },
    {
     "name": "stdout",
     "output_type": "stream",
     "text": [
      "[-17.3816341]\n",
      "[-42.11257311]\n",
      "[2.280634]\n",
      "[0.0, 0.0]\n"
     ]
    },
    {
     "name": "stderr",
     "output_type": "stream",
     "text": [
      " 21%|██        | 476/2300 [1:54:09<7:39:45, 15.12s/it]"
     ]
    },
    {
     "name": "stdout",
     "output_type": "stream",
     "text": [
      "[-16.28173809]\n",
      "[-42.2125606]\n",
      "[2.2650504]\n",
      "[0.0, 0.0]\n"
     ]
    },
    {
     "name": "stderr",
     "output_type": "stream",
     "text": [
      " 21%|██        | 477/2300 [1:54:23<7:28:23, 14.76s/it]"
     ]
    },
    {
     "name": "stdout",
     "output_type": "stream",
     "text": [
      "[-15.18184232]\n",
      "[-42.31254846]\n",
      "[2.2769284]\n",
      "[0.0, 0.0]\n"
     ]
    },
    {
     "name": "stderr",
     "output_type": "stream",
     "text": [
      " 21%|██        | 478/2300 [1:54:37<7:21:30, 14.54s/it]"
     ]
    },
    {
     "name": "stdout",
     "output_type": "stream",
     "text": [
      "[-14.08194809]\n",
      "[-42.31254648]\n",
      "[2.328828]\n",
      "[0.0, 0.0]\n"
     ]
    },
    {
     "name": "stderr",
     "output_type": "stream",
     "text": [
      " 21%|██        | 479/2300 [1:54:51<7:17:31, 14.42s/it]"
     ]
    },
    {
     "name": "stdout",
     "output_type": "stream",
     "text": [
      "[-12.91537114]\n",
      "[-42.37914203]\n",
      "[2.47898]\n",
      "[0.0, 0.0]\n"
     ]
    },
    {
     "name": "stderr",
     "output_type": "stream",
     "text": [
      " 21%|██        | 480/2300 [1:55:05<7:15:12, 14.35s/it]"
     ]
    },
    {
     "name": "stdout",
     "output_type": "stream",
     "text": [
      "[-11.68218015]\n",
      "[-42.41253277]\n",
      "[2.6222515]\n",
      "[0.0, 0.0]\n"
     ]
    },
    {
     "name": "stderr",
     "output_type": "stream",
     "text": [
      " 21%|██        | 481/2300 [1:55:19<7:12:44, 14.27s/it]"
     ]
    },
    {
     "name": "stdout",
     "output_type": "stream",
     "text": [
      "[-10.4822956]\n",
      "[-42.4125309]\n",
      "[2.5159738]\n",
      "[0.0, 0.0]\n"
     ]
    },
    {
     "name": "stderr",
     "output_type": "stream",
     "text": [
      " 21%|██        | 482/2300 [1:55:33<7:10:36, 14.21s/it]"
     ]
    },
    {
     "name": "stdout",
     "output_type": "stream",
     "text": [
      "[-9.31572943]\n",
      "[-42.47913071]\n",
      "[2.428629]\n",
      "[0.0, 0.0]\n"
     ]
    },
    {
     "name": "stderr",
     "output_type": "stream",
     "text": [
      " 21%|██        | 483/2300 [1:55:48<7:08:47, 14.16s/it]"
     ]
    },
    {
     "name": "stdout",
     "output_type": "stream",
     "text": [
      "[-8.18251604]\n",
      "[-42.41252852]\n",
      "[2.4036887]\n",
      "[0.0, 0.0]\n"
     ]
    },
    {
     "name": "stderr",
     "output_type": "stream",
     "text": [
      " 21%|██        | 484/2300 [1:56:02<7:09:45, 14.20s/it]"
     ]
    },
    {
     "name": "stdout",
     "output_type": "stream",
     "text": [
      "[-7.01595674]\n",
      "[-42.37913675]\n",
      "[2.4315915]\n",
      "[0.0, 0.0]\n"
     ]
    },
    {
     "name": "stderr",
     "output_type": "stream",
     "text": [
      " 21%|██        | 485/2300 [1:56:16<7:09:16, 14.19s/it]"
     ]
    },
    {
     "name": "stdout",
     "output_type": "stream",
     "text": [
      "[-5.91606517]\n",
      "[-42.37913383]\n",
      "[2.4992003]\n",
      "[0.0, 0.0]\n"
     ]
    },
    {
     "name": "stderr",
     "output_type": "stream",
     "text": [
      " 21%|██        | 486/2300 [1:56:30<7:07:15, 14.13s/it]"
     ]
    },
    {
     "name": "stdout",
     "output_type": "stream",
     "text": [
      "[-4.68284906]\n",
      "[-42.31253592]\n",
      "[2.5987375]\n",
      "[0.0, 0.0]\n"
     ]
    },
    {
     "name": "stderr",
     "output_type": "stream",
     "text": [
      " 21%|██        | 487/2300 [1:56:44<7:05:34, 14.08s/it]"
     ]
    },
    {
     "name": "stdout",
     "output_type": "stream",
     "text": [
      "[-3.38297287]\n",
      "[-42.1125548]\n",
      "[2.7444787]\n",
      "[0.0, 0.0]\n"
     ]
    },
    {
     "name": "stderr",
     "output_type": "stream",
     "text": [
      " 21%|██        | 488/2300 [1:56:58<7:05:07, 14.08s/it]"
     ]
    },
    {
     "name": "stdout",
     "output_type": "stream",
     "text": [
      "[-2.11643919]\n",
      "[-41.9791635]\n",
      "[2.9661584]\n",
      "[0.0, 0.0]\n"
     ]
    },
    {
     "name": "stderr",
     "output_type": "stream",
     "text": [
      " 21%|██▏       | 489/2300 [1:57:12<7:03:41, 14.04s/it]"
     ]
    },
    {
     "name": "stdout",
     "output_type": "stream",
     "text": [
      "[-0.61658564]\n",
      "[-41.67918791]\n",
      "[3.6154366]\n",
      "[0.0, 0.0]\n"
     ]
    },
    {
     "name": "stderr",
     "output_type": "stream",
     "text": [
      " 21%|██▏       | 490/2300 [1:57:26<7:05:20, 14.10s/it]"
     ]
    },
    {
     "name": "stdout",
     "output_type": "stream",
     "text": [
      "[1.48321017]\n",
      "[-41.17922978]\n",
      "[6.4398046]\n",
      "[0.0, 0.0]\n"
     ]
    },
    {
     "name": "stderr",
     "output_type": "stream",
     "text": [
      " 21%|██▏       | 491/2300 [1:57:40<7:02:07, 14.00s/it]"
     ]
    },
    {
     "name": "stdout",
     "output_type": "stream",
     "text": [
      "[8.51586374]\n",
      "[-39.6128233]\n",
      "[8.267604]\n",
      "[0.0, 0.0]\n"
     ]
    },
    {
     "name": "stderr",
     "output_type": "stream",
     "text": [
      " 21%|██▏       | 492/2300 [1:57:55<7:07:06, 14.17s/it]"
     ]
    },
    {
     "name": "stdout",
     "output_type": "stream",
     "text": [
      "[11.28227408]\n",
      "[-39.27941189]\n",
      "[4.722605]\n",
      "[0.0, 0.0]\n"
     ]
    },
    {
     "name": "stderr",
     "output_type": "stream",
     "text": [
      " 21%|██▏       | 493/2300 [1:58:09<7:06:03, 14.15s/it]"
     ]
    },
    {
     "name": "stdout",
     "output_type": "stream",
     "text": [
      "[13.11539269]\n",
      "[-39.01288769]\n",
      "[3.77189]\n",
      "[0.0, 0.0]\n"
     ]
    },
    {
     "name": "stderr",
     "output_type": "stream",
     "text": [
      " 21%|██▏       | 494/2300 [1:58:23<7:04:00, 14.09s/it]"
     ]
    },
    {
     "name": "stdout",
     "output_type": "stream",
     "text": [
      "[14.71522896]\n",
      "[-38.71291601]\n",
      "[3.6713548]\n",
      "[0.0, 0.0]\n"
     ]
    },
    {
     "name": "stderr",
     "output_type": "stream",
     "text": [
      " 22%|██▏       | 495/2300 [1:58:37<7:05:59, 14.16s/it]"
     ]
    },
    {
     "name": "stdout",
     "output_type": "stream",
     "text": [
      "[16.21507794]\n",
      "[-38.41294246]\n",
      "[3.793728]\n",
      "[0.0, 0.0]\n"
     ]
    },
    {
     "name": "stderr",
     "output_type": "stream",
     "text": [
      " 22%|██▏       | 496/2300 [1:58:51<7:08:13, 14.24s/it]"
     ]
    },
    {
     "name": "stdout",
     "output_type": "stream",
     "text": [
      "[17.81491696]\n",
      "[-37.91298824]\n",
      "[3.8613987]\n",
      "[0.0, 0.0]\n"
     ]
    },
    {
     "name": "stderr",
     "output_type": "stream",
     "text": [
      " 22%|██▏       | 497/2300 [1:59:05<7:05:34, 14.16s/it]"
     ]
    },
    {
     "name": "stdout",
     "output_type": "stream",
     "text": [
      "[19.28147989]\n",
      "[-37.47962342]\n",
      "[3.867564]\n",
      "[0.0, 0.0]\n"
     ]
    },
    {
     "name": "stderr",
     "output_type": "stream",
     "text": [
      " 22%|██▏       | 498/2300 [1:59:19<7:05:11, 14.16s/it]"
     ]
    },
    {
     "name": "stdout",
     "output_type": "stream",
     "text": [
      "[20.78133094]\n",
      "[-36.9796767]\n",
      "[4.1011357]\n",
      "[0.0, 0.0]\n"
     ]
    },
    {
     "name": "stderr",
     "output_type": "stream",
     "text": [
      " 22%|██▏       | 499/2300 [1:59:33<7:02:48, 14.09s/it]"
     ]
    },
    {
     "name": "stdout",
     "output_type": "stream",
     "text": [
      "[22.31446662]\n",
      "[-36.31313918]\n",
      "[4.475429]\n",
      "[0.0, 0.0]\n"
     ]
    },
    {
     "name": "stderr",
     "output_type": "stream",
     "text": [
      " 22%|██▏       | 500/2300 [1:59:47<7:01:52, 14.06s/it]"
     ]
    },
    {
     "name": "stdout",
     "output_type": "stream",
     "text": [
      "[-43.91250686]\n",
      "[-35.87982454]\n",
      "[2.0635443]\n",
      "[0.0, 0.0]\n"
     ]
    },
    {
     "name": "stderr",
     "output_type": "stream",
     "text": [
      " 22%|██▏       | 501/2300 [2:00:02<7:06:58, 14.24s/it]"
     ]
    },
    {
     "name": "stdout",
     "output_type": "stream",
     "text": [
      "[-42.97896403]\n",
      "[-36.11295727]\n",
      "[2.0615704]\n",
      "[0.0, 0.0]\n"
     ]
    },
    {
     "name": "stderr",
     "output_type": "stream",
     "text": [
      " 22%|██▏       | 502/2300 [2:00:16<7:00:24, 14.03s/it]"
     ]
    },
    {
     "name": "stdout",
     "output_type": "stream",
     "text": [
      "[-42.07901792]\n",
      "[-36.4128943]\n",
      "[2.0588167]\n",
      "[0.0, 0.0]\n"
     ]
    },
    {
     "name": "stderr",
     "output_type": "stream",
     "text": [
      " 22%|██▏       | 503/2300 [2:00:31<7:10:10, 14.36s/it]"
     ]
    },
    {
     "name": "stdout",
     "output_type": "stream",
     "text": [
      "[-41.17904997]\n",
      "[-36.71281064]\n",
      "[2.100198]\n",
      "[0.0, 0.0]\n"
     ]
    },
    {
     "name": "stderr",
     "output_type": "stream",
     "text": [
      " 22%|██▏       | 504/2300 [2:00:46<7:16:37, 14.59s/it]"
     ]
    },
    {
     "name": "stdout",
     "output_type": "stream",
     "text": [
      "[-40.21309454]\n",
      "[-36.97973898]\n",
      "[2.1696181]\n",
      "[0.0, 0.0]\n"
     ]
    },
    {
     "name": "stderr",
     "output_type": "stream",
     "text": [
      " 22%|██▏       | 505/2300 [2:01:00<7:10:10, 14.38s/it]"
     ]
    },
    {
     "name": "stdout",
     "output_type": "stream",
     "text": [
      "[-39.27892295]\n",
      "[-37.31246267]\n",
      "[2.1777048]\n",
      "[0.0, 0.0]\n"
     ]
    },
    {
     "name": "stderr",
     "output_type": "stream",
     "text": [
      " 22%|██▏       | 506/2300 [2:01:14<7:08:53, 14.34s/it]"
     ]
    },
    {
     "name": "stdout",
     "output_type": "stream",
     "text": [
      "[-38.3146394]\n",
      "[-37.57952873]\n",
      "[2.176505]\n",
      "[0.0, 0.0]\n"
     ]
    },
    {
     "name": "stderr",
     "output_type": "stream",
     "text": [
      " 22%|██▏       | 507/2300 [2:01:28<7:04:59, 14.22s/it]"
     ]
    },
    {
     "name": "stdout",
     "output_type": "stream",
     "text": [
      "[-37.28216799]\n",
      "[-37.81549187]\n",
      "[2.1823342]\n",
      "[0.0, 0.0]\n"
     ]
    },
    {
     "name": "stderr",
     "output_type": "stream",
     "text": [
      " 22%|██▏       | 508/2300 [2:01:42<7:00:53, 14.09s/it]"
     ]
    },
    {
     "name": "stdout",
     "output_type": "stream",
     "text": [
      "[-36.31254181]\n",
      "[-38.07957805]\n",
      "[2.202238]\n",
      "[0.0, 0.0]\n"
     ]
    },
    {
     "name": "stderr",
     "output_type": "stream",
     "text": [
      " 22%|██▏       | 509/2300 [2:01:56<7:00:37, 14.09s/it]"
     ]
    },
    {
     "name": "stdout",
     "output_type": "stream",
     "text": [
      "[-35.28021178]\n",
      "[-38.31325643]\n",
      "[2.2517383]\n",
      "[0.0, 0.0]\n"
     ]
    },
    {
     "name": "stderr",
     "output_type": "stream",
     "text": [
      " 22%|██▏       | 510/2300 [2:02:10<7:01:45, 14.14s/it]"
     ]
    },
    {
     "name": "stdout",
     "output_type": "stream",
     "text": [
      "[-34.28017691]\n",
      "[-38.61311043]\n",
      "[2.2918594]\n",
      "[0.0, 0.0]\n"
     ]
    },
    {
     "name": "stderr",
     "output_type": "stream",
     "text": [
      " 22%|██▏       | 511/2300 [2:02:24<7:02:32, 14.17s/it]"
     ]
    },
    {
     "name": "stdout",
     "output_type": "stream",
     "text": [
      "[-33.18022174]\n",
      "[-38.81302591]\n",
      "[2.3040073]\n",
      "[0.0, 0.0]\n"
     ]
    },
    {
     "name": "stderr",
     "output_type": "stream",
     "text": [
      " 22%|██▏       | 512/2300 [2:02:38<7:02:04, 14.16s/it]"
     ]
    },
    {
     "name": "stdout",
     "output_type": "stream",
     "text": [
      "[-32.18027465]\n",
      "[-39.11297646]\n",
      "[2.2943423]\n",
      "[0.0, 0.0]\n"
     ]
    },
    {
     "name": "stderr",
     "output_type": "stream",
     "text": [
      " 22%|██▏       | 513/2300 [2:02:53<7:03:25, 14.22s/it]"
     ]
    },
    {
     "name": "stdout",
     "output_type": "stream",
     "text": [
      "[-31.08037757]\n",
      "[-39.3129468]\n",
      "[2.2706096]\n",
      "[0.0, 0.0]\n"
     ]
    },
    {
     "name": "stderr",
     "output_type": "stream",
     "text": [
      " 22%|██▏       | 514/2300 [2:03:07<7:00:03, 14.11s/it]"
     ]
    },
    {
     "name": "stdout",
     "output_type": "stream",
     "text": [
      "[-30.01360324]\n",
      "[-39.47942541]\n",
      "[2.260763]\n",
      "[0.0, 0.0]\n"
     ]
    },
    {
     "name": "stderr",
     "output_type": "stream",
     "text": [
      " 22%|██▏       | 515/2300 [2:03:21<6:59:57, 14.12s/it]"
     ]
    },
    {
     "name": "stdout",
     "output_type": "stream",
     "text": [
      "[-28.98056297]\n",
      "[-39.71287794]\n",
      "[2.2849324]\n",
      "[0.0, 0.0]\n"
     ]
    },
    {
     "name": "stderr",
     "output_type": "stream",
     "text": [
      " 22%|██▏       | 516/2300 [2:03:35<6:59:39, 14.11s/it]"
     ]
    },
    {
     "name": "stdout",
     "output_type": "stream",
     "text": [
      "[-27.81384625]\n",
      "[-39.97938047]\n",
      "[2.3498538]\n",
      "[0.0, 0.0]\n"
     ]
    },
    {
     "name": "stderr",
     "output_type": "stream",
     "text": [
      " 22%|██▏       | 517/2300 [2:03:49<6:58:04, 14.07s/it]"
     ]
    },
    {
     "name": "stdout",
     "output_type": "stream",
     "text": [
      "[-26.71396342   3.58483307   6.582904   -10.71567205 -15.48173669]\n",
      "[-40.17936234   3.01522796   3.41634982  18.31492693  14.88188816]\n",
      "[ 2.4414194  4.3567104  6.7031174 17.933714  14.649939 ]\n",
      "[0.0, 0.0]\n",
      "[0.0, 0.0]\n",
      "[0.0, 0.0]\n",
      "[0.0, 0.0]\n",
      "[0.0, 0.0]\n"
     ]
    },
    {
     "name": "stderr",
     "output_type": "stream",
     "text": [
      " 23%|██▎       | 518/2300 [2:04:06<7:28:41, 15.11s/it]"
     ]
    },
    {
     "name": "stdout",
     "output_type": "stream",
     "text": [
      "[  1.78217795  -7.21605245 -25.48087962   8.81590277 -15.88170311]\n",
      "[  3.01733581  18.81487543 -40.41277721   3.88287565  12.8820696 ]\n",
      "[ 1.7778022 11.326373   2.4749012  5.3469744  9.653696 ]\n",
      "[0.0, 0.0]\n",
      "[0.0, 0.0]\n",
      "[0.0, 0.0]\n",
      "[0.0, 0.0]\n",
      "[0.0, 0.0]\n"
     ]
    },
    {
     "name": "stderr",
     "output_type": "stream",
     "text": [
      " 23%|██▎       | 519/2300 [2:04:25<7:56:24, 16.05s/it]"
     ]
    },
    {
     "name": "stdout",
     "output_type": "stream",
     "text": [
      "[  0.68277692  10.48231586 -15.51513228  -4.11639731 -24.28098869]\n",
      "[  3.11695665   4.41656751  11.01566938  18.61485299 -40.61274842]\n",
      "[1.4083035 5.805923  9.81469   9.591148  2.412636 ]\n",
      "[0.0, 0.0]\n",
      "[0.0, 0.0]\n",
      "[0.0, 0.0]\n",
      "[0.0, 0.0]\n",
      "[0.0, 0.0]\n"
     ]
    },
    {
     "name": "stderr",
     "output_type": "stream",
     "text": [
      " 23%|██▎       | 520/2300 [2:04:43<8:17:17, 16.76s/it]"
     ]
    },
    {
     "name": "stdout",
     "output_type": "stream",
     "text": [
      "[-23.1143418   -1.01676999  -0.38256982  11.71610378 -13.78190048]\n",
      "[-40.77930508  18.01480351   3.28328281   5.08286995   8.98243394]\n",
      "[ 2.357126  10.0429945  1.4469147  6.3939023 11.075477 ]\n",
      "[0.0, 0.0]\n",
      "[0.0, 0.0]\n",
      "[0.0, 0.0]\n",
      "[0.0, 0.0]\n",
      "[0.0, 0.0]\n"
     ]
    },
    {
     "name": "stderr",
     "output_type": "stream",
     "text": [
      " 23%|██▎       | 521/2300 [2:05:03<8:47:46, 17.80s/it]"
     ]
    },
    {
     "name": "stdout",
     "output_type": "stream",
     "text": [
      "[-22.01445471  -1.61666692 -10.81559576   2.68274902  12.71648465]\n",
      "[-40.97928383   3.6166739    7.2160858   16.81457561   5.98283486]\n",
      "[ 2.3288603  2.1403599  8.595366  12.979986   8.041341 ]\n",
      "[0.0, 0.0]\n",
      "[0.0, 0.0]\n",
      "[0.0, 0.0]\n",
      "[0.0, 0.0]\n",
      "[0.0, 0.0]\n"
     ]
    },
    {
     "name": "stderr",
     "output_type": "stream",
     "text": [
      " 23%|██▎       | 522/2300 [2:05:22<8:51:31, 17.94s/it]"
     ]
    },
    {
     "name": "stdout",
     "output_type": "stream",
     "text": [
      "[-20.81457701  13.21769749   7.21447551]\n",
      "[-41.07927392   7.48274353  14.68237701]\n",
      "[ 2.3154557 13.509822  18.050362 ]\n",
      "[0.0, 0.0]\n",
      "[0.0, 0.0]\n",
      "[0.0, 0.0]\n"
     ]
    },
    {
     "name": "stderr",
     "output_type": "stream",
     "text": [
      " 23%|██▎       | 523/2300 [2:05:39<8:47:12, 17.80s/it]"
     ]
    },
    {
     "name": "stdout",
     "output_type": "stream",
     "text": [
      "[-19.71468902]\n",
      "[-41.17926375]\n",
      "[2.2793784]\n",
      "[0.0, 0.0]\n"
     ]
    },
    {
     "name": "stderr",
     "output_type": "stream",
     "text": [
      " 23%|██▎       | 524/2300 [2:05:55<8:33:39, 17.35s/it]"
     ]
    },
    {
     "name": "stdout",
     "output_type": "stream",
     "text": [
      "[-18.58152095]\n",
      "[-41.31265521]\n",
      "[2.2783308]\n",
      "[0.0, 0.0]\n"
     ]
    },
    {
     "name": "stderr",
     "output_type": "stream",
     "text": [
      " 23%|██▎       | 525/2300 [2:06:10<8:05:39, 16.42s/it]"
     ]
    },
    {
     "name": "stdout",
     "output_type": "stream",
     "text": [
      "[-17.48162575]\n",
      "[-41.41264297]\n",
      "[2.3044467]\n",
      "[0.0, 0.0]\n"
     ]
    },
    {
     "name": "stderr",
     "output_type": "stream",
     "text": [
      " 23%|██▎       | 526/2300 [2:06:24<7:43:22, 15.67s/it]"
     ]
    },
    {
     "name": "stdout",
     "output_type": "stream",
     "text": [
      "[-16.31503091]\n",
      "[-41.47923208]\n",
      "[2.2785854]\n",
      "[0.0, 0.0]\n"
     ]
    },
    {
     "name": "stderr",
     "output_type": "stream",
     "text": [
      " 23%|██▎       | 527/2300 [2:06:38<7:29:59, 15.23s/it]"
     ]
    },
    {
     "name": "stdout",
     "output_type": "stream",
     "text": [
      "[-15.21514124]\n",
      "[-41.57922092]\n",
      "[2.2844372]\n",
      "[0.0, 0.0]\n"
     ]
    },
    {
     "name": "stderr",
     "output_type": "stream",
     "text": [
      " 23%|██▎       | 528/2300 [2:06:52<7:17:31, 14.81s/it]"
     ]
    },
    {
     "name": "stdout",
     "output_type": "stream",
     "text": [
      "[-14.11525117]\n",
      "[-41.57922064]\n",
      "[2.336224]\n",
      "[0.0, 0.0]\n"
     ]
    },
    {
     "name": "stderr",
     "output_type": "stream",
     "text": [
      " 23%|██▎       | 529/2300 [2:07:06<7:12:17, 14.65s/it]"
     ]
    },
    {
     "name": "stdout",
     "output_type": "stream",
     "text": [
      "[-12.98205561]\n",
      "[-41.61261435]\n",
      "[2.4597318]\n",
      "[0.0, 0.0]\n"
     ]
    },
    {
     "name": "stderr",
     "output_type": "stream",
     "text": [
      " 23%|██▎       | 530/2300 [2:07:20<7:07:50, 14.50s/it]"
     ]
    },
    {
     "name": "stdout",
     "output_type": "stream",
     "text": [
      "[-11.71549009]\n",
      "[-41.67921066]\n",
      "[2.581482]\n",
      "[0.0, 0.0]\n"
     ]
    },
    {
     "name": "stderr",
     "output_type": "stream",
     "text": [
      " 23%|██▎       | 531/2300 [2:07:34<7:04:08, 14.39s/it]"
     ]
    },
    {
     "name": "stdout",
     "output_type": "stream",
     "text": [
      "[-10.51560988]\n",
      "[-41.6792102]\n",
      "[2.530124]\n",
      "[0.0, 0.0]\n"
     ]
    },
    {
     "name": "stderr",
     "output_type": "stream",
     "text": [
      " 23%|██▎       | 532/2300 [2:07:49<7:06:36, 14.48s/it]"
     ]
    },
    {
     "name": "stdout",
     "output_type": "stream",
     "text": [
      "[-9.31572922]\n",
      "[-41.67920882]\n",
      "[2.4617665]\n",
      "[0.0, 0.0]\n"
     ]
    },
    {
     "name": "stderr",
     "output_type": "stream",
     "text": [
      " 23%|██▎       | 533/2300 [2:08:03<7:02:29, 14.35s/it]"
     ]
    },
    {
     "name": "stdout",
     "output_type": "stream",
     "text": [
      "[-8.18251534]\n",
      "[-41.71259729]\n",
      "[2.4570537]\n",
      "[0.0, 0.0]\n"
     ]
    },
    {
     "name": "stderr",
     "output_type": "stream",
     "text": [
      " 23%|██▎       | 534/2300 [2:08:17<7:00:03, 14.27s/it]"
     ]
    },
    {
     "name": "stdout",
     "output_type": "stream",
     "text": [
      "[-7.01595689]\n",
      "[-41.67920442]\n",
      "[2.4990041]\n",
      "[0.0, 0.0]\n"
     ]
    },
    {
     "name": "stderr",
     "output_type": "stream",
     "text": [
      " 23%|██▎       | 535/2300 [2:08:31<6:59:02, 14.25s/it]"
     ]
    },
    {
     "name": "stdout",
     "output_type": "stream",
     "text": [
      "[-5.78274316]\n",
      "[-41.61260518]\n",
      "[2.5854185]\n",
      "[0.0, 0.0]\n"
     ]
    },
    {
     "name": "stderr",
     "output_type": "stream",
     "text": [
      " 23%|██▎       | 536/2300 [2:08:45<6:58:40, 14.24s/it]"
     ]
    },
    {
     "name": "stdout",
     "output_type": "stream",
     "text": [
      "[-4.51620387]\n",
      "[-41.47921779]\n",
      "[2.7073133]\n",
      "[0.0, 0.0]\n"
     ]
    },
    {
     "name": "stderr",
     "output_type": "stream",
     "text": [
      " 23%|██▎       | 537/2300 [2:09:00<6:58:26, 14.24s/it]"
     ]
    },
    {
     "name": "stdout",
     "output_type": "stream",
     "text": [
      "[-3.28298048]\n",
      "[-41.41262329]\n",
      "[2.8471186]\n",
      "[0.0, 0.0]\n"
     ]
    },
    {
     "name": "stderr",
     "output_type": "stream",
     "text": [
      " 23%|██▎       | 538/2300 [2:09:14<6:58:57, 14.27s/it]"
     ]
    },
    {
     "name": "stdout",
     "output_type": "stream",
     "text": [
      "[-1.8831132]\n",
      "[-41.21264291]\n",
      "[3.1891916]\n",
      "[0.0, 0.0]\n"
     ]
    },
    {
     "name": "stderr",
     "output_type": "stream",
     "text": [
      " 23%|██▎       | 539/2300 [2:09:28<6:55:24, 14.15s/it]"
     ]
    },
    {
     "name": "stdout",
     "output_type": "stream",
     "text": [
      "[-0.18327429]\n",
      "[-40.81268295]\n",
      "[4.1744447]\n",
      "[0.0, 0.0]\n"
     ]
    },
    {
     "name": "stderr",
     "output_type": "stream",
     "text": [
      " 23%|██▎       | 540/2300 [2:09:42<6:53:23, 14.09s/it]"
     ]
    },
    {
     "name": "stdout",
     "output_type": "stream",
     "text": [
      "[2.58310446]\n",
      "[-40.07933044]\n",
      "[10.490144]\n",
      "[0.0, 0.0]\n"
     ]
    },
    {
     "name": "stderr",
     "output_type": "stream",
     "text": [
      " 24%|██▎       | 541/2300 [2:09:56<6:54:07, 14.13s/it]"
     ]
    },
    {
     "name": "stdout",
     "output_type": "stream",
     "text": [
      "[9.01581396]\n",
      "[-38.81290554]\n",
      "[7.150454]\n",
      "[0.0, 0.0]\n"
     ]
    },
    {
     "name": "stderr",
     "output_type": "stream",
     "text": [
      " 24%|██▎       | 542/2300 [2:10:10<6:54:29, 14.15s/it]"
     ]
    },
    {
     "name": "stdout",
     "output_type": "stream",
     "text": [
      "[11.58224811]\n",
      "[-38.47948938]\n",
      "[4.775403]\n",
      "[0.0, 0.0]\n"
     ]
    },
    {
     "name": "stderr",
     "output_type": "stream",
     "text": [
      " 24%|██▎       | 543/2300 [2:10:24<6:54:55, 14.17s/it]"
     ]
    },
    {
     "name": "stdout",
     "output_type": "stream",
     "text": [
      "[13.415359]\n",
      "[-38.11297921]\n",
      "[3.9498773]\n",
      "[0.0, 0.0]\n"
     ]
    },
    {
     "name": "stderr",
     "output_type": "stream",
     "text": [
      " 24%|██▎       | 544/2300 [2:10:38<6:51:39, 14.07s/it]"
     ]
    },
    {
     "name": "stdout",
     "output_type": "stream",
     "text": [
      "[15.01519488]\n",
      "[-37.81300672]\n",
      "[3.9459727]\n",
      "[0.0, 0.0]\n"
     ]
    },
    {
     "name": "stderr",
     "output_type": "stream",
     "text": [
      " 24%|██▎       | 545/2300 [2:10:52<6:52:40, 14.11s/it]"
     ]
    },
    {
     "name": "stdout",
     "output_type": "stream",
     "text": [
      "[16.68174196]\n",
      "[-37.37962473]\n",
      "[4.112637]\n",
      "[0.0, 0.0]\n"
     ]
    },
    {
     "name": "stderr",
     "output_type": "stream",
     "text": [
      " 24%|██▎       | 546/2300 [2:11:07<6:53:57, 14.16s/it]"
     ]
    },
    {
     "name": "stdout",
     "output_type": "stream",
     "text": [
      "[18.28158109]\n",
      "[-36.8796811]\n",
      "[4.1069245]\n",
      "[0.0, 0.0]\n"
     ]
    },
    {
     "name": "stderr",
     "output_type": "stream",
     "text": [
      " 24%|██▍       | 547/2300 [2:11:21<6:54:50, 14.20s/it]"
     ]
    },
    {
     "name": "stdout",
     "output_type": "stream",
     "text": [
      "[19.78143046]\n",
      "[-36.37973584]\n",
      "[4.2560678]\n",
      "[0.0, 0.0]\n"
     ]
    },
    {
     "name": "stderr",
     "output_type": "stream",
     "text": [
      " 24%|██▍       | 548/2300 [2:11:35<6:52:21, 14.12s/it]"
     ]
    },
    {
     "name": "stdout",
     "output_type": "stream",
     "text": [
      "[21.41455401]\n",
      "[-35.71319774]\n",
      "[4.5501585]\n",
      "[0.0, 0.0]\n"
     ]
    },
    {
     "name": "stderr",
     "output_type": "stream",
     "text": [
      " 24%|██▍       | 549/2300 [2:11:49<6:53:32, 14.17s/it]"
     ]
    },
    {
     "name": "stdout",
     "output_type": "stream",
     "text": [
      "[23.08110226]\n",
      "[-34.97988571]\n",
      "[5.5157623]\n",
      "[0.0, 0.0]\n"
     ]
    },
    {
     "name": "stderr",
     "output_type": "stream",
     "text": [
      " 24%|██▍       | 550/2300 [2:12:03<6:54:07, 14.20s/it]"
     ]
    },
    {
     "name": "stdout",
     "output_type": "stream",
     "text": [
      "[-44.07889303]\n",
      "[-34.91311434]\n",
      "[2.10638]\n",
      "[0.0, 0.0]\n"
     ]
    },
    {
     "name": "stderr",
     "output_type": "stream",
     "text": [
      " 24%|██▍       | 551/2300 [2:12:18<6:53:14, 14.18s/it]"
     ]
    },
    {
     "name": "stdout",
     "output_type": "stream",
     "text": [
      "[-43.21257599]\n",
      "[-35.17989563]\n",
      "[2.1141531]\n",
      "[0.0, 0.0]\n"
     ]
    },
    {
     "name": "stderr",
     "output_type": "stream",
     "text": [
      " 24%|██▍       | 552/2300 [2:12:32<6:53:14, 14.18s/it]"
     ]
    },
    {
     "name": "stdout",
     "output_type": "stream",
     "text": [
      "[-42.37901437]\n",
      "[-35.51301509]\n",
      "[2.103571]\n",
      "[0.0, 0.0]\n"
     ]
    },
    {
     "name": "stderr",
     "output_type": "stream",
     "text": [
      " 24%|██▍       | 553/2300 [2:12:46<6:54:18, 14.23s/it]"
     ]
    },
    {
     "name": "stdout",
     "output_type": "stream",
     "text": [
      "[-41.4790654]\n",
      "[-35.812952]\n",
      "[2.1249502]\n",
      "[0.0, 0.0]\n"
     ]
    },
    {
     "name": "stderr",
     "output_type": "stream",
     "text": [
      " 24%|██▍       | 554/2300 [2:13:00<6:51:27, 14.14s/it]"
     ]
    },
    {
     "name": "stdout",
     "output_type": "stream",
     "text": [
      "[-40.51296323]\n",
      "[-36.07980865]\n",
      "[2.2032435]\n",
      "[0.0, 0.0]\n"
     ]
    },
    {
     "name": "stderr",
     "output_type": "stream",
     "text": [
      " 24%|██▍       | 555/2300 [2:13:14<6:51:19, 14.14s/it]"
     ]
    },
    {
     "name": "stdout",
     "output_type": "stream",
     "text": [
      "[-39.57909518]\n",
      "[-36.41274048]\n",
      "[2.2631164]\n",
      "[0.0, 0.0]\n"
     ]
    },
    {
     "name": "stderr",
     "output_type": "stream",
     "text": [
      " 24%|██▍       | 556/2300 [2:13:28<6:51:04, 14.14s/it]"
     ]
    },
    {
     "name": "stdout",
     "output_type": "stream",
     "text": [
      "[-38.57896301]\n",
      "[-36.71249438]\n",
      "[2.2581644]\n",
      "[0.0, 0.0]\n"
     ]
    },
    {
     "name": "stderr",
     "output_type": "stream",
     "text": [
      " 24%|██▍       | 557/2300 [2:13:42<6:50:20, 14.13s/it]"
     ]
    },
    {
     "name": "stdout",
     "output_type": "stream",
     "text": [
      "[-37.6150639]\n",
      "[-36.97949667]\n",
      "[2.2512085]\n",
      "[0.0, 0.0]\n"
     ]
    },
    {
     "name": "stderr",
     "output_type": "stream",
     "text": [
      " 24%|██▍       | 558/2300 [2:13:57<6:50:39, 14.14s/it]"
     ]
    },
    {
     "name": "stdout",
     "output_type": "stream",
     "text": [
      "[-36.58158615]\n",
      "[-37.21500205]\n",
      "[2.2572613]\n",
      "[0.0, 0.0]\n"
     ]
    },
    {
     "name": "stderr",
     "output_type": "stream",
     "text": [
      " 24%|██▍       | 559/2300 [2:14:11<6:49:01, 14.10s/it]"
     ]
    },
    {
     "name": "stdout",
     "output_type": "stream",
     "text": [
      "[-35.58035928]\n",
      "[-37.5135655]\n",
      "[2.284472]\n",
      "[0.0, 0.0]\n"
     ]
    },
    {
     "name": "stderr",
     "output_type": "stream",
     "text": [
      " 24%|██▍       | 560/2300 [2:14:25<6:49:58, 14.14s/it]"
     ]
    },
    {
     "name": "stdout",
     "output_type": "stream",
     "text": [
      "[-34.48027328]\n",
      "[-37.71328484]\n",
      "[2.3811827]\n",
      "[0.0, 0.0]\n"
     ]
    },
    {
     "name": "stderr",
     "output_type": "stream",
     "text": [
      " 24%|██▍       | 561/2300 [2:14:39<6:46:25, 14.02s/it]"
     ]
    },
    {
     "name": "stdout",
     "output_type": "stream",
     "text": [
      "[-33.48024509]\n",
      "[-38.01314647]\n",
      "[2.3700602]\n",
      "[0.0, 0.0]\n"
     ]
    },
    {
     "name": "stderr",
     "output_type": "stream",
     "text": [
      " 24%|██▍       | 562/2300 [2:14:53<6:47:45, 14.08s/it]"
     ]
    },
    {
     "name": "stdout",
     "output_type": "stream",
     "text": [
      "[-32.41333748]\n",
      "[-38.279536]\n",
      "[2.345273]\n",
      "[0.0, 0.0]\n"
     ]
    },
    {
     "name": "stderr",
     "output_type": "stream",
     "text": [
      " 24%|██▍       | 563/2300 [2:15:07<6:49:00, 14.13s/it]"
     ]
    },
    {
     "name": "stdout",
     "output_type": "stream",
     "text": [
      "[-31.31345109]\n",
      "[-38.47952507]\n",
      "[2.333513]\n",
      "[0.0, 0.0]\n"
     ]
    },
    {
     "name": "stderr",
     "output_type": "stream",
     "text": [
      " 25%|██▍       | 564/2300 [2:15:21<6:50:29, 14.19s/it]"
     ]
    },
    {
     "name": "stdout",
     "output_type": "stream",
     "text": [
      "[-30.28046224]\n",
      "[-38.71300265]\n",
      "[2.3162553]\n",
      "[0.0, 0.0]\n"
     ]
    },
    {
     "name": "stderr",
     "output_type": "stream",
     "text": [
      " 25%|██▍       | 565/2300 [2:15:35<6:45:46, 14.03s/it]"
     ]
    },
    {
     "name": "stdout",
     "output_type": "stream",
     "text": [
      "[-29.21368572]\n",
      "[-38.9794755]\n",
      "[2.3241553]\n",
      "[0.0, 0.0]\n"
     ]
    },
    {
     "name": "stderr",
     "output_type": "stream",
     "text": [
      " 25%|██▍       | 566/2300 [2:15:49<6:47:15, 14.09s/it]"
     ]
    },
    {
     "name": "stdout",
     "output_type": "stream",
     "text": [
      "[-28.08064951 -16.98159935 -13.78190275]\n",
      "[-39.21292276  16.78171732  19.08151029]\n",
      "[ 2.3636024 18.72192   22.031    ]\n",
      "[0.0, 0.0]\n",
      "[0.0, 0.0]\n",
      "[0.0, 0.0]\n"
     ]
    },
    {
     "name": "stderr",
     "output_type": "stream",
     "text": [
      " 25%|██▍       | 567/2300 [2:16:04<6:54:54, 14.36s/it]"
     ]
    },
    {
     "name": "stdout",
     "output_type": "stream",
     "text": [
      "[-26.91393775   3.48403153   6.98277837 -10.11574804 -17.48155639]\n",
      "[-39.3794428    2.51571778   2.71641851  19.81474691  14.78189887]\n",
      "[ 2.4367046  3.2607405  5.4036775 10.90908    9.039931 ]\n",
      "[0.0, 0.0]\n",
      "[0.0, 0.0]\n",
      "[0.0, 0.0]\n",
      "[0.0, 0.0]\n",
      "[0.0, 0.0]\n"
     ]
    },
    {
     "name": "stderr",
     "output_type": "stream",
     "text": [
      " 25%|██▍       | 568/2300 [2:16:23<7:32:09, 15.66s/it]"
     ]
    },
    {
     "name": "stdout",
     "output_type": "stream",
     "text": [
      "[  1.88136868   9.18247195 -25.6808673  -17.58154849  -7.28250649]\n",
      "[  2.61805032   3.0165038  -39.61286104  13.0820525   19.88148966]\n",
      "[1.5571785 4.728127  2.5100076 7.540581  9.098731 ]\n",
      "[0.0, 0.0]\n",
      "[0.0, 0.0]\n",
      "[0.0, 0.0]\n",
      "[0.0, 0.0]\n",
      "[0.0, 0.0]\n"
     ]
    },
    {
     "name": "stderr",
     "output_type": "stream",
     "text": [
      " 25%|██▍       | 569/2300 [2:16:43<8:13:07, 17.09s/it]"
     ]
    },
    {
     "name": "stdout",
     "output_type": "stream",
     "text": [
      "[-24.51419187  -4.51637091   0.81792727  10.91585173 -17.38157105]\n",
      "[-39.8793927   19.71467684   2.68366807   3.28302182  11.38220678]\n",
      "[2.5062308 8.267552  1.182014  4.979594  8.187635 ]\n",
      "[0.0, 0.0]\n",
      "[0.0, 0.0]\n",
      "[0.0, 0.0]\n",
      "[0.0, 0.0]\n",
      "[0.0, 0.0]\n"
     ]
    },
    {
     "name": "stderr",
     "output_type": "stream",
     "text": [
      " 25%|██▍       | 570/2300 [2:17:02<8:24:07, 17.48s/it]"
     ]
    },
    {
     "name": "stdout",
     "output_type": "stream",
     "text": [
      "[-23.31431815  -1.71670115  -0.1824393   12.31588447 -16.08169677]\n",
      "[-40.07937346  19.21460889   2.78340171   3.6830226    9.38239247]\n",
      "[ 2.4556708  8.627045   1.1283394  5.2421293 11.929952 ]\n",
      "[0.0, 0.0]\n",
      "[0.0, 0.0]\n",
      "[0.0, 0.0]\n",
      "[0.0, 0.0]\n",
      "[0.0, 0.0]\n"
     ]
    },
    {
     "name": "stderr",
     "output_type": "stream",
     "text": [
      " 25%|██▍       | 571/2300 [2:17:20<8:31:56, 17.77s/it]"
     ]
    },
    {
     "name": "stdout",
     "output_type": "stream",
     "text": [
      "[-22.11444268  -1.2167604   13.48191088 -12.41543072   1.3163922 ]\n",
      "[-40.17936406   3.01678527   4.21682541   7.11608096  18.38180198]\n",
      "[ 2.4193149  1.4236695  5.888046   8.077811  10.21304  ]\n",
      "[0.0, 0.0]\n",
      "[0.0, 0.0]\n",
      "[0.0, 0.0]\n",
      "[0.0, 0.0]\n",
      "[0.0, 0.0]\n"
     ]
    },
    {
     "name": "stderr",
     "output_type": "stream",
     "text": [
      " 25%|██▍       | 572/2300 [2:17:41<8:53:53, 18.54s/it]"
     ]
    },
    {
     "name": "stdout",
     "output_type": "stream",
     "text": [
      "[-21.01455477  -3.01645789  14.51630319  -7.5824162    5.01544605]\n",
      "[-40.37934213   3.61660568   4.98299687   5.28281723  16.98202659]\n",
      "[ 2.364908  4.444942  7.111672 22.528011 12.137837]\n",
      "[0.0, 0.0]\n",
      "[0.0, 0.0]\n",
      "[0.0, 0.0]\n",
      "[0.0, 0.0]\n",
      "[0.0, 0.0]\n"
     ]
    },
    {
     "name": "stderr",
     "output_type": "stream",
     "text": [
      " 25%|██▍       | 573/2300 [2:17:58<8:41:46, 18.13s/it]"
     ]
    },
    {
     "name": "stdout",
     "output_type": "stream",
     "text": [
      "[-19.8146769    8.88209352  15.21670055]\n",
      "[-40.47933218  14.91287782   6.0828874 ]\n",
      "[ 2.3058681 15.057836   9.490294 ]\n",
      "[0.0, 0.0]\n",
      "[0.0, 0.0]\n",
      "[0.0, 0.0]\n"
     ]
    },
    {
     "name": "stderr",
     "output_type": "stream",
     "text": [
      " 25%|██▍       | 574/2300 [2:18:15<8:31:17, 17.77s/it]"
     ]
    },
    {
     "name": "stdout",
     "output_type": "stream",
     "text": [
      "[ 13.28213514 -18.68151264  15.11674569]\n",
      "[ 11.31966007 -40.61272549   8.3824598 ]\n",
      "[30.691021   2.2931738 27.754684 ]\n",
      "[0.0, 0.0]\n",
      "[0.0, 0.0]\n",
      "[0.0, 0.0]\n"
     ]
    },
    {
     "name": "stderr",
     "output_type": "stream",
     "text": [
      " 25%|██▌       | 575/2300 [2:18:31<8:19:15, 17.37s/it]"
     ]
    },
    {
     "name": "stdout",
     "output_type": "stream",
     "text": [
      "[-17.58161733]\n",
      "[-40.71271294]\n",
      "[2.3263755]\n",
      "[0.0, 0.0]\n"
     ]
    },
    {
     "name": "stderr",
     "output_type": "stream",
     "text": [
      " 25%|██▌       | 576/2300 [2:18:45<7:50:25, 16.37s/it]"
     ]
    },
    {
     "name": "stdout",
     "output_type": "stream",
     "text": [
      "[-16.41501988]\n",
      "[-40.77930085]\n",
      "[2.299454]\n",
      "[0.0, 0.0]\n"
     ]
    },
    {
     "name": "stderr",
     "output_type": "stream",
     "text": [
      " 25%|██▌       | 577/2300 [2:18:59<7:29:40, 15.66s/it]"
     ]
    },
    {
     "name": "stdout",
     "output_type": "stream",
     "text": [
      "[-15.28183529]\n",
      "[-40.812697]\n",
      "[2.2853994]\n",
      "[0.0, 0.0]\n"
     ]
    },
    {
     "name": "stderr",
     "output_type": "stream",
     "text": [
      " 25%|██▌       | 578/2300 [2:19:13<7:17:32, 15.25s/it]"
     ]
    },
    {
     "name": "stdout",
     "output_type": "stream",
     "text": [
      "[-14.18194003]\n",
      "[-40.91268507]\n",
      "[2.3395767]\n",
      "[0.0, 0.0]\n"
     ]
    },
    {
     "name": "stderr",
     "output_type": "stream",
     "text": [
      " 25%|██▌       | 579/2300 [2:19:28<7:07:37, 14.91s/it]"
     ]
    },
    {
     "name": "stdout",
     "output_type": "stream",
     "text": [
      "[-12.98205623]\n",
      "[-40.91268361]\n",
      "[2.4496863]\n",
      "[0.0, 0.0]\n"
     ]
    },
    {
     "name": "stderr",
     "output_type": "stream",
     "text": [
      " 25%|██▌       | 580/2300 [2:19:42<7:00:18, 14.66s/it]"
     ]
    },
    {
     "name": "stdout",
     "output_type": "stream",
     "text": [
      "[-11.78217169]\n",
      "[-40.91268183]\n",
      "[2.5520449]\n",
      "[0.0, 0.0]\n"
     ]
    },
    {
     "name": "stderr",
     "output_type": "stream",
     "text": [
      " 25%|██▌       | 581/2300 [2:19:56<6:58:05, 14.59s/it]"
     ]
    },
    {
     "name": "stdout",
     "output_type": "stream",
     "text": [
      "[-10.51560901]\n",
      "[-40.97927788]\n",
      "[2.5308383]\n",
      "[0.0, 0.0]\n"
     ]
    },
    {
     "name": "stderr",
     "output_type": "stream",
     "text": [
      " 25%|██▌       | 582/2300 [2:20:10<6:54:42, 14.48s/it]"
     ]
    },
    {
     "name": "stdout",
     "output_type": "stream",
     "text": [
      "[-9.31572868]\n",
      "[-40.97927634]\n",
      "[2.483273]\n",
      "[0.0, 0.0]\n"
     ]
    },
    {
     "name": "stderr",
     "output_type": "stream",
     "text": [
      " 25%|██▌       | 583/2300 [2:20:24<6:51:38, 14.38s/it]"
     ]
    },
    {
     "name": "stdout",
     "output_type": "stream",
     "text": [
      "[-8.11584779]\n",
      "[-40.97927438]\n",
      "[2.5158799]\n",
      "[0.0, 0.0]\n"
     ]
    },
    {
     "name": "stderr",
     "output_type": "stream",
     "text": [
      " 25%|██▌       | 584/2300 [2:20:38<6:48:44, 14.29s/it]"
     ]
    },
    {
     "name": "stdout",
     "output_type": "stream",
     "text": [
      "[-6.91596698]\n",
      "[-40.87928179]\n",
      "[2.5836673]\n",
      "[0.0, 0.0]\n"
     ]
    },
    {
     "name": "stderr",
     "output_type": "stream",
     "text": [
      " 25%|██▌       | 585/2300 [2:20:53<6:46:54, 14.24s/it]"
     ]
    },
    {
     "name": "stdout",
     "output_type": "stream",
     "text": [
      "[-5.71608553]\n",
      "[-40.8792783]\n",
      "[2.6590846]\n",
      "[0.0, 0.0]\n"
     ]
    },
    {
     "name": "stderr",
     "output_type": "stream",
     "text": [
      " 25%|██▌       | 586/2300 [2:21:07<6:47:22, 14.26s/it]"
     ]
    },
    {
     "name": "stdout",
     "output_type": "stream",
     "text": [
      "[-4.41621389]\n",
      "[-40.77928484]\n",
      "[2.8014734]\n",
      "[0.0, 0.0]\n"
     ]
    },
    {
     "name": "stderr",
     "output_type": "stream",
     "text": [
      " 26%|██▌       | 587/2300 [2:21:21<6:46:05, 14.22s/it]"
     ]
    },
    {
     "name": "stdout",
     "output_type": "stream",
     "text": [
      "[-3.08299721]\n",
      "[-40.61270116]\n",
      "[3.0029058]\n",
      "[0.0, 0.0]\n"
     ]
    },
    {
     "name": "stderr",
     "output_type": "stream",
     "text": [
      " 26%|██▌       | 588/2300 [2:21:35<6:44:41, 14.18s/it]"
     ]
    },
    {
     "name": "stdout",
     "output_type": "stream",
     "text": [
      "[-1.61648954]\n",
      "[-40.37931445]\n",
      "[3.4816763]\n",
      "[0.0, 0.0]\n"
     ]
    },
    {
     "name": "stderr",
     "output_type": "stream",
     "text": [
      " 26%|██▌       | 589/2300 [2:21:49<6:43:52, 14.16s/it]"
     ]
    },
    {
     "name": "stdout",
     "output_type": "stream",
     "text": [
      "[0.28332543]\n",
      "[-39.9793456]\n",
      "[4.8454647]\n",
      "[0.0, 0.0]\n"
     ]
    },
    {
     "name": "stderr",
     "output_type": "stream",
     "text": [
      " 26%|██▌       | 590/2300 [2:22:03<6:42:03, 14.11s/it]"
     ]
    },
    {
     "name": "stdout",
     "output_type": "stream",
     "text": [
      "[4.31629403]\n",
      "[-38.91287859]\n",
      "[16.82608]\n",
      "[0.0, 0.0]\n"
     ]
    },
    {
     "name": "stderr",
     "output_type": "stream",
     "text": [
      " 26%|██▌       | 591/2300 [2:22:18<6:44:26, 14.20s/it]"
     ]
    },
    {
     "name": "stdout",
     "output_type": "stream",
     "text": [
      "[9.48245331]\n",
      "[-37.97952777]\n",
      "[6.54784]\n",
      "[0.0, 0.0]\n"
     ]
    },
    {
     "name": "stderr",
     "output_type": "stream",
     "text": [
      " 26%|██▌       | 592/2300 [2:22:32<6:44:29, 14.21s/it]"
     ]
    },
    {
     "name": "stdout",
     "output_type": "stream",
     "text": [
      "[11.88222212]\n",
      "[-37.57957826]\n",
      "[4.848488]\n",
      "[0.0, 0.0]\n"
     ]
    },
    {
     "name": "stderr",
     "output_type": "stream",
     "text": [
      " 26%|██▌       | 593/2300 [2:22:46<6:45:31, 14.25s/it]"
     ]
    },
    {
     "name": "stdout",
     "output_type": "stream",
     "text": [
      "[13.71532407]\n",
      "[-37.21307065]\n",
      "[4.1910634]\n",
      "[0.0, 0.0]\n"
     ]
    },
    {
     "name": "stderr",
     "output_type": "stream",
     "text": [
      " 26%|██▌       | 594/2300 [2:23:00<6:40:55, 14.10s/it]"
     ]
    },
    {
     "name": "stdout",
     "output_type": "stream",
     "text": [
      "[15.41514946]\n",
      "[-36.81310701]\n",
      "[4.358045]\n",
      "[0.0, 0.0]\n"
     ]
    },
    {
     "name": "stderr",
     "output_type": "stream",
     "text": [
      " 26%|██▌       | 595/2300 [2:23:14<6:41:38, 14.13s/it]"
     ]
    },
    {
     "name": "stdout",
     "output_type": "stream",
     "text": [
      "[17.18169389]\n",
      "[-36.27973807]\n",
      "[4.470379]\n",
      "[0.0, 0.0]\n"
     ]
    },
    {
     "name": "stderr",
     "output_type": "stream",
     "text": [
      " 26%|██▌       | 596/2300 [2:23:28<6:41:10, 14.13s/it]"
     ]
    },
    {
     "name": "stdout",
     "output_type": "stream",
     "text": [
      "[18.78153212]\n",
      "[-35.77979447]\n",
      "[4.4632273]\n",
      "[0.0, 0.0]\n"
     ]
    },
    {
     "name": "stderr",
     "output_type": "stream",
     "text": [
      " 26%|██▌       | 597/2300 [2:23:42<6:39:46, 14.09s/it]"
     ]
    },
    {
     "name": "stdout",
     "output_type": "stream",
     "text": [
      "[20.51463859]\n",
      "[-35.11325849]\n",
      "[4.748622]\n",
      "[0.0, 0.0]\n"
     ]
    },
    {
     "name": "stderr",
     "output_type": "stream",
     "text": [
      " 26%|██▌       | 598/2300 [2:23:57<6:42:15, 14.18s/it]"
     ]
    },
    {
     "name": "stdout",
     "output_type": "stream",
     "text": [
      "[22.18118674]\n",
      "[-34.37995168]\n",
      "[5.5861025]\n",
      "[0.0, 0.0]\n"
     ]
    },
    {
     "name": "stderr",
     "output_type": "stream",
     "text": [
      " 26%|██▌       | 599/2300 [2:24:10<6:38:46, 14.07s/it]"
     ]
    },
    {
     "name": "stdout",
     "output_type": "stream",
     "text": [
      "[24.11428351]\n",
      "[-33.3134312]\n",
      "[6.5992026]\n",
      "[0.0, 0.0]\n"
     ]
    },
    {
     "name": "stderr",
     "output_type": "stream",
     "text": [
      " 26%|██▌       | 600/2300 [2:24:25<6:42:02, 14.19s/it]"
     ]
    },
    {
     "name": "stdout",
     "output_type": "stream",
     "text": [
      "[-44.37887234]\n",
      "[-34.01321547]\n",
      "[2.1312387]\n",
      "[0.0, 0.0]\n"
     ]
    },
    {
     "name": "stderr",
     "output_type": "stream",
     "text": [
      " 26%|██▌       | 601/2300 [2:24:39<6:42:33, 14.22s/it]"
     ]
    },
    {
     "name": "stdout",
     "output_type": "stream",
     "text": [
      "[-43.51252847]\n",
      "[-34.27997855]\n",
      "[2.153395]\n",
      "[0.0, 0.0]\n"
     ]
    },
    {
     "name": "stderr",
     "output_type": "stream",
     "text": [
      " 26%|██▌       | 602/2300 [2:24:53<6:38:42, 14.09s/it]"
     ]
    },
    {
     "name": "stdout",
     "output_type": "stream",
     "text": [
      "[-42.61263584]\n",
      "[-34.57994852]\n",
      "[2.163737]\n",
      "[0.0, 0.0]\n"
     ]
    },
    {
     "name": "stderr",
     "output_type": "stream",
     "text": [
      " 26%|██▌       | 603/2300 [2:25:07<6:39:26, 14.12s/it]"
     ]
    },
    {
     "name": "stdout",
     "output_type": "stream",
     "text": [
      "[-41.77907031]\n",
      "[-34.8130836]\n",
      "[2.188078]\n",
      "[0.0, 0.0]\n"
     ]
    },
    {
     "name": "stderr",
     "output_type": "stream",
     "text": [
      " 26%|██▋       | 604/2300 [2:25:21<6:38:55, 14.11s/it]"
     ]
    },
    {
     "name": "stdout",
     "output_type": "stream",
     "text": [
      "[-40.77913781]\n",
      "[-35.11301897]\n",
      "[2.2600036]\n",
      "[0.0, 0.0]\n"
     ]
    },
    {
     "name": "stderr",
     "output_type": "stream",
     "text": [
      " 26%|██▋       | 605/2300 [2:25:35<6:38:46, 14.12s/it]"
     ]
    },
    {
     "name": "stdout",
     "output_type": "stream",
     "text": [
      "[-39.91302315]\n",
      "[-35.47985061]\n",
      "[2.3313544]\n",
      "[0.0, 0.0]\n"
     ]
    },
    {
     "name": "stderr",
     "output_type": "stream",
     "text": [
      " 26%|██▋       | 606/2300 [2:25:50<6:38:28, 14.11s/it]"
     ]
    },
    {
     "name": "stdout",
     "output_type": "stream",
     "text": [
      "[-38.91323447]\n",
      "[-35.77982604]\n",
      "[2.3797677]\n",
      "[0.0, 0.0]\n"
     ]
    },
    {
     "name": "stderr",
     "output_type": "stream",
     "text": [
      " 26%|██▋       | 607/2300 [2:26:04<6:37:06, 14.07s/it]"
     ]
    },
    {
     "name": "stdout",
     "output_type": "stream",
     "text": [
      "[-37.87898023]\n",
      "[-36.11252098]\n",
      "[2.3579693]\n",
      "[0.0, 0.0]\n"
     ]
    },
    {
     "name": "stderr",
     "output_type": "stream",
     "text": [
      " 26%|██▋       | 608/2300 [2:26:18<6:36:58, 14.08s/it]"
     ]
    },
    {
     "name": "stdout",
     "output_type": "stream",
     "text": [
      "[-36.81620664]\n",
      "[-36.38020519]\n",
      "[2.3380213]\n",
      "[0.0, 0.0]\n"
     ]
    },
    {
     "name": "stderr",
     "output_type": "stream",
     "text": [
      " 26%|██▋       | 609/2300 [2:26:32<6:36:31, 14.07s/it]"
     ]
    },
    {
     "name": "stdout",
     "output_type": "stream",
     "text": [
      "[-35.781342]\n",
      "[-36.61454341]\n",
      "[2.3343368]\n",
      "[0.0, 0.0]\n"
     ]
    },
    {
     "name": "stderr",
     "output_type": "stream",
     "text": [
      " 27%|██▋       | 610/2300 [2:26:46<6:35:59, 14.06s/it]"
     ]
    },
    {
     "name": "stdout",
     "output_type": "stream",
     "text": [
      "[-34.78038188]\n",
      "[-36.91356171]\n",
      "[2.373161]\n",
      "[0.0, 0.0]\n"
     ]
    },
    {
     "name": "stderr",
     "output_type": "stream",
     "text": [
      " 27%|██▋       | 611/2300 [2:27:00<6:37:46, 14.13s/it]"
     ]
    },
    {
     "name": "stdout",
     "output_type": "stream",
     "text": [
      "[-33.68031393]\n",
      "[-37.11332253]\n",
      "[2.421541]\n",
      "[0.0, 0.0]\n"
     ]
    },
    {
     "name": "stderr",
     "output_type": "stream",
     "text": [
      " 27%|██▋       | 612/2300 [2:27:14<6:36:02, 14.08s/it]"
     ]
    },
    {
     "name": "stdout",
     "output_type": "stream",
     "text": [
      "[-32.68030997]\n",
      "[-37.41319323]\n",
      "[2.4096103]\n",
      "[0.0, 0.0]\n"
     ]
    },
    {
     "name": "stderr",
     "output_type": "stream",
     "text": [
      " 27%|██▋       | 613/2300 [2:27:28<6:34:32, 14.03s/it]"
     ]
    },
    {
     "name": "stdout",
     "output_type": "stream",
     "text": [
      "[-31.61341279]\n",
      "[-37.67961818]\n",
      "[2.3936217]\n",
      "[0.0, 0.0]\n"
     ]
    },
    {
     "name": "stderr",
     "output_type": "stream",
     "text": [
      " 27%|██▋       | 614/2300 [2:27:42<6:36:12, 14.10s/it]"
     ]
    },
    {
     "name": "stdout",
     "output_type": "stream",
     "text": [
      "[-30.48046029]\n",
      "[-37.91308954]\n",
      "[2.396478]\n",
      "[0.0, 0.0]\n"
     ]
    },
    {
     "name": "stderr",
     "output_type": "stream",
     "text": [
      " 27%|██▋       | 615/2300 [2:27:56<6:33:05, 14.00s/it]"
     ]
    },
    {
     "name": "stdout",
     "output_type": "stream",
     "text": [
      "[-29.41365581]\n",
      "[-38.17955844]\n",
      "[2.3935034]\n",
      "[0.0, 0.0]\n"
     ]
    },
    {
     "name": "stderr",
     "output_type": "stream",
     "text": [
      " 27%|██▋       | 616/2300 [2:28:11<6:45:26, 14.45s/it]"
     ]
    },
    {
     "name": "stdout",
     "output_type": "stream",
     "text": [
      "[-12.91546483 -28.28064213 -19.18140059]\n",
      "[ 20.71463857 -38.41301067  16.88171078]\n",
      "[12.720539   2.4160855 10.5332   ]\n",
      "[0.0, 0.0]\n",
      "[0.0, 0.0]\n",
      "[0.0, 0.0]\n"
     ]
    },
    {
     "name": "stderr",
     "output_type": "stream",
     "text": [
      " 27%|██▋       | 617/2300 [2:28:29<7:14:46, 15.50s/it]"
     ]
    },
    {
     "name": "stdout",
     "output_type": "stream",
     "text": [
      "[-27.11391092   7.18272046  -9.9157829    3.51511487 -19.18140034]\n",
      "[-38.57952429   2.11646953  21.01459101   2.08242803  15.0818747 ]\n",
      "[2.4572275 4.723705  8.572566  2.8136716 8.492814 ]\n",
      "[0.0, 0.0]\n",
      "[0.0, 0.0]\n",
      "[0.0, 0.0]\n",
      "[0.0, 0.0]\n",
      "[0.0, 0.0]\n"
     ]
    },
    {
     "name": "stderr",
     "output_type": "stream",
     "text": [
      " 27%|██▋       | 618/2300 [2:28:48<7:37:15, 16.31s/it]"
     ]
    },
    {
     "name": "stdout",
     "output_type": "stream",
     "text": [
      "[-26.01402968 -19.21478841  -7.31606839   1.92453541   9.31582263]\n",
      "[-38.87949186  13.41539305  21.01455938   2.18704509   2.18309412]\n",
      "[2.5161953 7.371234  7.7376814 1.3539721 4.217036 ]\n",
      "[0.0, 0.0]\n",
      "[0.0, 0.0]\n",
      "[0.0, 0.0]\n",
      "[0.0, 0.0]\n",
      "[0.0, 0.0]\n"
     ]
    },
    {
     "name": "stderr",
     "output_type": "stream",
     "text": [
      " 27%|██▋       | 619/2300 [2:29:06<7:52:43, 16.87s/it]"
     ]
    },
    {
     "name": "stdout",
     "output_type": "stream",
     "text": [
      "[-24.71416714   0.88238045 -19.014795    -4.81634678  11.11577531]\n",
      "[-39.0794731    2.21747835  11.81555992  20.81451092   2.28312901]\n",
      "[2.6008453 0.9917706 7.021662  7.140678  4.499296 ]\n",
      "[0.0, 0.0]\n",
      "[0.0, 0.0]\n",
      "[0.0, 0.0]\n",
      "[0.0, 0.0]\n",
      "[0.0, 0.0]\n"
     ]
    },
    {
     "name": "stderr",
     "output_type": "stream",
     "text": [
      " 27%|██▋       | 620/2300 [2:29:26<8:21:16, 17.90s/it]"
     ]
    },
    {
     "name": "stdout",
     "output_type": "stream",
     "text": [
      "[-2.35142936e+01  1.26820327e+01 -1.83148519e+01 -2.31663282e+00\n",
      "  1.77471719e-02]\n",
      "[-39.27945301   2.51669395  10.11573544  20.4144408    2.38353572]\n",
      "[2.5862067 4.707869  8.495549  7.220966  0.9445034]\n",
      "[0.0, 0.0]\n",
      "[0.0, 0.0]\n",
      "[0.0, 0.0]\n",
      "[0.0, 0.0]\n",
      "[0.0, 0.0]\n"
     ]
    },
    {
     "name": "stderr",
     "output_type": "stream",
     "text": [
      " 27%|██▋       | 621/2300 [2:29:44<8:24:45, 18.04s/it]"
     ]
    },
    {
     "name": "stdout",
     "output_type": "stream",
     "text": [
      "[-22.31441955  13.98186476   0.38304892  -0.98251405 -14.28186258]\n",
      "[-39.47943276   2.81678588  19.71431893   2.58333207   7.1826037 ]\n",
      "[ 2.5079324  5.0855966  7.9287148  1.115574  13.502233 ]\n",
      "[0.0, 0.0]\n",
      "[0.0, 0.0]\n",
      "[0.0, 0.0]\n",
      "[0.0, 0.0]\n",
      "[0.0, 0.0]\n"
     ]
    },
    {
     "name": "stderr",
     "output_type": "stream",
     "text": [
      " 27%|██▋       | 622/2300 [2:30:05<8:46:27, 18.82s/it]"
     ]
    },
    {
     "name": "stdout",
     "output_type": "stream",
     "text": [
      "[ -2.21658959  15.18170978 -10.01567388   3.58269674 -21.08128947]\n",
      "[  2.91672975   3.21691456   5.51626409  18.61405071 -39.61283352]\n",
      "[1.9281802 5.7185874 7.625925  9.8490505 2.4164562]\n",
      "[0.0, 0.0]\n",
      "[0.0, 0.0]\n",
      "[0.0, 0.0]\n",
      "[0.0, 0.0]\n",
      "[0.0, 0.0]\n"
     ]
    },
    {
     "name": "stderr",
     "output_type": "stream",
     "text": [
      " 27%|██▋       | 623/2300 [2:30:23<8:41:32, 18.66s/it]"
     ]
    },
    {
     "name": "stdout",
     "output_type": "stream",
     "text": [
      "[-19.9146648   16.18159935   6.982398  ]\n",
      "[-39.77940086   3.71705522  17.11378202]\n",
      "[ 2.3384156  6.4535823 10.282568 ]\n",
      "[0.0, 0.0]\n",
      "[0.0, 0.0]\n",
      "[0.0, 0.0]\n"
     ]
    },
    {
     "name": "stderr",
     "output_type": "stream",
     "text": [
      " 27%|██▋       | 624/2300 [2:30:40<8:21:56, 17.97s/it]"
     ]
    },
    {
     "name": "stdout",
     "output_type": "stream",
     "text": [
      "[-18.81477659  16.98156597  10.18203236]\n",
      "[-39.87939043   4.51706664  15.3135512 ]\n",
      "[ 2.3162303  7.916032  11.642185 ]\n",
      "[0.0, 0.0]\n",
      "[0.0, 0.0]\n",
      "[0.0, 0.0]\n"
     ]
    },
    {
     "name": "stderr",
     "output_type": "stream",
     "text": [
      " 27%|██▋       | 625/2300 [2:30:57<8:17:48, 17.83s/it]"
     ]
    },
    {
     "name": "stdout",
     "output_type": "stream",
     "text": [
      "[-17.61489761  17.51563404  13.415735  ]\n",
      "[-39.9793804    5.68277046  12.97364913]\n",
      "[ 2.352929 11.26502  14.197398]\n",
      "[0.0, 0.0]\n",
      "[0.0, 0.0]\n",
      "[0.0, 0.0]\n"
     ]
    },
    {
     "name": "stderr",
     "output_type": "stream",
     "text": [
      " 27%|██▋       | 626/2300 [2:31:14<8:04:48, 17.38s/it]"
     ]
    },
    {
     "name": "stdout",
     "output_type": "stream",
     "text": [
      "[-16.51500861]\n",
      "[-40.07936943]\n",
      "[2.3333123]\n",
      "[0.0, 0.0]\n"
     ]
    },
    {
     "name": "stderr",
     "output_type": "stream",
     "text": [
      " 27%|██▋       | 627/2300 [2:31:29<7:48:17, 16.79s/it]"
     ]
    },
    {
     "name": "stdout",
     "output_type": "stream",
     "text": [
      "[-15.31512975]\n",
      "[-40.07936942]\n",
      "[2.3032613]\n",
      "[0.0, 0.0]\n"
     ]
    },
    {
     "name": "stderr",
     "output_type": "stream",
     "text": [
      " 27%|██▋       | 628/2300 [2:31:43<7:24:53, 15.96s/it]"
     ]
    },
    {
     "name": "stdout",
     "output_type": "stream",
     "text": [
      "[-14.21524008]\n",
      "[-40.17935857]\n",
      "[2.3587677]\n",
      "[0.0, 0.0]\n"
     ]
    },
    {
     "name": "stderr",
     "output_type": "stream",
     "text": [
      " 27%|██▋       | 629/2300 [2:31:57<7:08:53, 15.40s/it]"
     ]
    },
    {
     "name": "stdout",
     "output_type": "stream",
     "text": [
      "[-13.01535948]\n",
      "[-40.1793585]\n",
      "[2.4453382]\n",
      "[0.0, 0.0]\n"
     ]
    },
    {
     "name": "stderr",
     "output_type": "stream",
     "text": [
      " 27%|██▋       | 630/2300 [2:32:11<6:59:47, 15.08s/it]"
     ]
    },
    {
     "name": "stdout",
     "output_type": "stream",
     "text": [
      "[-11.78217216]\n",
      "[-40.21275091]\n",
      "[2.5382664]\n",
      "[0.0, 0.0]\n"
     ]
    },
    {
     "name": "stderr",
     "output_type": "stream",
     "text": [
      " 27%|██▋       | 631/2300 [2:32:26<6:54:21, 14.90s/it]"
     ]
    },
    {
     "name": "stdout",
     "output_type": "stream",
     "text": [
      "[-10.58228636]\n",
      "[-40.21274891]\n",
      "[2.5388799]\n",
      "[0.0, 0.0]\n"
     ]
    },
    {
     "name": "stderr",
     "output_type": "stream",
     "text": [
      " 27%|██▋       | 632/2300 [2:32:40<6:46:06, 14.61s/it]"
     ]
    },
    {
     "name": "stdout",
     "output_type": "stream",
     "text": [
      "[-9.28240957]\n",
      "[-40.21274669]\n",
      "[2.5112684]\n",
      "[0.0, 0.0]\n"
     ]
    },
    {
     "name": "stderr",
     "output_type": "stream",
     "text": [
      " 28%|██▊       | 633/2300 [2:32:54<6:41:37, 14.46s/it]"
     ]
    },
    {
     "name": "stdout",
     "output_type": "stream",
     "text": [
      "[-8.08252362]\n",
      "[-40.21274509]\n",
      "[2.5776055]\n",
      "[0.0, 0.0]\n"
     ]
    },
    {
     "name": "stderr",
     "output_type": "stream",
     "text": [
      " 28%|██▊       | 634/2300 [2:33:08<6:38:45, 14.36s/it]"
     ]
    },
    {
     "name": "stdout",
     "output_type": "stream",
     "text": [
      "[-6.88263682]\n",
      "[-40.21274332]\n",
      "[2.6590238]\n",
      "[0.0, 0.0]\n"
     ]
    },
    {
     "name": "stderr",
     "output_type": "stream",
     "text": [
      " 28%|██▊       | 635/2300 [2:33:22<6:38:34, 14.36s/it]"
     ]
    },
    {
     "name": "stdout",
     "output_type": "stream",
     "text": [
      "[-5.58275948]\n",
      "[-40.11275167]\n",
      "[2.7460778]\n",
      "[0.0, 0.0]\n"
     ]
    },
    {
     "name": "stderr",
     "output_type": "stream",
     "text": [
      " 28%|██▊       | 636/2300 [2:33:37<6:37:54, 14.35s/it]"
     ]
    },
    {
     "name": "stdout",
     "output_type": "stream",
     "text": [
      "[-4.28288261]\n",
      "[-40.01276055]\n",
      "[2.8919456]\n",
      "[0.0, 0.0]\n"
     ]
    },
    {
     "name": "stderr",
     "output_type": "stream",
     "text": [
      " 28%|██▊       | 637/2300 [2:33:51<6:35:02, 14.25s/it]"
     ]
    },
    {
     "name": "stdout",
     "output_type": "stream",
     "text": [
      "[-2.88301385]\n",
      "[-39.8127788]\n",
      "[3.1743705]\n",
      "[0.0, 0.0]\n"
     ]
    },
    {
     "name": "stderr",
     "output_type": "stream",
     "text": [
      " 28%|██▊       | 638/2300 [2:34:05<6:34:20, 14.24s/it]"
     ]
    },
    {
     "name": "stdout",
     "output_type": "stream",
     "text": [
      "[-1.28316373]\n",
      "[-39.51280749]\n",
      "[3.8072293]\n",
      "[0.0, 0.0]\n"
     ]
    },
    {
     "name": "stderr",
     "output_type": "stream",
     "text": [
      " 28%|██▊       | 639/2300 [2:34:19<6:32:18, 14.17s/it]"
     ]
    },
    {
     "name": "stdout",
     "output_type": "stream",
     "text": [
      "[0.88326594]\n",
      "[-39.07942831]\n",
      "[5.890144]\n",
      "[0.0, 0.0]\n"
     ]
    },
    {
     "name": "stderr",
     "output_type": "stream",
     "text": [
      " 28%|██▊       | 640/2300 [2:34:33<6:33:18, 14.22s/it]"
     ]
    },
    {
     "name": "stdout",
     "output_type": "stream",
     "text": [
      "[6.01612796]\n",
      "[-37.81299457]\n",
      "[14.567177]\n",
      "[0.0, 0.0]\n"
     ]
    },
    {
     "name": "stderr",
     "output_type": "stream",
     "text": [
      " 28%|██▊       | 641/2300 [2:34:48<6:33:44, 14.24s/it]"
     ]
    },
    {
     "name": "stdout",
     "output_type": "stream",
     "text": [
      "[9.91572017]\n",
      "[-37.11307993]\n",
      "[6.203475]\n",
      "[0.0, 0.0]\n"
     ]
    },
    {
     "name": "stderr",
     "output_type": "stream",
     "text": [
      " 28%|██▊       | 642/2300 [2:35:02<6:34:39, 14.28s/it]"
     ]
    },
    {
     "name": "stdout",
     "output_type": "stream",
     "text": [
      "[12.28218561]\n",
      "[-36.67967038]\n",
      "[4.919879]\n",
      "[0.0, 0.0]\n"
     ]
    },
    {
     "name": "stderr",
     "output_type": "stream",
     "text": [
      " 28%|██▊       | 643/2300 [2:35:16<6:33:08, 14.24s/it]"
     ]
    },
    {
     "name": "stdout",
     "output_type": "stream",
     "text": [
      "[14.1152775]\n",
      "[-36.31316083]\n",
      "[4.473141]\n",
      "[0.0, 0.0]\n"
     ]
    },
    {
     "name": "stderr",
     "output_type": "stream",
     "text": [
      " 28%|██▊       | 644/2300 [2:35:30<6:31:13, 14.17s/it]"
     ]
    },
    {
     "name": "stdout",
     "output_type": "stream",
     "text": [
      "[15.91509289]\n",
      "[-35.81320605]\n",
      "[4.7987494]\n",
      "[0.0, 0.0]\n"
     ]
    },
    {
     "name": "stderr",
     "output_type": "stream",
     "text": [
      " 28%|██▊       | 645/2300 [2:35:44<6:31:19, 14.19s/it]"
     ]
    },
    {
     "name": "stdout",
     "output_type": "stream",
     "text": [
      "[17.71491263]\n",
      "[-35.21325922]\n",
      "[4.754625]\n",
      "[0.0, 0.0]\n"
     ]
    },
    {
     "name": "stderr",
     "output_type": "stream",
     "text": [
      " 28%|██▊       | 646/2300 [2:35:58<6:30:16, 14.16s/it]"
     ]
    },
    {
     "name": "stdout",
     "output_type": "stream",
     "text": [
      "[19.48146312]\n",
      "[-34.57991938]\n",
      "[4.9983945]\n",
      "[0.0, 0.0]\n"
     ]
    },
    {
     "name": "stderr",
     "output_type": "stream",
     "text": [
      " 28%|██▊       | 647/2300 [2:36:13<6:32:00, 14.23s/it]"
     ]
    },
    {
     "name": "stdout",
     "output_type": "stream",
     "text": [
      "[21.21456502]\n",
      "[-33.8133869]\n",
      "[5.5998025]\n",
      "[0.0, 0.0]\n"
     ]
    },
    {
     "name": "stderr",
     "output_type": "stream",
     "text": [
      " 28%|██▊       | 648/2300 [2:36:27<6:28:44, 14.12s/it]"
     ]
    },
    {
     "name": "stdout",
     "output_type": "stream",
     "text": [
      "[23.21437186]\n",
      "[-32.71349189]\n",
      "[6.7754393]\n",
      "[0.0, 0.0]\n"
     ]
    },
    {
     "name": "stderr",
     "output_type": "stream",
     "text": [
      " 28%|██▊       | 649/2300 [2:36:42<6:38:57, 14.50s/it]"
     ]
    },
    {
     "name": "stdout",
     "output_type": "stream",
     "text": [
      "[34.57997345 25.91410789 30.81362865]\n",
      "[-17.88156447 -30.91366687 -25.31421204]\n",
      "[15.909198 17.454756 18.86215 ]\n",
      "[0.0, 0.0]\n",
      "[0.0, 0.0]\n",
      "[0.0, 0.0]\n"
     ]
    },
    {
     "name": "stderr",
     "output_type": "stream",
     "text": [
      " 28%|██▊       | 650/2300 [2:36:56<6:36:19, 14.41s/it]"
     ]
    },
    {
     "name": "stdout",
     "output_type": "stream",
     "text": [
      "[-44.67885281]\n",
      "[-33.01332443]\n",
      "[2.1627777]\n",
      "[0.0, 0.0]\n"
     ]
    },
    {
     "name": "stderr",
     "output_type": "stream",
     "text": [
      " 28%|██▊       | 651/2300 [2:37:10<6:31:48, 14.26s/it]"
     ]
    },
    {
     "name": "stdout",
     "output_type": "stream",
     "text": [
      "[-43.7789304]\n",
      "[-33.31328402]\n",
      "[2.178979]\n",
      "[0.0, 0.0]\n"
     ]
    },
    {
     "name": "stderr",
     "output_type": "stream",
     "text": [
      " 28%|██▊       | 652/2300 [2:37:24<6:31:23, 14.25s/it]"
     ]
    },
    {
     "name": "stdout",
     "output_type": "stream",
     "text": [
      "[-42.91258789]\n",
      "[-33.58004554]\n",
      "[2.1974657]\n",
      "[0.0, 0.0]\n"
     ]
    },
    {
     "name": "stderr",
     "output_type": "stream",
     "text": [
      " 28%|██▊       | 653/2300 [2:37:38<6:25:58, 14.06s/it]"
     ]
    },
    {
     "name": "stdout",
     "output_type": "stream",
     "text": [
      "[-42.0126951]\n",
      "[-33.88001508]\n",
      "[2.2321892]\n",
      "[0.0, 0.0]\n"
     ]
    },
    {
     "name": "stderr",
     "output_type": "stream",
     "text": [
      " 28%|██▊       | 654/2300 [2:37:52<6:26:33, 14.09s/it]"
     ]
    },
    {
     "name": "stdout",
     "output_type": "stream",
     "text": [
      "[-41.11280853]\n",
      "[-34.17998415]\n",
      "[2.3089008]\n",
      "[0.0, 0.0]\n"
     ]
    },
    {
     "name": "stderr",
     "output_type": "stream",
     "text": [
      " 28%|██▊       | 655/2300 [2:38:06<6:26:25, 14.09s/it]"
     ]
    },
    {
     "name": "stdout",
     "output_type": "stream",
     "text": [
      "[-40.21293363]\n",
      "[-34.47995152]\n",
      "[2.4068165]\n",
      "[0.0, 0.0]\n"
     ]
    },
    {
     "name": "stderr",
     "output_type": "stream",
     "text": [
      " 29%|██▊       | 656/2300 [2:38:20<6:24:38, 14.04s/it]"
     ]
    },
    {
     "name": "stdout",
     "output_type": "stream",
     "text": [
      "[-39.17922863]\n",
      "[-34.81298897]\n",
      "[2.5078788]\n",
      "[0.0, 0.0]\n"
     ]
    },
    {
     "name": "stderr",
     "output_type": "stream",
     "text": [
      " 29%|██▊       | 657/2300 [2:38:35<6:29:23, 14.22s/it]"
     ]
    },
    {
     "name": "stdout",
     "output_type": "stream",
     "text": [
      "[-38.17919974]\n",
      "[-35.21284125]\n",
      "[2.5276039]\n",
      "[0.0, 0.0]\n"
     ]
    },
    {
     "name": "stderr",
     "output_type": "stream",
     "text": [
      " 29%|██▊       | 658/2300 [2:38:49<6:27:39, 14.17s/it]"
     ]
    },
    {
     "name": "stdout",
     "output_type": "stream",
     "text": [
      "[-37.11377]\n",
      "[-35.47988957]\n",
      "[2.501459]\n",
      "[0.0, 0.0]\n"
     ]
    },
    {
     "name": "stderr",
     "output_type": "stream",
     "text": [
      " 29%|██▊       | 659/2300 [2:39:03<6:25:19, 14.09s/it]"
     ]
    },
    {
     "name": "stdout",
     "output_type": "stream",
     "text": [
      "[-36.11740016]\n",
      "[-35.77872111]\n",
      "[2.4233098]\n",
      "[0.0, 0.0]\n"
     ]
    },
    {
     "name": "stderr",
     "output_type": "stream",
     "text": [
      " 29%|██▊       | 660/2300 [2:39:17<6:26:29, 14.14s/it]"
     ]
    },
    {
     "name": "stdout",
     "output_type": "stream",
     "text": [
      "[-35.01224897]\n",
      "[-35.97984051]\n",
      "[2.4099863]\n",
      "[0.0, 0.0]\n"
     ]
    },
    {
     "name": "stderr",
     "output_type": "stream",
     "text": [
      " 29%|██▊       | 661/2300 [2:39:31<6:26:29, 14.15s/it]"
     ]
    },
    {
     "name": "stdout",
     "output_type": "stream",
     "text": [
      "[-34.01289341]\n",
      "[-36.27969045]\n",
      "[2.4349291]\n",
      "[0.0, 0.0]\n"
     ]
    },
    {
     "name": "stderr",
     "output_type": "stream",
     "text": [
      " 29%|██▉       | 662/2300 [2:39:45<6:24:32, 14.09s/it]"
     ]
    },
    {
     "name": "stdout",
     "output_type": "stream",
     "text": [
      "[-32.88032449]\n",
      "[-36.51336575]\n",
      "[2.4537683]\n",
      "[0.0, 0.0]\n"
     ]
    },
    {
     "name": "stderr",
     "output_type": "stream",
     "text": [
      " 29%|██▉       | 663/2300 [2:39:59<6:24:51, 14.11s/it]"
     ]
    },
    {
     "name": "stdout",
     "output_type": "stream",
     "text": [
      "[-31.88033141]\n",
      "[-36.81323616]\n",
      "[2.462081]\n",
      "[0.0, 0.0]\n"
     ]
    },
    {
     "name": "stderr",
     "output_type": "stream",
     "text": [
      " 29%|██▉       | 664/2300 [2:40:13<6:23:52, 14.08s/it]"
     ]
    },
    {
     "name": "stdout",
     "output_type": "stream",
     "text": [
      "[-30.78043781]\n",
      "[-37.11317893]\n",
      "[2.4705744]\n",
      "[0.0, 0.0]\n"
     ]
    },
    {
     "name": "stderr",
     "output_type": "stream",
     "text": [
      " 29%|██▉       | 665/2300 [2:40:27<6:22:43, 14.05s/it]"
     ]
    },
    {
     "name": "stdout",
     "output_type": "stream",
     "text": [
      "[-29.61362668 -20.28129709 -15.78173132]\n",
      "[-37.37964117  18.98151396  21.38129227]\n",
      "[ 2.4653018 11.119614  14.826165 ]\n",
      "[0.0, 0.0]\n",
      "[0.0, 0.0]\n",
      "[0.0, 0.0]\n"
     ]
    },
    {
     "name": "stderr",
     "output_type": "stream",
     "text": [
      " 29%|██▉       | 666/2300 [2:40:44<6:44:03, 14.84s/it]"
     ]
    },
    {
     "name": "stdout",
     "output_type": "stream",
     "text": [
      "[-28.51374935 -20.98123588 -12.48205593]\n",
      "[-37.57962181  17.28167585  21.9812504 ]\n",
      "[2.46925   7.4452367 9.292469 ]\n",
      "[0.0, 0.0]\n",
      "[0.0, 0.0]\n",
      "[0.0, 0.0]\n"
     ]
    },
    {
     "name": "stderr",
     "output_type": "stream",
     "text": [
      " 29%|██▉       | 667/2300 [2:41:02<7:06:26, 15.67s/it]"
     ]
    },
    {
     "name": "stdout",
     "output_type": "stream",
     "text": [
      "[  3.58345483 -20.91464271 -27.38072992   7.11588412  -9.88231227]\n",
      "[  1.61614498  15.6151478  -37.81306485   1.48311163  22.08126217]\n",
      "[2.5379884 8.534703  2.490965  4.39505   7.4196787]\n",
      "[0.0, 0.0]\n",
      "[0.0, 0.0]\n",
      "[0.0, 0.0]\n",
      "[0.0, 0.0]\n",
      "[0.0, 0.0]\n"
     ]
    },
    {
     "name": "stderr",
     "output_type": "stream",
     "text": [
      " 29%|██▉       | 668/2300 [2:41:20<7:25:19, 16.37s/it]"
     ]
    },
    {
     "name": "stdout",
     "output_type": "stream",
     "text": [
      "[-26.21400339   9.38242835 -20.8146395    2.0064979   -7.48256147]\n",
      "[-38.07957314   1.51658627  13.91532814   1.77792874  22.08128722]\n",
      "[2.5391197 3.8833375 7.6053166 1.2341422 6.9274173]\n",
      "[0.0, 0.0]\n",
      "[0.0, 0.0]\n",
      "[0.0, 0.0]\n",
      "[0.0, 0.0]\n",
      "[0.0, 0.0]\n"
     ]
    },
    {
     "name": "stderr",
     "output_type": "stream",
     "text": [
      " 29%|██▉       | 669/2300 [2:41:38<7:41:49, 16.99s/it]"
     ]
    },
    {
     "name": "stdout",
     "output_type": "stream",
     "text": [
      "[ 11.18221089 -20.61464598  -5.21630322 -24.98093883   1.0192955 ]\n",
      "[  1.4166572   12.3154957   21.81438332 -38.31298997   1.88437259]\n",
      "[4.150615  6.4878116 6.18173   2.6628747 0.9131026]\n",
      "[0.0, 0.0]\n",
      "[0.0, 0.0]\n",
      "[0.0, 0.0]\n",
      "[0.0, 0.0]\n",
      "[0.0, 0.0]\n"
     ]
    },
    {
     "name": "stderr",
     "output_type": "stream",
     "text": [
      " 29%|██▉       | 670/2300 [2:41:58<8:08:45, 17.99s/it]"
     ]
    },
    {
     "name": "stdout",
     "output_type": "stream",
     "text": [
      "[ 12.7820219   -2.81657224 -23.68105678   0.11800553 -20.08132954]\n",
      "[  1.41672425  21.41432429 -38.51296097   1.98368567  10.6822741 ]\n",
      "[4.302828   6.507378   2.7246552  0.80805933 6.4162865 ]\n",
      "[0.0, 0.0]\n",
      "[0.0, 0.0]\n",
      "[0.0, 0.0]\n",
      "[0.0, 0.0]\n",
      "[0.0, 0.0]\n"
     ]
    },
    {
     "name": "stderr",
     "output_type": "stream",
     "text": [
      " 29%|██▉       | 671/2300 [2:42:16<8:08:51, 18.01s/it]"
     ]
    },
    {
     "name": "stdout",
     "output_type": "stream",
     "text": [
      "[ 14.18185621 -18.61481491 -22.48116433  -0.68237753  -0.3834563 ]\n",
      "[  1.51679975   8.71587072 -38.7129327    2.18344957  20.88149592]\n",
      "[ 4.500483   12.154842    2.6117246   0.90106887  6.7856574 ]\n",
      "[0.0, 0.0]\n",
      "[0.0, 0.0]\n",
      "[0.0, 0.0]\n",
      "[0.0, 0.0]\n",
      "[0.0, 0.0]\n"
     ]
    },
    {
     "name": "stderr",
     "output_type": "stream",
     "text": [
      " 29%|██▉       | 672/2300 [2:42:35<8:15:08, 18.25s/it]"
     ]
    },
    {
     "name": "stdout",
     "output_type": "stream",
     "text": [
      "[ -1.81667723   2.2828722  -21.28127261  15.51563973 -11.48210045]\n",
      "[  2.41682958  20.01410188 -38.91290526   1.68327818   5.48277919]\n",
      "[1.3290586 8.30822   2.4788182 4.906936  6.526902 ]\n",
      "[0.0, 0.0]\n",
      "[0.0, 0.0]\n",
      "[0.0, 0.0]\n",
      "[0.0, 0.0]\n",
      "[0.0, 0.0]\n"
     ]
    },
    {
     "name": "stderr",
     "output_type": "stream",
     "text": [
      " 29%|██▉       | 673/2300 [2:42:56<8:31:59, 18.88s/it]"
     ]
    },
    {
     "name": "stdout",
     "output_type": "stream",
     "text": [
      "[-20.0813847   16.61563695   5.51551752]\n",
      "[-39.01289066   1.88326829  18.78170167]\n",
      "[2.395943 5.261447 8.776008]\n",
      "[0.0, 0.0]\n",
      "[0.0, 0.0]\n",
      "[0.0, 0.0]\n"
     ]
    },
    {
     "name": "stderr",
     "output_type": "stream",
     "text": [
      " 29%|██▉       | 674/2300 [2:43:13<8:16:53, 18.34s/it]"
     ]
    },
    {
     "name": "stdout",
     "output_type": "stream",
     "text": [
      "[-18.91476453  17.61558579   8.51510497]\n",
      "[-39.17945896   2.18322222  17.38179736]\n",
      "[2.3598497 5.7860727 8.6078005]\n",
      "[0.0, 0.0]\n",
      "[0.0, 0.0]\n",
      "[0.0, 0.0]\n"
     ]
    },
    {
     "name": "stderr",
     "output_type": "stream",
     "text": [
      " 29%|██▉       | 675/2300 [2:43:29<8:03:38, 17.86s/it]"
     ]
    },
    {
     "name": "stdout",
     "output_type": "stream",
     "text": [
      "[-17.71488592  18.48146347  11.31462232]\n",
      "[-39.27944879   2.61693275  15.88200179]\n",
      "[2.3865585 6.669599  9.354072 ]\n",
      "[0.0, 0.0]\n",
      "[0.0, 0.0]\n",
      "[0.0, 0.0]\n"
     ]
    },
    {
     "name": "stderr",
     "output_type": "stream",
     "text": [
      " 29%|██▉       | 676/2300 [2:43:47<8:00:40, 17.76s/it]"
     ]
    },
    {
     "name": "stdout",
     "output_type": "stream",
     "text": [
      "[-16.61499714  19.2152128   13.90145561]\n",
      "[-39.37943796   3.28301504  14.07562513]\n",
      "[ 2.3746624  8.323955  10.46389  ]\n",
      "[0.0, 0.0]\n",
      "[0.0, 0.0]\n",
      "[0.0, 0.0]\n"
     ]
    },
    {
     "name": "stderr",
     "output_type": "stream",
     "text": [
      " 29%|██▉       | 677/2300 [2:44:03<7:47:21, 17.28s/it]"
     ]
    },
    {
     "name": "stdout",
     "output_type": "stream",
     "text": [
      "[-15.38182873  19.81498214  16.31542035]\n",
      "[-39.4128368    4.28287365  11.98186089]\n",
      "[ 2.3412063 12.186714  12.521094 ]\n",
      "[0.0, 0.0]\n",
      "[0.0, 0.0]\n",
      "[0.0, 0.0]\n"
     ]
    },
    {
     "name": "stderr",
     "output_type": "stream",
     "text": [
      " 29%|██▉       | 678/2300 [2:44:20<7:41:13, 17.06s/it]"
     ]
    },
    {
     "name": "stdout",
     "output_type": "stream",
     "text": [
      "[-14.21523943]\n",
      "[-39.47942795]\n",
      "[2.399356]\n",
      "[0.0, 0.0]\n"
     ]
    },
    {
     "name": "stderr",
     "output_type": "stream",
     "text": [
      " 30%|██▉       | 679/2300 [2:44:36<7:37:06, 16.92s/it]"
     ]
    },
    {
     "name": "stdout",
     "output_type": "stream",
     "text": [
      "[-13.01535917]\n",
      "[-39.47942777]\n",
      "[2.4740744]\n",
      "[0.0, 0.0]\n"
     ]
    },
    {
     "name": "stderr",
     "output_type": "stream",
     "text": [
      " 30%|██▉       | 680/2300 [2:44:50<7:13:11, 16.04s/it]"
     ]
    },
    {
     "name": "stdout",
     "output_type": "stream",
     "text": [
      "[-11.81547866]\n",
      "[-39.47942672]\n",
      "[2.54679]\n",
      "[0.0, 0.0]\n"
     ]
    },
    {
     "name": "stderr",
     "output_type": "stream",
     "text": [
      " 30%|██▉       | 681/2300 [2:45:04<6:55:38, 15.40s/it]"
     ]
    },
    {
     "name": "stdout",
     "output_type": "stream",
     "text": [
      "[-10.58228647]\n",
      "[-39.51281771]\n",
      "[2.5552466]\n",
      "[0.0, 0.0]\n"
     ]
    },
    {
     "name": "stderr",
     "output_type": "stream",
     "text": [
      " 30%|██▉       | 682/2300 [2:45:18<6:46:06, 15.06s/it]"
     ]
    },
    {
     "name": "stdout",
     "output_type": "stream",
     "text": [
      "[-9.31572776]\n",
      "[-39.47942174]\n",
      "[2.5544946]\n",
      "[0.0, 0.0]\n"
     ]
    },
    {
     "name": "stderr",
     "output_type": "stream",
     "text": [
      " 30%|██▉       | 683/2300 [2:45:32<6:36:58, 14.73s/it]"
     ]
    },
    {
     "name": "stdout",
     "output_type": "stream",
     "text": [
      "[-8.11584702]\n",
      "[-39.47941969]\n",
      "[2.6398616]\n",
      "[0.0, 0.0]\n"
     ]
    },
    {
     "name": "stderr",
     "output_type": "stream",
     "text": [
      " 30%|██▉       | 684/2300 [2:45:47<6:33:30, 14.61s/it]"
     ]
    },
    {
     "name": "stdout",
     "output_type": "stream",
     "text": [
      "[-6.8159768]\n",
      "[-39.47941656]\n",
      "[2.75302]\n",
      "[0.0, 0.0]\n"
     ]
    },
    {
     "name": "stderr",
     "output_type": "stream",
     "text": [
      " 30%|██▉       | 685/2300 [2:46:01<6:29:05, 14.46s/it]"
     ]
    },
    {
     "name": "stdout",
     "output_type": "stream",
     "text": [
      "[-5.51610577]\n",
      "[-39.37942272]\n",
      "[2.834939]\n",
      "[0.0, 0.0]\n"
     ]
    },
    {
     "name": "stderr",
     "output_type": "stream",
     "text": [
      " 30%|██▉       | 686/2300 [2:46:15<6:24:52, 14.31s/it]"
     ]
    },
    {
     "name": "stdout",
     "output_type": "stream",
     "text": [
      "[-4.11624456]\n",
      "[-39.17943878]\n",
      "[2.9925373]\n",
      "[0.0, 0.0]\n"
     ]
    },
    {
     "name": "stderr",
     "output_type": "stream",
     "text": [
      " 30%|██▉       | 687/2300 [2:46:29<6:26:26, 14.37s/it]"
     ]
    },
    {
     "name": "stdout",
     "output_type": "stream",
     "text": [
      "[-2.61639348]\n",
      "[-38.97945302]\n",
      "[3.415723]\n",
      "[0.0, 0.0]\n"
     ]
    },
    {
     "name": "stderr",
     "output_type": "stream",
     "text": [
      " 30%|██▉       | 688/2300 [2:46:44<6:25:06, 14.33s/it]"
     ]
    },
    {
     "name": "stdout",
     "output_type": "stream",
     "text": [
      "[-0.88319832]\n",
      "[-38.71288426]\n",
      "[4.2338247]\n",
      "[0.0, 0.0]\n"
     ]
    },
    {
     "name": "stderr",
     "output_type": "stream",
     "text": [
      " 30%|██▉       | 689/2300 [2:46:58<6:23:42, 14.29s/it]"
     ]
    },
    {
     "name": "stdout",
     "output_type": "stream",
     "text": [
      "[1.71655748]\n",
      "[-38.11294613]\n",
      "[7.6003304]\n",
      "[0.0, 0.0]\n"
     ]
    },
    {
     "name": "stderr",
     "output_type": "stream",
     "text": [
      " 30%|███       | 690/2300 [2:47:12<6:22:55, 14.27s/it]"
     ]
    },
    {
     "name": "stdout",
     "output_type": "stream",
     "text": [
      "[7.21600747]\n",
      "[-36.81310005]\n",
      "[10.127329]\n",
      "[0.0, 0.0]\n"
     ]
    },
    {
     "name": "stderr",
     "output_type": "stream",
     "text": [
      " 30%|███       | 691/2300 [2:47:26<6:23:57, 14.32s/it]"
     ]
    },
    {
     "name": "stdout",
     "output_type": "stream",
     "text": [
      "[10.415664]\n",
      "[-36.21317218]\n",
      "[6.0724974]\n",
      "[0.0, 0.0]\n"
     ]
    },
    {
     "name": "stderr",
     "output_type": "stream",
     "text": [
      " 30%|███       | 692/2300 [2:47:40<6:19:45, 14.17s/it]"
     ]
    },
    {
     "name": "stdout",
     "output_type": "stream",
     "text": [
      "[12.71541756]\n",
      "[-35.71322273]\n",
      "[5.031399]\n",
      "[0.0, 0.0]\n"
     ]
    },
    {
     "name": "stderr",
     "output_type": "stream",
     "text": [
      " 30%|███       | 693/2300 [2:47:55<6:20:53, 14.22s/it]"
     ]
    },
    {
     "name": "stdout",
     "output_type": "stream",
     "text": [
      "[14.61521866]\n",
      "[-35.21326922]\n",
      "[4.9464216]\n",
      "[0.0, 0.0]\n"
     ]
    },
    {
     "name": "stderr",
     "output_type": "stream",
     "text": [
      " 30%|███       | 694/2300 [2:48:09<6:20:17, 14.21s/it]"
     ]
    },
    {
     "name": "stdout",
     "output_type": "stream",
     "text": [
      "[16.51502582]\n",
      "[-34.61332316]\n",
      "[5.2577367]\n",
      "[0.0, 0.0]\n"
     ]
    },
    {
     "name": "stderr",
     "output_type": "stream",
     "text": [
      " 30%|███       | 695/2300 [2:48:23<6:17:53, 14.13s/it]"
     ]
    },
    {
     "name": "stdout",
     "output_type": "stream",
     "text": [
      "[18.3815759]\n",
      "[-33.97997726]\n",
      "[5.2802796]\n",
      "[0.0, 0.0]\n"
     ]
    },
    {
     "name": "stderr",
     "output_type": "stream",
     "text": [
      " 30%|███       | 696/2300 [2:48:37<6:21:51, 14.28s/it]"
     ]
    },
    {
     "name": "stdout",
     "output_type": "stream",
     "text": [
      "[20.21466006]\n",
      "[-33.21345012]\n",
      "[5.703301]\n",
      "[0.0, 0.0]\n"
     ]
    },
    {
     "name": "stderr",
     "output_type": "stream",
     "text": [
      " 30%|███       | 697/2300 [2:48:53<6:36:32, 14.84s/it]"
     ]
    },
    {
     "name": "stdout",
     "output_type": "stream",
     "text": [
      "[30.480374   22.31445791 34.01331305]\n",
      "[-22.98106139 -32.11355405 -15.11521819]\n",
      "[10.840699   7.1651354 18.941652 ]\n",
      "[0.0, 0.0]\n",
      "[0.0, 0.0]\n",
      "[0.0, 0.0]\n"
     ]
    },
    {
     "name": "stderr",
     "output_type": "stream",
     "text": [
      " 30%|███       | 698/2300 [2:49:10<6:46:15, 15.22s/it]"
     ]
    },
    {
     "name": "stdout",
     "output_type": "stream",
     "text": [
      "[35.27990765 25.01419509 29.01380401]\n",
      "[-13.08203464 -30.31372616 -26.01414315]\n",
      "[12.686958 18.903992 19.872284]\n",
      "[0.0, 0.0]\n",
      "[0.0, 0.0]\n",
      "[0.0, 0.0]\n"
     ]
    },
    {
     "name": "stderr",
     "output_type": "stream",
     "text": [
      " 30%|███       | 699/2300 [2:49:25<6:47:49, 15.28s/it]"
     ]
    },
    {
     "name": "stdout",
     "output_type": "stream",
     "text": [
      "[36.17982005]\n",
      "[-11.8821528]\n",
      "[10.044112]\n",
      "[0.0, 0.0]\n"
     ]
    },
    {
     "name": "stderr",
     "output_type": "stream",
     "text": [
      " 30%|███       | 700/2300 [2:49:39<6:39:26, 14.98s/it]"
     ]
    },
    {
     "name": "stdout",
     "output_type": "stream",
     "text": [
      "[-44.91235706]\n",
      "[-32.08019202]\n",
      "[2.195299]\n",
      "[0.0, 0.0]\n"
     ]
    },
    {
     "name": "stderr",
     "output_type": "stream",
     "text": [
      " 30%|███       | 701/2300 [2:49:53<6:29:13, 14.61s/it]"
     ]
    },
    {
     "name": "stdout",
     "output_type": "stream",
     "text": [
      "[-44.07891081]\n",
      "[-32.31339305]\n",
      "[2.2018166]\n",
      "[0.0, 0.0]\n"
     ]
    },
    {
     "name": "stderr",
     "output_type": "stream",
     "text": [
      " 31%|███       | 702/2300 [2:50:07<6:24:49, 14.45s/it]"
     ]
    },
    {
     "name": "stdout",
     "output_type": "stream",
     "text": [
      "[-43.17898748]\n",
      "[-32.61335228]\n",
      "[2.2212265]\n",
      "[0.0, 0.0]\n"
     ]
    },
    {
     "name": "stderr",
     "output_type": "stream",
     "text": [
      " 31%|███       | 703/2300 [2:50:21<6:22:01, 14.35s/it]"
     ]
    },
    {
     "name": "stdout",
     "output_type": "stream",
     "text": [
      "[-42.31264738]\n",
      "[-32.88011257]\n",
      "[2.2529087]\n",
      "[0.0, 0.0]\n"
     ]
    },
    {
     "name": "stderr",
     "output_type": "stream",
     "text": [
      " 31%|███       | 704/2300 [2:50:35<6:17:37, 14.20s/it]"
     ]
    },
    {
     "name": "stdout",
     "output_type": "stream",
     "text": [
      "[-41.41275432]\n",
      "[-33.1800819]\n",
      "[2.316591]\n",
      "[0.0, 0.0]\n"
     ]
    },
    {
     "name": "stderr",
     "output_type": "stream",
     "text": [
      " 31%|███       | 705/2300 [2:50:49<6:19:36, 14.28s/it]"
     ]
    },
    {
     "name": "stdout",
     "output_type": "stream",
     "text": [
      "[-40.51286768]\n",
      "[-33.48005074]\n",
      "[2.437361]\n",
      "[0.0, 0.0]\n"
     ]
    },
    {
     "name": "stderr",
     "output_type": "stream",
     "text": [
      " 31%|███       | 706/2300 [2:51:03<6:16:56, 14.19s/it]"
     ]
    },
    {
     "name": "stdout",
     "output_type": "stream",
     "text": [
      "[-39.57923894]\n",
      "[-33.81314392]\n",
      "[2.5981174]\n",
      "[0.0, 0.0]\n"
     ]
    },
    {
     "name": "stderr",
     "output_type": "stream",
     "text": [
      " 31%|███       | 707/2300 [2:51:18<6:16:00, 14.16s/it]"
     ]
    },
    {
     "name": "stdout",
     "output_type": "stream",
     "text": [
      "[-38.51316753]\n",
      "[-34.17997869]\n",
      "[2.7433364]\n",
      "[0.0, 0.0]\n"
     ]
    },
    {
     "name": "stderr",
     "output_type": "stream",
     "text": [
      " 31%|███       | 708/2300 [2:51:32<6:15:17, 14.14s/it]"
     ]
    },
    {
     "name": "stdout",
     "output_type": "stream",
     "text": [
      "[-37.37929952]\n",
      "[-34.51289442]\n",
      "[2.7511554]\n",
      "[0.0, 0.0]\n"
     ]
    },
    {
     "name": "stderr",
     "output_type": "stream",
     "text": [
      " 31%|███       | 709/2300 [2:51:46<6:13:38, 14.09s/it]"
     ]
    },
    {
     "name": "stdout",
     "output_type": "stream",
     "text": [
      "[-36.3139396]\n",
      "[-34.87997382]\n",
      "[2.6041055]\n",
      "[0.0, 0.0]\n"
     ]
    },
    {
     "name": "stderr",
     "output_type": "stream",
     "text": [
      " 31%|███       | 710/2300 [2:52:00<6:13:59, 14.11s/it]"
     ]
    },
    {
     "name": "stdout",
     "output_type": "stream",
     "text": [
      "[-35.27734386]\n",
      "[-35.1100108]\n",
      "[2.4999804]\n",
      "[0.0, 0.0]\n"
     ]
    },
    {
     "name": "stderr",
     "output_type": "stream",
     "text": [
      " 31%|███       | 711/2300 [2:52:14<6:10:51, 14.00s/it]"
     ]
    },
    {
     "name": "stdout",
     "output_type": "stream",
     "text": [
      "[-34.2806584]\n",
      "[-35.41424941]\n",
      "[2.4725769]\n",
      "[0.0, 0.0]\n"
     ]
    },
    {
     "name": "stderr",
     "output_type": "stream",
     "text": [
      " 31%|███       | 712/2300 [2:52:28<6:12:03, 14.06s/it]"
     ]
    },
    {
     "name": "stdout",
     "output_type": "stream",
     "text": [
      "[-33.21300351]\n",
      "[-35.67969722]\n",
      "[2.479467]\n",
      "[0.0, 0.0]\n"
     ]
    },
    {
     "name": "stderr",
     "output_type": "stream",
     "text": [
      " 31%|███       | 713/2300 [2:52:42<6:15:15, 14.19s/it]"
     ]
    },
    {
     "name": "stdout",
     "output_type": "stream",
     "text": [
      "[-32.08037351]\n",
      "[-35.91340974]\n",
      "[2.5257027]\n",
      "[0.0, 0.0]\n"
     ]
    },
    {
     "name": "stderr",
     "output_type": "stream",
     "text": [
      " 31%|███       | 714/2300 [2:52:57<6:16:40, 14.25s/it]"
     ]
    },
    {
     "name": "stdout",
     "output_type": "stream",
     "text": [
      "[-31.01344575]\n",
      "[-36.17974747]\n",
      "[2.5574474]\n",
      "[0.0, 0.0]\n"
     ]
    },
    {
     "name": "stderr",
     "output_type": "stream",
     "text": [
      " 31%|███       | 715/2300 [2:53:11<6:21:19, 14.43s/it]"
     ]
    },
    {
     "name": "stdout",
     "output_type": "stream",
     "text": [
      "[-22.11453878 -29.88052759 -15.0818105 ]\n",
      "[ 18.7148224  -36.51323829  22.68117207]\n",
      "[ 7.245371   2.5506861 10.471466 ]\n",
      "[0.0, 0.0]\n",
      "[0.0, 0.0]\n",
      "[0.0, 0.0]\n"
     ]
    },
    {
     "name": "stderr",
     "output_type": "stream",
     "text": [
      " 31%|███       | 716/2300 [2:53:28<6:37:40, 15.06s/it]"
     ]
    },
    {
     "name": "stdout",
     "output_type": "stream",
     "text": [
      "[-22.51449616 -12.21554834 -28.78061619]\n",
      "[ 17.21496832  23.11435639 -36.81319065]\n",
      "[6.6268125 7.2483306 2.5272276]\n",
      "[0.0, 0.0]\n",
      "[0.0, 0.0]\n",
      "[0.0, 0.0]\n"
     ]
    },
    {
     "name": "stderr",
     "output_type": "stream",
     "text": [
      " 31%|███       | 717/2300 [2:53:46<6:59:02, 15.88s/it]"
     ]
    },
    {
     "name": "stdout",
     "output_type": "stream",
     "text": [
      "[  6.9827136    3.78329685 -22.61447833 -27.58072312  -9.88233253]\n",
      "[  1.01654304   1.21626997  15.61513568 -37.01315437  23.18115572]\n",
      "[4.293524  2.6371667 6.778359  2.5327256 6.4422755]\n",
      "[0.0, 0.0]\n",
      "[0.0, 0.0]\n",
      "[0.0, 0.0]\n",
      "[0.0, 0.0]\n",
      "[0.0, 0.0]\n"
     ]
    },
    {
     "name": "stderr",
     "output_type": "stream",
     "text": [
      " 31%|███       | 718/2300 [2:54:04<7:18:36, 16.64s/it]"
     ]
    },
    {
     "name": "stdout",
     "output_type": "stream",
     "text": [
      "[-26.41397521   2.184406   -22.41448852   9.21578775  -7.58257617]\n",
      "[-37.27965393   1.41520652  14.11529434   0.78324514  23.08118145]\n",
      "[2.5720158 1.207608  6.43309   3.5533853 6.138955 ]\n",
      "[0.0, 0.0]\n",
      "[0.0, 0.0]\n",
      "[0.0, 0.0]\n",
      "[0.0, 0.0]\n",
      "[0.0, 0.0]\n"
     ]
    },
    {
     "name": "stderr",
     "output_type": "stream",
     "text": [
      " 31%|███▏      | 719/2300 [2:54:23<7:33:43, 17.22s/it]"
     ]
    },
    {
     "name": "stdout",
     "output_type": "stream",
     "text": [
      "[-25.21410691  11.08221944 -22.1145068   -5.41627469   1.12213909]\n",
      "[-37.47963498   0.6166954   12.61544992  22.81426743   1.48558575]\n",
      "[2.691054  3.8199685 5.750351  5.509586  0.8344044]\n",
      "[0.0, 0.0]\n",
      "[0.0, 0.0]\n",
      "[0.0, 0.0]\n",
      "[0.0, 0.0]\n",
      "[0.0, 0.0]\n"
     ]
    },
    {
     "name": "stderr",
     "output_type": "stream",
     "text": [
      " 31%|███▏      | 720/2300 [2:54:43<7:59:28, 18.21s/it]"
     ]
    },
    {
     "name": "stdout",
     "output_type": "stream",
     "text": [
      "[-23.91424495  12.78202635 -21.61454269   0.31847558  -3.28308555]\n",
      "[-37.67961475   0.51676107  11.21559541   1.68394166  22.48128924]\n",
      "[2.9570317 3.9848871 5.416735  0.7431199 5.843221 ]\n",
      "[0.0, 0.0]\n",
      "[0.0, 0.0]\n",
      "[0.0, 0.0]\n",
      "[0.0, 0.0]\n",
      "[0.0, 0.0]\n"
     ]
    },
    {
     "name": "stderr",
     "output_type": "stream",
     "text": [
      " 31%|███▏      | 721/2300 [2:55:02<8:02:40, 18.34s/it]"
     ]
    },
    {
     "name": "stdout",
     "output_type": "stream",
     "text": [
      "[ -0.51706016 -20.71461595 -22.68114943  14.21555075  -0.98339041]\n",
      "[  1.81716612   9.61576336 -38.01300614   0.38336973  21.98136192]\n",
      "[0.7738343 6.1844764 2.7155735 4.027288  5.951526 ]\n",
      "[0.0, 0.0]\n",
      "[0.0, 0.0]\n",
      "[0.0, 0.0]\n",
      "[0.0, 0.0]\n",
      "[0.0, 0.0]\n"
     ]
    },
    {
     "name": "stderr",
     "output_type": "stream",
     "text": [
      " 31%|███▏      | 722/2300 [2:55:22<8:18:49, 18.97s/it]"
     ]
    },
    {
     "name": "stdout",
     "output_type": "stream",
     "text": [
      "[ 15.48172463  -1.51676205 -12.81538611 -21.38126821   1.41625024]\n",
      "[  0.31690423   2.01693079   5.41624483 -38.1129873   21.28144277]\n",
      "[4.2247972 1.0406939 7.1448946 2.557675  6.7482758]\n",
      "[0.0, 0.0]\n",
      "[0.0, 0.0]\n",
      "[0.0, 0.0]\n",
      "[0.0, 0.0]\n",
      "[0.0, 0.0]\n"
     ]
    },
    {
     "name": "stderr",
     "output_type": "stream",
     "text": [
      " 31%|███▏      | 723/2300 [2:55:40<8:11:30, 18.70s/it]"
     ]
    },
    {
     "name": "stdout",
     "output_type": "stream",
     "text": [
      "[-20.21463104  -3.11646527  -6.91599402   4.28273228  16.71545829]\n",
      "[-38.27954917   2.41673831   3.61650425  20.31406911   0.38339269]\n",
      "[2.4678538 2.8099468 9.004893  8.480974  4.409872 ]\n",
      "[0.0, 0.0]\n",
      "[0.0, 0.0]\n",
      "[0.0, 0.0]\n",
      "[0.0, 0.0]\n",
      "[0.0, 0.0]\n"
     ]
    },
    {
     "name": "stderr",
     "output_type": "stream",
     "text": [
      " 31%|███▏      | 724/2300 [2:56:00<8:15:07, 18.85s/it]"
     ]
    },
    {
     "name": "stdout",
     "output_type": "stream",
     "text": [
      "[ 17.78150161 -18.98149048   7.21545446]\n",
      "[  0.41700637 -38.41294777  19.08161116]\n",
      "[4.5777473 2.428677  7.957792 ]\n",
      "[0.0, 0.0]\n",
      "[0.0, 0.0]\n",
      "[0.0, 0.0]\n"
     ]
    },
    {
     "name": "stderr",
     "output_type": "stream",
     "text": [
      " 32%|███▏      | 725/2300 [2:56:16<7:51:36, 17.97s/it]"
     ]
    },
    {
     "name": "stdout",
     "output_type": "stream",
     "text": [
      "[ 18.78143046   9.88220205 -17.78160346]\n",
      "[  0.51700902  17.81421888 -38.51293398]\n",
      "[4.8488407 7.5493846 2.4558017]\n",
      "[0.0, 0.0]\n",
      "[0.0, 0.0]\n",
      "[0.0, 0.0]\n"
     ]
    },
    {
     "name": "stderr",
     "output_type": "stream",
     "text": [
      " 32%|███▏      | 726/2300 [2:56:32<7:39:31, 17.52s/it]"
     ]
    },
    {
     "name": "stdout",
     "output_type": "stream",
     "text": [
      "[ 12.28181773 -16.58171713  19.6151285 ]\n",
      "[ 16.51404923 -38.61292055   0.58330622]\n",
      "[7.9245243 2.4431095 5.258609 ]\n",
      "[0.0, 0.0]\n",
      "[0.0, 0.0]\n",
      "[0.0, 0.0]\n"
     ]
    },
    {
     "name": "stderr",
     "output_type": "stream",
     "text": [
      " 32%|███▏      | 727/2300 [2:56:50<7:42:23, 17.64s/it]"
     ]
    },
    {
     "name": "stdout",
     "output_type": "stream",
     "text": [
      "[-15.41511713  20.4813263   14.47748668]\n",
      "[-38.6795077    0.81688876  15.01010793]\n",
      "[2.4075813 6.241163  8.483671 ]\n",
      "[0.0, 0.0]\n",
      "[0.0, 0.0]\n",
      "[0.0, 0.0]\n"
     ]
    },
    {
     "name": "stderr",
     "output_type": "stream",
     "text": [
      " 32%|███▏      | 728/2300 [2:57:06<7:29:54, 17.17s/it]"
     ]
    },
    {
     "name": "stdout",
     "output_type": "stream",
     "text": [
      "[ 21.28127129  16.58201557 -14.28193487]\n",
      "[  1.01680648  13.4160928  -38.71290328]\n",
      "[7.5698185 8.726534  2.4597971]\n",
      "[0.0, 0.0]\n",
      "[0.0, 0.0]\n",
      "[0.0, 0.0]\n"
     ]
    },
    {
     "name": "stderr",
     "output_type": "stream",
     "text": [
      " 32%|███▏      | 729/2300 [2:57:23<7:24:21, 16.97s/it]"
     ]
    },
    {
     "name": "stdout",
     "output_type": "stream",
     "text": [
      "[-13.08204891  22.11463411  18.5149453 ]\n",
      "[-38.8128908    1.48314186  11.58202073]\n",
      "[ 2.5205863 10.258263  11.875049 ]\n",
      "[0.0, 0.0]\n",
      "[0.0, 0.0]\n",
      "[0.0, 0.0]\n"
     ]
    },
    {
     "name": "stderr",
     "output_type": "stream",
     "text": [
      " 32%|███▏      | 730/2300 [2:57:40<7:29:28, 17.18s/it]"
     ]
    },
    {
     "name": "stdout",
     "output_type": "stream",
     "text": [
      "[-11.8154784   20.68141067  22.71451921]\n",
      "[-38.77949572   9.11586029   2.18306372]\n",
      "[ 2.5812864 15.473764  15.313643 ]\n",
      "[0.0, 0.0]\n",
      "[0.0, 0.0]\n",
      "[0.0, 0.0]\n"
     ]
    },
    {
     "name": "stderr",
     "output_type": "stream",
     "text": [
      " 32%|███▏      | 731/2300 [2:57:55<7:14:12, 16.60s/it]"
     ]
    },
    {
     "name": "stdout",
     "output_type": "stream",
     "text": [
      "[-10.58228647]\n",
      "[-38.81288635]\n",
      "[2.5857894]\n",
      "[0.0, 0.0]\n"
     ]
    },
    {
     "name": "stderr",
     "output_type": "stream",
     "text": [
      " 32%|███▏      | 732/2300 [2:58:11<7:04:27, 16.24s/it]"
     ]
    },
    {
     "name": "stdout",
     "output_type": "stream",
     "text": [
      "[-9.31572774]\n",
      "[-38.77948984]\n",
      "[2.6184554]\n",
      "[0.0, 0.0]\n"
     ]
    },
    {
     "name": "stderr",
     "output_type": "stream",
     "text": [
      " 32%|███▏      | 733/2300 [2:58:27<7:03:58, 16.23s/it]"
     ]
    },
    {
     "name": "stdout",
     "output_type": "stream",
     "text": [
      "[-8.11584666]\n",
      "[-38.77948775]\n",
      "[2.7116265]\n",
      "[0.0, 0.0]\n"
     ]
    },
    {
     "name": "stderr",
     "output_type": "stream",
     "text": [
      " 32%|███▏      | 734/2300 [2:58:41<6:46:36, 15.58s/it]"
     ]
    },
    {
     "name": "stdout",
     "output_type": "stream",
     "text": [
      "[-6.78264468]\n",
      "[-38.71289004]\n",
      "[2.856027]\n",
      "[0.0, 0.0]\n"
     ]
    },
    {
     "name": "stderr",
     "output_type": "stream",
     "text": [
      " 32%|███▏      | 735/2300 [2:58:56<6:37:56, 15.26s/it]"
     ]
    },
    {
     "name": "stdout",
     "output_type": "stream",
     "text": [
      "[-5.3827761]\n",
      "[-38.61289766]\n",
      "[2.9287438]\n",
      "[0.0, 0.0]\n"
     ]
    },
    {
     "name": "stderr",
     "output_type": "stream",
     "text": [
      " 32%|███▏      | 736/2300 [2:59:10<6:30:27, 14.98s/it]"
     ]
    },
    {
     "name": "stdout",
     "output_type": "stream",
     "text": [
      "[-4.01625506]\n",
      "[-38.47950626]\n",
      "[3.1088147]\n",
      "[0.0, 0.0]\n"
     ]
    },
    {
     "name": "stderr",
     "output_type": "stream",
     "text": [
      " 32%|███▏      | 737/2300 [2:59:24<6:22:35, 14.69s/it]"
     ]
    },
    {
     "name": "stdout",
     "output_type": "stream",
     "text": [
      "[-2.41641435]\n",
      "[-38.27951994]\n",
      "[3.6649756]\n",
      "[0.0, 0.0]\n"
     ]
    },
    {
     "name": "stderr",
     "output_type": "stream",
     "text": [
      " 32%|███▏      | 738/2300 [2:59:38<6:16:28, 14.46s/it]"
     ]
    },
    {
     "name": "stdout",
     "output_type": "stream",
     "text": [
      "[-0.41661274]\n",
      "[-37.87955067]\n",
      "[4.907575]\n",
      "[0.0, 0.0]\n"
     ]
    },
    {
     "name": "stderr",
     "output_type": "stream",
     "text": [
      " 32%|███▏      | 739/2300 [2:59:52<6:13:59, 14.37s/it]"
     ]
    },
    {
     "name": "stdout",
     "output_type": "stream",
     "text": [
      "[2.81645742]\n",
      "[-37.1130464]\n",
      "[9.989682]\n",
      "[0.0, 0.0]\n"
     ]
    },
    {
     "name": "stderr",
     "output_type": "stream",
     "text": [
      " 32%|███▏      | 740/2300 [3:00:06<6:08:48, 14.18s/it]"
     ]
    },
    {
     "name": "stdout",
     "output_type": "stream",
     "text": [
      "[7.98260148]\n",
      "[-35.87971995]\n",
      "[8.445933]\n",
      "[0.0, 0.0]\n"
     ]
    },
    {
     "name": "stderr",
     "output_type": "stream",
     "text": [
      " 32%|███▏      | 741/2300 [3:00:20<6:09:21, 14.22s/it]"
     ]
    },
    {
     "name": "stdout",
     "output_type": "stream",
     "text": [
      "[10.91560461]\n",
      "[-35.31326423]\n",
      "[6.11523]\n",
      "[0.0, 0.0]\n"
     ]
    },
    {
     "name": "stderr",
     "output_type": "stream",
     "text": [
      " 32%|███▏      | 742/2300 [3:00:34<6:06:18, 14.11s/it]"
     ]
    },
    {
     "name": "stdout",
     "output_type": "stream",
     "text": [
      "[13.21535682]\n",
      "[-34.71332231]\n",
      "[5.264067]\n",
      "[0.0, 0.0]\n"
     ]
    },
    {
     "name": "stderr",
     "output_type": "stream",
     "text": [
      " 32%|███▏      | 743/2300 [3:00:48<6:06:51, 14.14s/it]"
     ]
    },
    {
     "name": "stdout",
     "output_type": "stream",
     "text": [
      "[15.21515001]\n",
      "[-34.11337641]\n",
      "[5.4785485]\n",
      "[0.0, 0.0]\n"
     ]
    },
    {
     "name": "stderr",
     "output_type": "stream",
     "text": [
      " 32%|███▏      | 744/2300 [3:01:04<6:18:51, 14.61s/it]"
     ]
    },
    {
     "name": "stdout",
     "output_type": "stream",
     "text": [
      "[17.21495026]\n",
      "[-33.41343924]\n",
      "[5.6722765]\n",
      "[0.0, 0.0]\n"
     ]
    },
    {
     "name": "stderr",
     "output_type": "stream",
     "text": [
      " 32%|███▏      | 745/2300 [3:01:20<6:31:45, 15.12s/it]"
     ]
    },
    {
     "name": "stdout",
     "output_type": "stream",
     "text": [
      "[19.1814967  29.28049229 33.88005136]\n",
      "[-32.58011986 -21.58119697  -8.88244067]\n",
      "[ 6.036119   8.9639225 20.617353 ]\n",
      "[0.0, 0.0]\n",
      "[0.0, 0.0]\n",
      "[0.0, 0.0]\n"
     ]
    },
    {
     "name": "stderr",
     "output_type": "stream",
     "text": [
      " 32%|███▏      | 746/2300 [3:01:36<6:37:44, 15.36s/it]"
     ]
    },
    {
     "name": "stdout",
     "output_type": "stream",
     "text": [
      "[34.67997305 21.31455212 28.91381793]\n",
      "[ -8.1825114  -31.51361575 -23.4144    ]\n",
      "[12.100583  7.475923  7.711474]\n",
      "[0.0, 0.0]\n",
      "[0.0, 0.0]\n",
      "[0.0, 0.0]\n"
     ]
    },
    {
     "name": "stderr",
     "output_type": "stream",
     "text": [
      " 32%|███▏      | 747/2300 [3:01:53<6:46:58, 15.72s/it]"
     ]
    },
    {
     "name": "stdout",
     "output_type": "stream",
     "text": [
      "[35.37990403 24.01429114 27.41395852]\n",
      "[ -7.78255249 -29.81377626 -26.31411419]\n",
      "[ 9.72438  16.48581  31.232008]\n",
      "[0.0, 0.0]\n",
      "[0.0, 0.0]\n",
      "[0.0, 0.0]\n"
     ]
    },
    {
     "name": "stderr",
     "output_type": "stream",
     "text": [
      " 33%|███▎      | 748/2300 [3:02:09<6:50:14, 15.86s/it]"
     ]
    },
    {
     "name": "stdout",
     "output_type": "stream",
     "text": [
      "[36.01310932]\n",
      "[-7.51597008]\n",
      "[8.368507]\n",
      "[0.0, 0.0]\n"
     ]
    },
    {
     "name": "stderr",
     "output_type": "stream",
     "text": [
      " 33%|███▎      | 749/2300 [3:02:23<6:35:55, 15.32s/it]"
     ]
    },
    {
     "name": "stdout",
     "output_type": "stream",
     "text": [
      "[36.67977488]\n",
      "[-7.28260432]\n",
      "[7.3727145]\n",
      "[0.0, 0.0]\n"
     ]
    },
    {
     "name": "stderr",
     "output_type": "stream",
     "text": [
      " 33%|███▎      | 750/2300 [3:02:37<6:25:48, 14.93s/it]"
     ]
    },
    {
     "name": "stdout",
     "output_type": "stream",
     "text": [
      "[-45.21231945]\n",
      "[-31.08028864]\n",
      "[2.2336304]\n",
      "[0.0, 0.0]\n"
     ]
    },
    {
     "name": "stderr",
     "output_type": "stream",
     "text": [
      " 33%|███▎      | 751/2300 [3:02:51<6:19:51, 14.71s/it]"
     ]
    },
    {
     "name": "stdout",
     "output_type": "stream",
     "text": [
      "[-44.31241598]\n",
      "[-31.3802601]\n",
      "[2.2366724]\n",
      "[0.0, 0.0]\n"
     ]
    },
    {
     "name": "stderr",
     "output_type": "stream",
     "text": [
      " 33%|███▎      | 752/2300 [3:03:05<6:16:28, 14.59s/it]"
     ]
    },
    {
     "name": "stdout",
     "output_type": "stream",
     "text": [
      "[-43.4789686]\n",
      "[-31.61346142]\n",
      "[2.2382798]\n",
      "[0.0, 0.0]\n"
     ]
    },
    {
     "name": "stderr",
     "output_type": "stream",
     "text": [
      " 33%|███▎      | 753/2300 [3:03:19<6:10:19, 14.36s/it]"
     ]
    },
    {
     "name": "stdout",
     "output_type": "stream",
     "text": [
      "[-42.61260415]\n",
      "[-31.88021031]\n",
      "[2.259157]\n",
      "[0.0, 0.0]\n"
     ]
    },
    {
     "name": "stderr",
     "output_type": "stream",
     "text": [
      " 33%|███▎      | 754/2300 [3:03:33<6:09:06, 14.32s/it]"
     ]
    },
    {
     "name": "stdout",
     "output_type": "stream",
     "text": [
      "[-41.71270692]\n",
      "[-32.18017943]\n",
      "[2.3110344]\n",
      "[0.0, 0.0]\n"
     ]
    },
    {
     "name": "stderr",
     "output_type": "stream",
     "text": [
      " 33%|███▎      | 755/2300 [3:03:48<6:07:19, 14.26s/it]"
     ]
    },
    {
     "name": "stdout",
     "output_type": "stream",
     "text": [
      "[-40.81281322]\n",
      "[-32.48014819]\n",
      "[2.395032]\n",
      "[0.0, 0.0]\n"
     ]
    },
    {
     "name": "stderr",
     "output_type": "stream",
     "text": [
      " 33%|███▎      | 756/2300 [3:04:02<6:04:09, 14.15s/it]"
     ]
    },
    {
     "name": "stdout",
     "output_type": "stream",
     "text": [
      "[-39.91292669]\n",
      "[-32.78011538]\n",
      "[2.5837626]\n",
      "[0.0, 0.0]\n"
     ]
    },
    {
     "name": "stderr",
     "output_type": "stream",
     "text": [
      " 33%|███▎      | 757/2300 [3:04:16<6:06:43, 14.26s/it]"
     ]
    },
    {
     "name": "stdout",
     "output_type": "stream",
     "text": [
      "[-38.87930821]\n",
      "[-33.11321048]\n",
      "[2.945811]\n",
      "[0.0, 0.0]\n"
     ]
    },
    {
     "name": "stderr",
     "output_type": "stream",
     "text": [
      " 33%|███▎      | 758/2300 [3:04:30<6:01:53, 14.08s/it]"
     ]
    },
    {
     "name": "stdout",
     "output_type": "stream",
     "text": [
      "[-37.77935774]\n",
      "[-33.5131103]\n",
      "[3.119507]\n",
      "[0.0, 0.0]\n"
     ]
    },
    {
     "name": "stderr",
     "output_type": "stream",
     "text": [
      " 33%|███▎      | 759/2300 [3:04:44<6:02:03, 14.10s/it]"
     ]
    },
    {
     "name": "stdout",
     "output_type": "stream",
     "text": [
      "[-36.61351002]\n",
      "[-33.88004867]\n",
      "[2.8523698]\n",
      "[0.0, 0.0]\n"
     ]
    },
    {
     "name": "stderr",
     "output_type": "stream",
     "text": [
      " 33%|███▎      | 760/2300 [3:04:58<6:03:55, 14.18s/it]"
     ]
    },
    {
     "name": "stdout",
     "output_type": "stream",
     "text": [
      "[-35.57910961]\n",
      "[-34.21255356]\n",
      "[2.6538649]\n",
      "[0.0, 0.0]\n"
     ]
    },
    {
     "name": "stderr",
     "output_type": "stream",
     "text": [
      " 33%|███▎      | 761/2300 [3:05:12<6:01:09, 14.08s/it]"
     ]
    },
    {
     "name": "stdout",
     "output_type": "stream",
     "text": [
      "[-34.53770626]\n",
      "[-34.48739521]\n",
      "[2.5575762]\n",
      "[0.0, 0.0]\n"
     ]
    },
    {
     "name": "stderr",
     "output_type": "stream",
     "text": [
      " 33%|███▎      | 762/2300 [3:05:26<6:01:26, 14.10s/it]"
     ]
    },
    {
     "name": "stdout",
     "output_type": "stream",
     "text": [
      "[-33.48076175]\n",
      "[-34.71421039]\n",
      "[2.5366282]\n",
      "[0.0, 0.0]\n"
     ]
    },
    {
     "name": "stderr",
     "output_type": "stream",
     "text": [
      " 33%|███▎      | 763/2300 [3:05:40<6:01:28, 14.11s/it]"
     ]
    },
    {
     "name": "stdout",
     "output_type": "stream",
     "text": [
      "[-32.38045423]\n",
      "[-35.01364873]\n",
      "[2.559714]\n",
      "[0.0, 0.0]\n"
     ]
    },
    {
     "name": "stderr",
     "output_type": "stream",
     "text": [
      " 33%|███▎      | 764/2300 [3:05:55<6:01:58, 14.14s/it]"
     ]
    },
    {
     "name": "stdout",
     "output_type": "stream",
     "text": [
      "[-17.71498744 -31.28045578 -22.98104853]\n",
      "[ 23.31436186 -35.31346353  20.18139721]\n",
      "[11.201443   2.6385791  9.75116  ]\n",
      "[0.0, 0.0]\n",
      "[0.0, 0.0]\n",
      "[0.0, 0.0]\n"
     ]
    },
    {
     "name": "stderr",
     "output_type": "stream",
     "text": [
      " 33%|███▎      | 765/2300 [3:06:12<6:28:59, 15.20s/it]"
     ]
    },
    {
     "name": "stdout",
     "output_type": "stream",
     "text": [
      "[-30.2135245  -23.71438195 -14.58187127]\n",
      "[-35.6797862   18.41484094  23.88105829]\n",
      "[2.6567287 6.7944865 8.608883 ]\n",
      "[0.0, 0.0]\n",
      "[0.0, 0.0]\n",
      "[0.0, 0.0]\n"
     ]
    },
    {
     "name": "stderr",
     "output_type": "stream",
     "text": [
      " 33%|███▎      | 766/2300 [3:06:28<6:36:33, 15.51s/it]"
     ]
    },
    {
     "name": "stdout",
     "output_type": "stream",
     "text": [
      "[-24.01434914 -28.98061768 -12.08212484]\n",
      "[ 16.91499204 -35.91329549  24.08105129]\n",
      "[5.783117  2.6340196 6.1041727]\n",
      "[0.0, 0.0]\n",
      "[0.0, 0.0]\n",
      "[0.0, 0.0]\n"
     ]
    },
    {
     "name": "stderr",
     "output_type": "stream",
     "text": [
      " 33%|███▎      | 767/2300 [3:06:45<6:43:07, 15.78s/it]"
     ]
    },
    {
     "name": "stdout",
     "output_type": "stream",
     "text": [
      "[  6.68274001 -24.01434333  -9.91579111 -27.88070464   4.01579157]\n",
      "[  0.51656854  15.51513719  24.11422066 -36.21324663   0.88299282]\n",
      "[4.466331 5.406561 5.621578 2.611152 2.524772]\n",
      "[0.0, 0.0]\n",
      "[0.0, 0.0]\n",
      "[0.0, 0.0]\n",
      "[0.0, 0.0]\n",
      "[0.0, 0.0]\n"
     ]
    },
    {
     "name": "stderr",
     "output_type": "stream",
     "text": [
      " 33%|███▎      | 768/2300 [3:07:04<7:07:54, 16.76s/it]"
     ]
    },
    {
     "name": "stdout",
     "output_type": "stream",
     "text": [
      "[-26.71393398   8.98246249   2.28391852 -23.88096618  -7.78256946]\n",
      "[-36.47973105   0.21665884   1.01574912  14.08197719  23.98109286]\n",
      "[2.623103  3.3326077 1.1537957 5.2140846 5.4189963]\n",
      "[0.0, 0.0]\n",
      "[0.0, 0.0]\n",
      "[0.0, 0.0]\n",
      "[0.0, 0.0]\n",
      "[0.0, 0.0]\n"
     ]
    },
    {
     "name": "stderr",
     "output_type": "stream",
     "text": [
      " 33%|███▎      | 769/2300 [3:07:22<7:20:02, 17.25s/it]"
     ]
    },
    {
     "name": "stdout",
     "output_type": "stream",
     "text": [
      "[-25.41407919  10.88224124   1.29018769 -23.5143763   -5.68281447]\n",
      "[-36.67971703  -0.08326712   1.20557664  12.8154148   23.78112594]\n",
      "[2.7192788 3.5515819 0.8207145 4.986475  5.011381 ]\n",
      "[0.0, 0.0]\n",
      "[0.0, 0.0]\n",
      "[0.0, 0.0]\n",
      "[0.0, 0.0]\n",
      "[0.0, 0.0]\n"
     ]
    },
    {
     "name": "stderr",
     "output_type": "stream",
     "text": [
      " 33%|███▎      | 770/2300 [3:07:43<7:43:51, 18.19s/it]"
     ]
    },
    {
     "name": "stdout",
     "output_type": "stream",
     "text": [
      "[  0.38205149  -3.71644941 -24.18102338  12.61557765 -22.98106031]\n",
      "[  1.31816048  23.41414307 -36.91312812  -0.31658776  11.48221347]\n",
      "[0.6784643 5.2122307 2.8389049 3.6702738 4.722016 ]\n",
      "[0.0, 0.0]\n",
      "[0.0, 0.0]\n",
      "[0.0, 0.0]\n",
      "[0.0, 0.0]\n",
      "[0.0, 0.0]\n"
     ]
    },
    {
     "name": "stderr",
     "output_type": "stream",
     "text": [
      " 34%|███▎      | 771/2300 [3:08:03<7:59:27, 18.81s/it]"
     ]
    },
    {
     "name": "stdout",
     "output_type": "stream",
     "text": [
      "[-22.9143471   14.08188742  -1.51668202  -0.38194326 -22.28113314]\n",
      "[-37.1796624   -0.58312758  23.01410273   1.4837156   10.08233582]\n",
      "[2.8158667  3.6941812  5.4203844  0.69302136 4.6304736 ]\n",
      "[0.0, 0.0]\n",
      "[0.0, 0.0]\n",
      "[0.0, 0.0]\n",
      "[0.0, 0.0]\n",
      "[0.0, 0.0]\n"
     ]
    },
    {
     "name": "stderr",
     "output_type": "stream",
     "text": [
      " 34%|███▎      | 772/2300 [3:08:21<7:54:20, 18.63s/it]"
     ]
    },
    {
     "name": "stdout",
     "output_type": "stream",
     "text": [
      "[-21.61448361  15.38174742  -1.31684254 -20.91458926   0.6830932 ]\n",
      "[-37.37964054  -0.78306144   1.61704742   8.51586876  22.41406446]\n",
      "[2.6656647 3.82861   0.8732349 6.8079143 5.8815546]\n",
      "[0.0, 0.0]\n",
      "[0.0, 0.0]\n",
      "[0.0, 0.0]\n",
      "[0.0, 0.0]\n",
      "[0.0, 0.0]\n"
     ]
    },
    {
     "name": "stderr",
     "output_type": "stream",
     "text": [
      " 34%|███▎      | 773/2300 [3:08:44<8:29:19, 20.01s/it]"
     ]
    },
    {
     "name": "stdout",
     "output_type": "stream",
     "text": [
      "[ 16.68161452  -2.51657673   3.18285794 -20.38136232  -9.28227981]\n",
      "[ -0.88300145   1.91684124  21.61406396 -37.51304274   3.88294047]\n",
      "[ 3.9444058  1.5836027  6.863773   2.5691752 10.048101 ]\n",
      "[0.0, 0.0]\n",
      "[0.0, 0.0]\n",
      "[0.0, 0.0]\n",
      "[0.0, 0.0]\n",
      "[0.0, 0.0]\n"
     ]
    },
    {
     "name": "stderr",
     "output_type": "stream",
     "text": [
      " 34%|███▎      | 774/2300 [3:09:05<8:33:06, 20.17s/it]"
     ]
    },
    {
     "name": "stdout",
     "output_type": "stream",
     "text": [
      "[ 17.78151194 -19.18147323   6.0156955 ]\n",
      "[ -0.98295813 -37.71301877  20.48145859]\n",
      "[4.0000215 2.5119824 7.5541205]\n",
      "[0.0, 0.0]\n",
      "[0.0, 0.0]\n",
      "[0.0, 0.0]\n"
     ]
    },
    {
     "name": "stderr",
     "output_type": "stream",
     "text": [
      " 34%|███▎      | 775/2300 [3:09:21<8:03:41, 19.03s/it]"
     ]
    },
    {
     "name": "stdout",
     "output_type": "stream",
     "text": [
      "[-17.91486233  18.7151753    8.71541805]\n",
      "[-37.77959697  -1.21648525  19.38155899]\n",
      "[2.5510256 4.0870953 6.910572 ]\n",
      "[0.0, 0.0]\n",
      "[0.0, 0.0]\n",
      "[0.0, 0.0]\n"
     ]
    },
    {
     "name": "stderr",
     "output_type": "stream",
     "text": [
      " 34%|███▎      | 776/2300 [3:09:39<7:52:33, 18.60s/it]"
     ]
    },
    {
     "name": "stdout",
     "output_type": "stream",
     "text": [
      "[-16.71498381  19.68136351  10.98209513]\n",
      "[-37.8795866   -1.28292941  18.31429396]\n",
      "[2.5400918 4.377781  6.735698 ]\n",
      "[0.0, 0.0]\n",
      "[0.0, 0.0]\n",
      "[0.0, 0.0]\n"
     ]
    },
    {
     "name": "stderr",
     "output_type": "stream",
     "text": [
      " 34%|███▍      | 777/2300 [3:09:55<7:32:34, 17.83s/it]"
     ]
    },
    {
     "name": "stdout",
     "output_type": "stream",
     "text": [
      "[-15.51510538  20.4813074   13.181724  ]\n",
      "[-37.97957652  -1.38294375  17.21406222]\n",
      "[2.488168  4.7851486 6.6142697]\n",
      "[0.0, 0.0]\n",
      "[0.0, 0.0]\n",
      "[0.0, 0.0]\n"
     ]
    },
    {
     "name": "stderr",
     "output_type": "stream",
     "text": [
      " 34%|███▍      | 778/2300 [3:10:11<7:21:52, 17.42s/it]"
     ]
    },
    {
     "name": "stdout",
     "output_type": "stream",
     "text": [
      "[-14.2819364   21.31479705  15.11214107]\n",
      "[-38.01297332  -1.51652002  15.98242503]\n",
      "[2.5318694 5.341736  7.007751 ]\n",
      "[0.0, 0.0]\n",
      "[0.0, 0.0]\n",
      "[0.0, 0.0]\n"
     ]
    },
    {
     "name": "stderr",
     "output_type": "stream",
     "text": [
      " 34%|███▍      | 779/2300 [3:10:29<7:22:23, 17.45s/it]"
     ]
    },
    {
     "name": "stdout",
     "output_type": "stream",
     "text": [
      "[-13.08205046  22.11466973  16.9156617 ]\n",
      "[-38.01297007  -1.71651573  14.5813288 ]\n",
      "[2.5897315 6.0774517 7.561329 ]\n",
      "[0.0, 0.0]\n",
      "[0.0, 0.0]\n",
      "[0.0, 0.0]\n"
     ]
    },
    {
     "name": "stderr",
     "output_type": "stream",
     "text": [
      " 34%|███▍      | 780/2300 [3:10:45<7:14:14, 17.14s/it]"
     ]
    },
    {
     "name": "stdout",
     "output_type": "stream",
     "text": [
      "[-11.81547798  18.6817033   22.91454998]\n",
      "[-38.07956439  13.21568146  -1.91650694]\n",
      "[2.610911  7.4453897 7.161488 ]\n",
      "[0.0, 0.0]\n",
      "[0.0, 0.0]\n",
      "[0.0, 0.0]\n"
     ]
    },
    {
     "name": "stderr",
     "output_type": "stream",
     "text": [
      " 34%|███▍      | 781/2300 [3:11:04<7:22:46, 17.49s/it]"
     ]
    },
    {
     "name": "stdout",
     "output_type": "stream",
     "text": [
      "[-10.6155983   23.68104581  20.38147642]\n",
      "[-38.07956215  -2.18298705  11.71565009]\n",
      "[2.6290164 8.620382  9.391411 ]\n",
      "[0.0, 0.0]\n",
      "[0.0, 0.0]\n",
      "[0.0, 0.0]\n"
     ]
    },
    {
     "name": "stderr",
     "output_type": "stream",
     "text": [
      " 34%|███▍      | 782/2300 [3:11:20<7:13:18, 17.13s/it]"
     ]
    },
    {
     "name": "stdout",
     "output_type": "stream",
     "text": [
      "[24.48097324 -9.28240833 22.0144645 ]\n",
      "[ -2.48297893 -38.01296216   9.88225784]\n",
      "[10.763999  2.697071 10.315253]\n",
      "[0.0, 0.0]\n",
      "[0.0, 0.0]\n",
      "[0.0, 0.0]\n"
     ]
    },
    {
     "name": "stderr",
     "output_type": "stream",
     "text": [
      " 34%|███▍      | 783/2300 [3:11:37<7:10:15, 17.02s/it]"
     ]
    },
    {
     "name": "stdout",
     "output_type": "stream",
     "text": [
      "[-8.01585677 25.21424378 23.51430762]\n",
      "[-37.97956658  -2.91642536   8.08246683]\n",
      "[ 2.808072 13.171899 12.156772]\n",
      "[0.0, 0.0]\n",
      "[0.0, 0.0]\n",
      "[0.0, 0.0]\n"
     ]
    },
    {
     "name": "stderr",
     "output_type": "stream",
     "text": [
      " 34%|███▍      | 784/2300 [3:11:54<7:14:16, 17.19s/it]"
     ]
    },
    {
     "name": "stdout",
     "output_type": "stream",
     "text": [
      "[25.98083269 -6.68265391 24.91418639]\n",
      "[ -3.3829201  -37.91296795   6.28266101]\n",
      "[16.522625  2.960989 12.049467]\n",
      "[0.0, 0.0]\n",
      "[0.0, 0.0]\n",
      "[0.0, 0.0]\n"
     ]
    },
    {
     "name": "stderr",
     "output_type": "stream",
     "text": [
      " 34%|███▍      | 785/2300 [3:12:10<7:06:31, 16.89s/it]"
     ]
    },
    {
     "name": "stdout",
     "output_type": "stream",
     "text": [
      "[-5.31612719 25.98084107 26.71406809]\n",
      "[-37.87956887   4.8162305   -4.11631227]\n",
      "[ 3.0277562 12.466924  18.54719  ]\n",
      "[0.0, 0.0]\n",
      "[0.0, 0.0]\n",
      "[0.0, 0.0]\n"
     ]
    },
    {
     "name": "stderr",
     "output_type": "stream",
     "text": [
      " 34%|███▍      | 786/2300 [3:12:26<6:55:41, 16.47s/it]"
     ]
    },
    {
     "name": "stdout",
     "output_type": "stream",
     "text": [
      "[26.98074623 -3.78292507 27.41399122]\n",
      "[  3.51636324 -37.71298336  -5.11621277]\n",
      "[14.77382   3.324387 19.651136]\n",
      "[0.0, 0.0]\n",
      "[0.0, 0.0]\n",
      "[0.0, 0.0]\n"
     ]
    },
    {
     "name": "stderr",
     "output_type": "stream",
     "text": [
      " 34%|███▍      | 787/2300 [3:12:42<6:55:09, 16.46s/it]"
     ]
    },
    {
     "name": "stdout",
     "output_type": "stream",
     "text": [
      "[-2.11644515 28.08062375 27.98064728]\n",
      "[-37.47959563  -6.38265541   2.11649688]\n",
      "[ 4.0535035 17.605444  24.038845 ]\n",
      "[0.0, 0.0]\n",
      "[0.0, 0.0]\n",
      "[0.0, 0.0]\n"
     ]
    },
    {
     "name": "stderr",
     "output_type": "stream",
     "text": [
      " 34%|███▍      | 788/2300 [3:12:57<6:43:13, 16.00s/it]"
     ]
    },
    {
     "name": "stdout",
     "output_type": "stream",
     "text": [
      "[28.98054475  0.11671881 28.61386277]\n",
      "[ -0.58323953 -37.01304786  -7.71595335]\n",
      "[42.61967   5.858447 15.288944]\n",
      "[0.0, 0.0]\n",
      "[0.0, 0.0]\n",
      "[0.0, 0.0]\n"
     ]
    },
    {
     "name": "stderr",
     "output_type": "stream",
     "text": [
      " 34%|███▍      | 789/2300 [3:13:13<6:43:08, 16.01s/it]"
     ]
    },
    {
     "name": "stdout",
     "output_type": "stream",
     "text": [
      "[ 4.08295945 29.1805139  29.81372173]\n",
      "[-35.97970299  -9.08239978  -1.41658148]\n",
      "[11.453608 12.926402 19.914711]\n",
      "[0.0, 0.0]\n",
      "[0.0, 0.0]\n",
      "[0.0, 0.0]\n"
     ]
    },
    {
     "name": "stderr",
     "output_type": "stream",
     "text": [
      " 34%|███▍      | 790/2300 [3:13:30<6:44:48, 16.08s/it]"
     ]
    },
    {
     "name": "stdout",
     "output_type": "stream",
     "text": [
      "[ 8.71584352 29.7137496  30.61363988]\n",
      "[-34.9133004  -10.31569567  -1.7165513 ]\n",
      "[ 7.534227 10.325962 15.239737]\n",
      "[0.0, 0.0]\n",
      "[0.0, 0.0]\n",
      "[0.0, 0.0]\n"
     ]
    },
    {
     "name": "stderr",
     "output_type": "stream",
     "text": [
      " 34%|███▍      | 791/2300 [3:13:46<6:46:26, 16.16s/it]"
     ]
    },
    {
     "name": "stdout",
     "output_type": "stream",
     "text": [
      "[30.08042047 31.28031641 11.51553069]\n",
      "[-11.88213439  -1.98311273 -34.31336583]\n",
      "[14.705969  13.25441    6.1957393]\n",
      "[0.0, 0.0]\n",
      "[0.0, 0.0]\n",
      "[0.0, 0.0]\n"
     ]
    },
    {
     "name": "stderr",
     "output_type": "stream",
     "text": [
      " 34%|███▍      | 792/2300 [3:14:02<6:48:12, 16.24s/it]"
     ]
    },
    {
     "name": "stdout",
     "output_type": "stream",
     "text": [
      "[13.81528472 28.81383499 32.01349905]\n",
      "[-33.61343074 -16.71505762  -2.21649971]\n",
      "[ 5.844734 16.687944 11.536313]\n",
      "[0.0, 0.0]\n",
      "[0.0, 0.0]\n",
      "[0.0, 0.0]\n"
     ]
    },
    {
     "name": "stderr",
     "output_type": "stream",
     "text": [
      " 34%|███▍      | 793/2300 [3:14:20<6:58:54, 16.68s/it]"
     ]
    },
    {
     "name": "stdout",
     "output_type": "stream",
     "text": [
      "[15.98181956 27.81392978 32.71342952]\n",
      "[-32.88008636 -20.01473226  -2.41647863]\n",
      "[ 6.131226  9.938244 10.172546]\n",
      "[0.0, 0.0]\n",
      "[0.0, 0.0]\n",
      "[0.0, 0.0]\n"
     ]
    },
    {
     "name": "stderr",
     "output_type": "stream",
     "text": [
      " 35%|███▍      | 794/2300 [3:14:36<6:52:40, 16.44s/it]"
     ]
    },
    {
     "name": "stdout",
     "output_type": "stream",
     "text": [
      "[18.08160752 27.68064741 33.41336072]\n",
      "[-31.98018085 -21.68118683  -2.6164576 ]\n",
      "[6.4665074 6.580553  9.038357 ]\n",
      "[0.0, 0.0]\n",
      "[0.0, 0.0]\n",
      "[0.0, 0.0]\n"
     ]
    },
    {
     "name": "stderr",
     "output_type": "stream",
     "text": [
      " 35%|███▍      | 795/2300 [3:14:52<6:52:58, 16.46s/it]"
     ]
    },
    {
     "name": "stdout",
     "output_type": "stream",
     "text": [
      "[20.28138612 27.58065752 34.08003604]\n",
      "[-30.8802897  -23.28103157  -2.78304251]\n",
      "[7.7894936 7.203583  8.181944 ]\n",
      "[0.0, 0.0]\n",
      "[0.0, 0.0]\n",
      "[0.0, 0.0]\n"
     ]
    },
    {
     "name": "stderr",
     "output_type": "stream",
     "text": [
      " 35%|███▍      | 796/2300 [3:15:10<7:04:09, 16.92s/it]"
     ]
    },
    {
     "name": "stdout",
     "output_type": "stream",
     "text": [
      "[25.88082271 34.67997586 23.01438579]\n",
      "[-26.28074632  -2.98302359 -29.21383625]\n",
      "[40.471443   7.6589417 16.626835 ]\n",
      "[0.0, 0.0]\n",
      "[0.0, 0.0]\n",
      "[0.0, 0.0]\n"
     ]
    },
    {
     "name": "stderr",
     "output_type": "stream",
     "text": [
      " 35%|███▍      | 797/2300 [3:15:27<6:57:55, 16.68s/it]"
     ]
    },
    {
     "name": "stdout",
     "output_type": "stream",
     "text": [
      "[35.41316459]\n",
      "[-3.11640491]\n",
      "[7.051732]\n",
      "[0.0, 0.0]\n"
     ]
    },
    {
     "name": "stderr",
     "output_type": "stream",
     "text": [
      " 35%|███▍      | 798/2300 [3:15:41<6:37:28, 15.88s/it]"
     ]
    },
    {
     "name": "stdout",
     "output_type": "stream",
     "text": [
      "[36.01310585]\n",
      "[-3.31638455]\n",
      "[6.6873984]\n",
      "[0.0, 0.0]\n"
     ]
    },
    {
     "name": "stderr",
     "output_type": "stream",
     "text": [
      " 35%|███▍      | 799/2300 [3:15:55<6:25:13, 15.40s/it]"
     ]
    },
    {
     "name": "stdout",
     "output_type": "stream",
     "text": [
      "[36.71303651]\n",
      "[-3.4163742]\n",
      "[6.1710453]\n",
      "[0.0, 0.0]\n"
     ]
    },
    {
     "name": "stderr",
     "output_type": "stream",
     "text": [
      " 35%|███▍      | 800/2300 [3:16:09<6:15:24, 15.02s/it]"
     ]
    },
    {
     "name": "stdout",
     "output_type": "stream",
     "text": [
      "[-45.47879293]\n",
      "[-30.11363266]\n",
      "[2.2559164]\n",
      "[0.0, 0.0]\n"
     ]
    },
    {
     "name": "stderr",
     "output_type": "stream",
     "text": [
      " 35%|███▍      | 801/2300 [3:16:23<6:07:00, 14.69s/it]"
     ]
    },
    {
     "name": "stdout",
     "output_type": "stream",
     "text": [
      "[-44.61237755]\n",
      "[-30.38035609]\n",
      "[2.2751482]\n",
      "[0.0, 0.0]\n"
     ]
    },
    {
     "name": "stderr",
     "output_type": "stream",
     "text": [
      " 35%|███▍      | 802/2300 [3:16:37<6:02:37, 14.52s/it]"
     ]
    },
    {
     "name": "stdout",
     "output_type": "stream",
     "text": [
      "[-43.71247439]\n",
      "[-30.58033905]\n",
      "[2.276763]\n",
      "[0.0, 0.0]\n"
     ]
    },
    {
     "name": "stderr",
     "output_type": "stream",
     "text": [
      " 35%|███▍      | 803/2300 [3:16:52<6:01:48, 14.50s/it]"
     ]
    },
    {
     "name": "stdout",
     "output_type": "stream",
     "text": [
      "[-42.87902587]\n",
      "[-30.91352952]\n",
      "[2.2729878]\n",
      "[0.0, 0.0]\n"
     ]
    },
    {
     "name": "stderr",
     "output_type": "stream",
     "text": [
      " 35%|███▍      | 804/2300 [3:17:06<6:00:10, 14.45s/it]"
     ]
    },
    {
     "name": "stdout",
     "output_type": "stream",
     "text": [
      "[-42.01266382]\n",
      "[-31.18027775]\n",
      "[2.302756]\n",
      "[0.0, 0.0]\n"
     ]
    },
    {
     "name": "stderr",
     "output_type": "stream",
     "text": [
      " 35%|███▌      | 805/2300 [3:17:20<5:58:08, 14.37s/it]"
     ]
    },
    {
     "name": "stdout",
     "output_type": "stream",
     "text": [
      "[-41.07917643]\n",
      "[-31.41345485]\n",
      "[2.3607113]\n",
      "[0.0, 0.0]\n"
     ]
    },
    {
     "name": "stderr",
     "output_type": "stream",
     "text": [
      " 35%|███▌      | 806/2300 [3:17:34<5:57:20, 14.35s/it]"
     ]
    },
    {
     "name": "stdout",
     "output_type": "stream",
     "text": [
      "[-40.21287182]\n",
      "[-31.68022705]\n",
      "[2.4679627]\n",
      "[0.0, 0.0]\n"
     ]
    },
    {
     "name": "stderr",
     "output_type": "stream",
     "text": [
      " 35%|███▌      | 807/2300 [3:17:48<5:54:00, 14.23s/it]"
     ]
    },
    {
     "name": "stdout",
     "output_type": "stream",
     "text": [
      "[-39.27930562]\n",
      "[-32.01335591]\n",
      "[2.7628002]\n",
      "[0.0, 0.0]\n"
     ]
    },
    {
     "name": "stderr",
     "output_type": "stream",
     "text": [
      " 35%|███▌      | 808/2300 [3:18:02<5:53:36, 14.22s/it]"
     ]
    },
    {
     "name": "stdout",
     "output_type": "stream",
     "text": [
      "[-38.21313316]\n",
      "[-32.38015764]\n",
      "[3.4891338]\n",
      "[0.0, 0.0]\n"
     ]
    },
    {
     "name": "stderr",
     "output_type": "stream",
     "text": [
      " 35%|███▌      | 809/2300 [3:18:16<5:51:32, 14.15s/it]"
     ]
    },
    {
     "name": "stdout",
     "output_type": "stream",
     "text": [
      "[-37.01332534]\n",
      "[-32.88011422]\n",
      "[3.2661972]\n",
      "[0.0, 0.0]\n"
     ]
    },
    {
     "name": "stderr",
     "output_type": "stream",
     "text": [
      " 35%|███▌      | 810/2300 [3:18:30<5:50:29, 14.11s/it]"
     ]
    },
    {
     "name": "stdout",
     "output_type": "stream",
     "text": [
      "[-35.8794376]\n",
      "[-33.2129988]\n",
      "[2.8463562]\n",
      "[0.0, 0.0]\n"
     ]
    },
    {
     "name": "stderr",
     "output_type": "stream",
     "text": [
      " 35%|███▌      | 811/2300 [3:18:45<5:50:29, 14.12s/it]"
     ]
    },
    {
     "name": "stdout",
     "output_type": "stream",
     "text": [
      "[-34.81418026]\n",
      "[-33.48029193]\n",
      "[2.6832964]\n",
      "[0.0, 0.0]\n"
     ]
    },
    {
     "name": "stderr",
     "output_type": "stream",
     "text": [
      " 35%|███▌      | 812/2300 [3:18:59<5:49:28, 14.09s/it]"
     ]
    },
    {
     "name": "stdout",
     "output_type": "stream",
     "text": [
      "[-33.77909807]\n",
      "[-33.82618883]\n",
      "[2.617216]\n",
      "[0.0, 0.0]\n"
     ]
    },
    {
     "name": "stderr",
     "output_type": "stream",
     "text": [
      " 35%|███▌      | 813/2300 [3:19:13<5:50:38, 14.15s/it]"
     ]
    },
    {
     "name": "stdout",
     "output_type": "stream",
     "text": [
      "[-32.7127434  -20.71468661 -23.48100117]\n",
      "[-34.0798195   23.51434391  21.78124108]\n",
      "[ 2.6067326 22.210035  20.64216  ]\n",
      "[0.0, 0.0]\n",
      "[0.0, 0.0]\n",
      "[0.0, 0.0]\n"
     ]
    },
    {
     "name": "stderr",
     "output_type": "stream",
     "text": [
      " 35%|███▌      | 814/2300 [3:19:29<6:06:04, 14.78s/it]"
     ]
    },
    {
     "name": "stdout",
     "output_type": "stream",
     "text": [
      "[-17.11504781 -31.68048285 -24.88087286]\n",
      "[ 24.51423504 -34.4136951   19.48146517]\n",
      "[8.260188  2.6812544 7.279503 ]\n",
      "[0.0, 0.0]\n",
      "[0.0, 0.0]\n",
      "[0.0, 0.0]\n"
     ]
    },
    {
     "name": "stderr",
     "output_type": "stream",
     "text": [
      " 35%|███▌      | 815/2300 [3:19:47<6:25:00, 15.56s/it]"
     ]
    },
    {
     "name": "stdout",
     "output_type": "stream",
     "text": [
      "[-30.51343697 -25.28083495 -14.28191   ]\n",
      "[-34.77985212  17.98161182  24.88096097]\n",
      "[2.809525  5.66613   7.1124887]\n",
      "[0.0, 0.0]\n",
      "[0.0, 0.0]\n",
      "[0.0, 0.0]\n"
     ]
    },
    {
     "name": "stderr",
     "output_type": "stream",
     "text": [
      " 35%|███▌      | 816/2300 [3:20:03<6:30:06, 15.77s/it]"
     ]
    },
    {
     "name": "stdout",
     "output_type": "stream",
     "text": [
      "[-29.31361668 -25.41421289 -12.01556744]\n",
      "[-35.07985684  16.61501726  25.01414708]\n",
      "[2.7715771 4.9014707 5.4042063]\n",
      "[0.0, 0.0]\n",
      "[0.0, 0.0]\n",
      "[0.0, 0.0]\n"
     ]
    },
    {
     "name": "stderr",
     "output_type": "stream",
     "text": [
      " 36%|███▌      | 817/2300 [3:20:20<6:42:40, 16.29s/it]"
     ]
    },
    {
     "name": "stdout",
     "output_type": "stream",
     "text": [
      "[-28.11376373   4.28309642 -25.31421839   6.11591616  -9.98235001]\n",
      "[-35.37983825   0.41643943  15.31514987   0.18324299  24.98097523]\n",
      "[2.7157054 3.5051813 4.6066065 5.7225714 4.984908 ]\n",
      "[0.0, 0.0]\n",
      "[0.0, 0.0]\n",
      "[0.0, 0.0]\n",
      "[0.0, 0.0]\n",
      "[0.0, 0.0]\n"
     ]
    },
    {
     "name": "stderr",
     "output_type": "stream",
     "text": [
      " 36%|███▌      | 818/2300 [3:20:37<6:45:25, 16.41s/it]"
     ]
    },
    {
     "name": "stdout",
     "output_type": "stream",
     "text": [
      "[  8.68249309   2.48362946 -25.11423289 -26.88080513  -7.98256451]\n",
      "[ -0.28331327   0.71602187  14.11527134 -35.61330135  24.88099867]\n",
      "[3.1835446 1.1971027 4.476173  2.7259498 4.886535 ]\n",
      "[0.0, 0.0]\n",
      "[0.0, 0.0]\n",
      "[0.0, 0.0]\n",
      "[0.0, 0.0]\n",
      "[0.0, 0.0]\n"
     ]
    },
    {
     "name": "stderr",
     "output_type": "stream",
     "text": [
      " 36%|███▌      | 819/2300 [3:20:55<6:59:19, 16.99s/it]"
     ]
    },
    {
     "name": "stdout",
     "output_type": "stream",
     "text": [
      "[-25.71403717  10.58227458 -24.81425516   1.41192098  -5.98279297]\n",
      "[-35.87979508  -0.68323347  12.81540271   0.88112197  24.68102826]\n",
      "[2.7581058 3.324928  4.2854753 0.8038626 4.657291 ]\n",
      "[0.0, 0.0]\n",
      "[0.0, 0.0]\n",
      "[0.0, 0.0]\n",
      "[0.0, 0.0]\n",
      "[0.0, 0.0]\n"
     ]
    },
    {
     "name": "stderr",
     "output_type": "stream",
     "text": [
      " 36%|███▌      | 820/2300 [3:21:16<7:28:18, 18.17s/it]"
     ]
    },
    {
     "name": "stdout",
     "output_type": "stream",
     "text": [
      "[  0.58017441 -24.31429536 -24.38101454  12.31556925  -4.08301266]\n",
      "[  1.01989573  11.6155273  -36.1132137   -1.01652536  24.38107071]\n",
      "[0.6603356 4.0642138 2.8507917 3.406751  4.7301254]\n",
      "[0.0, 0.0]\n",
      "[0.0, 0.0]\n",
      "[0.0, 0.0]\n",
      "[0.0, 0.0]\n",
      "[0.0, 0.0]\n"
     ]
    },
    {
     "name": "stderr",
     "output_type": "stream",
     "text": [
      " 36%|███▌      | 821/2300 [3:21:34<7:27:25, 18.15s/it]"
     ]
    },
    {
     "name": "stdout",
     "output_type": "stream",
     "text": [
      "[-23.11432273  13.78192617  -0.21745034 -23.58100816  -1.98326499]\n",
      "[-36.37974439  -1.38309345   1.11769561  10.38231683  23.98112343]\n",
      "[2.8457944  3.4633062  0.63493776 3.9890532  5.0613284 ]\n",
      "[0.0, 0.0]\n",
      "[0.0, 0.0]\n",
      "[0.0, 0.0]\n",
      "[0.0, 0.0]\n",
      "[0.0, 0.0]\n"
     ]
    },
    {
     "name": "stderr",
     "output_type": "stream",
     "text": [
      " 36%|███▌      | 822/2300 [3:21:55<7:43:51, 18.83s/it]"
     ]
    },
    {
     "name": "stdout",
     "output_type": "stream",
     "text": [
      "[-21.81446001  15.18177713  -1.01698374   0.08317623 -22.58111029]\n",
      "[-36.57972248  -1.68302628   1.31719992  23.41402855   9.0824281 ]\n",
      "[2.7876844 3.53992   0.7508218 5.232227  4.267444 ]\n",
      "[0.0, 0.0]\n",
      "[0.0, 0.0]\n",
      "[0.0, 0.0]\n",
      "[0.0, 0.0]\n",
      "[0.0, 0.0]\n"
     ]
    },
    {
     "name": "stderr",
     "output_type": "stream",
     "text": [
      " 36%|███▌      | 823/2300 [3:22:18<8:15:27, 20.13s/it]"
     ]
    },
    {
     "name": "stdout",
     "output_type": "stream",
     "text": [
      "[-20.51459618  -2.11667363   2.38295161  16.41530281 -10.88214845]\n",
      "[-36.77969988   1.51694287  22.81403199  -2.01639633   3.88293497]\n",
      "[2.6882076 1.1671247 5.9345593 3.536191  5.691273 ]\n",
      "[0.0, 0.0]\n",
      "[0.0, 0.0]\n",
      "[0.0, 0.0]\n",
      "[0.0, 0.0]\n",
      "[0.0, 0.0]\n"
     ]
    },
    {
     "name": "stderr",
     "output_type": "stream",
     "text": [
      " 36%|███▌      | 824/2300 [3:22:37<8:06:50, 19.79s/it]"
     ]
    },
    {
     "name": "stdout",
     "output_type": "stream",
     "text": [
      "[ 17.58154028 -19.28146745   4.9158902 ]\n",
      "[ -2.28290511 -36.91309885  21.88131819]\n",
      "[3.5713089 2.649689  6.8803954]\n",
      "[0.0, 0.0]\n",
      "[0.0, 0.0]\n",
      "[0.0, 0.0]\n"
     ]
    },
    {
     "name": "stderr",
     "output_type": "stream",
     "text": [
      " 36%|███▌      | 825/2300 [3:22:56<8:02:55, 19.64s/it]"
     ]
    },
    {
     "name": "stdout",
     "output_type": "stream",
     "text": [
      "[ 18.48146285 -18.08157876   7.61561022]\n",
      "[ -2.58286634 -37.11307576  20.78140819]\n",
      "[3.6571496 2.6559093 6.814758 ]\n",
      "[0.0, 0.0]\n",
      "[0.0, 0.0]\n",
      "[0.0, 0.0]\n"
     ]
    },
    {
     "name": "stderr",
     "output_type": "stream",
     "text": [
      " 36%|███▌      | 826/2300 [3:23:14<7:47:26, 19.03s/it]"
     ]
    },
    {
     "name": "stdout",
     "output_type": "stream",
     "text": [
      "[-16.81497212  19.38138999  10.01536586]\n",
      "[-37.17965583  -2.88283779  19.78151241]\n",
      "[2.6396284 3.8264048 6.0610785]\n",
      "[0.0, 0.0]\n",
      "[0.0, 0.0]\n",
      "[0.0, 0.0]\n"
     ]
    },
    {
     "name": "stderr",
     "output_type": "stream",
     "text": [
      " 36%|███▌      | 827/2300 [3:23:30<7:28:14, 18.26s/it]"
     ]
    },
    {
     "name": "stdout",
     "output_type": "stream",
     "text": [
      "[ 20.28131875  12.08197406 -15.5818163 ]\n",
      "[ -3.18281745  18.81431895 -37.21305783]\n",
      "[4.1823535 5.9816904 2.5822172]\n",
      "[0.0, 0.0]\n",
      "[0.0, 0.0]\n",
      "[0.0, 0.0]\n"
     ]
    },
    {
     "name": "stderr",
     "output_type": "stream",
     "text": [
      " 36%|███▌      | 828/2300 [3:23:47<7:14:41, 17.72s/it]"
     ]
    },
    {
     "name": "stdout",
     "output_type": "stream",
     "text": [
      "[-14.3152257   21.01479955  14.01476334]\n",
      "[-37.27964522  -3.61629997  17.88184041]\n",
      "[2.5944207 4.5259776 5.5719576]\n",
      "[0.0, 0.0]\n",
      "[0.0, 0.0]\n",
      "[0.0, 0.0]\n"
     ]
    },
    {
     "name": "stderr",
     "output_type": "stream",
     "text": [
      " 36%|███▌      | 829/2300 [3:24:04<7:13:25, 17.68s/it]"
     ]
    },
    {
     "name": "stdout",
     "output_type": "stream",
     "text": [
      "[ 21.78119938  15.68045421 -13.08205168]\n",
      "[ -4.08276978  16.81269238 -37.31303983]\n",
      "[4.914566  6.0763197 2.6307578]\n",
      "[0.0, 0.0]\n",
      "[0.0, 0.0]\n",
      "[0.0, 0.0]\n"
     ]
    },
    {
     "name": "stderr",
     "output_type": "stream",
     "text": [
      " 36%|███▌      | 830/2300 [3:24:21<7:02:46, 17.26s/it]"
     ]
    },
    {
     "name": "stdout",
     "output_type": "stream",
     "text": [
      "[-11.81547764  22.5145894   17.41532439]\n",
      "[-37.27964374  -4.61622653  15.68096189]\n",
      "[2.6438248 5.252996  6.5025897]\n",
      "[0.0, 0.0]\n",
      "[0.0, 0.0]\n",
      "[0.0, 0.0]\n"
     ]
    },
    {
     "name": "stderr",
     "output_type": "stream",
     "text": [
      " 36%|███▌      | 831/2300 [3:24:37<6:56:13, 17.00s/it]"
     ]
    },
    {
     "name": "stdout",
     "output_type": "stream",
     "text": [
      "[ 23.18108039  18.98171356 -10.58228709]\n",
      "[ -5.18269822  14.41564761 -37.3130337 ]\n",
      "[5.581164 6.35087  2.686489]\n",
      "[0.0, 0.0]\n",
      "[0.0, 0.0]\n",
      "[0.0, 0.0]\n"
     ]
    },
    {
     "name": "stderr",
     "output_type": "stream",
     "text": [
      " 36%|███▌      | 832/2300 [3:24:55<6:59:45, 17.16s/it]"
     ]
    },
    {
     "name": "stdout",
     "output_type": "stream",
     "text": [
      "[20.48148694 -9.28240804 23.91440489]\n",
      "[ 13.31553351 -37.31303058  -5.81612201]\n",
      "[6.3860545 2.7646866 6.007878 ]\n",
      "[0.0, 0.0]\n",
      "[0.0, 0.0]\n",
      "[0.0, 0.0]\n"
     ]
    },
    {
     "name": "stderr",
     "output_type": "stream",
     "text": [
      " 36%|███▌      | 833/2300 [3:25:11<6:53:40, 16.92s/it]"
     ]
    },
    {
     "name": "stdout",
     "output_type": "stream",
     "text": [
      "[-8.01585683 24.5809511  21.98130557]\n",
      "[-37.27963494  -6.48260386  12.01558228]\n",
      "[2.8802555 6.026244  7.774712 ]\n",
      "[0.0, 0.0]\n",
      "[0.0, 0.0]\n",
      "[0.0, 0.0]\n"
     ]
    },
    {
     "name": "stderr",
     "output_type": "stream",
     "text": [
      " 36%|███▋      | 834/2300 [3:25:28<6:53:07, 16.91s/it]"
     ]
    },
    {
     "name": "stdout",
     "output_type": "stream",
     "text": [
      "[-6.61599754 25.18089369 23.38113493]\n",
      "[-37.17964122  -7.28253902  10.61567544]\n",
      "[3.041614  5.9911175 7.7487116]\n",
      "[0.0, 0.0]\n",
      "[0.0, 0.0]\n",
      "[0.0, 0.0]\n"
     ]
    },
    {
     "name": "stderr",
     "output_type": "stream",
     "text": [
      " 36%|███▋      | 835/2300 [3:25:46<6:59:03, 17.16s/it]"
     ]
    },
    {
     "name": "stdout",
     "output_type": "stream",
     "text": [
      "[24.58099308 -5.18279268 25.81417241]\n",
      "[  9.31577856 -37.11304306  -8.11590234]\n",
      "[7.9007244 3.1557639 6.2745986]\n",
      "[0.0, 0.0]\n",
      "[0.0, 0.0]\n",
      "[0.0, 0.0]\n"
     ]
    },
    {
     "name": "stderr",
     "output_type": "stream",
     "text": [
      " 36%|███▋      | 836/2300 [3:26:02<6:52:54, 16.92s/it]"
     ]
    },
    {
     "name": "stdout",
     "output_type": "stream",
     "text": [
      "[-3.58294125 26.41410413 25.81408491]\n",
      "[-36.91306076  -9.01581591   8.08249028]\n",
      "[3.6037998 6.514425  8.33131  ]\n",
      "[0.0, 0.0]\n",
      "[0.0, 0.0]\n",
      "[0.0, 0.0]\n"
     ]
    },
    {
     "name": "stderr",
     "output_type": "stream",
     "text": [
      " 36%|███▋      | 837/2300 [3:26:20<7:01:14, 17.28s/it]"
     ]
    },
    {
     "name": "stdout",
     "output_type": "stream",
     "text": [
      "[26.98072227 -1.7831054  26.91399414]\n",
      "[ -9.98229769 -36.71307815   6.98259999]\n",
      "[6.4825253 4.5519466 7.9089537]\n",
      "[0.0, 0.0]\n",
      "[0.0, 0.0]\n",
      "[0.0, 0.0]\n"
     ]
    },
    {
     "name": "stderr",
     "output_type": "stream",
     "text": [
      " 36%|███▋      | 838/2300 [3:26:38<7:04:07, 17.41s/it]"
     ]
    },
    {
     "name": "stdout",
     "output_type": "stream",
     "text": [
      "[ 0.88325893 27.8806451  27.51398237]\n",
      "[-36.07970713   6.01608981 -11.01562113]\n",
      "[7.6033382 7.4141765 7.7384596]\n",
      "[0.0, 0.0]\n",
      "[0.0, 0.0]\n",
      "[0.0, 0.0]\n"
     ]
    },
    {
     "name": "stderr",
     "output_type": "stream",
     "text": [
      " 36%|███▋      | 839/2300 [3:26:54<6:54:34, 17.03s/it]"
     ]
    },
    {
     "name": "stdout",
     "output_type": "stream",
     "text": [
      "[27.88063122  5.51620006 28.81380623]\n",
      "[-12.48206759 -34.81328844   5.18276742]\n",
      "[12.073295  13.182459   7.0676246]\n",
      "[0.0, 0.0]\n",
      "[0.0, 0.0]\n",
      "[0.0, 0.0]\n"
     ]
    },
    {
     "name": "stderr",
     "output_type": "stream",
     "text": [
      " 37%|███▋      | 840/2300 [3:27:10<6:49:42, 16.84s/it]"
     ]
    },
    {
     "name": "stdout",
     "output_type": "stream",
     "text": [
      "[ 9.41575689 27.41398081 29.71371464]\n",
      "[-33.91340563 -15.21520208   4.48283494]\n",
      "[ 7.318332 16.724823  7.176875]\n",
      "[0.0, 0.0]\n",
      "[0.0, 0.0]\n",
      "[0.0, 0.0]\n"
     ]
    },
    {
     "name": "stderr",
     "output_type": "stream",
     "text": [
      " 37%|███▋      | 841/2300 [3:27:28<6:56:53, 17.14s/it]"
     ]
    },
    {
     "name": "stdout",
     "output_type": "stream",
     "text": [
      "[30.5803901  12.21544321 26.61405489]\n",
      "[  3.71632078 -33.21347564 -18.01492665]\n",
      "[ 7.6678405  6.638967  10.296934 ]\n",
      "[0.0, 0.0]\n",
      "[0.0, 0.0]\n",
      "[0.0, 0.0]\n"
     ]
    },
    {
     "name": "stderr",
     "output_type": "stream",
     "text": [
      " 37%|███▋      | 842/2300 [3:27:45<6:51:00, 16.91s/it]"
     ]
    },
    {
     "name": "stdout",
     "output_type": "stream",
     "text": [
      "[14.61519398 26.31407936 31.41354704]\n",
      "[-32.41354638 -19.91473899   2.88299484]\n",
      "[6.6104817 6.8580704 8.238964 ]\n",
      "[0.0, 0.0]\n",
      "[0.0, 0.0]\n",
      "[0.0, 0.0]\n"
     ]
    },
    {
     "name": "stderr",
     "output_type": "stream",
     "text": [
      " 37%|███▋      | 843/2300 [3:28:02<6:56:51, 17.17s/it]"
     ]
    },
    {
     "name": "stdout",
     "output_type": "stream",
     "text": [
      "[16.88172832 26.21408597 32.21346838]\n",
      "[-31.48023287 -21.41459323   2.18306593]\n",
      "[6.875489 5.799909 8.092489]\n",
      "[0.0, 0.0]\n",
      "[0.0, 0.0]\n",
      "[0.0, 0.0]\n"
     ]
    },
    {
     "name": "stderr",
     "output_type": "stream",
     "text": [
      " 37%|███▋      | 844/2300 [3:28:20<6:58:36, 17.25s/it]"
     ]
    },
    {
     "name": "stdout",
     "output_type": "stream",
     "text": [
      "[19.21474831 26.11409265 33.01338972]\n",
      "[-30.31373684 -22.91444695   1.58312747]\n",
      "[8.454823  7.3989844 7.312271 ]\n",
      "[0.0, 0.0]\n",
      "[0.0, 0.0]\n",
      "[0.0, 0.0]\n"
     ]
    },
    {
     "name": "stderr",
     "output_type": "stream",
     "text": [
      " 37%|███▋      | 845/2300 [3:28:36<6:50:29, 16.93s/it]"
     ]
    },
    {
     "name": "stdout",
     "output_type": "stream",
     "text": [
      "[22.08120271 24.68094024 33.71332238]\n",
      "[-28.48053169 -25.78079708   0.98318847]\n",
      "[19.777216 28.474825  6.535242]\n",
      "[0.0, 0.0]\n",
      "[0.0, 0.0]\n",
      "[0.0, 0.0]\n"
     ]
    },
    {
     "name": "stderr",
     "output_type": "stream",
     "text": [
      " 37%|███▋      | 846/2300 [3:28:51<6:39:40, 16.49s/it]"
     ]
    },
    {
     "name": "stdout",
     "output_type": "stream",
     "text": [
      "[34.47999714]\n",
      "[0.61661596]\n",
      "[5.9833474]\n",
      "[0.0, 0.0]\n"
     ]
    },
    {
     "name": "stderr",
     "output_type": "stream",
     "text": [
      " 37%|███▋      | 847/2300 [3:29:06<6:22:42, 15.80s/it]"
     ]
    },
    {
     "name": "stdout",
     "output_type": "stream",
     "text": [
      "[35.11318736]\n",
      "[0.28326092]\n",
      "[5.651057]\n",
      "[0.0, 0.0]\n"
     ]
    },
    {
     "name": "stderr",
     "output_type": "stream",
     "text": [
      " 37%|███▋      | 848/2300 [3:29:20<6:09:32, 15.27s/it]"
     ]
    },
    {
     "name": "stdout",
     "output_type": "stream",
     "text": [
      "[35.81311969]\n",
      "[-0.0167079]\n",
      "[5.323703]\n",
      "[0.0, 0.0]\n"
     ]
    },
    {
     "name": "stderr",
     "output_type": "stream",
     "text": [
      " 37%|███▋      | 849/2300 [3:29:34<6:02:27, 14.99s/it]"
     ]
    },
    {
     "name": "stdout",
     "output_type": "stream",
     "text": [
      "[36.4797963]\n",
      "[-0.28329693]\n",
      "[5.0380797]\n",
      "[0.0, 0.0]\n"
     ]
    },
    {
     "name": "stderr",
     "output_type": "stream",
     "text": [
      " 37%|███▋      | 850/2300 [3:29:48<5:56:31, 14.75s/it]"
     ]
    },
    {
     "name": "stdout",
     "output_type": "stream",
     "text": [
      "[-45.71225751]\n",
      "[-29.08047927]\n",
      "[2.2440023]\n",
      "[0.0, 0.0]\n"
     ]
    },
    {
     "name": "stderr",
     "output_type": "stream",
     "text": [
      " 37%|███▋      | 851/2300 [3:30:02<5:50:43, 14.52s/it]"
     ]
    },
    {
     "name": "stdout",
     "output_type": "stream",
     "text": [
      "[-44.91234018]\n",
      "[-29.38045027]\n",
      "[2.2773979]\n",
      "[0.0, 0.0]\n"
     ]
    },
    {
     "name": "stderr",
     "output_type": "stream",
     "text": [
      " 37%|███▋      | 852/2300 [3:30:16<5:45:36, 14.32s/it]"
     ]
    },
    {
     "name": "stdout",
     "output_type": "stream",
     "text": [
      "[-43.97893602]\n",
      "[-29.61367702]\n",
      "[2.3021946]\n",
      "[0.0, 0.0]\n"
     ]
    },
    {
     "name": "stderr",
     "output_type": "stream",
     "text": [
      " 37%|███▋      | 853/2300 [3:30:30<5:42:56, 14.22s/it]"
     ]
    },
    {
     "name": "stdout",
     "output_type": "stream",
     "text": [
      "[-43.11253302]\n",
      "[-29.88040558]\n",
      "[2.3028188]\n",
      "[0.0, 0.0]\n"
     ]
    },
    {
     "name": "stderr",
     "output_type": "stream",
     "text": [
      " 37%|███▋      | 854/2300 [3:30:44<5:43:40, 14.26s/it]"
     ]
    },
    {
     "name": "stdout",
     "output_type": "stream",
     "text": [
      "[-42.31262235]\n",
      "[-30.1803746]\n",
      "[2.303931]\n",
      "[0.0, 0.0]\n"
     ]
    },
    {
     "name": "stderr",
     "output_type": "stream",
     "text": [
      " 37%|███▋      | 855/2300 [3:30:58<5:41:18, 14.17s/it]"
     ]
    },
    {
     "name": "stdout",
     "output_type": "stream",
     "text": [
      "[-41.37915946]\n",
      "[-30.4135664]\n",
      "[2.344554]\n",
      "[0.0, 0.0]\n"
     ]
    },
    {
     "name": "stderr",
     "output_type": "stream",
     "text": [
      " 37%|███▋      | 856/2300 [3:31:12<5:39:35, 14.11s/it]"
     ]
    },
    {
     "name": "stdout",
     "output_type": "stream",
     "text": [
      "[-40.51282524]\n",
      "[-30.68032467]\n",
      "[2.4047081]\n",
      "[0.0, 0.0]\n"
     ]
    },
    {
     "name": "stderr",
     "output_type": "stream",
     "text": [
      " 37%|███▋      | 857/2300 [3:31:26<5:40:04, 14.14s/it]"
     ]
    },
    {
     "name": "stdout",
     "output_type": "stream",
     "text": [
      "[-39.61293131]\n",
      "[-30.98029171]\n",
      "[2.5470517]\n",
      "[0.0, 0.0]\n"
     ]
    },
    {
     "name": "stderr",
     "output_type": "stream",
     "text": [
      " 37%|███▋      | 858/2300 [3:31:40<5:39:05, 14.11s/it]"
     ]
    },
    {
     "name": "stdout",
     "output_type": "stream",
     "text": [
      "[-38.6130541]\n",
      "[-31.28026198]\n",
      "[2.8974614]\n",
      "[0.0, 0.0]\n"
     ]
    },
    {
     "name": "stderr",
     "output_type": "stream",
     "text": [
      " 37%|███▋      | 859/2300 [3:31:55<5:39:35, 14.14s/it]"
     ]
    },
    {
     "name": "stdout",
     "output_type": "stream",
     "text": [
      "[-37.41321173]\n",
      "[-31.58025292]\n",
      "[3.565291]\n",
      "[0.0, 0.0]\n"
     ]
    },
    {
     "name": "stderr",
     "output_type": "stream",
     "text": [
      " 37%|███▋      | 860/2300 [3:32:09<5:37:29, 14.06s/it]"
     ]
    },
    {
     "name": "stdout",
     "output_type": "stream",
     "text": [
      "[-36.21340491]\n",
      "[-32.08022756]\n",
      "[3.118908]\n",
      "[0.0, 0.0]\n"
     ]
    },
    {
     "name": "stderr",
     "output_type": "stream",
     "text": [
      " 37%|███▋      | 861/2300 [3:32:23<5:36:34, 14.03s/it]"
     ]
    },
    {
     "name": "stdout",
     "output_type": "stream",
     "text": [
      "[-35.1136738]\n",
      "[-32.48024657]\n",
      "[2.8174365]\n",
      "[0.0, 0.0]\n"
     ]
    },
    {
     "name": "stderr",
     "output_type": "stream",
     "text": [
      " 37%|███▋      | 862/2300 [3:32:37<5:38:06, 14.11s/it]"
     ]
    },
    {
     "name": "stdout",
     "output_type": "stream",
     "text": [
      "[-34.07939162]\n",
      "[-32.81264661]\n",
      "[2.7213304]\n",
      "[0.0, 0.0]\n"
     ]
    },
    {
     "name": "stderr",
     "output_type": "stream",
     "text": [
      " 38%|███▊      | 863/2300 [3:32:52<5:44:43, 14.39s/it]"
     ]
    },
    {
     "name": "stdout",
     "output_type": "stream",
     "text": [
      "[-26.01415793 -33.08626589 -19.38139843]\n",
      "[ 20.61462026 -33.13769022  25.08092586]\n",
      "[8.687239  2.6760607 9.75481  ]\n",
      "[0.0, 0.0]\n",
      "[0.0, 0.0]\n",
      "[0.0, 0.0]\n"
     ]
    },
    {
     "name": "stderr",
     "output_type": "stream",
     "text": [
      " 38%|███▊      | 864/2300 [3:33:09<6:00:39, 15.07s/it]"
     ]
    },
    {
     "name": "stdout",
     "output_type": "stream",
     "text": [
      "[-32.01285703 -26.4807199  -16.68167226]\n",
      "[-33.4797697   18.98151529  25.58088406]\n",
      "[2.7070096 6.0449605 7.0617695]\n",
      "[0.0, 0.0]\n",
      "[0.0, 0.0]\n",
      "[0.0, 0.0]\n"
     ]
    },
    {
     "name": "stderr",
     "output_type": "stream",
     "text": [
      " 38%|███▊      | 865/2300 [3:33:26<6:19:33, 15.87s/it]"
     ]
    },
    {
     "name": "stdout",
     "output_type": "stream",
     "text": [
      "[-14.11535054 -30.88056793 -26.68069955]\n",
      "[ 25.8140811  -33.81373245  17.58165164]\n",
      "[5.874084  2.8973293 4.9803658]\n",
      "[0.0, 0.0]\n",
      "[0.0, 0.0]\n",
      "[0.0, 0.0]\n"
     ]
    },
    {
     "name": "stderr",
     "output_type": "stream",
     "text": [
      " 38%|███▊      | 866/2300 [3:33:43<6:25:37, 16.14s/it]"
     ]
    },
    {
     "name": "stdout",
     "output_type": "stream",
     "text": [
      "[-29.61353697 -26.68069882 -11.98215293]\n",
      "[-34.17993668  16.2817774   25.8808704 ]\n",
      "[2.9950323 4.3839083 4.9331217]\n",
      "[0.0, 0.0]\n",
      "[0.0, 0.0]\n",
      "[0.0, 0.0]\n"
     ]
    },
    {
     "name": "stderr",
     "output_type": "stream",
     "text": [
      " 38%|███▊      | 867/2300 [3:34:01<6:37:42, 16.65s/it]"
     ]
    },
    {
     "name": "stdout",
     "output_type": "stream",
     "text": [
      "[-28.41370867 -26.58070963 -10.08234936]\n",
      "[-34.47992632  15.08189222  25.8808807 ]\n",
      "[2.8512974 4.1189785 4.4901805]\n",
      "[0.0, 0.0]\n",
      "[0.0, 0.0]\n",
      "[0.0, 0.0]\n"
     ]
    },
    {
     "name": "stderr",
     "output_type": "stream",
     "text": [
      " 38%|███▊      | 868/2300 [3:34:20<6:53:06, 17.31s/it]"
     ]
    },
    {
     "name": "stdout",
     "output_type": "stream",
     "text": [
      "[-27.21385533   8.28253528   2.68346186 -26.31411951  -8.11596971]\n",
      "[-34.77990059  -0.78328514   0.31619536  13.91528203  25.71402289]\n",
      "[2.8277228 3.1036367 1.25172   3.9605036 4.576011 ]\n",
      "[0.0, 0.0]\n",
      "[0.0, 0.0]\n",
      "[0.0, 0.0]\n",
      "[0.0, 0.0]\n",
      "[0.0, 0.0]\n"
     ]
    },
    {
     "name": "stderr",
     "output_type": "stream",
     "text": [
      " 38%|███▊      | 869/2300 [3:34:38<7:00:12, 17.62s/it]"
     ]
    },
    {
     "name": "stdout",
     "output_type": "stream",
     "text": [
      "[ 10.18231869   1.58415442  -6.21616457 -25.88090482 -25.98077072]\n",
      "[ -1.18320666   0.5154344   25.51400713 -35.01335614  12.782109  ]\n",
      "[3.1228156 0.8127591 4.396887  2.8443832 3.7450159]\n",
      "[0.0, 0.0]\n",
      "[0.0, 0.0]\n",
      "[0.0, 0.0]\n",
      "[0.0, 0.0]\n",
      "[0.0, 0.0]\n"
     ]
    },
    {
     "name": "stderr",
     "output_type": "stream",
     "text": [
      " 38%|███▊      | 870/2300 [3:34:58<7:20:03, 18.46s/it]"
     ]
    },
    {
     "name": "stdout",
     "output_type": "stream",
     "text": [
      "[-24.68099757  11.91557705   0.7004545  -25.48082084  -4.38297971]\n",
      "[-35.31330553  -1.6164722    0.66882608  11.68220991  25.28096817]\n",
      "[2.8962023 3.2054124 0.6460571 3.5801456 4.325503 ]\n",
      "[0.0, 0.0]\n",
      "[0.0, 0.0]\n",
      "[0.0, 0.0]\n",
      "[0.0, 0.0]\n",
      "[0.0, 0.0]\n"
     ]
    },
    {
     "name": "stderr",
     "output_type": "stream",
     "text": [
      " 38%|███▊      | 871/2300 [3:35:16<7:14:52, 18.26s/it]"
     ]
    },
    {
     "name": "stdout",
     "output_type": "stream",
     "text": [
      "[ 13.38197293  -0.11784427 -24.81424349 -23.28111831  -2.4832006 ]\n",
      "[ -2.08305879   0.8182479   10.51563418 -35.51326682  24.88101796]\n",
      "[3.2909584  0.60957915 3.4933732  2.9037275  4.664238  ]\n",
      "[0.0, 0.0]\n",
      "[0.0, 0.0]\n",
      "[0.0, 0.0]\n",
      "[0.0, 0.0]\n",
      "[0.0, 0.0]\n"
     ]
    },
    {
     "name": "stderr",
     "output_type": "stream",
     "text": [
      " 38%|███▊      | 872/2300 [3:35:35<7:17:01, 18.36s/it]"
     ]
    },
    {
     "name": "stdout",
     "output_type": "stream",
     "text": [
      "[-22.01443538  14.81537028  -0.88194717 -23.88098359  -0.48344335]\n",
      "[-35.77980425  -2.51636025   0.98373374   9.38241026  24.38107185]\n",
      "[2.8519464 3.3671403 0.6916635 3.4926357 4.8909154]\n",
      "[0.0, 0.0]\n",
      "[0.0, 0.0]\n",
      "[0.0, 0.0]\n",
      "[0.0, 0.0]\n",
      "[0.0, 0.0]\n"
     ]
    },
    {
     "name": "stderr",
     "output_type": "stream",
     "text": [
      " 38%|███▊      | 873/2300 [3:35:55<7:30:50, 18.96s/it]"
     ]
    },
    {
     "name": "stdout",
     "output_type": "stream",
     "text": [
      "[-20.71457284  16.11527462  -1.88240014 -12.08204915 -17.88156032\n",
      " -22.5811162    1.61630797]\n",
      "[-35.97978119  -2.91631613   1.18347726   3.78293936   5.38276618\n",
      "   8.08251932  23.78113098]\n",
      "[2.813163  3.2893276 1.0024431 5.2375226 5.327255  4.35639   5.4011703]\n",
      "[0.0, 0.0]\n",
      "[0.0, 0.0]\n",
      "[0.0, 0.0]\n",
      "[0.0, 0.0]\n",
      "[0.0, 0.0]\n",
      "[0.0, 0.0]\n",
      "[0.0, 0.0]\n"
     ]
    },
    {
     "name": "stderr",
     "output_type": "stream",
     "text": [
      " 38%|███▊      | 874/2300 [3:36:15<7:38:19, 19.28s/it]"
     ]
    },
    {
     "name": "stdout",
     "output_type": "stream",
     "text": [
      "[ -3.7164029   -6.11608714   3.98281914 -19.48145084  17.21518632]\n",
      "[  1.61680975   2.21666795  23.11404169 -36.2131702   -3.31627922]\n",
      "[3.6415188 6.1433454 5.8769426 2.7707627 3.277557 ]\n",
      "[0.0, 0.0]\n",
      "[0.0, 0.0]\n",
      "[0.0, 0.0]\n",
      "[0.0, 0.0]\n",
      "[0.0, 0.0]\n"
     ]
    },
    {
     "name": "stderr",
     "output_type": "stream",
     "text": [
      " 38%|███▊      | 875/2300 [3:36:34<7:36:40, 19.23s/it]"
     ]
    },
    {
     "name": "stdout",
     "output_type": "stream",
     "text": [
      "[ 18.18149611   6.58258108 -18.18157253]\n",
      "[ -3.6828097   22.11413732 -36.31315608]\n",
      "[3.3477888 6.71892   2.7900326]\n",
      "[0.0, 0.0]\n",
      "[0.0, 0.0]\n",
      "[0.0, 0.0]\n"
     ]
    },
    {
     "name": "stderr",
     "output_type": "stream",
     "text": [
      " 38%|███▊      | 876/2300 [3:36:50<7:12:25, 18.22s/it]"
     ]
    },
    {
     "name": "stdout",
     "output_type": "stream",
     "text": [
      "[-16.88169612  19.01500631   9.11552393]\n",
      "[-36.41314232  -4.21620898  21.08137245]\n",
      "[2.7552996 3.397146  5.876323 ]\n",
      "[0.0, 0.0]\n",
      "[0.0, 0.0]\n",
      "[0.0, 0.0]\n"
     ]
    },
    {
     "name": "stderr",
     "output_type": "stream",
     "text": [
      " 38%|███▊      | 877/2300 [3:37:07<6:59:34, 17.69s/it]"
     ]
    },
    {
     "name": "stdout",
     "output_type": "stream",
     "text": [
      "[-15.61509217  19.7813628   11.21529369]\n",
      "[-36.47972571  -4.68271749  20.28146448]\n",
      "[2.6749015 3.5006912 5.221238 ]\n",
      "[0.0, 0.0]\n",
      "[0.0, 0.0]\n",
      "[0.0, 0.0]\n"
     ]
    },
    {
     "name": "stderr",
     "output_type": "stream",
     "text": [
      " 38%|███▊      | 878/2300 [3:37:24<6:58:16, 17.65s/it]"
     ]
    },
    {
     "name": "stdout",
     "output_type": "stream",
     "text": [
      "[-14.38193099  20.51481876  13.01511465]\n",
      "[-36.51312365  -5.21613606  19.38160077]\n",
      "[2.6415944 3.6229713 5.14858  ]\n",
      "[0.0, 0.0]\n",
      "[0.0, 0.0]\n",
      "[0.0, 0.0]\n"
     ]
    },
    {
     "name": "stderr",
     "output_type": "stream",
     "text": [
      " 38%|███▊      | 879/2300 [3:37:41<6:50:33, 17.34s/it]"
     ]
    },
    {
     "name": "stdout",
     "output_type": "stream",
     "text": [
      "[-13.11534575  14.68157862  21.214725  ]\n",
      "[-36.57971356  18.51420695  -5.81608917]\n",
      "[2.6530867 4.980253  3.7207942]\n",
      "[0.0, 0.0]\n",
      "[0.0, 0.0]\n",
      "[0.0, 0.0]\n"
     ]
    },
    {
     "name": "stderr",
     "output_type": "stream",
     "text": [
      " 38%|███▊      | 880/2300 [3:37:57<6:43:56, 17.07s/it]"
     ]
    },
    {
     "name": "stdout",
     "output_type": "stream",
     "text": [
      "[-11.81547694  21.88118972  16.28065966]\n",
      "[-36.57971237  -6.38258799  17.61343847]\n",
      "[2.6703897 3.7959766 5.297409 ]\n",
      "[0.0, 0.0]\n",
      "[0.0, 0.0]\n",
      "[0.0, 0.0]\n"
     ]
    },
    {
     "name": "stderr",
     "output_type": "stream",
     "text": [
      " 38%|███▊      | 881/2300 [3:38:15<6:47:09, 17.22s/it]"
     ]
    },
    {
     "name": "stdout",
     "output_type": "stream",
     "text": [
      "[ 22.58112726  17.88223604 -10.58228726]\n",
      "[ -6.98254206  16.61652653 -36.61310281]\n",
      "[3.7867575 5.654475  2.741918 ]\n",
      "[0.0, 0.0]\n",
      "[0.0, 0.0]\n",
      "[0.0, 0.0]\n"
     ]
    },
    {
     "name": "stderr",
     "output_type": "stream",
     "text": [
      " 38%|███▊      | 882/2300 [3:38:31<6:40:31, 16.95s/it]"
     ]
    },
    {
     "name": "stdout",
     "output_type": "stream",
     "text": [
      "[-9.18241796 23.21447123 19.41483641]\n",
      "[-36.51310876  -7.61593231  15.58146174]\n",
      "[2.854443  4.5077996 5.688281 ]\n",
      "[0.0, 0.0]\n",
      "[0.0, 0.0]\n",
      "[0.0, 0.0]\n"
     ]
    },
    {
     "name": "stderr",
     "output_type": "stream",
     "text": [
      " 38%|███▊      | 883/2300 [3:38:49<6:44:06, 17.11s/it]"
     ]
    },
    {
     "name": "stdout",
     "output_type": "stream",
     "text": [
      "[-7.91586719 23.81439747 20.81462083]\n",
      "[-36.47971354  -8.41585816  14.58169633]\n",
      "[2.9734235 4.5050097 5.32074  ]\n",
      "[0.0, 0.0]\n",
      "[0.0, 0.0]\n",
      "[0.0, 0.0]\n"
     ]
    },
    {
     "name": "stderr",
     "output_type": "stream",
     "text": [
      " 38%|███▊      | 884/2300 [3:39:05<6:38:46, 16.90s/it]"
     ]
    },
    {
     "name": "stdout",
     "output_type": "stream",
     "text": [
      "[-6.48267171 24.41432605 22.11447356]\n",
      "[-36.41311453  -9.21578343  13.58185081]\n",
      "[3.1222694 4.739708  5.757197 ]\n",
      "[0.0, 0.0]\n",
      "[0.0, 0.0]\n",
      "[0.0, 0.0]\n"
     ]
    },
    {
     "name": "stderr",
     "output_type": "stream",
     "text": [
      " 38%|███▊      | 885/2300 [3:39:23<6:42:56, 17.09s/it]"
     ]
    },
    {
     "name": "stdout",
     "output_type": "stream",
     "text": [
      "[-5.08280033 24.91426619 23.41434234]\n",
      "[-36.31312105 -10.11569823  12.38199995]\n",
      "[3.3027296 5.145973  6.5117683]\n",
      "[0.0, 0.0]\n",
      "[0.0, 0.0]\n",
      "[0.0, 0.0]\n"
     ]
    },
    {
     "name": "stderr",
     "output_type": "stream",
     "text": [
      " 39%|███▊      | 886/2300 [3:39:39<6:34:47, 16.75s/it]"
     ]
    },
    {
     "name": "stdout",
     "output_type": "stream",
     "text": [
      "[-3.41631688 25.41420721 24.71421082]\n",
      "[-36.17972459 -11.11560238  11.28213683]\n",
      "[3.9248865 6.031967  6.40972  ]\n",
      "[0.0, 0.0]\n",
      "[0.0, 0.0]\n",
      "[0.0, 0.0]\n"
     ]
    },
    {
     "name": "stderr",
     "output_type": "stream",
     "text": [
      " 39%|███▊      | 887/2300 [3:39:55<6:32:52, 16.68s/it]"
     ]
    },
    {
     "name": "stdout",
     "output_type": "stream",
     "text": [
      "[25.88086211 -1.28314492 25.81415938]\n",
      "[ 10.21570383 -35.81316496 -12.3154845 ]\n",
      "[6.252038 5.44999  7.802529]\n",
      "[0.0, 0.0]\n",
      "[0.0, 0.0]\n",
      "[0.0, 0.0]\n"
     ]
    },
    {
     "name": "stderr",
     "output_type": "stream",
     "text": [
      " 39%|███▊      | 888/2300 [3:40:13<6:39:09, 16.96s/it]"
     ]
    },
    {
     "name": "stdout",
     "output_type": "stream",
     "text": [
      "[ 1.98315205 25.88081843 26.98073309]\n",
      "[-34.97980059 -14.0819117    9.21578518]\n",
      "[9.942448  9.989923  6.2731175]\n",
      "[0.0, 0.0]\n",
      "[0.0, 0.0]\n",
      "[0.0, 0.0]\n"
     ]
    },
    {
     "name": "stderr",
     "output_type": "stream",
     "text": [
      " 39%|███▊      | 889/2300 [3:40:29<6:33:22, 16.73s/it]"
     ]
    },
    {
     "name": "stdout",
     "output_type": "stream",
     "text": [
      "[25.48085763  6.71606846 28.0138871 ]\n",
      "[-16.18171552 -33.71340999   8.2824815 ]\n",
      "[ 9.287937  10.465487   5.8923593]\n",
      "[0.0, 0.0]\n",
      "[0.0, 0.0]\n",
      "[0.0, 0.0]\n"
     ]
    },
    {
     "name": "stderr",
     "output_type": "stream",
     "text": [
      " 39%|███▊      | 890/2300 [3:40:45<6:31:16, 16.65s/it]"
     ]
    },
    {
     "name": "stdout",
     "output_type": "stream",
     "text": [
      "[10.18240468 28.98053571 25.11420515]\n",
      "[-32.88004915   7.51593978 -18.11491343]\n",
      "[7.82      5.560042  6.8348064]\n",
      "[0.0, 0.0]\n",
      "[0.0, 0.0]\n",
      "[0.0, 0.0]\n"
     ]
    },
    {
     "name": "stderr",
     "output_type": "stream",
     "text": [
      " 39%|███▊      | 891/2300 [3:41:03<6:37:43, 16.94s/it]"
     ]
    },
    {
     "name": "stdout",
     "output_type": "stream",
     "text": [
      "[24.88091602 29.88045378 13.01534526]\n",
      "[-19.68138407   6.81600896 -32.01359175]\n",
      "[5.776359  5.352939  7.5723896]\n",
      "[0.0, 0.0]\n",
      "[0.0, 0.0]\n",
      "[0.0, 0.0]\n"
     ]
    },
    {
     "name": "stderr",
     "output_type": "stream",
     "text": [
      " 39%|███▉      | 892/2300 [3:41:19<6:31:55, 16.70s/it]"
     ]
    },
    {
     "name": "stdout",
     "output_type": "stream",
     "text": [
      "[15.58185976 24.81422282 30.71361215]\n",
      "[-30.98028546 -21.1146192    6.08268233]\n",
      "[7.3664155 5.6277766 5.395368 ]\n",
      "[0.0, 0.0]\n",
      "[0.0, 0.0]\n",
      "[0.0, 0.0]\n"
     ]
    },
    {
     "name": "stderr",
     "output_type": "stream",
     "text": [
      " 39%|███▉      | 893/2300 [3:41:36<6:31:00, 16.67s/it]"
     ]
    },
    {
     "name": "stdout",
     "output_type": "stream",
     "text": [
      "[18.11484861 24.71422833 31.61352253]\n",
      "[-29.71379765 -22.61447482   5.48274073]\n",
      "[9.216149  7.507643  5.2759695]\n",
      "[0.0, 0.0]\n",
      "[0.0, 0.0]\n",
      "[0.0, 0.0]\n"
     ]
    },
    {
     "name": "stderr",
     "output_type": "stream",
     "text": [
      " 39%|███▉      | 894/2300 [3:41:53<6:37:42, 16.97s/it]"
     ]
    },
    {
     "name": "stdout",
     "output_type": "stream",
     "text": [
      "[21.0812999  23.38106791 32.41344469]\n",
      "[-27.78060655 -25.38083897   4.88280056]\n",
      "[20.815443 25.098614  5.123435]\n",
      "[0.0, 0.0]\n",
      "[0.0, 0.0]\n",
      "[0.0, 0.0]\n"
     ]
    },
    {
     "name": "stderr",
     "output_type": "stream",
     "text": [
      " 39%|███▉      | 895/2300 [3:42:09<6:25:39, 16.47s/it]"
     ]
    },
    {
     "name": "stdout",
     "output_type": "stream",
     "text": [
      "[33.18013142]\n",
      "[4.31625413]\n",
      "[5.1034703]\n",
      "[0.0, 0.0]\n"
     ]
    },
    {
     "name": "stderr",
     "output_type": "stream",
     "text": [
      " 39%|███▉      | 896/2300 [3:42:23<6:09:45, 15.80s/it]"
     ]
    },
    {
     "name": "stdout",
     "output_type": "stream",
     "text": [
      "[33.9800512]\n",
      "[3.81630162]\n",
      "[5.1416554]\n",
      "[0.0, 0.0]\n"
     ]
    },
    {
     "name": "stderr",
     "output_type": "stream",
     "text": [
      " 39%|███▉      | 897/2300 [3:42:37<6:00:19, 15.41s/it]"
     ]
    },
    {
     "name": "stdout",
     "output_type": "stream",
     "text": [
      "[34.67997933]\n",
      "[3.21635951]\n",
      "[5.1502256]\n",
      "[0.0, 0.0]\n"
     ]
    },
    {
     "name": "stderr",
     "output_type": "stream",
     "text": [
      " 39%|███▉      | 898/2300 [3:42:51<5:50:06, 14.98s/it]"
     ]
    },
    {
     "name": "stdout",
     "output_type": "stream",
     "text": [
      "[35.47989821]\n",
      "[2.81639709]\n",
      "[4.7658114]\n",
      "[0.0, 0.0]\n"
     ]
    },
    {
     "name": "stderr",
     "output_type": "stream",
     "text": [
      " 39%|███▉      | 899/2300 [3:43:05<5:42:39, 14.67s/it]"
     ]
    },
    {
     "name": "stdout",
     "output_type": "stream",
     "text": [
      "[36.17982768]\n",
      "[2.41643558]\n",
      "[4.419156]\n",
      "[0.0, 0.0]\n"
     ]
    },
    {
     "name": "stderr",
     "output_type": "stream",
     "text": [
      " 39%|███▉      | 900/2300 [3:43:20<5:40:18, 14.58s/it]"
     ]
    },
    {
     "name": "stdout",
     "output_type": "stream",
     "text": [
      "[-46.01222492]\n",
      "[-28.08057575]\n",
      "[2.2447264]\n",
      "[0.0, 0.0]\n"
     ]
    },
    {
     "name": "stderr",
     "output_type": "stream",
     "text": [
      " 39%|███▉      | 901/2300 [3:43:34<5:36:08, 14.42s/it]"
     ]
    },
    {
     "name": "stdout",
     "output_type": "stream",
     "text": [
      "[-45.17882326]\n",
      "[-28.41380562]\n",
      "[2.269206]\n",
      "[0.0, 0.0]\n"
     ]
    },
    {
     "name": "stderr",
     "output_type": "stream",
     "text": [
      " 39%|███▉      | 902/2300 [3:43:48<5:36:49, 14.46s/it]"
     ]
    },
    {
     "name": "stdout",
     "output_type": "stream",
     "text": [
      "[-44.27891033]\n",
      "[-28.61378363]\n",
      "[2.3026667]\n",
      "[0.0, 0.0]\n"
     ]
    },
    {
     "name": "stderr",
     "output_type": "stream",
     "text": [
      " 39%|███▉      | 903/2300 [3:44:02<5:34:22, 14.36s/it]"
     ]
    },
    {
     "name": "stdout",
     "output_type": "stream",
     "text": [
      "[-43.41249317]\n",
      "[-28.88049963]\n",
      "[2.3219242]\n",
      "[0.0, 0.0]\n"
     ]
    },
    {
     "name": "stderr",
     "output_type": "stream",
     "text": [
      " 39%|███▉      | 904/2300 [3:44:16<5:31:22, 14.24s/it]"
     ]
    },
    {
     "name": "stdout",
     "output_type": "stream",
     "text": [
      "[-42.51259138]\n",
      "[-29.18047026]\n",
      "[2.325464]\n",
      "[0.0, 0.0]\n"
     ]
    },
    {
     "name": "stderr",
     "output_type": "stream",
     "text": [
      " 39%|███▉      | 905/2300 [3:44:30<5:29:38, 14.18s/it]"
     ]
    },
    {
     "name": "stdout",
     "output_type": "stream",
     "text": [
      "[-41.67913912]\n",
      "[-29.41367719]\n",
      "[2.3458207]\n",
      "[0.0, 0.0]\n"
     ]
    },
    {
     "name": "stderr",
     "output_type": "stream",
     "text": [
      " 39%|███▉      | 906/2300 [3:44:45<5:28:43, 14.15s/it]"
     ]
    },
    {
     "name": "stdout",
     "output_type": "stream",
     "text": [
      "[-40.77921404]\n",
      "[-29.71363515]\n",
      "[2.3938758]\n",
      "[0.0, 0.0]\n"
     ]
    },
    {
     "name": "stderr",
     "output_type": "stream",
     "text": [
      " 39%|███▉      | 907/2300 [3:44:59<5:27:28, 14.10s/it]"
     ]
    },
    {
     "name": "stdout",
     "output_type": "stream",
     "text": [
      "[-39.8128944]\n",
      "[-29.98039102]\n",
      "[2.4745913]\n",
      "[0.0, 0.0]\n"
     ]
    },
    {
     "name": "stderr",
     "output_type": "stream",
     "text": [
      " 39%|███▉      | 908/2300 [3:45:12<5:26:00, 14.05s/it]"
     ]
    },
    {
     "name": "stdout",
     "output_type": "stream",
     "text": [
      "[-38.8793694]\n",
      "[-30.21355501]\n",
      "[2.6265843]\n",
      "[0.0, 0.0]\n"
     ]
    },
    {
     "name": "stderr",
     "output_type": "stream",
     "text": [
      " 40%|███▉      | 909/2300 [3:45:27<5:27:46, 14.14s/it]"
     ]
    },
    {
     "name": "stdout",
     "output_type": "stream",
     "text": [
      "[-37.77946074]\n",
      "[-30.51350212]\n",
      "[2.9788215]\n",
      "[0.0, 0.0]\n"
     ]
    },
    {
     "name": "stderr",
     "output_type": "stream",
     "text": [
      " 40%|███▉      | 910/2300 [3:45:41<5:24:59, 14.03s/it]"
     ]
    },
    {
     "name": "stdout",
     "output_type": "stream",
     "text": [
      "[-36.7132818]\n",
      "[-30.98030041]\n",
      "[3.2274804]\n",
      "[0.0, 0.0]\n"
     ]
    },
    {
     "name": "stderr",
     "output_type": "stream",
     "text": [
      " 40%|███▉      | 911/2300 [3:45:55<5:28:20, 14.18s/it]"
     ]
    },
    {
     "name": "stdout",
     "output_type": "stream",
     "text": [
      "[-35.51347133]\n",
      "[-31.38029292]\n",
      "[2.9426696]\n",
      "[0.0, 0.0]\n"
     ]
    },
    {
     "name": "stderr",
     "output_type": "stream",
     "text": [
      " 40%|███▉      | 912/2300 [3:46:09<5:27:58, 14.18s/it]"
     ]
    },
    {
     "name": "stdout",
     "output_type": "stream",
     "text": [
      "[-34.47958432 -27.0806579  -21.88115783]\n",
      "[-31.81314185  21.7812391   25.48087924]\n",
      "[ 2.8155005 11.719328  11.527496 ]\n",
      "[0.0, 0.0]\n",
      "[0.0, 0.0]\n",
      "[0.0, 0.0]\n"
     ]
    },
    {
     "name": "stderr",
     "output_type": "stream",
     "text": [
      " 40%|███▉      | 913/2300 [3:46:25<5:41:35, 14.78s/it]"
     ]
    },
    {
     "name": "stdout",
     "output_type": "stream",
     "text": [
      "[-27.71399219 -18.8148746  -33.37945563]\n",
      "[ 19.91468347  26.21406757 -32.11271247]\n",
      "[6.677966  7.218766  2.7707517]\n",
      "[0.0, 0.0]\n",
      "[0.0, 0.0]\n",
      "[0.0, 0.0]\n"
     ]
    },
    {
     "name": "stderr",
     "output_type": "stream",
     "text": [
      " 40%|███▉      | 914/2300 [3:46:42<5:52:48, 15.27s/it]"
     ]
    },
    {
     "name": "stdout",
     "output_type": "stream",
     "text": [
      "[-32.31095829 -27.91397272 -16.38170985]\n",
      "[-32.47881203  18.41483026  26.58078698]\n",
      "[2.741685  5.3630433 6.108629 ]\n",
      "[0.0, 0.0]\n",
      "[0.0, 0.0]\n",
      "[0.0, 0.0]\n"
     ]
    },
    {
     "name": "stderr",
     "output_type": "stream",
     "text": [
      " 40%|███▉      | 915/2300 [3:46:59<6:07:31, 15.92s/it]"
     ]
    },
    {
     "name": "stdout",
     "output_type": "stream",
     "text": [
      "[-31.21298214 -27.91397203 -14.01536016]\n",
      "[-32.78003274  17.1149597   26.71398634]\n",
      "[2.8503234 4.487989  5.202112 ]\n",
      "[0.0, 0.0]\n",
      "[0.0, 0.0]\n",
      "[0.0, 0.0]\n"
     ]
    },
    {
     "name": "stderr",
     "output_type": "stream",
     "text": [
      " 40%|███▉      | 916/2300 [3:47:16<6:11:39, 16.11s/it]"
     ]
    },
    {
     "name": "stdout",
     "output_type": "stream",
     "text": [
      "[-30.01339857 -12.015562   -27.88058293]\n",
      "[-33.18002871  26.71397057  15.88181891]\n",
      "[3.161958  4.5551386 4.024736 ]\n",
      "[0.0, 0.0]\n",
      "[0.0, 0.0]\n",
      "[0.0, 0.0]\n"
     ]
    },
    {
     "name": "stderr",
     "output_type": "stream",
     "text": [
      " 40%|███▉      | 917/2300 [3:47:32<6:14:06, 16.23s/it]"
     ]
    },
    {
     "name": "stdout",
     "output_type": "stream",
     "text": [
      "[-10.1157564  -28.68073444 -27.68060328]\n",
      "[ 26.71395218 -33.5136063   14.78192488]\n",
      "[4.149903  3.0585175 3.770741 ]\n",
      "[0.0, 0.0]\n",
      "[0.0, 0.0]\n",
      "[0.0, 0.0]\n"
     ]
    },
    {
     "name": "stderr",
     "output_type": "stream",
     "text": [
      " 40%|███▉      | 918/2300 [3:47:50<6:24:14, 16.68s/it]"
     ]
    },
    {
     "name": "stdout",
     "output_type": "stream",
     "text": [
      "[-27.5138021  -27.41401597   7.71583862   2.91571396  -8.2825471 ]\n",
      "[-3.38799927e+01  1.37152970e+01 -1.11657719e+00 -1.69675460e-02\n",
      "  2.65808153e+01]\n",
      "[2.9615903 3.5802305 3.1460166 1.3832321 4.269045 ]\n",
      "[0.0, 0.0]\n",
      "[0.0, 0.0]\n",
      "[0.0, 0.0]\n",
      "[0.0, 0.0]\n",
      "[0.0, 0.0]\n"
     ]
    },
    {
     "name": "stderr",
     "output_type": "stream",
     "text": [
      " 40%|███▉      | 919/2300 [3:48:11<6:50:24, 17.83s/it]"
     ]
    },
    {
     "name": "stdout",
     "output_type": "stream",
     "text": [
      "[-26.21395781   9.6823735    1.71491603 -27.08066233  -6.48274411]\n",
      "[-34.17996769  -1.68317956   0.18258957  12.58213383  26.38084232]\n",
      "[2.9544947 2.9609985 0.8331771 3.3434756 4.1834755]\n",
      "[0.0, 0.0]\n",
      "[0.0, 0.0]\n",
      "[0.0, 0.0]\n",
      "[0.0, 0.0]\n",
      "[0.0, 0.0]\n"
     ]
    },
    {
     "name": "stderr",
     "output_type": "stream",
     "text": [
      " 40%|████      | 920/2300 [3:48:29<6:54:45, 18.03s/it]"
     ]
    },
    {
     "name": "stdout",
     "output_type": "stream",
     "text": [
      "[-24.9141079   11.38218809 -26.51409463   0.81040334  -4.68294403]\n",
      "[-34.4799367   -2.18309989  11.61551187   0.38039285  26.08087755]\n",
      "[2.9851778  3.0452502  3.188429   0.65193886 4.0166965 ]\n",
      "[0.0, 0.0]\n",
      "[0.0, 0.0]\n",
      "[0.0, 0.0]\n",
      "[0.0, 0.0]\n",
      "[0.0, 0.0]\n"
     ]
    },
    {
     "name": "stderr",
     "output_type": "stream",
     "text": [
      " 40%|████      | 921/2300 [3:48:50<7:12:20, 18.81s/it]"
     ]
    },
    {
     "name": "stdout",
     "output_type": "stream",
     "text": [
      "[  0.08047452 -23.58109981  12.91548314 -25.88078309  -2.88314767]\n",
      "[  0.52007493 -34.71335636  -2.71635929  10.58231741  25.78091347]\n",
      "[0.60077447 2.9625933  3.1147852  3.11686    4.2780647 ]\n",
      "[0.0, 0.0]\n",
      "[0.0, 0.0]\n",
      "[0.0, 0.0]\n",
      "[0.0, 0.0]\n",
      "[0.0, 0.0]\n"
     ]
    },
    {
     "name": "stderr",
     "output_type": "stream",
     "text": [
      " 40%|████      | 922/2300 [3:49:10<7:21:54, 19.24s/it]"
     ]
    },
    {
     "name": "stdout",
     "output_type": "stream",
     "text": [
      "[ 14.38187054 -22.28120926  -0.68149065 -24.98087522  -0.9833678 ]\n",
      "[ -3.18295274 -35.01331205   0.68397175   9.48241172  25.3809581 ]\n",
      "[3.2788312 2.8878682 0.6478574 3.0917573 4.7021   ]\n",
      "[0.0, 0.0]\n",
      "[0.0, 0.0]\n",
      "[0.0, 0.0]\n",
      "[0.0, 0.0]\n",
      "[0.0, 0.0]\n"
     ]
    },
    {
     "name": "stderr",
     "output_type": "stream",
     "text": [
      " 40%|████      | 923/2300 [3:49:28<7:15:07, 18.96s/it]"
     ]
    },
    {
     "name": "stdout",
     "output_type": "stream",
     "text": [
      "[-20.91454871  15.68173917 -13.31533095 -23.91431108  -1.58223095\n",
      " -16.78166044   1.01640305]\n",
      "[-35.17986262  -3.68288351   3.71641246   8.41585238   0.88359829\n",
      "   4.58284322  24.88100617]\n",
      "[2.9065251  3.1371722  6.5069985  3.269435   0.85901904 5.907647\n",
      " 4.861161  ]\n",
      "[0.0, 0.0]\n",
      "[0.0, 0.0]\n",
      "[0.0, 0.0]\n",
      "[0.0, 0.0]\n",
      "[0.0, 0.0]\n",
      "[0.0, 0.0]\n",
      "[0.0, 0.0]\n"
     ]
    },
    {
     "name": "stderr",
     "output_type": "stream",
     "text": [
      " 40%|████      | 924/2300 [3:49:48<7:18:00, 19.10s/it]"
     ]
    },
    {
     "name": "stdout",
     "output_type": "stream",
     "text": [
      "[-19.61468476  -7.51593101 -19.91466991   3.18290742  16.71518452\n",
      "  -3.08252316 -22.18116271]\n",
      "[-35.37983856   2.31663725   5.61615671  24.21398813  -4.21619834\n",
      "   1.18336799   6.98261779]\n",
      "[2.8765135 5.6148586 5.238938  5.328233  3.0636952 1.9105507 5.8797436]\n",
      "[0.0, 0.0]\n",
      "[0.0, 0.0]\n",
      "[0.0, 0.0]\n",
      "[0.0, 0.0]\n",
      "[0.0, 0.0]\n",
      "[0.0, 0.0]\n",
      "[0.0, 0.0]\n"
     ]
    },
    {
     "name": "stderr",
     "output_type": "stream",
     "text": [
      " 40%|████      | 925/2300 [3:50:10<7:38:10, 19.99s/it]"
     ]
    },
    {
     "name": "stdout",
     "output_type": "stream",
     "text": [
      "[ 17.6815497  -18.28156673   5.51592121]\n",
      "[ -4.68275722 -35.51323627  23.38114541]\n",
      "[3.069525  2.9134483 6.139643 ]\n",
      "[0.0, 0.0]\n",
      "[0.0, 0.0]\n",
      "[0.0, 0.0]\n"
     ]
    },
    {
     "name": "stderr",
     "output_type": "stream",
     "text": [
      " 40%|████      | 926/2300 [3:50:27<7:19:56, 19.21s/it]"
     ]
    },
    {
     "name": "stdout",
     "output_type": "stream",
     "text": [
      "[-17.01494797  18.48147925   8.18243283]\n",
      "[-35.67980512  -5.28269503  22.31417467]\n",
      "[2.8816037 3.0532734 6.1786814]\n",
      "[0.0, 0.0]\n",
      "[0.0, 0.0]\n",
      "[0.0, 0.0]\n"
     ]
    },
    {
     "name": "stderr",
     "output_type": "stream",
     "text": [
      " 40%|████      | 927/2300 [3:50:43<6:58:29, 18.29s/it]"
     ]
    },
    {
     "name": "stdout",
     "output_type": "stream",
     "text": [
      "[ 19.28140993 -15.68181206  10.4154331 ]\n",
      "[ -5.78264453 -35.71320853  21.48133009]\n",
      "[3.0780206 2.7881858 5.0270004]\n",
      "[0.0, 0.0]\n",
      "[0.0, 0.0]\n",
      "[0.0, 0.0]\n"
     ]
    },
    {
     "name": "stderr",
     "output_type": "stream",
     "text": [
      " 40%|████      | 928/2300 [3:51:01<6:53:10, 18.07s/it]"
     ]
    },
    {
     "name": "stdout",
     "output_type": "stream",
     "text": [
      "[ 19.98135093 -14.38193307  12.2152415 ]\n",
      "[ -6.38259139 -35.81319392  20.78141954]\n",
      "[3.1336424 2.7016172 4.627015 ]\n",
      "[0.0, 0.0]\n",
      "[0.0, 0.0]\n",
      "[0.0, 0.0]\n"
     ]
    },
    {
     "name": "stderr",
     "output_type": "stream",
     "text": [
      " 40%|████      | 929/2300 [3:51:18<6:48:44, 17.89s/it]"
     ]
    },
    {
     "name": "stdout",
     "output_type": "stream",
     "text": [
      "[-13.08205569  20.61476533  13.91505879]\n",
      "[-35.81318958  -7.01596367  19.98155304]\n",
      "[2.6931105 3.2197304 4.5597024]\n",
      "[0.0, 0.0]\n",
      "[0.0, 0.0]\n",
      "[0.0, 0.0]\n"
     ]
    },
    {
     "name": "stderr",
     "output_type": "stream",
     "text": [
      " 40%|████      | 930/2300 [3:51:34<6:36:29, 17.36s/it]"
     ]
    },
    {
     "name": "stdout",
     "output_type": "stream",
     "text": [
      "[-11.81547631  21.28124053  15.48150038]\n",
      "[-35.77979188  -7.68248205  19.21413812]\n",
      "[2.7188036 3.3670793 4.514117 ]\n",
      "[0.0, 0.0]\n",
      "[0.0, 0.0]\n",
      "[0.0, 0.0]\n"
     ]
    },
    {
     "name": "stderr",
     "output_type": "stream",
     "text": [
      " 40%|████      | 931/2300 [3:51:53<6:43:00, 17.66s/it]"
     ]
    },
    {
     "name": "stdout",
     "output_type": "stream",
     "text": [
      "[-10.51560777  16.98075687  21.91460578]\n",
      "[-35.77978877  18.41316522  -8.31585171]\n",
      "[2.8418107 4.665223  3.6106267]\n",
      "[0.0, 0.0]\n",
      "[0.0, 0.0]\n",
      "[0.0, 0.0]\n"
     ]
    },
    {
     "name": "stderr",
     "output_type": "stream",
     "text": [
      " 41%|████      | 932/2300 [3:52:10<6:41:35, 17.61s/it]"
     ]
    },
    {
     "name": "stdout",
     "output_type": "stream",
     "text": [
      "[-9.21573894 22.48113505 18.41572202]\n",
      "[-35.77978546  -9.08236045  17.47999991]\n",
      "[2.9424818 3.8915596 4.9561486]\n",
      "[0.0, 0.0]\n",
      "[0.0, 0.0]\n",
      "[0.0, 0.0]\n"
     ]
    },
    {
     "name": "stderr",
     "output_type": "stream",
     "text": [
      " 41%|████      | 933/2300 [3:52:26<6:30:42, 17.15s/it]"
     ]
    },
    {
     "name": "stdout",
     "output_type": "stream",
     "text": [
      "[-7.81587788 19.88172305 23.01447218]\n",
      "[-35.67979213  16.61540292  -9.91570482]\n",
      "[3.0458765 5.0398483 4.2254124]\n",
      "[0.0, 0.0]\n",
      "[0.0, 0.0]\n",
      "[0.0, 0.0]\n"
     ]
    },
    {
     "name": "stderr",
     "output_type": "stream",
     "text": [
      " 41%|████      | 934/2300 [3:52:43<6:26:39, 16.98s/it]"
     ]
    },
    {
     "name": "stdout",
     "output_type": "stream",
     "text": [
      "[21.18146268 -6.38268008 23.51441221]\n",
      "[ 15.61536215 -35.61319244 -10.81562033]\n",
      "[4.8115854 3.214353  4.6587963]\n",
      "[0.0, 0.0]\n",
      "[0.0, 0.0]\n",
      "[0.0, 0.0]\n"
     ]
    },
    {
     "name": "stderr",
     "output_type": "stream",
     "text": [
      " 41%|████      | 935/2300 [3:53:01<6:30:37, 17.17s/it]"
     ]
    },
    {
     "name": "stdout",
     "output_type": "stream",
     "text": [
      "[23.88100843 -4.88281659 22.41445463]\n",
      "[-11.88210978 -35.51319867  14.78172057]\n",
      "[5.388795  3.5274549 4.8584447]\n",
      "[0.0, 0.0]\n",
      "[0.0, 0.0]\n",
      "[0.0, 0.0]\n"
     ]
    },
    {
     "name": "stderr",
     "output_type": "stream",
     "text": [
      " 41%|████      | 936/2300 [3:53:17<6:25:15, 16.95s/it]"
     ]
    },
    {
     "name": "stdout",
     "output_type": "stream",
     "text": [
      "[24.1809801  23.68113629 -3.18297035]\n",
      "[-13.08200231  13.91539914 -35.3132152 ]\n",
      "[6.433581  5.1671743 4.4339204]\n",
      "[0.0, 0.0]\n",
      "[0.0, 0.0]\n",
      "[0.0, 0.0]\n"
     ]
    },
    {
     "name": "stderr",
     "output_type": "stream",
     "text": [
      " 41%|████      | 937/2300 [3:53:35<6:29:57, 17.17s/it]"
     ]
    },
    {
     "name": "stdout",
     "output_type": "stream",
     "text": [
      "[24.18097876 24.88099409 -0.78318335]\n",
      "[-14.68185945  12.91547641 -34.91325086]\n",
      "[7.18109   5.7111726 7.175802 ]\n",
      "[0.0, 0.0]\n",
      "[0.0, 0.0]\n",
      "[0.0, 0.0]\n"
     ]
    },
    {
     "name": "stderr",
     "output_type": "stream",
     "text": [
      " 41%|████      | 938/2300 [3:53:51<6:24:13, 16.93s/it]"
     ]
    },
    {
     "name": "stdout",
     "output_type": "stream",
     "text": [
      "[ 3.28302874 25.98086362 24.01432245]\n",
      "[-33.77990033  11.91555891 -16.31508457]\n",
      "[10.588616   5.5999618  6.7746663]\n",
      "[0.0, 0.0]\n",
      "[0.0, 0.0]\n",
      "[0.0, 0.0]\n"
     ]
    },
    {
     "name": "stderr",
     "output_type": "stream",
     "text": [
      " 41%|████      | 939/2300 [3:54:08<6:20:53, 16.79s/it]"
     ]
    },
    {
     "name": "stdout",
     "output_type": "stream",
     "text": [
      "[ 7.71594052 23.81433473 27.11398774]\n",
      "[-32.61353171 -17.91492918  10.9821902 ]\n",
      "[9.153509  5.773368  5.3467965]\n",
      "[0.0, 0.0]\n",
      "[0.0, 0.0]\n",
      "[0.0, 0.0]\n"
     ]
    },
    {
     "name": "stderr",
     "output_type": "stream",
     "text": [
      " 41%|████      | 940/2300 [3:54:25<6:26:18, 17.04s/it]"
     ]
    },
    {
     "name": "stdout",
     "output_type": "stream",
     "text": [
      "[11.08231867 28.18061955 23.6143457 ]\n",
      "[-31.6801952   10.11570187 -19.4147824 ]\n",
      "[8.637995  5.20392   5.4480214]\n",
      "[0.0, 0.0]\n",
      "[0.0, 0.0]\n",
      "[0.0, 0.0]\n"
     ]
    },
    {
     "name": "stderr",
     "output_type": "stream",
     "text": [
      " 41%|████      | 941/2300 [3:54:42<6:21:04, 16.82s/it]"
     ]
    },
    {
     "name": "stdout",
     "output_type": "stream",
     "text": [
      "[14.11522487 23.51434982 29.11378391]\n",
      "[-30.51373456 -20.81464553   9.28238212]\n",
      "[8.535884  5.60197   5.0089607]\n",
      "[0.0, 0.0]\n",
      "[0.0, 0.0]\n",
      "[0.0, 0.0]\n"
     ]
    },
    {
     "name": "stderr",
     "output_type": "stream",
     "text": [
      " 41%|████      | 942/2300 [3:54:58<6:18:03, 16.70s/it]"
     ]
    },
    {
     "name": "stdout",
     "output_type": "stream",
     "text": [
      "[16.88172539 23.2143719  30.11367832]\n",
      "[-29.18047286 -22.41449114   8.58244672]\n",
      "[10.040701   7.395464   4.6657295]\n",
      "[0.0, 0.0]\n",
      "[0.0, 0.0]\n",
      "[0.0, 0.0]\n"
     ]
    },
    {
     "name": "stderr",
     "output_type": "stream",
     "text": [
      " 41%|████      | 943/2300 [3:55:16<6:23:50, 16.97s/it]"
     ]
    },
    {
     "name": "stdout",
     "output_type": "stream",
     "text": [
      "[20.18138753 21.98120574 30.98034449]\n",
      "[-26.98069209 -25.08087284   7.91589974]\n",
      "[25.575762  27.475594   4.5278997]\n",
      "[0.0, 0.0]\n",
      "[0.0, 0.0]\n",
      "[0.0, 0.0]\n"
     ]
    },
    {
     "name": "stderr",
     "output_type": "stream",
     "text": [
      " 41%|████      | 944/2300 [3:55:31<6:11:41, 16.45s/it]"
     ]
    },
    {
     "name": "stdout",
     "output_type": "stream",
     "text": [
      "[31.81350342]\n",
      "[7.28256687]\n",
      "[4.5165234]\n",
      "[0.0, 0.0]\n"
     ]
    },
    {
     "name": "stderr",
     "output_type": "stream",
     "text": [
      " 41%|████      | 945/2300 [3:55:45<5:56:10, 15.77s/it]"
     ]
    },
    {
     "name": "stdout",
     "output_type": "stream",
     "text": [
      "[32.68017898]\n",
      "[6.71601602]\n",
      "[4.358565]\n",
      "[0.0, 0.0]\n"
     ]
    },
    {
     "name": "stderr",
     "output_type": "stream",
     "text": [
      " 41%|████      | 946/2300 [3:55:59<5:46:24, 15.35s/it]"
     ]
    },
    {
     "name": "stdout",
     "output_type": "stream",
     "text": [
      "[33.48010007]\n",
      "[6.21606455]\n",
      "[4.1337123]\n",
      "[0.0, 0.0]\n"
     ]
    },
    {
     "name": "stderr",
     "output_type": "stream",
     "text": [
      " 41%|████      | 947/2300 [3:56:13<5:38:13, 15.00s/it]"
     ]
    },
    {
     "name": "stdout",
     "output_type": "stream",
     "text": [
      "[34.21326854]\n",
      "[5.68272524]\n",
      "[4.0005026]\n",
      "[0.0, 0.0]\n"
     ]
    },
    {
     "name": "stderr",
     "output_type": "stream",
     "text": [
      " 41%|████      | 948/2300 [3:56:27<5:30:51, 14.68s/it]"
     ]
    },
    {
     "name": "stdout",
     "output_type": "stream",
     "text": [
      "[34.97995104]\n",
      "[5.21616394]\n",
      "[3.9916039]\n",
      "[0.0, 0.0]\n"
     ]
    },
    {
     "name": "stderr",
     "output_type": "stream",
     "text": [
      " 41%|████▏     | 949/2300 [3:56:42<5:28:22, 14.58s/it]"
     ]
    },
    {
     "name": "stdout",
     "output_type": "stream",
     "text": [
      "[35.67988018]\n",
      "[4.7162131]\n",
      "[4.0114956]\n",
      "[0.0, 0.0]\n"
     ]
    },
    {
     "name": "stderr",
     "output_type": "stream",
     "text": [
      " 41%|████▏     | 950/2300 [3:56:56<5:22:33, 14.34s/it]"
     ]
    },
    {
     "name": "stdout",
     "output_type": "stream",
     "text": [
      "[-46.27872157]\n",
      "[-27.11393757]\n",
      "[2.31724]\n",
      "[0.0, 0.0]\n"
     ]
    },
    {
     "name": "stderr",
     "output_type": "stream",
     "text": [
      " 41%|████▏     | 951/2300 [3:57:10<5:22:41, 14.35s/it]"
     ]
    },
    {
     "name": "stdout",
     "output_type": "stream",
     "text": [
      "[-45.37880731]\n",
      "[-27.3139155]\n",
      "[2.3042495]\n",
      "[0.0, 0.0]\n"
     ]
    },
    {
     "name": "stderr",
     "output_type": "stream",
     "text": [
      " 41%|████▏     | 952/2300 [3:57:24<5:20:17, 14.26s/it]"
     ]
    },
    {
     "name": "stdout",
     "output_type": "stream",
     "text": [
      "[-44.51237471]\n",
      "[-27.58062385]\n",
      "[2.3249872]\n",
      "[0.0, 0.0]\n"
     ]
    },
    {
     "name": "stderr",
     "output_type": "stream",
     "text": [
      " 41%|████▏     | 953/2300 [3:57:38<5:19:00, 14.21s/it]"
     ]
    },
    {
     "name": "stdout",
     "output_type": "stream",
     "text": [
      "[-43.67897218]\n",
      "[-27.91386307]\n",
      "[2.3349314]\n",
      "[0.0, 0.0]\n"
     ]
    },
    {
     "name": "stderr",
     "output_type": "stream",
     "text": [
      " 41%|████▏     | 954/2300 [3:57:52<5:19:12, 14.23s/it]"
     ]
    },
    {
     "name": "stdout",
     "output_type": "stream",
     "text": [
      "[-42.77904776]\n",
      "[-28.11382592]\n",
      "[2.3485706]\n",
      "[0.0, 0.0]\n"
     ]
    },
    {
     "name": "stderr",
     "output_type": "stream",
     "text": [
      " 42%|████▏     | 955/2300 [3:58:07<5:20:52, 14.31s/it]"
     ]
    },
    {
     "name": "stdout",
     "output_type": "stream",
     "text": [
      "[-41.91264887]\n",
      "[-28.38054448]\n",
      "[2.368583]\n",
      "[0.0, 0.0]\n"
     ]
    },
    {
     "name": "stderr",
     "output_type": "stream",
     "text": [
      " 42%|████▏     | 956/2300 [3:58:21<5:19:13, 14.25s/it]"
     ]
    },
    {
     "name": "stdout",
     "output_type": "stream",
     "text": [
      "[-41.01274893]\n",
      "[-28.68051538]\n",
      "[2.4141297]\n",
      "[0.0, 0.0]\n"
     ]
    },
    {
     "name": "stderr",
     "output_type": "stream",
     "text": [
      " 42%|████▏     | 957/2300 [3:58:35<5:18:46, 14.24s/it]"
     ]
    },
    {
     "name": "stdout",
     "output_type": "stream",
     "text": [
      "[-40.07928127]\n",
      "[-28.9137142]\n",
      "[2.4688406]\n",
      "[0.0, 0.0]\n"
     ]
    },
    {
     "name": "stderr",
     "output_type": "stream",
     "text": [
      " 42%|████▏     | 958/2300 [3:58:49<5:17:52, 14.21s/it]"
     ]
    },
    {
     "name": "stdout",
     "output_type": "stream",
     "text": [
      "[-39.17935404]\n",
      "[-29.21367075]\n",
      "[2.5437386]\n",
      "[0.0, 0.0]\n"
     ]
    },
    {
     "name": "stderr",
     "output_type": "stream",
     "text": [
      " 42%|████▏     | 959/2300 [3:59:03<5:15:48, 14.13s/it]"
     ]
    },
    {
     "name": "stdout",
     "output_type": "stream",
     "text": [
      "[-38.17943589]\n",
      "[-29.51362383]\n",
      "[2.6986706]\n",
      "[0.0, 0.0]\n"
     ]
    },
    {
     "name": "stderr",
     "output_type": "stream",
     "text": [
      " 42%|████▏     | 960/2300 [3:59:18<5:16:34, 14.18s/it]"
     ]
    },
    {
     "name": "stdout",
     "output_type": "stream",
     "text": [
      "[-37.11320304]\n",
      "[-29.88039989]\n",
      "[2.9531777]\n",
      "[0.0, 0.0]\n"
     ]
    },
    {
     "name": "stderr",
     "output_type": "stream",
     "text": [
      " 42%|████▏     | 961/2300 [3:59:31<5:12:57, 14.02s/it]"
     ]
    },
    {
     "name": "stdout",
     "output_type": "stream",
     "text": [
      "[-35.91336153 -28.11395073 -24.41431346]\n",
      "[-30.28037256  22.91439456  25.61413516]\n",
      "[ 3.018623 19.268084 21.43019 ]\n",
      "[0.0, 0.0]\n",
      "[0.0, 0.0]\n",
      "[0.0, 0.0]\n"
     ]
    },
    {
     "name": "stderr",
     "output_type": "stream",
     "text": [
      " 42%|████▏     | 962/2300 [3:59:47<5:22:46, 14.47s/it]"
     ]
    },
    {
     "name": "stdout",
     "output_type": "stream",
     "text": [
      "[-34.81353448 -28.98047649 -20.9812492 ]\n",
      "[-30.68035154  20.78133797  26.78075215]\n",
      "[2.8807259 6.959252  7.6198983]\n",
      "[0.0, 0.0]\n",
      "[0.0, 0.0]\n",
      "[0.0, 0.0]\n"
     ]
    },
    {
     "name": "stderr",
     "output_type": "stream",
     "text": [
      " 42%|████▏     | 963/2300 [4:00:05<5:47:25, 15.59s/it]"
     ]
    },
    {
     "name": "stdout",
     "output_type": "stream",
     "text": [
      "[-29.21384578 -33.77965128 -18.48150312]\n",
      "[ 19.21475036 -31.11321856  27.18072042]\n",
      "[5.66825   2.8336058 6.067843 ]\n",
      "[0.0, 0.0]\n",
      "[0.0, 0.0]\n",
      "[0.0, 0.0]\n"
     ]
    },
    {
     "name": "stderr",
     "output_type": "stream",
     "text": [
      " 42%|████▏     | 964/2300 [4:00:21<5:51:15, 15.77s/it]"
     ]
    },
    {
     "name": "stdout",
     "output_type": "stream",
     "text": [
      "[-32.71446566 -29.2138462  -16.21513788]\n",
      "[-31.48026291  17.91487894  27.41392634]\n",
      "[2.818852 4.716178 5.429225]\n",
      "[0.0, 0.0]\n",
      "[0.0, 0.0]\n",
      "[0.0, 0.0]\n"
     ]
    },
    {
     "name": "stderr",
     "output_type": "stream",
     "text": [
      " 42%|████▏     | 965/2300 [4:00:38<5:55:12, 15.96s/it]"
     ]
    },
    {
     "name": "stdout",
     "output_type": "stream",
     "text": [
      "[-14.01535973 -31.58406439 -29.18045539]\n",
      "[ 27.51390334 -31.82043915  16.68174235]\n",
      "[4.845941  2.8352804 4.150271 ]\n",
      "[0.0, 0.0]\n",
      "[0.0, 0.0]\n",
      "[0.0, 0.0]\n"
     ]
    },
    {
     "name": "stderr",
     "output_type": "stream",
     "text": [
      " 42%|████▏     | 966/2300 [4:00:55<6:05:42, 16.45s/it]"
     ]
    },
    {
     "name": "stdout",
     "output_type": "stream",
     "text": [
      "[-30.41312239 -29.01386613 -12.01555991]\n",
      "[-32.18012068  15.51511434  27.51388963]\n",
      "[3.0208552 3.7396605 4.257803 ]\n",
      "[0.0, 0.0]\n",
      "[0.0, 0.0]\n",
      "[0.0, 0.0]\n"
     ]
    },
    {
     "name": "stderr",
     "output_type": "stream",
     "text": [
      " 42%|████▏     | 967/2300 [4:01:11<6:04:46, 16.42s/it]"
     ]
    },
    {
     "name": "stdout",
     "output_type": "stream",
     "text": [
      "[-29.11351202 -28.81388466 -10.21574155]\n",
      "[-32.58012343  14.41522376  27.5138733 ]\n",
      "[3.1963441 3.4508307 3.9117527]\n",
      "[0.0, 0.0]\n",
      "[0.0, 0.0]\n",
      "[0.0, 0.0]\n"
     ]
    },
    {
     "name": "stderr",
     "output_type": "stream",
     "text": [
      " 42%|████▏     | 968/2300 [4:01:29<6:11:20, 16.73s/it]"
     ]
    },
    {
     "name": "stdout",
     "output_type": "stream",
     "text": [
      "[-27.81373333   3.28322082   7.11586671 -28.48052262  -8.4825297 ]\n",
      "[-32.98008762  -0.38358337  -1.41655481  13.38206358  27.3807302 ]\n",
      "[3.1172714 1.7263931 3.3464832 3.2379477 3.9879975]\n",
      "[0.0, 0.0]\n",
      "[0.0, 0.0]\n",
      "[0.0, 0.0]\n",
      "[0.0, 0.0]\n",
      "[0.0, 0.0]\n"
     ]
    },
    {
     "name": "stderr",
     "output_type": "stream",
     "text": [
      " 42%|████▏     | 969/2300 [4:01:47<6:21:23, 17.19s/it]"
     ]
    },
    {
     "name": "stdout",
     "output_type": "stream",
     "text": [
      "[-26.51390723   9.11574454   1.91532757 -28.08056139  -6.68272372]\n",
      "[-33.28006386  -2.11645523  -0.11716603  12.38215896  27.1807553 ]\n",
      "[3.1033356 2.8778057 0.8943415 3.0376105 4.0005813]\n",
      "[0.0, 0.0]\n",
      "[0.0, 0.0]\n",
      "[0.0, 0.0]\n",
      "[0.0, 0.0]\n",
      "[0.0, 0.0]\n"
     ]
    },
    {
     "name": "stderr",
     "output_type": "stream",
     "text": [
      " 42%|████▏     | 970/2300 [4:02:08<6:45:44, 18.30s/it]"
     ]
    },
    {
     "name": "stdout",
     "output_type": "stream",
     "text": [
      "[ 10.88224311 -27.51400349 -25.18098889   1.01378493  -4.88291931]\n",
      "[ -2.58307893  11.41552707 -33.61350518   0.08209845  26.98077948]\n",
      "[2.9433172 2.864693  3.1262333 0.6835709 3.7982295]\n",
      "[0.0, 0.0]\n",
      "[0.0, 0.0]\n",
      "[0.0, 0.0]\n",
      "[0.0, 0.0]\n",
      "[0.0, 0.0]\n"
     ]
    },
    {
     "name": "stderr",
     "output_type": "stream",
     "text": [
      " 42%|████▏     | 971/2300 [4:02:26<6:44:24, 18.26s/it]"
     ]
    },
    {
     "name": "stdout",
     "output_type": "stream",
     "text": [
      "[-23.81422453  12.38208423   0.22850134 -26.88068251  -3.18310769]\n",
      "[-33.87999784  -3.18299786   0.18170062  10.48233603  26.6808121 ]\n",
      "[3.086315  2.965394  0.6102144 2.7692218 3.957974 ]\n",
      "[0.0, 0.0]\n",
      "[0.0, 0.0]\n",
      "[0.0, 0.0]\n",
      "[0.0, 0.0]\n",
      "[0.0, 0.0]\n"
     ]
    },
    {
     "name": "stderr",
     "output_type": "stream",
     "text": [
      " 42%|████▏     | 972/2300 [4:02:47<7:00:00, 18.98s/it]"
     ]
    },
    {
     "name": "stdout",
     "output_type": "stream",
     "text": [
      "[-22.51437087 -26.01413425  -1.41662835  13.81539808  -0.58073624]\n",
      "[-34.17996434   9.51572415  26.31387254  -3.81624706   0.38431095]\n",
      "[2.9750967  2.8291938  4.382471   3.1994047  0.63642794]\n",
      "[0.0, 0.0]\n",
      "[0.0, 0.0]\n",
      "[0.0, 0.0]\n",
      "[0.0, 0.0]\n",
      "[0.0, 0.0]\n"
     ]
    },
    {
     "name": "stderr",
     "output_type": "stream",
     "text": [
      " 42%|████▏     | 973/2300 [4:03:05<6:52:09, 18.64s/it]"
     ]
    },
    {
     "name": "stdout",
     "output_type": "stream",
     "text": [
      "[-21.11452309  -1.41701828 -25.01421647   0.48318396  15.11529339]\n",
      "[-34.37994413   0.51736913   8.51583144  25.81389305  -4.41618369]\n",
      "[2.995243  0.7981663 2.8035977 4.5468297 3.0613997]\n",
      "[0.0, 0.0]\n",
      "[0.0, 0.0]\n",
      "[0.0, 0.0]\n",
      "[0.0, 0.0]\n",
      "[0.0, 0.0]\n"
     ]
    },
    {
     "name": "stderr",
     "output_type": "stream",
     "text": [
      " 42%|████▏     | 974/2300 [4:03:24<6:58:40, 18.94s/it]"
     ]
    },
    {
     "name": "stdout",
     "output_type": "stream",
     "text": [
      "[-19.81466103  16.18169831  -2.68243822  -9.18227959 -18.88147808\n",
      " -23.78100563   2.51626334]\n",
      "[-34.57991925  -4.98277044   0.78346599   2.28309545   4.78281897\n",
      "   7.3825939   25.28095405]\n",
      "[2.974625  2.9252837 1.4208384 8.0663395 2.8289216 3.3009179 4.893031 ]\n",
      "[0.0, 0.0]\n",
      "[0.0, 0.0]\n",
      "[0.0, 0.0]\n",
      "[0.0, 0.0]\n",
      "[0.0, 0.0]\n",
      "[0.0, 0.0]\n",
      "[0.0, 0.0]\n"
     ]
    },
    {
     "name": "stderr",
     "output_type": "stream",
     "text": [
      " 42%|████▏     | 975/2300 [4:03:48<7:28:24, 20.31s/it]"
     ]
    },
    {
     "name": "stdout",
     "output_type": "stream",
     "text": [
      "[  4.58278262 -18.48155125  17.11511594]\n",
      "[ 24.5139916  -34.71331677  -5.51608058]\n",
      "[5.5188575 3.0279775 2.8596296]\n",
      "[0.0, 0.0]\n",
      "[0.0, 0.0]\n",
      "[0.0, 0.0]\n"
     ]
    },
    {
     "name": "stderr",
     "output_type": "stream",
     "text": [
      " 42%|████▏     | 976/2300 [4:04:05<7:05:51, 19.30s/it]"
     ]
    },
    {
     "name": "stdout",
     "output_type": "stream",
     "text": [
      "[-17.11493601  17.91503771   7.21578082]\n",
      "[-34.87988561  -6.11602691  23.58111012]\n",
      "[3.0212326 2.816435  6.5532436]\n",
      "[0.0, 0.0]\n",
      "[0.0, 0.0]\n",
      "[0.0, 0.0]\n"
     ]
    },
    {
     "name": "stderr",
     "output_type": "stream",
     "text": [
      " 42%|████▏     | 977/2300 [4:04:22<6:50:22, 18.61s/it]"
     ]
    },
    {
     "name": "stdout",
     "output_type": "stream",
     "text": [
      "[-15.71507819  18.6149615    9.61554941]\n",
      "[-34.97987474  -6.81596496  22.68120299]\n",
      "[2.9019885 2.8048322 5.2838955]\n",
      "[0.0, 0.0]\n",
      "[0.0, 0.0]\n",
      "[0.0, 0.0]\n"
     ]
    },
    {
     "name": "stderr",
     "output_type": "stream",
     "text": [
      " 43%|████▎     | 978/2300 [4:04:39<6:42:38, 18.27s/it]"
     ]
    },
    {
     "name": "stdout",
     "output_type": "stream",
     "text": [
      "[-14.38193658  19.31488461  11.51535172]\n",
      "[-35.01327402  -7.41591355  21.98127978]\n",
      "[2.801385  2.8871405 4.3822412]\n",
      "[0.0, 0.0]\n",
      "[0.0, 0.0]\n",
      "[0.0, 0.0]\n"
     ]
    },
    {
     "name": "stderr",
     "output_type": "stream",
     "text": [
      " 43%|████▎     | 979/2300 [4:04:56<6:28:54, 17.66s/it]"
     ]
    },
    {
     "name": "stdout",
     "output_type": "stream",
     "text": [
      "[-13.11534324  19.98135662  13.1818971 ]\n",
      "[-35.07986291  -8.08245465  21.31424493]\n",
      "[2.768724  3.0537345 4.2220635]\n",
      "[0.0, 0.0]\n",
      "[0.0, 0.0]\n",
      "[0.0, 0.0]\n"
     ]
    },
    {
     "name": "stderr",
     "output_type": "stream",
     "text": [
      " 43%|████▎     | 980/2300 [4:05:12<6:20:58, 17.32s/it]"
     ]
    },
    {
     "name": "stdout",
     "output_type": "stream",
     "text": [
      "[-11.81547544  20.58130527  14.71501382]\n",
      "[-35.07986118  -8.78238981  20.58149943]\n",
      "[2.801961  3.2741442 4.160574 ]\n",
      "[0.0, 0.0]\n",
      "[0.0, 0.0]\n",
      "[0.0, 0.0]\n"
     ]
    },
    {
     "name": "stderr",
     "output_type": "stream",
     "text": [
      " 43%|████▎     | 981/2300 [4:05:28<6:14:18, 17.03s/it]"
     ]
    },
    {
     "name": "stdout",
     "output_type": "stream",
     "text": [
      "[-10.51560757  21.11467548  16.21476411]\n",
      "[-35.07985827  -9.51572931  19.8816517 ]\n",
      "[2.9454823 3.5114403 4.0805902]\n",
      "[0.0, 0.0]\n",
      "[0.0, 0.0]\n",
      "[0.0, 0.0]\n"
     ]
    },
    {
     "name": "stderr",
     "output_type": "stream",
     "text": [
      " 43%|████▎     | 982/2300 [4:05:46<6:17:32, 17.19s/it]"
     ]
    },
    {
     "name": "stdout",
     "output_type": "stream",
     "text": [
      "[-9.11574962 17.58076676 21.61461373]\n",
      "[-34.9798657   19.11358874 -10.4156461 ]\n",
      "[3.0514066 4.2411366 3.7731812]\n",
      "[0.0, 0.0]\n",
      "[0.0, 0.0]\n",
      "[0.0, 0.0]\n"
     ]
    },
    {
     "name": "stderr",
     "output_type": "stream",
     "text": [
      " 43%|████▎     | 983/2300 [4:06:02<6:12:23, 16.97s/it]"
     ]
    },
    {
     "name": "stdout",
     "output_type": "stream",
     "text": [
      "[22.08117327 18.98247496 -7.78255051]\n",
      "[-11.28216551  18.31689227 -34.91326262]\n",
      "[4.148979  4.456777  3.1131845]\n",
      "[0.0, 0.0]\n",
      "[0.0, 0.0]\n",
      "[0.0, 0.0]\n"
     ]
    },
    {
     "name": "stderr",
     "output_type": "stream",
     "text": [
      " 43%|████▎     | 984/2300 [4:06:19<6:11:31, 16.94s/it]"
     ]
    },
    {
     "name": "stdout",
     "output_type": "stream",
     "text": [
      "[-6.28268829 22.41451072 20.31474032]\n",
      "[-34.81326951 -12.31546668  17.48115939]\n",
      "[3.3596392 4.6512427 4.673495 ]\n",
      "[0.0, 0.0]\n",
      "[0.0, 0.0]\n",
      "[0.0, 0.0]\n"
     ]
    },
    {
     "name": "stderr",
     "output_type": "stream",
     "text": [
      " 43%|████▎     | 985/2300 [4:06:37<6:16:02, 17.16s/it]"
     ]
    },
    {
     "name": "stdout",
     "output_type": "stream",
     "text": [
      "[22.6811195  -4.78282345 21.61453099]\n",
      "[-13.48196883 -34.71327591  16.68144045]\n",
      "[5.2478647 3.7701566 4.4202447]\n",
      "[0.0, 0.0]\n",
      "[0.0, 0.0]\n",
      "[0.0, 0.0]\n"
     ]
    },
    {
     "name": "stderr",
     "output_type": "stream",
     "text": [
      " 43%|████▎     | 986/2300 [4:06:53<6:07:38, 16.79s/it]"
     ]
    },
    {
     "name": "stdout",
     "output_type": "stream",
     "text": [
      "[-2.91636986 22.68111983 22.81440776]\n",
      "[-34.47988296 -14.88184041  15.88159836]\n",
      "[5.2086625 5.6110115 4.3198366]\n",
      "[0.0, 0.0]\n",
      "[0.0, 0.0]\n",
      "[0.0, 0.0]\n"
     ]
    },
    {
     "name": "stderr",
     "output_type": "stream",
     "text": [
      " 43%|████▎     | 987/2300 [4:07:09<6:04:26, 16.65s/it]"
     ]
    },
    {
     "name": "stdout",
     "output_type": "stream",
     "text": [
      "[23.98111342  0.21673753 22.61446279]\n",
      "[ 15.1152909  -33.8133544  -16.31507893]\n",
      "[ 4.407518  10.995284   5.5667167]\n",
      "[0.0, 0.0]\n",
      "[0.0, 0.0]\n",
      "[0.0, 0.0]\n"
     ]
    },
    {
     "name": "stderr",
     "output_type": "stream",
     "text": [
      " 43%|████▎     | 988/2300 [4:07:27<6:10:23, 16.94s/it]"
     ]
    },
    {
     "name": "stdout",
     "output_type": "stream",
     "text": [
      "[22.48114381 25.080983    4.51633001]\n",
      "[-17.78156976  14.2153636  -32.61349558]\n",
      "[ 5.27712   4.638248 11.064544]\n",
      "[0.0, 0.0]\n",
      "[0.0, 0.0]\n",
      "[0.0, 0.0]\n"
     ]
    },
    {
     "name": "stderr",
     "output_type": "stream",
     "text": [
      " 43%|████▎     | 989/2300 [4:07:43<6:05:21, 16.72s/it]"
     ]
    },
    {
     "name": "stdout",
     "output_type": "stream",
     "text": [
      "[ 8.68255701 22.31447192 26.2140784 ]\n",
      "[-31.48018398 -19.21479882  13.38192786]\n",
      "[9.729679  5.1949134 4.7615848]\n",
      "[0.0, 0.0]\n",
      "[0.0, 0.0]\n",
      "[0.0, 0.0]\n"
     ]
    },
    {
     "name": "stderr",
     "output_type": "stream",
     "text": [
      " 43%|████▎     | 990/2300 [4:07:59<6:02:52, 16.62s/it]"
     ]
    },
    {
     "name": "stdout",
     "output_type": "stream",
     "text": [
      "[12.28219763 22.18117629 27.28073107]\n",
      "[-30.28036217 -20.58130931  12.51549875]\n",
      "[9.951576  5.4083757 4.905138 ]\n",
      "[0.0, 0.0]\n",
      "[0.0, 0.0]\n",
      "[0.0, 0.0]\n"
     ]
    },
    {
     "name": "stderr",
     "output_type": "stream",
     "text": [
      " 43%|████▎     | 991/2300 [4:08:17<6:11:37, 17.03s/it]"
     ]
    },
    {
     "name": "stdout",
     "output_type": "stream",
     "text": [
      "[15.48186625 21.88120811 28.38061155]\n",
      "[-28.78052003 -22.1811602   11.71556195]\n",
      "[10.1758995  7.106681   4.632602 ]\n",
      "[0.0, 0.0]\n",
      "[0.0, 0.0]\n",
      "[0.0, 0.0]\n"
     ]
    },
    {
     "name": "stderr",
     "output_type": "stream",
     "text": [
      " 43%|████▎     | 992/2300 [4:08:34<6:08:49, 16.92s/it]"
     ]
    },
    {
     "name": "stdout",
     "output_type": "stream",
     "text": [
      "[19.61469831 20.31463481 29.31377232]\n",
      "[-25.81416789 -25.11423425  10.88221156]\n",
      "[85.71414   79.93234    4.5653462]\n",
      "[0.0, 0.0]\n",
      "[0.0, 0.0]\n",
      "[0.0, 0.0]\n"
     ]
    },
    {
     "name": "stderr",
     "output_type": "stream",
     "text": [
      " 43%|████▎     | 993/2300 [4:08:50<6:03:17, 16.68s/it]"
     ]
    },
    {
     "name": "stdout",
     "output_type": "stream",
     "text": [
      "[30.28040815]\n",
      "[10.11569512]\n",
      "[4.3983216]\n",
      "[0.0, 0.0]\n"
     ]
    },
    {
     "name": "stderr",
     "output_type": "stream",
     "text": [
      " 43%|████▎     | 994/2300 [4:09:04<5:46:38, 15.93s/it]"
     ]
    },
    {
     "name": "stdout",
     "output_type": "stream",
     "text": [
      "[31.21357006]\n",
      "[9.48235649]\n",
      "[4.119218]\n",
      "[0.0, 0.0]\n"
     ]
    },
    {
     "name": "stderr",
     "output_type": "stream",
     "text": [
      " 43%|████▎     | 995/2300 [4:09:19<5:36:23, 15.47s/it]"
     ]
    },
    {
     "name": "stdout",
     "output_type": "stream",
     "text": [
      "[32.11347639]\n",
      "[8.88241223]\n",
      "[3.9158974]\n",
      "[0.0, 0.0]\n"
     ]
    },
    {
     "name": "stderr",
     "output_type": "stream",
     "text": [
      " 43%|████▎     | 996/2300 [4:09:33<5:26:48, 15.04s/it]"
     ]
    },
    {
     "name": "stdout",
     "output_type": "stream",
     "text": [
      "[32.91339708]\n",
      "[8.28247044]\n",
      "[3.8928785]\n",
      "[0.0, 0.0]\n"
     ]
    },
    {
     "name": "stderr",
     "output_type": "stream",
     "text": [
      " 43%|████▎     | 997/2300 [4:09:47<5:19:50, 14.73s/it]"
     ]
    },
    {
     "name": "stdout",
     "output_type": "stream",
     "text": [
      "[33.71331847]\n",
      "[7.78252012]\n",
      "[3.8109505]\n",
      "[0.0, 0.0]\n"
     ]
    },
    {
     "name": "stderr",
     "output_type": "stream",
     "text": [
      " 43%|████▎     | 998/2300 [4:10:01<5:18:29, 14.68s/it]"
     ]
    },
    {
     "name": "stdout",
     "output_type": "stream",
     "text": [
      "[34.5132405]\n",
      "[7.28256997]\n",
      "[3.7059612]\n",
      "[0.0, 0.0]\n"
     ]
    },
    {
     "name": "stderr",
     "output_type": "stream",
     "text": [
      " 43%|████▎     | 999/2300 [4:10:15<5:14:37, 14.51s/it]"
     ]
    },
    {
     "name": "stdout",
     "output_type": "stream",
     "text": [
      "[35.27992021]\n",
      "[6.81600609]\n",
      "[3.6139288]\n",
      "[0.0, 0.0]\n"
     ]
    },
    {
     "name": "stderr",
     "output_type": "stream",
     "text": [
      " 43%|████▎     | 1000/2300 [4:10:30<5:15:14, 14.55s/it]"
     ]
    },
    {
     "name": "stdout",
     "output_type": "stream",
     "text": [
      "[-46.57869611]\n",
      "[-26.01404888]\n",
      "[2.4891431]\n",
      "[0.0, 0.0]\n"
     ]
    },
    {
     "name": "stderr",
     "output_type": "stream",
     "text": [
      " 44%|████▎     | 1001/2300 [4:10:44<5:11:49, 14.40s/it]"
     ]
    },
    {
     "name": "stdout",
     "output_type": "stream",
     "text": [
      "[-45.6787808]\n",
      "[-26.31401576]\n",
      "[2.4126492]\n",
      "[0.0, 0.0]\n"
     ]
    },
    {
     "name": "stderr",
     "output_type": "stream",
     "text": [
      " 44%|████▎     | 1002/2300 [4:10:58<5:08:45, 14.27s/it]"
     ]
    },
    {
     "name": "stdout",
     "output_type": "stream",
     "text": [
      "[-44.8123433]\n",
      "[-26.58072341]\n",
      "[2.3872647]\n",
      "[0.0, 0.0]\n"
     ]
    },
    {
     "name": "stderr",
     "output_type": "stream",
     "text": [
      " 44%|████▎     | 1003/2300 [4:11:12<5:06:20, 14.17s/it]"
     ]
    },
    {
     "name": "stdout",
     "output_type": "stream",
     "text": [
      "[-43.91243338]\n",
      "[-26.88069304]\n",
      "[2.375163]\n",
      "[0.0, 0.0]\n"
     ]
    },
    {
     "name": "stderr",
     "output_type": "stream",
     "text": [
      " 44%|████▎     | 1004/2300 [4:11:26<5:05:50, 14.16s/it]"
     ]
    },
    {
     "name": "stdout",
     "output_type": "stream",
     "text": [
      "[-43.07902432]\n",
      "[-27.11393058]\n",
      "[2.3680866]\n",
      "[0.0, 0.0]\n"
     ]
    },
    {
     "name": "stderr",
     "output_type": "stream",
     "text": [
      " 44%|████▎     | 1005/2300 [4:11:40<5:06:14, 14.19s/it]"
     ]
    },
    {
     "name": "stdout",
     "output_type": "stream",
     "text": [
      "[-42.17910409]\n",
      "[-27.41389479]\n",
      "[2.3852954]\n",
      "[0.0, 0.0]\n"
     ]
    },
    {
     "name": "stderr",
     "output_type": "stream",
     "text": [
      " 44%|████▎     | 1006/2300 [4:11:54<5:02:53, 14.04s/it]"
     ]
    },
    {
     "name": "stdout",
     "output_type": "stream",
     "text": [
      "[-41.31270725]\n",
      "[-27.68060883]\n",
      "[2.4262228]\n",
      "[0.0, 0.0]\n"
     ]
    },
    {
     "name": "stderr",
     "output_type": "stream",
     "text": [
      " 44%|████▍     | 1007/2300 [4:12:08<5:03:32, 14.09s/it]"
     ]
    },
    {
     "name": "stdout",
     "output_type": "stream",
     "text": [
      "[-40.37926063]\n",
      "[-27.91382552]\n",
      "[2.4753423]\n",
      "[0.0, 0.0]\n"
     ]
    },
    {
     "name": "stderr",
     "output_type": "stream",
     "text": [
      " 44%|████▍     | 1008/2300 [4:12:23<5:06:16, 14.22s/it]"
     ]
    },
    {
     "name": "stdout",
     "output_type": "stream",
     "text": [
      "[-39.41291818]\n",
      "[-28.18056262]\n",
      "[2.5333645]\n",
      "[0.0, 0.0]\n"
     ]
    },
    {
     "name": "stderr",
     "output_type": "stream",
     "text": [
      " 44%|████▍     | 1009/2300 [4:12:37<5:06:13, 14.23s/it]"
     ]
    },
    {
     "name": "stdout",
     "output_type": "stream",
     "text": [
      "[-38.47942082]\n",
      "[-28.51373978]\n",
      "[2.6165516]\n",
      "[0.0, 0.0]\n"
     ]
    },
    {
     "name": "stderr",
     "output_type": "stream",
     "text": [
      " 44%|████▍     | 1010/2300 [4:12:51<5:04:17, 14.15s/it]"
     ]
    },
    {
     "name": "stdout",
     "output_type": "stream",
     "text": [
      "[-37.41314851]\n",
      "[-28.78050721]\n",
      "[2.7516632]\n",
      "[0.0, 0.0]\n"
     ]
    },
    {
     "name": "stderr",
     "output_type": "stream",
     "text": [
      " 44%|████▍     | 1011/2300 [4:13:07<5:17:03, 14.76s/it]"
     ]
    },
    {
     "name": "stdout",
     "output_type": "stream",
     "text": [
      "[-36.37958148 -30.38033894 -22.98105488]\n",
      "[-29.21362688  21.38127879  27.28070111]\n",
      "[2.9248216 7.287059  7.662031 ]\n",
      "[0.0, 0.0]\n",
      "[0.0, 0.0]\n",
      "[0.0, 0.0]\n"
     ]
    },
    {
     "name": "stderr",
     "output_type": "stream",
     "text": [
      " 44%|████▍     | 1012/2300 [4:13:25<5:33:59, 15.56s/it]"
     ]
    },
    {
     "name": "stdout",
     "output_type": "stream",
     "text": [
      "[-35.21343124 -20.5147025  -30.58031973]\n",
      "[-29.58043411  27.81390737  19.78143717]\n",
      "[2.9809155 6.328019  5.6038675]\n",
      "[0.0, 0.0]\n",
      "[0.0, 0.0]\n",
      "[0.0, 0.0]\n"
     ]
    },
    {
     "name": "stderr",
     "output_type": "stream",
     "text": [
      " 44%|████▍     | 1013/2300 [4:13:41<5:38:33, 15.78s/it]"
     ]
    },
    {
     "name": "stdout",
     "output_type": "stream",
     "text": [
      "[-34.11359149 -18.214934   -30.58031887]\n",
      "[-29.98038825  28.11386513  18.48156574]\n",
      "[2.9168835 5.3543725 4.6834903]\n",
      "[0.0, 0.0]\n",
      "[0.0, 0.0]\n",
      "[0.0, 0.0]\n"
     ]
    },
    {
     "name": "stderr",
     "output_type": "stream",
     "text": [
      " 44%|████▍     | 1014/2300 [4:13:58<5:48:51, 16.28s/it]"
     ]
    },
    {
     "name": "stdout",
     "output_type": "stream",
     "text": [
      "[-33.01387152 -16.01515635 -30.48032785]\n",
      "[-30.38039035  28.31383473  17.28168445]\n",
      "[2.909276  4.8845005 4.1340346]\n",
      "[0.0, 0.0]\n",
      "[0.0, 0.0]\n",
      "[0.0, 0.0]\n"
     ]
    },
    {
     "name": "stderr",
     "output_type": "stream",
     "text": [
      " 44%|████▍     | 1015/2300 [4:14:15<5:50:08, 16.35s/it]"
     ]
    },
    {
     "name": "stdout",
     "output_type": "stream",
     "text": [
      "[-31.9146518  -30.31373986 -13.98196221]\n",
      "[-30.78044906  16.11505472  28.28062543]\n",
      "[2.9303937 3.7842507 4.5681634]\n",
      "[0.0, 0.0]\n",
      "[0.0, 0.0]\n",
      "[0.0, 0.0]\n"
     ]
    },
    {
     "name": "stderr",
     "output_type": "stream",
     "text": [
      " 44%|████▍     | 1016/2300 [4:14:33<6:01:11, 16.88s/it]"
     ]
    },
    {
     "name": "stdout",
     "output_type": "stream",
     "text": [
      "[-30.78246945 -30.08036586 -12.08215653]\n",
      "[-31.21709038  15.08190151  28.28062905]\n",
      "[2.9893916 3.47315   4.058972 ]\n",
      "[0.0, 0.0]\n",
      "[0.0, 0.0]\n",
      "[0.0, 0.0]\n"
     ]
    },
    {
     "name": "stderr",
     "output_type": "stream",
     "text": [
      " 44%|████▍     | 1017/2300 [4:14:51<6:04:46, 17.06s/it]"
     ]
    },
    {
     "name": "stdout",
     "output_type": "stream",
     "text": [
      "[-29.51328443 -29.81378916 -10.28234525]\n",
      "[-31.58026865  14.01526326  28.28063201]\n",
      "[3.2042305 3.141652  3.7385662]\n",
      "[0.0, 0.0]\n",
      "[0.0, 0.0]\n",
      "[0.0, 0.0]\n"
     ]
    },
    {
     "name": "stderr",
     "output_type": "stream",
     "text": [
      " 44%|████▍     | 1018/2300 [4:15:07<5:58:36, 16.78s/it]"
     ]
    },
    {
     "name": "stdout",
     "output_type": "stream",
     "text": [
      "[-28.21362157   3.78310547   6.21590518 -29.48042116  -8.58252283]\n",
      "[-31.98020704  -0.88347979  -1.61654765  13.08209656  28.18064569]\n",
      "[3.2537284 2.7763152 4.317677  2.9133615 3.7187316]\n",
      "[0.0, 0.0]\n",
      "[0.0, 0.0]\n",
      "[0.0, 0.0]\n",
      "[0.0, 0.0]\n",
      "[0.0, 0.0]\n"
     ]
    },
    {
     "name": "stderr",
     "output_type": "stream",
     "text": [
      " 44%|████▍     | 1019/2300 [4:15:24<6:02:23, 16.97s/it]"
     ]
    },
    {
     "name": "stdout",
     "output_type": "stream",
     "text": [
      "[-26.91383196   2.18347044 -29.01386518   8.51577861  -6.88270414]\n",
      "[-32.38015507  -0.48377441  12.11545447  -2.4164327   27.98067024]\n",
      "[3.2090137 1.0094556 2.7581682 2.888803  3.7998118]\n",
      "[0.0, 0.0]\n",
      "[0.0, 0.0]\n",
      "[0.0, 0.0]\n",
      "[0.0, 0.0]\n",
      "[0.0, 0.0]\n"
     ]
    },
    {
     "name": "stderr",
     "output_type": "stream",
     "text": [
      " 44%|████▍     | 1020/2300 [4:15:44<6:23:25, 17.97s/it]"
     ]
    },
    {
     "name": "stdout",
     "output_type": "stream",
     "text": [
      "[-25.51401145  10.28230864   1.18394679 -28.41392193  -5.18288615]\n",
      "[-32.68012848  -3.08304993  -0.28428024  11.21554482  27.78069415]\n",
      "[3.3068168  2.8799465  0.73038614 2.654206   3.6979074 ]\n",
      "[0.0, 0.0]\n",
      "[0.0, 0.0]\n",
      "[0.0, 0.0]\n",
      "[0.0, 0.0]\n",
      "[0.0, 0.0]\n"
     ]
    },
    {
     "name": "stderr",
     "output_type": "stream",
     "text": [
      " 44%|████▍     | 1021/2300 [4:16:03<6:25:09, 18.07s/it]"
     ]
    },
    {
     "name": "stdout",
     "output_type": "stream",
     "text": [
      "[ 11.78214966   0.38537511  -3.51641037 -24.08108984 -27.78058843]\n",
      "[ -3.68296811  -0.08632326  27.51380011 -33.01355472  10.38235465]\n",
      "[2.8744297  0.63275486 3.7121873  3.253369   2.5602179 ]\n",
      "[0.0, 0.0]\n",
      "[0.0, 0.0]\n",
      "[0.0, 0.0]\n",
      "[0.0, 0.0]\n",
      "[0.0, 0.0]\n"
     ]
    },
    {
     "name": "stderr",
     "output_type": "stream",
     "text": [
      " 44%|████▍     | 1022/2300 [4:16:23<6:40:08, 18.79s/it]"
     ]
    },
    {
     "name": "stdout",
     "output_type": "stream",
     "text": [
      "[-22.71433927  -1.81657815  13.21542938  -0.3782305  -26.98067012]\n",
      "[-33.28005733  27.21380952  -4.31620506   0.08542426   9.48243506]\n",
      "[3.1112416 4.0115395 3.1001682 0.6332037 2.565893 ]\n",
      "[0.0, 0.0]\n",
      "[0.0, 0.0]\n",
      "[0.0, 0.0]\n",
      "[0.0, 0.0]\n",
      "[0.0, 0.0]\n"
     ]
    },
    {
     "name": "stderr",
     "output_type": "stream",
     "text": [
      " 44%|████▍     | 1023/2300 [4:16:44<6:54:29, 19.48s/it]"
     ]
    },
    {
     "name": "stdout",
     "output_type": "stream",
     "text": [
      "[ 1.44818701e+01 -2.60141332e+01 -2.13813020e+01 -1.28163680e+00\n",
      "  1.65464061e-02]\n",
      "[ -4.98280741   8.51582311 -33.61345315   0.18392854  26.78079638]\n",
      "[3.0588746  2.6065795  3.1005495  0.77148175 4.387702  ]\n",
      "[0.0, 0.0]\n",
      "[0.0, 0.0]\n",
      "[0.0, 0.0]\n",
      "[0.0, 0.0]\n",
      "[0.0, 0.0]\n"
     ]
    },
    {
     "name": "stderr",
     "output_type": "stream",
     "text": [
      " 45%|████▍     | 1024/2300 [4:17:03<6:48:26, 19.21s/it]"
     ]
    },
    {
     "name": "stdout",
     "output_type": "stream",
     "text": [
      "[-20.01463632  15.58176242  -2.41671951 -10.81558354 -18.28153278\n",
      " -24.88089237   1.91634657]\n",
      "[-33.77999983  -5.58273553   0.41713642   2.31658678   4.18287722\n",
      "   7.5825908   26.28084675]\n",
      "[3.1230116 2.865297  1.2164799 5.408121  2.4534976 2.700206  4.492757 ]\n",
      "[0.0, 0.0]\n",
      "[0.0, 0.0]\n",
      "[0.0, 0.0]\n",
      "[0.0, 0.0]\n",
      "[0.0, 0.0]\n",
      "[0.0, 0.0]\n",
      "[0.0, 0.0]\n"
     ]
    },
    {
     "name": "stderr",
     "output_type": "stream",
     "text": [
      " 45%|████▍     | 1025/2300 [4:17:26<7:14:01, 20.42s/it]"
     ]
    },
    {
     "name": "stdout",
     "output_type": "stream",
     "text": [
      "[-18.5815479   16.51514473 -20.38134381 -23.28106235   3.81615192]\n",
      "[-33.91339826  -6.21601587   4.88280626   6.38268144  25.68090504]\n",
      "[3.1405578 2.7341335 3.2999094 4.059793  4.9347672]\n",
      "[0.0, 0.0]\n",
      "[0.0, 0.0]\n",
      "[0.0, 0.0]\n",
      "[0.0, 0.0]\n",
      "[0.0, 0.0]\n"
     ]
    },
    {
     "name": "stderr",
     "output_type": "stream",
     "text": [
      " 45%|████▍     | 1026/2300 [4:17:46<7:13:04, 20.40s/it]"
     ]
    },
    {
     "name": "stdout",
     "output_type": "stream",
     "text": [
      "[-17.21492472  17.28160214   6.11591882]\n",
      "[-34.07996715  -6.88259598  24.78099227]\n",
      "[3.14972   2.702179  6.4720583]\n",
      "[0.0, 0.0]\n",
      "[0.0, 0.0]\n",
      "[0.0, 0.0]\n"
     ]
    },
    {
     "name": "stderr",
     "output_type": "stream",
     "text": [
      " 45%|████▍     | 1027/2300 [4:18:03<6:47:02, 19.18s/it]"
     ]
    },
    {
     "name": "stdout",
     "output_type": "stream",
     "text": [
      "[-15.8150662   18.01499624   8.81565302]\n",
      "[-34.17995537  -7.51589696  23.78108677]\n",
      "[3.0425985 2.7405708 5.8205633]\n",
      "[0.0, 0.0]\n",
      "[0.0, 0.0]\n",
      "[0.0, 0.0]\n"
     ]
    },
    {
     "name": "stderr",
     "output_type": "stream",
     "text": [
      " 45%|████▍     | 1028/2300 [4:18:19<6:28:51, 18.34s/it]"
     ]
    },
    {
     "name": "stdout",
     "output_type": "stream",
     "text": [
      "[-14.51519886  18.68147595  10.88216963]\n",
      "[-34.27994372  -8.18246427  23.11414914]\n",
      "[2.9301054 2.8438857 4.4984226]\n",
      "[0.0, 0.0]\n",
      "[0.0, 0.0]\n",
      "[0.0, 0.0]\n"
     ]
    },
    {
     "name": "stderr",
     "output_type": "stream",
     "text": [
      " 45%|████▍     | 1029/2300 [4:18:37<6:27:31, 18.29s/it]"
     ]
    },
    {
     "name": "stdout",
     "output_type": "stream",
     "text": [
      "[ 19.28142501 -13.18205175  12.51527796]\n",
      "[ -8.98238611 -34.31333941  22.48123337]\n",
      "[3.0526788 2.892535  4.0075746]\n",
      "[0.0, 0.0]\n",
      "[0.0, 0.0]\n",
      "[0.0, 0.0]\n"
     ]
    },
    {
     "name": "stderr",
     "output_type": "stream",
     "text": [
      " 45%|████▍     | 1030/2300 [4:18:54<6:14:36, 17.70s/it]"
     ]
    },
    {
     "name": "stdout",
     "output_type": "stream",
     "text": [
      "[-11.8154748   19.78138198  14.01514027]\n",
      "[-34.27994177  -9.78231124  21.78133466]\n",
      "[2.9269462 3.3262427 3.9802058]\n",
      "[0.0, 0.0]\n",
      "[0.0, 0.0]\n",
      "[0.0, 0.0]\n"
     ]
    },
    {
     "name": "stderr",
     "output_type": "stream",
     "text": [
      " 45%|████▍     | 1031/2300 [4:19:10<6:06:07, 17.31s/it]"
     ]
    },
    {
     "name": "stdout",
     "output_type": "stream",
     "text": [
      "[-10.48230095  20.31473781  15.51495791]\n",
      "[-34.31332868 -10.61561836  21.18144389]\n",
      "[3.0559895 3.5707908 3.8316145]\n",
      "[0.0, 0.0]\n",
      "[0.0, 0.0]\n",
      "[0.0, 0.0]\n"
     ]
    },
    {
     "name": "stderr",
     "output_type": "stream",
     "text": [
      " 45%|████▍     | 1032/2300 [4:19:28<6:07:38, 17.40s/it]"
     ]
    },
    {
     "name": "stdout",
     "output_type": "stream",
     "text": [
      "[16.8813598  -9.08243103 20.71468775]\n",
      "[ 20.51412028 -34.21333359 -11.51553426]\n",
      "[3.78889   3.1573434 3.582952 ]\n",
      "[0.0, 0.0]\n",
      "[0.0, 0.0]\n",
      "[0.0, 0.0]\n"
     ]
    },
    {
     "name": "stderr",
     "output_type": "stream",
     "text": [
      " 45%|████▍     | 1033/2300 [4:19:44<6:00:18, 17.06s/it]"
     ]
    },
    {
     "name": "stdout",
     "output_type": "stream",
     "text": [
      "[-7.71589034 21.08126671 18.18077773]\n",
      "[-34.17994098 -12.48206481  19.81379957]\n",
      "[3.2360525 4.0215845 3.8891613]\n",
      "[0.0, 0.0]\n",
      "[0.0, 0.0]\n",
      "[0.0, 0.0]\n"
     ]
    },
    {
     "name": "stderr",
     "output_type": "stream",
     "text": [
      " 45%|████▍     | 1034/2300 [4:20:00<5:56:14, 16.88s/it]"
     ]
    },
    {
     "name": "stdout",
     "output_type": "stream",
     "text": [
      "[21.28125002 19.48259972 -6.18269625]\n",
      "[-13.58196309  19.11931087 -34.01334586]\n",
      "[4.460825  4.046338  3.5339913]\n",
      "[0.0, 0.0]\n",
      "[0.0, 0.0]\n",
      "[0.0, 0.0]\n"
     ]
    },
    {
     "name": "stderr",
     "output_type": "stream",
     "text": [
      " 45%|████▌     | 1035/2300 [4:20:18<5:59:49, 17.07s/it]"
     ]
    },
    {
     "name": "stdout",
     "output_type": "stream",
     "text": [
      "[-4.61620154 21.41459194 20.81462714]\n",
      "[-33.87995305 -14.8152192   18.38099465]\n",
      "[4.1058674 4.7939234 4.218353 ]\n",
      "[0.0, 0.0]\n",
      "[0.0, 0.0]\n",
      "[0.0, 0.0]\n"
     ]
    },
    {
     "name": "stderr",
     "output_type": "stream",
     "text": [
      " 45%|████▌     | 1036/2300 [4:20:34<5:56:14, 16.91s/it]"
     ]
    },
    {
     "name": "stdout",
     "output_type": "stream",
     "text": [
      "[-2.58301455 21.31459188 22.01451475]\n",
      "[-33.61337627 -16.11509252  17.58132974]\n",
      "[6.6896696 4.94541   4.099497 ]\n",
      "[0.0, 0.0]\n",
      "[0.0, 0.0]\n",
      "[0.0, 0.0]\n"
     ]
    },
    {
     "name": "stderr",
     "output_type": "stream",
     "text": [
      " 45%|████▌     | 1037/2300 [4:20:53<6:03:32, 17.27s/it]"
     ]
    },
    {
     "name": "stdout",
     "output_type": "stream",
     "text": [
      "[ 1.48319187 21.21458884 23.21436623]\n",
      "[-32.58001494 -17.51495766  16.88148668]\n",
      "[10.573354   4.9999933  4.004357 ]\n",
      "[0.0, 0.0]\n",
      "[0.0, 0.0]\n",
      "[0.0, 0.0]\n"
     ]
    },
    {
     "name": "stderr",
     "output_type": "stream",
     "text": [
      " 45%|████▌     | 1038/2300 [4:21:10<6:05:04, 17.36s/it]"
     ]
    },
    {
     "name": "stdout",
     "output_type": "stream",
     "text": [
      "[ 5.7828176  21.08127837 24.28108969]\n",
      "[-31.38012708 -18.88147602  16.11521126]\n",
      "[11.284009   4.8796544  3.9973662]\n",
      "[0.0, 0.0]\n",
      "[0.0, 0.0]\n",
      "[0.0, 0.0]\n"
     ]
    },
    {
     "name": "stderr",
     "output_type": "stream",
     "text": [
      " 45%|████▌     | 1039/2300 [4:21:26<5:57:26, 17.01s/it]"
     ]
    },
    {
     "name": "stdout",
     "output_type": "stream",
     "text": [
      "[ 9.98243293 20.88130112 25.38095916]\n",
      "[-30.08037362 -20.28134721  15.41525088]\n",
      "[11.463569  5.247461  4.080404]\n",
      "[0.0, 0.0]\n",
      "[0.0, 0.0]\n",
      "[0.0, 0.0]\n"
     ]
    },
    {
     "name": "stderr",
     "output_type": "stream",
     "text": [
      " 45%|████▌     | 1040/2300 [4:21:43<5:53:47, 16.85s/it]"
     ]
    },
    {
     "name": "stdout",
     "output_type": "stream",
     "text": [
      "[13.88202713 26.4808317  20.61461261]\n",
      "[-28.4805605   14.61531307 -21.81454517]\n",
      "[11.514115   4.2255983  6.8639793]\n",
      "[0.0, 0.0]\n",
      "[0.0, 0.0]\n",
      "[0.0, 0.0]\n"
     ]
    },
    {
     "name": "stderr",
     "output_type": "stream",
     "text": [
      " 45%|████▌     | 1041/2300 [4:22:00<5:57:58, 17.06s/it]"
     ]
    },
    {
     "name": "stdout",
     "output_type": "stream",
     "text": [
      "[27.48071818]\n",
      "[13.81538082]\n",
      "[4.4053135]\n",
      "[0.0, 0.0]\n"
     ]
    },
    {
     "name": "stderr",
     "output_type": "stream",
     "text": [
      " 45%|████▌     | 1042/2300 [4:22:16<5:47:17, 16.56s/it]"
     ]
    },
    {
     "name": "stdout",
     "output_type": "stream",
     "text": [
      "[28.58059925]\n",
      "[13.01544515]\n",
      "[4.392351]\n",
      "[0.0, 0.0]\n"
     ]
    },
    {
     "name": "stderr",
     "output_type": "stream",
     "text": [
      " 45%|████▌     | 1043/2300 [4:22:30<5:31:41, 15.83s/it]"
     ]
    },
    {
     "name": "stdout",
     "output_type": "stream",
     "text": [
      "[29.61374333]\n",
      "[12.28206649]\n",
      "[4.2131076]\n",
      "[0.0, 0.0]\n"
     ]
    },
    {
     "name": "stderr",
     "output_type": "stream",
     "text": [
      " 45%|████▌     | 1044/2300 [4:22:45<5:24:42, 15.51s/it]"
     ]
    },
    {
     "name": "stdout",
     "output_type": "stream",
     "text": [
      "[30.51365379]\n",
      "[11.48215252]\n",
      "[4.1071916]\n",
      "[0.0, 0.0]\n"
     ]
    },
    {
     "name": "stderr",
     "output_type": "stream",
     "text": [
      " 45%|████▌     | 1045/2300 [4:22:59<5:16:33, 15.13s/it]"
     ]
    },
    {
     "name": "stdout",
     "output_type": "stream",
     "text": [
      "[31.51354683]\n",
      "[10.88221494]\n",
      "[3.91944]\n",
      "[0.0, 0.0]\n"
     ]
    },
    {
     "name": "stderr",
     "output_type": "stream",
     "text": [
      " 45%|████▌     | 1046/2300 [4:23:13<5:09:00, 14.79s/it]"
     ]
    },
    {
     "name": "stdout",
     "output_type": "stream",
     "text": [
      "[32.38020647]\n",
      "[10.2156801]\n",
      "[3.7102582]\n",
      "[0.0, 0.0]\n"
     ]
    },
    {
     "name": "stderr",
     "output_type": "stream",
     "text": [
      " 46%|████▌     | 1047/2300 [4:23:27<5:04:13, 14.57s/it]"
     ]
    },
    {
     "name": "stdout",
     "output_type": "stream",
     "text": [
      "[33.21337145]\n",
      "[9.68233376]\n",
      "[3.5506697]\n",
      "[0.0, 0.0]\n"
     ]
    },
    {
     "name": "stderr",
     "output_type": "stream",
     "text": [
      " 46%|████▌     | 1048/2300 [4:23:41<5:02:42, 14.51s/it]"
     ]
    },
    {
     "name": "stdout",
     "output_type": "stream",
     "text": [
      "[34.01329184]\n",
      "[9.18238327]\n",
      "[3.449799]\n",
      "[0.0, 0.0]\n"
     ]
    },
    {
     "name": "stderr",
     "output_type": "stream",
     "text": [
      " 46%|████▌     | 1049/2300 [4:23:55<4:58:18, 14.31s/it]"
     ]
    },
    {
     "name": "stdout",
     "output_type": "stream",
     "text": [
      "[34.81321319]\n",
      "[8.68243321]\n",
      "[3.397929]\n",
      "[0.0, 0.0]\n"
     ]
    },
    {
     "name": "stderr",
     "output_type": "stream",
     "text": [
      " 46%|████▌     | 1050/2300 [4:24:09<4:57:28, 14.28s/it]"
     ]
    },
    {
     "name": "stdout",
     "output_type": "stream",
     "text": [
      "[-46.87867041]\n",
      "[-24.91416062]\n",
      "[2.6574428]\n",
      "[0.0, 0.0]\n"
     ]
    },
    {
     "name": "stderr",
     "output_type": "stream",
     "text": [
      " 46%|████▌     | 1051/2300 [4:24:23<4:55:39, 14.20s/it]"
     ]
    },
    {
     "name": "stdout",
     "output_type": "stream",
     "text": [
      "[-45.97875518]\n",
      "[-25.21412743]\n",
      "[2.5957065]\n",
      "[0.0, 0.0]\n"
     ]
    },
    {
     "name": "stderr",
     "output_type": "stream",
     "text": [
      " 46%|████▌     | 1052/2300 [4:24:37<4:54:06, 14.14s/it]"
     ]
    },
    {
     "name": "stdout",
     "output_type": "stream",
     "text": [
      "[-45.07883986]\n",
      "[-25.51409424]\n",
      "[2.5336409]\n",
      "[0.0, 0.0]\n"
     ]
    },
    {
     "name": "stderr",
     "output_type": "stream",
     "text": [
      " 46%|████▌     | 1053/2300 [4:24:52<4:56:24, 14.26s/it]"
     ]
    },
    {
     "name": "stdout",
     "output_type": "stream",
     "text": [
      "[-44.21240239]\n",
      "[-25.78080198]\n",
      "[2.4987016]\n",
      "[0.0, 0.0]\n"
     ]
    },
    {
     "name": "stderr",
     "output_type": "stream",
     "text": [
      " 46%|████▌     | 1054/2300 [4:25:06<4:55:28, 14.23s/it]"
     ]
    },
    {
     "name": "stdout",
     "output_type": "stream",
     "text": [
      "[-43.31249285]\n",
      "[-26.08077059]\n",
      "[2.4494302]\n",
      "[0.0, 0.0]\n"
     ]
    },
    {
     "name": "stderr",
     "output_type": "stream",
     "text": [
      " 46%|████▌     | 1055/2300 [4:25:20<4:54:06, 14.17s/it]"
     ]
    },
    {
     "name": "stdout",
     "output_type": "stream",
     "text": [
      "[-42.47908]\n",
      "[-26.41399777]\n",
      "[2.4204206]\n",
      "[0.0, 0.0]\n"
     ]
    },
    {
     "name": "stderr",
     "output_type": "stream",
     "text": [
      " 46%|████▌     | 1056/2300 [4:25:34<4:54:48, 14.22s/it]"
     ]
    },
    {
     "name": "stdout",
     "output_type": "stream",
     "text": [
      "[-41.5791608]\n",
      "[-26.61397277]\n",
      "[2.4447322]\n",
      "[0.0, 0.0]\n"
     ]
    },
    {
     "name": "stderr",
     "output_type": "stream",
     "text": [
      " 46%|████▌     | 1057/2300 [4:25:48<4:53:14, 14.16s/it]"
     ]
    },
    {
     "name": "stdout",
     "output_type": "stream",
     "text": [
      "[-40.67923922]\n",
      "[-26.91393497]\n",
      "[2.4775357]\n",
      "[0.0, 0.0]\n"
     ]
    },
    {
     "name": "stderr",
     "output_type": "stream",
     "text": [
      " 46%|████▌     | 1058/2300 [4:26:02<4:52:14, 14.12s/it]"
     ]
    },
    {
     "name": "stdout",
     "output_type": "stream",
     "text": [
      "[-39.71287551]\n",
      "[-27.18065682]\n",
      "[2.5322468]\n",
      "[0.0, 0.0]\n"
     ]
    },
    {
     "name": "stderr",
     "output_type": "stream",
     "text": [
      " 46%|████▌     | 1059/2300 [4:26:17<4:51:25, 14.09s/it]"
     ]
    },
    {
     "name": "stdout",
     "output_type": "stream",
     "text": [
      "[-38.77940256]\n",
      "[-27.51385238]\n",
      "[2.593847]\n",
      "[0.0, 0.0]\n"
     ]
    },
    {
     "name": "stderr",
     "output_type": "stream",
     "text": [
      " 46%|████▌     | 1060/2300 [4:26:33<5:04:04, 14.71s/it]"
     ]
    },
    {
     "name": "stdout",
     "output_type": "stream",
     "text": [
      "[-25.1142491  -37.77948615 -31.78020089]\n",
      "[ 27.61393423 -27.81380832  21.88122983]\n",
      "[11.241579   2.6722002  7.579275 ]\n",
      "[0.0, 0.0]\n",
      "[0.0, 0.0]\n",
      "[0.0, 0.0]\n"
     ]
    },
    {
     "name": "stderr",
     "output_type": "stream",
     "text": [
      " 46%|████▌     | 1061/2300 [4:26:50<5:22:16, 15.61s/it]"
     ]
    },
    {
     "name": "stdout",
     "output_type": "stream",
     "text": [
      "[-31.91358037 -22.41451496 -36.67957716]\n",
      "[ 20.31464406  28.31386061 -28.11375899]\n",
      "[5.4916744 5.966194  2.7766993]\n",
      "[0.0, 0.0]\n",
      "[0.0, 0.0]\n",
      "[0.0, 0.0]\n"
     ]
    },
    {
     "name": "stderr",
     "output_type": "stream",
     "text": [
      " 46%|████▌     | 1062/2300 [4:27:07<5:25:13, 15.76s/it]"
     ]
    },
    {
     "name": "stdout",
     "output_type": "stream",
     "text": [
      "[-31.91358116 -20.11474369 -35.67964505]\n",
      "[ 19.01477106  28.7138104  -28.51369439]\n",
      "[4.4991307 5.5073733 2.914109 ]\n",
      "[0.0, 0.0]\n",
      "[0.0, 0.0]\n",
      "[0.0, 0.0]\n"
     ]
    },
    {
     "name": "stderr",
     "output_type": "stream",
     "text": [
      " 46%|████▌     | 1063/2300 [4:27:24<5:35:50, 16.29s/it]"
     ]
    },
    {
     "name": "stdout",
     "output_type": "stream",
     "text": [
      "[-34.57971388 -31.78020029 -17.98156333]\n",
      "[-28.91361818  17.78163512  28.98054473]\n",
      "[2.9950502 4.018011  4.878988 ]\n",
      "[0.0, 0.0]\n",
      "[0.0, 0.0]\n",
      "[0.0, 0.0]\n"
     ]
    },
    {
     "name": "stderr",
     "output_type": "stream",
     "text": [
      " 46%|████▋     | 1064/2300 [4:27:41<5:42:05, 16.61s/it]"
     ]
    },
    {
     "name": "stdout",
     "output_type": "stream",
     "text": [
      "[-33.41366493 -15.91516482 -31.58021873]\n",
      "[-29.28045501  29.1137531   16.68174415]\n",
      "[3.0025234 4.579194  3.76894  ]\n",
      "[0.0, 0.0]\n",
      "[0.0, 0.0]\n",
      "[0.0, 0.0]\n"
     ]
    },
    {
     "name": "stderr",
     "output_type": "stream",
     "text": [
      " 46%|████▋     | 1065/2300 [4:27:58<5:38:59, 16.47s/it]"
     ]
    },
    {
     "name": "stdout",
     "output_type": "stream",
     "text": [
      "[-32.31395461 -31.41363366 -13.98196547]\n",
      "[-29.7803483   15.61510418  29.08054528]\n",
      "[3.0323203 3.4836361 4.3357687]\n",
      "[0.0, 0.0]\n",
      "[0.0, 0.0]\n",
      "[0.0, 0.0]\n"
     ]
    },
    {
     "name": "stderr",
     "output_type": "stream",
     "text": [
      " 46%|████▋     | 1066/2300 [4:28:14<5:39:02, 16.49s/it]"
     ]
    },
    {
     "name": "stdout",
     "output_type": "stream",
     "text": [
      "[-31.11366349 -31.17885162 -12.08215918]\n",
      "[ 14.61520344 -30.21272767  29.08054882]\n",
      "[3.1934688 3.0781367 3.8899581]\n",
      "[0.0, 0.0]\n",
      "[0.0, 0.0]\n",
      "[0.0, 0.0]\n"
     ]
    },
    {
     "name": "stderr",
     "output_type": "stream",
     "text": [
      " 46%|████▋     | 1067/2300 [4:28:30<5:38:22, 16.47s/it]"
     ]
    },
    {
     "name": "stdout",
     "output_type": "stream",
     "text": [
      "[-29.91240903 -30.81369307 -10.41571547]\n",
      "[-30.58071245  13.61530377  29.01372559]\n",
      "[3.206529  2.8866365 3.6214373]\n",
      "[0.0, 0.0]\n",
      "[0.0, 0.0]\n",
      "[0.0, 0.0]\n"
     ]
    },
    {
     "name": "stderr",
     "output_type": "stream",
     "text": [
      " 46%|████▋     | 1068/2300 [4:28:49<5:48:24, 16.97s/it]"
     ]
    },
    {
     "name": "stdout",
     "output_type": "stream",
     "text": [
      "[-28.61343259 -30.4137324   -8.71588456]\n",
      "[-30.98037778  12.71539371  28.91372317]\n",
      "[3.3473213 2.6615245 3.544091 ]\n",
      "[0.0, 0.0]\n",
      "[0.0, 0.0]\n",
      "[0.0, 0.0]\n"
     ]
    },
    {
     "name": "stderr",
     "output_type": "stream",
     "text": [
      " 46%|████▋     | 1069/2300 [4:29:06<5:52:54, 17.20s/it]"
     ]
    },
    {
     "name": "stdout",
     "output_type": "stream",
     "text": [
      "[  7.78258304   2.48335054 -27.28095082 -29.88037703  -7.08268504]\n",
      "[ -2.68314056  -0.88364574 -31.41386117  11.882217    28.78058665]\n",
      "[3.011773  1.2064586 3.3372877 2.55884   3.6034324]\n",
      "[0.0, 0.0]\n",
      "[0.0, 0.0]\n",
      "[0.0, 0.0]\n",
      "[0.0, 0.0]\n",
      "[0.0, 0.0]\n"
     ]
    },
    {
     "name": "stderr",
     "output_type": "stream",
     "text": [
      " 47%|████▋     | 1070/2300 [4:29:25<5:59:56, 17.56s/it]"
     ]
    },
    {
     "name": "stdout",
     "output_type": "stream",
     "text": [
      "[-29.31383948 -25.88099102   9.61569545   1.41524198  -5.38286445]\n",
      "[ 11.01556368 -31.81373704  -3.41632192  -0.61715228  28.58060985]\n",
      "[2.4858067  3.37864    2.8746898  0.80572736 3.573104  ]\n",
      "[0.0, 0.0]\n",
      "[0.0, 0.0]\n",
      "[0.0, 0.0]\n",
      "[0.0, 0.0]\n",
      "[0.0, 0.0]\n"
     ]
    },
    {
     "name": "stderr",
     "output_type": "stream",
     "text": [
      " 47%|████▋     | 1071/2300 [4:29:45<6:17:04, 18.41s/it]"
     ]
    },
    {
     "name": "stdout",
     "output_type": "stream",
     "text": [
      "[ 11.18221454 -28.61390663  -3.81637538 -24.38109195   0.51366953]\n",
      "[ -4.08294592  10.21564401  28.31373383 -32.1136642   -0.41793934]\n",
      "[2.8488812 2.4240842 3.5476575 3.4516475 0.6739131]\n",
      "[0.0, 0.0]\n",
      "[0.0, 0.0]\n",
      "[0.0, 0.0]\n",
      "[0.0, 0.0]\n",
      "[0.0, 0.0]\n"
     ]
    },
    {
     "name": "stderr",
     "output_type": "stream",
     "text": [
      " 47%|████▋     | 1072/2300 [4:30:03<6:14:46, 18.31s/it]"
     ]
    },
    {
     "name": "stdout",
     "output_type": "stream",
     "text": [
      "[-23.01429386  12.48207787  -0.32589228 -27.81398052  -2.18320566]\n",
      "[-32.48013694  -4.78286289  -0.25120497   9.31573701  27.98067116]\n",
      "[3.2794273 2.984606  0.6613404 2.4015589 3.7728527]\n",
      "[0.0, 0.0]\n",
      "[0.0, 0.0]\n",
      "[0.0, 0.0]\n",
      "[0.0, 0.0]\n",
      "[0.0, 0.0]\n"
     ]
    },
    {
     "name": "stderr",
     "output_type": "stream",
     "text": [
      " 47%|████▋     | 1073/2300 [4:30:22<6:14:33, 18.32s/it]"
     ]
    },
    {
     "name": "stdout",
     "output_type": "stream",
     "text": [
      "[ 13.78194461 -26.91405968 -21.58129918  -1.0808379   -0.38339883]\n",
      "[ -5.48277947   8.51581773 -32.71355278  -0.11568867  27.68069888]\n",
      "[3.0470898 2.4417021 3.2814255 0.7484624 4.0894885]\n",
      "[0.0, 0.0]\n",
      "[0.0, 0.0]\n",
      "[0.0, 0.0]\n",
      "[0.0, 0.0]\n",
      "[0.0, 0.0]\n"
     ]
    },
    {
     "name": "stderr",
     "output_type": "stream",
     "text": [
      " 47%|████▋     | 1074/2300 [4:30:42<6:27:22, 18.96s/it]"
     ]
    },
    {
     "name": "stdout",
     "output_type": "stream",
     "text": [
      "[ 14.88183517 -17.61489137   1.38311465 -20.18141393  -2.18212805\n",
      " -11.88205714 -25.88078489]\n",
      "[ -6.18269934   3.61637156  27.21379889 -32.91351427   0.08369281\n",
      "   2.28308288   7.58260889]\n",
      "[2.8733974 2.8511517 4.1856527 3.3221936 1.0896552 4.780719  2.4601736]\n",
      "[0.0, 0.0]\n",
      "[0.0, 0.0]\n",
      "[0.0, 0.0]\n",
      "[0.0, 0.0]\n",
      "[0.0, 0.0]\n",
      "[0.0, 0.0]\n",
      "[0.0, 0.0]\n"
     ]
    },
    {
     "name": "stderr",
     "output_type": "stream",
     "text": [
      " 47%|████▋     | 1075/2300 [4:31:06<6:55:11, 20.34s/it]"
     ]
    },
    {
     "name": "stdout",
     "output_type": "stream",
     "text": [
      "[ 15.78174891  -4.21637303  -6.31607738 -24.51425415   3.18293698\n",
      " -18.78153598 -19.58141877]\n",
      "[ -6.88262443   0.51693845   0.91681596   6.61601907  26.71384242\n",
      " -33.11348201   4.18287177]\n",
      "[2.7393394 4.2973156 5.959469  2.8060124 4.4452686 3.2387476 1.9325308]\n",
      "[0.0, 0.0]\n",
      "[0.0, 0.0]\n",
      "[0.0, 0.0]\n",
      "[0.0, 0.0]\n",
      "[0.0, 0.0]\n",
      "[0.0, 0.0]\n",
      "[0.0, 0.0]\n"
     ]
    },
    {
     "name": "stderr",
     "output_type": "stream",
     "text": [
      " 47%|████▋     | 1076/2300 [4:31:25<6:47:22, 19.97s/it]"
     ]
    },
    {
     "name": "stdout",
     "output_type": "stream",
     "text": [
      "[ 16.58167382 -17.38166363   5.21603204]\n",
      "[ -7.58255067 -33.31345446  26.08085898]\n",
      "[2.7136052 3.2514594 5.6185637]\n",
      "[0.0, 0.0]\n",
      "[0.0, 0.0]\n",
      "[0.0, 0.0]\n"
     ]
    },
    {
     "name": "stderr",
     "output_type": "stream",
     "text": [
      " 47%|████▋     | 1077/2300 [4:31:44<6:41:18, 19.69s/it]"
     ]
    },
    {
     "name": "stdout",
     "output_type": "stream",
     "text": [
      "[-15.91505488  17.28160921   7.88247876]\n",
      "[-33.38003733  -8.28247835  25.01400138]\n",
      "[3.1899614 2.7793422 7.2759156]\n",
      "[0.0, 0.0]\n",
      "[0.0, 0.0]\n",
      "[0.0, 0.0]\n"
     ]
    },
    {
     "name": "stderr",
     "output_type": "stream",
     "text": [
      " 47%|████▋     | 1078/2300 [4:32:00<6:20:49, 18.70s/it]"
     ]
    },
    {
     "name": "stdout",
     "output_type": "stream",
     "text": [
      "[-14.58192545  17.9149782   10.21553317]\n",
      "[-33.51342581  -9.01575827  24.18104751]\n",
      "[3.092799  2.890561  4.8422403]\n",
      "[0.0, 0.0]\n",
      "[0.0, 0.0]\n",
      "[0.0, 0.0]\n"
     ]
    },
    {
     "name": "stderr",
     "output_type": "stream",
     "text": [
      " 47%|████▋     | 1079/2300 [4:32:18<6:14:11, 18.39s/it]"
     ]
    },
    {
     "name": "stdout",
     "output_type": "stream",
     "text": [
      "[-13.21533047  18.48150349  11.91535962]\n",
      "[-33.58001403  -9.78232753  23.58111304]\n",
      "[3.0469549 3.0081782 3.9900303]\n",
      "[0.0, 0.0]\n",
      "[0.0, 0.0]\n",
      "[0.0, 0.0]\n"
     ]
    },
    {
     "name": "stderr",
     "output_type": "stream",
     "text": [
      " 47%|████▋     | 1080/2300 [4:32:35<6:08:48, 18.14s/it]"
     ]
    },
    {
     "name": "stdout",
     "output_type": "stream",
     "text": [
      "[-11.81547387  18.981459    13.41521466]\n",
      "[-33.58001175 -10.58225175  22.98118876]\n",
      "[3.05991   3.0724359 3.7634578]\n",
      "[0.0, 0.0]\n",
      "[0.0, 0.0]\n",
      "[0.0, 0.0]\n"
     ]
    },
    {
     "name": "stderr",
     "output_type": "stream",
     "text": [
      " 47%|████▋     | 1081/2300 [4:32:51<5:55:52, 17.52s/it]"
     ]
    },
    {
     "name": "stdout",
     "output_type": "stream",
     "text": [
      "[ 19.38142429  14.8817199  -10.38231299]\n",
      "[-11.48216707  22.41417535 -33.51340706]\n",
      "[3.7631078 3.7209363 3.163409 ]\n",
      "[0.0, 0.0]\n",
      "[0.0, 0.0]\n",
      "[0.0, 0.0]\n"
     ]
    },
    {
     "name": "stderr",
     "output_type": "stream",
     "text": [
      " 47%|████▋     | 1082/2300 [4:33:08<5:51:56, 17.34s/it]"
     ]
    },
    {
     "name": "stdout",
     "output_type": "stream",
     "text": [
      "[19.78138877 -8.9824414  16.21492475]\n",
      "[-12.48207277 -33.41341157  21.78138614]\n",
      "[3.7093832 3.2706046 3.631675 ]\n",
      "[0.0, 0.0]\n",
      "[0.0, 0.0]\n",
      "[0.0, 0.0]\n"
     ]
    },
    {
     "name": "stderr",
     "output_type": "stream",
     "text": [
      " 47%|████▋     | 1083/2300 [4:33:26<5:52:08, 17.36s/it]"
     ]
    },
    {
     "name": "stdout",
     "output_type": "stream",
     "text": [
      "[17.58129194 -7.48257859 20.01473606]\n",
      "[ 21.21405059 -33.31341621 -13.51533989]\n",
      "[3.5810769 3.4365852 3.9100885]\n",
      "[0.0, 0.0]\n",
      "[0.0, 0.0]\n",
      "[0.0, 0.0]\n"
     ]
    },
    {
     "name": "stderr",
     "output_type": "stream",
     "text": [
      " 47%|████▋     | 1084/2300 [4:33:42<5:46:12, 17.08s/it]"
     ]
    },
    {
     "name": "stdout",
     "output_type": "stream",
     "text": [
      "[-6.016063   20.08136596 18.78077598]\n",
      "[-33.18003133 -14.68186678  20.51389166]\n",
      "[3.7386882 4.1627975 3.5841465]\n",
      "[0.0, 0.0]\n",
      "[0.0, 0.0]\n",
      "[0.0, 0.0]\n"
     ]
    },
    {
     "name": "stderr",
     "output_type": "stream",
     "text": [
      " 47%|████▋     | 1085/2300 [4:34:00<5:51:09, 17.34s/it]"
     ]
    },
    {
     "name": "stdout",
     "output_type": "stream",
     "text": [
      "[20.08103114 -4.38285434 20.11470751]\n",
      "[ 19.91283292 -33.01343721 -15.91510846]\n",
      "[3.6902459 4.586155  4.3828015]\n",
      "[0.0, 0.0]\n",
      "[0.0, 0.0]\n",
      "[0.0, 0.0]\n"
     ]
    },
    {
     "name": "stderr",
     "output_type": "stream",
     "text": [
      " 47%|████▋     | 1086/2300 [4:34:18<5:52:41, 17.43s/it]"
     ]
    },
    {
     "name": "stdout",
     "output_type": "stream",
     "text": [
      "[-1.91647685 19.98137736 21.31460193]\n",
      "[-32.48006367 -17.18164213  19.180839  ]\n",
      "[11.234006   4.3374357  3.8577642]\n",
      "[0.0, 0.0]\n",
      "[0.0, 0.0]\n",
      "[0.0, 0.0]\n"
     ]
    },
    {
     "name": "stderr",
     "output_type": "stream",
     "text": [
      " 47%|████▋     | 1087/2300 [4:34:34<5:44:18, 17.03s/it]"
     ]
    },
    {
     "name": "stdout",
     "output_type": "stream",
     "text": [
      "[ 2.51656254 19.91470379 22.51444026]\n",
      "[-31.41358997 -18.41486638  18.48121212]\n",
      "[10.190669   4.6541157  3.7744133]\n",
      "[0.0, 0.0]\n",
      "[0.0, 0.0]\n",
      "[0.0, 0.0]\n"
     ]
    },
    {
     "name": "stderr",
     "output_type": "stream",
     "text": [
      " 47%|████▋     | 1088/2300 [4:34:50<5:40:13, 16.84s/it]"
     ]
    },
    {
     "name": "stdout",
     "output_type": "stream",
     "text": [
      "[ 6.98272527 19.71470779 23.61433644]\n",
      "[-30.18029745 -19.81473344  17.78138432]\n",
      "[11.601744   5.1764946  3.7066386]\n",
      "[0.0, 0.0]\n",
      "[0.0, 0.0]\n",
      "[0.0, 0.0]\n"
     ]
    },
    {
     "name": "stderr",
     "output_type": "stream",
     "text": [
      " 47%|████▋     | 1089/2300 [4:35:08<5:47:20, 17.21s/it]"
     ]
    },
    {
     "name": "stdout",
     "output_type": "stream",
     "text": [
      "[24.68105831 11.7154142  19.31472861]\n",
      "[ 17.11511856 -28.41394486 -21.41458252]\n",
      "[ 3.6778724 14.0248165  7.472099 ]\n",
      "[0.0, 0.0]\n",
      "[0.0, 0.0]\n",
      "[0.0, 0.0]\n"
     ]
    },
    {
     "name": "stderr",
     "output_type": "stream",
     "text": [
      " 47%|████▋     | 1090/2300 [4:35:25<5:42:20, 16.98s/it]"
     ]
    },
    {
     "name": "stdout",
     "output_type": "stream",
     "text": [
      "[25.7141232]\n",
      "[16.48159017]\n",
      "[3.6888118]\n",
      "[0.0, 0.0]\n"
     ]
    },
    {
     "name": "stderr",
     "output_type": "stream",
     "text": [
      " 47%|████▋     | 1091/2300 [4:35:41<5:38:34, 16.80s/it]"
     ]
    },
    {
     "name": "stdout",
     "output_type": "stream",
     "text": [
      "[26.78080781]\n",
      "[15.81519648]\n",
      "[3.8251398]\n",
      "[0.0, 0.0]\n"
     ]
    },
    {
     "name": "stderr",
     "output_type": "stream",
     "text": [
      " 47%|████▋     | 1092/2300 [4:35:55<5:21:36, 15.97s/it]"
     ]
    },
    {
     "name": "stdout",
     "output_type": "stream",
     "text": [
      "[27.81391921]\n",
      "[15.08176414]\n",
      "[3.9990504]\n",
      "[0.0, 0.0]\n"
     ]
    },
    {
     "name": "stderr",
     "output_type": "stream",
     "text": [
      " 48%|████▊     | 1093/2300 [4:36:09<5:10:10, 15.42s/it]"
     ]
    },
    {
     "name": "stdout",
     "output_type": "stream",
     "text": [
      "[28.78058521]\n",
      "[14.31532243]\n",
      "[4.095218]\n",
      "[0.0, 0.0]\n"
     ]
    },
    {
     "name": "stderr",
     "output_type": "stream",
     "text": [
      " 48%|████▊     | 1094/2300 [4:36:24<5:03:20, 15.09s/it]"
     ]
    },
    {
     "name": "stdout",
     "output_type": "stream",
     "text": [
      "[29.78047779]\n",
      "[13.51539139]\n",
      "[4.124867]\n",
      "[0.0, 0.0]\n"
     ]
    },
    {
     "name": "stderr",
     "output_type": "stream",
     "text": [
      " 48%|████▊     | 1095/2300 [4:36:38<4:56:10, 14.75s/it]"
     ]
    },
    {
     "name": "stdout",
     "output_type": "stream",
     "text": [
      "[30.78037299]\n",
      "[12.81544936]\n",
      "[3.9625]\n",
      "[0.0, 0.0]\n"
     ]
    },
    {
     "name": "stderr",
     "output_type": "stream",
     "text": [
      " 48%|████▊     | 1096/2300 [4:36:52<4:52:09, 14.56s/it]"
     ]
    },
    {
     "name": "stdout",
     "output_type": "stream",
     "text": [
      "[31.68027964]\n",
      "[12.11550953]\n",
      "[3.7733064]\n",
      "[0.0, 0.0]\n"
     ]
    },
    {
     "name": "stderr",
     "output_type": "stream",
     "text": [
      " 48%|████▊     | 1097/2300 [4:37:06<4:52:56, 14.61s/it]"
     ]
    },
    {
     "name": "stdout",
     "output_type": "stream",
     "text": [
      "[32.61343889]\n",
      "[11.48215457]\n",
      "[3.6615994]\n",
      "[0.0, 0.0]\n"
     ]
    },
    {
     "name": "stderr",
     "output_type": "stream",
     "text": [
      " 48%|████▊     | 1098/2300 [4:37:21<4:49:43, 14.46s/it]"
     ]
    },
    {
     "name": "stdout",
     "output_type": "stream",
     "text": [
      "[33.48009966]\n",
      "[10.91561388]\n",
      "[3.444395]\n",
      "[0.0, 0.0]\n"
     ]
    },
    {
     "name": "stderr",
     "output_type": "stream",
     "text": [
      " 48%|████▊     | 1099/2300 [4:37:35<4:46:53, 14.33s/it]"
     ]
    },
    {
     "name": "stdout",
     "output_type": "stream",
     "text": [
      "[34.28001968]\n",
      "[10.41565963]\n",
      "[3.2860017]\n",
      "[0.0, 0.0]\n"
     ]
    },
    {
     "name": "stderr",
     "output_type": "stream",
     "text": [
      " 48%|████▊     | 1100/2300 [4:37:49<4:46:09, 14.31s/it]"
     ]
    },
    {
     "name": "stdout",
     "output_type": "stream",
     "text": [
      "[-47.17864438]\n",
      "[-23.7142812]\n",
      "[2.716343]\n",
      "[0.0, 0.0]\n"
     ]
    },
    {
     "name": "stderr",
     "output_type": "stream",
     "text": [
      " 48%|████▊     | 1101/2300 [4:38:03<4:43:46, 14.20s/it]"
     ]
    },
    {
     "name": "stdout",
     "output_type": "stream",
     "text": [
      "[-46.27872971]\n",
      "[-24.01424903]\n",
      "[2.7602394]\n",
      "[0.0, 0.0]\n"
     ]
    },
    {
     "name": "stderr",
     "output_type": "stream",
     "text": [
      " 48%|████▊     | 1102/2300 [4:38:17<4:43:18, 14.19s/it]"
     ]
    },
    {
     "name": "stdout",
     "output_type": "stream",
     "text": [
      "[-45.41227798]\n",
      "[-24.38093963]\n",
      "[2.6901996]\n",
      "[0.0, 0.0]\n"
     ]
    },
    {
     "name": "stderr",
     "output_type": "stream",
     "text": [
      " 48%|████▊     | 1103/2300 [4:38:31<4:41:51, 14.13s/it]"
     ]
    },
    {
     "name": "stdout",
     "output_type": "stream",
     "text": [
      "[-44.51237012]\n",
      "[-24.6809102]\n",
      "[2.6367846]\n",
      "[0.0, 0.0]\n"
     ]
    },
    {
     "name": "stderr",
     "output_type": "stream",
     "text": [
      " 48%|████▊     | 1104/2300 [4:38:45<4:40:36, 14.08s/it]"
     ]
    },
    {
     "name": "stdout",
     "output_type": "stream",
     "text": [
      "[-43.6124615]\n",
      "[-24.98087985]\n",
      "[2.60434]\n",
      "[0.0, 0.0]\n"
     ]
    },
    {
     "name": "stderr",
     "output_type": "stream",
     "text": [
      " 48%|████▊     | 1105/2300 [4:38:59<4:41:14, 14.12s/it]"
     ]
    },
    {
     "name": "stdout",
     "output_type": "stream",
     "text": [
      "[-42.71255275]\n",
      "[-25.28084793]\n",
      "[2.5681765]\n",
      "[0.0, 0.0]\n"
     ]
    },
    {
     "name": "stderr",
     "output_type": "stream",
     "text": [
      " 48%|████▊     | 1106/2300 [4:39:13<4:42:47, 14.21s/it]"
     ]
    },
    {
     "name": "stdout",
     "output_type": "stream",
     "text": [
      "[-41.81264468]\n",
      "[-25.58081514]\n",
      "[2.5394945]\n",
      "[0.0, 0.0]\n"
     ]
    },
    {
     "name": "stderr",
     "output_type": "stream",
     "text": [
      " 48%|████▊     | 1107/2300 [4:39:28<4:42:14, 14.19s/it]"
     ]
    },
    {
     "name": "stdout",
     "output_type": "stream",
     "text": [
      "[-40.91273838]\n",
      "[-25.88078306]\n",
      "[2.5195124]\n",
      "[0.0, 0.0]\n"
     ]
    },
    {
     "name": "stderr",
     "output_type": "stream",
     "text": [
      " 48%|████▊     | 1108/2300 [4:39:42<4:41:19, 14.16s/it]"
     ]
    },
    {
     "name": "stdout",
     "output_type": "stream",
     "text": [
      "[-40.01283483]\n",
      "[-26.18075193]\n",
      "[2.5422812]\n",
      "[0.0, 0.0]\n"
     ]
    },
    {
     "name": "stderr",
     "output_type": "stream",
     "text": [
      " 48%|████▊     | 1109/2300 [4:39:57<4:47:25, 14.48s/it]"
     ]
    },
    {
     "name": "stdout",
     "output_type": "stream",
     "text": [
      "[-39.11293392 -33.18006313 -27.48061741]\n",
      "[-26.48072183  22.28119063  27.7806548 ]\n",
      "[ 2.6045222  8.014504  12.08248  ]\n",
      "[0.0, 0.0]\n",
      "[0.0, 0.0]\n",
      "[0.0, 0.0]\n"
     ]
    },
    {
     "name": "stderr",
     "output_type": "stream",
     "text": [
      " 48%|████▊     | 1110/2300 [4:40:14<5:04:26, 15.35s/it]"
     ]
    },
    {
     "name": "stdout",
     "output_type": "stream",
     "text": [
      "[-38.1130448  -33.28005376 -24.28093128]\n",
      "[-26.78069333  20.78133873  28.88054995]\n",
      "[2.6715226 5.43789   6.664487 ]\n",
      "[0.0, 0.0]\n",
      "[0.0, 0.0]\n",
      "[0.0, 0.0]\n"
     ]
    },
    {
     "name": "stderr",
     "output_type": "stream",
     "text": [
      " 48%|████▊     | 1111/2300 [4:40:31<5:09:18, 15.61s/it]"
     ]
    },
    {
     "name": "stdout",
     "output_type": "stream",
     "text": [
      "[-22.01455696 -37.07955047 -33.18006343]\n",
      "[ 29.3137528  -27.11387607  19.48146731]\n",
      "[5.210156  2.7256253 4.4711194]\n",
      "[0.0, 0.0]\n",
      "[0.0, 0.0]\n",
      "[0.0, 0.0]\n"
     ]
    },
    {
     "name": "stderr",
     "output_type": "stream",
     "text": [
      " 48%|████▊     | 1112/2300 [4:40:47<5:13:53, 15.85s/it]"
     ]
    },
    {
     "name": "stdout",
     "output_type": "stream",
     "text": [
      "[-36.01328766 -33.08007225 -19.88137764]\n",
      "[-27.48062271  18.2815858   29.58048339]\n",
      "[2.8200974 3.9939249 4.9426494]\n",
      "[0.0, 0.0]\n",
      "[0.0, 0.0]\n",
      "[0.0, 0.0]\n"
     ]
    },
    {
     "name": "stderr",
     "output_type": "stream",
     "text": [
      " 48%|████▊     | 1113/2300 [4:41:05<5:24:19, 16.39s/it]"
     ]
    },
    {
     "name": "stdout",
     "output_type": "stream",
     "text": [
      "[-17.8149746  -34.97970709 -32.88009061]\n",
      "[ 29.81368852 -27.81376282  17.18169459]\n",
      "[4.551596  2.9413407 3.7716022]\n",
      "[0.0, 0.0]\n",
      "[0.0, 0.0]\n",
      "[0.0, 0.0]\n"
     ]
    },
    {
     "name": "stderr",
     "output_type": "stream",
     "text": [
      " 48%|████▊     | 1114/2300 [4:41:21<5:24:04, 16.40s/it]"
     ]
    },
    {
     "name": "stdout",
     "output_type": "stream",
     "text": [
      "[-33.87977173 -32.68010819 -15.88177802]\n",
      "[-28.21368779  16.08180402  29.88046098]\n",
      "[3.036954  3.4839566 4.335479 ]\n",
      "[0.0, 0.0]\n",
      "[0.0, 0.0]\n",
      "[0.0, 0.0]\n"
     ]
    },
    {
     "name": "stderr",
     "output_type": "stream",
     "text": [
      " 48%|████▊     | 1115/2300 [4:41:37<5:23:43, 16.39s/it]"
     ]
    },
    {
     "name": "stdout",
     "output_type": "stream",
     "text": [
      "[-32.71374731 -32.41353692 -13.9819684 ]\n",
      "[-28.68047026  15.11515487  29.88046533]\n",
      "[3.0857458 3.1975913 4.1360087]\n",
      "[0.0, 0.0]\n",
      "[0.0, 0.0]\n",
      "[0.0, 0.0]\n"
     ]
    },
    {
     "name": "stderr",
     "output_type": "stream",
     "text": [
      " 49%|████▊     | 1116/2300 [4:41:55<5:30:52, 16.77s/it]"
     ]
    },
    {
     "name": "stdout",
     "output_type": "stream",
     "text": [
      "[-12.11554483 -31.5796685  -32.08016359]\n",
      "[ 29.91365127 -29.11338025  14.18199277]\n",
      "[3.7521133 3.1736903 2.9403763]\n",
      "[0.0, 0.0]\n",
      "[0.0, 0.0]\n",
      "[0.0, 0.0]\n"
     ]
    },
    {
     "name": "stderr",
     "output_type": "stream",
     "text": [
      " 49%|████▊     | 1117/2300 [4:42:11<5:27:41, 16.62s/it]"
     ]
    },
    {
     "name": "stdout",
     "output_type": "stream",
     "text": [
      "[-31.7136064  -30.37878698 -10.4823312 ]\n",
      "[ 13.21534446 -29.51267106  29.78048004]\n",
      "[2.7105854 3.285259  3.5111341]\n",
      "[0.0, 0.0]\n",
      "[0.0, 0.0]\n",
      "[0.0, 0.0]\n"
     ]
    },
    {
     "name": "stderr",
     "output_type": "stream",
     "text": [
      " 49%|████▊     | 1118/2300 [4:42:28<5:26:19, 16.56s/it]"
     ]
    },
    {
     "name": "stdout",
     "output_type": "stream",
     "text": [
      "[-31.2136565  -29.08182109  -8.88249907]\n",
      "[ 12.41542407 -30.01514252  29.68049073]\n",
      "[2.536693  3.4140599 3.4078684]\n",
      "[0.0, 0.0]\n",
      "[0.0, 0.0]\n",
      "[0.0, 0.0]\n"
     ]
    },
    {
     "name": "stderr",
     "output_type": "stream",
     "text": [
      " 49%|████▊     | 1119/2300 [4:42:45<5:31:24, 16.84s/it]"
     ]
    },
    {
     "name": "stdout",
     "output_type": "stream",
     "text": [
      "[-27.68112622   6.91586118   2.9158605  -30.68029466  -7.28266552]\n",
      "[-30.41410289  -2.81642052  -1.31672875  11.58224973  29.48051396]\n",
      "[3.4932632 3.3313549 1.6543452 2.4193845 3.460507 ]\n",
      "[0.0, 0.0]\n",
      "[0.0, 0.0]\n",
      "[0.0, 0.0]\n",
      "[0.0, 0.0]\n",
      "[0.0, 0.0]\n"
     ]
    },
    {
     "name": "stderr",
     "output_type": "stream",
     "text": [
      " 49%|████▊     | 1120/2300 [4:43:04<5:39:57, 17.29s/it]"
     ]
    },
    {
     "name": "stdout",
     "output_type": "stream",
     "text": [
      "[  8.88246075   1.68354493 -30.11376548 -26.28104186  -5.58284271]\n",
      "[ -3.68302623  -0.9838047   10.71559363 -30.81389387  29.38052649]\n",
      "[2.899603   0.92243874 2.3662138  3.484777   3.4255142 ]\n",
      "[0.0, 0.0]\n",
      "[0.0, 0.0]\n",
      "[0.0, 0.0]\n",
      "[0.0, 0.0]\n",
      "[0.0, 0.0]\n"
     ]
    },
    {
     "name": "stderr",
     "output_type": "stream",
     "text": [
      " 49%|████▊     | 1121/2300 [4:43:25<6:02:12, 18.43s/it]"
     ]
    },
    {
     "name": "stdout",
     "output_type": "stream",
     "text": [
      "[ 10.48229027   0.68403084 -29.4138339  -24.78109249  -4.08299924]\n",
      "[ -4.38293214  -0.78429126   9.91567379 -31.21378204  29.08055847]\n",
      "[2.8802223 0.7404256 2.330882  3.566999  3.408911 ]\n",
      "[0.0, 0.0]\n",
      "[0.0, 0.0]\n",
      "[0.0, 0.0]\n",
      "[0.0, 0.0]\n",
      "[0.0, 0.0]\n"
     ]
    },
    {
     "name": "stderr",
     "output_type": "stream",
     "text": [
      " 49%|████▉     | 1122/2300 [4:43:45<6:12:44, 18.98s/it]"
     ]
    },
    {
     "name": "stdout",
     "output_type": "stream",
     "text": [
      "[-23.31424455  11.78215232  -0.11447233 -28.68048661  -2.48316616]\n",
      "[-31.58023409  -5.1828399   -0.58625675   9.18248445  28.88057826]\n",
      "[3.4955406  2.9278147  0.69733346 2.317817   3.58176   ]\n",
      "[0.0, 0.0]\n",
      "[0.0, 0.0]\n",
      "[0.0, 0.0]\n",
      "[0.0, 0.0]\n",
      "[0.0, 0.0]\n"
     ]
    },
    {
     "name": "stderr",
     "output_type": "stream",
     "text": [
      " 49%|████▉     | 1123/2300 [4:44:03<6:07:55, 18.76s/it]"
     ]
    },
    {
     "name": "stdout",
     "output_type": "stream",
     "text": [
      "[-21.81442119  13.08201878  -0.91900765 -27.7805787   -0.78334619]\n",
      "[-31.88020105  -5.88275723  -0.38049544   8.38255846  28.580604  ]\n",
      "[3.5023174  3.0262384  0.74956053 2.3142385  3.8208203 ]\n",
      "[0.0, 0.0]\n",
      "[0.0, 0.0]\n",
      "[0.0, 0.0]\n",
      "[0.0, 0.0]\n",
      "[0.0, 0.0]\n"
     ]
    },
    {
     "name": "stderr",
     "output_type": "stream",
     "text": [
      " 49%|████▉     | 1124/2300 [4:44:24<6:17:39, 19.27s/it]"
     ]
    },
    {
     "name": "stdout",
     "output_type": "stream",
     "text": [
      "[-13.11534671 -26.71408118 -20.38140839  14.21531651  -1.98182633\n",
      " -16.78166725   1.0164661 ]\n",
      "[  2.21657      7.51591528 -32.11360227  -6.61598336  -0.21613799\n",
      "   3.08298343  28.18064252]\n",
      "[5.58867   2.3525696 3.4859495 2.9325275 1.016287  4.0220656 3.977713 ]\n",
      "[0.0, 0.0]\n",
      "[0.0, 0.0]\n",
      "[0.0, 0.0]\n",
      "[0.0, 0.0]\n",
      "[0.0, 0.0]\n",
      "[0.0, 0.0]\n",
      "[0.0, 0.0]\n"
     ]
    },
    {
     "name": "stderr",
     "output_type": "stream",
     "text": [
      " 49%|████▉     | 1125/2300 [4:44:45<6:31:20, 19.98s/it]"
     ]
    },
    {
     "name": "stdout",
     "output_type": "stream",
     "text": [
      "[-18.91474338  -3.61650217  -7.51593733   2.68299216  15.11523464\n",
      " -19.08146375 -25.4808262 ]\n",
      "[-3.22801533e+01  1.70648640e-02  9.16795393e-01  2.77137658e+01\n",
      " -7.41590584e+00  3.68291989e+00  6.68269372e+00]\n",
      "[3.3447447 2.348402  4.715122  4.092007  2.813441  1.541143  2.4137836]\n",
      "[0.0, 0.0]\n",
      "[0.0, 0.0]\n",
      "[0.0, 0.0]\n",
      "[0.0, 0.0]\n",
      "[0.0, 0.0]\n",
      "[0.0, 0.0]\n",
      "[0.0, 0.0]\n"
     ]
    },
    {
     "name": "stderr",
     "output_type": "stream",
     "text": [
      " 49%|████▉     | 1126/2300 [4:45:06<6:38:01, 20.34s/it]"
     ]
    },
    {
     "name": "stdout",
     "output_type": "stream",
     "text": [
      "[-17.48166306  15.91515929 -20.88130067 -23.7810148    4.5161175 ]\n",
      "[-32.4135462   -8.1158398    4.28285938   5.58276509  27.18074546]\n",
      "[3.345561  2.783043  2.7311213 3.7821643 4.7834067]\n",
      "[0.0, 0.0]\n",
      "[0.0, 0.0]\n",
      "[0.0, 0.0]\n",
      "[0.0, 0.0]\n",
      "[0.0, 0.0]\n"
     ]
    },
    {
     "name": "stderr",
     "output_type": "stream",
     "text": [
      " 49%|████▉     | 1127/2300 [4:45:26<6:33:00, 20.10s/it]"
     ]
    },
    {
     "name": "stdout",
     "output_type": "stream",
     "text": [
      "[  6.68259943 -16.0817904   16.51509885]\n",
      "[ 26.41388716 -32.61352021  -8.91576538]\n",
      "[7.132529  3.3325336 2.8453028]\n",
      "[0.0, 0.0]\n",
      "[0.0, 0.0]\n",
      "[0.0, 0.0]\n"
     ]
    },
    {
     "name": "stderr",
     "output_type": "stream",
     "text": [
      " 49%|████▉     | 1128/2300 [4:45:42<6:09:50, 18.93s/it]"
     ]
    },
    {
     "name": "stdout",
     "output_type": "stream",
     "text": [
      "[-14.61518544   9.48232331  17.11503722]\n",
      "[-32.6801084   25.31399055  -9.71569108]\n",
      "[3.2834778 5.484228  2.923848 ]\n",
      "[0.0, 0.0]\n",
      "[0.0, 0.0]\n",
      "[0.0, 0.0]\n"
     ]
    },
    {
     "name": "stderr",
     "output_type": "stream",
     "text": [
      " 49%|████▉     | 1129/2300 [4:45:59<5:55:12, 18.20s/it]"
     ]
    },
    {
     "name": "stdout",
     "output_type": "stream",
     "text": [
      "[-13.21532909  17.61498279  11.31543723]\n",
      "[-32.78009607 -10.51561758  24.68099698]\n",
      "[3.222107  3.0019014 4.2659426]\n",
      "[0.0, 0.0]\n",
      "[0.0, 0.0]\n",
      "[0.0, 0.0]\n"
     ]
    },
    {
     "name": "stderr",
     "output_type": "stream",
     "text": [
      " 49%|████▉     | 1130/2300 [4:46:16<5:51:09, 18.01s/it]"
     ]
    },
    {
     "name": "stdout",
     "output_type": "stream",
     "text": [
      "[-11.81547329  18.0815476   12.88197128]\n",
      "[-32.78009332 -11.3821895   24.1140811 ]\n",
      "[3.2457178 3.1953216 3.6265237]\n",
      "[0.0, 0.0]\n",
      "[0.0, 0.0]\n",
      "[0.0, 0.0]\n"
     ]
    },
    {
     "name": "stderr",
     "output_type": "stream",
     "text": [
      " 49%|████▉     | 1131/2300 [4:46:32<5:39:22, 17.42s/it]"
     ]
    },
    {
     "name": "stdout",
     "output_type": "stream",
     "text": [
      "[ 14.28181177 -10.3823159   18.51488458]\n",
      "[ 23.61410681 -32.71348589 -12.31545014]\n",
      "[3.5284865 3.2896917 3.4906483]\n",
      "[0.0, 0.0]\n",
      "[0.0, 0.0]\n",
      "[0.0, 0.0]\n"
     ]
    },
    {
     "name": "stderr",
     "output_type": "stream",
     "text": [
      " 49%|████▉     | 1132/2300 [4:46:49<5:34:13, 17.17s/it]"
     ]
    },
    {
     "name": "stdout",
     "output_type": "stream",
     "text": [
      "[18.68149676 -8.88245274 15.61501379]\n",
      "[-13.38199897 -32.61348931  22.98122462]\n",
      "[3.6378076 3.42102   3.5432436]\n",
      "[0.0, 0.0]\n",
      "[0.0, 0.0]\n",
      "[0.0, 0.0]\n"
     ]
    },
    {
     "name": "stderr",
     "output_type": "stream",
     "text": [
      " 49%|████▉     | 1133/2300 [4:47:07<5:36:38, 17.31s/it]"
     ]
    },
    {
     "name": "stdout",
     "output_type": "stream",
     "text": [
      "[16.98145665 -7.38258759 18.91483039]\n",
      "[ 22.41411631 -32.51349319 -14.41525164]\n",
      "[3.4617605 3.6193788 3.803738 ]\n",
      "[0.0, 0.0]\n",
      "[0.0, 0.0]\n",
      "[0.0, 0.0]\n"
     ]
    },
    {
     "name": "stderr",
     "output_type": "stream",
     "text": [
      " 49%|████▉     | 1134/2300 [4:47:23<5:32:05, 17.09s/it]"
     ]
    },
    {
     "name": "stdout",
     "output_type": "stream",
     "text": [
      "[-5.81608553 18.91482058 18.21473473]\n",
      "[-32.28011909 -15.61513599  21.78147483]\n",
      "[4.0051265 3.943708  3.3795207]\n",
      "[0.0, 0.0]\n",
      "[0.0, 0.0]\n",
      "[0.0, 0.0]\n"
     ]
    },
    {
     "name": "stderr",
     "output_type": "stream",
     "text": [
      " 49%|████▉     | 1135/2300 [4:47:41<5:33:45, 17.19s/it]"
     ]
    },
    {
     "name": "stdout",
     "output_type": "stream",
     "text": [
      "[-4.01626833 18.88148269 19.41467851]\n",
      "[-31.98013469 -16.78168648  21.18176943]\n",
      "[5.4207034 4.0282187 3.3513489]\n",
      "[0.0, 0.0]\n",
      "[0.0, 0.0]\n",
      "[0.0, 0.0]\n"
     ]
    },
    {
     "name": "stderr",
     "output_type": "stream",
     "text": [
      " 49%|████▉     | 1136/2300 [4:47:57<5:28:40, 16.94s/it]"
     ]
    },
    {
     "name": "stdout",
     "output_type": "stream",
     "text": [
      "[-0.81659269 18.78149323 20.6327583 ]\n",
      "[-31.28016052 -17.98158139  20.57142546]\n",
      "[12.803295  4.273364  3.458874]\n",
      "[0.0, 0.0]\n",
      "[0.0, 0.0]\n",
      "[0.0, 0.0]\n"
     ]
    },
    {
     "name": "stderr",
     "output_type": "stream",
     "text": [
      " 49%|████▉     | 1137/2300 [4:48:13<5:23:56, 16.71s/it]"
     ]
    },
    {
     "name": "stdout",
     "output_type": "stream",
     "text": [
      "[ 3.6164624  18.51481611 21.81452722]\n",
      "[-30.21372199 -19.41476684  19.98066677]\n",
      "[11.902614   5.2924423  3.5010643]\n",
      "[0.0, 0.0]\n",
      "[0.0, 0.0]\n",
      "[0.0, 0.0]\n"
     ]
    },
    {
     "name": "stderr",
     "output_type": "stream",
     "text": [
      " 49%|████▉     | 1138/2300 [4:48:31<5:29:49, 17.03s/it]"
     ]
    },
    {
     "name": "stdout",
     "output_type": "stream",
     "text": [
      "[ 8.68256952 18.08157416 22.98137911]\n",
      "[-28.68054214 -21.0813068   19.31506522]\n",
      "[15.352758   7.840254   3.4338517]\n",
      "[0.0, 0.0]\n",
      "[0.0, 0.0]\n",
      "[0.0, 0.0]\n"
     ]
    },
    {
     "name": "stderr",
     "output_type": "stream",
     "text": [
      " 50%|████▉     | 1139/2300 [4:48:47<5:25:06, 16.80s/it]"
     ]
    },
    {
     "name": "stdout",
     "output_type": "stream",
     "text": [
      "[24.08117764]\n",
      "[18.71501032]\n",
      "[3.3639312]\n",
      "[0.0, 0.0]\n"
     ]
    },
    {
     "name": "stderr",
     "output_type": "stream",
     "text": [
      " 50%|████▉     | 1140/2300 [4:49:03<5:17:05, 16.40s/it]"
     ]
    },
    {
     "name": "stdout",
     "output_type": "stream",
     "text": [
      "[25.1141762]\n",
      "[18.08139342]\n",
      "[3.3722434]\n",
      "[0.0, 0.0]\n"
     ]
    },
    {
     "name": "stderr",
     "output_type": "stream",
     "text": [
      " 50%|████▉     | 1141/2300 [4:49:17<5:03:57, 15.74s/it]"
     ]
    },
    {
     "name": "stdout",
     "output_type": "stream",
     "text": [
      "[26.11407843]\n",
      "[17.48148503]\n",
      "[3.3897176]\n",
      "[0.0, 0.0]\n"
     ]
    },
    {
     "name": "stderr",
     "output_type": "stream",
     "text": [
      " 50%|████▉     | 1142/2300 [4:49:31<4:57:46, 15.43s/it]"
     ]
    },
    {
     "name": "stdout",
     "output_type": "stream",
     "text": [
      "[27.08078279]\n",
      "[16.81510451]\n",
      "[3.5008574]\n",
      "[0.0, 0.0]\n"
     ]
    },
    {
     "name": "stderr",
     "output_type": "stream",
     "text": [
      " 50%|████▉     | 1143/2300 [4:49:46<4:49:24, 15.01s/it]"
     ]
    },
    {
     "name": "stdout",
     "output_type": "stream",
     "text": [
      "[28.11388595]\n",
      "[16.18165106]\n",
      "[3.639286]\n",
      "[0.0, 0.0]\n"
     ]
    },
    {
     "name": "stderr",
     "output_type": "stream",
     "text": [
      " 50%|████▉     | 1144/2300 [4:50:00<4:45:19, 14.81s/it]"
     ]
    },
    {
     "name": "stdout",
     "output_type": "stream",
     "text": [
      "[29.08056025]\n",
      "[15.51520363]\n",
      "[3.7986586]\n",
      "[0.0, 0.0]\n"
     ]
    },
    {
     "name": "stderr",
     "output_type": "stream",
     "text": [
      " 50%|████▉     | 1145/2300 [4:50:14<4:39:21, 14.51s/it]"
     ]
    },
    {
     "name": "stdout",
     "output_type": "stream",
     "text": [
      "[30.08045309]\n",
      "[14.81526288]\n",
      "[3.9380498]\n",
      "[0.0, 0.0]\n"
     ]
    },
    {
     "name": "stderr",
     "output_type": "stream",
     "text": [
      " 50%|████▉     | 1146/2300 [4:50:28<4:37:33, 14.43s/it]"
     ]
    },
    {
     "name": "stdout",
     "output_type": "stream",
     "text": [
      "[31.08034811]\n",
      "[14.01533449]\n",
      "[3.9393883]\n",
      "[0.0, 0.0]\n"
     ]
    },
    {
     "name": "stderr",
     "output_type": "stream",
     "text": [
      " 50%|████▉     | 1147/2300 [4:50:42<4:34:59, 14.31s/it]"
     ]
    },
    {
     "name": "stdout",
     "output_type": "stream",
     "text": [
      "[32.01350171]\n",
      "[13.38196042]\n",
      "[3.73661]\n",
      "[0.0, 0.0]\n"
     ]
    },
    {
     "name": "stderr",
     "output_type": "stream",
     "text": [
      " 50%|████▉     | 1148/2300 [4:50:56<4:34:03, 14.27s/it]"
     ]
    },
    {
     "name": "stdout",
     "output_type": "stream",
     "text": [
      "[32.91341039]\n",
      "[12.68203322]\n",
      "[3.5934408]\n",
      "[0.0, 0.0]\n"
     ]
    },
    {
     "name": "stderr",
     "output_type": "stream",
     "text": [
      " 50%|████▉     | 1149/2300 [4:51:10<4:33:44, 14.27s/it]"
     ]
    },
    {
     "name": "stdout",
     "output_type": "stream",
     "text": [
      "[33.81331776]\n",
      "[12.18208465]\n",
      "[3.4445655]\n",
      "[0.0, 0.0]\n"
     ]
    },
    {
     "name": "stderr",
     "output_type": "stream",
     "text": [
      " 50%|█████     | 1150/2300 [4:51:24<4:32:17, 14.21s/it]"
     ]
    },
    {
     "name": "stdout",
     "output_type": "stream",
     "text": [
      "[-47.47861801]\n",
      "[-22.51440083]\n",
      "[2.751179]\n",
      "[0.0, 0.0]\n"
     ]
    },
    {
     "name": "stderr",
     "output_type": "stream",
     "text": [
      " 50%|█████     | 1151/2300 [4:51:39<4:32:47, 14.25s/it]"
     ]
    },
    {
     "name": "stdout",
     "output_type": "stream",
     "text": [
      "[-46.57870366]\n",
      "[-22.81436917]\n",
      "[2.8048782]\n",
      "[0.0, 0.0]\n"
     ]
    },
    {
     "name": "stderr",
     "output_type": "stream",
     "text": [
      " 50%|█████     | 1152/2300 [4:51:53<4:32:16, 14.23s/it]"
     ]
    },
    {
     "name": "stdout",
     "output_type": "stream",
     "text": [
      "[-45.71224489]\n",
      "[-23.18105765]\n",
      "[2.8097641]\n",
      "[0.0, 0.0]\n"
     ]
    },
    {
     "name": "stderr",
     "output_type": "stream",
     "text": [
      " 50%|█████     | 1153/2300 [4:52:07<4:30:39, 14.16s/it]"
     ]
    },
    {
     "name": "stdout",
     "output_type": "stream",
     "text": [
      "[-44.8123366]\n",
      "[-23.48102797]\n",
      "[2.7626822]\n",
      "[0.0, 0.0]\n"
     ]
    },
    {
     "name": "stderr",
     "output_type": "stream",
     "text": [
      " 50%|█████     | 1154/2300 [4:52:21<4:30:33, 14.16s/it]"
     ]
    },
    {
     "name": "stdout",
     "output_type": "stream",
     "text": [
      "[-43.91242877]\n",
      "[-23.78099822]\n",
      "[2.725829]\n",
      "[0.0, 0.0]\n"
     ]
    },
    {
     "name": "stderr",
     "output_type": "stream",
     "text": [
      " 50%|█████     | 1155/2300 [4:52:35<4:30:43, 14.19s/it]"
     ]
    },
    {
     "name": "stdout",
     "output_type": "stream",
     "text": [
      "[-43.07903031]\n",
      "[-24.11422811]\n",
      "[2.718049]\n",
      "[0.0, 0.0]\n"
     ]
    },
    {
     "name": "stderr",
     "output_type": "stream",
     "text": [
      " 50%|█████     | 1156/2300 [4:52:49<4:27:58, 14.05s/it]"
     ]
    },
    {
     "name": "stdout",
     "output_type": "stream",
     "text": [
      "[-42.1126128]\n",
      "[-24.48092533]\n",
      "[2.7071908]\n",
      "[0.0, 0.0]\n"
     ]
    },
    {
     "name": "stderr",
     "output_type": "stream",
     "text": [
      " 50%|█████     | 1157/2300 [4:53:03<4:28:17, 14.08s/it]"
     ]
    },
    {
     "name": "stdout",
     "output_type": "stream",
     "text": [
      "[-41.21270473]\n",
      "[-24.78089279]\n",
      "[2.6584141]\n",
      "[0.0, 0.0]\n"
     ]
    },
    {
     "name": "stderr",
     "output_type": "stream",
     "text": [
      " 50%|█████     | 1158/2300 [4:53:19<4:39:04, 14.66s/it]"
     ]
    },
    {
     "name": "stdout",
     "output_type": "stream",
     "text": [
      "[-40.31279794 -34.77990656 -29.28044246]\n",
      "[-25.08086034  22.78114043  28.0806241 ]\n",
      "[ 2.6188836  8.065629  11.148022 ]\n",
      "[0.0, 0.0]\n",
      "[0.0, 0.0]\n",
      "[0.0, 0.0]\n"
     ]
    },
    {
     "name": "stderr",
     "output_type": "stream",
     "text": [
      " 50%|█████     | 1159/2300 [4:53:36<4:49:44, 15.24s/it]"
     ]
    },
    {
     "name": "stdout",
     "output_type": "stream",
     "text": [
      "[-39.41289338 -34.71330479 -26.28073625]\n",
      "[-25.38082851  21.21455696  29.28051018]\n",
      "[2.6431687 6.4012523 7.816724 ]\n",
      "[0.0, 0.0]\n",
      "[0.0, 0.0]\n",
      "[0.0, 0.0]\n"
     ]
    },
    {
     "name": "stderr",
     "output_type": "stream",
     "text": [
      " 50%|█████     | 1160/2300 [4:53:52<4:56:36, 15.61s/it]"
     ]
    },
    {
     "name": "stdout",
     "output_type": "stream",
     "text": [
      "[-38.41300184 -34.57992576 -23.78098514]\n",
      "[-25.68079978  19.88142751  29.88045404]\n",
      "[2.7206726 4.8272176 5.541682 ]\n",
      "[0.0, 0.0]\n",
      "[0.0, 0.0]\n",
      "[0.0, 0.0]\n"
     ]
    },
    {
     "name": "stderr",
     "output_type": "stream",
     "text": [
      " 50%|█████     | 1161/2300 [4:54:10<5:07:16, 16.19s/it]"
     ]
    },
    {
     "name": "stdout",
     "output_type": "stream",
     "text": [
      "[-34.41333609 -21.71458822 -37.37953638]\n",
      "[ 18.71480189  30.21365729 -26.0139996 ]\n",
      "[4.247659 4.798768 2.769485]\n",
      "[0.0, 0.0]\n",
      "[0.0, 0.0]\n",
      "[0.0, 0.0]\n"
     ]
    },
    {
     "name": "stderr",
     "output_type": "stream",
     "text": [
      " 51%|█████     | 1162/2300 [4:54:26<5:08:57, 16.29s/it]"
     ]
    },
    {
     "name": "stdout",
     "output_type": "stream",
     "text": [
      "[-36.41322859 -19.71478631 -34.17996264]\n",
      "[-26.38072761  30.41363141  17.58165487]\n",
      "[2.801192  4.5244937 3.8719125]\n",
      "[0.0, 0.0]\n",
      "[0.0, 0.0]\n",
      "[0.0, 0.0]\n"
     ]
    },
    {
     "name": "stderr",
     "output_type": "stream",
     "text": [
      " 51%|█████     | 1163/2300 [4:54:44<5:15:16, 16.64s/it]"
     ]
    },
    {
     "name": "stdout",
     "output_type": "stream",
     "text": [
      "[-33.91338686 -17.71498532 -35.37968577]\n",
      "[ 16.5150194   30.61360532 -26.81388574]\n",
      "[3.5034382 4.309109  2.8761098]\n",
      "[0.0, 0.0]\n",
      "[0.0, 0.0]\n",
      "[0.0, 0.0]\n"
     ]
    },
    {
     "name": "stderr",
     "output_type": "stream",
     "text": [
      " 51%|█████     | 1164/2300 [4:55:00<5:12:55, 16.53s/it]"
     ]
    },
    {
     "name": "stdout",
     "output_type": "stream",
     "text": [
      "[-33.71340842 -34.27976565 -15.78179083]\n",
      "[ 15.51511758 -27.11383178  30.68038273]\n",
      "[3.2024736 3.0119483 4.074665 ]\n",
      "[0.0, 0.0]\n",
      "[0.0, 0.0]\n",
      "[0.0, 0.0]\n"
     ]
    },
    {
     "name": "stderr",
     "output_type": "stream",
     "text": [
      " 51%|█████     | 1165/2300 [4:55:16<5:10:33, 16.42s/it]"
     ]
    },
    {
     "name": "stdout",
     "output_type": "stream",
     "text": [
      "[-33.31344955 -33.17982291 -13.98197105]\n",
      "[ 14.61520582 -27.51375595  30.68038586]\n",
      "[2.967144  3.1062493 3.981963 ]\n",
      "[0.0, 0.0]\n",
      "[0.0, 0.0]\n",
      "[0.0, 0.0]\n"
     ]
    },
    {
     "name": "stderr",
     "output_type": "stream",
     "text": [
      " 51%|█████     | 1166/2300 [4:55:34<5:19:33, 16.91s/it]"
     ]
    },
    {
     "name": "stdout",
     "output_type": "stream",
     "text": [
      "[-32.01382581 -12.21553336 -32.9800722 ]\n",
      "[-27.98050879  30.61358205  13.68204284]\n",
      "[3.1820416 3.649339  2.739071 ]\n",
      "[0.0, 0.0]\n",
      "[0.0, 0.0]\n",
      "[0.0, 0.0]\n"
     ]
    },
    {
     "name": "stderr",
     "output_type": "stream",
     "text": [
      " 51%|█████     | 1167/2300 [4:55:51<5:17:06, 16.79s/it]"
     ]
    },
    {
     "name": "stdout",
     "output_type": "stream",
     "text": [
      "[-30.77970387 -32.58010925 -10.58232314]\n",
      "[-28.41342134  12.78213168  30.58039908]\n",
      "[3.356464  2.567349  3.3795342]\n",
      "[0.0, 0.0]\n",
      "[0.0, 0.0]\n",
      "[0.0, 0.0]\n"
     ]
    },
    {
     "name": "stderr",
     "output_type": "stream",
     "text": [
      " 51%|█████     | 1168/2300 [4:56:07<5:14:46, 16.68s/it]"
     ]
    },
    {
     "name": "stdout",
     "output_type": "stream",
     "text": [
      "[-29.51602017  -9.01584897 -32.0801557 ]\n",
      "[-28.8803366   30.41357835  11.98221154]\n",
      "[3.550355  3.3155155 2.4531608]\n",
      "[0.0, 0.0]\n",
      "[0.0, 0.0]\n",
      "[0.0, 0.0]\n"
     ]
    },
    {
     "name": "stderr",
     "output_type": "stream",
     "text": [
      " 51%|█████     | 1169/2300 [4:56:25<5:19:16, 16.94s/it]"
     ]
    },
    {
     "name": "stdout",
     "output_type": "stream",
     "text": [
      "[  5.68282039 -31.5136302   -7.41600794 -28.18170758   3.61593351]\n",
      "[ -2.78320731  11.21554501  30.31357779 -29.41479084  -1.91659954]\n",
      "[5.084098  2.348138  3.3147624 3.6357942 3.4933634]\n",
      "[0.0, 0.0]\n",
      "[0.0, 0.0]\n",
      "[0.0, 0.0]\n",
      "[0.0, 0.0]\n",
      "[0.0, 0.0]\n"
     ]
    },
    {
     "name": "stderr",
     "output_type": "stream",
     "text": [
      " 51%|█████     | 1170/2300 [4:56:42<5:20:12, 17.00s/it]"
     ]
    },
    {
     "name": "stdout",
     "output_type": "stream",
     "text": [
      "[-26.71371399   7.9825602    1.98342169 -30.91369027  -5.81616748]\n",
      "[-29.88048586  -3.88303103  -1.38366222  10.41562499  30.11358689]\n",
      "[3.69309   3.0404723 1.1090341 2.3001714 3.2925112]\n",
      "[0.0, 0.0]\n",
      "[0.0, 0.0]\n",
      "[0.0, 0.0]\n",
      "[0.0, 0.0]\n",
      "[0.0, 0.0]\n"
     ]
    },
    {
     "name": "stderr",
     "output_type": "stream",
     "text": [
      " 51%|█████     | 1171/2300 [4:57:00<5:27:00, 17.38s/it]"
     ]
    },
    {
     "name": "stdout",
     "output_type": "stream",
     "text": [
      "[  9.68237664   0.98375556  -4.31631666 -25.18111505 -30.18033399]\n",
      "[ -4.68291874  -1.0839897   29.91359679 -30.31391754   9.68244142]\n",
      "[2.954086  0.8229808 3.28342   3.7092574 2.2799773]\n",
      "[0.0, 0.0]\n",
      "[0.0, 0.0]\n",
      "[0.0, 0.0]\n",
      "[0.0, 0.0]\n",
      "[0.0, 0.0]\n"
     ]
    },
    {
     "name": "stderr",
     "output_type": "stream",
     "text": [
      " 51%|█████     | 1172/2300 [4:57:21<5:43:26, 18.27s/it]"
     ]
    },
    {
     "name": "stdout",
     "output_type": "stream",
     "text": [
      "[-23.61418887  11.08222754   0.08442136 -29.41383959  -2.71647428]\n",
      "[-30.68033546  -5.48282375  -0.88477095   8.91577402  29.71360829]\n",
      "[3.6704304  2.9369996  0.74806297 2.2651649  3.4471862 ]\n",
      "[0.0, 0.0]\n",
      "[0.0, 0.0]\n",
      "[0.0, 0.0]\n",
      "[0.0, 0.0]\n",
      "[0.0, 0.0]\n"
     ]
    },
    {
     "name": "stderr",
     "output_type": "stream",
     "text": [
      " 51%|█████     | 1173/2300 [4:57:39<5:45:04, 18.37s/it]"
     ]
    },
    {
     "name": "stdout",
     "output_type": "stream",
     "text": [
      "[-22.11437319 -28.51392682  12.31546682  -0.77193237  -1.08330462]\n",
      "[-30.98029968   8.21584277  -6.31602092  -0.71361293  29.38052269]\n",
      "[3.716365  2.261149  3.0460742 0.7794789 3.6173222]\n",
      "[0.0, 0.0]\n",
      "[0.0, 0.0]\n",
      "[0.0, 0.0]\n",
      "[0.0, 0.0]\n",
      "[0.0, 0.0]\n"
     ]
    },
    {
     "name": "stderr",
     "output_type": "stream",
     "text": [
      " 51%|█████     | 1174/2300 [4:57:58<5:45:34, 18.41s/it]"
     ]
    },
    {
     "name": "stdout",
     "output_type": "stream",
     "text": [
      "[-27.51401889   0.58320938 -20.58141118  13.41537187  -1.78121881]\n",
      "[  7.41592206  29.01366457 -31.2137014   -7.11593987  -0.61583639]\n",
      "[2.241894   3.782677   3.6519377  2.9956648  0.98285645]\n",
      "[0.0, 0.0]\n",
      "[0.0, 0.0]\n",
      "[0.0, 0.0]\n",
      "[0.0, 0.0]\n",
      "[0.0, 0.0]\n"
     ]
    },
    {
     "name": "stderr",
     "output_type": "stream",
     "text": [
      " 51%|█████     | 1175/2300 [4:58:20<6:04:26, 19.44s/it]"
     ]
    },
    {
     "name": "stdout",
     "output_type": "stream",
     "text": [
      "[  2.28303922 -19.08153187  14.3152916   -3.1822538   -8.78228695\n",
      " -18.78148997 -26.38072127]\n",
      "[ 28.61369729 -31.4136613   -7.91586089  -0.31636945   0.88323529\n",
      "   3.18296862   6.58272597]\n",
      "[3.881049  3.45584   2.9269824 1.7684209 5.871     1.4453374 2.244758 ]\n",
      "[0.0, 0.0]\n",
      "[0.0, 0.0]\n",
      "[0.0, 0.0]\n",
      "[0.0, 0.0]\n",
      "[0.0, 0.0]\n",
      "[0.0, 0.0]\n",
      "[0.0, 0.0]\n"
     ]
    },
    {
     "name": "stderr",
     "output_type": "stream",
     "text": [
      " 51%|█████     | 1176/2300 [4:58:40<6:08:39, 19.68s/it]"
     ]
    },
    {
     "name": "stdout",
     "output_type": "stream",
     "text": [
      "[ 15.08182777 -20.21462531 -17.68165212 -24.98088134   3.91618989]\n",
      "[ -8.68247489   3.61635678 -31.61363036   5.6827852   28.18064294]\n",
      "[2.8746667 1.6645699 3.4097843 2.6093855 4.171119 ]\n",
      "[0.0, 0.0]\n",
      "[0.0, 0.0]\n",
      "[0.0, 0.0]\n",
      "[0.0, 0.0]\n",
      "[0.0, 0.0]\n"
     ]
    },
    {
     "name": "stderr",
     "output_type": "stream",
     "text": [
      " 51%|█████     | 1177/2300 [4:59:00<6:12:49, 19.92s/it]"
     ]
    },
    {
     "name": "stdout",
     "output_type": "stream",
     "text": [
      "[  5.88268152 -16.18178909  15.71515781]\n",
      "[ 27.61378762 -31.71361102  -9.51570933]\n",
      "[5.8238187 3.4835858 2.8976152]\n",
      "[0.0, 0.0]\n",
      "[0.0, 0.0]\n",
      "[0.0, 0.0]\n"
     ]
    },
    {
     "name": "stderr",
     "output_type": "stream",
     "text": [
      " 51%|█████     | 1178/2300 [4:59:17<5:55:53, 19.03s/it]"
     ]
    },
    {
     "name": "stdout",
     "output_type": "stream",
     "text": [
      "[-14.71517381   8.68240796  16.31509865]\n",
      "[-31.88019131  26.61388086 -10.31563382]\n",
      "[3.463207  7.346451  2.9426131]\n",
      "[0.0, 0.0]\n",
      "[0.0, 0.0]\n",
      "[0.0, 0.0]\n"
     ]
    },
    {
     "name": "stderr",
     "output_type": "stream",
     "text": [
      " 51%|█████▏    | 1179/2300 [4:59:34<5:40:30, 18.23s/it]"
     ]
    },
    {
     "name": "stdout",
     "output_type": "stream",
     "text": [
      "[-13.31531722  16.78167166  10.68220611]\n",
      "[-31.98017824 -11.18222321  25.81395147]\n",
      "[3.43547   3.0192864 4.566684 ]\n",
      "[0.0, 0.0]\n",
      "[0.0, 0.0]\n",
      "[0.0, 0.0]\n"
     ]
    },
    {
     "name": "stderr",
     "output_type": "stream",
     "text": [
      " 51%|█████▏    | 1180/2300 [4:59:52<5:40:54, 18.26s/it]"
     ]
    },
    {
     "name": "stdout",
     "output_type": "stream",
     "text": [
      "[-11.81547253  17.18163681  12.28204137]\n",
      "[-31.98017539 -12.08213541  25.21399831]\n",
      "[3.5017715 3.1881561 3.785505 ]\n",
      "[0.0, 0.0]\n",
      "[0.0, 0.0]\n",
      "[0.0, 0.0]\n"
     ]
    },
    {
     "name": "stderr",
     "output_type": "stream",
     "text": [
      " 51%|█████▏    | 1181/2300 [5:00:08<5:29:11, 17.65s/it]"
     ]
    },
    {
     "name": "stdout",
     "output_type": "stream",
     "text": [
      "[ 17.48161156 -10.28232879  13.71521129]\n",
      "[-13.08204015 -31.9135641   24.68100912]\n",
      "[3.4444683 3.4893255 3.3905551]\n",
      "[0.0, 0.0]\n",
      "[0.0, 0.0]\n",
      "[0.0, 0.0]\n"
     ]
    },
    {
     "name": "stderr",
     "output_type": "stream",
     "text": [
      " 51%|█████▏    | 1182/2300 [5:00:25<5:22:18, 17.30s/it]"
     ]
    },
    {
     "name": "stdout",
     "output_type": "stream",
     "text": [
      "[15.08172882 -8.78246416 17.71493955]\n",
      "[ 24.11407089 -31.81356691 -14.11527864]\n",
      "[3.3868043 3.6210837 3.6532922]\n",
      "[0.0, 0.0]\n",
      "[0.0, 0.0]\n",
      "[0.0, 0.0]\n"
     ]
    },
    {
     "name": "stderr",
     "output_type": "stream",
     "text": [
      " 51%|█████▏    | 1183/2300 [5:00:42<5:23:03, 17.35s/it]"
     ]
    },
    {
     "name": "stdout",
     "output_type": "stream",
     "text": [
      "[17.78158969 -7.18260624 16.41493841]\n",
      "[-15.28183227 -31.61357836  23.58117006]\n",
      "[3.7247565 3.8217402 3.3834968]\n",
      "[0.0, 0.0]\n",
      "[0.0, 0.0]\n",
      "[0.0, 0.0]\n"
     ]
    },
    {
     "name": "stderr",
     "output_type": "stream",
     "text": [
      " 51%|█████▏    | 1184/2300 [5:00:59<5:18:11, 17.11s/it]"
     ]
    },
    {
     "name": "stdout",
     "output_type": "stream",
     "text": [
      "[17.78159124 17.68138445 -5.58274532]\n",
      "[-16.38173373  23.01407345 -31.41359174]\n",
      "[3.8475547 3.2803793 4.3032837]\n",
      "[0.0, 0.0]\n",
      "[0.0, 0.0]\n",
      "[0.0, 0.0]\n"
     ]
    },
    {
     "name": "stderr",
     "output_type": "stream",
     "text": [
      " 52%|█████▏    | 1185/2300 [5:01:16<5:19:59, 17.22s/it]"
     ]
    },
    {
     "name": "stdout",
     "output_type": "stream",
     "text": [
      "[18.88115904 -3.58291365 17.61491253]\n",
      "[ 22.41404108 -31.01362162 -17.6149403 ]\n",
      "[3.1606624 6.447577  4.2374625]\n",
      "[0.0, 0.0]\n",
      "[0.0, 0.0]\n",
      "[0.0, 0.0]\n"
     ]
    },
    {
     "name": "stderr",
     "output_type": "stream",
     "text": [
      " 52%|█████▏    | 1186/2300 [5:01:32<5:14:15, 16.93s/it]"
     ]
    },
    {
     "name": "stdout",
     "output_type": "stream",
     "text": [
      "[ 0.18330259 17.3816316  20.01461175]\n",
      "[-30.18023693 -18.9815126   21.88169257]\n",
      "[11.306464   5.3244433  3.1487746]\n",
      "[0.0, 0.0]\n",
      "[0.0, 0.0]\n",
      "[0.0, 0.0]\n"
     ]
    },
    {
     "name": "stderr",
     "output_type": "stream",
     "text": [
      " 52%|█████▏    | 1187/2300 [5:01:49<5:13:16, 16.89s/it]"
     ]
    },
    {
     "name": "stdout",
     "output_type": "stream",
     "text": [
      "[ 5.08290212 21.16286422 16.81495192]\n",
      "[-28.98036297  21.30990733 -20.71464526]\n",
      "[13.687015   3.237724   7.8441358]\n",
      "[0.0, 0.0]\n",
      "[0.0, 0.0]\n",
      "[0.0, 0.0]\n"
     ]
    },
    {
     "name": "stderr",
     "output_type": "stream",
     "text": [
      " 52%|█████▏    | 1188/2300 [5:02:07<5:17:09, 17.11s/it]"
     ]
    },
    {
     "name": "stdout",
     "output_type": "stream",
     "text": [
      "[11.78222591 22.38174062 14.9151219 ]\n",
      "[-26.18084455  20.71520064 -23.71436355]\n",
      "[33.1051     3.2276096 24.319317 ]\n",
      "[0.0, 0.0]\n",
      "[0.0, 0.0]\n",
      "[0.0, 0.0]\n"
     ]
    },
    {
     "name": "stderr",
     "output_type": "stream",
     "text": [
      " 52%|█████▏    | 1189/2300 [5:02:22<5:06:10, 16.54s/it]"
     ]
    },
    {
     "name": "stdout",
     "output_type": "stream",
     "text": [
      "[23.41438238]\n",
      "[20.08099628]\n",
      "[3.1609998]\n",
      "[0.0, 0.0]\n"
     ]
    },
    {
     "name": "stderr",
     "output_type": "stream",
     "text": [
      " 52%|█████▏    | 1190/2300 [5:02:36<4:53:17, 15.85s/it]"
     ]
    },
    {
     "name": "stdout",
     "output_type": "stream",
     "text": [
      "[24.48115129]\n",
      "[19.51496135]\n",
      "[3.1161008]\n",
      "[0.0, 0.0]\n"
     ]
    },
    {
     "name": "stderr",
     "output_type": "stream",
     "text": [
      " 52%|█████▏    | 1191/2300 [5:02:50<4:43:29, 15.34s/it]"
     ]
    },
    {
     "name": "stdout",
     "output_type": "stream",
     "text": [
      "[25.51413246]\n",
      "[18.98129312]\n",
      "[3.1215396]\n",
      "[0.0, 0.0]\n"
     ]
    },
    {
     "name": "stderr",
     "output_type": "stream",
     "text": [
      " 52%|█████▏    | 1192/2300 [5:03:05<4:36:42, 14.98s/it]"
     ]
    },
    {
     "name": "stdout",
     "output_type": "stream",
     "text": [
      "[26.48086933]\n",
      "[18.41496862]\n",
      "[3.1408293]\n",
      "[0.0, 0.0]\n"
     ]
    },
    {
     "name": "stderr",
     "output_type": "stream",
     "text": [
      " 52%|█████▏    | 1193/2300 [5:03:19<4:32:35, 14.77s/it]"
     ]
    },
    {
     "name": "stdout",
     "output_type": "stream",
     "text": [
      "[27.48074905]\n",
      "[17.81500478]\n",
      "[3.230667]\n",
      "[0.0, 0.0]\n"
     ]
    },
    {
     "name": "stderr",
     "output_type": "stream",
     "text": [
      " 52%|█████▏    | 1194/2300 [5:03:33<4:28:45, 14.58s/it]"
     ]
    },
    {
     "name": "stdout",
     "output_type": "stream",
     "text": [
      "[28.41385592]\n",
      "[17.18154848]\n",
      "[3.3337061]\n",
      "[0.0, 0.0]\n"
     ]
    },
    {
     "name": "stderr",
     "output_type": "stream",
     "text": [
      " 52%|█████▏    | 1195/2300 [5:03:47<4:26:05, 14.45s/it]"
     ]
    },
    {
     "name": "stdout",
     "output_type": "stream",
     "text": [
      "[29.38053544]\n",
      "[16.61509566]\n",
      "[3.483746]\n",
      "[0.0, 0.0]\n"
     ]
    },
    {
     "name": "stderr",
     "output_type": "stream",
     "text": [
      " 52%|█████▏    | 1196/2300 [5:04:02<4:26:36, 14.49s/it]"
     ]
    },
    {
     "name": "stdout",
     "output_type": "stream",
     "text": [
      "[30.28043667]\n",
      "[15.91515796]\n",
      "[3.6971567]\n",
      "[0.0, 0.0]\n"
     ]
    },
    {
     "name": "stderr",
     "output_type": "stream",
     "text": [
      " 52%|█████▏    | 1197/2300 [5:04:16<4:24:11, 14.37s/it]"
     ]
    },
    {
     "name": "stdout",
     "output_type": "stream",
     "text": [
      "[31.31356975]\n",
      "[15.28176551]\n",
      "[3.9083064]\n",
      "[0.0, 0.0]\n"
     ]
    },
    {
     "name": "stderr",
     "output_type": "stream",
     "text": [
      " 52%|█████▏    | 1198/2300 [5:04:30<4:22:53, 14.31s/it]"
     ]
    },
    {
     "name": "stdout",
     "output_type": "stream",
     "text": [
      "[32.28022888]\n",
      "[14.51527999]\n",
      "[3.9019248]\n",
      "[0.0, 0.0]\n"
     ]
    },
    {
     "name": "stderr",
     "output_type": "stream",
     "text": [
      " 52%|█████▏    | 1199/2300 [5:04:44<4:22:34, 14.31s/it]"
     ]
    },
    {
     "name": "stdout",
     "output_type": "stream",
     "text": [
      "[33.28012771]\n",
      "[13.91533007]\n",
      "[3.6163478]\n",
      "[0.0, 0.0]\n"
     ]
    },
    {
     "name": "stderr",
     "output_type": "stream",
     "text": [
      " 52%|█████▏    | 1200/2300 [5:04:58<4:19:22, 14.15s/it]"
     ]
    },
    {
     "name": "stdout",
     "output_type": "stream",
     "text": [
      "[-47.81203146]\n",
      "[-21.28124547]\n",
      "[2.739228]\n",
      "[0.0, 0.0]\n"
     ]
    },
    {
     "name": "stderr",
     "output_type": "stream",
     "text": [
      " 52%|█████▏    | 1201/2300 [5:05:12<4:19:43, 14.18s/it]"
     ]
    },
    {
     "name": "stdout",
     "output_type": "stream",
     "text": [
      "[-46.97866714]\n",
      "[-21.61448912]\n",
      "[2.8139052]\n",
      "[0.0, 0.0]\n"
     ]
    },
    {
     "name": "stderr",
     "output_type": "stream",
     "text": [
      " 52%|█████▏    | 1202/2300 [5:05:26<4:18:28, 14.12s/it]"
     ]
    },
    {
     "name": "stdout",
     "output_type": "stream",
     "text": [
      "[-46.07875285]\n",
      "[-21.91445721]\n",
      "[2.885633]\n",
      "[0.0, 0.0]\n"
     ]
    },
    {
     "name": "stderr",
     "output_type": "stream",
     "text": [
      " 52%|█████▏    | 1203/2300 [5:05:40<4:17:21, 14.08s/it]"
     ]
    },
    {
     "name": "stdout",
     "output_type": "stream",
     "text": [
      "[-45.21229412]\n",
      "[-22.2811462]\n",
      "[2.9118404]\n",
      "[0.0, 0.0]\n"
     ]
    },
    {
     "name": "stderr",
     "output_type": "stream",
     "text": [
      " 52%|█████▏    | 1204/2300 [5:05:55<4:19:23, 14.20s/it]"
     ]
    },
    {
     "name": "stdout",
     "output_type": "stream",
     "text": [
      "[-44.27892192]\n",
      "[-22.61438269]\n",
      "[2.8861604]\n",
      "[0.0, 0.0]\n"
     ]
    },
    {
     "name": "stderr",
     "output_type": "stream",
     "text": [
      " 52%|█████▏    | 1205/2300 [5:06:09<4:18:35, 14.17s/it]"
     ]
    },
    {
     "name": "stdout",
     "output_type": "stream",
     "text": [
      "[-43.37900546]\n",
      "[-22.91434952]\n",
      "[2.843159]\n",
      "[0.0, 0.0]\n"
     ]
    },
    {
     "name": "stderr",
     "output_type": "stream",
     "text": [
      " 52%|█████▏    | 1206/2300 [5:06:23<4:17:38, 14.13s/it]"
     ]
    },
    {
     "name": "stdout",
     "output_type": "stream",
     "text": [
      "[-42.4790875]\n",
      "[-23.31430604]\n",
      "[2.8192775]\n",
      "[0.0, 0.0]\n"
     ]
    },
    {
     "name": "stderr",
     "output_type": "stream",
     "text": [
      " 52%|█████▏    | 1207/2300 [5:06:39<4:28:10, 14.72s/it]"
     ]
    },
    {
     "name": "stdout",
     "output_type": "stream",
     "text": [
      "[-41.57916946 -36.2797595  -30.88028713]\n",
      "[-23.61427248  23.18110022  28.48058338]\n",
      "[ 2.8095465  9.249688  10.308105 ]\n",
      "[0.0, 0.0]\n",
      "[0.0, 0.0]\n",
      "[0.0, 0.0]\n"
     ]
    },
    {
     "name": "stderr",
     "output_type": "stream",
     "text": [
      " 53%|█████▎    | 1208/2300 [5:06:55<4:35:19, 15.13s/it]"
     ]
    },
    {
     "name": "stdout",
     "output_type": "stream",
     "text": [
      "[-40.61276473 -36.31314697 -28.08056148]\n",
      "[-23.98097051  21.51452855  29.68046904]\n",
      "[2.7666197 6.1362042 7.250469 ]\n",
      "[0.0, 0.0]\n",
      "[0.0, 0.0]\n",
      "[0.0, 0.0]\n"
     ]
    },
    {
     "name": "stderr",
     "output_type": "stream",
     "text": [
      " 53%|█████▎    | 1209/2300 [5:07:12<4:42:24, 15.53s/it]"
     ]
    },
    {
     "name": "stdout",
     "output_type": "stream",
     "text": [
      "[-39.71285764 -36.11316772 -25.61420455]\n",
      "[-24.28093736  20.21465595  30.41364868]\n",
      "[2.7386966 5.3310843 6.1590114]\n",
      "[0.0, 0.0]\n",
      "[0.0, 0.0]\n",
      "[0.0, 0.0]\n"
     ]
    },
    {
     "name": "stderr",
     "output_type": "stream",
     "text": [
      " 53%|█████▎    | 1210/2300 [5:07:29<4:53:40, 16.17s/it]"
     ]
    },
    {
     "name": "stdout",
     "output_type": "stream",
     "text": [
      "[-35.81319817 -23.41442268 -38.77941998]\n",
      "[ 19.01477357  30.81360161 -24.61416028]\n",
      "[4.7005954 4.974394  2.7676795]\n",
      "[0.0, 0.0]\n",
      "[0.0, 0.0]\n",
      "[0.0, 0.0]\n"
     ]
    },
    {
     "name": "stderr",
     "output_type": "stream",
     "text": [
      " 53%|█████▎    | 1211/2300 [5:07:45<4:51:58, 16.09s/it]"
     ]
    },
    {
     "name": "stdout",
     "output_type": "stream",
     "text": [
      "[-37.77950793 -35.4798347  -21.48122375]\n",
      "[-24.91412142  17.88162473  31.08033696]\n",
      "[2.8542097 4.0601816 4.4862404]\n",
      "[0.0, 0.0]\n",
      "[0.0, 0.0]\n",
      "[0.0, 0.0]\n"
     ]
    },
    {
     "name": "stderr",
     "output_type": "stream",
     "text": [
      " 53%|█████▎    | 1212/2300 [5:08:02<4:56:07, 16.33s/it]"
     ]
    },
    {
     "name": "stdout",
     "output_type": "stream",
     "text": [
      "[-35.21325836 -19.51480684 -36.77958811]\n",
      "[ 16.81499134  31.21354894 -25.31406791]\n",
      "[3.542884 4.248718 2.898116]\n",
      "[0.0, 0.0]\n",
      "[0.0, 0.0]\n",
      "[0.0, 0.0]\n"
     ]
    },
    {
     "name": "stderr",
     "output_type": "stream",
     "text": [
      " 53%|█████▎    | 1213/2300 [5:08:19<5:02:15, 16.68s/it]"
     ]
    },
    {
     "name": "stdout",
     "output_type": "stream",
     "text": [
      "[-35.71329754 -34.87988977 -17.58161321]\n",
      "[-25.68078924  15.88182252  31.38031198]\n",
      "[2.882553  3.2294056 4.1033607]\n",
      "[0.0, 0.0]\n",
      "[0.0, 0.0]\n",
      "[0.0, 0.0]\n"
     ]
    },
    {
     "name": "stderr",
     "output_type": "stream",
     "text": [
      " 53%|█████▎    | 1214/2300 [5:08:36<5:02:25, 16.71s/it]"
     ]
    },
    {
     "name": "stdout",
     "output_type": "stream",
     "text": [
      "[-34.61332054 -15.81517426 -34.67974855]\n",
      "[ 14.91517814  31.41351848 -26.01396445]\n",
      "[2.9962316 3.87705   2.9271045]\n",
      "[0.0, 0.0]\n",
      "[0.0, 0.0]\n",
      "[0.0, 0.0]\n"
     ]
    },
    {
     "name": "stderr",
     "output_type": "stream",
     "text": [
      " 53%|█████▎    | 1215/2300 [5:08:54<5:06:05, 16.93s/it]"
     ]
    },
    {
     "name": "stdout",
     "output_type": "stream",
     "text": [
      "[-34.21336156 -14.0153534  -33.57982145]\n",
      "[ 14.01526698  31.41351202 -26.41390112]\n",
      "[2.8108866 3.855174  3.074008 ]\n",
      "[0.0, 0.0]\n",
      "[0.0, 0.0]\n",
      "[0.0, 0.0]\n"
     ]
    },
    {
     "name": "stderr",
     "output_type": "stream",
     "text": [
      " 53%|█████▎    | 1216/2300 [5:09:10<5:02:02, 16.72s/it]"
     ]
    },
    {
     "name": "stdout",
     "output_type": "stream",
     "text": [
      "[-33.81340191 -32.37988549 -12.28214727]\n",
      "[ 13.21534692 -26.81381995  31.38031816]\n",
      "[2.6377516 3.2126675 3.511695 ]\n",
      "[0.0, 0.0]\n",
      "[0.0, 0.0]\n",
      "[0.0, 0.0]\n"
     ]
    },
    {
     "name": "stderr",
     "output_type": "stream",
     "text": [
      " 53%|█████▎    | 1217/2300 [5:09:28<5:06:47, 17.00s/it]"
     ]
    },
    {
     "name": "stdout",
     "output_type": "stream",
     "text": [
      "[-31.27984748 -33.38002713 -10.68231434]\n",
      "[-27.31369327  12.3821719   31.28032834]\n",
      "[3.3113506 2.476575  3.2804928]\n",
      "[0.0, 0.0]\n",
      "[0.0, 0.0]\n",
      "[0.0, 0.0]\n"
     ]
    },
    {
     "name": "stderr",
     "output_type": "stream",
     "text": [
      " 53%|█████▎    | 1218/2300 [5:09:43<5:00:31, 16.67s/it]"
     ]
    },
    {
     "name": "stdout",
     "output_type": "stream",
     "text": [
      "[-30.01427733 -32.8800731   -9.08248031]\n",
      "[-27.78037164  11.58225201  31.18033834]\n",
      "[3.613037  2.3852098 3.227235 ]\n",
      "[0.0, 0.0]\n",
      "[0.0, 0.0]\n",
      "[0.0, 0.0]\n"
     ]
    },
    {
     "name": "stderr",
     "output_type": "stream",
     "text": [
      " 53%|█████▎    | 1219/2300 [5:10:00<5:01:04, 16.71s/it]"
     ]
    },
    {
     "name": "stdout",
     "output_type": "stream",
     "text": [
      "[-32.31355352 -28.67598429  -7.58263397]\n",
      "[ 10.81558735 -28.31205015  31.08034928]\n",
      "[2.3134072 3.8849947 3.1997182]\n",
      "[0.0, 0.0]\n",
      "[0.0, 0.0]\n",
      "[0.0, 0.0]\n"
     ]
    },
    {
     "name": "stderr",
     "output_type": "stream",
     "text": [
      " 53%|█████▎    | 1220/2300 [5:10:19<5:13:22, 17.41s/it]"
     ]
    },
    {
     "name": "stdout",
     "output_type": "stream",
     "text": [
      "[ -6.01614317 -27.18167614   7.01584283   2.31582083 -31.68018403]\n",
      "[ 30.9135161  -28.81456552  -3.91630711  -1.91670157  10.08240323]\n",
      "[3.1763213 4.032003  3.354426  1.482041  2.2620418]\n",
      "[0.0, 0.0]\n",
      "[0.0, 0.0]\n",
      "[0.0, 0.0]\n",
      "[0.0, 0.0]\n",
      "[0.0, 0.0]\n"
     ]
    },
    {
     "name": "stderr",
     "output_type": "stream",
     "text": [
      " 53%|█████▎    | 1221/2300 [5:10:37<5:17:17, 17.64s/it]"
     ]
    },
    {
     "name": "stdout",
     "output_type": "stream",
     "text": [
      "[ -4.51629218 -25.58122421   8.81573463   1.2155132  -30.98024962]\n",
      "[ 30.7135278  -29.31410042  -4.91618633  -1.51693369   9.3824746 ]\n",
      "[3.1753619 3.98178   3.0161715 0.9596992 2.233276 ]\n",
      "[0.0, 0.0]\n",
      "[0.0, 0.0]\n",
      "[0.0, 0.0]\n",
      "[0.0, 0.0]\n",
      "[0.0, 0.0]\n"
     ]
    },
    {
     "name": "stderr",
     "output_type": "stream",
     "text": [
      " 53%|█████▎    | 1222/2300 [5:10:58<5:31:02, 18.43s/it]"
     ]
    },
    {
     "name": "stdout",
     "output_type": "stream",
     "text": [
      "[ 10.28231358   0.28403065 -30.21376679 -23.98122342  -2.98310355]\n",
      "[ -5.78280866  -1.28421797   8.61580481 -29.71395944  30.48041329]\n",
      "[3.037325  0.8387827 2.214888  3.9217205 3.3086014]\n",
      "[0.0, 0.0]\n",
      "[0.0, 0.0]\n",
      "[0.0, 0.0]\n",
      "[0.0, 0.0]\n",
      "[0.0, 0.0]\n"
     ]
    },
    {
     "name": "stderr",
     "output_type": "stream",
     "text": [
      " 53%|█████▎    | 1223/2300 [5:11:16<5:30:23, 18.41s/it]"
     ]
    },
    {
     "name": "stdout",
     "output_type": "stream",
     "text": [
      "[-22.41431834  -0.61444616  -1.41659766  11.5155264  -29.28041154]\n",
      "[-30.08040238  -1.08622024  30.21356325  -6.61599723   7.88262647]\n",
      "[3.9149265 0.837589  3.4192743 3.0740938 2.2064974]\n",
      "[0.0, 0.0]\n",
      "[0.0, 0.0]\n",
      "[0.0, 0.0]\n",
      "[0.0, 0.0]\n",
      "[0.0, 0.0]\n"
     ]
    },
    {
     "name": "stderr",
     "output_type": "stream",
     "text": [
      " 53%|█████▎    | 1224/2300 [5:11:37<5:41:09, 19.02s/it]"
     ]
    },
    {
     "name": "stdout",
     "output_type": "stream",
     "text": [
      "[ 12.58207621 -20.78142173  -1.57967362 -28.28051124   0.21656753]\n",
      "[ -7.4826209  -30.31380525  -0.9151385    7.1826941   29.88046666]\n",
      "[3.070363  3.871354  0.9683336 2.1697037 3.5621505]\n",
      "[0.0, 0.0]\n",
      "[0.0, 0.0]\n",
      "[0.0, 0.0]\n",
      "[0.0, 0.0]\n",
      "[0.0, 0.0]\n"
     ]
    },
    {
     "name": "stderr",
     "output_type": "stream",
     "text": [
      " 53%|█████▎    | 1225/2300 [5:11:58<5:54:18, 19.78s/it]"
     ]
    },
    {
     "name": "stdout",
     "output_type": "stream",
     "text": [
      "[-19.31468907 -18.31481668 -27.11406334   1.88308575  13.51535066\n",
      "  -2.88201844 -10.28217197]\n",
      "[-30.58033556   2.81645067   6.51601197  29.51362695  -8.31582658\n",
      "  -0.71621745   0.88322425]\n",
      "[3.5918868 1.9748063 2.1712556 3.7285445 3.0125873 1.5261023 5.8595433]\n",
      "[0.0, 0.0]\n",
      "[0.0, 0.0]\n",
      "[0.0, 0.0]\n",
      "[0.0, 0.0]\n",
      "[0.0, 0.0]\n",
      "[0.0, 0.0]\n",
      "[0.0, 0.0]\n"
     ]
    },
    {
     "name": "stderr",
     "output_type": "stream",
     "text": [
      " 53%|█████▎    | 1226/2300 [5:12:19<6:00:12, 20.12s/it]"
     ]
    },
    {
     "name": "stdout",
     "output_type": "stream",
     "text": [
      "[ 14.28190949 -25.81417049 -17.78165649 -19.68141003   3.51623848]\n",
      "[ -9.18244123   5.71609329 -30.71372351   3.18296302  29.18053779]\n",
      "[2.959305  2.2591784 3.4953437 1.2063248 3.8562706]\n",
      "[0.0, 0.0]\n",
      "[0.0, 0.0]\n",
      "[0.0, 0.0]\n",
      "[0.0, 0.0]\n",
      "[0.0, 0.0]\n"
     ]
    },
    {
     "name": "stderr",
     "output_type": "stream",
     "text": [
      " 53%|█████▎    | 1227/2300 [5:12:41<6:08:01, 20.58s/it]"
     ]
    },
    {
     "name": "stdout",
     "output_type": "stream",
     "text": [
      "[-16.3817782   14.91521827 -21.6812286  -23.78101236   5.21607059]\n",
      "[-30.91369436 -10.01566325   3.78290783   4.68285813  28.68059101]\n",
      "[3.5656924 2.9479284 3.5054505 4.6196218 4.5447702]\n",
      "[0.0, 0.0]\n",
      "[0.0, 0.0]\n",
      "[0.0, 0.0]\n",
      "[0.0, 0.0]\n",
      "[0.0, 0.0]\n"
     ]
    },
    {
     "name": "stderr",
     "output_type": "stream",
     "text": [
      " 53%|█████▎    | 1228/2300 [5:12:58<5:49:16, 19.55s/it]"
     ]
    },
    {
     "name": "stdout",
     "output_type": "stream",
     "text": [
      "[  7.48252737 -14.88191683  15.41516804]\n",
      "[ 28.013757   -31.01367652 -10.91557808]\n",
      "[6.725218  3.641921  2.9849145]\n",
      "[0.0, 0.0]\n",
      "[0.0, 0.0]\n",
      "[0.0, 0.0]\n"
     ]
    },
    {
     "name": "stderr",
     "output_type": "stream",
     "text": [
      " 53%|█████▎    | 1229/2300 [5:13:15<5:38:23, 18.96s/it]"
     ]
    },
    {
     "name": "stdout",
     "output_type": "stream",
     "text": [
      "[ 15.88176178 -13.38205457  10.01558985]\n",
      "[-11.78217969 -31.11366009  26.98075862]\n",
      "[3.080329  3.7194848 5.089878 ]\n",
      "[0.0, 0.0]\n",
      "[0.0, 0.0]\n",
      "[0.0, 0.0]\n"
     ]
    },
    {
     "name": "stderr",
     "output_type": "stream",
     "text": [
      " 53%|█████▎    | 1230/2300 [5:13:32<5:23:52, 18.16s/it]"
     ]
    },
    {
     "name": "stdout",
     "output_type": "stream",
     "text": [
      "[-11.81547195  16.18173623  11.68210902]\n",
      "[-31.18025864 -12.78208376  26.31390977]\n",
      "[3.8361008 3.2601497 4.001623 ]\n",
      "[0.0, 0.0]\n",
      "[0.0, 0.0]\n",
      "[0.0, 0.0]\n"
     ]
    },
    {
     "name": "stderr",
     "output_type": "stream",
     "text": [
      " 54%|█████▎    | 1231/2300 [5:13:48<5:14:25, 17.65s/it]"
     ]
    },
    {
     "name": "stdout",
     "output_type": "stream",
     "text": [
      "[-10.18234271  16.41505566  13.21526744]\n",
      "[-31.11364187 -13.81530525  25.78089043]\n",
      "[3.774017  3.4609666 3.4614732]\n",
      "[0.0, 0.0]\n",
      "[0.0, 0.0]\n",
      "[0.0, 0.0]\n"
     ]
    },
    {
     "name": "stderr",
     "output_type": "stream",
     "text": [
      " 54%|█████▎    | 1232/2300 [5:14:06<5:14:07, 17.65s/it]"
     ]
    },
    {
     "name": "stdout",
     "output_type": "stream",
     "text": [
      "[-8.61580289 14.48180919 16.61502842]\n",
      "[-30.98026994  25.21399388 -14.81521107]\n",
      "[3.8501391 3.2652476 3.6247435]\n",
      "[0.0, 0.0]\n",
      "[0.0, 0.0]\n",
      "[0.0, 0.0]\n"
     ]
    },
    {
     "name": "stderr",
     "output_type": "stream",
     "text": [
      " 54%|█████▎    | 1233/2300 [5:14:23<5:08:59, 17.38s/it]"
     ]
    },
    {
     "name": "stdout",
     "output_type": "stream",
     "text": [
      "[-7.01596926 16.61501501 15.8150171 ]\n",
      "[-30.78028094 -16.01509661  24.68103387]\n",
      "[4.002354 3.852217 3.257461]\n",
      "[0.0, 0.0]\n",
      "[0.0, 0.0]\n",
      "[0.0, 0.0]\n"
     ]
    },
    {
     "name": "stderr",
     "output_type": "stream",
     "text": [
      " 54%|█████▎    | 1234/2300 [5:14:39<5:03:43, 17.10s/it]"
     ]
    },
    {
     "name": "stdout",
     "output_type": "stream",
     "text": [
      "[-5.28277068 16.51500782 17.11487884]\n",
      "[-30.51367429 -17.21497997  24.18111297]\n",
      "[4.6797442 4.293999  3.2321455]\n",
      "[0.0, 0.0]\n",
      "[0.0, 0.0]\n",
      "[0.0, 0.0]\n"
     ]
    },
    {
     "name": "stderr",
     "output_type": "stream",
     "text": [
      " 54%|█████▎    | 1235/2300 [5:14:56<5:05:35, 17.22s/it]"
     ]
    },
    {
     "name": "stdout",
     "output_type": "stream",
     "text": [
      "[-2.9163938  16.28173934 18.31477156]\n",
      "[-29.9803156  -18.58156775  23.5812191 ]\n",
      "[7.7365537 5.2488046 3.1044302]\n",
      "[0.0, 0.0]\n",
      "[0.0, 0.0]\n",
      "[0.0, 0.0]\n"
     ]
    },
    {
     "name": "stderr",
     "output_type": "stream",
     "text": [
      " 54%|█████▎    | 1236/2300 [5:15:13<4:59:48, 16.91s/it]"
     ]
    },
    {
     "name": "stdout",
     "output_type": "stream",
     "text": [
      "[ 1.18320131 15.71505575 19.51463245]\n",
      "[-29.08030043 -20.21468724  23.08135602]\n",
      "[11.964189   7.1537914  2.984118 ]\n",
      "[0.0, 0.0]\n",
      "[0.0, 0.0]\n",
      "[0.0, 0.0]\n"
     ]
    },
    {
     "name": "stderr",
     "output_type": "stream",
     "text": [
      " 54%|█████▍    | 1237/2300 [5:15:29<4:56:56, 16.76s/it]"
     ]
    },
    {
     "name": "stdout",
     "output_type": "stream",
     "text": [
      "[ 7.18273352 14.28194831 20.58067417]\n",
      "[-27.28073008 -22.58118622  22.51390699]\n",
      "[21.54996   13.194738   2.9965165]\n",
      "[0.0, 0.0]\n",
      "[0.0, 0.0]\n",
      "[0.0, 0.0]\n"
     ]
    },
    {
     "name": "stderr",
     "output_type": "stream",
     "text": [
      " 54%|█████▍    | 1238/2300 [5:15:45<4:52:53, 16.55s/it]"
     ]
    },
    {
     "name": "stdout",
     "output_type": "stream",
     "text": [
      "[21.77296429]\n",
      "[22.00474483]\n",
      "[3.041672]\n",
      "[0.0, 0.0]\n"
     ]
    },
    {
     "name": "stderr",
     "output_type": "stream",
     "text": [
      " 54%|█████▍    | 1239/2300 [5:15:59<4:40:23, 15.86s/it]"
     ]
    },
    {
     "name": "stdout",
     "output_type": "stream",
     "text": [
      "[22.88175552]\n",
      "[21.4152905]\n",
      "[3.0178053]\n",
      "[0.0, 0.0]\n"
     ]
    },
    {
     "name": "stderr",
     "output_type": "stream",
     "text": [
      " 54%|█████▍    | 1240/2300 [5:16:14<4:34:03, 15.51s/it]"
     ]
    },
    {
     "name": "stdout",
     "output_type": "stream",
     "text": [
      "[23.91429304]\n",
      "[20.8808834]\n",
      "[2.9422014]\n",
      "[0.0, 0.0]\n"
     ]
    },
    {
     "name": "stderr",
     "output_type": "stream",
     "text": [
      " 54%|█████▍    | 1241/2300 [5:16:28<4:25:52, 15.06s/it]"
     ]
    },
    {
     "name": "stdout",
     "output_type": "stream",
     "text": [
      "[24.91421384]\n",
      "[20.28108942]\n",
      "[2.9243908]\n",
      "[0.0, 0.0]\n"
     ]
    },
    {
     "name": "stderr",
     "output_type": "stream",
     "text": [
      " 54%|█████▍    | 1242/2300 [5:16:42<4:20:09, 14.75s/it]"
     ]
    },
    {
     "name": "stdout",
     "output_type": "stream",
     "text": [
      "[25.91409767]\n",
      "[19.78120461]\n",
      "[2.9249933]\n",
      "[0.0, 0.0]\n"
     ]
    },
    {
     "name": "stderr",
     "output_type": "stream",
     "text": [
      " 54%|█████▍    | 1243/2300 [5:16:56<4:17:28, 14.62s/it]"
     ]
    },
    {
     "name": "stdout",
     "output_type": "stream",
     "text": [
      "[26.91399179]\n",
      "[19.28129263]\n",
      "[2.9323218]\n",
      "[0.0, 0.0]\n"
     ]
    },
    {
     "name": "stderr",
     "output_type": "stream",
     "text": [
      " 54%|█████▍    | 1244/2300 [5:17:11<4:14:36, 14.47s/it]"
     ]
    },
    {
     "name": "stdout",
     "output_type": "stream",
     "text": [
      "[27.81391426]\n",
      "[18.68137898]\n",
      "[3.0208874]\n",
      "[0.0, 0.0]\n"
     ]
    },
    {
     "name": "stderr",
     "output_type": "stream",
     "text": [
      " 54%|█████▍    | 1245/2300 [5:17:25<4:14:12, 14.46s/it]"
     ]
    },
    {
     "name": "stdout",
     "output_type": "stream",
     "text": [
      "[28.81380936]\n",
      "[18.18144488]\n",
      "[3.1017375]\n",
      "[0.0, 0.0]\n"
     ]
    },
    {
     "name": "stderr",
     "output_type": "stream",
     "text": [
      " 54%|█████▍    | 1246/2300 [5:17:39<4:11:56, 14.34s/it]"
     ]
    },
    {
     "name": "stdout",
     "output_type": "stream",
     "text": [
      "[29.71372436]\n",
      "[17.58151704]\n",
      "[3.2617254]\n",
      "[0.0, 0.0]\n"
     ]
    },
    {
     "name": "stderr",
     "output_type": "stream",
     "text": [
      " 54%|█████▍    | 1247/2300 [5:17:53<4:11:47, 14.35s/it]"
     ]
    },
    {
     "name": "stdout",
     "output_type": "stream",
     "text": [
      "[30.68040191]\n",
      "[17.01504758]\n",
      "[3.4031036]\n",
      "[0.0, 0.0]\n"
     ]
    },
    {
     "name": "stderr",
     "output_type": "stream",
     "text": [
      " 54%|█████▍    | 1248/2300 [5:18:07<4:10:04, 14.26s/it]"
     ]
    },
    {
     "name": "stdout",
     "output_type": "stream",
     "text": [
      "[31.58030534]\n",
      "[16.4150993]\n",
      "[3.6394494]\n",
      "[0.0, 0.0]\n"
     ]
    },
    {
     "name": "stderr",
     "output_type": "stream",
     "text": [
      " 54%|█████▍    | 1249/2300 [5:18:22<4:12:08, 14.39s/it]"
     ]
    },
    {
     "name": "stdout",
     "output_type": "stream",
     "text": [
      "[32.58020236]\n",
      "[15.81514945]\n",
      "[4.068734]\n",
      "[0.0, 0.0]\n"
     ]
    },
    {
     "name": "stderr",
     "output_type": "stream",
     "text": [
      " 54%|█████▍    | 1250/2300 [5:18:37<4:13:10, 14.47s/it]"
     ]
    },
    {
     "name": "stdout",
     "output_type": "stream",
     "text": [
      "[-48.07856447]\n",
      "[-20.01465084]\n",
      "[2.8259783]\n",
      "[0.0, 0.0]\n"
     ]
    },
    {
     "name": "stderr",
     "output_type": "stream",
     "text": [
      " 54%|█████▍    | 1251/2300 [5:18:51<4:11:00, 14.36s/it]"
     ]
    },
    {
     "name": "stdout",
     "output_type": "stream",
     "text": [
      "[-47.2786407]\n",
      "[-20.31461951]\n",
      "[2.8356042]\n",
      "[0.0, 0.0]\n"
     ]
    },
    {
     "name": "stderr",
     "output_type": "stream",
     "text": [
      " 54%|█████▍    | 1252/2300 [5:19:05<4:10:10, 14.32s/it]"
     ]
    },
    {
     "name": "stdout",
     "output_type": "stream",
     "text": [
      "[-46.3787269]\n",
      "[-20.61458765]\n",
      "[2.9016955]\n",
      "[0.0, 0.0]\n"
     ]
    },
    {
     "name": "stderr",
     "output_type": "stream",
     "text": [
      " 54%|█████▍    | 1253/2300 [5:19:19<4:08:05, 14.22s/it]"
     ]
    },
    {
     "name": "stdout",
     "output_type": "stream",
     "text": [
      "[-45.51226205]\n",
      "[-20.98127481]\n",
      "[2.9708333]\n",
      "[0.0, 0.0]\n"
     ]
    },
    {
     "name": "stderr",
     "output_type": "stream",
     "text": [
      " 55%|█████▍    | 1254/2300 [5:19:33<4:06:15, 14.13s/it]"
     ]
    },
    {
     "name": "stdout",
     "output_type": "stream",
     "text": [
      "[-44.61235319]\n",
      "[-21.281245]\n",
      "[3.036061]\n",
      "[0.0, 0.0]\n"
     ]
    },
    {
     "name": "stderr",
     "output_type": "stream",
     "text": [
      " 55%|█████▍    | 1255/2300 [5:19:47<4:06:39, 14.16s/it]"
     ]
    },
    {
     "name": "stdout",
     "output_type": "stream",
     "text": [
      "[-43.71244497]\n",
      "[-21.68120454]\n",
      "[3.0355673]\n",
      "[0.0, 0.0]\n"
     ]
    },
    {
     "name": "stderr",
     "output_type": "stream",
     "text": [
      " 55%|█████▍    | 1256/2300 [5:20:03<4:15:44, 14.70s/it]"
     ]
    },
    {
     "name": "stdout",
     "output_type": "stream",
     "text": [
      "[-37.91298738 -32.31353903 -42.77906382]\n",
      "[ 23.11437378  29.01379386 -22.01443732]\n",
      "[9.850043 9.566763 2.987431]\n",
      "[0.0, 0.0]\n",
      "[0.0, 0.0]\n",
      "[0.0, 0.0]\n"
     ]
    },
    {
     "name": "stderr",
     "output_type": "stream",
     "text": [
      " 55%|█████▍    | 1257/2300 [5:20:20<4:24:48, 15.23s/it]"
     ]
    },
    {
     "name": "stdout",
     "output_type": "stream",
     "text": [
      "[-41.91262988 -37.91298878 -29.71379736]\n",
      "[-22.38113261  21.51452984  30.11368279]\n",
      "[2.9465377 6.005051  7.171453 ]\n",
      "[0.0, 0.0]\n",
      "[0.0, 0.0]\n",
      "[0.0, 0.0]\n"
     ]
    },
    {
     "name": "stderr",
     "output_type": "stream",
     "text": [
      " 55%|█████▍    | 1258/2300 [5:20:38<4:39:10, 16.08s/it]"
     ]
    },
    {
     "name": "stdout",
     "output_type": "stream",
     "text": [
      "[-40.9792273  -37.57963083 -27.38063173]\n",
      "[-22.7143599   20.28138631  30.88035244]\n",
      "[2.9382198 5.2353773 5.8271074]\n",
      "[0.0, 0.0]\n",
      "[0.0, 0.0]\n",
      "[0.0, 0.0]\n"
     ]
    },
    {
     "name": "stderr",
     "output_type": "stream",
     "text": [
      " 55%|█████▍    | 1259/2300 [5:20:54<4:38:59, 16.08s/it]"
     ]
    },
    {
     "name": "stdout",
     "output_type": "stream",
     "text": [
      "[-40.01282479 -37.27965887 -25.18085087]\n",
      "[-23.08105863  19.08150524  31.38030587]\n",
      "[2.920928  4.7290797 5.346676 ]\n",
      "[0.0, 0.0]\n",
      "[0.0, 0.0]\n",
      "[0.0, 0.0]\n"
     ]
    },
    {
     "name": "stderr",
     "output_type": "stream",
     "text": [
      " 55%|█████▍    | 1260/2300 [5:21:10<4:40:33, 16.19s/it]"
     ]
    },
    {
     "name": "stdout",
     "output_type": "stream",
     "text": [
      "[-39.11291764 -36.91309024 -23.08106271]\n",
      "[-23.48101461  18.0148739   31.68027852]\n",
      "[2.8764493 4.1573243 4.468125 ]\n",
      "[0.0, 0.0]\n",
      "[0.0, 0.0]\n",
      "[0.0, 0.0]\n"
     ]
    },
    {
     "name": "stderr",
     "output_type": "stream",
     "text": [
      " 55%|█████▍    | 1261/2300 [5:21:28<4:47:14, 16.59s/it]"
     ]
    },
    {
     "name": "stdout",
     "output_type": "stream",
     "text": [
      "[-38.11302064 -36.51313017 -21.28124595]\n",
      "[-23.78098095  17.01497297  31.88025888]\n",
      "[2.9112382 3.6623168 4.231506 ]\n",
      "[0.0, 0.0]\n",
      "[0.0, 0.0]\n",
      "[0.0, 0.0]\n"
     ]
    },
    {
     "name": "stderr",
     "output_type": "stream",
     "text": [
      " 55%|█████▍    | 1262/2300 [5:21:44<4:45:33, 16.51s/it]"
     ]
    },
    {
     "name": "stdout",
     "output_type": "stream",
     "text": [
      "[-37.11313009 -36.21316025 -19.3814357 ]\n",
      "[-24.18093898  16.01507203  31.98025065]\n",
      "[3.0132139 3.2783556 4.0856314]\n",
      "[0.0, 0.0]\n",
      "[0.0, 0.0]\n",
      "[0.0, 0.0]\n"
     ]
    },
    {
     "name": "stderr",
     "output_type": "stream",
     "text": [
      " 55%|█████▍    | 1263/2300 [5:22:02<4:49:50, 16.77s/it]"
     ]
    },
    {
     "name": "stdout",
     "output_type": "stream",
     "text": [
      "[-36.11324215 -17.5150056  -35.87978972]\n",
      "[-24.58089399  32.11345299  15.08190123]\n",
      "[3.0714614 3.9510102 3.0149648]\n",
      "[0.0, 0.0]\n",
      "[0.0, 0.0]\n",
      "[0.0, 0.0]\n"
     ]
    },
    {
     "name": "stderr",
     "output_type": "stream",
     "text": [
      " 55%|█████▍    | 1264/2300 [5:22:18<4:47:26, 16.65s/it]"
     ]
    },
    {
     "name": "stdout",
     "output_type": "stream",
     "text": [
      "[-34.97973735 -35.47982706 -15.78179446]\n",
      "[-24.91409053  14.28198166  32.18023539]\n",
      "[3.0089247 2.8483648 3.7058327]\n",
      "[0.0, 0.0]\n",
      "[0.0, 0.0]\n",
      "[0.0, 0.0]\n"
     ]
    },
    {
     "name": "stderr",
     "output_type": "stream",
     "text": [
      " 55%|█████▌    | 1265/2300 [5:22:36<4:54:12, 17.06s/it]"
     ]
    },
    {
     "name": "stdout",
     "output_type": "stream",
     "text": [
      "[-35.1132731  -33.97980538 -13.98197522]\n",
      "[ 13.4153284  -25.3140329   32.18023703]\n",
      "[2.688948  3.0264342 3.68467  ]\n",
      "[0.0, 0.0]\n",
      "[0.0, 0.0]\n",
      "[0.0, 0.0]\n"
     ]
    },
    {
     "name": "stderr",
     "output_type": "stream",
     "text": [
      " 55%|█████▌    | 1266/2300 [5:22:52<4:47:32, 16.69s/it]"
     ]
    },
    {
     "name": "stdout",
     "output_type": "stream",
     "text": [
      "[-34.61332321 -12.31552038 -32.87987389]\n",
      "[ 12.61540935  32.11343406 -25.71396974]\n",
      "[2.5473485 3.3937058 3.1712127]\n",
      "[0.0, 0.0]\n",
      "[0.0, 0.0]\n",
      "[0.0, 0.0]\n"
     ]
    },
    {
     "name": "stderr",
     "output_type": "stream",
     "text": [
      " 55%|█████▌    | 1267/2300 [5:23:08<4:45:58, 16.61s/it]"
     ]
    },
    {
     "name": "stdout",
     "output_type": "stream",
     "text": [
      "[-34.11337382 -31.67992171 -10.78230479]\n",
      "[ 11.81549007 -26.11388357  31.9802579 ]\n",
      "[2.4099567 3.3622046 3.1979916]\n",
      "[0.0, 0.0]\n",
      "[0.0, 0.0]\n",
      "[0.0, 0.0]\n"
     ]
    },
    {
     "name": "stderr",
     "output_type": "stream",
     "text": [
      " 55%|█████▌    | 1268/2300 [5:23:26<4:51:05, 16.92s/it]"
     ]
    },
    {
     "name": "stdout",
     "output_type": "stream",
     "text": [
      "[-30.51400034 -33.61342497  -9.21582423]\n",
      "[-26.58057813  11.11556019  31.91343746]\n",
      "[3.5454462 2.3377993 3.1413798]\n",
      "[0.0, 0.0]\n",
      "[0.0, 0.0]\n",
      "[0.0, 0.0]\n"
     ]
    },
    {
     "name": "stderr",
     "output_type": "stream",
     "text": [
      " 55%|█████▌    | 1269/2300 [5:23:42<4:46:58, 16.70s/it]"
     ]
    },
    {
     "name": "stdout",
     "output_type": "stream",
     "text": [
      "[-29.21440782 -33.013486    -7.71597185]\n",
      "[-27.08035897  10.41563016  31.81344086]\n",
      "[3.9822369 2.283207  3.1115916]\n",
      "[0.0, 0.0]\n",
      "[0.0, 0.0]\n",
      "[0.0, 0.0]\n"
     ]
    },
    {
     "name": "stderr",
     "output_type": "stream",
     "text": [
      " 55%|█████▌    | 1270/2300 [5:23:58<4:45:36, 16.64s/it]"
     ]
    },
    {
     "name": "stdout",
     "output_type": "stream",
     "text": [
      "[-27.73825866   2.98318267  -6.21612002   5.81590109 -32.38011025]\n",
      "[-27.6951683   -2.48339924  31.61345384  -3.81633592   9.68244436]\n",
      "[4.491739  2.714278  3.0942216 4.284448  2.2427118]\n",
      "[0.0, 0.0]\n",
      "[0.0, 0.0]\n",
      "[0.0, 0.0]\n",
      "[0.0, 0.0]\n",
      "[0.0, 0.0]\n"
     ]
    },
    {
     "name": "stderr",
     "output_type": "stream",
     "text": [
      " 55%|█████▌    | 1271/2300 [5:24:18<4:59:01, 17.44s/it]"
     ]
    },
    {
     "name": "stdout",
     "output_type": "stream",
     "text": [
      "[-26.11362287   1.48349367  -4.71626865   7.81579258 -31.68017537]\n",
      "[-28.28076033  -1.98364388  31.41346737  -5.01618947   8.98251639]\n",
      "[4.517288  1.1697885 3.0782504 3.1914394 2.2045798]\n",
      "[0.0, 0.0]\n",
      "[0.0, 0.0]\n",
      "[0.0, 0.0]\n",
      "[0.0, 0.0]\n",
      "[0.0, 0.0]\n"
     ]
    },
    {
     "name": "stderr",
     "output_type": "stream",
     "text": [
      " 55%|█████▌    | 1272/2300 [5:24:36<5:03:30, 17.71s/it]"
     ]
    },
    {
     "name": "stdout",
     "output_type": "stream",
     "text": [
      "[  0.48381782  -3.21641718 -24.38130991   9.31569216 -30.88025002]\n",
      "[ -1.68393622  31.21348108 -28.71411752  -6.01607502   8.28258868]\n",
      "[0.95456845 3.1765995  4.320033   3.1624923  2.176899  ]\n",
      "[0.0, 0.0]\n",
      "[0.0, 0.0]\n",
      "[0.0, 0.0]\n",
      "[0.0, 0.0]\n",
      "[0.0, 0.0]\n"
     ]
    },
    {
     "name": "stderr",
     "output_type": "stream",
     "text": [
      " 55%|█████▌    | 1273/2300 [5:24:54<5:06:22, 17.90s/it]"
     ]
    },
    {
     "name": "stdout",
     "output_type": "stream",
     "text": [
      "[-22.71425638  -0.41554652 -30.01379462  10.61559298  -1.68323112]\n",
      "[-29.08053727  -1.48464554   7.61590545  -6.91597498  30.98036104]\n",
      "[4.162336   0.92373264 2.1731732  3.1313872  3.247108  ]\n",
      "[0.0, 0.0]\n",
      "[0.0, 0.0]\n",
      "[0.0, 0.0]\n",
      "[0.0, 0.0]\n",
      "[0.0, 0.0]\n"
     ]
    },
    {
     "name": "stderr",
     "output_type": "stream",
     "text": [
      " 55%|█████▌    | 1274/2300 [5:25:15<5:19:49, 18.70s/it]"
     ]
    },
    {
     "name": "stdout",
     "output_type": "stream",
     "text": [
      "[ -1.4275659  -29.01389549  -0.11672008 -21.08143325  11.71550079]\n",
      "[ -1.27220736   6.91597335  30.71351845 -29.41391728  -7.81588179]\n",
      "[1.003905  2.1409123 3.3872564 4.1109586 3.1586514]\n",
      "[0.0, 0.0]\n",
      "[0.0, 0.0]\n",
      "[0.0, 0.0]\n",
      "[0.0, 0.0]\n",
      "[0.0, 0.0]\n"
     ]
    },
    {
     "name": "stderr",
     "output_type": "stream",
     "text": [
      " 55%|█████▌    | 1275/2300 [5:25:35<5:27:16, 19.16s/it]"
     ]
    },
    {
     "name": "stdout",
     "output_type": "stream",
     "text": [
      "[ 12.68206987  -2.6170349  -11.61549699 -27.81401066 -19.48153289\n",
      " -17.68158365   1.51644034]\n",
      "[ -8.68250752  -1.0822783    0.81674448   6.31603246 -29.71384884\n",
      "   2.38304667  30.38041259]\n",
      "[3.0616796 1.388995  5.1297464 2.1099231 3.7966118 2.6263077 3.536003 ]\n",
      "[0.0, 0.0]\n",
      "[0.0, 0.0]\n",
      "[0.0, 0.0]\n",
      "[0.0, 0.0]\n",
      "[0.0, 0.0]\n",
      "[0.0, 0.0]\n",
      "[0.0, 0.0]\n"
     ]
    },
    {
     "name": "stderr",
     "output_type": "stream",
     "text": [
      " 55%|█████▌    | 1276/2300 [5:25:55<5:32:10, 19.46s/it]"
     ]
    },
    {
     "name": "stdout",
     "output_type": "stream",
     "text": [
      "[ 13.38200179 -19.41470333   3.08296931 -17.98165082 -26.58067665]\n",
      "[ -9.58241478   2.71645468  30.01358483 -29.91380952   5.58285012]\n",
      "[2.9894927 0.6329064 3.6559052 3.6179116 2.088281 ]\n",
      "[0.0, 0.0]\n",
      "[0.0, 0.0]\n",
      "[0.0, 0.0]\n",
      "[0.0, 0.0]\n",
      "[0.0, 0.0]\n"
     ]
    },
    {
     "name": "stderr",
     "output_type": "stream",
     "text": [
      " 56%|█████▌    | 1277/2300 [5:26:17<5:43:54, 20.17s/it]"
     ]
    },
    {
     "name": "stdout",
     "output_type": "stream",
     "text": [
      "[ 13.98194426 -20.81456298 -16.48178335 -24.98086234   4.81611816]\n",
      "[-10.48232378   3.21639524 -30.01378693   4.7828943   29.68048748]\n",
      "[2.982552  1.7887536 3.6463807 2.81009   3.992301 ]\n",
      "[0.0, 0.0]\n",
      "[0.0, 0.0]\n",
      "[0.0, 0.0]\n",
      "[0.0, 0.0]\n",
      "[0.0, 0.0]\n"
     ]
    },
    {
     "name": "stderr",
     "output_type": "stream",
     "text": [
      " 56%|█████▌    | 1278/2300 [5:26:36<5:36:12, 19.74s/it]"
     ]
    },
    {
     "name": "stdout",
     "output_type": "stream",
     "text": [
      "[-14.98191887  14.51524061   6.7159278 ]\n",
      "[-30.11376727 -11.41553128  29.18053965]\n",
      "[3.786286  3.0557237 5.195122 ]\n",
      "[0.0, 0.0]\n",
      "[0.0, 0.0]\n",
      "[0.0, 0.0]\n"
     ]
    },
    {
     "name": "stderr",
     "output_type": "stream",
     "text": [
      " 56%|█████▌    | 1279/2300 [5:26:54<5:25:02, 19.10s/it]"
     ]
    },
    {
     "name": "stdout",
     "output_type": "stream",
     "text": [
      "[-13.38206487  14.91519772   9.11568683]\n",
      "[-30.21374916 -12.31544619  28.28062782]\n",
      "[4.0287642 3.1519217 6.3392253]\n",
      "[0.0, 0.0]\n",
      "[0.0, 0.0]\n",
      "[0.0, 0.0]\n"
     ]
    },
    {
     "name": "stderr",
     "output_type": "stream",
     "text": [
      " 56%|█████▌    | 1280/2300 [5:27:11<5:16:06, 18.59s/it]"
     ]
    },
    {
     "name": "stdout",
     "output_type": "stream",
     "text": [
      "[-11.78220636  15.21516304  11.11548652]\n",
      "[-30.31372935 -13.31535186  27.48070956]\n",
      "[4.319929 3.280733 4.164342]\n",
      "[0.0, 0.0]\n",
      "[0.0, 0.0]\n",
      "[0.0, 0.0]\n"
     ]
    },
    {
     "name": "stderr",
     "output_type": "stream",
     "text": [
      " 56%|█████▌    | 1281/2300 [5:27:27<5:04:35, 17.93s/it]"
     ]
    },
    {
     "name": "stdout",
     "output_type": "stream",
     "text": [
      "[ 15.38182013 -10.0823592   12.61533533]\n",
      "[-14.38194594 -30.21372845  26.88077249]\n",
      "[3.4934382 4.163245  3.5785317]\n",
      "[0.0, 0.0]\n",
      "[0.0, 0.0]\n",
      "[0.0, 0.0]\n"
     ]
    },
    {
     "name": "stderr",
     "output_type": "stream",
     "text": [
      " 56%|█████▌    | 1282/2300 [5:27:45<5:03:10, 17.87s/it]"
     ]
    },
    {
     "name": "stdout",
     "output_type": "stream",
     "text": [
      "[-8.41582619 15.48181325 13.98187134]\n",
      "[-30.08036539 -15.4818451   26.31390308]\n",
      "[4.108928  3.8410983 3.3023033]\n",
      "[0.0, 0.0]\n",
      "[0.0, 0.0]\n",
      "[0.0, 0.0]\n"
     ]
    },
    {
     "name": "stderr",
     "output_type": "stream",
     "text": [
      " 56%|█████▌    | 1283/2300 [5:28:02<4:59:42, 17.68s/it]"
     ]
    },
    {
     "name": "stdout",
     "output_type": "stream",
     "text": [
      "[15.28172784 -6.78264348 15.41511043]\n",
      "[ 25.81393558 -29.91373683 -16.71502629]\n",
      "[3.161285  4.239553  4.3029046]\n",
      "[0.0, 0.0]\n",
      "[0.0, 0.0]\n",
      "[0.0, 0.0]\n"
     ]
    },
    {
     "name": "stderr",
     "output_type": "stream",
     "text": [
      " 56%|█████▌    | 1284/2300 [5:28:19<4:51:50, 17.23s/it]"
     ]
    },
    {
     "name": "stdout",
     "output_type": "stream",
     "text": [
      "[16.58157567 -4.88280319 15.21511265]\n",
      "[ 25.31395685 -29.5137641  -18.01489836]\n",
      "[3.1063852 5.2955136 4.99855  ]\n",
      "[0.0, 0.0]\n",
      "[0.0, 0.0]\n",
      "[0.0, 0.0]\n"
     ]
    },
    {
     "name": "stderr",
     "output_type": "stream",
     "text": [
      " 56%|█████▌    | 1285/2300 [5:28:36<4:50:30, 17.17s/it]"
     ]
    },
    {
     "name": "stdout",
     "output_type": "stream",
     "text": [
      "[14.68189327 17.78142543 -2.1829986 ]\n",
      "[-19.58148558  24.71399292 -28.91380148]\n",
      "[6.300498  3.0632493 8.812183 ]\n",
      "[0.0, 0.0]\n",
      "[0.0, 0.0]\n",
      "[0.0, 0.0]\n"
     ]
    },
    {
     "name": "stderr",
     "output_type": "stream",
     "text": [
      " 56%|█████▌    | 1286/2300 [5:28:53<4:53:13, 17.35s/it]"
     ]
    },
    {
     "name": "stdout",
     "output_type": "stream",
     "text": [
      "[13.58200928 18.9812516   2.51664768]\n",
      "[-21.58129484  24.21398395 -27.91393101]\n",
      "[ 9.443789  2.927176 17.450943]\n",
      "[0.0, 0.0]\n",
      "[0.0, 0.0]\n",
      "[0.0, 0.0]\n"
     ]
    },
    {
     "name": "stderr",
     "output_type": "stream",
     "text": [
      " 56%|█████▌    | 1287/2300 [5:29:10<4:48:06, 17.06s/it]"
     ]
    },
    {
     "name": "stdout",
     "output_type": "stream",
     "text": [
      "[20.1146067]\n",
      "[23.68130083]\n",
      "[2.866646]\n",
      "[0.0, 0.0]\n"
     ]
    },
    {
     "name": "stderr",
     "output_type": "stream",
     "text": [
      " 56%|█████▌    | 1288/2300 [5:29:26<4:42:55, 16.77s/it]"
     ]
    },
    {
     "name": "stdout",
     "output_type": "stream",
     "text": [
      "[21.21449179]\n",
      "[23.18155808]\n",
      "[2.8505926]\n",
      "[0.0, 0.0]\n"
     ]
    },
    {
     "name": "stderr",
     "output_type": "stream",
     "text": [
      " 56%|█████▌    | 1289/2300 [5:29:40<4:28:25, 15.93s/it]"
     ]
    },
    {
     "name": "stdout",
     "output_type": "stream",
     "text": [
      "[22.31326606]\n",
      "[22.68252027]\n",
      "[2.8778532]\n",
      "[0.0, 0.0]\n"
     ]
    },
    {
     "name": "stderr",
     "output_type": "stream",
     "text": [
      " 56%|█████▌    | 1290/2300 [5:29:54<4:18:19, 15.35s/it]"
     ]
    },
    {
     "name": "stdout",
     "output_type": "stream",
     "text": [
      "[23.38178237]\n",
      "[22.11537616]\n",
      "[2.8520274]\n",
      "[0.0, 0.0]\n"
     ]
    },
    {
     "name": "stderr",
     "output_type": "stream",
     "text": [
      " 56%|█████▌    | 1291/2300 [5:30:08<4:12:52, 15.04s/it]"
     ]
    },
    {
     "name": "stdout",
     "output_type": "stream",
     "text": [
      "[24.41425123]\n",
      "[21.58078648]\n",
      "[2.8042114]\n",
      "[0.0, 0.0]\n"
     ]
    },
    {
     "name": "stderr",
     "output_type": "stream",
     "text": [
      " 56%|█████▌    | 1292/2300 [5:30:22<4:07:24, 14.73s/it]"
     ]
    },
    {
     "name": "stdout",
     "output_type": "stream",
     "text": [
      "[25.41413647]\n",
      "[21.08099163]\n",
      "[2.767376]\n",
      "[0.0, 0.0]\n"
     ]
    },
    {
     "name": "stderr",
     "output_type": "stream",
     "text": [
      " 56%|█████▌    | 1293/2300 [5:30:36<4:04:14, 14.55s/it]"
     ]
    },
    {
     "name": "stdout",
     "output_type": "stream",
     "text": [
      "[26.38093172]\n",
      "[20.61479296]\n",
      "[2.7553325]\n",
      "[0.0, 0.0]\n"
     ]
    },
    {
     "name": "stderr",
     "output_type": "stream",
     "text": [
      " 56%|█████▋    | 1294/2300 [5:30:51<4:04:10, 14.56s/it]"
     ]
    },
    {
     "name": "stdout",
     "output_type": "stream",
     "text": [
      "[27.31395337]\n",
      "[20.08120725]\n",
      "[2.7676685]\n",
      "[0.0, 0.0]\n"
     ]
    },
    {
     "name": "stderr",
     "output_type": "stream",
     "text": [
      " 56%|█████▋    | 1295/2300 [5:31:05<4:02:40, 14.49s/it]"
     ]
    },
    {
     "name": "stdout",
     "output_type": "stream",
     "text": [
      "[28.28068204]\n",
      "[19.61483068]\n",
      "[2.8244936]\n",
      "[0.0, 0.0]\n"
     ]
    },
    {
     "name": "stderr",
     "output_type": "stream",
     "text": [
      " 56%|█████▋    | 1296/2300 [5:31:19<4:00:46, 14.39s/it]"
     ]
    },
    {
     "name": "stdout",
     "output_type": "stream",
     "text": [
      "[29.21376681]\n",
      "[19.08135172]\n",
      "[2.915715]\n",
      "[0.0, 0.0]\n"
     ]
    },
    {
     "name": "stderr",
     "output_type": "stream",
     "text": [
      " 56%|█████▋    | 1297/2300 [5:31:33<3:58:34, 14.27s/it]"
     ]
    },
    {
     "name": "stdout",
     "output_type": "stream",
     "text": [
      "[30.11367929]\n",
      "[18.58141422]\n",
      "[3.0364795]\n",
      "[0.0, 0.0]\n"
     ]
    },
    {
     "name": "stderr",
     "output_type": "stream",
     "text": [
      " 56%|█████▋    | 1298/2300 [5:31:47<3:57:44, 14.24s/it]"
     ]
    },
    {
     "name": "stdout",
     "output_type": "stream",
     "text": [
      "[31.01359415]\n",
      "[17.98148482]\n",
      "[3.1666174]\n",
      "[0.0, 0.0]\n"
     ]
    },
    {
     "name": "stderr",
     "output_type": "stream",
     "text": [
      " 56%|█████▋    | 1299/2300 [5:32:02<3:57:58, 14.26s/it]"
     ]
    },
    {
     "name": "stdout",
     "output_type": "stream",
     "text": [
      "[31.9802699]\n",
      "[17.5149889]\n",
      "[3.2918043]\n",
      "[0.0, 0.0]\n"
     ]
    },
    {
     "name": "stderr",
     "output_type": "stream",
     "text": [
      " 57%|█████▋    | 1300/2300 [5:32:16<3:55:57, 14.16s/it]"
     ]
    },
    {
     "name": "stdout",
     "output_type": "stream",
     "text": [
      "[-48.41196834]\n",
      "[-18.68150121]\n",
      "[3.102205]\n",
      "[0.0, 0.0]\n"
     ]
    },
    {
     "name": "stderr",
     "output_type": "stream",
     "text": [
      " 57%|█████▋    | 1301/2300 [5:32:30<3:54:55, 14.11s/it]"
     ]
    },
    {
     "name": "stdout",
     "output_type": "stream",
     "text": [
      "[-47.57861395]\n",
      "[-19.01474906]\n",
      "[3.0707307]\n",
      "[0.0, 0.0]\n"
     ]
    },
    {
     "name": "stderr",
     "output_type": "stream",
     "text": [
      " 57%|█████▋    | 1302/2300 [5:32:44<3:57:09, 14.26s/it]"
     ]
    },
    {
     "name": "stdout",
     "output_type": "stream",
     "text": [
      "[-46.67870005]\n",
      "[-19.3147174]\n",
      "[3.0505526]\n",
      "[0.0, 0.0]\n"
     ]
    },
    {
     "name": "stderr",
     "output_type": "stream",
     "text": [
      " 57%|█████▋    | 1303/2300 [5:32:58<3:55:28, 14.17s/it]"
     ]
    },
    {
     "name": "stdout",
     "output_type": "stream",
     "text": [
      "[-45.87877554]\n",
      "[-19.6146864]\n",
      "[3.0470543]\n",
      "[0.0, 0.0]\n"
     ]
    },
    {
     "name": "stderr",
     "output_type": "stream",
     "text": [
      " 57%|█████▋    | 1304/2300 [5:33:13<3:55:33, 14.19s/it]"
     ]
    },
    {
     "name": "stdout",
     "output_type": "stream",
     "text": [
      "[-45.01231066]\n",
      "[-19.98137197]\n",
      "[3.0579731]\n",
      "[0.0, 0.0]\n"
     ]
    },
    {
     "name": "stderr",
     "output_type": "stream",
     "text": [
      " 57%|█████▋    | 1305/2300 [5:33:28<4:00:33, 14.51s/it]"
     ]
    },
    {
     "name": "stdout",
     "output_type": "stream",
     "text": [
      "[-44.07894577 -39.67942635 -33.68001523]\n",
      "[-20.31461172  22.7811375   29.48048142]\n",
      "[3.1374676 8.346917  9.561989 ]\n",
      "[0.0, 0.0]\n",
      "[0.0, 0.0]\n",
      "[0.0, 0.0]\n"
     ]
    },
    {
     "name": "stderr",
     "output_type": "stream",
     "text": [
      " 57%|█████▋    | 1306/2300 [5:33:45<4:16:21, 15.47s/it]"
     ]
    },
    {
     "name": "stdout",
     "output_type": "stream",
     "text": [
      "[-43.17902921 -39.4794453  -31.18026069]\n",
      "[-20.71456853  21.38127607  30.58037667]\n",
      "[3.1777742 5.9062696 6.978669 ]\n",
      "[0.0, 0.0]\n",
      "[0.0, 0.0]\n",
      "[0.0, 0.0]\n"
     ]
    },
    {
     "name": "stderr",
     "output_type": "stream",
     "text": [
      " 57%|█████▋    | 1307/2300 [5:34:01<4:18:14, 15.60s/it]"
     ]
    },
    {
     "name": "stdout",
     "output_type": "stream",
     "text": [
      "[-42.27911174 -39.07948332 -28.98047604]\n",
      "[-21.11452525  20.18139484  31.38030124]\n",
      "[3.1392891 5.2798724 5.4646993]\n",
      "[0.0, 0.0]\n",
      "[0.0, 0.0]\n",
      "[0.0, 0.0]\n"
     ]
    },
    {
     "name": "stderr",
     "output_type": "stream",
     "text": [
      " 57%|█████▋    | 1308/2300 [5:34:18<4:21:41, 15.83s/it]"
     ]
    },
    {
     "name": "stdout",
     "output_type": "stream",
     "text": [
      "[-41.31268936 -38.77951121 -26.88068325]\n",
      "[-21.48122057  18.98151358  31.88025488]\n",
      "[3.087414  4.669123  5.1057897]\n",
      "[0.0, 0.0]\n",
      "[0.0, 0.0]\n",
      "[0.0, 0.0]\n"
     ]
    },
    {
     "name": "stderr",
     "output_type": "stream",
     "text": [
      " 57%|█████▋    | 1309/2300 [5:34:35<4:29:33, 16.32s/it]"
     ]
    },
    {
     "name": "stdout",
     "output_type": "stream",
     "text": [
      "[-38.31295161 -40.37928524 -24.78089368]\n",
      "[ 18.01487578 -21.81444736  32.28021775]\n",
      "[4.182409  3.117823  4.7245193]\n",
      "[0.0, 0.0]\n",
      "[0.0, 0.0]\n",
      "[0.0, 0.0]\n"
     ]
    },
    {
     "name": "stderr",
     "output_type": "stream",
     "text": [
      " 57%|█████▋    | 1310/2300 [5:34:52<4:31:30, 16.45s/it]"
     ]
    },
    {
     "name": "stdout",
     "output_type": "stream",
     "text": [
      "[-37.91299181 -22.91447172 -39.47936529]\n",
      "[ 17.01497482  32.513428   -22.21440365]\n",
      "[3.7514093 4.108604  3.116227 ]\n",
      "[0.0, 0.0]\n",
      "[0.0, 0.0]\n",
      "[0.0, 0.0]\n"
     ]
    },
    {
     "name": "stderr",
     "output_type": "stream",
     "text": [
      " 57%|█████▋    | 1311/2300 [5:35:08<4:30:49, 16.43s/it]"
     ]
    },
    {
     "name": "stdout",
     "output_type": "stream",
     "text": [
      "[-38.47945473 -37.47963355 -21.08126783]\n",
      "[-22.61435998  16.08180105  32.68018035]\n",
      "[3.0650306 3.4060037 4.0576243]\n",
      "[0.0, 0.0]\n",
      "[0.0, 0.0]\n",
      "[0.0, 0.0]\n"
     ]
    },
    {
     "name": "stderr",
     "output_type": "stream",
     "text": [
      " 57%|█████▋    | 1312/2300 [5:35:26<4:36:20, 16.78s/it]"
     ]
    },
    {
     "name": "stdout",
     "output_type": "stream",
     "text": [
      "[-37.5130807  -37.11307219 -19.28144732]\n",
      "[-22.98105849  15.21515228  32.78017208]\n",
      "[3.0972364 3.127564  3.969604 ]\n",
      "[0.0, 0.0]\n",
      "[0.0, 0.0]\n",
      "[0.0, 0.0]\n"
     ]
    },
    {
     "name": "stderr",
     "output_type": "stream",
     "text": [
      " 57%|█████▋    | 1313/2300 [5:35:42<4:34:05, 16.66s/it]"
     ]
    },
    {
     "name": "stdout",
     "output_type": "stream",
     "text": [
      "[-36.51318967 -36.6797094  -17.48162626]\n",
      "[-23.38101277  14.38197008  32.88016442]\n",
      "[3.2043226 2.8837225 3.791852 ]\n",
      "[0.0, 0.0]\n",
      "[0.0, 0.0]\n",
      "[0.0, 0.0]\n"
     ]
    },
    {
     "name": "stderr",
     "output_type": "stream",
     "text": [
      " 57%|█████▋    | 1314/2300 [5:36:00<4:37:42, 16.90s/it]"
     ]
    },
    {
     "name": "stdout",
     "output_type": "stream",
     "text": [
      "[-35.41331225 -36.31315337 -15.71518368]\n",
      "[-23.78096856  13.5153203   32.91336874]\n",
      "[3.2702465 2.7028213 3.5444307]\n",
      "[0.0, 0.0]\n",
      "[0.0, 0.0]\n",
      "[0.0, 0.0]\n"
     ]
    },
    {
     "name": "stderr",
     "output_type": "stream",
     "text": [
      " 57%|█████▋    | 1315/2300 [5:36:16<4:34:07, 16.70s/it]"
     ]
    },
    {
     "name": "stdout",
     "output_type": "stream",
     "text": [
      "[-34.31343589 -35.87978186 -14.08196666]\n",
      "[-24.18092134  12.7821295   32.88016784]\n",
      "[3.2034779 2.5943332 3.5267715]\n",
      "[0.0, 0.0]\n",
      "[0.0, 0.0]\n",
      "[0.0, 0.0]\n"
     ]
    },
    {
     "name": "stderr",
     "output_type": "stream",
     "text": [
      " 57%|█████▋    | 1316/2300 [5:36:32<4:32:47, 16.63s/it]"
     ]
    },
    {
     "name": "stdout",
     "output_type": "stream",
     "text": [
      "[-33.31355229 -35.4132442  -12.41550922]\n",
      "[-24.58086674  12.01547259  32.81336603]\n",
      "[3.1953263 2.4927723 3.3005643]\n",
      "[0.0, 0.0]\n",
      "[0.0, 0.0]\n",
      "[0.0, 0.0]\n"
     ]
    },
    {
     "name": "stderr",
     "output_type": "stream",
     "text": [
      " 57%|█████▋    | 1317/2300 [5:36:51<4:41:55, 17.21s/it]"
     ]
    },
    {
     "name": "stdout",
     "output_type": "stream",
     "text": [
      "[-10.81566556 -32.07994096 -34.87987173]\n",
      "[ 32.81335855 -24.91404555  11.28227987]\n",
      "[3.0897725 3.3591232 2.403076 ]\n",
      "[0.0, 0.0]\n",
      "[0.0, 0.0]\n",
      "[0.0, 0.0]\n"
     ]
    },
    {
     "name": "stderr",
     "output_type": "stream",
     "text": [
      " 57%|█████▋    | 1318/2300 [5:37:07<4:35:26, 16.83s/it]"
     ]
    },
    {
     "name": "stdout",
     "output_type": "stream",
     "text": [
      "[-31.01386074 -34.27992642  -9.28245849]\n",
      "[-25.38073001  10.58235116  32.68018686]\n",
      "[3.5791128 2.3257093 3.0459826]\n",
      "[0.0, 0.0]\n",
      "[0.0, 0.0]\n",
      "[0.0, 0.0]\n"
     ]
    },
    {
     "name": "stderr",
     "output_type": "stream",
     "text": [
      " 57%|█████▋    | 1319/2300 [5:37:23<4:33:05, 16.70s/it]"
     ]
    },
    {
     "name": "stdout",
     "output_type": "stream",
     "text": [
      "[-33.71341824 -29.67992253  -7.88260102]\n",
      "[  9.91568323 -25.81380876  32.48020667]\n",
      "[2.2675884 3.9567955 3.0302339]\n",
      "[0.0, 0.0]\n",
      "[0.0, 0.0]\n",
      "[0.0, 0.0]\n"
     ]
    },
    {
     "name": "stderr",
     "output_type": "stream",
     "text": [
      " 57%|█████▋    | 1320/2300 [5:37:41<4:36:48, 16.95s/it]"
     ]
    },
    {
     "name": "stdout",
     "output_type": "stream",
     "text": [
      "[-28.37945818 -33.08003641  -6.38275303]\n",
      "[-26.41349347   9.18249461  32.38021709]\n",
      "[4.544274  2.2312822 3.0231097]\n",
      "[0.0, 0.0]\n",
      "[0.0, 0.0]\n",
      "[0.0, 0.0]\n"
     ]
    },
    {
     "name": "stderr",
     "output_type": "stream",
     "text": [
      " 57%|█████▋    | 1321/2300 [5:37:58<4:37:18, 17.00s/it]"
     ]
    },
    {
     "name": "stdout",
     "output_type": "stream",
     "text": [
      "[  6.68271087 -26.68898468   1.91582543 -32.28011097  -4.88290365]\n",
      "[ -4.98297074 -27.01827129  -2.5166524    8.58255738  32.18023772]\n",
      "[3.580365  5.6463323 1.6172488 2.2070365 2.9920955]\n",
      "[0.0, 0.0]\n",
      "[0.0, 0.0]\n",
      "[0.0, 0.0]\n",
      "[0.0, 0.0]\n",
      "[0.0, 0.0]\n"
     ]
    },
    {
     "name": "stderr",
     "output_type": "stream",
     "text": [
      " 57%|█████▋    | 1322/2300 [5:38:16<4:43:15, 17.38s/it]"
     ]
    },
    {
     "name": "stdout",
     "output_type": "stream",
     "text": [
      "[-24.81384367   0.78365207 -31.51364567  -3.41639394   8.31575447]\n",
      "[-27.68082919  -2.08374127   7.91588014  32.01341068  -6.11607785]\n",
      "[5.0873594 1.1032181 2.164351  3.041406  3.276139 ]\n",
      "[0.0, 0.0]\n",
      "[0.0, 0.0]\n",
      "[0.0, 0.0]\n",
      "[0.0, 0.0]\n",
      "[0.0, 0.0]\n"
     ]
    },
    {
     "name": "stderr",
     "output_type": "stream",
     "text": [
      " 58%|█████▊    | 1323/2300 [5:38:37<4:57:31, 18.27s/it]"
     ]
    },
    {
     "name": "stdout",
     "output_type": "stream",
     "text": [
      "[  9.68237952  -0.2159321  -30.61373959 -23.08142487  -1.88320635]\n",
      "[ -7.08269933  -1.88413497   7.31593831 -28.11415402  31.78027883]\n",
      "[3.229897  1.0367813 2.1494012 4.535482  3.105403 ]\n",
      "[0.0, 0.0]\n",
      "[0.0, 0.0]\n",
      "[0.0, 0.0]\n",
      "[0.0, 0.0]\n",
      "[0.0, 0.0]\n"
     ]
    },
    {
     "name": "stderr",
     "output_type": "stream",
     "text": [
      " 58%|█████▊    | 1324/2300 [5:38:56<5:00:06, 18.45s/it]"
     ]
    },
    {
     "name": "stdout",
     "output_type": "stream",
     "text": [
      "[-21.41440612  10.78226453 -29.61384351  -0.41668895  -1.18955577]\n",
      "[-28.4806026   -8.08258842   6.61600628  31.51344862  -1.61920328]\n",
      "[4.371234  3.2131975 2.1342416 3.2401993 1.0488765]\n",
      "[0.0, 0.0]\n",
      "[0.0, 0.0]\n",
      "[0.0, 0.0]\n",
      "[0.0, 0.0]\n",
      "[0.0, 0.0]\n"
     ]
    },
    {
     "name": "stderr",
     "output_type": "stream",
     "text": [
      " 58%|█████▊    | 1325/2300 [5:39:16<5:11:52, 19.19s/it]"
     ]
    },
    {
     "name": "stdout",
     "output_type": "stream",
     "text": [
      "[-19.7146228  -16.71497097 -28.51395392   1.18315776  11.7154923\n",
      "  -2.38058531 -12.98196505]\n",
      "[-28.7805439    1.81656824   6.01606494  31.21347481  -9.01576776\n",
      "  -1.41551716   0.78321806]\n",
      "[4.0947247 4.0347667 2.0877368 3.3827555 3.118605  1.329667  6.116299 ]\n",
      "[0.0, 0.0]\n",
      "[0.0, 0.0]\n",
      "[0.0, 0.0]\n",
      "[0.0, 0.0]\n",
      "[0.0, 0.0]\n",
      "[0.0, 0.0]\n",
      "[0.0, 0.0]\n"
     ]
    },
    {
     "name": "stderr",
     "output_type": "stream",
     "text": [
      " 58%|█████▊    | 1326/2300 [5:39:39<5:26:11, 20.09s/it]"
     ]
    },
    {
     "name": "stdout",
     "output_type": "stream",
     "text": [
      "[-18.11480643 -19.31471621   2.78300194  12.51542025  -4.58226381\n",
      "  -7.28233022 -27.28058634]\n",
      "[-28.9805117    2.51647856  30.91350438  -9.91567883  -1.11637053\n",
      "  -0.61657666   5.38288978]\n",
      "[3.83394    0.50443417 3.434682   3.0212605  4.628858   6.8240213\n",
      " 2.023743  ]\n",
      "[0.0, 0.0]\n",
      "[0.0, 0.0]\n",
      "[0.0, 0.0]\n",
      "[0.0, 0.0]\n",
      "[0.0, 0.0]\n",
      "[0.0, 0.0]\n",
      "[0.0, 0.0]\n"
     ]
    },
    {
     "name": "stderr",
     "output_type": "stream",
     "text": [
      " 58%|█████▊    | 1327/2300 [5:39:58<5:23:37, 19.96s/it]"
     ]
    },
    {
     "name": "stdout",
     "output_type": "stream",
     "text": [
      "[ 13.08203625 -20.31461142   4.38284216 -16.5817926  -25.88073815]\n",
      "[-10.88229667   2.71645017  30.51354273 -29.11388048   4.68294308]\n",
      "[3.018646  1.5117931 3.6754286 3.7371426 2.3089106]\n",
      "[0.0, 0.0]\n",
      "[0.0, 0.0]\n",
      "[0.0, 0.0]\n",
      "[0.0, 0.0]\n",
      "[0.0, 0.0]\n"
     ]
    },
    {
     "name": "stderr",
     "output_type": "stream",
     "text": [
      " 58%|█████▊    | 1328/2300 [5:40:19<5:27:17, 20.20s/it]"
     ]
    },
    {
     "name": "stdout",
     "output_type": "stream",
     "text": [
      "[-15.11512727  13.581988     6.11599589]\n",
      "[-29.28047145 -11.78220647  30.08044687]\n",
      "[3.8744073 3.1265616 4.1765366]\n",
      "[0.0, 0.0]\n",
      "[0.0, 0.0]\n",
      "[0.0, 0.0]\n"
     ]
    },
    {
     "name": "stderr",
     "output_type": "stream",
     "text": [
      " 58%|█████▊    | 1329/2300 [5:40:38<5:19:59, 19.77s/it]"
     ]
    },
    {
     "name": "stdout",
     "output_type": "stream",
     "text": [
      "[  8.18246355 -13.48206716  13.91528259]\n",
      "[ 29.51362926 -29.31383883 -12.81539854]\n",
      "[5.388247  4.274174  3.2479045]\n",
      "[0.0, 0.0]\n",
      "[0.0, 0.0]\n",
      "[0.0, 0.0]\n"
     ]
    },
    {
     "name": "stderr",
     "output_type": "stream",
     "text": [
      " 58%|█████▊    | 1330/2300 [5:40:54<5:02:58, 18.74s/it]"
     ]
    },
    {
     "name": "stdout",
     "output_type": "stream",
     "text": [
      "[ 14.18193423  10.38224641 -11.78221709]\n",
      "[-13.78201281  28.61371126 -29.41381817]\n",
      "[3.4158573 4.5301876 5.1165905]\n",
      "[0.0, 0.0]\n",
      "[0.0, 0.0]\n",
      "[0.0, 0.0]\n"
     ]
    },
    {
     "name": "stderr",
     "output_type": "stream",
     "text": [
      " 58%|█████▊    | 1331/2300 [5:41:13<5:00:57, 18.64s/it]"
     ]
    },
    {
     "name": "stdout",
     "output_type": "stream",
     "text": [
      "[-9.91567176 14.31523017 12.01540371]\n",
      "[-29.28046059 -14.91519754  27.9806599 ]\n",
      "[4.581919  3.7476819 3.6873622]\n",
      "[0.0, 0.0]\n",
      "[0.0, 0.0]\n",
      "[0.0, 0.0]\n"
     ]
    },
    {
     "name": "stderr",
     "output_type": "stream",
     "text": [
      " 58%|█████▊    | 1332/2300 [5:41:30<4:54:41, 18.27s/it]"
     ]
    },
    {
     "name": "stdout",
     "output_type": "stream",
     "text": [
      "[-8.21584999 14.28192841 13.41526485]\n",
      "[-29.18046127 -16.08180531  27.38072367]\n",
      "[4.421926  4.153964  3.3302643]\n",
      "[0.0, 0.0]\n",
      "[0.0, 0.0]\n",
      "[0.0, 0.0]\n"
     ]
    },
    {
     "name": "stderr",
     "output_type": "stream",
     "text": [
      " 58%|█████▊    | 1333/2300 [5:41:46<4:44:12, 17.63s/it]"
     ]
    },
    {
     "name": "stdout",
     "output_type": "stream",
     "text": [
      "[14.08194807 14.78179195 -6.48267165]\n",
      "[-17.38169458  26.9138471  -28.91382773]\n",
      "[4.7172713 3.138084  4.6054688]\n",
      "[0.0, 0.0]\n",
      "[0.0, 0.0]\n",
      "[0.0, 0.0]\n"
     ]
    },
    {
     "name": "stderr",
     "output_type": "stream",
     "text": [
      " 58%|█████▊    | 1334/2300 [5:42:03<4:38:27, 17.30s/it]"
     ]
    },
    {
     "name": "stdout",
     "output_type": "stream",
     "text": [
      "[-4.41625105 13.71524747 16.0150084 ]\n",
      "[-28.58048259 -18.81481755  26.38084959]\n",
      "[6.028868  5.6201353 3.0456915]\n",
      "[0.0, 0.0]\n",
      "[0.0, 0.0]\n",
      "[0.0, 0.0]\n"
     ]
    },
    {
     "name": "stderr",
     "output_type": "stream",
     "text": [
      " 58%|█████▊    | 1335/2300 [5:42:20<4:39:33, 17.38s/it]"
     ]
    },
    {
     "name": "stdout",
     "output_type": "stream",
     "text": [
      "[-1.31658374 12.78208128 17.28150491]\n",
      "[-27.88047404 -20.58140245  25.81391974]\n",
      "[9.890336  7.54173   2.9704156]\n",
      "[0.0, 0.0]\n",
      "[0.0, 0.0]\n",
      "[0.0, 0.0]\n"
     ]
    },
    {
     "name": "stderr",
     "output_type": "stream",
     "text": [
      " 58%|█████▊    | 1336/2300 [5:42:37<4:34:55, 17.11s/it]"
     ]
    },
    {
     "name": "stdout",
     "output_type": "stream",
     "text": [
      "[18.48135368  5.1159201  10.21548856]\n",
      "[ 25.31393537 -26.11425146 -23.41439766]\n",
      "[ 2.8834598 27.637127  27.72873  ]\n",
      "[0.0, 0.0]\n",
      "[0.0, 0.0]\n",
      "[0.0, 0.0]\n"
     ]
    },
    {
     "name": "stderr",
     "output_type": "stream",
     "text": [
      " 58%|█████▊    | 1337/2300 [5:42:52<4:27:07, 16.64s/it]"
     ]
    },
    {
     "name": "stdout",
     "output_type": "stream",
     "text": [
      "[19.61466662]\n",
      "[24.78110797]\n",
      "[2.801377]\n",
      "[0.0, 0.0]\n"
     ]
    },
    {
     "name": "stderr",
     "output_type": "stream",
     "text": [
      " 58%|█████▊    | 1338/2300 [5:43:07<4:17:12, 16.04s/it]"
     ]
    },
    {
     "name": "stdout",
     "output_type": "stream",
     "text": [
      "[20.71456856]\n",
      "[24.28124391]\n",
      "[2.749411]\n",
      "[0.0, 0.0]\n"
     ]
    },
    {
     "name": "stderr",
     "output_type": "stream",
     "text": [
      " 58%|█████▊    | 1339/2300 [5:43:21<4:08:31, 15.52s/it]"
     ]
    },
    {
     "name": "stdout",
     "output_type": "stream",
     "text": [
      "[21.78059026]\n",
      "[23.81370307]\n",
      "[2.722444]\n",
      "[0.0, 0.0]\n"
     ]
    },
    {
     "name": "stderr",
     "output_type": "stream",
     "text": [
      " 58%|█████▊    | 1340/2300 [5:43:36<4:03:30, 15.22s/it]"
     ]
    },
    {
     "name": "stdout",
     "output_type": "stream",
     "text": [
      "[22.87739453]\n",
      "[23.31084486]\n",
      "[2.7252614]\n",
      "[0.0, 0.0]\n"
     ]
    },
    {
     "name": "stderr",
     "output_type": "stream",
     "text": [
      " 58%|█████▊    | 1341/2300 [5:43:50<3:57:28, 14.86s/it]"
     ]
    },
    {
     "name": "stdout",
     "output_type": "stream",
     "text": [
      "[23.88183307]\n",
      "[22.81543656]\n",
      "[2.7140257]\n",
      "[0.0, 0.0]\n"
     ]
    },
    {
     "name": "stderr",
     "output_type": "stream",
     "text": [
      " 58%|█████▊    | 1342/2300 [5:44:04<3:53:43, 14.64s/it]"
     ]
    },
    {
     "name": "stdout",
     "output_type": "stream",
     "text": [
      "[24.91419133]\n",
      "[22.28068397]\n",
      "[2.6921813]\n",
      "[0.0, 0.0]\n"
     ]
    },
    {
     "name": "stderr",
     "output_type": "stream",
     "text": [
      " 58%|█████▊    | 1343/2300 [5:44:18<3:51:59, 14.54s/it]"
     ]
    },
    {
     "name": "stdout",
     "output_type": "stream",
     "text": [
      "[25.88105752]\n",
      "[21.81475709]\n",
      "[2.6423872]\n",
      "[0.0, 0.0]\n"
     ]
    },
    {
     "name": "stderr",
     "output_type": "stream",
     "text": [
      " 58%|█████▊    | 1344/2300 [5:44:32<3:49:26, 14.40s/it]"
     ]
    },
    {
     "name": "stdout",
     "output_type": "stream",
     "text": [
      "[26.78090059]\n",
      "[21.31474723]\n",
      "[2.6406612]\n",
      "[0.0, 0.0]\n"
     ]
    },
    {
     "name": "stderr",
     "output_type": "stream",
     "text": [
      " 58%|█████▊    | 1345/2300 [5:44:46<3:47:42, 14.31s/it]"
     ]
    },
    {
     "name": "stdout",
     "output_type": "stream",
     "text": [
      "[27.81389172]\n",
      "[20.88112243]\n",
      "[2.6516976]\n",
      "[0.0, 0.0]\n"
     ]
    },
    {
     "name": "stderr",
     "output_type": "stream",
     "text": [
      " 59%|█████▊    | 1346/2300 [5:45:00<3:46:41, 14.26s/it]"
     ]
    },
    {
     "name": "stdout",
     "output_type": "stream",
     "text": [
      "[28.68064734]\n",
      "[20.41475757]\n",
      "[2.6858153]\n",
      "[0.0, 0.0]\n"
     ]
    },
    {
     "name": "stderr",
     "output_type": "stream",
     "text": [
      " 59%|█████▊    | 1347/2300 [5:45:16<3:51:28, 14.57s/it]"
     ]
    },
    {
     "name": "stdout",
     "output_type": "stream",
     "text": [
      "[29.58054124]\n",
      "[19.914792]\n",
      "[2.7597075]\n",
      "[0.0, 0.0]\n"
     ]
    },
    {
     "name": "stderr",
     "output_type": "stream",
     "text": [
      " 59%|█████▊    | 1348/2300 [5:45:30<3:49:21, 14.46s/it]"
     ]
    },
    {
     "name": "stdout",
     "output_type": "stream",
     "text": [
      "[30.51363726]\n",
      "[19.48132118]\n",
      "[2.8488183]\n",
      "[0.0, 0.0]\n"
     ]
    },
    {
     "name": "stderr",
     "output_type": "stream",
     "text": [
      " 59%|█████▊    | 1349/2300 [5:45:45<3:49:50, 14.50s/it]"
     ]
    },
    {
     "name": "stdout",
     "output_type": "stream",
     "text": [
      "[31.51353579]\n",
      "[18.98138135]\n",
      "[2.9542148]\n",
      "[0.0, 0.0]\n"
     ]
    },
    {
     "name": "stderr",
     "output_type": "stream",
     "text": [
      " 59%|█████▊    | 1350/2300 [5:45:58<3:46:13, 14.29s/it]"
     ]
    },
    {
     "name": "stdout",
     "output_type": "stream",
     "text": [
      "[-48.77850108]\n",
      "[-17.21492969]\n",
      "[3.5197272]\n",
      "[0.0, 0.0]\n"
     ]
    },
    {
     "name": "stderr",
     "output_type": "stream",
     "text": [
      " 59%|█████▊    | 1351/2300 [5:46:13<3:45:26, 14.25s/it]"
     ]
    },
    {
     "name": "stdout",
     "output_type": "stream",
     "text": [
      "[-47.87858777]\n",
      "[-17.51489824]\n",
      "[3.429424]\n",
      "[0.0, 0.0]\n"
     ]
    },
    {
     "name": "stderr",
     "output_type": "stream",
     "text": [
      " 59%|█████▉    | 1352/2300 [5:46:27<3:44:06, 14.18s/it]"
     ]
    },
    {
     "name": "stdout",
     "output_type": "stream",
     "text": [
      "[-47.07866386]\n",
      "[-17.9148571]\n",
      "[3.347946]\n",
      "[0.0, 0.0]\n"
     ]
    },
    {
     "name": "stderr",
     "output_type": "stream",
     "text": [
      " 59%|█████▉    | 1353/2300 [5:46:41<3:42:53, 14.12s/it]"
     ]
    },
    {
     "name": "stdout",
     "output_type": "stream",
     "text": [
      "[-46.17874968 -40.77931886 -39.07948694]\n",
      "[-18.21482538  24.98091996  27.08071352]\n",
      "[ 3.3017645 25.911121  31.491337 ]\n",
      "[0.0, 0.0]\n",
      "[0.0, 0.0]\n",
      "[0.0, 0.0]\n"
     ]
    },
    {
     "name": "stderr",
     "output_type": "stream",
     "text": [
      " 59%|█████▉    | 1354/2300 [5:46:57<3:52:11, 14.73s/it]"
     ]
    },
    {
     "name": "stdout",
     "output_type": "stream",
     "text": [
      "[-45.31227891 -41.37925914 -35.07987953]\n",
      "[-18.58151072  22.58115635  29.98042984]\n",
      "[ 3.2685978  6.912974  11.730794 ]\n",
      "[0.0, 0.0]\n",
      "[0.0, 0.0]\n",
      "[0.0, 0.0]\n"
     ]
    },
    {
     "name": "stderr",
     "output_type": "stream",
     "text": [
      " 59%|█████▉    | 1355/2300 [5:47:14<4:02:21, 15.39s/it]"
     ]
    },
    {
     "name": "stdout",
     "output_type": "stream",
     "text": [
      "[-32.61350804 -44.47891032 -41.07928763]\n",
      "[ 31.11358646 -18.91475202  21.18129464]\n",
      "[6.586502 3.259536 6.46343 ]\n",
      "[0.0, 0.0]\n",
      "[0.0, 0.0]\n",
      "[0.0, 0.0]\n"
     ]
    },
    {
     "name": "stderr",
     "output_type": "stream",
     "text": [
      " 59%|█████▉    | 1356/2300 [5:47:30<4:07:08, 15.71s/it]"
     ]
    },
    {
     "name": "stdout",
     "output_type": "stream",
     "text": [
      "[-43.57899504 -40.67932555 -30.38034033]\n",
      "[-19.31471002  19.9814133   31.88024942]\n",
      "[3.2755976 5.610905  5.5097914]\n",
      "[0.0, 0.0]\n",
      "[0.0, 0.0]\n",
      "[0.0, 0.0]\n"
     ]
    },
    {
     "name": "stderr",
     "output_type": "stream",
     "text": [
      " 59%|█████▉    | 1357/2300 [5:47:48<4:15:36, 16.26s/it]"
     ]
    },
    {
     "name": "stdout",
     "output_type": "stream",
     "text": [
      "[-40.21276305 -42.67907825 -28.48052659]\n",
      "[ 18.91478849 -19.71466661  32.38020307]\n",
      "[4.898247  3.3256302 4.7684155]\n",
      "[0.0, 0.0]\n",
      "[0.0, 0.0]\n",
      "[0.0, 0.0]\n"
     ]
    },
    {
     "name": "stderr",
     "output_type": "stream",
     "text": [
      " 59%|█████▉    | 1358/2300 [5:48:04<4:15:06, 16.25s/it]"
     ]
    },
    {
     "name": "stdout",
     "output_type": "stream",
     "text": [
      "[-41.71264594 -39.81280307 -26.48072517]\n",
      "[-20.08136027  17.81489693  32.78016643]\n",
      "[3.341782  4.2886186 4.6573863]\n",
      "[0.0, 0.0]\n",
      "[0.0, 0.0]\n",
      "[0.0, 0.0]\n"
     ]
    },
    {
     "name": "stderr",
     "output_type": "stream",
     "text": [
      " 59%|█████▉    | 1359/2300 [5:48:20<4:16:15, 16.34s/it]"
     ]
    },
    {
     "name": "stdout",
     "output_type": "stream",
     "text": [
      "[-40.81273885 -24.51431269 -39.27945868]\n",
      "[-20.48131885  33.11337342  16.88171993]\n",
      "[3.2892544 4.2800474 3.8178205]\n",
      "[0.0, 0.0]\n",
      "[0.0, 0.0]\n",
      "[0.0, 0.0]\n"
     ]
    },
    {
     "name": "stderr",
     "output_type": "stream",
     "text": [
      " 59%|█████▉    | 1360/2300 [5:48:38<4:22:05, 16.73s/it]"
     ]
    },
    {
     "name": "stdout",
     "output_type": "stream",
     "text": [
      "[-38.81290322 -22.71449085 -39.87933264]\n",
      "[ 16.01507514  33.31334752 -20.91453498]\n",
      "[3.4743216 3.8461914 3.312216 ]\n",
      "[0.0, 0.0]\n",
      "[0.0, 0.0]\n",
      "[0.0, 0.0]\n"
     ]
    },
    {
     "name": "stderr",
     "output_type": "stream",
     "text": [
      " 59%|█████▉    | 1361/2300 [5:48:54<4:20:24, 16.64s/it]"
     ]
    },
    {
     "name": "stdout",
     "output_type": "stream",
     "text": [
      "[-38.87942265 -38.37954332 -20.98127899]\n",
      "[-21.31449094  15.18188928  33.48010165]\n",
      "[3.345046  3.2270648 3.919761 ]\n",
      "[0.0, 0.0]\n",
      "[0.0, 0.0]\n",
      "[0.0, 0.0]\n"
     ]
    },
    {
     "name": "stderr",
     "output_type": "stream",
     "text": [
      " 59%|█████▉    | 1362/2300 [5:49:12<4:24:15, 16.90s/it]"
     ]
    },
    {
     "name": "stdout",
     "output_type": "stream",
     "text": [
      "[-37.91303756 -37.97958097 -19.18145833]\n",
      "[-21.68119033  14.28197872  33.58009293]\n",
      "[3.3082898 2.9833887 3.7932906]\n",
      "[0.0, 0.0]\n",
      "[0.0, 0.0]\n",
      "[0.0, 0.0]\n"
     ]
    },
    {
     "name": "stderr",
     "output_type": "stream",
     "text": [
      " 59%|█████▉    | 1363/2300 [5:49:29<4:22:55, 16.84s/it]"
     ]
    },
    {
     "name": "stdout",
     "output_type": "stream",
     "text": [
      "[-37.51303398 -17.41501406 -36.87959903]\n",
      "[ 13.51532231  33.61330487 -22.11440271]\n",
      "[2.7781947 3.6071246 3.3513384]\n",
      "[0.0, 0.0]\n",
      "[0.0, 0.0]\n",
      "[0.0, 0.0]\n"
     ]
    },
    {
     "name": "stderr",
     "output_type": "stream",
     "text": [
      " 59%|█████▉    | 1364/2300 [5:49:45<4:20:47, 16.72s/it]"
     ]
    },
    {
     "name": "stdout",
     "output_type": "stream",
     "text": [
      "[-35.8132602  -15.71518285 -37.07966424]\n",
      "[-22.48110191  33.61329967  12.78212722]\n",
      "[3.436255  3.4163537 2.636135 ]\n",
      "[0.0, 0.0]\n",
      "[0.0, 0.0]\n",
      "[0.0, 0.0]\n"
     ]
    },
    {
     "name": "stderr",
     "output_type": "stream",
     "text": [
      " 59%|█████▉    | 1365/2300 [5:50:03<4:25:04, 17.01s/it]"
     ]
    },
    {
     "name": "stdout",
     "output_type": "stream",
     "text": [
      "[-36.61312382 -14.11534137 -34.77976799]\n",
      "[ 12.01547523  33.61329385 -22.91429976]\n",
      "[2.5494926 3.390747  3.4777484]\n",
      "[0.0, 0.0]\n",
      "[0.0, 0.0]\n",
      "[0.0, 0.0]\n"
     ]
    },
    {
     "name": "stderr",
     "output_type": "stream",
     "text": [
      " 59%|█████▉    | 1366/2300 [5:50:19<4:20:00, 16.70s/it]"
     ]
    },
    {
     "name": "stdout",
     "output_type": "stream",
     "text": [
      "[-36.11317472 -33.67984836 -12.4821305 ]\n",
      "[ 11.31554631 -23.41423546  33.58009878]\n",
      "[2.482433  3.408706  3.1936734]\n",
      "[0.0, 0.0]\n",
      "[0.0, 0.0]\n",
      "[0.0, 0.0]\n"
     ]
    },
    {
     "name": "stderr",
     "output_type": "stream",
     "text": [
      " 59%|█████▉    | 1367/2300 [5:50:35<4:18:10, 16.60s/it]"
     ]
    },
    {
     "name": "stdout",
     "output_type": "stream",
     "text": [
      "[-32.51363339 -35.61322598 -10.91565429]\n",
      "[-23.78094138  10.6156169   33.51329211]\n",
      "[3.4303665 2.423076  3.0047812]\n",
      "[0.0, 0.0]\n",
      "[0.0, 0.0]\n",
      "[0.0, 0.0]\n"
     ]
    },
    {
     "name": "stderr",
     "output_type": "stream",
     "text": [
      " 59%|█████▉    | 1368/2300 [5:50:53<4:22:15, 16.88s/it]"
     ]
    },
    {
     "name": "stdout",
     "output_type": "stream",
     "text": [
      "[-31.41377315 -34.97985354  -9.48243711]\n",
      "[-24.180875     9.98240995  33.38011658]\n",
      "[3.5920606 2.3647857 2.9768448]\n",
      "[0.0, 0.0]\n",
      "[0.0, 0.0]\n",
      "[0.0, 0.0]\n"
     ]
    },
    {
     "name": "stderr",
     "output_type": "stream",
     "text": [
      " 60%|█████▉    | 1369/2300 [5:51:09<4:18:36, 16.67s/it]"
     ]
    },
    {
     "name": "stdout",
     "output_type": "stream",
     "text": [
      "[-30.21394995  -8.0159378  -34.37990817]\n",
      "[-24.58079331  33.21331197   9.28248184]\n",
      "[3.9212768 2.9465458 2.292019 ]\n",
      "[0.0, 0.0]\n",
      "[0.0, 0.0]\n",
      "[0.0, 0.0]\n"
     ]
    },
    {
     "name": "stderr",
     "output_type": "stream",
     "text": [
      " 60%|█████▉    | 1370/2300 [5:51:26<4:20:58, 16.84s/it]"
     ]
    },
    {
     "name": "stdout",
     "output_type": "stream",
     "text": [
      "[-28.91419692  -6.51608524 -33.67997257]\n",
      "[-25.08064375  33.11331694   8.68254426]\n",
      "[4.56798   2.9611647 2.2458322]\n",
      "[0.0, 0.0]\n",
      "[0.0, 0.0]\n",
      "[0.0, 0.0]\n"
     ]
    },
    {
     "name": "stderr",
     "output_type": "stream",
     "text": [
      " 60%|█████▉    | 1371/2300 [5:51:44<4:24:01, 17.05s/it]"
     ]
    },
    {
     "name": "stdout",
     "output_type": "stream",
     "text": [
      "[  5.28287153  -5.11622367 -27.37947771   2.61591978 -32.98003628]\n",
      "[ -4.68304975  32.91333233 -25.61349527  -3.21650558   8.0826073 ]\n",
      "[4.9362354 2.9525683 5.396359  3.1714551 2.2290316]\n",
      "[0.0, 0.0]\n",
      "[0.0, 0.0]\n",
      "[0.0, 0.0]\n",
      "[0.0, 0.0]\n",
      "[0.0, 0.0]\n"
     ]
    },
    {
     "name": "stderr",
     "output_type": "stream",
     "text": [
      " 60%|█████▉    | 1372/2300 [5:52:01<4:25:40, 17.18s/it]"
     ]
    },
    {
     "name": "stdout",
     "output_type": "stream",
     "text": [
      "[ -3.61637173 -25.48342471   7.21581864   1.11573002 -32.18010972]\n",
      "[ 32.71334799 -26.41556079  -6.01610373  -2.61672591   7.48267128]\n",
      "[2.9498184 6.933637  3.4691472 1.388868  2.1882446]\n",
      "[0.0, 0.0]\n",
      "[0.0, 0.0]\n",
      "[0.0, 0.0]\n",
      "[0.0, 0.0]\n",
      "[0.0, 0.0]\n"
     ]
    },
    {
     "name": "stderr",
     "output_type": "stream",
     "text": [
      " 60%|█████▉    | 1373/2300 [5:52:22<4:40:53, 18.18s/it]"
     ]
    },
    {
     "name": "stdout",
     "output_type": "stream",
     "text": [
      "[-2.35140274e+01  8.61572889e+00  1.53515819e-02 -3.12801930e+01\n",
      " -2.18317269e+00]\n",
      "[-27.08090308  -7.21596774  -2.31698692   6.88273623  32.48020743]\n",
      "[5.321409  3.415982  1.1866004 2.1524541 3.0306942]\n",
      "[0.0, 0.0]\n",
      "[0.0, 0.0]\n",
      "[0.0, 0.0]\n",
      "[0.0, 0.0]\n",
      "[0.0, 0.0]\n"
     ]
    },
    {
     "name": "stderr",
     "output_type": "stream",
     "text": [
      " 60%|█████▉    | 1374/2300 [5:52:42<4:50:04, 18.80s/it]"
     ]
    },
    {
     "name": "stdout",
     "output_type": "stream",
     "text": [
      "[-21.71433797  -1.01546085 -30.21378878   9.81564268  -0.68332438]\n",
      "[-27.48076474  -2.08464173   6.31603992  -8.21585775  32.280227  ]\n",
      "[4.7411323 1.1771772 2.1428452 3.2863462 3.100998 ]\n",
      "[0.0, 0.0]\n",
      "[0.0, 0.0]\n",
      "[0.0, 0.0]\n",
      "[0.0, 0.0]\n",
      "[0.0, 0.0]\n"
     ]
    },
    {
     "name": "stderr",
     "output_type": "stream",
     "text": [
      " 60%|█████▉    | 1375/2300 [5:53:00<4:46:57, 18.61s/it]"
     ]
    },
    {
     "name": "stdout",
     "output_type": "stream",
     "text": [
      "[ 10.78226776 -29.11390296   0.88318785 -19.98157689  -2.17651561]\n",
      "[ -9.18248389   5.71609839  32.01340388 -27.81407428  -1.81381855]\n",
      "[3.2179353 2.1051676 3.2810385 4.4886093 1.3473911]\n",
      "[0.0, 0.0]\n",
      "[0.0, 0.0]\n",
      "[0.0, 0.0]\n",
      "[0.0, 0.0]\n",
      "[0.0, 0.0]\n"
     ]
    },
    {
     "name": "stderr",
     "output_type": "stream",
     "text": [
      " 60%|█████▉    | 1376/2300 [5:53:22<5:02:37, 19.65s/it]"
     ]
    },
    {
     "name": "stdout",
     "output_type": "stream",
     "text": [
      "[-18.31477531  -8.61581926 -27.91402603   2.48303304  11.51550129\n",
      "  -3.98200656 -18.78147892]\n",
      "[-28.0806196   -0.58304112   5.11615531  31.71343236 -10.2156542\n",
      "  -1.51619978   2.08307561]\n",
      "[4.141368  5.5743475 2.0257165 3.275603  3.1494546 2.8889763 1.8672134]\n",
      "[0.0, 0.0]\n",
      "[0.0, 0.0]\n",
      "[0.0, 0.0]\n",
      "[0.0, 0.0]\n",
      "[0.0, 0.0]\n",
      "[0.0, 0.0]\n",
      "[0.0, 0.0]\n"
     ]
    },
    {
     "name": "stderr",
     "output_type": "stream",
     "text": [
      " 60%|█████▉    | 1377/2300 [5:53:46<5:21:25, 20.89s/it]"
     ]
    },
    {
     "name": "stdout",
     "output_type": "stream",
     "text": [
      "[-16.71495234 -19.91465249  12.11544552 -26.58063923   4.0162079 ]\n",
      "[-28.28058984   2.31649535 -11.21555647   4.48299007  31.38031327]\n",
      "[3.8584971 1.1422668 3.1202047 2.097243  3.4184754]\n",
      "[0.0, 0.0]\n",
      "[0.0, 0.0]\n",
      "[0.0, 0.0]\n",
      "[0.0, 0.0]\n",
      "[0.0, 0.0]\n"
     ]
    },
    {
     "name": "stderr",
     "output_type": "stream",
     "text": [
      " 60%|█████▉    | 1378/2300 [5:54:04<5:09:53, 20.17s/it]"
     ]
    },
    {
     "name": "stdout",
     "output_type": "stream",
     "text": [
      "[-15.21511298  12.58209028 -21.81448131 -24.51430954   5.71604153]\n",
      "[-28.38057365 -12.18217841   2.81642135   3.7163011   30.98035432]\n",
      "[3.9762018 3.252695  2.7837021 3.9395566 3.6842456]\n",
      "[0.0, 0.0]\n",
      "[0.0, 0.0]\n",
      "[0.0, 0.0]\n",
      "[0.0, 0.0]\n",
      "[0.0, 0.0]\n"
     ]
    },
    {
     "name": "stderr",
     "output_type": "stream",
     "text": [
      " 60%|█████▉    | 1379/2300 [5:54:24<5:04:59, 19.87s/it]"
     ]
    },
    {
     "name": "stdout",
     "output_type": "stream",
     "text": [
      "[ 12.88206162   7.48253553 -13.58207165]\n",
      "[-13.18208058  30.51354326 -28.41392942]\n",
      "[3.4507368 4.2504826 4.4897943]\n",
      "[0.0, 0.0]\n",
      "[0.0, 0.0]\n",
      "[0.0, 0.0]\n"
     ]
    },
    {
     "name": "stderr",
     "output_type": "stream",
     "text": [
      " 60%|██████    | 1380/2300 [5:54:41<4:53:02, 19.11s/it]"
     ]
    },
    {
     "name": "stdout",
     "output_type": "stream",
     "text": [
      "[ 13.08204286 -11.78223138   9.61565146]\n",
      "[-14.28197727 -28.41391651  29.78047641]\n",
      "[3.6815016 5.593142  5.2279305]\n",
      "[0.0, 0.0]\n",
      "[0.0, 0.0]\n",
      "[0.0, 0.0]\n"
     ]
    },
    {
     "name": "stderr",
     "output_type": "stream",
     "text": [
      " 60%|██████    | 1381/2300 [5:54:57<4:40:11, 18.29s/it]"
     ]
    },
    {
     "name": "stdout",
     "output_type": "stream",
     "text": [
      "[-9.8156832  13.11533173 11.41547058]\n",
      "[-28.38055864 -15.41514774  29.08054754]\n",
      "[4.977882 3.98567  3.784412]\n",
      "[0.0, 0.0]\n",
      "[0.0, 0.0]\n",
      "[0.0, 0.0]\n"
     ]
    },
    {
     "name": "stderr",
     "output_type": "stream",
     "text": [
      " 60%|██████    | 1382/2300 [5:55:15<4:36:03, 18.04s/it]"
     ]
    },
    {
     "name": "stdout",
     "output_type": "stream",
     "text": [
      "[-8.0158743  12.9820538  12.88199744]\n",
      "[-28.18056848 -16.68176595  28.51371733]\n",
      "[4.806998  4.43563   3.3192804]\n",
      "[0.0, 0.0]\n",
      "[0.0, 0.0]\n",
      "[0.0, 0.0]\n"
     ]
    },
    {
     "name": "stderr",
     "output_type": "stream",
     "text": [
      " 60%|██████    | 1383/2300 [5:55:31<4:29:18, 17.62s/it]"
     ]
    },
    {
     "name": "stdout",
     "output_type": "stream",
     "text": [
      "[-6.21606703 14.18186262 12.71534374]\n",
      "[-27.98057012  27.91377046 -18.01489412]\n",
      "[5.022725  3.1388433 5.127825 ]\n",
      "[0.0, 0.0]\n",
      "[0.0, 0.0]\n",
      "[0.0, 0.0]\n"
     ]
    },
    {
     "name": "stderr",
     "output_type": "stream",
     "text": [
      " 60%|██████    | 1384/2300 [5:55:48<4:24:27, 17.32s/it]"
     ]
    },
    {
     "name": "stdout",
     "output_type": "stream",
     "text": [
      "[-3.91631446 12.08214695 15.48172262]\n",
      "[-27.58057436 -19.58150422  27.41380717]\n",
      "[6.933087  6.496552  3.0105684]\n",
      "[0.0, 0.0]\n",
      "[0.0, 0.0]\n",
      "[0.0, 0.0]\n"
     ]
    },
    {
     "name": "stderr",
     "output_type": "stream",
     "text": [
      " 60%|██████    | 1385/2300 [5:56:06<4:25:55, 17.44s/it]"
     ]
    },
    {
     "name": "stdout",
     "output_type": "stream",
     "text": [
      "[-0.31670871 10.58230697 16.71495096]\n",
      "[-26.78052457 -21.58134748  26.88080169]\n",
      "[12.5886545 11.689077   2.9332216]\n",
      "[0.0, 0.0]\n",
      "[0.0, 0.0]\n",
      "[0.0, 0.0]\n"
     ]
    },
    {
     "name": "stderr",
     "output_type": "stream",
     "text": [
      " 60%|██████    | 1386/2300 [5:56:22<4:19:11, 17.01s/it]"
     ]
    },
    {
     "name": "stdout",
     "output_type": "stream",
     "text": [
      "[17.98143462]\n",
      "[26.41386396]\n",
      "[2.8391802]\n",
      "[0.0, 0.0]\n"
     ]
    },
    {
     "name": "stderr",
     "output_type": "stream",
     "text": [
      " 60%|██████    | 1387/2300 [5:56:37<4:11:28, 16.53s/it]"
     ]
    },
    {
     "name": "stdout",
     "output_type": "stream",
     "text": [
      "[19.11471977]\n",
      "[25.88095368]\n",
      "[2.757657]\n",
      "[0.0, 0.0]\n"
     ]
    },
    {
     "name": "stderr",
     "output_type": "stream",
     "text": [
      " 60%|██████    | 1388/2300 [5:56:51<4:00:46, 15.84s/it]"
     ]
    },
    {
     "name": "stdout",
     "output_type": "stream",
     "text": [
      "[20.21462218]\n",
      "[25.38105079]\n",
      "[2.6814451]\n",
      "[0.0, 0.0]\n"
     ]
    },
    {
     "name": "stderr",
     "output_type": "stream",
     "text": [
      " 60%|██████    | 1389/2300 [5:57:05<3:52:49, 15.33s/it]"
     ]
    },
    {
     "name": "stdout",
     "output_type": "stream",
     "text": [
      "[21.31452372]\n",
      "[24.88118588]\n",
      "[2.6231158]\n",
      "[0.0, 0.0]\n"
     ]
    },
    {
     "name": "stderr",
     "output_type": "stream",
     "text": [
      " 60%|██████    | 1390/2300 [5:57:20<3:48:11, 15.05s/it]"
     ]
    },
    {
     "name": "stdout",
     "output_type": "stream",
     "text": [
      "[22.38054377]\n",
      "[24.4136663]\n",
      "[2.5949535]\n",
      "[0.0, 0.0]\n"
     ]
    },
    {
     "name": "stderr",
     "output_type": "stream",
     "text": [
      " 60%|██████    | 1391/2300 [5:57:34<3:46:07, 14.93s/it]"
     ]
    },
    {
     "name": "stdout",
     "output_type": "stream",
     "text": [
      "[23.41368731]\n",
      "[23.98228961]\n",
      "[2.5879612]\n",
      "[0.0, 0.0]\n"
     ]
    },
    {
     "name": "stderr",
     "output_type": "stream",
     "text": [
      " 61%|██████    | 1392/2300 [5:57:49<3:42:19, 14.69s/it]"
     ]
    },
    {
     "name": "stdout",
     "output_type": "stream",
     "text": [
      "[24.41414048]\n",
      "[23.47958471]\n",
      "[2.5983353]\n",
      "[0.0, 0.0]\n"
     ]
    },
    {
     "name": "stderr",
     "output_type": "stream",
     "text": [
      " 61%|██████    | 1393/2300 [5:58:03<3:39:59, 14.55s/it]"
     ]
    },
    {
     "name": "stdout",
     "output_type": "stream",
     "text": [
      "[25.41411331]\n",
      "[22.98057767]\n",
      "[2.574207]\n",
      "[0.0, 0.0]\n"
     ]
    },
    {
     "name": "stderr",
     "output_type": "stream",
     "text": [
      " 61%|██████    | 1394/2300 [5:58:17<3:37:49, 14.43s/it]"
     ]
    },
    {
     "name": "stdout",
     "output_type": "stream",
     "text": [
      "[26.38102239]\n",
      "[22.51468891]\n",
      "[2.5256834]\n",
      "[0.0, 0.0]\n"
     ]
    },
    {
     "name": "stderr",
     "output_type": "stream",
     "text": [
      " 61%|██████    | 1395/2300 [5:58:31<3:36:37, 14.36s/it]"
     ]
    },
    {
     "name": "stdout",
     "output_type": "stream",
     "text": [
      "[27.31393311]\n",
      "[22.08094669]\n",
      "[2.538965]\n",
      "[0.0, 0.0]\n"
     ]
    },
    {
     "name": "stderr",
     "output_type": "stream",
     "text": [
      " 61%|██████    | 1396/2300 [5:58:46<3:36:26, 14.37s/it]"
     ]
    },
    {
     "name": "stdout",
     "output_type": "stream",
     "text": [
      "[28.21386204]\n",
      "[21.5810477]\n",
      "[2.5691078]\n",
      "[0.0, 0.0]\n"
     ]
    },
    {
     "name": "stderr",
     "output_type": "stream",
     "text": [
      " 61%|██████    | 1397/2300 [5:58:59<3:33:55, 14.21s/it]"
     ]
    },
    {
     "name": "stdout",
     "output_type": "stream",
     "text": [
      "[29.1806027]\n",
      "[21.21467511]\n",
      "[2.5751884]\n",
      "[0.0, 0.0]\n"
     ]
    },
    {
     "name": "stderr",
     "output_type": "stream",
     "text": [
      " 61%|██████    | 1398/2300 [5:59:14<3:34:19, 14.26s/it]"
     ]
    },
    {
     "name": "stdout",
     "output_type": "stream",
     "text": [
      "[30.08049662]\n",
      "[20.71471196]\n",
      "[2.6246574]\n",
      "[0.0, 0.0]\n"
     ]
    },
    {
     "name": "stderr",
     "output_type": "stream",
     "text": [
      " 61%|██████    | 1399/2300 [5:59:28<3:33:16, 14.20s/it]"
     ]
    },
    {
     "name": "stdout",
     "output_type": "stream",
     "text": [
      "[31.01358303]\n",
      "[20.28123844]\n",
      "[2.7027655]\n",
      "[0.0, 0.0]\n"
     ]
    },
    {
     "name": "stderr",
     "output_type": "stream",
     "text": [
      " 61%|██████    | 1400/2300 [5:59:43<3:35:26, 14.36s/it]"
     ]
    },
    {
     "name": "stdout",
     "output_type": "stream",
     "text": [
      "[-49.07847534]\n",
      "[-15.41510895]\n",
      "[4.3307805]\n",
      "[0.0, 0.0]\n"
     ]
    },
    {
     "name": "stderr",
     "output_type": "stream",
     "text": [
      " 61%|██████    | 1401/2300 [5:59:57<3:34:21, 14.31s/it]"
     ]
    },
    {
     "name": "stdout",
     "output_type": "stream",
     "text": [
      "[-48.31197517]\n",
      "[-15.88177714]\n",
      "[4.0265555]\n",
      "[0.0, 0.0]\n"
     ]
    },
    {
     "name": "stderr",
     "output_type": "stream",
     "text": [
      " 61%|██████    | 1402/2300 [6:00:11<3:33:06, 14.24s/it]"
     ]
    },
    {
     "name": "stdout",
     "output_type": "stream",
     "text": [
      "[-47.4120657  -42.87911187 -39.57943738]\n",
      "[-16.28173821  23.98101756  28.28059481]\n",
      "[ 3.7942219 13.0734005 15.927005 ]\n",
      "[0.0, 0.0]\n",
      "[0.0, 0.0]\n",
      "[0.0, 0.0]\n"
     ]
    },
    {
     "name": "stderr",
     "output_type": "stream",
     "text": [
      " 61%|██████    | 1403/2300 [6:00:26<3:37:18, 14.54s/it]"
     ]
    },
    {
     "name": "stdout",
     "output_type": "stream",
     "text": [
      "[-43.01248491 -46.5787137  -36.37975255]\n",
      "[ 22.11447536 -16.71497489  30.48037919]\n",
      "[7.0239162 3.6360815 9.669953 ]\n",
      "[0.0, 0.0]\n",
      "[0.0, 0.0]\n",
      "[0.0, 0.0]\n"
     ]
    },
    {
     "name": "stderr",
     "output_type": "stream",
     "text": [
      " 61%|██████    | 1404/2300 [6:00:43<3:45:41, 15.11s/it]"
     ]
    },
    {
     "name": "stdout",
     "output_type": "stream",
     "text": [
      "[-33.91337776 -45.67879941 -42.67913021]\n",
      "[ 31.61353894 -17.0149431   20.78133292]\n",
      "[6.3490477 3.5873423 6.1180844]\n",
      "[0.0, 0.0]\n",
      "[0.0, 0.0]\n",
      "[0.0, 0.0]\n"
     ]
    },
    {
     "name": "stderr",
     "output_type": "stream",
     "text": [
      " 61%|██████    | 1405/2300 [6:01:00<3:56:18, 15.84s/it]"
     ]
    },
    {
     "name": "stdout",
     "output_type": "stream",
     "text": [
      "[-42.31255478 -44.77888483 -31.88019482]\n",
      "[ 19.61472104 -17.41490151  32.38019716]\n",
      "[5.3554435 3.5405917 5.4001064]\n",
      "[0.0, 0.0]\n",
      "[0.0, 0.0]\n",
      "[0.0, 0.0]\n"
     ]
    },
    {
     "name": "stderr",
     "output_type": "stream",
     "text": [
      " 61%|██████    | 1406/2300 [6:01:16<3:57:40, 15.95s/it]"
     ]
    },
    {
     "name": "stdout",
     "output_type": "stream",
     "text": [
      "[-43.91241846 -41.77921641 -29.88038995]\n",
      "[-17.78158974  18.58155039  32.88015076]\n",
      "[3.5135038 4.8497753 4.708116 ]\n",
      "[0.0, 0.0]\n",
      "[0.0, 0.0]\n",
      "[0.0, 0.0]\n"
     ]
    },
    {
     "name": "stderr",
     "output_type": "stream",
     "text": [
      " 61%|██████    | 1407/2300 [6:01:33<3:59:46, 16.11s/it]"
     ]
    },
    {
     "name": "stdout",
     "output_type": "stream",
     "text": [
      "[-43.01250967 -41.21266456 -28.01396434]\n",
      "[-18.18154962  17.61491767  33.31336395]\n",
      "[3.487893  4.4464545 4.4609284]\n",
      "[0.0, 0.0]\n",
      "[0.0, 0.0]\n",
      "[0.0, 0.0]\n"
     ]
    },
    {
     "name": "stderr",
     "output_type": "stream",
     "text": [
      " 61%|██████    | 1408/2300 [6:01:50<4:03:53, 16.41s/it]"
     ]
    },
    {
     "name": "stdout",
     "output_type": "stream",
     "text": [
      "[-42.11260211 -40.6793216  -26.08076713]\n",
      "[-18.5815093   16.68173798  33.68007744]\n",
      "[3.5173912 3.9054482 4.297448 ]\n",
      "[0.0, 0.0]\n",
      "[0.0, 0.0]\n",
      "[0.0, 0.0]\n"
     ]
    },
    {
     "name": "stderr",
     "output_type": "stream",
     "text": [
      " 61%|██████▏   | 1409/2300 [6:02:07<4:08:52, 16.76s/it]"
     ]
    },
    {
     "name": "stdout",
     "output_type": "stream",
     "text": [
      "[-40.11277375 -24.31433141 -41.17921997]\n",
      "[ 15.91508645  33.91329349 -19.01473046]\n",
      "[3.5727203 3.9198787 3.5583005]\n",
      "[0.0, 0.0]\n",
      "[0.0, 0.0]\n",
      "[0.0, 0.0]\n"
     ]
    },
    {
     "name": "stderr",
     "output_type": "stream",
     "text": [
      " 61%|██████▏   | 1410/2300 [6:02:24<4:06:27, 16.62s/it]"
     ]
    },
    {
     "name": "stdout",
     "output_type": "stream",
     "text": [
      "[-40.27930027 -39.67941586 -22.58111866]\n",
      "[-19.51467638  14.98190723  34.08004152]\n",
      "[3.5156868 3.3231795 3.7145889]\n",
      "[0.0, 0.0]\n",
      "[0.0, 0.0]\n",
      "[0.0, 0.0]\n"
     ]
    },
    {
     "name": "stderr",
     "output_type": "stream",
     "text": [
      " 61%|██████▏   | 1411/2300 [6:02:40<4:05:18, 16.56s/it]"
     ]
    },
    {
     "name": "stdout",
     "output_type": "stream",
     "text": [
      "[-39.3128916  -39.21286497 -20.81467676]\n",
      "[-19.88137446  14.21525435  34.21325378]\n",
      "[3.5178533 3.1322439 3.7943647]\n",
      "[0.0, 0.0]\n",
      "[0.0, 0.0]\n",
      "[0.0, 0.0]\n"
     ]
    },
    {
     "name": "stderr",
     "output_type": "stream",
     "text": [
      " 61%|██████▏   | 1412/2300 [6:02:58<4:09:54, 16.89s/it]"
     ]
    },
    {
     "name": "stdout",
     "output_type": "stream",
     "text": [
      "[-38.31299445 -38.77949964 -19.08146873]\n",
      "[-20.28133174  13.38206636  34.2800233 ]\n",
      "[3.5779788 2.9381192 3.635776 ]\n",
      "[0.0, 0.0]\n",
      "[0.0, 0.0]\n",
      "[0.0, 0.0]\n"
     ]
    },
    {
     "name": "stderr",
     "output_type": "stream",
     "text": [
      " 61%|██████▏   | 1413/2300 [6:03:14<4:05:29, 16.61s/it]"
     ]
    },
    {
     "name": "stdout",
     "output_type": "stream",
     "text": [
      "[-37.27956983 -38.27954594 -17.38163769]\n",
      "[-20.71454428  12.68213532  34.38001524]\n",
      "[3.6304002 2.7716367 3.4173875]\n",
      "[0.0, 0.0]\n",
      "[0.0, 0.0]\n",
      "[0.0, 0.0]\n"
     ]
    },
    {
     "name": "stderr",
     "output_type": "stream",
     "text": [
      " 61%|██████▏   | 1414/2300 [6:03:30<4:04:31, 16.56s/it]"
     ]
    },
    {
     "name": "stdout",
     "output_type": "stream",
     "text": [
      "[-37.81300334 -36.27965625 -15.78179811]\n",
      "[ 11.9154879  -21.21448964  34.3800169 ]\n",
      "[2.6418376 3.6543393 3.2964914]\n",
      "[0.0, 0.0]\n",
      "[0.0, 0.0]\n",
      "[0.0, 0.0]\n"
     ]
    },
    {
     "name": "stderr",
     "output_type": "stream",
     "text": [
      " 62%|██████▏   | 1415/2300 [6:03:48<4:11:08, 17.03s/it]"
     ]
    },
    {
     "name": "stdout",
     "output_type": "stream",
     "text": [
      "[-37.31305385 -14.11534016 -35.17974691]\n",
      "[ 11.21555939  34.31322554 -21.61443993]\n",
      "[2.5687113 3.2674718 3.710268 ]\n",
      "[0.0, 0.0]\n",
      "[0.0, 0.0]\n",
      "[0.0, 0.0]\n"
     ]
    },
    {
     "name": "stderr",
     "output_type": "stream",
     "text": [
      " 62%|██████▏   | 1416/2300 [6:04:05<4:07:43, 16.81s/it]"
     ]
    },
    {
     "name": "stdout",
     "output_type": "stream",
     "text": [
      "[-34.11344248 -36.81310521 -12.51549761]\n",
      "[-22.08113016  10.51563028  34.31322019]\n",
      "[3.6941173 2.526579  3.088426 ]\n",
      "[0.0, 0.0]\n",
      "[0.0, 0.0]\n",
      "[0.0, 0.0]\n"
     ]
    },
    {
     "name": "stderr",
     "output_type": "stream",
     "text": [
      " 62%|██████▏   | 1417/2300 [6:04:21<4:05:53, 16.71s/it]"
     ]
    },
    {
     "name": "stdout",
     "output_type": "stream",
     "text": [
      "[-36.2131669  -11.01564356 -32.97991347]\n",
      "[  9.91569017  34.2132253  -22.51432188]\n",
      "[2.4838836 2.9487288 3.6359904]\n",
      "[0.0, 0.0]\n",
      "[0.0, 0.0]\n",
      "[0.0, 0.0]\n"
     ]
    },
    {
     "name": "stderr",
     "output_type": "stream",
     "text": [
      " 62%|██████▏   | 1418/2300 [6:04:39<4:09:32, 16.98s/it]"
     ]
    },
    {
     "name": "stdout",
     "output_type": "stream",
     "text": [
      "[-31.81370513 -35.61322901  -9.58242579]\n",
      "[-22.88102692   9.31574987  34.08004683]\n",
      "[3.6926467 2.4373271 2.9158533]\n",
      "[0.0, 0.0]\n",
      "[0.0, 0.0]\n",
      "[0.0, 0.0]\n"
     ]
    },
    {
     "name": "stderr",
     "output_type": "stream",
     "text": [
      " 62%|██████▏   | 1419/2300 [6:04:55<4:06:52, 16.81s/it]"
     ]
    },
    {
     "name": "stdout",
     "output_type": "stream",
     "text": [
      "[-30.61386016 -35.0132911   -8.08257751]\n",
      "[-23.28096245   8.61582016  33.98005587]\n",
      "[3.8421533 2.3705    2.869513 ]\n",
      "[0.0, 0.0]\n",
      "[0.0, 0.0]\n",
      "[0.0, 0.0]\n"
     ]
    },
    {
     "name": "stderr",
     "output_type": "stream",
     "text": [
      " 62%|██████▏   | 1420/2300 [6:05:13<4:09:23, 17.00s/it]"
     ]
    },
    {
     "name": "stdout",
     "output_type": "stream",
     "text": [
      "[ -6.71606336 -29.38006348 -34.27990861]\n",
      "[ 33.81325269 -23.71408949   8.08260294]\n",
      "[2.8794055 4.2164907 2.2964294]\n",
      "[0.0, 0.0]\n",
      "[0.0, 0.0]\n",
      "[0.0, 0.0]\n"
     ]
    },
    {
     "name": "stderr",
     "output_type": "stream",
     "text": [
      " 62%|██████▏   | 1421/2300 [6:05:29<4:06:19, 16.81s/it]"
     ]
    },
    {
     "name": "stdout",
     "output_type": "stream",
     "text": [
      "[-27.97997904 -33.57997172  -5.28285942]\n",
      "[-24.21392309   7.48266627  33.68008591]\n",
      "[4.997355  2.269326  2.8927116]\n",
      "[0.0, 0.0]\n",
      "[0.0, 0.0]\n",
      "[0.0, 0.0]\n"
     ]
    },
    {
     "name": "stderr",
     "output_type": "stream",
     "text": [
      " 62%|██████▏   | 1422/2300 [6:05:48<4:14:59, 17.42s/it]"
     ]
    },
    {
     "name": "stdout",
     "output_type": "stream",
     "text": [
      "[  5.98279433 -32.71353081  -3.81634991 -26.37920285   1.61585729]\n",
      "[ -5.78291619   6.91598818  33.51327433 -24.81347546  -3.21658111]\n",
      "[3.928757  2.2332318 2.8892488 6.2107587 2.0270014]\n",
      "[0.0, 0.0]\n",
      "[0.0, 0.0]\n",
      "[0.0, 0.0]\n",
      "[0.0, 0.0]\n",
      "[0.0, 0.0]\n"
     ]
    },
    {
     "name": "stderr",
     "output_type": "stream",
     "text": [
      " 62%|██████▏   | 1423/2300 [6:06:09<4:30:08, 18.48s/it]"
     ]
    },
    {
     "name": "stdout",
     "output_type": "stream",
     "text": [
      "[  7.48262466 -31.81362549 -24.1827392    0.3156132   -2.38314964]\n",
      "[ -7.08274631   6.41603564 -25.71500999  -2.81679893  33.28012665]\n",
      "[3.6196256 2.1856508 6.845592  1.4135895 2.953552 ]\n",
      "[0.0, 0.0]\n",
      "[0.0, 0.0]\n",
      "[0.0, 0.0]\n",
      "[0.0, 0.0]\n",
      "[0.0, 0.0]\n"
     ]
    },
    {
     "name": "stderr",
     "output_type": "stream",
     "text": [
      " 62%|██████▏   | 1424/2300 [6:06:29<4:37:56, 19.04s/it]"
     ]
    },
    {
     "name": "stdout",
     "output_type": "stream",
     "text": [
      "[ -0.91663475 -22.18169686   8.8157116   -0.78503113 -30.78022868]\n",
      "[ 33.0133166  -26.41436998  -8.21586892  -2.51717097   5.8828439 ]\n",
      "[2.9999335 5.5648556 3.4334276 1.3303622 2.163638 ]\n",
      "[0.0, 0.0]\n",
      "[0.0, 0.0]\n",
      "[0.0, 0.0]\n",
      "[0.0, 0.0]\n",
      "[0.0, 0.0]\n"
     ]
    },
    {
     "name": "stderr",
     "output_type": "stream",
     "text": [
      " 62%|██████▏   | 1425/2300 [6:06:47<4:33:55, 18.78s/it]"
     ]
    },
    {
     "name": "stdout",
     "output_type": "stream",
     "text": [
      "[-20.31451057  -2.01262364 -29.71384853   9.71564376   0.61654874]\n",
      "[-26.88081134  -2.28853618   5.31614217  -9.31575382  32.78017471]\n",
      "[4.9285917 1.4560393 2.150807  3.397235  3.1601067]\n",
      "[0.0, 0.0]\n",
      "[0.0, 0.0]\n",
      "[0.0, 0.0]\n",
      "[0.0, 0.0]\n",
      "[0.0, 0.0]\n"
     ]
    },
    {
     "name": "stderr",
     "output_type": "stream",
     "text": [
      " 62%|██████▏   | 1426/2300 [6:07:08<4:41:09, 19.30s/it]"
     ]
    },
    {
     "name": "stdout",
     "output_type": "stream",
     "text": [
      "[-18.51474081 -10.01566022   2.18306354  10.51557852  -3.58148395\n",
      " -18.08153849 -28.48043779]\n",
      "[-27.18073734  -0.58306021  32.51335986 -10.41564184  -2.01592842\n",
      "   1.58312383   4.78297046]\n",
      "[4.5628834 6.2895107 3.188959  3.3433564 2.399596  2.339481  2.0695665]\n",
      "[0.0, 0.0]\n",
      "[0.0, 0.0]\n",
      "[0.0, 0.0]\n",
      "[0.0, 0.0]\n",
      "[0.0, 0.0]\n",
      "[0.0, 0.0]\n",
      "[0.0, 0.0]\n"
     ]
    },
    {
     "name": "stderr",
     "output_type": "stream",
     "text": [
      " 62%|██████▏   | 1427/2300 [6:07:31<4:57:54, 20.47s/it]"
     ]
    },
    {
     "name": "stdout",
     "output_type": "stream",
     "text": [
      "[-16.91492304 -19.71467851  11.1155271  -27.18055795   3.7162418 ]\n",
      "[-27.3806986    2.01652908 -11.41554201   4.28302678  32.18023272]\n",
      "[4.1208754 0.8683944 3.2935007 2.0255282 3.2100391]\n",
      "[0.0, 0.0]\n",
      "[0.0, 0.0]\n",
      "[0.0, 0.0]\n",
      "[0.0, 0.0]\n",
      "[0.0, 0.0]\n"
     ]
    },
    {
     "name": "stderr",
     "output_type": "stream",
     "text": [
      " 62%|██████▏   | 1428/2300 [6:07:49<4:47:42, 19.80s/it]"
     ]
    },
    {
     "name": "stdout",
     "output_type": "stream",
     "text": [
      "[ 11.58219299 -21.21454128   5.28275727 -15.28194731 -25.48073006]\n",
      "[-12.38216886   2.31647877  31.81342924 -27.41404476   3.58308539]\n",
      "[3.3564522 1.8383363 3.395137  4.1448116 2.8770165]\n",
      "[0.0, 0.0]\n",
      "[0.0, 0.0]\n",
      "[0.0, 0.0]\n",
      "[0.0, 0.0]\n",
      "[0.0, 0.0]\n"
     ]
    },
    {
     "name": "stderr",
     "output_type": "stream",
     "text": [
      " 62%|██████▏   | 1429/2300 [6:08:10<4:51:54, 20.11s/it]"
     ]
    },
    {
     "name": "stdout",
     "output_type": "stream",
     "text": [
      "[-13.61527954   6.98258859  11.8154581 ]\n",
      "[-27.48067367  31.413465   -13.51533696]\n",
      "[4.691562  3.7290359 3.6300488]\n",
      "[0.0, 0.0]\n",
      "[0.0, 0.0]\n",
      "[0.0, 0.0]\n"
     ]
    },
    {
     "name": "stderr",
     "output_type": "stream",
     "text": [
      " 62%|██████▏   | 1430/2300 [6:08:28<4:40:48, 19.37s/it]"
     ]
    },
    {
     "name": "stdout",
     "output_type": "stream",
     "text": [
      "[-11.71548097   8.88239909  11.91544115]\n",
      "[-27.48066844  30.91350803 -14.61522881]\n",
      "[5.3945203 4.2906194 3.8465989]\n",
      "[0.0, 0.0]\n",
      "[0.0, 0.0]\n",
      "[0.0, 0.0]\n"
     ]
    },
    {
     "name": "stderr",
     "output_type": "stream",
     "text": [
      " 62%|██████▏   | 1431/2300 [6:08:44<4:27:29, 18.47s/it]"
     ]
    },
    {
     "name": "stdout",
     "output_type": "stream",
     "text": [
      "[10.78221187 -9.78241513 11.91543087]\n",
      "[ 30.21357007 -27.4139982  -15.81511085]\n",
      "[3.9010568 5.2277036 4.1423035]\n",
      "[0.0, 0.0]\n",
      "[0.0, 0.0]\n",
      "[0.0, 0.0]\n"
     ]
    },
    {
     "name": "stderr",
     "output_type": "stream",
     "text": [
      " 62%|██████▏   | 1432/2300 [6:09:02<4:22:55, 18.17s/it]"
     ]
    },
    {
     "name": "stdout",
     "output_type": "stream",
     "text": [
      "[-7.88257028 11.71543781 12.3153862 ]\n",
      "[-27.31399116 -17.11498363  29.58049769]\n",
      "[5.124845  4.712736  3.3548558]\n",
      "[0.0, 0.0]\n",
      "[0.0, 0.0]\n",
      "[0.0, 0.0]\n"
     ]
    },
    {
     "name": "stderr",
     "output_type": "stream",
     "text": [
      " 62%|██████▏   | 1433/2300 [6:09:18<4:13:48, 17.56s/it]"
     ]
    },
    {
     "name": "stdout",
     "output_type": "stream",
     "text": [
      "[13.68191933 -5.88272324 11.21547166]\n",
      "[ 29.01367319 -27.01399848 -18.51484945]\n",
      "[3.0770772 5.643662  5.7091513]\n",
      "[0.0, 0.0]\n",
      "[0.0, 0.0]\n",
      "[0.0, 0.0]\n"
     ]
    },
    {
     "name": "stderr",
     "output_type": "stream",
     "text": [
      " 62%|██████▏   | 1434/2300 [6:09:34<4:09:15, 17.27s/it]"
     ]
    },
    {
     "name": "stdout",
     "output_type": "stream",
     "text": [
      "[-3.31639284 10.28233074 15.01511668]\n",
      "[-26.48066511 -20.18147989  28.48061763]\n",
      "[8.129137  7.8449583 2.9484031]\n",
      "[0.0, 0.0]\n",
      "[0.0, 0.0]\n",
      "[0.0, 0.0]\n"
     ]
    },
    {
     "name": "stderr",
     "output_type": "stream",
     "text": [
      " 62%|██████▏   | 1435/2300 [6:09:52<4:10:17, 17.36s/it]"
     ]
    },
    {
     "name": "stdout",
     "output_type": "stream",
     "text": [
      "[16.18165264  1.3168964   7.51562617]\n",
      "[ 27.91376589 -25.41408636 -22.71448678]\n",
      "[ 2.8858838 24.512493  21.468342 ]\n",
      "[0.0, 0.0]\n",
      "[0.0, 0.0]\n",
      "[0.0, 0.0]\n"
     ]
    },
    {
     "name": "stderr",
     "output_type": "stream",
     "text": [
      " 62%|██████▏   | 1436/2300 [6:10:08<4:02:41, 16.85s/it]"
     ]
    },
    {
     "name": "stdout",
     "output_type": "stream",
     "text": [
      "[17.41489276]\n",
      "[27.38075437]\n",
      "[2.8161354]\n",
      "[0.0, 0.0]\n"
     ]
    },
    {
     "name": "stderr",
     "output_type": "stream",
     "text": [
      " 62%|██████▏   | 1437/2300 [6:10:22<3:51:27, 16.09s/it]"
     ]
    },
    {
     "name": "stdout",
     "output_type": "stream",
     "text": [
      "[18.58137446]\n",
      "[26.91383165]\n",
      "[2.744219]\n",
      "[0.0, 0.0]\n"
     ]
    },
    {
     "name": "stderr",
     "output_type": "stream",
     "text": [
      " 63%|██████▎   | 1438/2300 [6:10:36<3:42:46, 15.51s/it]"
     ]
    },
    {
     "name": "stdout",
     "output_type": "stream",
     "text": [
      "[19.78122042]\n",
      "[26.41384876]\n",
      "[2.6453397]\n",
      "[0.0, 0.0]\n"
     ]
    },
    {
     "name": "stderr",
     "output_type": "stream",
     "text": [
      " 63%|██████▎   | 1439/2300 [6:10:50<3:36:32, 15.09s/it]"
     ]
    },
    {
     "name": "stdout",
     "output_type": "stream",
     "text": [
      "[20.88105919]\n",
      "[26.01382522]\n",
      "[2.559646]\n",
      "[0.0, 0.0]\n"
     ]
    },
    {
     "name": "stderr",
     "output_type": "stream",
     "text": [
      " 63%|██████▎   | 1440/2300 [6:11:04<3:32:46, 14.84s/it]"
     ]
    },
    {
     "name": "stdout",
     "output_type": "stream",
     "text": [
      "[21.91447332]\n",
      "[25.4811276]\n",
      "[2.5123718]\n",
      "[0.0, 0.0]\n"
     ]
    },
    {
     "name": "stderr",
     "output_type": "stream",
     "text": [
      " 63%|██████▎   | 1441/2300 [6:11:18<3:28:18, 14.55s/it]"
     ]
    },
    {
     "name": "stdout",
     "output_type": "stream",
     "text": [
      "[22.91448073]\n",
      "[24.98136103]\n",
      "[2.4941108]\n",
      "[0.0, 0.0]\n"
     ]
    },
    {
     "name": "stderr",
     "output_type": "stream",
     "text": [
      " 63%|██████▎   | 1442/2300 [6:11:32<3:26:44, 14.46s/it]"
     ]
    },
    {
     "name": "stdout",
     "output_type": "stream",
     "text": [
      "[23.97875645]\n",
      "[24.61160234]\n",
      "[2.4777904]\n",
      "[0.0, 0.0]\n"
     ]
    },
    {
     "name": "stderr",
     "output_type": "stream",
     "text": [
      " 63%|██████▎   | 1443/2300 [6:11:47<3:25:04, 14.36s/it]"
     ]
    },
    {
     "name": "stdout",
     "output_type": "stream",
     "text": [
      "[24.98191242]\n",
      "[24.11515397]\n",
      "[2.4913769]\n",
      "[0.0, 0.0]\n"
     ]
    },
    {
     "name": "stderr",
     "output_type": "stream",
     "text": [
      " 63%|██████▎   | 1444/2300 [6:12:01<3:24:45, 14.35s/it]"
     ]
    },
    {
     "name": "stdout",
     "output_type": "stream",
     "text": [
      "[25.91401783]\n",
      "[23.68046602]\n",
      "[2.4742053]\n",
      "[0.0, 0.0]\n"
     ]
    },
    {
     "name": "stderr",
     "output_type": "stream",
     "text": [
      " 63%|██████▎   | 1445/2300 [6:12:15<3:24:13, 14.33s/it]"
     ]
    },
    {
     "name": "stdout",
     "output_type": "stream",
     "text": [
      "[26.88098765]\n",
      "[23.21461722]\n",
      "[2.4383674]\n",
      "[0.0, 0.0]\n"
     ]
    },
    {
     "name": "stderr",
     "output_type": "stream",
     "text": [
      " 63%|██████▎   | 1446/2300 [6:12:29<3:21:59, 14.19s/it]"
     ]
    },
    {
     "name": "stdout",
     "output_type": "stream",
     "text": [
      "[27.78082186]\n",
      "[22.81458675]\n",
      "[2.4621272]\n",
      "[0.0, 0.0]\n"
     ]
    },
    {
     "name": "stderr",
     "output_type": "stream",
     "text": [
      " 63%|██████▎   | 1447/2300 [6:12:43<3:21:59, 14.21s/it]"
     ]
    },
    {
     "name": "stdout",
     "output_type": "stream",
     "text": [
      "[28.71379691]\n",
      "[22.38096175]\n",
      "[2.4875531]\n",
      "[0.0, 0.0]\n"
     ]
    },
    {
     "name": "stderr",
     "output_type": "stream",
     "text": [
      " 63%|██████▎   | 1448/2300 [6:12:57<3:21:01, 14.16s/it]"
     ]
    },
    {
     "name": "stdout",
     "output_type": "stream",
     "text": [
      "[29.61372235]\n",
      "[21.88104482]\n",
      "[2.5120583]\n",
      "[0.0, 0.0]\n"
     ]
    },
    {
     "name": "stderr",
     "output_type": "stream",
     "text": [
      " 63%|██████▎   | 1449/2300 [6:13:11<3:20:28, 14.13s/it]"
     ]
    },
    {
     "name": "stdout",
     "output_type": "stream",
     "text": [
      "[30.51363261]\n",
      "[21.48110381]\n",
      "[2.5312014]\n",
      "[0.0, 0.0]\n"
     ]
    },
    {
     "name": "stderr",
     "output_type": "stream",
     "text": [
      " 63%|██████▎   | 1450/2300 [6:13:26<3:20:33, 14.16s/it]"
     ]
    },
    {
     "name": "stdout",
     "output_type": "stream",
     "text": [
      "[-49.61184274]\n",
      "[-13.28203298]\n",
      "[5.262088]\n",
      "[0.0, 0.0]\n"
     ]
    },
    {
     "name": "stderr",
     "output_type": "stream",
     "text": [
      " 63%|██████▎   | 1451/2300 [6:13:42<3:28:13, 14.72s/it]"
     ]
    },
    {
     "name": "stdout",
     "output_type": "stream",
     "text": [
      "[-40.21275694 -48.77850585 -44.67893471]\n",
      "[ 29.21377966 -13.81526687  22.88112521]\n",
      "[11.116458   4.8606772  8.970052 ]\n",
      "[0.0, 0.0]\n",
      "[0.0, 0.0]\n",
      "[0.0, 0.0]\n"
     ]
    },
    {
     "name": "stderr",
     "output_type": "stream",
     "text": [
      " 63%|██████▎   | 1452/2300 [6:13:58<3:34:17, 15.16s/it]"
     ]
    },
    {
     "name": "stdout",
     "output_type": "stream",
     "text": [
      "[-47.87859194 -44.57894376 -37.57963467]\n",
      "[-14.31521567  21.38127302  30.98032934]\n",
      "[4.6482797 6.0912457 8.30264  ]\n",
      "[0.0, 0.0]\n",
      "[0.0, 0.0]\n",
      "[0.0, 0.0]\n"
     ]
    },
    {
     "name": "stderr",
     "output_type": "stream",
     "text": [
      " 63%|██████▎   | 1453/2300 [6:14:16<3:46:32, 16.05s/it]"
     ]
    },
    {
     "name": "stdout",
     "output_type": "stream",
     "text": [
      "[-44.21236715 -35.21324828 -46.97867812]\n",
      "[ 20.21466312  32.1134913  -14.81516452]\n",
      "[5.1711783 6.2927537 4.4248724]\n",
      "[0.0, 0.0]\n",
      "[0.0, 0.0]\n",
      "[0.0, 0.0]\n"
     ]
    },
    {
     "name": "stderr",
     "output_type": "stream",
     "text": [
      " 63%|██████▎   | 1454/2300 [6:14:33<3:52:12, 16.47s/it]"
     ]
    },
    {
     "name": "stdout",
     "output_type": "stream",
     "text": [
      "[-46.07876393 -43.77902106 -33.18006807]\n",
      "[-15.31511302  19.1814896   32.88014477]\n",
      "[4.1427765 4.662801  5.1682014]\n",
      "[0.0, 0.0]\n",
      "[0.0, 0.0]\n",
      "[0.0, 0.0]\n"
     ]
    },
    {
     "name": "stderr",
     "output_type": "stream",
     "text": [
      " 63%|██████▎   | 1455/2300 [6:14:50<3:50:19, 16.35s/it]"
     ]
    },
    {
     "name": "stdout",
     "output_type": "stream",
     "text": [
      "[-45.21228594 -31.31363452 -43.27906927]\n",
      "[-15.7817874   33.41336048  18.28157849]\n",
      "[3.916438  4.7069364 4.3660803]\n",
      "[0.0, 0.0]\n",
      "[0.0, 0.0]\n",
      "[0.0, 0.0]\n"
     ]
    },
    {
     "name": "stderr",
     "output_type": "stream",
     "text": [
      " 63%|██████▎   | 1456/2300 [6:15:06<3:50:20, 16.38s/it]"
     ]
    },
    {
     "name": "stdout",
     "output_type": "stream",
     "text": [
      "[-44.37892513 -42.67912708 -29.48043072]\n",
      "[-16.21501952  17.38166772  33.88005158]\n",
      "[3.8242605 4.170362  4.2430415]\n",
      "[0.0, 0.0]\n",
      "[0.0, 0.0]\n",
      "[0.0, 0.0]\n"
     ]
    },
    {
     "name": "stderr",
     "output_type": "stream",
     "text": [
      " 63%|██████▎   | 1457/2300 [6:15:24<3:55:13, 16.74s/it]"
     ]
    },
    {
     "name": "stdout",
     "output_type": "stream",
     "text": [
      "[-43.47901064 -42.17917476 -27.6806092 ]\n",
      "[-16.6149778   16.48175657  34.18002493]\n",
      "[3.770831  3.8262825 4.2136188]\n",
      "[0.0, 0.0]\n",
      "[0.0, 0.0]\n",
      "[0.0, 0.0]\n"
     ]
    },
    {
     "name": "stderr",
     "output_type": "stream",
     "text": [
      " 63%|██████▎   | 1458/2300 [6:15:40<3:53:23, 16.63s/it]"
     ]
    },
    {
     "name": "stdout",
     "output_type": "stream",
     "text": [
      "[-41.51263465 -42.57909484 -25.88078886]\n",
      "[ 15.61511672 -17.01493546  34.47999788]\n",
      "[3.8245904 3.751618  4.03027  ]\n",
      "[0.0, 0.0]\n",
      "[0.0, 0.0]\n",
      "[0.0, 0.0]\n"
     ]
    },
    {
     "name": "stderr",
     "output_type": "stream",
     "text": [
      " 63%|██████▎   | 1459/2300 [6:15:57<3:56:15, 16.85s/it]"
     ]
    },
    {
     "name": "stdout",
     "output_type": "stream",
     "text": [
      "[-41.61265123 -24.11434981 -40.97928962]\n",
      "[-17.48161691  34.71321431  14.78192453]\n",
      "[3.7329414 3.65512   3.6395698]\n",
      "[0.0, 0.0]\n",
      "[0.0, 0.0]\n",
      "[0.0, 0.0]\n"
     ]
    },
    {
     "name": "stderr",
     "output_type": "stream",
     "text": [
      " 63%|██████▎   | 1460/2300 [6:16:14<3:56:49, 16.92s/it]"
     ]
    },
    {
     "name": "stdout",
     "output_type": "stream",
     "text": [
      "[-40.67926795 -40.47933593 -22.38113956]\n",
      "[-17.91483836  13.98200435  34.87996174]\n",
      "[3.7495937 3.3827727 3.617225 ]\n",
      "[0.0, 0.0]\n",
      "[0.0, 0.0]\n",
      "[0.0, 0.0]\n"
     ]
    },
    {
     "name": "stderr",
     "output_type": "stream",
     "text": [
      " 64%|██████▎   | 1461/2300 [6:16:31<3:54:34, 16.77s/it]"
     ]
    },
    {
     "name": "stdout",
     "output_type": "stream",
     "text": [
      "[-39.71284777 -20.71468559 -39.97938176]\n",
      "[-18.38152387  35.01317584  13.18208393]\n",
      "[3.7393827 3.6328688 3.1365445]\n",
      "[0.0, 0.0]\n",
      "[0.0, 0.0]\n",
      "[0.0, 0.0]\n"
     ]
    },
    {
     "name": "stderr",
     "output_type": "stream",
     "text": [
      " 64%|██████▎   | 1462/2300 [6:16:49<3:58:28, 17.07s/it]"
     ]
    },
    {
     "name": "stdout",
     "output_type": "stream",
     "text": [
      "[-39.51283463 -19.01485327 -38.77943849]\n",
      "[ 12.415438    35.01317234 -18.81473972]\n",
      "[2.95784   3.4980762 3.723685 ]\n",
      "[0.0, 0.0]\n",
      "[0.0, 0.0]\n",
      "[0.0, 0.0]\n"
     ]
    },
    {
     "name": "stderr",
     "output_type": "stream",
     "text": [
      " 64%|██████▎   | 1463/2300 [6:17:04<3:53:04, 16.71s/it]"
     ]
    },
    {
     "name": "stdout",
     "output_type": "stream",
     "text": [
      "[-39.01288343 -37.77952873 -17.38163842]\n",
      "[ 11.71551047 -19.21469554  35.07994547]\n",
      "[2.8428898 3.810535  3.2734718]\n",
      "[0.0, 0.0]\n",
      "[0.0, 0.0]\n",
      "[0.0, 0.0]\n"
     ]
    },
    {
     "name": "stderr",
     "output_type": "stream",
     "text": [
      " 64%|██████▎   | 1464/2300 [6:17:21<3:52:14, 16.67s/it]"
     ]
    },
    {
     "name": "stdout",
     "output_type": "stream",
     "text": [
      "[-36.7131566  -38.51293299 -15.78179877]\n",
      "[-19.68138702  11.01558245  35.07994674]\n",
      "[3.975071  2.7617188 3.1729467]\n",
      "[0.0, 0.0]\n",
      "[0.0, 0.0]\n",
      "[0.0, 0.0]\n"
     ]
    },
    {
     "name": "stderr",
     "output_type": "stream",
     "text": [
      " 64%|██████▎   | 1465/2300 [6:17:39<3:56:25, 16.99s/it]"
     ]
    },
    {
     "name": "stdout",
     "output_type": "stream",
     "text": [
      "[-38.0129839  -14.21532865 -35.67971328]\n",
      "[ 10.31565373  35.01315849 -20.21458601]\n",
      "[2.716143  3.1532893 4.0563345]\n",
      "[0.0, 0.0]\n",
      "[0.0, 0.0]\n",
      "[0.0, 0.0]\n"
     ]
    },
    {
     "name": "stderr",
     "output_type": "stream",
     "text": [
      " 64%|██████▎   | 1466/2300 [6:17:56<3:58:58, 17.19s/it]"
     ]
    },
    {
     "name": "stdout",
     "output_type": "stream",
     "text": [
      "[-34.51339079 -37.47960724 -12.58212036]\n",
      "[-20.68127479   9.68243216  34.97995924]\n",
      "[4.1180863 2.676783  3.0153983]\n",
      "[0.0, 0.0]\n",
      "[0.0, 0.0]\n",
      "[0.0, 0.0]\n"
     ]
    },
    {
     "name": "stderr",
     "output_type": "stream",
     "text": [
      " 64%|██████▍   | 1467/2300 [6:18:13<3:55:15, 16.95s/it]"
     ]
    },
    {
     "name": "stdout",
     "output_type": "stream",
     "text": [
      "[-11.11563312 -33.37989939 -36.87966172]\n",
      "[ 34.9131582  -21.11447399   9.0824942 ]\n",
      "[2.8946497 3.9897964 2.6106725]\n",
      "[0.0, 0.0]\n",
      "[0.0, 0.0]\n",
      "[0.0, 0.0]\n"
     ]
    },
    {
     "name": "stderr",
     "output_type": "stream",
     "text": [
      " 64%|██████▍   | 1468/2300 [6:18:31<3:58:49, 17.22s/it]"
     ]
    },
    {
     "name": "stdout",
     "output_type": "stream",
     "text": [
      "[-32.21364738 -36.21316978  -9.68241475]\n",
      "[-21.58116706   8.51583402  34.77997732]\n",
      "[3.927281  2.5462492 2.864113 ]\n",
      "[0.0, 0.0]\n",
      "[0.0, 0.0]\n",
      "[0.0, 0.0]\n"
     ]
    },
    {
     "name": "stderr",
     "output_type": "stream",
     "text": [
      " 64%|██████▍   | 1469/2300 [6:18:48<3:59:33, 17.30s/it]"
     ]
    },
    {
     "name": "stdout",
     "output_type": "stream",
     "text": [
      "[ -8.21591561 -31.08005858 -35.57978066]\n",
      "[ 34.71317114 -22.0143476    7.88261859]\n",
      "[2.802468  3.974786  2.4743867]\n",
      "[0.0, 0.0]\n",
      "[0.0, 0.0]\n",
      "[0.0, 0.0]\n"
     ]
    },
    {
     "name": "stderr",
     "output_type": "stream",
     "text": [
      " 64%|██████▍   | 1470/2300 [6:19:04<3:54:59, 16.99s/it]"
     ]
    },
    {
     "name": "stdout",
     "output_type": "stream",
     "text": [
      "[-29.81394605  -6.81605177 -34.87984509]\n",
      "[-22.48102705  34.51318761   7.38267113]\n",
      "[4.106115 2.784098 2.393591]\n",
      "[0.0, 0.0]\n",
      "[0.0, 0.0]\n",
      "[0.0, 0.0]\n"
     ]
    },
    {
     "name": "stderr",
     "output_type": "stream",
     "text": [
      " 64%|██████▍   | 1471/2300 [6:19:22<3:57:25, 17.18s/it]"
     ]
    },
    {
     "name": "stdout",
     "output_type": "stream",
     "text": [
      "[-34.11338739  -5.41618963 -28.48011877]\n",
      "[  6.81600361  34.41319418 -22.9141538 ]\n",
      "[2.348597  2.7944448 4.5438347]\n",
      "[0.0, 0.0]\n",
      "[0.0, 0.0]\n",
      "[0.0, 0.0]\n"
     ]
    },
    {
     "name": "stderr",
     "output_type": "stream",
     "text": [
      " 64%|██████▍   | 1472/2300 [6:19:39<3:57:57, 17.24s/it]"
     ]
    },
    {
     "name": "stdout",
     "output_type": "stream",
     "text": [
      "[-27.01442088   4.18300589   2.68320442 -33.2134824   -4.01632805]\n",
      "[-23.48071654  -5.18305013  -4.28322812   6.3160516   34.21321059]\n",
      "[5.3003597 8.704213  7.3092985 2.3105586 2.826009 ]\n",
      "[0.0, 0.0]\n",
      "[0.0, 0.0]\n",
      "[0.0, 0.0]\n",
      "[0.0, 0.0]\n",
      "[0.0, 0.0]\n"
     ]
    },
    {
     "name": "stderr",
     "output_type": "stream",
     "text": [
      " 64%|██████▍   | 1473/2300 [6:19:57<3:57:51, 17.26s/it]"
     ]
    },
    {
     "name": "stdout",
     "output_type": "stream",
     "text": [
      "[-25.11564198  -2.61646606   6.21586564   0.71578105 -32.28008371]\n",
      "[-24.17930913  34.01322713  -6.91603625  -3.41663995   5.8828364 ]\n",
      "[7.2237525 2.8778555 3.8277504 1.8521345 2.2504232]\n",
      "[0.0, 0.0]\n",
      "[0.0, 0.0]\n",
      "[0.0, 0.0]\n",
      "[0.0, 0.0]\n",
      "[0.0, 0.0]\n"
     ]
    },
    {
     "name": "stderr",
     "output_type": "stream",
     "text": [
      " 64%|██████▍   | 1474/2300 [6:20:16<4:05:01, 17.80s/it]"
     ]
    },
    {
     "name": "stdout",
     "output_type": "stream",
     "text": [
      "[  7.58261514 -22.88231643  -0.48456296 -31.28017501  -1.18326679]\n",
      "[ -8.18263825 -25.11476321  -3.01689204   5.38289342  33.78007562]\n",
      "[3.8384786 6.8012795 1.5516006 2.2050164 2.9213247]\n",
      "[0.0, 0.0]\n",
      "[0.0, 0.0]\n",
      "[0.0, 0.0]\n",
      "[0.0, 0.0]\n",
      "[0.0, 0.0]\n"
     ]
    },
    {
     "name": "stderr",
     "output_type": "stream",
     "text": [
      " 64%|██████▍   | 1475/2300 [6:20:36<4:14:57, 18.54s/it]"
     ]
    },
    {
     "name": "stdout",
     "output_type": "stream",
     "text": [
      "[-20.81440482   8.68249415  -1.71533239 -30.21380132   0.31658327]\n",
      "[-25.78102083  -9.28250873  -2.68475768   4.91618584  33.48010441]\n",
      "[5.7501254 3.5450966 1.5492226 2.1973693 3.0494227]\n",
      "[0.0, 0.0]\n",
      "[0.0, 0.0]\n",
      "[0.0, 0.0]\n",
      "[0.0, 0.0]\n",
      "[0.0, 0.0]\n"
     ]
    },
    {
     "name": "stderr",
     "output_type": "stream",
     "text": [
      " 64%|██████▍   | 1476/2300 [6:20:54<4:14:11, 18.51s/it]"
     ]
    },
    {
     "name": "stdout",
     "output_type": "stream",
     "text": [
      "[-18.8146888    9.48240969  -3.21774541 -29.01393047   1.88309494\n",
      " -11.48205033 -17.28160854]\n",
      "[-26.18088503 -10.48237946  -2.38100854   4.41623461  33.21329788\n",
      "  -0.61664181   0.98318027]\n",
      "[5.2158685 3.6517026 2.1684148 2.14233   3.1238303 6.021433  3.1961527]\n",
      "[0.0, 0.0]\n",
      "[0.0, 0.0]\n",
      "[0.0, 0.0]\n",
      "[0.0, 0.0]\n",
      "[0.0, 0.0]\n",
      "[0.0, 0.0]\n",
      "[0.0, 0.0]\n"
     ]
    },
    {
     "name": "stderr",
     "output_type": "stream",
     "text": [
      " 64%|██████▍   | 1477/2300 [6:21:18<4:34:01, 19.98s/it]"
     ]
    },
    {
     "name": "stdout",
     "output_type": "stream",
     "text": [
      "[ 10.08234788 -19.4147149  -27.71406956   3.38294715 -16.98185568]\n",
      "[-11.58226396   1.61657204   3.91628496  32.91332752 -26.41417407]\n",
      "[3.4870028 1.2266144 2.0503263 3.0681996 4.51341  ]\n",
      "[0.0, 0.0]\n",
      "[0.0, 0.0]\n",
      "[0.0, 0.0]\n",
      "[0.0, 0.0]\n",
      "[0.0, 0.0]\n"
     ]
    },
    {
     "name": "stderr",
     "output_type": "stream",
     "text": [
      " 64%|██████▍   | 1478/2300 [6:21:39<4:40:14, 20.46s/it]"
     ]
    },
    {
     "name": "stdout",
     "output_type": "stream",
     "text": [
      "[-15.31509497   4.98278838  10.51557001 -20.78128254 -26.18062778]\n",
      "[-26.48080958  32.61335692 -12.61543092   1.88311715   3.38313182]\n",
      "[4.445286  3.184622  3.522995  1.5723393 2.5132146]\n",
      "[0.0, 0.0]\n",
      "[0.0, 0.0]\n",
      "[0.0, 0.0]\n",
      "[0.0, 0.0]\n",
      "[0.0, 0.0]\n"
     ]
    },
    {
     "name": "stderr",
     "output_type": "stream",
     "text": [
      " 64%|██████▍   | 1479/2300 [6:21:58<4:30:58, 19.80s/it]"
     ]
    },
    {
     "name": "stdout",
     "output_type": "stream",
     "text": [
      "[-13.61527755  10.71554737   6.61596177]\n",
      "[-26.58078235 -13.71532259  32.28022359]\n",
      "[4.8952103 3.6876385 3.429871 ]\n",
      "[0.0, 0.0]\n",
      "[0.0, 0.0]\n",
      "[0.0, 0.0]\n"
     ]
    },
    {
     "name": "stderr",
     "output_type": "stream",
     "text": [
      " 64%|██████▍   | 1480/2300 [6:22:17<4:29:02, 19.69s/it]"
     ]
    },
    {
     "name": "stdout",
     "output_type": "stream",
     "text": [
      "[ 10.78227665   8.28246083 -11.68227373]\n",
      "[-14.88194792  31.81342895 -26.51410429]\n",
      "[3.9427478 3.6730118 5.2590747]\n",
      "[0.0, 0.0]\n",
      "[0.0, 0.0]\n",
      "[0.0, 0.0]\n"
     ]
    },
    {
     "name": "stderr",
     "output_type": "stream",
     "text": [
      " 64%|██████▍   | 1481/2300 [6:22:35<4:20:59, 19.12s/it]"
     ]
    },
    {
     "name": "stdout",
     "output_type": "stream",
     "text": [
      "[10.68228617 10.08228306 -9.68243632]\n",
      "[-16.08184119  31.21348274 -26.41409477]\n",
      "[4.321722 3.886455 5.247752]\n",
      "[0.0, 0.0]\n",
      "[0.0, 0.0]\n",
      "[0.0, 0.0]\n"
     ]
    },
    {
     "name": "stderr",
     "output_type": "stream",
     "text": [
      " 64%|██████▍   | 1482/2300 [6:22:51<4:08:47, 18.25s/it]"
     ]
    },
    {
     "name": "stdout",
     "output_type": "stream",
     "text": [
      "[10.38231719 -7.6825939  11.71545357]\n",
      "[-17.38172586 -26.31408513  30.58039586]\n",
      "[5.0429764 5.4517384 3.3598738]\n",
      "[0.0, 0.0]\n",
      "[0.0, 0.0]\n",
      "[0.0, 0.0]\n"
     ]
    },
    {
     "name": "stderr",
     "output_type": "stream",
     "text": [
      " 64%|██████▍   | 1483/2300 [6:23:08<4:01:18, 17.72s/it]"
     ]
    },
    {
     "name": "stdout",
     "output_type": "stream",
     "text": [
      "[ 9.68239107 -5.48275145 13.11531314]\n",
      "[-18.8816021  -26.01408622  29.98045688]\n",
      "[6.3756065 6.3564615 3.0735545]\n",
      "[0.0, 0.0]\n",
      "[0.0, 0.0]\n",
      "[0.0, 0.0]\n"
     ]
    },
    {
     "name": "stderr",
     "output_type": "stream",
     "text": [
      " 65%|██████▍   | 1484/2300 [6:23:25<4:01:14, 17.74s/it]"
     ]
    },
    {
     "name": "stdout",
     "output_type": "stream",
     "text": [
      "[-2.61648727 14.48184068  8.21565005]\n",
      "[-25.48073408  29.51362874 -20.71465648]\n",
      "[ 9.701027   2.9002953 10.629102 ]\n",
      "[0.0, 0.0]\n",
      "[0.0, 0.0]\n",
      "[0.0, 0.0]\n"
     ]
    },
    {
     "name": "stderr",
     "output_type": "stream",
     "text": [
      " 65%|██████▍   | 1485/2300 [6:23:43<3:59:53, 17.66s/it]"
     ]
    },
    {
     "name": "stdout",
     "output_type": "stream",
     "text": [
      "[15.71505543]\n",
      "[28.98056937]\n",
      "[2.8274045]\n",
      "[0.0, 0.0]\n"
     ]
    },
    {
     "name": "stderr",
     "output_type": "stream",
     "text": [
      " 65%|██████▍   | 1486/2300 [6:23:58<3:49:40, 16.93s/it]"
     ]
    },
    {
     "name": "stdout",
     "output_type": "stream",
     "text": [
      "[16.9149416]\n",
      "[28.48063114]\n",
      "[2.7639155]\n",
      "[0.0, 0.0]\n"
     ]
    },
    {
     "name": "stderr",
     "output_type": "stream",
     "text": [
      " 65%|██████▍   | 1487/2300 [6:24:12<3:38:01, 16.09s/it]"
     ]
    },
    {
     "name": "stdout",
     "output_type": "stream",
     "text": [
      "[18.1148282]\n",
      "[27.9806976]\n",
      "[2.7057836]\n",
      "[0.0, 0.0]\n"
     ]
    },
    {
     "name": "stderr",
     "output_type": "stream",
     "text": [
      " 65%|██████▍   | 1488/2300 [6:24:27<3:32:45, 15.72s/it]"
     ]
    },
    {
     "name": "stdout",
     "output_type": "stream",
     "text": [
      "[19.31471394]\n",
      "[27.48076978]\n",
      "[2.623396]\n",
      "[0.0, 0.0]\n"
     ]
    },
    {
     "name": "stderr",
     "output_type": "stream",
     "text": [
      " 65%|██████▍   | 1489/2300 [6:24:41<3:24:31, 15.13s/it]"
     ]
    },
    {
     "name": "stdout",
     "output_type": "stream",
     "text": [
      "[20.38116043]\n",
      "[27.01379688]\n",
      "[2.551171]\n",
      "[0.0, 0.0]\n"
     ]
    },
    {
     "name": "stderr",
     "output_type": "stream",
     "text": [
      " 65%|██████▍   | 1490/2300 [6:24:55<3:20:50, 14.88s/it]"
     ]
    },
    {
     "name": "stdout",
     "output_type": "stream",
     "text": [
      "[21.48099729]\n",
      "[26.51380059]\n",
      "[2.4706962]\n",
      "[0.0, 0.0]\n"
     ]
    },
    {
     "name": "stderr",
     "output_type": "stream",
     "text": [
      " 65%|██████▍   | 1491/2300 [6:25:09<3:17:24, 14.64s/it]"
     ]
    },
    {
     "name": "stdout",
     "output_type": "stream",
     "text": [
      "[22.51441767]\n",
      "[26.08107066]\n",
      "[2.4300435]\n",
      "[0.0, 0.0]\n"
     ]
    },
    {
     "name": "stderr",
     "output_type": "stream",
     "text": [
      " 65%|██████▍   | 1492/2300 [6:25:23<3:15:03, 14.48s/it]"
     ]
    },
    {
     "name": "stdout",
     "output_type": "stream",
     "text": [
      "[23.48046571]\n",
      "[25.61367291]\n",
      "[2.410105]\n",
      "[0.0, 0.0]\n"
     ]
    },
    {
     "name": "stderr",
     "output_type": "stream",
     "text": [
      " 65%|██████▍   | 1493/2300 [6:25:38<3:13:52, 14.41s/it]"
     ]
    },
    {
     "name": "stdout",
     "output_type": "stream",
     "text": [
      "[24.47896963]\n",
      "[25.21264796]\n",
      "[2.4068341]\n",
      "[0.0, 0.0]\n"
     ]
    },
    {
     "name": "stderr",
     "output_type": "stream",
     "text": [
      " 65%|██████▍   | 1494/2300 [6:25:51<3:10:52, 14.21s/it]"
     ]
    },
    {
     "name": "stdout",
     "output_type": "stream",
     "text": [
      "[25.5131694]\n",
      "[24.77895265]\n",
      "[2.390726]\n",
      "[0.0, 0.0]\n"
     ]
    },
    {
     "name": "stderr",
     "output_type": "stream",
     "text": [
      " 65%|██████▌   | 1495/2300 [6:26:06<3:10:47, 14.22s/it]"
     ]
    },
    {
     "name": "stdout",
     "output_type": "stream",
     "text": [
      "[26.3812318]\n",
      "[24.31475411]\n",
      "[2.3847666]\n",
      "[0.0, 0.0]\n"
     ]
    },
    {
     "name": "stderr",
     "output_type": "stream",
     "text": [
      " 65%|██████▌   | 1496/2300 [6:26:20<3:10:18, 14.20s/it]"
     ]
    },
    {
     "name": "stdout",
     "output_type": "stream",
     "text": [
      "[27.38095299]\n",
      "[23.91454147]\n",
      "[2.3708694]\n",
      "[0.0, 0.0]\n"
     ]
    },
    {
     "name": "stderr",
     "output_type": "stream",
     "text": [
      " 65%|██████▌   | 1497/2300 [6:26:35<3:12:27, 14.38s/it]"
     ]
    },
    {
     "name": "stdout",
     "output_type": "stream",
     "text": [
      "[28.28078052]\n",
      "[23.5145146]\n",
      "[2.398513]\n",
      "[0.0, 0.0]\n"
     ]
    },
    {
     "name": "stderr",
     "output_type": "stream",
     "text": [
      " 65%|██████▌   | 1498/2300 [6:26:49<3:11:58, 14.36s/it]"
     ]
    },
    {
     "name": "stdout",
     "output_type": "stream",
     "text": [
      "[29.21374101]\n",
      "[23.08088763]\n",
      "[2.4306839]\n",
      "[0.0, 0.0]\n"
     ]
    },
    {
     "name": "stderr",
     "output_type": "stream",
     "text": [
      " 65%|██████▌   | 1499/2300 [6:27:03<3:09:37, 14.20s/it]"
     ]
    },
    {
     "name": "stdout",
     "output_type": "stream",
     "text": [
      "[30.08052214]\n",
      "[22.61454634]\n",
      "[2.4641175]\n",
      "[0.0, 0.0]\n"
     ]
    },
    {
     "name": "stderr",
     "output_type": "stream",
     "text": [
      " 65%|██████▌   | 1500/2300 [6:27:17<3:09:32, 14.22s/it]"
     ]
    },
    {
     "name": "stdout",
     "output_type": "stream",
     "text": [
      "[-50.31177264 -41.01267797 -46.37876734]\n",
      "[-10.68229005  30.01370205  21.78123246]\n",
      "[5.318062 8.743104 6.632569]\n",
      "[0.0, 0.0]\n",
      "[0.0, 0.0]\n",
      "[0.0, 0.0]\n"
     ]
    },
    {
     "name": "stderr",
     "output_type": "stream",
     "text": [
      " 65%|██████▌   | 1501/2300 [6:27:34<3:21:57, 15.17s/it]"
     ]
    },
    {
     "name": "stdout",
     "output_type": "stream",
     "text": [
      "[-49.41186254 -38.61291374 -46.078796  ]\n",
      "[-11.38222099  31.51355279  20.58135081]\n",
      "[5.4185634 7.3454866 5.3013525]\n",
      "[0.0, 0.0]\n",
      "[0.0, 0.0]\n",
      "[0.0, 0.0]\n"
     ]
    },
    {
     "name": "stderr",
     "output_type": "stream",
     "text": [
      " 65%|██████▌   | 1502/2300 [6:27:51<3:26:39, 15.54s/it]"
     ]
    },
    {
     "name": "stdout",
     "output_type": "stream",
     "text": [
      "[-48.41196207 -45.6788346  -36.47974364]\n",
      "[-11.98216138  19.58144957  32.58017268]\n",
      "[5.39124   4.659031  5.9289203]\n",
      "[0.0, 0.0]\n",
      "[0.0, 0.0]\n",
      "[0.0, 0.0]\n"
     ]
    },
    {
     "name": "stderr",
     "output_type": "stream",
     "text": [
      " 65%|██████▌   | 1503/2300 [6:28:08<3:35:10, 16.20s/it]"
     ]
    },
    {
     "name": "stdout",
     "output_type": "stream",
     "text": [
      "[-47.47863228 -45.17888323 -34.47994019]\n",
      "[-12.61538309  18.68153817  33.38009406]\n",
      "[5.125916  4.2967367 4.905919 ]\n",
      "[0.0, 0.0]\n",
      "[0.0, 0.0]\n",
      "[0.0, 0.0]\n"
     ]
    },
    {
     "name": "stderr",
     "output_type": "stream",
     "text": [
      " 65%|██████▌   | 1504/2300 [6:28:26<3:39:58, 16.58s/it]"
     ]
    },
    {
     "name": "stdout",
     "output_type": "stream",
     "text": [
      "[-44.7123183  -32.61350271 -46.57871821]\n",
      "[ 17.81489978  33.91331458 -13.21532238]\n",
      "[4.105008 4.554464 4.843627]\n",
      "[0.0, 0.0]\n",
      "[0.0, 0.0]\n",
      "[0.0, 0.0]\n"
     ]
    },
    {
     "name": "stderr",
     "output_type": "stream",
     "text": [
      " 65%|██████▌   | 1505/2300 [6:28:43<3:41:12, 16.70s/it]"
     ]
    },
    {
     "name": "stdout",
     "output_type": "stream",
     "text": [
      "[-45.71223264 -30.8136821  -44.17898049]\n",
      "[-13.78198329  34.41326305  16.98170579]\n",
      "[4.6779385 4.148242  4.072406 ]\n",
      "[0.0, 0.0]\n",
      "[0.0, 0.0]\n",
      "[0.0, 0.0]\n"
     ]
    },
    {
     "name": "stderr",
     "output_type": "stream",
     "text": [
      " 65%|██████▌   | 1506/2300 [6:28:59<3:39:50, 16.61s/it]"
     ]
    },
    {
     "name": "stdout",
     "output_type": "stream",
     "text": [
      "[-44.81232365 -43.6124271  -29.11385188]\n",
      "[-14.28193486  16.11506708  34.71322903]\n",
      "[4.5039635 4.097279  3.961537 ]\n",
      "[0.0, 0.0]\n",
      "[0.0, 0.0]\n",
      "[0.0, 0.0]\n"
     ]
    },
    {
     "name": "stderr",
     "output_type": "stream",
     "text": [
      " 66%|██████▌   | 1507/2300 [6:29:17<3:43:27, 16.91s/it]"
     ]
    },
    {
     "name": "stdout",
     "output_type": "stream",
     "text": [
      "[-43.01248633 -27.41402134 -43.87897646]\n",
      "[ 15.31514646  35.01319485 -14.81515764]\n",
      "[4.158797  3.962407  4.3233356]\n",
      "[0.0, 0.0]\n",
      "[0.0, 0.0]\n",
      "[0.0, 0.0]\n"
     ]
    },
    {
     "name": "stderr",
     "output_type": "stream",
     "text": [
      " 66%|██████▌   | 1508/2300 [6:29:33<3:40:50, 16.73s/it]"
     ]
    },
    {
     "name": "stdout",
     "output_type": "stream",
     "text": [
      "[-43.01250633 -25.61420002 -42.37915319]\n",
      "[-15.28183728  35.3131602   14.48195208]\n",
      "[4.2224464 3.7306077 4.0778456]\n",
      "[0.0, 0.0]\n",
      "[0.0, 0.0]\n",
      "[0.0, 0.0]\n"
     ]
    },
    {
     "name": "stderr",
     "output_type": "stream",
     "text": [
      " 66%|██████▌   | 1509/2300 [6:29:51<3:44:34, 17.03s/it]"
     ]
    },
    {
     "name": "stdout",
     "output_type": "stream",
     "text": [
      "[-42.11259839 -41.81260479 -23.98098055]\n",
      "[-15.78178676  13.61531673  35.47989999]\n",
      "[4.163292 3.765448 3.488681]\n",
      "[0.0, 0.0]\n",
      "[0.0, 0.0]\n",
      "[0.0, 0.0]\n"
     ]
    },
    {
     "name": "stderr",
     "output_type": "stream",
     "text": [
      " 66%|██████▌   | 1510/2300 [6:30:08<3:45:52, 17.15s/it]"
     ]
    },
    {
     "name": "stdout",
     "output_type": "stream",
     "text": [
      "[-41.11270131 -22.31452645 -41.27925529]\n",
      "[-16.28173538  35.61312206  12.88211031]\n",
      "[4.131776  3.4979951 3.4739022]\n",
      "[0.0, 0.0]\n",
      "[0.0, 0.0]\n",
      "[0.0, 0.0]\n"
     ]
    },
    {
     "name": "stderr",
     "output_type": "stream",
     "text": [
      " 66%|██████▌   | 1511/2300 [6:30:25<3:41:46, 16.86s/it]"
     ]
    },
    {
     "name": "stdout",
     "output_type": "stream",
     "text": [
      "[-40.71271424 -20.61469417 -40.17931637]\n",
      "[ 12.11546979  35.71310802 -16.7149554 ]\n",
      "[3.2577615 3.4723082 4.078114 ]\n",
      "[0.0, 0.0]\n",
      "[0.0, 0.0]\n",
      "[0.0, 0.0]\n"
     ]
    },
    {
     "name": "stderr",
     "output_type": "stream",
     "text": [
      " 66%|██████▌   | 1512/2300 [6:30:41<3:41:14, 16.85s/it]"
     ]
    },
    {
     "name": "stdout",
     "output_type": "stream",
     "text": [
      "[-39.17940622 -40.17935485 -18.98147977]\n",
      "[-17.21490141  11.38225809  35.77987419]\n",
      "[4.0343294 3.1390314 3.3717833]\n",
      "[0.0, 0.0]\n",
      "[0.0, 0.0]\n",
      "[0.0, 0.0]\n"
     ]
    },
    {
     "name": "stderr",
     "output_type": "stream",
     "text": [
      " 66%|██████▌   | 1513/2300 [6:30:59<3:44:22, 17.11s/it]"
     ]
    },
    {
     "name": "stdout",
     "output_type": "stream",
     "text": [
      "[-38.21299994 -39.71281233 -17.38163885]\n",
      "[-17.68158891  10.61562552  35.77987575]\n",
      "[4.0478587 3.0974545 3.172733 ]\n",
      "[0.0, 0.0]\n",
      "[0.0, 0.0]\n",
      "[0.0, 0.0]\n"
     ]
    },
    {
     "name": "stderr",
     "output_type": "stream",
     "text": [
      " 66%|██████▌   | 1514/2300 [6:31:16<3:42:58, 17.02s/it]"
     ]
    },
    {
     "name": "stdout",
     "output_type": "stream",
     "text": [
      "[-37.17958749 -39.17944426 -15.78179911]\n",
      "[-18.11480356   9.98239655  35.77987663]\n",
      "[4.146041  3.004627  3.0591514]\n",
      "[0.0, 0.0]\n",
      "[0.0, 0.0]\n",
      "[0.0, 0.0]\n"
     ]
    },
    {
     "name": "stderr",
     "output_type": "stream",
     "text": [
      " 66%|██████▌   | 1515/2300 [6:31:34<3:46:28, 17.31s/it]"
     ]
    },
    {
     "name": "stdout",
     "output_type": "stream",
     "text": [
      "[-36.11321594 -14.21532679 -38.67948837]\n",
      "[-18.58149451  35.71309163   9.28246753]\n",
      "[4.3350444 3.0537877 2.9793477]\n",
      "[0.0, 0.0]\n",
      "[0.0, 0.0]\n",
      "[0.0, 0.0]\n"
     ]
    },
    {
     "name": "stderr",
     "output_type": "stream",
     "text": [
      " 66%|██████▌   | 1516/2300 [6:31:52<3:47:08, 17.38s/it]"
     ]
    },
    {
     "name": "stdout",
     "output_type": "stream",
     "text": [
      "[-35.013332   -38.07954276 -12.68210995]\n",
      "[-19.08144009   8.68252965  35.67988882]\n",
      "[4.52213   2.9021533 2.9634001]\n",
      "[0.0, 0.0]\n",
      "[0.0, 0.0]\n",
      "[0.0, 0.0]\n"
     ]
    },
    {
     "name": "stderr",
     "output_type": "stream",
     "text": [
      " 66%|██████▌   | 1517/2300 [6:32:08<3:41:57, 17.01s/it]"
     ]
    },
    {
     "name": "stdout",
     "output_type": "stream",
     "text": [
      "[-11.2156221  -33.87987142 -37.47959736]\n",
      "[ 35.61309179 -19.6146323    8.08259179]\n",
      "[2.8508692 4.50003   2.8215966]\n",
      "[0.0, 0.0]\n",
      "[0.0, 0.0]\n",
      "[0.0, 0.0]\n"
     ]
    },
    {
     "name": "stderr",
     "output_type": "stream",
     "text": [
      " 66%|██████▌   | 1518/2300 [6:32:24<3:39:53, 16.87s/it]"
     ]
    },
    {
     "name": "stdout",
     "output_type": "stream",
     "text": [
      "[-32.71358229 -36.81311059  -9.78240367]\n",
      "[-20.18131511   7.51593801  35.47990789]\n",
      "[4.370903  2.739398  2.8041217]\n",
      "[0.0, 0.0]\n",
      "[0.0, 0.0]\n",
      "[0.0, 0.0]\n"
     ]
    },
    {
     "name": "stderr",
     "output_type": "stream",
     "text": [
      " 66%|██████▌   | 1519/2300 [6:32:42<3:43:43, 17.19s/it]"
     ]
    },
    {
     "name": "stdout",
     "output_type": "stream",
     "text": [
      "[-31.51371887 -36.11318258  -8.38254438]\n",
      "[-20.68125132   7.01598746  35.37991693]\n",
      "[4.356307  2.6534064 2.7505271]\n",
      "[0.0, 0.0]\n",
      "[0.0, 0.0]\n",
      "[0.0, 0.0]\n"
     ]
    },
    {
     "name": "stderr",
     "output_type": "stream",
     "text": [
      " 66%|██████▌   | 1520/2300 [6:32:59<3:41:47, 17.06s/it]"
     ]
    },
    {
     "name": "stdout",
     "output_type": "stream",
     "text": [
      "[ -7.01603112 -30.28011864 -35.37979232]\n",
      "[ 35.2131223  -21.1144302    6.48275913]\n",
      "[2.703695 4.362317 2.573203]\n",
      "[0.0, 0.0]\n",
      "[0.0, 0.0]\n",
      "[0.0, 0.0]\n"
     ]
    },
    {
     "name": "stderr",
     "output_type": "stream",
     "text": [
      " 66%|██████▌   | 1521/2300 [6:33:17<3:44:25, 17.29s/it]"
     ]
    },
    {
     "name": "stdout",
     "output_type": "stream",
     "text": [
      "[ -5.61616808 -28.98016738 -34.57986423]\n",
      "[ 35.11312977 -21.61434165   6.08280316]\n",
      "[2.6861296 4.455151  2.479084 ]\n",
      "[0.0, 0.0]\n",
      "[0.0, 0.0]\n",
      "[0.0, 0.0]\n"
     ]
    },
    {
     "name": "stderr",
     "output_type": "stream",
     "text": [
      " 66%|██████▌   | 1522/2300 [6:33:34<3:45:23, 17.38s/it]"
     ]
    },
    {
     "name": "stdout",
     "output_type": "stream",
     "text": [
      "[-33.71343404  -4.2163062  -27.58016414]\n",
      "[  5.61612351  34.91314685 -22.11422495]\n",
      "[2.4167686 2.7301729 4.931214 ]\n",
      "[0.0, 0.0]\n",
      "[0.0, 0.0]\n",
      "[0.0, 0.0]\n"
     ]
    },
    {
     "name": "stderr",
     "output_type": "stream",
     "text": [
      " 66%|██████▌   | 1523/2300 [6:33:50<3:40:22, 17.02s/it]"
     ]
    },
    {
     "name": "stdout",
     "output_type": "stream",
     "text": [
      "[  4.78294029   1.38340853  -2.81644428 -25.87998793 -32.78003082]\n",
      "[ -6.48289093  -4.18333009  34.71316369 -22.71404586   5.18290577]\n",
      "[5.0027533 3.265434  2.7879844 5.928626  2.3596566]\n",
      "[0.0, 0.0]\n",
      "[0.0, 0.0]\n",
      "[0.0, 0.0]\n",
      "[0.0, 0.0]\n",
      "[0.0, 0.0]\n"
     ]
    },
    {
     "name": "stderr",
     "output_type": "stream",
     "text": [
      " 66%|██████▋   | 1524/2300 [6:34:10<3:48:54, 17.70s/it]"
     ]
    },
    {
     "name": "stdout",
     "output_type": "stream",
     "text": [
      "[-23.8240232    6.28276545  -0.11628346 -31.71364424  -1.41658206]\n",
      "[-23.57804035  -7.88269949  -3.5835735    4.81619885  34.5131807 ]\n",
      "[7.3442125 3.8756356 1.8923635 2.2757587 2.860504 ]\n",
      "[0.0, 0.0]\n",
      "[0.0, 0.0]\n",
      "[0.0, 0.0]\n",
      "[0.0, 0.0]\n",
      "[0.0, 0.0]\n"
     ]
    },
    {
     "name": "stderr",
     "output_type": "stream",
     "text": [
      " 66%|██████▋   | 1525/2300 [6:34:30<3:58:52, 18.49s/it]"
     ]
    },
    {
     "name": "stdout",
     "output_type": "stream",
     "text": [
      "[ -1.41583625 -30.61376223   0.08327124 -21.48212383   7.5157899 ]\n",
      "[ -3.18404319   4.41623817  34.31319864 -24.51464051  -9.21579123]\n",
      "[1.7664199 2.2570474 2.9656575 7.1762705 3.915022 ]\n",
      "[0.0, 0.0]\n",
      "[0.0, 0.0]\n",
      "[0.0, 0.0]\n",
      "[0.0, 0.0]\n",
      "[0.0, 0.0]\n"
     ]
    },
    {
     "name": "stderr",
     "output_type": "stream",
     "text": [
      " 66%|██████▋   | 1526/2300 [6:34:49<4:00:04, 18.61s/it]"
     ]
    },
    {
     "name": "stdout",
     "output_type": "stream",
     "text": [
      "[ -2.92031692 -13.11532864 -29.41389195 -19.18182594   8.31573536\n",
      " -15.98172032   1.61645916]\n",
      "[ -2.89255398  -0.58311898   4.01627867 -25.21437555 -10.41566482\n",
      "   0.28324565  33.98005243]\n",
      "[2.19809   8.905123  2.2199562 6.065197  3.7153478 7.0749297 3.0494256]\n",
      "[0.0, 0.0]\n",
      "[0.0, 0.0]\n",
      "[0.0, 0.0]\n",
      "[0.0, 0.0]\n",
      "[0.0, 0.0]\n",
      "[0.0, 0.0]\n",
      "[0.0, 0.0]\n"
     ]
    },
    {
     "name": "stderr",
     "output_type": "stream",
     "text": [
      " 66%|██████▋   | 1527/2300 [6:35:11<4:13:11, 19.65s/it]"
     ]
    },
    {
     "name": "stdout",
     "output_type": "stream",
     "text": [
      "[-17.21486583   8.98246691 -28.21402309 -18.98144298   3.11631018]\n",
      "[-25.48096929 -11.58228067   3.51633075   1.08318886  33.68008172]\n",
      "[5.0152116 3.7706156 2.1281211 1.7557361 2.9878697]\n",
      "[0.0, 0.0]\n",
      "[0.0, 0.0]\n",
      "[0.0, 0.0]\n",
      "[0.0, 0.0]\n",
      "[0.0, 0.0]\n"
     ]
    },
    {
     "name": "stderr",
     "output_type": "stream",
     "text": [
      " 66%|██████▋   | 1528/2300 [6:35:33<4:20:19, 20.23s/it]"
     ]
    },
    {
     "name": "stdout",
     "output_type": "stream",
     "text": [
      "[-15.41507709 -20.41464276 -26.71418638   9.41565088   4.61616297]\n",
      "[-25.58092927   1.51656903   3.11637493 -12.71543171  33.38011287]\n",
      "[4.8467374 1.4702963 2.377268  3.7024028 2.9906275]\n",
      "[0.0, 0.0]\n",
      "[0.0, 0.0]\n",
      "[0.0, 0.0]\n",
      "[0.0, 0.0]\n",
      "[0.0, 0.0]\n"
     ]
    },
    {
     "name": "stderr",
     "output_type": "stream",
     "text": [
      " 66%|██████▋   | 1529/2300 [6:35:51<4:12:38, 19.66s/it]"
     ]
    },
    {
     "name": "stdout",
     "output_type": "stream",
     "text": [
      "[  9.58240431 -13.58214228 -22.78099758 -24.0808173    6.21600532]\n",
      "[-13.88205477 -25.61421104   1.98322177   2.383236    33.08014368]\n",
      "[3.7647936 5.177226  7.0735235 8.289412  3.2126315]\n",
      "[0.0, 0.0]\n",
      "[0.0, 0.0]\n",
      "[0.0, 0.0]\n",
      "[0.0, 0.0]\n",
      "[0.0, 0.0]\n"
     ]
    },
    {
     "name": "stderr",
     "output_type": "stream",
     "text": [
      " 67%|██████▋   | 1530/2300 [6:36:10<4:09:47, 19.46s/it]"
     ]
    },
    {
     "name": "stdout",
     "output_type": "stream",
     "text": [
      "[-11.6154902    9.61562303   7.81584697]\n",
      "[-25.58089071 -15.01520384  32.68018391]\n",
      "[5.2070665 4.059141  3.3469343]\n",
      "[0.0, 0.0]\n",
      "[0.0, 0.0]\n",
      "[0.0, 0.0]\n"
     ]
    },
    {
     "name": "stderr",
     "output_type": "stream",
     "text": [
      " 67%|██████▋   | 1531/2300 [6:36:27<4:01:40, 18.86s/it]"
     ]
    },
    {
     "name": "stdout",
     "output_type": "stream",
     "text": [
      "[ 9.38242368 -9.58245692  9.51567885]\n",
      "[-16.28183789 -25.51418154  32.18023579]\n",
      "[4.61066   5.2811213 3.4726348]\n",
      "[0.0, 0.0]\n",
      "[0.0, 0.0]\n",
      "[0.0, 0.0]\n"
     ]
    },
    {
     "name": "stderr",
     "output_type": "stream",
     "text": [
      " 67%|██████▋   | 1532/2300 [6:36:44<3:51:40, 18.10s/it]"
     ]
    },
    {
     "name": "stdout",
     "output_type": "stream",
     "text": [
      "[ 8.98246543 -7.48261616 11.11551862]\n",
      "[-17.58172666 -25.41416877  31.58029498]\n",
      "[5.4906473 5.956535  3.3213499]\n",
      "[0.0, 0.0]\n",
      "[0.0, 0.0]\n",
      "[0.0, 0.0]\n"
     ]
    },
    {
     "name": "stderr",
     "output_type": "stream",
     "text": [
      " 67%|██████▋   | 1533/2300 [6:37:02<3:52:07, 18.16s/it]"
     ]
    },
    {
     "name": "stdout",
     "output_type": "stream",
     "text": [
      "[-5.01621848 12.58203651  8.01569512]\n",
      "[-24.9808608   31.01350206 -19.21480351]\n",
      "[7.145259  3.0296206 7.6741505]\n",
      "[0.0, 0.0]\n",
      "[0.0, 0.0]\n",
      "[0.0, 0.0]\n"
     ]
    },
    {
     "name": "stderr",
     "output_type": "stream",
     "text": [
      " 67%|██████▋   | 1534/2300 [6:37:18<3:43:33, 17.51s/it]"
     ]
    },
    {
     "name": "stdout",
     "output_type": "stream",
     "text": [
      "[-1.68288878  5.61567608 13.91523778]\n",
      "[-24.31415885 -21.41464451  30.48040685]\n",
      "[13.35398  17.01119   2.880014]\n",
      "[0.0, 0.0]\n",
      "[0.0, 0.0]\n",
      "[0.0, 0.0]\n"
     ]
    },
    {
     "name": "stderr",
     "output_type": "stream",
     "text": [
      " 67%|██████▋   | 1535/2300 [6:37:35<3:39:12, 17.19s/it]"
     ]
    },
    {
     "name": "stdout",
     "output_type": "stream",
     "text": [
      "[15.21510905]\n",
      "[29.98046238]\n",
      "[2.8010535]\n",
      "[0.0, 0.0]\n"
     ]
    },
    {
     "name": "stderr",
     "output_type": "stream",
     "text": [
      " 67%|██████▋   | 1536/2300 [6:37:49<3:27:40, 16.31s/it]"
     ]
    },
    {
     "name": "stdout",
     "output_type": "stream",
     "text": [
      "[16.41499503]\n",
      "[29.48052143]\n",
      "[2.7411091]\n",
      "[0.0, 0.0]\n"
     ]
    },
    {
     "name": "stderr",
     "output_type": "stream",
     "text": [
      " 67%|██████▋   | 1537/2300 [6:38:03<3:18:57, 15.65s/it]"
     ]
    },
    {
     "name": "stdout",
     "output_type": "stream",
     "text": [
      "[17.61488206]\n",
      "[28.98058376]\n",
      "[2.6635761]\n",
      "[0.0, 0.0]\n"
     ]
    },
    {
     "name": "stderr",
     "output_type": "stream",
     "text": [
      " 67%|██████▋   | 1538/2300 [6:38:17<3:12:29, 15.16s/it]"
     ]
    },
    {
     "name": "stdout",
     "output_type": "stream",
     "text": [
      "[18.81477002]\n",
      "[28.48065065]\n",
      "[2.6130612]\n",
      "[0.0, 0.0]\n"
     ]
    },
    {
     "name": "stderr",
     "output_type": "stream",
     "text": [
      " 67%|██████▋   | 1539/2300 [6:38:31<3:09:37, 14.95s/it]"
     ]
    },
    {
     "name": "stdout",
     "output_type": "stream",
     "text": [
      "[19.91467235]\n",
      "[27.98072239]\n",
      "[2.5537734]\n",
      "[0.0, 0.0]\n"
     ]
    },
    {
     "name": "stderr",
     "output_type": "stream",
     "text": [
      " 67%|██████▋   | 1540/2300 [6:38:45<3:05:05, 14.61s/it]"
     ]
    },
    {
     "name": "stdout",
     "output_type": "stream",
     "text": [
      "[20.98110074]\n",
      "[27.51376701]\n",
      "[2.486777]\n",
      "[0.0, 0.0]\n"
     ]
    },
    {
     "name": "stderr",
     "output_type": "stream",
     "text": [
      " 67%|██████▋   | 1541/2300 [6:39:00<3:05:21, 14.65s/it]"
     ]
    },
    {
     "name": "stdout",
     "output_type": "stream",
     "text": [
      "[22.08093869]\n",
      "[27.11374762]\n",
      "[2.395837]\n",
      "[0.0, 0.0]\n"
     ]
    },
    {
     "name": "stderr",
     "output_type": "stream",
     "text": [
      " 67%|██████▋   | 1542/2300 [6:39:14<3:03:01, 14.49s/it]"
     ]
    },
    {
     "name": "stdout",
     "output_type": "stream",
     "text": [
      "[23.11435901]\n",
      "[26.68101212]\n",
      "[2.355927]\n",
      "[0.0, 0.0]\n"
     ]
    },
    {
     "name": "stderr",
     "output_type": "stream",
     "text": [
      " 67%|██████▋   | 1543/2300 [6:39:28<3:01:23, 14.38s/it]"
     ]
    },
    {
     "name": "stdout",
     "output_type": "stream",
     "text": [
      "[24.08041121]\n",
      "[26.21358977]\n",
      "[2.3457677]\n",
      "[0.0, 0.0]\n"
     ]
    },
    {
     "name": "stderr",
     "output_type": "stream",
     "text": [
      " 67%|██████▋   | 1544/2300 [6:39:42<3:00:36, 14.33s/it]"
     ]
    },
    {
     "name": "stdout",
     "output_type": "stream",
     "text": [
      "[25.07903681]\n",
      "[25.81233045]\n",
      "[2.3427706]\n",
      "[0.0, 0.0]\n"
     ]
    },
    {
     "name": "stderr",
     "output_type": "stream",
     "text": [
      " 67%|██████▋   | 1545/2300 [6:39:56<2:59:19, 14.25s/it]"
     ]
    },
    {
     "name": "stdout",
     "output_type": "stream",
     "text": [
      "[26.01359885]\n",
      "[25.3785478]\n",
      "[2.311555]\n",
      "[0.0, 0.0]\n"
     ]
    },
    {
     "name": "stderr",
     "output_type": "stream",
     "text": [
      " 67%|██████▋   | 1546/2300 [6:40:10<2:58:21, 14.19s/it]"
     ]
    },
    {
     "name": "stdout",
     "output_type": "stream",
     "text": [
      "[26.91390856]\n",
      "[24.98026244]\n",
      "[2.3070142]\n",
      "[0.0, 0.0]\n"
     ]
    },
    {
     "name": "stderr",
     "output_type": "stream",
     "text": [
      " 67%|██████▋   | 1547/2300 [6:40:25<2:58:45, 14.24s/it]"
     ]
    },
    {
     "name": "stdout",
     "output_type": "stream",
     "text": [
      "[27.88091895]\n",
      "[24.61446109]\n",
      "[2.308227]\n",
      "[0.0, 0.0]\n"
     ]
    },
    {
     "name": "stderr",
     "output_type": "stream",
     "text": [
      " 67%|██████▋   | 1548/2300 [6:40:39<2:57:54, 14.19s/it]"
     ]
    },
    {
     "name": "stdout",
     "output_type": "stream",
     "text": [
      "[28.81375188]\n",
      "[24.18071471]\n",
      "[2.335172]\n",
      "[0.0, 0.0]\n"
     ]
    },
    {
     "name": "stderr",
     "output_type": "stream",
     "text": [
      " 67%|██████▋   | 1549/2300 [6:40:53<2:57:21, 14.17s/it]"
     ]
    },
    {
     "name": "stdout",
     "output_type": "stream",
     "text": [
      "[29.71368223]\n",
      "[23.7808135]\n",
      "[2.3749158]\n",
      "[0.0, 0.0]\n"
     ]
    },
    {
     "name": "stderr",
     "output_type": "stream",
     "text": [
      " 67%|██████▋   | 1550/2300 [6:41:08<3:00:27, 14.44s/it]"
     ]
    },
    {
     "name": "stdout",
     "output_type": "stream",
     "text": [
      "[-50.91171153 -47.47865806 -39.5794381 ]\n",
      "[-8.38251644 19.78142877 32.08022097]\n",
      "[4.8990536 4.7116766 6.7806134]\n",
      "[0.0, 0.0]\n",
      "[0.0, 0.0]\n",
      "[0.0, 0.0]\n"
     ]
    },
    {
     "name": "stderr",
     "output_type": "stream",
     "text": [
      " 67%|██████▋   | 1551/2300 [6:41:25<3:11:17, 15.32s/it]"
     ]
    },
    {
     "name": "stdout",
     "output_type": "stream",
     "text": [
      "[-50.01180144 -47.01209144 -37.57963549]\n",
      "[-8.98245734 18.91479279 33.08012329]\n",
      "[5.143117 4.261168 5.399464]\n",
      "[0.0, 0.0]\n",
      "[0.0, 0.0]\n",
      "[0.0, 0.0]\n"
     ]
    },
    {
     "name": "stderr",
     "output_type": "stream",
     "text": [
      " 67%|██████▋   | 1552/2300 [6:41:42<3:13:42, 15.54s/it]"
     ]
    },
    {
     "name": "stdout",
     "output_type": "stream",
     "text": [
      "[-49.11189144 -46.4787554  -35.67982182]\n",
      "[-9.58239831 18.08159658 33.88004488]\n",
      "[5.1446304 4.0244174 4.655876 ]\n",
      "[0.0, 0.0]\n",
      "[0.0, 0.0]\n",
      "[0.0, 0.0]\n"
     ]
    },
    {
     "name": "stderr",
     "output_type": "stream",
     "text": [
      " 68%|██████▊   | 1553/2300 [6:41:58<3:16:28, 15.78s/it]"
     ]
    },
    {
     "name": "stdout",
     "output_type": "stream",
     "text": [
      "[-46.01219032 -33.91337488 -48.17856769]\n",
      "[ 17.21495931  34.41326654 -10.21562035]\n",
      "[3.9911509 4.387365  5.1152554]\n",
      "[0.0, 0.0]\n",
      "[0.0, 0.0]\n",
      "[0.0, 0.0]\n"
     ]
    },
    {
     "name": "stderr",
     "output_type": "stream",
     "text": [
      " 68%|██████▊   | 1554/2300 [6:42:15<3:22:27, 16.28s/it]"
     ]
    },
    {
     "name": "stdout",
     "output_type": "stream",
     "text": [
      "[-47.21208173 -45.51223968 -32.18016721]\n",
      "[-10.88227005  16.41503769  34.8799478 ]\n",
      "[5.2681704 4.0140357 4.128163 ]\n",
      "[0.0, 0.0]\n",
      "[0.0, 0.0]\n",
      "[0.0, 0.0]\n"
     ]
    },
    {
     "name": "stderr",
     "output_type": "stream",
     "text": [
      " 68%|██████▊   | 1555/2300 [6:42:32<3:22:22, 16.30s/it]"
     ]
    },
    {
     "name": "stdout",
     "output_type": "stream",
     "text": [
      "[-45.01228883 -46.27874867 -30.4803356 ]\n",
      "[ 15.61511641 -11.51548917  35.27990987]\n",
      "[4.03594   5.198836  3.8111882]\n",
      "[0.0, 0.0]\n",
      "[0.0, 0.0]\n",
      "[0.0, 0.0]\n"
     ]
    },
    {
     "name": "stderr",
     "output_type": "stream",
     "text": [
      " 68%|██████▊   | 1556/2300 [6:42:49<3:27:41, 16.75s/it]"
     ]
    },
    {
     "name": "stdout",
     "output_type": "stream",
     "text": [
      "[-44.41234754 -28.81388053 -45.37883418]\n",
      "[ 14.81519597  35.61313919 -12.11542879]\n",
      "[4.1420712 3.6684968 4.993993 ]\n",
      "[0.0, 0.0]\n",
      "[0.0, 0.0]\n",
      "[0.0, 0.0]\n"
     ]
    },
    {
     "name": "stderr",
     "output_type": "stream",
     "text": [
      " 68%|██████▊   | 1557/2300 [6:43:07<3:31:27, 17.08s/it]"
     ]
    },
    {
     "name": "stdout",
     "output_type": "stream",
     "text": [
      "[-43.8124062  -27.11404983 -44.47892054]\n",
      "[ 14.01527653  35.91310539 -12.71536871]\n",
      "[4.2529173 3.723286  4.832167 ]\n",
      "[0.0, 0.0]\n",
      "[0.0, 0.0]\n",
      "[0.0, 0.0]\n"
     ]
    },
    {
     "name": "stderr",
     "output_type": "stream",
     "text": [
      " 68%|██████▊   | 1558/2300 [6:43:24<3:28:34, 16.87s/it]"
     ]
    },
    {
     "name": "stdout",
     "output_type": "stream",
     "text": [
      "[-43.51245192 -43.21246504 -25.41421853]\n",
      "[-13.28203336  13.21535745  36.11308128]\n",
      "[4.7225556 4.1212535 3.508728 ]\n",
      "[0.0, 0.0]\n",
      "[0.0, 0.0]\n",
      "[0.0, 0.0]\n"
     ]
    },
    {
     "name": "stderr",
     "output_type": "stream",
     "text": [
      " 68%|██████▊   | 1559/2300 [6:43:40<3:26:59, 16.76s/it]"
     ]
    },
    {
     "name": "stdout",
     "output_type": "stream",
     "text": [
      "[-42.61254472 -42.612524   -23.81437662]\n",
      "[-13.88197454  12.41543896  36.21306756]\n",
      "[4.6194377 4.0893335 3.3716693]\n",
      "[0.0, 0.0]\n",
      "[0.0, 0.0]\n",
      "[0.0, 0.0]\n"
     ]
    },
    {
     "name": "stderr",
     "output_type": "stream",
     "text": [
      " 68%|██████▊   | 1560/2300 [6:43:58<3:29:22, 16.98s/it]"
     ]
    },
    {
     "name": "stdout",
     "output_type": "stream",
     "text": [
      "[-42.01258302 -22.21453501 -41.67918385]\n",
      "[ 11.61552138  36.31305402 -14.41519023]\n",
      "[3.8908296 3.3688884 4.6192927]\n",
      "[0.0, 0.0]\n",
      "[0.0, 0.0]\n",
      "[0.0, 0.0]\n"
     ]
    },
    {
     "name": "stderr",
     "output_type": "stream",
     "text": [
      " 68%|██████▊   | 1561/2300 [6:44:14<3:26:40, 16.78s/it]"
     ]
    },
    {
     "name": "stdout",
     "output_type": "stream",
     "text": [
      "[-41.51263179 -20.61469286 -40.67927484]\n",
      "[ 10.81560502  36.41304015 -14.91513606]\n",
      "[3.8713713 3.3138795 4.602075 ]\n",
      "[0.0, 0.0]\n",
      "[0.0, 0.0]\n",
      "[0.0, 0.0]\n"
     ]
    },
    {
     "name": "stderr",
     "output_type": "stream",
     "text": [
      " 68%|██████▊   | 1562/2300 [6:44:32<3:29:53, 17.06s/it]"
     ]
    },
    {
     "name": "stdout",
     "output_type": "stream",
     "text": [
      "[-39.71284395 -40.97927176 -18.98148018]\n",
      "[-15.48181168  10.08238174  36.47980424]\n",
      "[4.50003   3.766339  3.2548141]\n",
      "[0.0, 0.0]\n",
      "[0.0, 0.0]\n",
      "[0.0, 0.0]\n"
     ]
    },
    {
     "name": "stderr",
     "output_type": "stream",
     "text": [
      " 68%|██████▊   | 1563/2300 [6:44:49<3:31:43, 17.24s/it]"
     ]
    },
    {
     "name": "stdout",
     "output_type": "stream",
     "text": [
      "[-38.7129468  -40.37932545 -17.38163908]\n",
      "[-15.98175996   9.38245144  36.4798058 ]\n",
      "[4.413484  3.6240318 3.101912 ]\n",
      "[0.0, 0.0]\n",
      "[0.0, 0.0]\n",
      "[0.0, 0.0]\n"
     ]
    },
    {
     "name": "stderr",
     "output_type": "stream",
     "text": [
      " 68%|██████▊   | 1564/2300 [6:45:05<3:27:19, 16.90s/it]"
     ]
    },
    {
     "name": "stdout",
     "output_type": "stream",
     "text": [
      "[-37.71304945 -39.8793692  -15.78179897]\n",
      "[-16.48170776   8.68252232  36.47980657]\n",
      "[4.3692203 3.5705864 2.9911032]\n",
      "[0.0, 0.0]\n",
      "[0.0, 0.0]\n",
      "[0.0, 0.0]\n"
     ]
    },
    {
     "name": "stderr",
     "output_type": "stream",
     "text": [
      " 68%|██████▊   | 1565/2300 [6:45:23<3:28:39, 17.03s/it]"
     ]
    },
    {
     "name": "stdout",
     "output_type": "stream",
     "text": [
      "[-36.61316224 -39.31285503 -14.31531519]\n",
      "[-16.98165502   8.01589297  36.4130252 ]\n",
      "[4.4156017 3.4588397 2.9965777]\n",
      "[0.0, 0.0]\n",
      "[0.0, 0.0]\n",
      "[0.0, 0.0]\n"
     ]
    },
    {
     "name": "stderr",
     "output_type": "stream",
     "text": [
      " 68%|██████▊   | 1566/2300 [6:45:40<3:30:01, 17.17s/it]"
     ]
    },
    {
     "name": "stdout",
     "output_type": "stream",
     "text": [
      "[-35.61326536 -38.67947779 -12.78209946]\n",
      "[-17.48160046   7.48264718  36.37981805]\n",
      "[4.457184  3.3059022 2.9170313]\n",
      "[0.0, 0.0]\n",
      "[0.0, 0.0]\n",
      "[0.0, 0.0]\n"
     ]
    },
    {
     "name": "stderr",
     "output_type": "stream",
     "text": [
      " 68%|██████▊   | 1567/2300 [6:45:57<3:26:54, 16.94s/it]"
     ]
    },
    {
     "name": "stdout",
     "output_type": "stream",
     "text": [
      "[-34.41339088 -38.01298923 -11.282251  ]\n",
      "[-17.98154708   6.91600214  36.27982822]\n",
      "[4.7179503 3.161072  2.805406 ]\n",
      "[0.0, 0.0]\n",
      "[0.0, 0.0]\n",
      "[0.0, 0.0]\n"
     ]
    },
    {
     "name": "stderr",
     "output_type": "stream",
     "text": [
      " 68%|██████▊   | 1568/2300 [6:46:14<3:29:48, 17.20s/it]"
     ]
    },
    {
     "name": "stdout",
     "output_type": "stream",
     "text": [
      "[-33.3135104  -37.27960775  -9.88239231]\n",
      "[-18.58148159   6.48275195  36.17983794]\n",
      "[4.831856  3.005599  2.7447433]\n",
      "[0.0, 0.0]\n",
      "[0.0, 0.0]\n",
      "[0.0, 0.0]\n"
     ]
    },
    {
     "name": "stderr",
     "output_type": "stream",
     "text": [
      " 68%|██████▊   | 1569/2300 [6:46:32<3:30:23, 17.27s/it]"
     ]
    },
    {
     "name": "stdout",
     "output_type": "stream",
     "text": [
      "[-32.08002294 -36.57967284  -8.48253274]\n",
      "[-19.11466644   5.98280435  36.07984729]\n",
      "[4.8412504 2.8899515 2.704036 ]\n",
      "[0.0, 0.0]\n",
      "[0.0, 0.0]\n",
      "[0.0, 0.0]\n"
     ]
    },
    {
     "name": "stderr",
     "output_type": "stream",
     "text": [
      " 68%|██████▊   | 1570/2300 [6:46:48<3:25:59, 16.93s/it]"
     ]
    },
    {
     "name": "stdout",
     "output_type": "stream",
     "text": [
      "[-30.81379137  -7.11602064 -35.77974888]\n",
      "[-19.68134556  35.91305661   5.58284674]\n",
      "[4.8933635 2.6496227 2.7516947]\n",
      "[0.0, 0.0]\n",
      "[0.0, 0.0]\n",
      "[0.0, 0.0]\n"
     ]
    },
    {
     "name": "stderr",
     "output_type": "stream",
     "text": [
      " 68%|██████▊   | 1571/2300 [6:47:04<3:23:50, 16.78s/it]"
     ]
    },
    {
     "name": "stdout",
     "output_type": "stream",
     "text": [
      "[ -5.71615672 -29.48018293 -34.97982305]\n",
      "[ 35.8130649  -20.21451178   5.18289387]\n",
      "[2.5971649 4.837907  2.6378114]\n",
      "[0.0, 0.0]\n",
      "[0.0, 0.0]\n",
      "[0.0, 0.0]\n"
     ]
    },
    {
     "name": "stderr",
     "output_type": "stream",
     "text": [
      " 68%|██████▊   | 1572/2300 [6:47:22<3:27:01, 17.06s/it]"
     ]
    },
    {
     "name": "stdout",
     "output_type": "stream",
     "text": [
      "[-28.11412511 -34.07990634  -4.38294251]\n",
      "[-20.78115696   4.88292957  35.67988427]\n",
      "[4.9830933 2.5379868 2.61607  ]\n",
      "[0.0, 0.0]\n",
      "[0.0, 0.0]\n",
      "[0.0, 0.0]\n"
     ]
    },
    {
     "name": "stderr",
     "output_type": "stream",
     "text": [
      " 68%|██████▊   | 1573/2300 [6:47:39<3:24:23, 16.87s/it]"
     ]
    },
    {
     "name": "stdout",
     "output_type": "stream",
     "text": [
      "[-33.11349995  -3.01642249 -26.58020767]\n",
      "[  4.5162307   35.51308998 -21.31429647]\n",
      "[2.4703016 2.678369  5.519034 ]\n",
      "[0.0, 0.0]\n",
      "[0.0, 0.0]\n",
      "[0.0, 0.0]\n"
     ]
    },
    {
     "name": "stderr",
     "output_type": "stream",
     "text": [
      " 68%|██████▊   | 1574/2300 [6:47:58<3:33:43, 17.66s/it]"
     ]
    },
    {
     "name": "stdout",
     "output_type": "stream",
     "text": [
      "[-24.81470306   4.8829326    0.41585138 -32.08009215  -1.68321099]\n",
      "[-22.08047714  -7.48278473  -4.31652956   4.18301125  35.17993469]\n",
      "[6.774858  4.6374764 2.782554  2.3731992 2.788082 ]\n",
      "[0.0, 0.0]\n",
      "[0.0, 0.0]\n",
      "[0.0, 0.0]\n",
      "[0.0, 0.0]\n",
      "[0.0, 0.0]\n"
     ]
    },
    {
     "name": "stderr",
     "output_type": "stream",
     "text": [
      " 68%|██████▊   | 1575/2300 [6:48:19<3:44:04, 18.54s/it]"
     ]
    },
    {
     "name": "stdout",
     "output_type": "stream",
     "text": [
      "[-22.41326579 -31.01372206   6.11586738  -1.08449683  -0.18335956]\n",
      "[-23.08419055   3.81629912  -8.91584529  -3.81679781  34.97995444]\n",
      "[8.41637   2.352921  4.2772136 2.1474824 2.9212403]\n",
      "[0.0, 0.0]\n",
      "[0.0, 0.0]\n",
      "[0.0, 0.0]\n",
      "[0.0, 0.0]\n",
      "[0.0, 0.0]\n"
     ]
    },
    {
     "name": "stderr",
     "output_type": "stream",
     "text": [
      " 69%|██████▊   | 1576/2300 [6:48:37<3:43:18, 18.51s/it]"
     ]
    },
    {
     "name": "stdout",
     "output_type": "stream",
     "text": [
      "[  7.08267648   1.28315527 -19.68205801  -2.58681362 -29.88028383]\n",
      "[-10.2824454   34.71316352 -24.01456503  -3.41782705   3.48310054]\n",
      "[4.1309795 3.0111217 8.089815  2.3240297 2.332167 ]\n",
      "[0.0, 0.0]\n",
      "[0.0, 0.0]\n",
      "[0.0, 0.0]\n",
      "[0.0, 0.0]\n",
      "[0.0, 0.0]\n"
     ]
    },
    {
     "name": "stderr",
     "output_type": "stream",
     "text": [
      " 69%|██████▊   | 1577/2300 [6:48:59<3:54:47, 19.48s/it]"
     ]
    },
    {
     "name": "stdout",
     "output_type": "stream",
     "text": [
      "[-17.41481907  -5.01658993   7.81576506  -8.68215781 -18.38148941\n",
      " -28.58039249   2.81634195]\n",
      "[-24.48114466  -2.98216669 -11.51556634  -2.11644665   0.58324192\n",
      "   3.08315432  34.38000973]\n",
      "[5.667742  5.952782  3.926071  7.9311457 2.3016791 2.2339766 2.9791782]\n",
      "[0.0, 0.0]\n",
      "[0.0, 0.0]\n",
      "[0.0, 0.0]\n",
      "[0.0, 0.0]\n",
      "[0.0, 0.0]\n",
      "[0.0, 0.0]\n",
      "[0.0, 0.0]\n"
     ]
    },
    {
     "name": "stderr",
     "output_type": "stream",
     "text": [
      " 69%|██████▊   | 1578/2300 [6:49:18<3:53:58, 19.44s/it]"
     ]
    },
    {
     "name": "stdout",
     "output_type": "stream",
     "text": [
      "[-27.21413916 -15.48205706   8.21573497 -20.08130694   4.31619521]\n",
      "[  2.71641913 -24.61434427 -12.71544519   1.08323182  34.18003171]\n",
      "[2.369202  5.280302  3.9004323 1.5881194 2.8767269]\n",
      "[0.0, 0.0]\n",
      "[0.0, 0.0]\n",
      "[0.0, 0.0]\n",
      "[0.0, 0.0]\n",
      "[0.0, 0.0]\n"
     ]
    },
    {
     "name": "stderr",
     "output_type": "stream",
     "text": [
      " 69%|██████▊   | 1579/2300 [6:49:39<3:59:24, 19.92s/it]"
     ]
    },
    {
     "name": "stdout",
     "output_type": "stream",
     "text": [
      "[-21.91460215   5.78271199 -13.58217596   8.41571607 -25.18066731]\n",
      "[  1.51654828  33.81324853 -24.71430448 -13.91532537   2.18329177]\n",
      "[2.9573007 3.0125978 5.354281  3.943454  4.0928   ]\n",
      "[0.0, 0.0]\n",
      "[0.0, 0.0]\n",
      "[0.0, 0.0]\n",
      "[0.0, 0.0]\n",
      "[0.0, 0.0]\n"
     ]
    },
    {
     "name": "stderr",
     "output_type": "stream",
     "text": [
      " 69%|██████▊   | 1580/2300 [6:49:56<3:48:35, 19.05s/it]"
     ]
    },
    {
     "name": "stdout",
     "output_type": "stream",
     "text": [
      "[-11.61548875   8.38253432   7.41589016]\n",
      "[-24.6809983  -15.08196036  33.48010373]\n",
      "[5.3071756 4.280437  3.1509297]\n",
      "[0.0, 0.0]\n",
      "[0.0, 0.0]\n",
      "[0.0, 0.0]\n"
     ]
    },
    {
     "name": "stderr",
     "output_type": "stream",
     "text": [
      " 69%|██████▊   | 1581/2300 [6:50:13<3:39:07, 18.29s/it]"
     ]
    },
    {
     "name": "stdout",
     "output_type": "stream",
     "text": [
      "[-9.51571777  8.08256556  8.98239507]\n",
      "[-24.58098126 -16.38184756  33.01332243]\n",
      "[5.565441 4.97249  3.205646]\n",
      "[0.0, 0.0]\n",
      "[0.0, 0.0]\n",
      "[0.0, 0.0]\n"
     ]
    },
    {
     "name": "stderr",
     "output_type": "stream",
     "text": [
      " 69%|██████▉   | 1582/2300 [6:50:31<3:36:58, 18.13s/it]"
     ]
    },
    {
     "name": "stdout",
     "output_type": "stream",
     "text": [
      "[-7.21597111 10.58223711  7.51575048]\n",
      "[-24.38096835  32.51336806 -17.71496008]\n",
      "[6.6450343 3.1602488 6.0749693]\n",
      "[0.0, 0.0]\n",
      "[0.0, 0.0]\n",
      "[0.0, 0.0]\n"
     ]
    },
    {
     "name": "stderr",
     "output_type": "stream",
     "text": [
      " 69%|██████▉   | 1583/2300 [6:50:48<3:34:03, 17.91s/it]"
     ]
    },
    {
     "name": "stdout",
     "output_type": "stream",
     "text": [
      "[-4.51628721 12.0820884   6.21576744]\n",
      "[-23.98094351  32.01341244 -19.41481386]\n",
      "[8.118881 2.978847 9.658837]\n",
      "[0.0, 0.0]\n",
      "[0.0, 0.0]\n",
      "[0.0, 0.0]\n"
     ]
    },
    {
     "name": "stderr",
     "output_type": "stream",
     "text": [
      " 69%|██████▉   | 1584/2300 [6:51:04<3:27:51, 17.42s/it]"
     ]
    },
    {
     "name": "stdout",
     "output_type": "stream",
     "text": [
      "[ 0.483095    2.18329547 13.4152935 ]\n",
      "[-22.68093618 -22.08174214  31.4803058 ]\n",
      "[49.773277  51.20541    2.8206832]\n",
      "[0.0, 0.0]\n",
      "[0.0, 0.0]\n",
      "[0.0, 0.0]\n"
     ]
    },
    {
     "name": "stderr",
     "output_type": "stream",
     "text": [
      " 69%|██████▉   | 1585/2300 [6:51:21<3:23:24, 17.07s/it]"
     ]
    },
    {
     "name": "stdout",
     "output_type": "stream",
     "text": [
      "[14.71516241]\n",
      "[30.98035741]\n",
      "[2.7673771]\n",
      "[0.0, 0.0]\n"
     ]
    },
    {
     "name": "stderr",
     "output_type": "stream",
     "text": [
      " 69%|██████▉   | 1586/2300 [6:51:35<3:13:38, 16.27s/it]"
     ]
    },
    {
     "name": "stdout",
     "output_type": "stream",
     "text": [
      "[15.88170302]\n",
      "[30.41355527]\n",
      "[2.7489352]\n",
      "[0.0, 0.0]\n"
     ]
    },
    {
     "name": "stderr",
     "output_type": "stream",
     "text": [
      " 69%|██████▉   | 1587/2300 [6:51:49<3:05:30, 15.61s/it]"
     ]
    },
    {
     "name": "stdout",
     "output_type": "stream",
     "text": [
      "[17.21492366]\n",
      "[29.98047421]\n",
      "[2.6434479]\n",
      "[0.0, 0.0]\n"
     ]
    },
    {
     "name": "stderr",
     "output_type": "stream",
     "text": [
      " 69%|██████▉   | 1588/2300 [6:52:04<3:01:22, 15.29s/it]"
     ]
    },
    {
     "name": "stdout",
     "output_type": "stream",
     "text": [
      "[18.3148236]\n",
      "[29.48053602]\n",
      "[2.584114]\n",
      "[0.0, 0.0]\n"
     ]
    },
    {
     "name": "stderr",
     "output_type": "stream",
     "text": [
      " 69%|██████▉   | 1589/2300 [6:52:18<2:57:35, 14.99s/it]"
     ]
    },
    {
     "name": "stdout",
     "output_type": "stream",
     "text": [
      "[19.48130547]\n",
      "[29.01366483]\n",
      "[2.5434558]\n",
      "[0.0, 0.0]\n"
     ]
    },
    {
     "name": "stderr",
     "output_type": "stream",
     "text": [
      " 69%|██████▉   | 1590/2300 [6:52:32<2:52:47, 14.60s/it]"
     ]
    },
    {
     "name": "stdout",
     "output_type": "stream",
     "text": [
      "[20.48118361]\n",
      "[28.51370657]\n",
      "[2.498928]\n",
      "[0.0, 0.0]\n"
     ]
    },
    {
     "name": "stderr",
     "output_type": "stream",
     "text": [
      " 69%|██████▉   | 1591/2300 [6:52:46<2:51:32, 14.52s/it]"
     ]
    },
    {
     "name": "stdout",
     "output_type": "stream",
     "text": [
      "[21.61452358]\n",
      "[28.08074446]\n",
      "[2.430789]\n",
      "[0.0, 0.0]\n"
     ]
    },
    {
     "name": "stderr",
     "output_type": "stream",
     "text": [
      " 69%|██████▉   | 1592/2300 [6:53:00<2:49:44, 14.38s/it]"
     ]
    },
    {
     "name": "stdout",
     "output_type": "stream",
     "text": [
      "[22.680881]\n",
      "[27.71369499]\n",
      "[2.346979]\n",
      "[0.0, 0.0]\n"
     ]
    },
    {
     "name": "stderr",
     "output_type": "stream",
     "text": [
      " 69%|██████▉   | 1593/2300 [6:53:14<2:47:59, 14.26s/it]"
     ]
    },
    {
     "name": "stdout",
     "output_type": "stream",
     "text": [
      "[23.68068254]\n",
      "[27.21367994]\n",
      "[2.3009365]\n",
      "[0.0, 0.0]\n"
     ]
    },
    {
     "name": "stderr",
     "output_type": "stream",
     "text": [
      " 69%|██████▉   | 1594/2300 [6:53:29<2:49:05, 14.37s/it]"
     ]
    },
    {
     "name": "stdout",
     "output_type": "stream",
     "text": [
      "[24.61433752]\n",
      "[26.78117264]\n",
      "[2.291337]\n",
      "[0.0, 0.0]\n"
     ]
    },
    {
     "name": "stderr",
     "output_type": "stream",
     "text": [
      " 69%|██████▉   | 1595/2300 [6:53:43<2:48:40, 14.36s/it]"
     ]
    },
    {
     "name": "stdout",
     "output_type": "stream",
     "text": [
      "[25.57918091]\n",
      "[26.41288376]\n",
      "[2.2773097]\n",
      "[0.0, 0.0]\n"
     ]
    },
    {
     "name": "stderr",
     "output_type": "stream",
     "text": [
      " 69%|██████▉   | 1596/2300 [6:53:57<2:46:17, 14.17s/it]"
     ]
    },
    {
     "name": "stdout",
     "output_type": "stream",
     "text": [
      "[26.51432522]\n",
      "[25.97810098]\n",
      "[2.25062]\n",
      "[0.0, 0.0]\n"
     ]
    },
    {
     "name": "stderr",
     "output_type": "stream",
     "text": [
      " 69%|██████▉   | 1597/2300 [6:54:11<2:46:19, 14.19s/it]"
     ]
    },
    {
     "name": "stdout",
     "output_type": "stream",
     "text": [
      "[27.48118092]\n",
      "[25.61455147]\n",
      "[2.2603264]\n",
      "[0.0, 0.0]\n"
     ]
    },
    {
     "name": "stderr",
     "output_type": "stream",
     "text": [
      " 69%|██████▉   | 1598/2300 [6:54:25<2:46:01, 14.19s/it]"
     ]
    },
    {
     "name": "stdout",
     "output_type": "stream",
     "text": [
      "[28.3808801]\n",
      "[25.21443302]\n",
      "[2.2723372]\n",
      "[0.0, 0.0]\n"
     ]
    },
    {
     "name": "stderr",
     "output_type": "stream",
     "text": [
      " 70%|██████▉   | 1599/2300 [6:54:39<2:44:52, 14.11s/it]"
     ]
    },
    {
     "name": "stdout",
     "output_type": "stream",
     "text": [
      "[29.28069565]\n",
      "[24.81439597]\n",
      "[2.2949162]\n",
      "[0.0, 0.0]\n"
     ]
    },
    {
     "name": "stderr",
     "output_type": "stream",
     "text": [
      " 70%|██████▉   | 1600/2300 [6:54:53<2:45:05, 14.15s/it]"
     ]
    },
    {
     "name": "stdout",
     "output_type": "stream",
     "text": [
      "[-48.31196347 -38.61291306 -51.37826249]\n",
      "[18.11487216 33.61334666 -6.11603012]\n",
      "[3.9864368 4.9970303 4.886925 ]\n",
      "[0.0, 0.0]\n",
      "[0.0, 0.0]\n",
      "[0.0, 0.0]\n"
     ]
    },
    {
     "name": "stderr",
     "output_type": "stream",
     "text": [
      " 70%|██████▉   | 1601/2300 [6:55:09<2:51:04, 14.68s/it]"
     ]
    },
    {
     "name": "stdout",
     "output_type": "stream",
     "text": [
      "[-47.81201302 -36.81309003 -50.57833971]\n",
      "[17.31495041 34.31327772 -6.61597952]\n",
      "[3.9799037 4.39233   5.026062 ]\n",
      "[0.0, 0.0]\n",
      "[0.0, 0.0]\n",
      "[0.0, 0.0]\n"
     ]
    },
    {
     "name": "stderr",
     "output_type": "stream",
     "text": [
      " 70%|██████▉   | 1602/2300 [6:55:26<2:57:00, 15.21s/it]"
     ]
    },
    {
     "name": "stdout",
     "output_type": "stream",
     "text": [
      "[-49.71183033 -47.31206245 -35.11325732]\n",
      "[-7.18263516 16.51502871 34.91321756]\n",
      "[5.2757707 4.1034393 4.186711 ]\n",
      "[0.0, 0.0]\n",
      "[0.0, 0.0]\n",
      "[0.0, 0.0]\n"
     ]
    },
    {
     "name": "stderr",
     "output_type": "stream",
     "text": [
      " 70%|██████▉   | 1603/2300 [6:55:44<3:07:51, 16.17s/it]"
     ]
    },
    {
     "name": "stdout",
     "output_type": "stream",
     "text": [
      "[-48.81192035 -46.81211179 -33.41342481]\n",
      "[-7.78257637 15.71510718 35.41316647]\n",
      "[5.4823017 4.2164965 4.0165243]\n",
      "[0.0, 0.0]\n",
      "[0.0, 0.0]\n",
      "[0.0, 0.0]\n"
     ]
    },
    {
     "name": "stderr",
     "output_type": "stream",
     "text": [
      " 70%|██████▉   | 1604/2300 [6:56:00<3:06:28, 16.08s/it]"
     ]
    },
    {
     "name": "stdout",
     "output_type": "stream",
     "text": [
      "[-46.31216068 -47.87859915 -31.78020887]\n",
      "[14.91518622 -8.41579742 35.77985991]\n",
      "[4.328127  5.4108276 3.7617216]\n",
      "[0.0, 0.0]\n",
      "[0.0, 0.0]\n",
      "[0.0, 0.0]\n"
     ]
    },
    {
     "name": "stderr",
     "output_type": "stream",
     "text": [
      " 70%|██████▉   | 1605/2300 [6:56:16<3:07:07, 16.16s/it]"
     ]
    },
    {
     "name": "stdout",
     "output_type": "stream",
     "text": [
      "[-30.21374056 -46.97868473 -45.77882211]\n",
      "[36.11309213 -9.11572671 14.08198842]\n",
      "[3.5567257 5.3128886 4.5454454]\n",
      "[0.0, 0.0]\n",
      "[0.0, 0.0]\n",
      "[0.0, 0.0]\n"
     ]
    },
    {
     "name": "stderr",
     "output_type": "stream",
     "text": [
      " 70%|██████▉   | 1606/2300 [6:56:34<3:11:38, 16.57s/it]"
     ]
    },
    {
     "name": "stdout",
     "output_type": "stream",
     "text": [
      "[-45.97878033 -45.17888002 -28.58052508]\n",
      "[-9.71566547 13.28206591 36.37980428]\n",
      "[5.46303   4.7490873 3.4738004]\n",
      "[0.0, 0.0]\n",
      "[0.0, 0.0]\n",
      "[0.0, 0.0]\n"
     ]
    },
    {
     "name": "stderr",
     "output_type": "stream",
     "text": [
      " 70%|██████▉   | 1607/2300 [6:56:50<3:10:08, 16.46s/it]"
     ]
    },
    {
     "name": "stdout",
     "output_type": "stream",
     "text": [
      "[-26.9140686  -45.07886554 -44.57893712]\n",
      "[ 36.61303609 -10.41559486  12.48214375]\n",
      "[3.5500603 5.5093665 4.835002 ]\n",
      "[0.0, 0.0]\n",
      "[0.0, 0.0]\n",
      "[0.0, 0.0]\n"
     ]
    },
    {
     "name": "stderr",
     "output_type": "stream",
     "text": [
      " 70%|██████▉   | 1608/2300 [6:57:06<3:09:29, 16.43s/it]"
     ]
    },
    {
     "name": "stdout",
     "output_type": "stream",
     "text": [
      "[-44.11239077 -43.97899321 -25.28085235]\n",
      "[-11.08224941  11.68222154  36.77976915]\n",
      "[5.3710876 4.989261  3.380869 ]\n",
      "[0.0, 0.0]\n",
      "[0.0, 0.0]\n",
      "[0.0, 0.0]\n"
     ]
    },
    {
     "name": "stderr",
     "output_type": "stream",
     "text": [
      " 70%|██████▉   | 1609/2300 [6:57:24<3:13:07, 16.77s/it]"
     ]
    },
    {
     "name": "stdout",
     "output_type": "stream",
     "text": [
      "[-43.4124409  -43.17904974 -23.68101178]\n",
      "[ 10.81560296 -11.71546587  36.97975055]\n",
      "[5.2463098 5.2183723 3.2630808]\n",
      "[0.0, 0.0]\n",
      "[0.0, 0.0]\n",
      "[0.0, 0.0]\n"
     ]
    },
    {
     "name": "stderr",
     "output_type": "stream",
     "text": [
      " 70%|███████   | 1610/2300 [6:57:41<3:13:22, 16.82s/it]"
     ]
    },
    {
     "name": "stdout",
     "output_type": "stream",
     "text": [
      "[-42.17913949 -42.87909155 -22.08117105]\n",
      "[-12.31540253   9.98238589  37.07974206]\n",
      "[5.034478  5.2706594 3.2145233]\n",
      "[0.0, 0.0]\n",
      "[0.0, 0.0]\n",
      "[0.0, 0.0]\n"
     ]
    },
    {
     "name": "stderr",
     "output_type": "stream",
     "text": [
      " 70%|███████   | 1611/2300 [6:57:58<3:15:12, 17.00s/it]"
     ]
    },
    {
     "name": "stdout",
     "output_type": "stream",
     "text": [
      "[-41.21268561 -20.51470138 -42.27914394]\n",
      "[-12.88206943  37.11297231   9.1824646 ]\n",
      "[4.9223566 3.1462555 4.9784117]\n",
      "[0.0, 0.0]\n",
      "[0.0, 0.0]\n",
      "[0.0, 0.0]\n"
     ]
    },
    {
     "name": "stderr",
     "output_type": "stream",
     "text": [
      " 70%|███████   | 1612/2300 [6:58:14<3:12:04, 16.75s/it]"
     ]
    },
    {
     "name": "stdout",
     "output_type": "stream",
     "text": [
      "[-41.71260858 -18.91485926 -40.2793135 ]\n",
      "[  8.4158557   37.21295899 -13.51527404]\n",
      "[4.7183986 3.1219137 5.015439 ]\n",
      "[0.0, 0.0]\n",
      "[0.0, 0.0]\n",
      "[0.0, 0.0]\n"
     ]
    },
    {
     "name": "stderr",
     "output_type": "stream",
     "text": [
      " 70%|███████   | 1613/2300 [6:58:31<3:10:39, 16.65s/it]"
     ]
    },
    {
     "name": "stdout",
     "output_type": "stream",
     "text": [
      "[-39.2128925  -41.11267071 -17.38163903]\n",
      "[-14.08194905   7.71592682  37.17973564]\n",
      "[5.0729127 4.4726195 3.0241473]\n",
      "[0.0, 0.0]\n",
      "[0.0, 0.0]\n",
      "[0.0, 0.0]\n"
     ]
    },
    {
     "name": "stderr",
     "output_type": "stream",
     "text": [
      " 70%|███████   | 1614/2300 [6:58:48<3:13:59, 16.97s/it]"
     ]
    },
    {
     "name": "stdout",
     "output_type": "stream",
     "text": [
      "[-15.91515605 -38.17950679 -40.47930344]\n",
      "[ 37.11296213 -14.61515581   7.08267942]\n",
      "[2.960478  4.9429173 4.1912513]\n",
      "[0.0, 0.0]\n",
      "[0.0, 0.0]\n",
      "[0.0, 0.0]\n"
     ]
    },
    {
     "name": "stderr",
     "output_type": "stream",
     "text": [
      " 70%|███████   | 1615/2300 [6:59:04<3:10:02, 16.65s/it]"
     ]
    },
    {
     "name": "stdout",
     "output_type": "stream",
     "text": [
      "[-37.1131095  -14.31531346 -39.8793578 ]\n",
      "[-15.18183775  37.11295874   6.48274233]\n",
      "[4.7867613 2.9604003 3.9950745]\n",
      "[0.0, 0.0]\n",
      "[0.0, 0.0]\n",
      "[0.0, 0.0]\n"
     ]
    },
    {
     "name": "stderr",
     "output_type": "stream",
     "text": [
      " 70%|███████   | 1616/2300 [6:59:21<3:08:56, 16.57s/it]"
     ]
    },
    {
     "name": "stdout",
     "output_type": "stream",
     "text": [
      "[-39.21286877 -12.81546125 -36.0796948 ]\n",
      "[  6.01609465  37.0129646  -15.71503686]\n",
      "[3.7922947 2.861055  4.7381444]\n",
      "[0.0, 0.0]\n",
      "[0.0, 0.0]\n",
      "[0.0, 0.0]\n"
     ]
    },
    {
     "name": "stderr",
     "output_type": "stream",
     "text": [
      " 70%|███████   | 1617/2300 [6:59:39<3:12:57, 16.95s/it]"
     ]
    },
    {
     "name": "stdout",
     "output_type": "stream",
     "text": [
      "[-35.01332537 -38.47948906 -11.38223998]\n",
      "[-16.28171898   5.58283763  36.97975769]\n",
      "[4.7046227 3.5616102 2.751281 ]\n",
      "[0.0, 0.0]\n",
      "[0.0, 0.0]\n",
      "[0.0, 0.0]\n"
     ]
    },
    {
     "name": "stderr",
     "output_type": "stream",
     "text": [
      " 70%|███████   | 1618/2300 [6:59:55<3:11:31, 16.85s/it]"
     ]
    },
    {
     "name": "stdout",
     "output_type": "stream",
     "text": [
      "[-37.71302307 -33.87988724  -9.9823809 ]\n",
      "[  5.21617126 -16.81491815  36.87976756]\n",
      "[3.325046  4.913152  2.6911488]\n",
      "[0.0, 0.0]\n",
      "[0.0, 0.0]\n",
      "[0.0, 0.0]\n"
     ]
    },
    {
     "name": "stderr",
     "output_type": "stream",
     "text": [
      " 70%|███████   | 1619/2300 [7:00:12<3:09:36, 16.71s/it]"
     ]
    },
    {
     "name": "stdout",
     "output_type": "stream",
     "text": [
      "[-32.61357834 -36.97963148  -8.58252115]\n",
      "[-17.38159931   4.78292393  36.77977734]\n",
      "[5.26093   3.1564798 2.6711416]\n",
      "[0.0, 0.0]\n",
      "[0.0, 0.0]\n",
      "[0.0, 0.0]\n"
     ]
    },
    {
     "name": "stderr",
     "output_type": "stream",
     "text": [
      " 70%|███████   | 1620/2300 [7:00:29<3:12:04, 16.95s/it]"
     ]
    },
    {
     "name": "stdout",
     "output_type": "stream",
     "text": [
      "[-36.11318926  -7.2160101  -31.3800891 ]\n",
      "[  4.51623525  36.61299091 -18.01477278]\n",
      "[2.959636  2.623493  5.3190317]\n",
      "[0.0, 0.0]\n",
      "[0.0, 0.0]\n",
      "[0.0, 0.0]\n"
     ]
    },
    {
     "name": "stderr",
     "output_type": "stream",
     "text": [
      " 70%|███████   | 1621/2300 [7:00:46<3:10:10, 16.80s/it]"
     ]
    },
    {
     "name": "stdout",
     "output_type": "stream",
     "text": [
      "[-35.31327351 -30.08017526  -5.88279186]\n",
      "[  4.21626262 -18.61469106  36.47980486]\n",
      "[2.8228438 5.4860954 2.5398726]\n",
      "[0.0, 0.0]\n",
      "[0.0, 0.0]\n",
      "[0.0, 0.0]\n"
     ]
    },
    {
     "name": "stderr",
     "output_type": "stream",
     "text": [
      " 71%|███████   | 1622/2300 [7:01:03<3:12:13, 17.01s/it]"
     ]
    },
    {
     "name": "stdout",
     "output_type": "stream",
     "text": [
      "[ -4.61626352 -28.68025007 -34.37987628]\n",
      "[ 36.31301768 -19.21460312   3.98301897]\n",
      "[2.5204585 5.557633  2.7016287]\n",
      "[0.0, 0.0]\n",
      "[0.0, 0.0]\n",
      "[0.0, 0.0]\n"
     ]
    },
    {
     "name": "stderr",
     "output_type": "stream",
     "text": [
      " 71%|███████   | 1623/2300 [7:01:19<3:09:37, 16.81s/it]"
     ]
    },
    {
     "name": "stdout",
     "output_type": "stream",
     "text": [
      "[-27.21422118 -33.413471    -3.21640103]\n",
      "[-19.88122366   3.71630896  36.21302557]\n",
      "[5.744678  2.6184998 2.5819871]\n",
      "[0.0, 0.0]\n",
      "[0.0, 0.0]\n",
      "[0.0, 0.0]\n"
     ]
    },
    {
     "name": "stderr",
     "output_type": "stream",
     "text": [
      " 71%|███████   | 1624/2300 [7:01:36<3:08:08, 16.70s/it]"
     ]
    },
    {
     "name": "stdout",
     "output_type": "stream",
     "text": [
      "[-25.51447016 -32.41357528  -1.88318856]\n",
      "[-20.48101559   3.41633794  35.97985416]\n",
      "[6.313559  2.5153515 2.6845644]\n",
      "[0.0, 0.0]\n",
      "[0.0, 0.0]\n",
      "[0.0, 0.0]\n"
     ]
    },
    {
     "name": "stderr",
     "output_type": "stream",
     "text": [
      " 71%|███████   | 1625/2300 [7:01:56<3:18:23, 17.63s/it]"
     ]
    },
    {
     "name": "stdout",
     "output_type": "stream",
     "text": [
      "[-23.51498412   4.6829602  -31.31369093  -0.58422909  -0.48332686]\n",
      "[-21.38021083  -8.48269215   3.21635925  -4.51658722  35.67988422]\n",
      "[8.250797  4.669417  2.468959  2.8078287 2.8524587]\n",
      "[0.0, 0.0]\n",
      "[0.0, 0.0]\n",
      "[0.0, 0.0]\n",
      "[0.0, 0.0]\n",
      "[0.0, 0.0]\n"
     ]
    },
    {
     "name": "stderr",
     "output_type": "stream",
     "text": [
      " 71%|███████   | 1626/2300 [7:02:16<3:26:48, 18.41s/it]"
     ]
    },
    {
     "name": "stdout",
     "output_type": "stream",
     "text": [
      "[-20.71410438   5.7828272   -2.18496319 -30.18025435   1.01652443]\n",
      "[-22.58238231  -9.88251758  -4.01700002   2.88315676  35.47990378]\n",
      "[12.326019   4.5138164  2.611643   2.4547307  2.9824212]\n",
      "[0.0, 0.0]\n",
      "[0.0, 0.0]\n",
      "[0.0, 0.0]\n",
      "[0.0, 0.0]\n",
      "[0.0, 0.0]\n"
     ]
    },
    {
     "name": "stderr",
     "output_type": "stream",
     "text": [
      " 71%|███████   | 1627/2300 [7:02:34<3:25:44, 18.34s/it]"
     ]
    },
    {
     "name": "stdout",
     "output_type": "stream",
     "text": [
      "[-17.61476292  -4.31771283 -10.21563689 -28.91395098   2.58303037\n",
      "   6.5158425  -17.58155786]\n",
      "[-2.33814051e+01 -3.58030081e+00 -2.18283825e+00  2.61642807e+00\n",
      "  3.52131177e+01 -1.13156073e+01 -1.66994795e-02]\n",
      "[6.894811  4.4130163 7.115263  2.357121  2.9836    4.3122883 3.188248 ]\n",
      "[0.0, 0.0]\n",
      "[0.0, 0.0]\n",
      "[0.0, 0.0]\n",
      "[0.0, 0.0]\n",
      "[0.0, 0.0]\n",
      "[0.0, 0.0]\n",
      "[0.0, 0.0]\n"
     ]
    },
    {
     "name": "stderr",
     "output_type": "stream",
     "text": [
      " 71%|███████   | 1628/2300 [7:02:57<3:41:58, 19.82s/it]"
     ]
    },
    {
     "name": "stdout",
     "output_type": "stream",
     "text": [
      "[  6.98269217 -19.61475956 -27.61409758   4.08288351 -15.58213025]\n",
      "[-12.58222179   0.61666517   2.21647219  34.91314733 -23.6144595 ]\n",
      "[4.1743984 1.8724921 2.4620934 2.8438957 5.7488666]\n",
      "[0.0, 0.0]\n",
      "[0.0, 0.0]\n",
      "[0.0, 0.0]\n",
      "[0.0, 0.0]\n",
      "[0.0, 0.0]\n"
     ]
    },
    {
     "name": "stderr",
     "output_type": "stream",
     "text": [
      " 71%|███████   | 1629/2300 [7:03:18<3:43:28, 19.98s/it]"
     ]
    },
    {
     "name": "stdout",
     "output_type": "stream",
     "text": [
      "[  7.18266936 -21.41468073 -13.58222102 -25.78060168   5.51608165]\n",
      "[-13.78210278   1.01660047 -23.71440976   1.78333402  34.57999282]\n",
      "[4.265013  2.539094  5.6707344 3.63384   2.857711 ]\n",
      "[0.0, 0.0]\n",
      "[0.0, 0.0]\n",
      "[0.0, 0.0]\n",
      "[0.0, 0.0]\n",
      "[0.0, 0.0]\n"
     ]
    },
    {
     "name": "stderr",
     "output_type": "stream",
     "text": [
      " 71%|███████   | 1630/2300 [7:03:36<3:37:34, 19.48s/it]"
     ]
    },
    {
     "name": "stdout",
     "output_type": "stream",
     "text": [
      "[-11.58234691   7.11579717   7.01593282]\n",
      "[-23.71438251 -15.01523584  34.28002363]\n",
      "[5.6088047 4.573882  2.9835353]\n",
      "[0.0, 0.0]\n",
      "[0.0, 0.0]\n",
      "[0.0, 0.0]\n"
     ]
    },
    {
     "name": "stderr",
     "output_type": "stream",
     "text": [
      " 71%|███████   | 1631/2300 [7:03:54<3:32:39, 19.07s/it]"
     ]
    },
    {
     "name": "stdout",
     "output_type": "stream",
     "text": [
      "[-9.41572858  6.78271383  8.51578563]\n",
      "[-23.68108151 -16.28188291  33.88006442]\n",
      "[6.109753  5.3714967 3.0066116]\n",
      "[0.0, 0.0]\n",
      "[0.0, 0.0]\n",
      "[0.0, 0.0]\n"
     ]
    },
    {
     "name": "stderr",
     "output_type": "stream",
     "text": [
      " 71%|███████   | 1632/2300 [7:04:10<3:22:07, 18.15s/it]"
     ]
    },
    {
     "name": "stdout",
     "output_type": "stream",
     "text": [
      "[ 5.98280667 10.08228729 -6.88266593]\n",
      "[-17.78178514  33.41328651 -23.41435017]\n",
      "[7.13796   3.0017867 7.3969965]\n",
      "[0.0, 0.0]\n",
      "[0.0, 0.0]\n",
      "[0.0, 0.0]\n"
     ]
    },
    {
     "name": "stderr",
     "output_type": "stream",
     "text": [
      " 71%|███████   | 1633/2300 [7:04:27<3:16:00, 17.63s/it]"
     ]
    },
    {
     "name": "stdout",
     "output_type": "stream",
     "text": [
      "[-3.88278534  4.11572284 11.51548954]\n",
      "[-22.91432447 -19.61486292  32.88016439]\n",
      "[10.094735  11.969092   2.9058287]\n",
      "[0.0, 0.0]\n",
      "[0.0, 0.0]\n",
      "[0.0, 0.0]\n"
     ]
    },
    {
     "name": "stderr",
     "output_type": "stream",
     "text": [
      " 71%|███████   | 1634/2300 [7:04:44<3:15:50, 17.64s/it]"
     ]
    },
    {
     "name": "stdout",
     "output_type": "stream",
     "text": [
      "[12.91535054]\n",
      "[32.38021496]\n",
      "[2.7691598]\n",
      "[0.0, 0.0]\n"
     ]
    },
    {
     "name": "stderr",
     "output_type": "stream",
     "text": [
      " 71%|███████   | 1635/2300 [7:04:59<3:04:28, 16.64s/it]"
     ]
    },
    {
     "name": "stdout",
     "output_type": "stream",
     "text": [
      "[14.18188232]\n",
      "[31.91342357]\n",
      "[2.7004523]\n",
      "[0.0, 0.0]\n"
     ]
    },
    {
     "name": "stderr",
     "output_type": "stream",
     "text": [
      " 71%|███████   | 1636/2300 [7:05:13<2:56:12, 15.92s/it]"
     ]
    },
    {
     "name": "stdout",
     "output_type": "stream",
     "text": [
      "[15.41510039]\n",
      "[31.38031776]\n",
      "[2.7153451]\n",
      "[0.0, 0.0]\n"
     ]
    },
    {
     "name": "stderr",
     "output_type": "stream",
     "text": [
      " 71%|███████   | 1637/2300 [7:05:27<2:49:46, 15.36s/it]"
     ]
    },
    {
     "name": "stdout",
     "output_type": "stream",
     "text": [
      "[16.68162277]\n",
      "[30.91351167]\n",
      "[2.6671174]\n",
      "[0.0, 0.0]\n"
     ]
    },
    {
     "name": "stderr",
     "output_type": "stream",
     "text": [
      " 71%|███████   | 1638/2300 [7:05:41<2:45:13, 14.98s/it]"
     ]
    },
    {
     "name": "stdout",
     "output_type": "stream",
     "text": [
      "[17.91486457]\n",
      "[30.48042661]\n",
      "[2.5671039]\n",
      "[0.0, 0.0]\n"
     ]
    },
    {
     "name": "stderr",
     "output_type": "stream",
     "text": [
      " 71%|███████▏  | 1639/2300 [7:05:56<2:44:19, 14.92s/it]"
     ]
    },
    {
     "name": "stdout",
     "output_type": "stream",
     "text": [
      "[18.98137234]\n",
      "[30.01358818]\n",
      "[2.5076044]\n",
      "[0.0, 0.0]\n"
     ]
    },
    {
     "name": "stderr",
     "output_type": "stream",
     "text": [
      " 71%|███████▏  | 1640/2300 [7:06:10<2:41:50, 14.71s/it]"
     ]
    },
    {
     "name": "stdout",
     "output_type": "stream",
     "text": [
      "[20.08124541]\n",
      "[29.51362861]\n",
      "[2.4823542]\n",
      "[0.0, 0.0]\n"
     ]
    },
    {
     "name": "stderr",
     "output_type": "stream",
     "text": [
      " 71%|███████▏  | 1641/2300 [7:06:24<2:39:37, 14.53s/it]"
     ]
    },
    {
     "name": "stdout",
     "output_type": "stream",
     "text": [
      "[21.18111336]\n",
      "[29.11364795]\n",
      "[2.4488392]\n",
      "[0.0, 0.0]\n"
     ]
    },
    {
     "name": "stderr",
     "output_type": "stream",
     "text": [
      " 71%|███████▏  | 1642/2300 [7:06:38<2:38:46, 14.48s/it]"
     ]
    },
    {
     "name": "stdout",
     "output_type": "stream",
     "text": [
      "[22.18098269]\n",
      "[28.61368296]\n",
      "[2.3907464]\n",
      "[0.0, 0.0]\n"
     ]
    },
    {
     "name": "stderr",
     "output_type": "stream",
     "text": [
      " 71%|███████▏  | 1643/2300 [7:06:52<2:36:37, 14.30s/it]"
     ]
    },
    {
     "name": "stdout",
     "output_type": "stream",
     "text": [
      "[23.21439761]\n",
      "[28.18078153]\n",
      "[2.3113132]\n",
      "[0.0, 0.0]\n"
     ]
    },
    {
     "name": "stderr",
     "output_type": "stream",
     "text": [
      " 71%|███████▏  | 1644/2300 [7:07:07<2:36:18, 14.30s/it]"
     ]
    },
    {
     "name": "stdout",
     "output_type": "stream",
     "text": [
      "[24.21432109]\n",
      "[27.78090242]\n",
      "[2.261796]\n",
      "[0.0, 0.0]\n"
     ]
    },
    {
     "name": "stderr",
     "output_type": "stream",
     "text": [
      " 72%|███████▏  | 1645/2300 [7:07:21<2:35:27, 14.24s/it]"
     ]
    },
    {
     "name": "stdout",
     "output_type": "stream",
     "text": [
      "[25.18032675]\n",
      "[27.41352897]\n",
      "[2.2422402]\n",
      "[0.0, 0.0]\n"
     ]
    },
    {
     "name": "stderr",
     "output_type": "stream",
     "text": [
      " 72%|███████▏  | 1646/2300 [7:07:35<2:34:18, 14.16s/it]"
     ]
    },
    {
     "name": "stdout",
     "output_type": "stream",
     "text": [
      "[26.11458693]\n",
      "[26.98171447]\n",
      "[2.2226598]\n",
      "[0.0, 0.0]\n"
     ]
    },
    {
     "name": "stderr",
     "output_type": "stream",
     "text": [
      " 72%|███████▏  | 1647/2300 [7:07:49<2:34:06, 14.16s/it]"
     ]
    },
    {
     "name": "stdout",
     "output_type": "stream",
     "text": [
      "[27.08228336]\n",
      "[26.61563673]\n",
      "[2.2141387]\n",
      "[0.0, 0.0]\n"
     ]
    },
    {
     "name": "stderr",
     "output_type": "stream",
     "text": [
      " 72%|███████▏  | 1648/2300 [7:08:04<2:36:03, 14.36s/it]"
     ]
    },
    {
     "name": "stdout",
     "output_type": "stream",
     "text": [
      "[27.98116218]\n",
      "[26.21458609]\n",
      "[2.2338378]\n",
      "[0.0, 0.0]\n"
     ]
    },
    {
     "name": "stderr",
     "output_type": "stream",
     "text": [
      " 72%|███████▏  | 1649/2300 [7:08:18<2:35:05, 14.29s/it]"
     ]
    },
    {
     "name": "stdout",
     "output_type": "stream",
     "text": [
      "[28.91369805]\n",
      "[25.88040884]\n",
      "[2.248391]\n",
      "[0.0, 0.0]\n"
     ]
    },
    {
     "name": "stderr",
     "output_type": "stream",
     "text": [
      " 72%|███████▏  | 1650/2300 [7:08:32<2:34:55, 14.30s/it]"
     ]
    },
    {
     "name": "stdout",
     "output_type": "stream",
     "text": [
      "[-49.11188515 -51.87821594 -37.87960638]\n",
      "[16.51503005 -3.51628791 34.87994562]\n",
      "[4.27954  7.289568 4.125719]\n",
      "[0.0, 0.0]\n",
      "[0.0, 0.0]\n",
      "[0.0, 0.0]\n"
     ]
    },
    {
     "name": "stderr",
     "output_type": "stream",
     "text": [
      " 72%|███████▏  | 1651/2300 [7:08:48<2:40:10, 14.81s/it]"
     ]
    },
    {
     "name": "stdout",
     "output_type": "stream",
     "text": [
      "[-48.61193456 -51.07829399 -36.27976351]\n",
      "[15.71510859 -4.01623754 35.37989726]\n",
      "[4.494135 6.760822 3.961392]\n",
      "[0.0, 0.0]\n",
      "[0.0, 0.0]\n",
      "[0.0, 0.0]\n"
     ]
    },
    {
     "name": "stderr",
     "output_type": "stream",
     "text": [
      " 72%|███████▏  | 1652/2300 [7:09:04<2:44:56, 15.27s/it]"
     ]
    },
    {
     "name": "stdout",
     "output_type": "stream",
     "text": [
      "[-50.21177808 -34.61330677 -48.17858651]\n",
      "[-4.48290093 35.91311772 14.78192007]\n",
      "[6.433206  3.914087  4.8499427]\n",
      "[0.0, 0.0]\n",
      "[0.0, 0.0]\n",
      "[0.0, 0.0]\n"
     ]
    },
    {
     "name": "stderr",
     "output_type": "stream",
     "text": [
      " 72%|███████▏  | 1653/2300 [7:09:22<2:52:36, 16.01s/it]"
     ]
    },
    {
     "name": "stdout",
     "output_type": "stream",
     "text": [
      "[-47.71202272 -33.01346463 -49.37845833]\n",
      "[13.91528616 36.3130757  -5.01613584]\n",
      "[5.2152457 3.6538486 6.371879 ]\n",
      "[0.0, 0.0]\n",
      "[0.0, 0.0]\n",
      "[0.0, 0.0]\n"
     ]
    },
    {
     "name": "stderr",
     "output_type": "stream",
     "text": [
      " 72%|███████▏  | 1654/2300 [7:09:38<2:51:51, 15.96s/it]"
     ]
    },
    {
     "name": "stdout",
     "output_type": "stream",
     "text": [
      "[-31.41362206 -48.57853504 -47.17868397]\n",
      "[36.71303363 -5.61607519 13.08208571]\n",
      "[3.4543958 6.705883  5.5462446]\n",
      "[0.0, 0.0]\n",
      "[0.0, 0.0]\n",
      "[0.0, 0.0]\n"
     ]
    },
    {
     "name": "stderr",
     "output_type": "stream",
     "text": [
      " 72%|███████▏  | 1655/2300 [7:09:55<2:53:34, 16.15s/it]"
     ]
    },
    {
     "name": "stdout",
     "output_type": "stream",
     "text": [
      "[-47.6786215  -46.5787428  -29.88039798]\n",
      "[-6.31600456 12.18217237 36.97974362]\n",
      "[7.1393843 5.9574175 3.3460128]\n",
      "[0.0, 0.0]\n",
      "[0.0, 0.0]\n",
      "[0.0, 0.0]\n"
     ]
    },
    {
     "name": "stderr",
     "output_type": "stream",
     "text": [
      " 72%|███████▏  | 1656/2300 [7:10:13<3:00:11, 16.79s/it]"
     ]
    },
    {
     "name": "stdout",
     "output_type": "stream",
     "text": [
      "[-46.71212973 -46.11217465 -28.31392851]\n",
      "[-7.08264638 11.21555683 37.21298005]\n",
      "[6.9564705 6.594134  3.3343296]\n",
      "[0.0, 0.0]\n",
      "[0.0, 0.0]\n",
      "[0.0, 0.0]\n"
     ]
    },
    {
     "name": "stderr",
     "output_type": "stream",
     "text": [
      " 72%|███████▏  | 1657/2300 [7:10:29<2:58:39, 16.67s/it]"
     ]
    },
    {
     "name": "stdout",
     "output_type": "stream",
     "text": [
      "[-45.51223038 -26.71408724 -45.77880249]\n",
      "[10.31565089 37.41295711 -7.8158526 ]\n",
      "[6.889332  3.3839676 6.425263 ]\n",
      "[0.0, 0.0]\n",
      "[0.0, 0.0]\n",
      "[0.0, 0.0]\n"
     ]
    },
    {
     "name": "stderr",
     "output_type": "stream",
     "text": [
      " 72%|███████▏  | 1658/2300 [7:10:47<3:00:46, 16.90s/it]"
     ]
    },
    {
     "name": "stdout",
     "output_type": "stream",
     "text": [
      "[-44.81232073 -44.91228603 -25.08087315]\n",
      "[-8.48250809  9.41574735 37.57968966]\n",
      "[6.276583  7.0185127 3.2269416]\n",
      "[0.0, 0.0]\n",
      "[0.0, 0.0]\n",
      "[0.0, 0.0]\n"
     ]
    },
    {
     "name": "stderr",
     "output_type": "stream",
     "text": [
      " 72%|███████▏  | 1659/2300 [7:11:03<2:58:20, 16.69s/it]"
     ]
    },
    {
     "name": "stdout",
     "output_type": "stream",
     "text": [
      "[-43.81242092 -44.31234319 -23.58102222]\n",
      "[-9.1824386   8.51584395 37.67968105]\n",
      "[6.281924 6.932753 3.162279]\n",
      "[0.0, 0.0]\n",
      "[0.0, 0.0]\n",
      "[0.0, 0.0]\n"
     ]
    },
    {
     "name": "stderr",
     "output_type": "stream",
     "text": [
      " 72%|███████▏  | 1660/2300 [7:11:21<3:00:56, 16.96s/it]"
     ]
    },
    {
     "name": "stdout",
     "output_type": "stream",
     "text": [
      "[-42.87907779 -43.67900512 -21.98118136]\n",
      "[-9.91564064  7.68260441 37.77967229]\n",
      "[6.1702724 6.852547  3.076843 ]\n",
      "[0.0, 0.0]\n",
      "[0.0, 0.0]\n",
      "[0.0, 0.0]\n"
     ]
    },
    {
     "name": "stderr",
     "output_type": "stream",
     "text": [
      " 72%|███████▏  | 1661/2300 [7:11:37<2:57:46, 16.69s/it]"
     ]
    },
    {
     "name": "stdout",
     "output_type": "stream",
     "text": [
      "[-20.51470006 -41.87917084 -43.07905685]\n",
      "[ 37.81290491 -10.61556994   6.88268642]\n",
      "[2.994305  6.0251355 6.701403 ]\n",
      "[0.0, 0.0]\n",
      "[0.0, 0.0]\n",
      "[0.0, 0.0]\n"
     ]
    },
    {
     "name": "stderr",
     "output_type": "stream",
     "text": [
      " 72%|███████▏  | 1662/2300 [7:11:53<2:56:52, 16.63s/it]"
     ]
    },
    {
     "name": "stdout",
     "output_type": "stream",
     "text": [
      "[-40.87926239 -42.3791199  -18.88149023]\n",
      "[-11.215507     6.18276054  37.87966393]\n",
      "[5.750934  6.2032566 2.9903903]\n",
      "[0.0, 0.0]\n",
      "[0.0, 0.0]\n",
      "[0.0, 0.0]\n"
     ]
    },
    {
     "name": "stderr",
     "output_type": "stream",
     "text": [
      " 72%|███████▏  | 1663/2300 [7:12:11<3:01:51, 17.13s/it]"
     ]
    },
    {
     "name": "stdout",
     "output_type": "stream",
     "text": [
      "[-39.87935343 -41.67918447 -17.38163909]\n",
      "[-11.91543273   5.58282499  37.87966543]\n",
      "[5.6339145 5.7148485 2.9327958]\n",
      "[0.0, 0.0]\n",
      "[0.0, 0.0]\n",
      "[0.0, 0.0]\n"
     ]
    },
    {
     "name": "stderr",
     "output_type": "stream",
     "text": [
      " 72%|███████▏  | 1664/2300 [7:12:28<2:59:16, 16.91s/it]"
     ]
    },
    {
     "name": "stdout",
     "output_type": "stream",
     "text": [
      "[-41.01268816 -15.91515478 -38.77945547]\n",
      "[  5.01619339  37.81289491 -12.51536827]\n",
      "[5.239348  2.9270604 5.718248 ]\n",
      "[0.0, 0.0]\n",
      "[0.0, 0.0]\n",
      "[0.0, 0.0]\n"
     ]
    },
    {
     "name": "stderr",
     "output_type": "stream",
     "text": [
      " 72%|███████▏  | 1665/2300 [7:12:44<2:57:39, 16.79s/it]"
     ]
    },
    {
     "name": "stdout",
     "output_type": "stream",
     "text": [
      "[-37.71304372 -40.31276066 -14.38193815]\n",
      "[-13.18203631   4.61623114  37.77967703]\n",
      "[5.651844  4.768763  2.9189136]\n",
      "[0.0, 0.0]\n",
      "[0.0, 0.0]\n",
      "[0.0, 0.0]\n"
     ]
    },
    {
     "name": "stderr",
     "output_type": "stream",
     "text": [
      " 72%|███████▏  | 1666/2300 [7:13:01<2:56:23, 16.69s/it]"
     ]
    },
    {
     "name": "stdout",
     "output_type": "stream",
     "text": [
      "[-36.61315847 -12.91544977 -39.57938279]\n",
      "[-13.7819749   37.71289828   4.28296494]\n",
      "[5.475743  2.8001447 4.3907185]\n",
      "[0.0, 0.0]\n",
      "[0.0, 0.0]\n",
      "[0.0, 0.0]\n"
     ]
    },
    {
     "name": "stderr",
     "output_type": "stream",
     "text": [
      " 72%|███████▏  | 1667/2300 [7:13:18<2:59:20, 17.00s/it]"
     ]
    },
    {
     "name": "stdout",
     "output_type": "stream",
     "text": [
      "[-35.51327271 -11.51558743 -38.77945895]\n",
      "[-14.38191219  37.61290442   3.98299804]\n",
      "[5.305096  2.6959727 4.084132 ]\n",
      "[0.0, 0.0]\n",
      "[0.0, 0.0]\n",
      "[0.0, 0.0]\n"
     ]
    },
    {
     "name": "stderr",
     "output_type": "stream",
     "text": [
      " 73%|███████▎  | 1668/2300 [7:13:35<2:56:55, 16.80s/it]"
     ]
    },
    {
     "name": "stdout",
     "output_type": "stream",
     "text": [
      "[-34.41338564 -38.01299743 -10.11572485]\n",
      "[-14.98184773   3.71631543  37.51291079]\n",
      "[5.1741314 3.8310483 2.6455653]\n",
      "[0.0, 0.0]\n",
      "[0.0, 0.0]\n",
      "[0.0, 0.0]\n"
     ]
    },
    {
     "name": "stderr",
     "output_type": "stream",
     "text": [
      " 73%|███████▎  | 1669/2300 [7:13:51<2:55:36, 16.70s/it]"
     ]
    },
    {
     "name": "stdout",
     "output_type": "stream",
     "text": [
      "[-37.21307978  -8.71586238 -33.27994561]\n",
      "[  3.51633361  37.41291759 -15.61503504]\n",
      "[3.5909734 2.6264973 5.3266234]\n",
      "[0.0, 0.0]\n",
      "[0.0, 0.0]\n",
      "[0.0, 0.0]\n"
     ]
    },
    {
     "name": "stderr",
     "output_type": "stream",
     "text": [
      " 73%|███████▎  | 1670/2300 [7:14:09<2:58:02, 16.96s/it]"
     ]
    },
    {
     "name": "stdout",
     "output_type": "stream",
     "text": [
      "[-31.98005672 -36.37968644  -7.38263977]\n",
      "[-16.21496692   3.28307893  37.27972686]\n",
      "[5.7265134 3.3653767 2.6065795]\n",
      "[0.0, 0.0]\n",
      "[0.0, 0.0]\n",
      "[0.0, 0.0]\n"
     ]
    },
    {
     "name": "stderr",
     "output_type": "stream",
     "text": [
      " 73%|███████▎  | 1671/2300 [7:14:26<2:57:26, 16.93s/it]"
     ]
    },
    {
     "name": "stdout",
     "output_type": "stream",
     "text": [
      "[-30.71378264 -35.51325571  -6.01612592]\n",
      "[-16.88163726   3.11636998  37.21293304]\n",
      "[5.75059   3.1254134 2.4943345]\n",
      "[0.0, 0.0]\n",
      "[0.0, 0.0]\n",
      "[0.0, 0.0]\n"
     ]
    },
    {
     "name": "stderr",
     "output_type": "stream",
     "text": [
      " 73%|███████▎  | 1672/2300 [7:14:42<2:55:18, 16.75s/it]"
     ]
    },
    {
     "name": "stdout",
     "output_type": "stream",
     "text": [
      "[ -4.71625301 -29.2802505  -34.57985604]\n",
      "[ 37.01295152 -17.51479426   2.98311811]\n",
      "[2.4443717 5.9246564 2.9515703]\n",
      "[0.0, 0.0]\n",
      "[0.0, 0.0]\n",
      "[0.0, 0.0]\n"
     ]
    },
    {
     "name": "stderr",
     "output_type": "stream",
     "text": [
      " 73%|███████▎  | 1673/2300 [7:15:00<2:57:34, 16.99s/it]"
     ]
    },
    {
     "name": "stdout",
     "output_type": "stream",
     "text": [
      "[-27.81412852 -33.61345165  -3.38303829]\n",
      "[-18.18145453   2.8163968   36.87976409]\n",
      "[6.1048484 2.8324056 2.5000613]\n",
      "[0.0, 0.0]\n",
      "[0.0, 0.0]\n",
      "[0.0, 0.0]\n"
     ]
    },
    {
     "name": "stderr",
     "output_type": "stream",
     "text": [
      " 73%|███████▎  | 1674/2300 [7:15:16<2:54:43, 16.75s/it]"
     ]
    },
    {
     "name": "stdout",
     "output_type": "stream",
     "text": [
      "[-26.21433457 -32.61355462  -2.08316695]\n",
      "[-18.88130344   2.6164167   36.67978404]\n",
      "[6.5210648 2.6943216 2.5832334]\n",
      "[0.0, 0.0]\n",
      "[0.0, 0.0]\n",
      "[0.0, 0.0]\n"
     ]
    },
    {
     "name": "stderr",
     "output_type": "stream",
     "text": [
      " 73%|███████▎  | 1675/2300 [7:15:32<2:53:40, 16.67s/it]"
     ]
    },
    {
     "name": "stdout",
     "output_type": "stream",
     "text": [
      "[-31.6136588  -24.48018666   2.8159768    0.3159303   -0.68330487]\n",
      "[  2.41643905 -19.71440602  -7.51606432  -5.61636665  36.47980427]\n",
      "[2.6487083 7.3938627 8.410583  6.4778595 2.7637854]\n",
      "[0.0, 0.0]\n",
      "[0.0, 0.0]\n",
      "[0.0, 0.0]\n",
      "[0.0, 0.0]\n",
      "[0.0, 0.0]\n"
     ]
    },
    {
     "name": "stderr",
     "output_type": "stream",
     "text": [
      " 73%|███████▎  | 1676/2300 [7:15:51<3:00:40, 17.37s/it]"
     ]
    },
    {
     "name": "stdout",
     "output_type": "stream",
     "text": [
      "[ -1.71603776   0.78320676 -22.17847496   4.31593979 -30.48022619]\n",
      "[ -4.78361541  36.21302468 -20.71392944  -9.41584123   2.18322152]\n",
      "[ 3.2465684  2.9574585 10.493668   4.956373   2.617653 ]\n",
      "[0.0, 0.0]\n",
      "[0.0, 0.0]\n",
      "[0.0, 0.0]\n",
      "[0.0, 0.0]\n",
      "[0.0, 0.0]\n"
     ]
    },
    {
     "name": "stderr",
     "output_type": "stream",
     "text": [
      " 73%|███████▎  | 1677/2300 [7:16:10<3:03:25, 17.66s/it]"
     ]
    },
    {
     "name": "stdout",
     "output_type": "stream",
     "text": [
      "[  5.18290214 -11.91544508 -16.51500252 -29.21391716   2.28306028\n",
      " -18.0825256   -3.68898141]\n",
      "[-10.88243778  -2.18288556  -0.78315713   2.01649038  35.9130531\n",
      " -22.21476273  -4.21843706]\n",
      "[4.880678  9.324513  5.3682537 2.5232782 2.9788046 9.758626  4.081501 ]\n",
      "[0.0, 0.0]\n",
      "[0.0, 0.0]\n",
      "[0.0, 0.0]\n",
      "[0.0, 0.0]\n",
      "[0.0, 0.0]\n",
      "[0.0, 0.0]\n",
      "[0.0, 0.0]\n"
     ]
    },
    {
     "name": "stderr",
     "output_type": "stream",
     "text": [
      " 73%|███████▎  | 1678/2300 [7:16:32<3:18:24, 19.14s/it]"
     ]
    },
    {
     "name": "stdout",
     "output_type": "stream",
     "text": [
      "[-19.11482676 -27.91406428   3.78291404 -15.78224176   5.71587959]\n",
      "[ 1.67257019e-02  1.71652425e+00  3.56130825e+01 -2.25145937e+01\n",
      " -1.23155279e+01]\n",
      "[2.3583045 2.600482  2.8365836 6.5217314 4.6310744]\n",
      "[0.0, 0.0]\n",
      "[0.0, 0.0]\n",
      "[0.0, 0.0]\n",
      "[0.0, 0.0]\n",
      "[0.0, 0.0]\n"
     ]
    },
    {
     "name": "stderr",
     "output_type": "stream",
     "text": [
      " 73%|███████▎  | 1679/2300 [7:16:52<3:21:40, 19.48s/it]"
     ]
    },
    {
     "name": "stdout",
     "output_type": "stream",
     "text": [
      "[  5.98281088 -21.0147581    5.18277542 -13.68226944 -26.18056548]\n",
      "[-13.58215093   0.51665007  35.31311186 -22.71451775   1.38336746]\n",
      "[4.6394796 2.5992982 2.7768285 6.155321  3.5377767]\n",
      "[0.0, 0.0]\n",
      "[0.0, 0.0]\n",
      "[0.0, 0.0]\n",
      "[0.0, 0.0]\n",
      "[0.0, 0.0]\n"
     ]
    },
    {
     "name": "stderr",
     "output_type": "stream",
     "text": [
      " 73%|███████▎  | 1680/2300 [7:17:11<3:17:24, 19.10s/it]"
     ]
    },
    {
     "name": "stdout",
     "output_type": "stream",
     "text": [
      "[-11.61548158   5.88282325   6.68262628]\n",
      "[-22.78122767 -14.88203223  35.01313857]\n",
      "[6.067285 4.959049 2.869207]\n",
      "[0.0, 0.0]\n",
      "[0.0, 0.0]\n",
      "[0.0, 0.0]\n"
     ]
    },
    {
     "name": "stderr",
     "output_type": "stream",
     "text": [
      " 73%|███████▎  | 1681/2300 [7:17:28<3:12:14, 18.63s/it]"
     ]
    },
    {
     "name": "stdout",
     "output_type": "stream",
     "text": [
      "[ 5.38288431 -9.28251979  8.11582798]\n",
      "[-16.18193516 -22.71445462  34.67998414]\n",
      "[5.9558773 6.993662  2.8720036]\n",
      "[0.0, 0.0]\n",
      "[0.0, 0.0]\n",
      "[0.0, 0.0]\n"
     ]
    },
    {
     "name": "stderr",
     "output_type": "stream",
     "text": [
      " 73%|███████▎  | 1682/2300 [7:17:45<3:04:58, 17.96s/it]"
     ]
    },
    {
     "name": "stdout",
     "output_type": "stream",
     "text": [
      "[-6.51605824  9.58233814  4.31583626]\n",
      "[-22.38115673  34.21321405 -17.71504427]\n",
      "[8.197082  2.8818514 8.648407 ]\n",
      "[0.0, 0.0]\n",
      "[0.0, 0.0]\n",
      "[0.0, 0.0]\n"
     ]
    },
    {
     "name": "stderr",
     "output_type": "stream",
     "text": [
      " 73%|███████▎  | 1683/2300 [7:18:01<3:00:04, 17.51s/it]"
     ]
    },
    {
     "name": "stdout",
     "output_type": "stream",
     "text": [
      "[-2.71656479  1.91555665 11.0155441 ]\n",
      "[-21.58104717 -19.71490493  33.78007554]\n",
      "[17.65459  16.154373  2.789687]\n",
      "[0.0, 0.0]\n",
      "[0.0, 0.0]\n",
      "[0.0, 0.0]\n"
     ]
    },
    {
     "name": "stderr",
     "output_type": "stream",
     "text": [
      " 73%|███████▎  | 1684/2300 [7:18:17<2:55:25, 17.09s/it]"
     ]
    },
    {
     "name": "stdout",
     "output_type": "stream",
     "text": [
      "[12.41540559]\n",
      "[33.28012441]\n",
      "[2.717923]\n",
      "[0.0, 0.0]\n"
     ]
    },
    {
     "name": "stderr",
     "output_type": "stream",
     "text": [
      " 73%|███████▎  | 1685/2300 [7:18:32<2:48:47, 16.47s/it]"
     ]
    },
    {
     "name": "stdout",
     "output_type": "stream",
     "text": [
      "[13.68193402]\n",
      "[32.81334637]\n",
      "[2.6180375]\n",
      "[0.0, 0.0]\n"
     ]
    },
    {
     "name": "stderr",
     "output_type": "stream",
     "text": [
      " 73%|███████▎  | 1686/2300 [7:18:47<2:42:00, 15.83s/it]"
     ]
    },
    {
     "name": "stdout",
     "output_type": "stream",
     "text": [
      "[14.9818061]\n",
      "[32.41337856]\n",
      "[2.617038]\n",
      "[0.0, 0.0]\n"
     ]
    },
    {
     "name": "stderr",
     "output_type": "stream",
     "text": [
      " 73%|███████▎  | 1687/2300 [7:19:00<2:35:08, 15.18s/it]"
     ]
    },
    {
     "name": "stdout",
     "output_type": "stream",
     "text": [
      "[16.21502812]\n",
      "[31.88027033]\n",
      "[2.6450295]\n",
      "[0.0, 0.0]\n"
     ]
    },
    {
     "name": "stderr",
     "output_type": "stream",
     "text": [
      " 73%|███████▎  | 1688/2300 [7:19:14<2:32:00, 14.90s/it]"
     ]
    },
    {
     "name": "stdout",
     "output_type": "stream",
     "text": [
      "[17.3815529]\n",
      "[31.4134709]\n",
      "[2.5859857]\n",
      "[0.0, 0.0]\n"
     ]
    },
    {
     "name": "stderr",
     "output_type": "stream",
     "text": [
      " 73%|███████▎  | 1689/2300 [7:19:29<2:29:13, 14.65s/it]"
     ]
    },
    {
     "name": "stdout",
     "output_type": "stream",
     "text": [
      "[18.51481708]\n",
      "[30.98037828]\n",
      "[2.4969463]\n",
      "[0.0, 0.0]\n"
     ]
    },
    {
     "name": "stderr",
     "output_type": "stream",
     "text": [
      " 73%|███████▎  | 1690/2300 [7:19:43<2:27:02, 14.46s/it]"
     ]
    },
    {
     "name": "stdout",
     "output_type": "stream",
     "text": [
      "[19.68130175]\n",
      "[30.51354675]\n",
      "[2.4262414]\n",
      "[0.0, 0.0]\n"
     ]
    },
    {
     "name": "stderr",
     "output_type": "stream",
     "text": [
      " 74%|███████▎  | 1691/2300 [7:19:57<2:26:06, 14.39s/it]"
     ]
    },
    {
     "name": "stdout",
     "output_type": "stream",
     "text": [
      "[20.71461655]\n",
      "[30.08049738]\n",
      "[2.4026792]\n",
      "[0.0, 0.0]\n"
     ]
    },
    {
     "name": "stderr",
     "output_type": "stream",
     "text": [
      " 74%|███████▎  | 1692/2300 [7:20:11<2:24:20, 14.24s/it]"
     ]
    },
    {
     "name": "stdout",
     "output_type": "stream",
     "text": [
      "[21.78105419]\n",
      "[29.61361207]\n",
      "[2.3969662]\n",
      "[0.0, 0.0]\n"
     ]
    },
    {
     "name": "stderr",
     "output_type": "stream",
     "text": [
      " 74%|███████▎  | 1693/2300 [7:20:25<2:24:05, 14.24s/it]"
     ]
    },
    {
     "name": "stdout",
     "output_type": "stream",
     "text": [
      "[22.81442745]\n",
      "[29.18063716]\n",
      "[2.3475645]\n",
      "[0.0, 0.0]\n"
     ]
    },
    {
     "name": "stderr",
     "output_type": "stream",
     "text": [
      " 74%|███████▎  | 1694/2300 [7:20:40<2:26:01, 14.46s/it]"
     ]
    },
    {
     "name": "stdout",
     "output_type": "stream",
     "text": [
      "[23.81434209]\n",
      "[28.78072261]\n",
      "[2.2798665]\n",
      "[0.0, 0.0]\n"
     ]
    },
    {
     "name": "stderr",
     "output_type": "stream",
     "text": [
      " 74%|███████▎  | 1695/2300 [7:20:54<2:24:40, 14.35s/it]"
     ]
    },
    {
     "name": "stdout",
     "output_type": "stream",
     "text": [
      "[24.8142583]\n",
      "[28.38084311]\n",
      "[2.2363927]\n",
      "[0.0, 0.0]\n"
     ]
    },
    {
     "name": "stderr",
     "output_type": "stream",
     "text": [
      " 74%|███████▎  | 1696/2300 [7:21:08<2:23:52, 14.29s/it]"
     ]
    },
    {
     "name": "stdout",
     "output_type": "stream",
     "text": [
      "[25.78027524]\n",
      "[28.01344834]\n",
      "[2.198409]\n",
      "[0.0, 0.0]\n"
     ]
    },
    {
     "name": "stderr",
     "output_type": "stream",
     "text": [
      " 74%|███████▍  | 1697/2300 [7:21:22<2:22:56, 14.22s/it]"
     ]
    },
    {
     "name": "stdout",
     "output_type": "stream",
     "text": [
      "[26.67930792]\n",
      "[27.61298525]\n",
      "[2.1790257]\n",
      "[0.0, 0.0]\n"
     ]
    },
    {
     "name": "stderr",
     "output_type": "stream",
     "text": [
      " 74%|███████▍  | 1698/2300 [7:21:36<2:22:13, 14.17s/it]"
     ]
    },
    {
     "name": "stdout",
     "output_type": "stream",
     "text": [
      "[27.58241559]\n",
      "[27.21713298]\n",
      "[2.181383]\n",
      "[0.0, 0.0]\n"
     ]
    },
    {
     "name": "stderr",
     "output_type": "stream",
     "text": [
      " 74%|███████▍  | 1699/2300 [7:21:51<2:22:32, 14.23s/it]"
     ]
    },
    {
     "name": "stdout",
     "output_type": "stream",
     "text": [
      "[28.5136579]\n",
      "[26.87995178]\n",
      "[2.1982434]\n",
      "[0.0, 0.0]\n"
     ]
    },
    {
     "name": "stderr",
     "output_type": "stream",
     "text": [
      " 74%|███████▍  | 1700/2300 [7:22:05<2:21:42, 14.17s/it]"
     ]
    },
    {
     "name": "stdout",
     "output_type": "stream",
     "text": [
      "[-52.31156392 -37.31304046 -49.97840904]\n",
      "[1.66624550e-02 3.59131204e+01 1.44819489e+01]\n",
      "[7.93516   3.7319021 6.039955 ]\n",
      "[0.0, 0.0]\n",
      "[0.0, 0.0]\n",
      "[0.0, 0.0]\n"
     ]
    },
    {
     "name": "stderr",
     "output_type": "stream",
     "text": [
      " 74%|███████▍  | 1701/2300 [7:22:21<2:27:56, 14.82s/it]"
     ]
    },
    {
     "name": "stdout",
     "output_type": "stream",
     "text": [
      "[-51.51164288 -49.5784477  -35.77981385]\n",
      "[-0.18331953 13.48204707 36.37979938]\n",
      "[8.78864   6.7833114 3.7398973]\n",
      "[0.0, 0.0]\n",
      "[0.0, 0.0]\n",
      "[0.0, 0.0]\n"
     ]
    },
    {
     "name": "stderr",
     "output_type": "stream",
     "text": [
      " 74%|███████▍  | 1702/2300 [7:22:39<2:38:42, 15.92s/it]"
     ]
    },
    {
     "name": "stdout",
     "output_type": "stream",
     "text": [
      "[-34.21334618 -50.77832752 -49.07849626]\n",
      "[36.81302772 -0.51658576 12.3821542 ]\n",
      "[3.6305723 9.848433  7.928844 ]\n",
      "[0.0, 0.0]\n",
      "[0.0, 0.0]\n",
      "[0.0, 0.0]\n"
     ]
    },
    {
     "name": "stderr",
     "output_type": "stream",
     "text": [
      " 74%|███████▍  | 1703/2300 [7:22:56<2:39:11, 16.00s/it]"
     ]
    },
    {
     "name": "stdout",
     "output_type": "stream",
     "text": [
      "[-50.01179325 -48.67853491 -32.68012139]\n",
      "[-0.98324444 11.18227055 37.17972257]\n",
      "[11.360008   9.042052   3.3513043]\n",
      "[0.0, 0.0]\n",
      "[0.0, 0.0]\n",
      "[0.0, 0.0]\n"
     ]
    },
    {
     "name": "stderr",
     "output_type": "stream",
     "text": [
      " 74%|███████▍  | 1704/2300 [7:23:12<2:40:00, 16.11s/it]"
     ]
    },
    {
     "name": "stdout",
     "output_type": "stream",
     "text": [
      "[-49.17848299 -48.17858359 -31.18027024]\n",
      "[-1.61647315 10.08237544 37.47969374]\n",
      "[12.115176  9.389651  3.269707]\n",
      "[0.0, 0.0]\n",
      "[0.0, 0.0]\n",
      "[0.0, 0.0]\n"
     ]
    },
    {
     "name": "stderr",
     "output_type": "stream",
     "text": [
      " 74%|███████▍  | 1705/2300 [7:23:30<2:44:07, 16.55s/it]"
     ]
    },
    {
     "name": "stdout",
     "output_type": "stream",
     "text": [
      "[-48.31196517 -47.61201904 -29.68041832]\n",
      "[-2.18312925  8.91579285 37.67967485]\n",
      "[12.708492  11.1571665  3.222933 ]\n",
      "[0.0, 0.0]\n",
      "[0.0, 0.0]\n",
      "[0.0, 0.0]\n"
     ]
    },
    {
     "name": "stderr",
     "output_type": "stream",
     "text": [
      " 74%|███████▍  | 1706/2300 [7:23:46<2:42:38, 16.43s/it]"
     ]
    },
    {
     "name": "stdout",
     "output_type": "stream",
     "text": [
      "[-47.47864611 -47.07868954 -28.08057669]\n",
      "[-2.91634048  7.68259347 37.97964647]\n",
      "[12.819583  13.756678   3.2317436]\n",
      "[0.0, 0.0]\n",
      "[0.0, 0.0]\n",
      "[0.0, 0.0]\n"
     ]
    },
    {
     "name": "stderr",
     "output_type": "stream",
     "text": [
      " 74%|███████▍  | 1707/2300 [7:24:02<2:42:27, 16.44s/it]"
     ]
    },
    {
     "name": "stdout",
     "output_type": "stream",
     "text": [
      "[-46.61213685 -46.51211368 -26.58072525]\n",
      "[-3.68298247  6.41606371 38.07963795]\n",
      "[13.410288  16.268053   3.2642407]\n",
      "[0.0, 0.0]\n",
      "[0.0, 0.0]\n",
      "[0.0, 0.0]\n"
     ]
    },
    {
     "name": "stderr",
     "output_type": "stream",
     "text": [
      " 74%|███████▍  | 1708/2300 [7:24:20<2:45:14, 16.75s/it]"
     ]
    },
    {
     "name": "stdout",
     "output_type": "stream",
     "text": [
      "[-45.91218236 -45.57882626 -24.98088379]\n",
      "[ 5.21617575 -4.81614845 38.2796199 ]\n",
      "[18.488922  14.219513   3.1118586]\n",
      "[0.0, 0.0]\n",
      "[0.0, 0.0]\n",
      "[0.0, 0.0]\n"
     ]
    },
    {
     "name": "stderr",
     "output_type": "stream",
     "text": [
      " 74%|███████▍  | 1709/2300 [7:24:36<2:43:46, 16.63s/it]"
     ]
    },
    {
     "name": "stdout",
     "output_type": "stream",
     "text": [
      "[-44.61233925 -45.17886071 -23.48103271]\n",
      "[-5.78277493  4.28294278 38.37961141]\n",
      "[10.634077  16.471924   3.0563488]\n",
      "[0.0, 0.0]\n",
      "[0.0, 0.0]\n",
      "[0.0, 0.0]\n"
     ]
    },
    {
     "name": "stderr",
     "output_type": "stream",
     "text": [
      " 74%|███████▍  | 1710/2300 [7:24:54<2:48:42, 17.16s/it]"
     ]
    },
    {
     "name": "stdout",
     "output_type": "stream",
     "text": [
      "[-43.57901436 -44.47892769 -21.88119157]\n",
      "[-6.6159661   3.58301892 38.47960261]\n",
      "[ 9.808343  13.07561    2.9556727]\n",
      "[0.0, 0.0]\n",
      "[0.0, 0.0]\n",
      "[0.0, 0.0]\n"
     ]
    },
    {
     "name": "stderr",
     "output_type": "stream",
     "text": [
      " 74%|███████▍  | 1711/2300 [7:25:11<2:45:36, 16.87s/it]"
     ]
    },
    {
     "name": "stdout",
     "output_type": "stream",
     "text": [
      "[-42.61254065 -43.71242077 -20.4147088 ]\n",
      "[-7.48260551  3.21635546 38.51283718]\n",
      "[ 9.10844  10.160962  2.873251]\n",
      "[0.0, 0.0]\n",
      "[0.0, 0.0]\n",
      "[0.0, 0.0]\n"
     ]
    },
    {
     "name": "stderr",
     "output_type": "stream",
     "text": [
      " 74%|███████▍  | 1712/2300 [7:25:27<2:44:12, 16.76s/it]"
     ]
    },
    {
     "name": "stdout",
     "output_type": "stream",
     "text": [
      "[-42.91250313 -41.57920253 -18.88149028]\n",
      "[ 2.91638499 -8.31579475 38.57959386]\n",
      "[8.335981 8.69718  2.8639  ]\n",
      "[0.0, 0.0]\n",
      "[0.0, 0.0]\n",
      "[0.0, 0.0]\n"
     ]
    },
    {
     "name": "stderr",
     "output_type": "stream",
     "text": [
      " 74%|███████▍  | 1713/2300 [7:25:45<2:46:32, 17.02s/it]"
     ]
    },
    {
     "name": "stdout",
     "output_type": "stream",
     "text": [
      "[-42.11258441 -17.41500492 -40.57929478]\n",
      "[ 2.71640534 38.51283127 -9.21570319]\n",
      "[7.123957  2.8423398 7.868859 ]\n",
      "[0.0, 0.0]\n",
      "[0.0, 0.0]\n",
      "[0.0, 0.0]\n"
     ]
    },
    {
     "name": "stderr",
     "output_type": "stream",
     "text": [
      " 75%|███████▍  | 1714/2300 [7:26:01<2:42:58, 16.69s/it]"
     ]
    },
    {
     "name": "stdout",
     "output_type": "stream",
     "text": [
      "[-15.91515331 -39.47939626 -41.37921716]\n",
      "[38.51282775 -9.91563017  2.48314125]\n",
      "[2.88369  7.399049 6.32927 ]\n",
      "[0.0, 0.0]\n",
      "[0.0, 0.0]\n",
      "[0.0, 0.0]\n"
     ]
    },
    {
     "name": "stderr",
     "output_type": "stream",
     "text": [
      " 75%|███████▍  | 1715/2300 [7:26:17<2:41:54, 16.61s/it]"
     ]
    },
    {
     "name": "stdout",
     "output_type": "stream",
     "text": [
      "[-38.41296765 -40.61273687 -14.41530132]\n",
      "[-10.68228337   2.31644563  38.51282457]\n",
      "[7.1020427 5.6275454 2.8593183]\n",
      "[0.0, 0.0]\n",
      "[0.0, 0.0]\n",
      "[0.0, 0.0]\n"
     ]
    },
    {
     "name": "stderr",
     "output_type": "stream",
     "text": [
      " 75%|███████▍  | 1716/2300 [7:26:35<2:44:15, 16.88s/it]"
     ]
    },
    {
     "name": "stdout",
     "output_type": "stream",
     "text": [
      "[-37.31308148 -39.81281824 -12.98207787]\n",
      "[-11.48220312   2.21645641  38.37961719]\n",
      "[6.679119  5.067331  2.7426295]\n",
      "[0.0, 0.0]\n",
      "[0.0, 0.0]\n",
      "[0.0, 0.0]\n"
     ]
    },
    {
     "name": "stderr",
     "output_type": "stream",
     "text": [
      " 75%|███████▍  | 1717/2300 [7:26:51<2:43:28, 16.82s/it]"
     ]
    },
    {
     "name": "stdout",
     "output_type": "stream",
     "text": [
      "[-39.0128997  -11.61557611 -36.17969586]\n",
      "[  2.11646692  38.3128383  -12.21538639]\n",
      "[4.6573625 2.6537488 6.28835  ]\n",
      "[0.0, 0.0]\n",
      "[0.0, 0.0]\n",
      "[0.0, 0.0]\n"
     ]
    },
    {
     "name": "stderr",
     "output_type": "stream",
     "text": [
      " 75%|███████▍  | 1718/2300 [7:27:08<2:42:32, 16.76s/it]"
     ]
    },
    {
     "name": "stdout",
     "output_type": "stream",
     "text": [
      "[-35.01332202 -10.21571339 -38.17951658]\n",
      "[-12.98204997  38.21284511   1.98320189]\n",
      "[5.958678  2.6003041 4.3571606]\n",
      "[0.0, 0.0]\n",
      "[0.0, 0.0]\n",
      "[0.0, 0.0]\n"
     ]
    },
    {
     "name": "stderr",
     "output_type": "stream",
     "text": [
      " 75%|███████▍  | 1719/2300 [7:27:25<2:44:22, 16.97s/it]"
     ]
    },
    {
     "name": "stdout",
     "output_type": "stream",
     "text": [
      "[ -8.81585091 -33.87989969 -37.37959145]\n",
      "[ 38.112852   -13.61523579   1.88321494]\n",
      "[2.5715623 5.8080277 4.093426 ]\n",
      "[0.0, 0.0]\n",
      "[0.0, 0.0]\n",
      "[0.0, 0.0]\n"
     ]
    },
    {
     "name": "stderr",
     "output_type": "stream",
     "text": [
      " 75%|███████▍  | 1720/2300 [7:27:42<2:42:21, 16.80s/it]"
     ]
    },
    {
     "name": "stdout",
     "output_type": "stream",
     "text": [
      "[-32.68000431 -36.47967594  -7.4826283 ]\n",
      "[-14.31516163   1.88321865  37.97965701]\n",
      "[5.7376237 3.729812  2.5691485]\n",
      "[0.0, 0.0]\n",
      "[0.0, 0.0]\n",
      "[0.0, 0.0]\n"
     ]
    },
    {
     "name": "stderr",
     "output_type": "stream",
     "text": [
      " 75%|███████▍  | 1721/2300 [7:27:59<2:43:57, 16.99s/it]"
     ]
    },
    {
     "name": "stdout",
     "output_type": "stream",
     "text": [
      "[-31.41369477 -35.6132478   -6.18275847]\n",
      "[-14.98183278   1.81649673  37.87966624]\n",
      "[5.955684 3.460738 2.470896]\n",
      "[0.0, 0.0]\n",
      "[0.0, 0.0]\n",
      "[0.0, 0.0]\n"
     ]
    },
    {
     "name": "stderr",
     "output_type": "stream",
     "text": [
      " 75%|███████▍  | 1722/2300 [7:28:15<2:41:34, 16.77s/it]"
     ]
    },
    {
     "name": "stdout",
     "output_type": "stream",
     "text": [
      "[-30.01385068 -34.67984552  -4.88288794]\n",
      "[-15.68175533   1.7832369   37.67968534]\n",
      "[6.19546  3.281602 2.394086]\n",
      "[0.0, 0.0]\n",
      "[0.0, 0.0]\n",
      "[0.0, 0.0]\n"
     ]
    },
    {
     "name": "stderr",
     "output_type": "stream",
     "text": [
      " 75%|███████▍  | 1723/2300 [7:28:32<2:40:35, 16.70s/it]"
     ]
    },
    {
     "name": "stdout",
     "output_type": "stream",
     "text": [
      "[-28.58031545 -33.77993135  -3.5830168 ]\n",
      "[-16.41489981   1.68325034  37.57969497]\n",
      "[6.3740396 3.1740804 2.430782 ]\n",
      "[0.0, 0.0]\n",
      "[0.0, 0.0]\n",
      "[0.0, 0.0]\n"
     ]
    },
    {
     "name": "stderr",
     "output_type": "stream",
     "text": [
      " 75%|███████▍  | 1724/2300 [7:28:50<2:43:09, 16.99s/it]"
     ]
    },
    {
     "name": "stdout",
     "output_type": "stream",
     "text": [
      "[-32.81353289 -26.98039064  -2.28314579]\n",
      "[  1.61651496 -17.21478248  37.37971425]\n",
      "[3.00469   6.616347  2.4970057]\n",
      "[0.0, 0.0]\n",
      "[0.0, 0.0]\n",
      "[0.0, 0.0]\n"
     ]
    },
    {
     "name": "stderr",
     "output_type": "stream",
     "text": [
      " 75%|███████▌  | 1725/2300 [7:29:06<2:41:49, 16.89s/it]"
     ]
    },
    {
     "name": "stdout",
     "output_type": "stream",
     "text": [
      "[-31.71364529 -25.28039645  -0.98327339]\n",
      "[  1.51652932 -18.01464627  37.1797345 ]\n",
      "[2.901479  7.167084  2.6552453]\n",
      "[0.0, 0.0]\n",
      "[0.0, 0.0]\n",
      "[0.0, 0.0]\n"
     ]
    },
    {
     "name": "stderr",
     "output_type": "stream",
     "text": [
      " 75%|███████▌  | 1726/2300 [7:29:23<2:40:09, 16.74s/it]"
     ]
    },
    {
     "name": "stdout",
     "output_type": "stream",
     "text": [
      "[ -1.0162405  -30.61376203   0.48323728 -23.28014108   2.51598264]\n",
      "[ -5.78333549   1.41654573  36.91295963 -18.81443961  -8.51597973]\n",
      "[5.3502216 2.8436112 2.9045868 8.887875  7.3583684]\n",
      "[0.0, 0.0]\n",
      "[0.0, 0.0]\n",
      "[0.0, 0.0]\n",
      "[0.0, 0.0]\n",
      "[0.0, 0.0]\n"
     ]
    },
    {
     "name": "stderr",
     "output_type": "stream",
     "text": [
      " 75%|███████▌  | 1727/2300 [7:29:43<2:50:23, 17.84s/it]"
     ]
    },
    {
     "name": "stdout",
     "output_type": "stream",
     "text": [
      "[-19.91130241   3.68308904 -29.51388335   1.98309031  -3.08498051]\n",
      "[-20.19161945 -10.28255356   1.21657149  36.61298807  -5.01689323]\n",
      "[34.609383   5.574283   2.802782   2.9593875  4.4198456]\n",
      "[0.0, 0.0]\n",
      "[0.0, 0.0]\n",
      "[0.0, 0.0]\n",
      "[0.0, 0.0]\n",
      "[0.0, 0.0]\n"
     ]
    },
    {
     "name": "stderr",
     "output_type": "stream",
     "text": [
      " 75%|███████▌  | 1728/2300 [7:30:02<2:54:07, 18.26s/it]"
     ]
    },
    {
     "name": "stdout",
     "output_type": "stream",
     "text": [
      "[-16.0149204  -18.51490578   4.31593448 -28.18041043   3.51628182]\n",
      "[-21.3817181   -0.58321485 -11.91560147   1.08335771  36.37981229]\n",
      "[7.651081  2.9799297 5.3971176 2.8301818 2.8133318]\n",
      "[0.0, 0.0]\n",
      "[0.0, 0.0]\n",
      "[0.0, 0.0]\n",
      "[0.0, 0.0]\n",
      "[0.0, 0.0]\n"
     ]
    },
    {
     "name": "stderr",
     "output_type": "stream",
     "text": [
      " 75%|███████▌  | 1729/2300 [7:30:22<2:56:32, 18.55s/it]"
     ]
    },
    {
     "name": "stdout",
     "output_type": "stream",
     "text": [
      "[  4.58298227 -26.5142286  -13.78234037 -20.58108879   4.91614516]\n",
      "[-1.32822256e+01  8.16618332e-01 -2.16146412e+01 -1.64708390e-02\n",
      "  3.60798420e+01]\n",
      "[5.1851435 3.6247818 6.8745213 2.8169365 2.7115083]\n",
      "[0.0, 0.0]\n",
      "[0.0, 0.0]\n",
      "[0.0, 0.0]\n",
      "[0.0, 0.0]\n",
      "[0.0, 0.0]\n"
     ]
    },
    {
     "name": "stderr",
     "output_type": "stream",
     "text": [
      " 75%|███████▌  | 1730/2300 [7:30:42<3:01:39, 19.12s/it]"
     ]
    },
    {
     "name": "stdout",
     "output_type": "stream",
     "text": [
      "[-11.58240458   4.51591068   6.31600798]\n",
      "[-21.71458788 -14.6153368   35.77987272]\n",
      "[6.838549  5.4544754 2.7266133]\n",
      "[0.0, 0.0]\n",
      "[0.0, 0.0]\n",
      "[0.0, 0.0]\n"
     ]
    },
    {
     "name": "stderr",
     "output_type": "stream",
     "text": [
      " 75%|███████▌  | 1731/2300 [7:30:59<2:56:40, 18.63s/it]"
     ]
    },
    {
     "name": "stdout",
     "output_type": "stream",
     "text": [
      "[ 3.98306595 -9.08254549  7.71587029]\n",
      "[-15.98202453 -21.71455373  35.37991345]\n",
      "[6.727444  8.086129  2.7591982]\n",
      "[0.0, 0.0]\n",
      "[0.0, 0.0]\n",
      "[0.0, 0.0]\n"
     ]
    },
    {
     "name": "stderr",
     "output_type": "stream",
     "text": [
      " 75%|███████▌  | 1732/2300 [7:31:16<2:51:25, 18.11s/it]"
     ]
    },
    {
     "name": "stdout",
     "output_type": "stream",
     "text": [
      "[ 2.583273    9.18237903 -6.08269015]\n",
      "[-17.68205831  35.01313996 -21.31453067]\n",
      "[10.245947   2.7547936 10.013517 ]\n",
      "[0.0, 0.0]\n",
      "[0.0, 0.0]\n",
      "[0.0, 0.0]\n"
     ]
    },
    {
     "name": "stderr",
     "output_type": "stream",
     "text": [
      " 75%|███████▌  | 1733/2300 [7:31:34<2:49:41, 17.96s/it]"
     ]
    },
    {
     "name": "stdout",
     "output_type": "stream",
     "text": [
      "[10.58223986]\n",
      "[34.61317775]\n",
      "[2.7089858]\n",
      "[0.0, 0.0]\n"
     ]
    },
    {
     "name": "stderr",
     "output_type": "stream",
     "text": [
      " 75%|███████▌  | 1734/2300 [7:31:49<2:41:52, 17.16s/it]"
     ]
    },
    {
     "name": "stdout",
     "output_type": "stream",
     "text": [
      "[11.98210222]\n",
      "[34.21321543]\n",
      "[2.621402]\n",
      "[0.0, 0.0]\n"
     ]
    },
    {
     "name": "stderr",
     "output_type": "stream",
     "text": [
      " 75%|███████▌  | 1735/2300 [7:32:03<2:32:35, 16.20s/it]"
     ]
    },
    {
     "name": "stdout",
     "output_type": "stream",
     "text": [
      "[13.28197433]\n",
      "[33.71326478]\n",
      "[2.5681598]\n",
      "[0.0, 0.0]\n"
     ]
    },
    {
     "name": "stderr",
     "output_type": "stream",
     "text": [
      " 75%|███████▌  | 1736/2300 [7:32:18<2:27:11, 15.66s/it]"
     ]
    },
    {
     "name": "stdout",
     "output_type": "stream",
     "text": [
      "[14.51520192]\n",
      "[33.28012308]\n",
      "[2.5127516]\n",
      "[0.0, 0.0]\n"
     ]
    },
    {
     "name": "stderr",
     "output_type": "stream",
     "text": [
      " 76%|███████▌  | 1737/2300 [7:32:31<2:21:44, 15.11s/it]"
     ]
    },
    {
     "name": "stdout",
     "output_type": "stream",
     "text": [
      "[15.71507625]\n",
      "[32.78017265]\n",
      "[2.5672]\n",
      "[0.0, 0.0]\n"
     ]
    },
    {
     "name": "stderr",
     "output_type": "stream",
     "text": [
      " 76%|███████▌  | 1738/2300 [7:32:46<2:19:08, 14.85s/it]"
     ]
    },
    {
     "name": "stdout",
     "output_type": "stream",
     "text": [
      "[16.91496999]\n",
      "[32.38022371]\n",
      "[2.5507066]\n",
      "[0.0, 0.0]\n"
     ]
    },
    {
     "name": "stderr",
     "output_type": "stream",
     "text": [
      " 76%|███████▌  | 1739/2300 [7:33:00<2:16:41, 14.62s/it]"
     ]
    },
    {
     "name": "stdout",
     "output_type": "stream",
     "text": [
      "[18.11486029]\n",
      "[31.88028087]\n",
      "[2.4875276]\n",
      "[0.0, 0.0]\n"
     ]
    },
    {
     "name": "stderr",
     "output_type": "stream",
     "text": [
      " 76%|███████▌  | 1740/2300 [7:33:15<2:16:57, 14.67s/it]"
     ]
    },
    {
     "name": "stdout",
     "output_type": "stream",
     "text": [
      "[19.21475705]\n",
      "[31.48033028]\n",
      "[2.3933487]\n",
      "[0.0, 0.0]\n"
     ]
    },
    {
     "name": "stderr",
     "output_type": "stream",
     "text": [
      " 76%|███████▌  | 1741/2300 [7:33:29<2:15:32, 14.55s/it]"
     ]
    },
    {
     "name": "stdout",
     "output_type": "stream",
     "text": [
      "[20.28124214]\n",
      "[31.01350834]\n",
      "[2.3371096]\n",
      "[0.0, 0.0]\n"
     ]
    },
    {
     "name": "stderr",
     "output_type": "stream",
     "text": [
      " 76%|███████▌  | 1742/2300 [7:33:43<2:13:57, 14.40s/it]"
     ]
    },
    {
     "name": "stdout",
     "output_type": "stream",
     "text": [
      "[21.31456959]\n",
      "[30.58044938]\n",
      "[2.3395977]\n",
      "[0.0, 0.0]\n"
     ]
    },
    {
     "name": "stderr",
     "output_type": "stream",
     "text": [
      " 76%|███████▌  | 1743/2300 [7:33:57<2:12:36, 14.29s/it]"
     ]
    },
    {
     "name": "stdout",
     "output_type": "stream",
     "text": [
      "[22.3809959]\n",
      "[30.2135593]\n",
      "[2.3415885]\n",
      "[0.0, 0.0]\n"
     ]
    },
    {
     "name": "stderr",
     "output_type": "stream",
     "text": [
      " 76%|███████▌  | 1744/2300 [7:34:12<2:13:19, 14.39s/it]"
     ]
    },
    {
     "name": "stdout",
     "output_type": "stream",
     "text": [
      "[23.41437282]\n",
      "[29.78057805]\n",
      "[2.31316]\n",
      "[0.0, 0.0]\n"
     ]
    },
    {
     "name": "stderr",
     "output_type": "stream",
     "text": [
      " 76%|███████▌  | 1745/2300 [7:34:26<2:13:19, 14.41s/it]"
     ]
    },
    {
     "name": "stdout",
     "output_type": "stream",
     "text": [
      "[24.38071255]\n",
      "[29.31360089]\n",
      "[2.2600431]\n",
      "[0.0, 0.0]\n"
     ]
    },
    {
     "name": "stderr",
     "output_type": "stream",
     "text": [
      " 76%|███████▌  | 1746/2300 [7:34:40<2:12:04, 14.30s/it]"
     ]
    },
    {
     "name": "stdout",
     "output_type": "stream",
     "text": [
      "[25.41419502]\n",
      "[28.98078323]\n",
      "[2.2070408]\n",
      "[0.0, 0.0]\n"
     ]
    },
    {
     "name": "stderr",
     "output_type": "stream",
     "text": [
      " 76%|███████▌  | 1747/2300 [7:34:54<2:11:49, 14.30s/it]"
     ]
    },
    {
     "name": "stdout",
     "output_type": "stream",
     "text": [
      "[26.31417131]\n",
      "[28.58098013]\n",
      "[2.1679783]\n",
      "[0.0, 0.0]\n"
     ]
    },
    {
     "name": "stderr",
     "output_type": "stream",
     "text": [
      " 76%|███████▌  | 1748/2300 [7:35:08<2:10:31, 14.19s/it]"
     ]
    },
    {
     "name": "stdout",
     "output_type": "stream",
     "text": [
      "[27.27929999]\n",
      "[28.21278607]\n",
      "[2.1474767]\n",
      "[0.0, 0.0]\n"
     ]
    },
    {
     "name": "stderr",
     "output_type": "stream",
     "text": [
      " 76%|███████▌  | 1749/2300 [7:35:23<2:11:45, 14.35s/it]"
     ]
    },
    {
     "name": "stdout",
     "output_type": "stream",
     "text": [
      "[28.20919207]\n",
      "[27.87576001]\n",
      "[2.1449723]\n",
      "[0.0, 0.0]\n"
     ]
    },
    {
     "name": "stderr",
     "output_type": "stream",
     "text": [
      " 76%|███████▌  | 1750/2300 [7:35:37<2:10:42, 14.26s/it]"
     ]
    },
    {
     "name": "stdout",
     "output_type": "stream",
     "text": [
      "[-52.11157584 -51.31166734 -36.87970583]\n",
      "[ 5.81611159 10.41564051 36.87974996]\n",
      "[22.445873  17.17753    3.4833772]\n",
      "[0.0, 0.0]\n",
      "[0.0, 0.0]\n",
      "[0.0, 0.0]\n"
     ]
    },
    {
     "name": "stderr",
     "output_type": "stream",
     "text": [
      " 76%|███████▌  | 1751/2300 [7:35:52<2:13:02, 14.54s/it]"
     ]
    },
    {
     "name": "stdout",
     "output_type": "stream",
     "text": [
      "[-35.27986428]\n",
      "[37.37970149]\n",
      "[3.515333]\n",
      "[0.0, 0.0]\n"
     ]
    },
    {
     "name": "stderr",
     "output_type": "stream",
     "text": [
      " 76%|███████▌  | 1752/2300 [7:36:08<2:14:57, 14.78s/it]"
     ]
    },
    {
     "name": "stdout",
     "output_type": "stream",
     "text": [
      "[-33.81338521]\n",
      "[37.71293818]\n",
      "[3.2976685]\n",
      "[0.0, 0.0]\n"
     ]
    },
    {
     "name": "stderr",
     "output_type": "stream",
     "text": [
      " 76%|███████▌  | 1753/2300 [7:36:24<2:17:57, 15.13s/it]"
     ]
    },
    {
     "name": "stdout",
     "output_type": "stream",
     "text": [
      "[-32.41352324]\n",
      "[38.01290651]\n",
      "[3.1325185]\n",
      "[0.0, 0.0]\n"
     ]
    },
    {
     "name": "stderr",
     "output_type": "stream",
     "text": [
      " 76%|███████▋  | 1754/2300 [7:36:37<2:14:06, 14.74s/it]"
     ]
    },
    {
     "name": "stdout",
     "output_type": "stream",
     "text": [
      "[-30.91367098]\n",
      "[38.31287507]\n",
      "[3.1060069]\n",
      "[0.0, 0.0]\n"
     ]
    },
    {
     "name": "stderr",
     "output_type": "stream",
     "text": [
      " 76%|███████▋  | 1755/2300 [7:36:52<2:12:38, 14.60s/it]"
     ]
    },
    {
     "name": "stdout",
     "output_type": "stream",
     "text": [
      "[-29.41381888]\n",
      "[38.51285362]\n",
      "[3.1025958]\n",
      "[0.0, 0.0]\n"
     ]
    },
    {
     "name": "stderr",
     "output_type": "stream",
     "text": [
      " 76%|███████▋  | 1756/2300 [7:37:06<2:11:31, 14.51s/it]"
     ]
    },
    {
     "name": "stdout",
     "output_type": "stream",
     "text": [
      "[-27.9139669]\n",
      "[38.71283165]\n",
      "[3.1519327]\n",
      "[0.0, 0.0]\n"
     ]
    },
    {
     "name": "stderr",
     "output_type": "stream",
     "text": [
      " 76%|███████▋  | 1757/2300 [7:37:21<2:11:42, 14.55s/it]"
     ]
    },
    {
     "name": "stdout",
     "output_type": "stream",
     "text": [
      "[-26.38074587]\n",
      "[38.87955878]\n",
      "[3.1265368]\n",
      "[0.0, 0.0]\n"
     ]
    },
    {
     "name": "stderr",
     "output_type": "stream",
     "text": [
      " 76%|███████▋  | 1758/2300 [7:37:35<2:10:29, 14.45s/it]"
     ]
    },
    {
     "name": "stdout",
     "output_type": "stream",
     "text": [
      "[-24.88089445]\n",
      "[38.97955028]\n",
      "[3.0109978]\n",
      "[0.0, 0.0]\n"
     ]
    },
    {
     "name": "stderr",
     "output_type": "stream",
     "text": [
      " 76%|███████▋  | 1759/2300 [7:37:49<2:09:10, 14.33s/it]"
     ]
    },
    {
     "name": "stdout",
     "output_type": "stream",
     "text": [
      "[-23.38104312]\n",
      "[39.07954185]\n",
      "[2.9633653]\n",
      "[0.0, 0.0]\n"
     ]
    },
    {
     "name": "stderr",
     "output_type": "stream",
     "text": [
      " 77%|███████▋  | 1760/2300 [7:38:03<2:07:55, 14.21s/it]"
     ]
    },
    {
     "name": "stdout",
     "output_type": "stream",
     "text": [
      "[-21.88119191]\n",
      "[39.17953302]\n",
      "[2.863352]\n",
      "[0.0, 0.0]\n"
     ]
    },
    {
     "name": "stderr",
     "output_type": "stream",
     "text": [
      " 77%|███████▋  | 1761/2300 [7:38:17<2:07:42, 14.22s/it]"
     ]
    },
    {
     "name": "stdout",
     "output_type": "stream",
     "text": [
      "[-20.38134072]\n",
      "[39.17953379]\n",
      "[2.8021286]\n",
      "[0.0, 0.0]\n"
     ]
    },
    {
     "name": "stderr",
     "output_type": "stream",
     "text": [
      " 77%|███████▋  | 1762/2300 [7:38:31<2:07:10, 14.18s/it]"
     ]
    },
    {
     "name": "stdout",
     "output_type": "stream",
     "text": [
      "[-18.9148553]\n",
      "[39.21276685]\n",
      "[2.7761352]\n",
      "[0.0, 0.0]\n"
     ]
    },
    {
     "name": "stderr",
     "output_type": "stream",
     "text": [
      " 77%|███████▋  | 1763/2300 [7:38:46<2:09:32, 14.47s/it]"
     ]
    },
    {
     "name": "stdout",
     "output_type": "stream",
     "text": [
      "[-17.48162921]\n",
      "[39.17953485]\n",
      "[2.7581444]\n",
      "[0.0, 0.0]\n"
     ]
    },
    {
     "name": "stderr",
     "output_type": "stream",
     "text": [
      " 77%|███████▋  | 1764/2300 [7:39:02<2:13:31, 14.95s/it]"
     ]
    },
    {
     "name": "stdout",
     "output_type": "stream",
     "text": [
      "[-40.61274139 -41.17924364 -15.98177844]\n",
      "[-5.28282026 -1.81643184 39.17953591]\n",
      "[24.935186  22.16838    2.8404827]\n",
      "[0.0, 0.0]\n",
      "[0.0, 0.0]\n",
      "[0.0, 0.0]\n"
     ]
    },
    {
     "name": "stderr",
     "output_type": "stream",
     "text": [
      " 77%|███████▋  | 1765/2300 [7:39:17<2:13:48, 15.01s/it]"
     ]
    },
    {
     "name": "stdout",
     "output_type": "stream",
     "text": [
      "[-40.51275081 -14.51529019 -39.37941   ]\n",
      "[-0.98324113 39.11276755 -7.01591641]\n",
      "[11.832913   2.8188477 13.591502 ]\n",
      "[0.0, 0.0]\n",
      "[0.0, 0.0]\n",
      "[0.0, 0.0]\n"
     ]
    },
    {
     "name": "stderr",
     "output_type": "stream",
     "text": [
      " 77%|███████▋  | 1766/2300 [7:39:33<2:16:04, 15.29s/it]"
     ]
    },
    {
     "name": "stdout",
     "output_type": "stream",
     "text": [
      "[-38.21298501 -39.81282156 -13.08206712]\n",
      "[-8.18253066 -0.58327782 39.07954739]\n",
      "[10.118909   8.722979   2.6838489]\n",
      "[0.0, 0.0]\n",
      "[0.0, 0.0]\n",
      "[0.0, 0.0]\n"
     ]
    },
    {
     "name": "stderr",
     "output_type": "stream",
     "text": [
      " 77%|███████▋  | 1767/2300 [7:39:51<2:21:54, 15.97s/it]"
     ]
    },
    {
     "name": "stdout",
     "output_type": "stream",
     "text": [
      "[-37.11309881 -39.01290249 -11.68220733]\n",
      "[-9.28242028 -0.28330457 38.97955698]\n",
      "[10.07563    6.938733   2.6161165]\n",
      "[0.0, 0.0]\n",
      "[0.0, 0.0]\n",
      "[0.0, 0.0]\n"
     ]
    },
    {
     "name": "stderr",
     "output_type": "stream",
     "text": [
      " 77%|███████▋  | 1768/2300 [7:40:07<2:22:14, 16.04s/it]"
     ]
    },
    {
     "name": "stdout",
     "output_type": "stream",
     "text": [
      "[-38.2129837  -10.31570211 -35.87972831]\n",
      "[ -0.08332192  38.91277921 -10.31557509]\n",
      "[5.827683  2.5577152 8.555939 ]\n",
      "[0.0, 0.0]\n",
      "[0.0, 0.0]\n",
      "[0.0, 0.0]\n"
     ]
    },
    {
     "name": "stderr",
     "output_type": "stream",
     "text": [
      " 77%|███████▋  | 1769/2300 [7:40:24<2:23:00, 16.16s/it]"
     ]
    },
    {
     "name": "stdout",
     "output_type": "stream",
     "text": [
      "[-34.61336011 -37.31307499  -8.98247745]\n",
      "[-11.28221844   0.11666051  38.77957653]\n",
      "[7.6071796 4.913944  2.5311573]\n",
      "[0.0, 0.0]\n",
      "[0.0, 0.0]\n",
      "[0.0, 0.0]\n"
     ]
    },
    {
     "name": "stderr",
     "output_type": "stream",
     "text": [
      " 77%|███████▋  | 1770/2300 [7:40:41<2:26:19, 16.57s/it]"
     ]
    },
    {
     "name": "stdout",
     "output_type": "stream",
     "text": [
      "[-36.41316677 -33.37994903  -7.58261688]\n",
      "[  0.21665227 -12.11538178  38.67958668]\n",
      "[4.5812078 6.9510775 2.5101392]\n",
      "[0.0, 0.0]\n",
      "[0.0, 0.0]\n",
      "[0.0, 0.0]\n"
     ]
    },
    {
     "name": "stderr",
     "output_type": "stream",
     "text": [
      " 77%|███████▋  | 1771/2300 [7:40:58<2:25:38, 16.52s/it]"
     ]
    },
    {
     "name": "stdout",
     "output_type": "stream",
     "text": [
      "[-35.61324866  -6.3160948  -32.08006228]\n",
      "[  0.31664349  38.51281121 -12.91529761]\n",
      "[4.188278  2.4408746 6.517806 ]\n",
      "[0.0, 0.0]\n",
      "[0.0, 0.0]\n",
      "[0.0, 0.0]\n"
     ]
    },
    {
     "name": "stderr",
     "output_type": "stream",
     "text": [
      " 77%|███████▋  | 1772/2300 [7:41:15<2:27:53, 16.81s/it]"
     ]
    },
    {
     "name": "stdout",
     "output_type": "stream",
     "text": [
      "[-34.71333989  -5.01622184 -30.78017436]\n",
      "[  0.41663372  38.41281924 -13.71521327]\n",
      "[3.8879375 2.3611498 6.372804 ]\n",
      "[0.0, 0.0]\n",
      "[0.0, 0.0]\n",
      "[0.0, 0.0]\n"
     ]
    },
    {
     "name": "stderr",
     "output_type": "stream",
     "text": [
      " 77%|███████▋  | 1773/2300 [7:41:32<2:28:13, 16.88s/it]"
     ]
    },
    {
     "name": "stdout",
     "output_type": "stream",
     "text": [
      "[-29.31391816  -3.81633967 -33.77993196]\n",
      "[-14.48187256  38.21283767   0.48336646]\n",
      "[6.730381  2.386168  3.6795409]\n",
      "[0.0, 0.0]\n",
      "[0.0, 0.0]\n",
      "[0.0, 0.0]\n"
     ]
    },
    {
     "name": "stderr",
     "output_type": "stream",
     "text": [
      " 77%|███████▋  | 1774/2300 [7:41:49<2:27:05, 16.78s/it]"
     ]
    },
    {
     "name": "stdout",
     "output_type": "stream",
     "text": [
      "[-32.81352903 -27.78038982  -2.4831242 ]\n",
      "[  0.51662333 -15.31500506  38.07964475]\n",
      "[3.4673786 6.928898  2.4362195]\n",
      "[0.0, 0.0]\n",
      "[0.0, 0.0]\n",
      "[0.0, 0.0]\n"
     ]
    },
    {
     "name": "stderr",
     "output_type": "stream",
     "text": [
      " 77%|███████▋  | 1775/2300 [7:42:06<2:29:12, 17.05s/it]"
     ]
    },
    {
     "name": "stdout",
     "output_type": "stream",
     "text": [
      "[-31.81363004 -26.080467    -1.18325201]\n",
      "[  0.51663022 -16.21487411  37.87966483]\n",
      "[3.3143237 7.4068856 2.557211 ]\n",
      "[0.0, 0.0]\n",
      "[0.0, 0.0]\n",
      "[0.0, 0.0]\n"
     ]
    },
    {
     "name": "stderr",
     "output_type": "stream",
     "text": [
      " 77%|███████▋  | 1776/2300 [7:42:22<2:26:04, 16.73s/it]"
     ]
    },
    {
     "name": "stdout",
     "output_type": "stream",
     "text": [
      "[-30.71374856   0.18326775 -24.18045786]\n",
      "[  0.51663708  37.61289407 -17.114713  ]\n",
      "[3.2051175 2.8176546 7.9962015]\n",
      "[0.0, 0.0]\n",
      "[0.0, 0.0]\n",
      "[0.0, 0.0]\n"
     ]
    },
    {
     "name": "stderr",
     "output_type": "stream",
     "text": [
      " 77%|███████▋  | 1777/2300 [7:42:40<2:27:32, 16.93s/it]"
     ]
    },
    {
     "name": "stdout",
     "output_type": "stream",
     "text": [
      "[-29.61387087 -21.68001847   1.91598703  -2.38430995   1.71646219]\n",
      "[  0.41665192 -18.11446819  -9.41591384  -6.01651161  37.3797141 ]\n",
      "[ 3.1423373 12.92641    7.521009   5.92429    2.9642477]\n",
      "[0.0, 0.0]\n",
      "[0.0, 0.0]\n",
      "[0.0, 0.0]\n",
      "[0.0, 0.0]\n",
      "[0.0, 0.0]\n"
     ]
    },
    {
     "name": "stderr",
     "output_type": "stream",
     "text": [
      " 77%|███████▋  | 1778/2300 [7:43:00<2:36:23, 17.98s/it]"
     ]
    },
    {
     "name": "stdout",
     "output_type": "stream",
     "text": [
      "[ -5.51846983  -9.31577758 -28.31401748 -16.58288415   2.8159695\n",
      " -17.78145195   3.21631422]\n",
      "[ -5.07736159  -3.98248233   0.31666525 -20.0149904  -11.21571477\n",
      "  -1.31645863  37.07974312]\n",
      "[11.496839  12.500562   3.185192  10.845552   6.3784976  3.8687658\n",
      "  2.773357 ]\n",
      "[0.0, 0.0]\n",
      "[0.0, 0.0]\n",
      "[0.0, 0.0]\n",
      "[0.0, 0.0]\n",
      "[0.0, 0.0]\n",
      "[0.0, 0.0]\n",
      "[0.0, 0.0]\n"
     ]
    },
    {
     "name": "stderr",
     "output_type": "stream",
     "text": [
      " 77%|███████▋  | 1779/2300 [7:43:20<2:39:56, 18.42s/it]"
     ]
    },
    {
     "name": "stdout",
     "output_type": "stream",
     "text": [
      "[-20.1149149  -26.71420135 -14.08243688   3.21595183   4.61617705]\n",
      "[ -0.68323875   0.21667822 -20.51478069 -12.81555005  36.77977259]\n",
      "[3.3028138 3.829899  7.9198866 6.0955486 2.6523833]\n",
      "[0.0, 0.0]\n",
      "[0.0, 0.0]\n",
      "[0.0, 0.0]\n",
      "[0.0, 0.0]\n",
      "[0.0, 0.0]\n"
     ]
    },
    {
     "name": "stderr",
     "output_type": "stream",
     "text": [
      " 77%|███████▋  | 1780/2300 [7:43:41<2:46:55, 19.26s/it]"
     ]
    },
    {
     "name": "stdout",
     "output_type": "stream",
     "text": [
      "[-11.61547084   3.183167     5.98269837]\n",
      "[-20.68148924 -14.28220739  36.51300045]\n",
      "[7.8032565 6.376815  2.6241126]\n",
      "[0.0, 0.0]\n",
      "[0.0, 0.0]\n",
      "[0.0, 0.0]\n"
     ]
    },
    {
     "name": "stderr",
     "output_type": "stream",
     "text": [
      " 77%|███████▋  | 1781/2300 [7:43:58<2:40:34, 18.56s/it]"
     ]
    },
    {
     "name": "stdout",
     "output_type": "stream",
     "text": [
      "[ 2.38328369  7.38256004 -8.88256671]\n",
      "[-15.7821674   36.21302815 -20.61466312]\n",
      "[8.395602  2.6350484 9.580977 ]\n",
      "[0.0, 0.0]\n",
      "[0.0, 0.0]\n",
      "[0.0, 0.0]\n"
     ]
    },
    {
     "name": "stderr",
     "output_type": "stream",
     "text": [
      " 77%|███████▋  | 1782/2300 [7:44:14<2:35:03, 17.96s/it]"
     ]
    },
    {
     "name": "stdout",
     "output_type": "stream",
     "text": [
      "[ 0.58349419  8.78242037 -5.38267053]\n",
      "[-17.58229473  35.81306595 -20.11461883]\n",
      "[13.67965   2.660637 16.03863 ]\n",
      "[0.0, 0.0]\n",
      "[0.0, 0.0]\n",
      "[0.0, 0.0]\n"
     ]
    },
    {
     "name": "stderr",
     "output_type": "stream",
     "text": [
      " 78%|███████▊  | 1783/2300 [7:44:32<2:33:58, 17.87s/it]"
     ]
    },
    {
     "name": "stdout",
     "output_type": "stream",
     "text": [
      "[10.18228066]\n",
      "[35.41310336]\n",
      "[2.6261814]\n",
      "[0.0, 0.0]\n"
     ]
    },
    {
     "name": "stderr",
     "output_type": "stream",
     "text": [
      " 78%|███████▊  | 1784/2300 [7:44:46<2:23:59, 16.74s/it]"
     ]
    },
    {
     "name": "stdout",
     "output_type": "stream",
     "text": [
      "[11.51550169]\n",
      "[34.97995685]\n",
      "[2.5738008]\n",
      "[0.0, 0.0]\n"
     ]
    },
    {
     "name": "stderr",
     "output_type": "stream",
     "text": [
      " 78%|███████▊  | 1785/2300 [7:45:00<2:17:23, 16.01s/it]"
     ]
    },
    {
     "name": "stdout",
     "output_type": "stream",
     "text": [
      "[12.81537395]\n",
      "[34.57999642]\n",
      "[2.5329552]\n",
      "[0.0, 0.0]\n"
     ]
    },
    {
     "name": "stderr",
     "output_type": "stream",
     "text": [
      " 78%|███████▊  | 1786/2300 [7:45:14<2:12:12, 15.43s/it]"
     ]
    },
    {
     "name": "stdout",
     "output_type": "stream",
     "text": [
      "[14.08189622]\n",
      "[34.11322995]\n",
      "[2.4764373]\n",
      "[0.0, 0.0]\n"
     ]
    },
    {
     "name": "stderr",
     "output_type": "stream",
     "text": [
      " 78%|███████▊  | 1787/2300 [7:45:28<2:08:23, 15.02s/it]"
     ]
    },
    {
     "name": "stdout",
     "output_type": "stream",
     "text": [
      "[15.28178474]\n",
      "[33.71327559]\n",
      "[2.452554]\n",
      "[0.0, 0.0]\n"
     ]
    },
    {
     "name": "stderr",
     "output_type": "stream",
     "text": [
      " 78%|███████▊  | 1788/2300 [7:45:44<2:08:12, 15.02s/it]"
     ]
    },
    {
     "name": "stdout",
     "output_type": "stream",
     "text": [
      "[16.51501379]\n",
      "[33.28012982]\n",
      "[2.4680288]\n",
      "[0.0, 0.0]\n"
     ]
    },
    {
     "name": "stderr",
     "output_type": "stream",
     "text": [
      " 78%|███████▊  | 1789/2300 [7:45:58<2:05:48, 14.77s/it]"
     ]
    },
    {
     "name": "stdout",
     "output_type": "stream",
     "text": [
      "[17.68152927]\n",
      "[32.81335181]\n",
      "[2.4585488]\n",
      "[0.0, 0.0]\n"
     ]
    },
    {
     "name": "stderr",
     "output_type": "stream",
     "text": [
      " 78%|███████▊  | 1790/2300 [7:46:12<2:04:24, 14.64s/it]"
     ]
    },
    {
     "name": "stdout",
     "output_type": "stream",
     "text": [
      "[18.81479941]\n",
      "[32.3802331]\n",
      "[2.3722627]\n",
      "[0.0, 0.0]\n"
     ]
    },
    {
     "name": "stderr",
     "output_type": "stream",
     "text": [
      " 78%|███████▊  | 1791/2300 [7:46:26<2:03:05, 14.51s/it]"
     ]
    },
    {
     "name": "stdout",
     "output_type": "stream",
     "text": [
      "[19.91469622]\n",
      "[31.98028241]\n",
      "[2.287031]\n",
      "[0.0, 0.0]\n"
     ]
    },
    {
     "name": "stderr",
     "output_type": "stream",
     "text": [
      " 78%|███████▊  | 1792/2300 [7:46:40<2:02:02, 14.41s/it]"
     ]
    },
    {
     "name": "stdout",
     "output_type": "stream",
     "text": [
      "[20.91460592]\n",
      "[31.58033488]\n",
      "[2.2668538]\n",
      "[0.0, 0.0]\n"
     ]
    },
    {
     "name": "stderr",
     "output_type": "stream",
     "text": [
      " 78%|███████▊  | 1793/2300 [7:46:55<2:01:36, 14.39s/it]"
     ]
    },
    {
     "name": "stdout",
     "output_type": "stream",
     "text": [
      "[21.98105598]\n",
      "[31.11349599]\n",
      "[2.2876391]\n",
      "[0.0, 0.0]\n"
     ]
    },
    {
     "name": "stderr",
     "output_type": "stream",
     "text": [
      " 78%|███████▊  | 1794/2300 [7:47:09<1:59:50, 14.21s/it]"
     ]
    },
    {
     "name": "stdout",
     "output_type": "stream",
     "text": [
      "[22.98093664]\n",
      "[30.71352155]\n",
      "[2.3049626]\n",
      "[0.0, 0.0]\n"
     ]
    },
    {
     "name": "stderr",
     "output_type": "stream",
     "text": [
      " 78%|███████▊  | 1795/2300 [7:47:23<2:00:30, 14.32s/it]"
     ]
    },
    {
     "name": "stdout",
     "output_type": "stream",
     "text": [
      "[23.98080539]\n",
      "[30.31353941]\n",
      "[2.2918897]\n",
      "[0.0, 0.0]\n"
     ]
    },
    {
     "name": "stderr",
     "output_type": "stream",
     "text": [
      " 78%|███████▊  | 1796/2300 [7:47:37<1:59:44, 14.25s/it]"
     ]
    },
    {
     "name": "stdout",
     "output_type": "stream",
     "text": [
      "[24.98065435]\n",
      "[29.91354273]\n",
      "[2.233671]\n",
      "[0.0, 0.0]\n"
     ]
    },
    {
     "name": "stderr",
     "output_type": "stream",
     "text": [
      " 78%|███████▊  | 1797/2300 [7:47:52<2:00:17, 14.35s/it]"
     ]
    },
    {
     "name": "stdout",
     "output_type": "stream",
     "text": [
      "[25.98046418]\n",
      "[29.51351299]\n",
      "[2.1644244]\n",
      "[0.0, 0.0]\n"
     ]
    },
    {
     "name": "stderr",
     "output_type": "stream",
     "text": [
      " 78%|███████▊  | 1798/2300 [7:48:06<1:59:43, 14.31s/it]"
     ]
    },
    {
     "name": "stdout",
     "output_type": "stream",
     "text": [
      "[26.91409566]\n",
      "[29.18091933]\n",
      "[2.133266]\n",
      "[0.0, 0.0]\n"
     ]
    },
    {
     "name": "stderr",
     "output_type": "stream",
     "text": [
      " 78%|███████▊  | 1799/2300 [7:48:20<1:58:58, 14.25s/it]"
     ]
    },
    {
     "name": "stdout",
     "output_type": "stream",
     "text": [
      "[27.77935251]\n",
      "[28.8130768]\n",
      "[2.1185684]\n",
      "[0.0, 0.0]\n"
     ]
    },
    {
     "name": "stderr",
     "output_type": "stream",
     "text": [
      " 78%|███████▊  | 1800/2300 [7:48:34<1:58:33, 14.23s/it]"
     ]
    },
    {
     "name": "stdout",
     "output_type": "stream",
     "text": [
      "[-36.37975606]\n",
      "[37.87965216]\n",
      "[3.3217247]\n",
      "[0.0, 0.0]\n"
     ]
    },
    {
     "name": "stderr",
     "output_type": "stream",
     "text": [
      " 78%|███████▊  | 1801/2300 [7:48:48<1:58:02, 14.19s/it]"
     ]
    },
    {
     "name": "stdout",
     "output_type": "stream",
     "text": [
      "[-35.01326695]\n",
      "[38.21289043]\n",
      "[3.271708]\n",
      "[0.0, 0.0]\n"
     ]
    },
    {
     "name": "stderr",
     "output_type": "stream",
     "text": [
      " 78%|███████▊  | 1802/2300 [7:49:02<1:57:22, 14.14s/it]"
     ]
    },
    {
     "name": "stdout",
     "output_type": "stream",
     "text": [
      "[-33.48004349]\n",
      "[38.57958389]\n",
      "[3.059755]\n",
      "[0.0, 0.0]\n"
     ]
    },
    {
     "name": "stderr",
     "output_type": "stream",
     "text": [
      " 78%|███████▊  | 1803/2300 [7:49:16<1:56:49, 14.10s/it]"
     ]
    },
    {
     "name": "stdout",
     "output_type": "stream",
     "text": [
      "[-32.11355215]\n",
      "[38.81282773]\n",
      "[2.981299]\n",
      "[0.0, 0.0]\n"
     ]
    },
    {
     "name": "stderr",
     "output_type": "stream",
     "text": [
      " 78%|███████▊  | 1804/2300 [7:49:31<1:56:45, 14.12s/it]"
     ]
    },
    {
     "name": "stdout",
     "output_type": "stream",
     "text": [
      "[-30.68032069]\n",
      "[39.07953607]\n",
      "[2.989288]\n",
      "[0.0, 0.0]\n"
     ]
    },
    {
     "name": "stderr",
     "output_type": "stream",
     "text": [
      " 78%|███████▊  | 1805/2300 [7:49:45<1:57:08, 14.20s/it]"
     ]
    },
    {
     "name": "stdout",
     "output_type": "stream",
     "text": [
      "[-29.21383801]\n",
      "[39.31277482]\n",
      "[3.001482]\n",
      "[0.0, 0.0]\n"
     ]
    },
    {
     "name": "stderr",
     "output_type": "stream",
     "text": [
      " 79%|███████▊  | 1806/2300 [7:49:59<1:56:42, 14.17s/it]"
     ]
    },
    {
     "name": "stdout",
     "output_type": "stream",
     "text": [
      "[-27.81397613]\n",
      "[39.41276291]\n",
      "[3.0656157]\n",
      "[0.0, 0.0]\n"
     ]
    },
    {
     "name": "stderr",
     "output_type": "stream",
     "text": [
      " 79%|███████▊  | 1807/2300 [7:50:13<1:56:03, 14.12s/it]"
     ]
    },
    {
     "name": "stdout",
     "output_type": "stream",
     "text": [
      "[-26.28075648]\n",
      "[39.57948949]\n",
      "[3.0086656]\n",
      "[0.0, 0.0]\n"
     ]
    },
    {
     "name": "stderr",
     "output_type": "stream",
     "text": [
      " 79%|███████▊  | 1808/2300 [7:50:28<1:56:59, 14.27s/it]"
     ]
    },
    {
     "name": "stdout",
     "output_type": "stream",
     "text": [
      "[-24.780905]\n",
      "[39.67948088]\n",
      "[2.9150698]\n",
      "[0.0, 0.0]\n"
     ]
    },
    {
     "name": "stderr",
     "output_type": "stream",
     "text": [
      " 79%|███████▊  | 1809/2300 [7:50:42<1:56:08, 14.19s/it]"
     ]
    },
    {
     "name": "stdout",
     "output_type": "stream",
     "text": [
      "[-23.28105351]\n",
      "[39.77947224]\n",
      "[2.8676887]\n",
      "[0.0, 0.0]\n"
     ]
    },
    {
     "name": "stderr",
     "output_type": "stream",
     "text": [
      " 79%|███████▊  | 1810/2300 [7:50:56<1:55:15, 14.11s/it]"
     ]
    },
    {
     "name": "stdout",
     "output_type": "stream",
     "text": [
      "[-21.81456905]\n",
      "[39.81271353]\n",
      "[2.8002052]\n",
      "[0.0, 0.0]\n"
     ]
    },
    {
     "name": "stderr",
     "output_type": "stream",
     "text": [
      " 79%|███████▊  | 1811/2300 [7:51:10<1:55:10, 14.13s/it]"
     ]
    },
    {
     "name": "stdout",
     "output_type": "stream",
     "text": [
      "[-20.31471693]\n",
      "[39.91270135]\n",
      "[2.7691894]\n",
      "[0.0, 0.0]\n"
     ]
    },
    {
     "name": "stderr",
     "output_type": "stream",
     "text": [
      " 79%|███████▉  | 1812/2300 [7:51:24<1:55:24, 14.19s/it]"
     ]
    },
    {
     "name": "stdout",
     "output_type": "stream",
     "text": [
      "[-18.88149012]\n",
      "[39.87946452]\n",
      "[2.7164612]\n",
      "[0.0, 0.0]\n"
     ]
    },
    {
     "name": "stderr",
     "output_type": "stream",
     "text": [
      " 79%|███████▉  | 1813/2300 [7:51:38<1:55:15, 14.20s/it]"
     ]
    },
    {
     "name": "stdout",
     "output_type": "stream",
     "text": [
      "[-17.48162912]\n",
      "[39.87946493]\n",
      "[2.6854396]\n",
      "[0.0, 0.0]\n"
     ]
    },
    {
     "name": "stderr",
     "output_type": "stream",
     "text": [
      " 79%|███████▉  | 1814/2300 [7:51:53<1:56:31, 14.38s/it]"
     ]
    },
    {
     "name": "stdout",
     "output_type": "stream",
     "text": [
      "[-15.98177813]\n",
      "[39.8794657]\n",
      "[2.795673]\n",
      "[0.0, 0.0]\n"
     ]
    },
    {
     "name": "stderr",
     "output_type": "stream",
     "text": [
      " 79%|███████▉  | 1815/2300 [7:52:07<1:55:30, 14.29s/it]"
     ]
    },
    {
     "name": "stdout",
     "output_type": "stream",
     "text": [
      "[-14.51528844]\n",
      "[39.81270112]\n",
      "[2.7600648]\n",
      "[0.0, 0.0]\n"
     ]
    },
    {
     "name": "stderr",
     "output_type": "stream",
     "text": [
      " 79%|███████▉  | 1816/2300 [7:52:22<1:55:19, 14.30s/it]"
     ]
    },
    {
     "name": "stdout",
     "output_type": "stream",
     "text": [
      "[-13.11542649]\n",
      "[39.7127082]\n",
      "[2.6219752]\n",
      "[0.0, 0.0]\n"
     ]
    },
    {
     "name": "stderr",
     "output_type": "stream",
     "text": [
      " 79%|███████▉  | 1817/2300 [7:52:36<1:54:58, 14.28s/it]"
     ]
    },
    {
     "name": "stdout",
     "output_type": "stream",
     "text": [
      "[-11.78219648]\n",
      "[39.67948709]\n",
      "[2.5702646]\n",
      "[0.0, 0.0]\n"
     ]
    },
    {
     "name": "stderr",
     "output_type": "stream",
     "text": [
      " 79%|███████▉  | 1818/2300 [7:52:51<1:57:19, 14.61s/it]"
     ]
    },
    {
     "name": "stdout",
     "output_type": "stream",
     "text": [
      "[-10.38233631]\n",
      "[39.57949676]\n",
      "[2.5268598]\n",
      "[0.0, 0.0]\n"
     ]
    },
    {
     "name": "stderr",
     "output_type": "stream",
     "text": [
      " 79%|███████▉  | 1819/2300 [7:53:07<2:01:01, 15.10s/it]"
     ]
    },
    {
     "name": "stdout",
     "output_type": "stream",
     "text": [
      "[-36.91311408 -35.87973621  -9.08246614]\n",
      "[-3.08302724 -7.21588426 39.47950639]\n",
      "[15.924461  15.957816   2.5066185]\n",
      "[0.0, 0.0]\n",
      "[0.0, 0.0]\n",
      "[0.0, 0.0]\n"
     ]
    },
    {
     "name": "stderr",
     "output_type": "stream",
     "text": [
      " 79%|███████▉  | 1820/2300 [7:53:24<2:03:17, 15.41s/it]"
     ]
    },
    {
     "name": "stdout",
     "output_type": "stream",
     "text": [
      "[-34.41337588  -7.71595585 -36.17970688]\n",
      "[-8.8824566  39.31273827 -2.21637857]\n",
      "[13.010033   2.4624069  9.149394 ]\n",
      "[0.0, 0.0]\n",
      "[0.0, 0.0]\n",
      "[0.0, 0.0]\n"
     ]
    },
    {
     "name": "stderr",
     "output_type": "stream",
     "text": [
      " 79%|███████▉  | 1821/2300 [7:53:40<2:04:48, 15.63s/it]"
     ]
    },
    {
     "name": "stdout",
     "output_type": "stream",
     "text": [
      "[ -6.4160835  -32.97999148 -35.37978057]\n",
      "[ 39.21274601 -10.21556826  -1.71642544]\n",
      "[2.3886657 9.6803255 6.89016  ]\n",
      "[0.0, 0.0]\n",
      "[0.0, 0.0]\n",
      "[0.0, 0.0]\n"
     ]
    },
    {
     "name": "stderr",
     "output_type": "stream",
     "text": [
      " 79%|███████▉  | 1822/2300 [7:53:57<2:07:23, 15.99s/it]"
     ]
    },
    {
     "name": "stdout",
     "output_type": "stream",
     "text": [
      "[-31.61366992 -34.51335472  -5.18285464]\n",
      "[-11.28220656  -1.38318661  39.07954564]\n",
      "[8.310061  5.7889223 2.3330996]\n",
      "[0.0, 0.0]\n",
      "[0.0, 0.0]\n",
      "[0.0, 0.0]\n"
     ]
    },
    {
     "name": "stderr",
     "output_type": "stream",
     "text": [
      " 79%|███████▉  | 1823/2300 [7:54:14<2:10:55, 16.47s/it]"
     ]
    },
    {
     "name": "stdout",
     "output_type": "stream",
     "text": [
      "[ -3.91632851 -30.18023272 -33.67994386]\n",
      "[ 38.91277226 -12.31535148  -1.11648282]\n",
      "[2.3441918 7.6609087 5.105919 ]\n",
      "[0.0, 0.0]\n",
      "[0.0, 0.0]\n",
      "[0.0, 0.0]\n"
     ]
    },
    {
     "name": "stderr",
     "output_type": "stream",
     "text": [
      " 79%|███████▉  | 1824/2300 [7:54:30<2:09:53, 16.37s/it]"
     ]
    },
    {
     "name": "stdout",
     "output_type": "stream",
     "text": [
      "[-28.71397452 -32.71352873  -2.71644619]\n",
      "[-13.28198917  -0.88323695  38.71279042]\n",
      "[7.632382  4.5246754 2.3893578]\n",
      "[0.0, 0.0]\n",
      "[0.0, 0.0]\n",
      "[0.0, 0.0]\n"
     ]
    },
    {
     "name": "stderr",
     "output_type": "stream",
     "text": [
      " 79%|███████▉  | 1825/2300 [7:54:47<2:09:40, 16.38s/it]"
     ]
    },
    {
     "name": "stdout",
     "output_type": "stream",
     "text": [
      "[-27.01418005 -31.81362832  -1.3832307 ]\n",
      "[-14.18187882  -0.78323908  38.57959491]\n",
      "[7.9453864 4.198351  2.4630358]\n",
      "[0.0, 0.0]\n",
      "[0.0, 0.0]\n",
      "[0.0, 0.0]\n"
     ]
    },
    {
     "name": "stderr",
     "output_type": "stream",
     "text": [
      " 79%|███████▉  | 1826/2300 [7:55:04<2:12:28, 16.77s/it]"
     ]
    },
    {
     "name": "stdout",
     "output_type": "stream",
     "text": [
      "[-2.51144128e+01 -3.06802073e+01  1.66318532e-02]\n",
      "[-15.18172675  -0.61651235  38.37961498]\n",
      "[8.926279  3.8530655 2.7141476]\n",
      "[0.0, 0.0]\n",
      "[0.0, 0.0]\n",
      "[0.0, 0.0]\n"
     ]
    },
    {
     "name": "stderr",
     "output_type": "stream",
     "text": [
      " 79%|███████▉  | 1827/2300 [7:55:21<2:11:27, 16.68s/it]"
     ]
    },
    {
     "name": "stdout",
     "output_type": "stream",
     "text": [
      "[-29.61387028   1.48314125 -22.88052695]\n",
      "[ -0.58324941  38.11284756 -16.21478775]\n",
      "[ 3.714675  2.910767 10.626741]\n",
      "[0.0, 0.0]\n",
      "[0.0, 0.0]\n",
      "[0.0, 0.0]\n"
     ]
    },
    {
     "name": "stderr",
     "output_type": "stream",
     "text": [
      " 79%|███████▉  | 1828/2300 [7:55:40<2:16:09, 17.31s/it]"
     ]
    },
    {
     "name": "stdout",
     "output_type": "stream",
     "text": [
      "[-16.71509252 -28.41400479 -17.89299028   1.01598141  -4.18506247\n",
      " -11.28194038   2.91634629]\n",
      "[ -2.18304296  -0.58324574 -18.31783498 -10.31586071  -6.21677013\n",
      "  -4.01632038  37.77967373]\n",
      "[ 7.0168366  3.7395678 26.125858   8.308994   8.754569  12.25984\n",
      "  2.7489464]\n",
      "[0.0, 0.0]\n",
      "[0.0, 0.0]\n",
      "[0.0, 0.0]\n",
      "[0.0, 0.0]\n",
      "[0.0, 0.0]\n",
      "[0.0, 0.0]\n",
      "[0.0, 0.0]\n"
     ]
    },
    {
     "name": "stderr",
     "output_type": "stream",
     "text": [
      " 80%|███████▉  | 1829/2300 [7:55:59<2:21:45, 18.06s/it]"
     ]
    },
    {
     "name": "stdout",
     "output_type": "stream",
     "text": [
      "[-26.81418534   4.28286679 -14.38263227   1.61596181 -19.48115024]\n",
      "[ -0.58324233  37.51290589 -19.21496317 -12.11567185  -1.31628768]\n",
      "[4.294547  2.6063113 9.613309  7.457814  3.839375 ]\n",
      "[0.0, 0.0]\n",
      "[0.0, 0.0]\n",
      "[0.0, 0.0]\n",
      "[0.0, 0.0]\n",
      "[0.0, 0.0]\n"
     ]
    },
    {
     "name": "stderr",
     "output_type": "stream",
     "text": [
      " 80%|███████▉  | 1830/2300 [7:56:20<2:27:54, 18.88s/it]"
     ]
    },
    {
     "name": "stdout",
     "output_type": "stream",
     "text": [
      "[  5.68272894 -11.68247246   1.61592436]\n",
      "[ 37.21293536 -19.51481921 -13.81551298]\n",
      "[2.5502682 9.282264  8.191229 ]\n",
      "[0.0, 0.0]\n",
      "[0.0, 0.0]\n",
      "[0.0, 0.0]\n"
     ]
    },
    {
     "name": "stderr",
     "output_type": "stream",
     "text": [
      " 80%|███████▉  | 1831/2300 [7:56:39<2:27:15, 18.84s/it]"
     ]
    },
    {
     "name": "stdout",
     "output_type": "stream",
     "text": [
      "[ 7.08259107 -8.58257965  0.715832  ]\n",
      "[ 36.91296387 -19.41477933 -15.5153796 ]\n",
      "[ 2.5388372 11.94987   10.23745  ]\n",
      "[0.0, 0.0]\n",
      "[0.0, 0.0]\n",
      "[0.0, 0.0]\n"
     ]
    },
    {
     "name": "stderr",
     "output_type": "stream",
     "text": [
      " 80%|███████▉  | 1832/2300 [7:56:55<2:20:34, 18.02s/it]"
     ]
    },
    {
     "name": "stdout",
     "output_type": "stream",
     "text": [
      "[8.41580687]\n",
      "[36.57979383]\n",
      "[2.559387]\n",
      "[0.0, 0.0]\n"
     ]
    },
    {
     "name": "stderr",
     "output_type": "stream",
     "text": [
      " 80%|███████▉  | 1833/2300 [7:57:11<2:14:48, 17.32s/it]"
     ]
    },
    {
     "name": "stdout",
     "output_type": "stream",
     "text": [
      "[9.78232192]\n",
      "[36.21302923]\n",
      "[2.547463]\n",
      "[0.0, 0.0]\n"
     ]
    },
    {
     "name": "stderr",
     "output_type": "stream",
     "text": [
      " 80%|███████▉  | 1834/2300 [7:57:25<2:07:09, 16.37s/it]"
     ]
    },
    {
     "name": "stdout",
     "output_type": "stream",
     "text": [
      "[11.08219216]\n",
      "[35.81306677]\n",
      "[2.5181415]\n",
      "[0.0, 0.0]\n"
     ]
    },
    {
     "name": "stderr",
     "output_type": "stream",
     "text": [
      " 80%|███████▉  | 1835/2300 [7:57:39<2:01:50, 15.72s/it]"
     ]
    },
    {
     "name": "stdout",
     "output_type": "stream",
     "text": [
      "[12.38206342]\n",
      "[35.41310473]\n",
      "[2.4755616]\n",
      "[0.0, 0.0]\n"
     ]
    },
    {
     "name": "stderr",
     "output_type": "stream",
     "text": [
      " 80%|███████▉  | 1836/2300 [7:57:53<1:58:25, 15.31s/it]"
     ]
    },
    {
     "name": "stdout",
     "output_type": "stream",
     "text": [
      "[13.61529874]\n",
      "[34.97995737]\n",
      "[2.4545047]\n",
      "[0.0, 0.0]\n"
     ]
    },
    {
     "name": "stderr",
     "output_type": "stream",
     "text": [
      " 80%|███████▉  | 1837/2300 [7:58:08<1:56:08, 15.05s/it]"
     ]
    },
    {
     "name": "stdout",
     "output_type": "stream",
     "text": [
      "[14.88181679]\n",
      "[34.61318031]\n",
      "[2.3976562]\n",
      "[0.0, 0.0]\n"
     ]
    },
    {
     "name": "stderr",
     "output_type": "stream",
     "text": [
      " 80%|███████▉  | 1838/2300 [7:58:22<1:54:05, 14.82s/it]"
     ]
    },
    {
     "name": "stdout",
     "output_type": "stream",
     "text": [
      "[15.98172475]\n",
      "[34.1132278]\n",
      "[2.394954]\n",
      "[0.0, 0.0]\n"
     ]
    },
    {
     "name": "stderr",
     "output_type": "stream",
     "text": [
      " 80%|███████▉  | 1839/2300 [7:58:37<1:52:46, 14.68s/it]"
     ]
    },
    {
     "name": "stdout",
     "output_type": "stream",
     "text": [
      "[17.18158628]\n",
      "[33.71327328]\n",
      "[2.3985307]\n",
      "[0.0, 0.0]\n"
     ]
    },
    {
     "name": "stderr",
     "output_type": "stream",
     "text": [
      " 80%|████████  | 1840/2300 [7:58:51<1:51:02, 14.48s/it]"
     ]
    },
    {
     "name": "stdout",
     "output_type": "stream",
     "text": [
      "[18.38145928]\n",
      "[33.31330749]\n",
      "[2.3641276]\n",
      "[0.0, 0.0]\n"
     ]
    },
    {
     "name": "stderr",
     "output_type": "stream",
     "text": [
      " 80%|████████  | 1841/2300 [7:59:05<1:50:10, 14.40s/it]"
     ]
    },
    {
     "name": "stdout",
     "output_type": "stream",
     "text": [
      "[19.51473574]\n",
      "[32.88018511]\n",
      "[2.2671566]\n",
      "[0.0, 0.0]\n"
     ]
    },
    {
     "name": "stderr",
     "output_type": "stream",
     "text": [
      " 80%|████████  | 1842/2300 [7:59:19<1:48:46, 14.25s/it]"
     ]
    },
    {
     "name": "stdout",
     "output_type": "stream",
     "text": [
      "[20.51464503]\n",
      "[32.48023462]\n",
      "[2.2177525]\n",
      "[0.0, 0.0]\n"
     ]
    },
    {
     "name": "stderr",
     "output_type": "stream",
     "text": [
      " 80%|████████  | 1843/2300 [7:59:33<1:48:27, 14.24s/it]"
     ]
    },
    {
     "name": "stdout",
     "output_type": "stream",
     "text": [
      "[21.58111142]\n",
      "[32.11340976]\n",
      "[2.2127788]\n",
      "[0.0, 0.0]\n"
     ]
    },
    {
     "name": "stderr",
     "output_type": "stream",
     "text": [
      " 80%|████████  | 1844/2300 [7:59:47<1:47:54, 14.20s/it]"
     ]
    },
    {
     "name": "stdout",
     "output_type": "stream",
     "text": [
      "[22.58099666]\n",
      "[31.71344006]\n",
      "[2.2423904]\n",
      "[0.0, 0.0]\n"
     ]
    },
    {
     "name": "stderr",
     "output_type": "stream",
     "text": [
      " 80%|████████  | 1845/2300 [8:00:01<1:47:19, 14.15s/it]"
     ]
    },
    {
     "name": "stdout",
     "output_type": "stream",
     "text": [
      "[23.61436045]\n",
      "[31.28040151]\n",
      "[2.2820969]\n",
      "[0.0, 0.0]\n"
     ]
    },
    {
     "name": "stderr",
     "output_type": "stream",
     "text": [
      " 80%|████████  | 1846/2300 [8:00:16<1:49:03, 14.41s/it]"
     ]
    },
    {
     "name": "stdout",
     "output_type": "stream",
     "text": [
      "[24.61427237]\n",
      "[30.88047143]\n",
      "[2.2711701]\n",
      "[0.0, 0.0]\n"
     ]
    },
    {
     "name": "stderr",
     "output_type": "stream",
     "text": [
      " 80%|████████  | 1847/2300 [8:00:30<1:47:56, 14.30s/it]"
     ]
    },
    {
     "name": "stdout",
     "output_type": "stream",
     "text": [
      "[25.614186]\n",
      "[30.4805583]\n",
      "[2.1799817]\n",
      "[0.0, 0.0]\n"
     ]
    },
    {
     "name": "stderr",
     "output_type": "stream",
     "text": [
      " 80%|████████  | 1848/2300 [8:00:44<1:47:15, 14.24s/it]"
     ]
    },
    {
     "name": "stdout",
     "output_type": "stream",
     "text": [
      "[26.51414065]\n",
      "[30.08067324]\n",
      "[2.1175659]\n",
      "[0.0, 0.0]\n"
     ]
    },
    {
     "name": "stderr",
     "output_type": "stream",
     "text": [
      " 80%|████████  | 1849/2300 [8:00:59<1:47:17, 14.27s/it]"
     ]
    },
    {
     "name": "stdout",
     "output_type": "stream",
     "text": [
      "[27.51401966]\n",
      "[29.78085967]\n",
      "[2.0938432]\n",
      "[0.0, 0.0]\n"
     ]
    },
    {
     "name": "stderr",
     "output_type": "stream",
     "text": [
      " 80%|████████  | 1850/2300 [8:01:13<1:46:26, 14.19s/it]"
     ]
    },
    {
     "name": "stdout",
     "output_type": "stream",
     "text": [
      "[-36.01316841]\n",
      "[38.71284236]\n",
      "[3.1821663]\n",
      "[0.0, 0.0]\n"
     ]
    },
    {
     "name": "stderr",
     "output_type": "stream",
     "text": [
      " 80%|████████  | 1851/2300 [8:01:27<1:46:15, 14.20s/it]"
     ]
    },
    {
     "name": "stdout",
     "output_type": "stream",
     "text": [
      "[-34.6133059]\n",
      "[39.11280161]\n",
      "[3.031471]\n",
      "[0.0, 0.0]\n"
     ]
    },
    {
     "name": "stderr",
     "output_type": "stream",
     "text": [
      " 81%|████████  | 1852/2300 [8:01:41<1:45:33, 14.14s/it]"
     ]
    },
    {
     "name": "stdout",
     "output_type": "stream",
     "text": [
      "[-33.21344324]\n",
      "[39.41277044]\n",
      "[2.910069]\n",
      "[0.0, 0.0]\n"
     ]
    },
    {
     "name": "stderr",
     "output_type": "stream",
     "text": [
      " 81%|████████  | 1853/2300 [8:01:55<1:45:36, 14.18s/it]"
     ]
    },
    {
     "name": "stdout",
     "output_type": "stream",
     "text": [
      "[-31.88020245]\n",
      "[39.57948581]\n",
      "[2.872982]\n",
      "[0.0, 0.0]\n"
     ]
    },
    {
     "name": "stderr",
     "output_type": "stream",
     "text": [
      " 81%|████████  | 1854/2300 [8:02:09<1:45:07, 14.14s/it]"
     ]
    },
    {
     "name": "stdout",
     "output_type": "stream",
     "text": [
      "[-30.51370926]\n",
      "[39.81272773]\n",
      "[2.8924732]\n",
      "[0.0, 0.0]\n"
     ]
    },
    {
     "name": "stderr",
     "output_type": "stream",
     "text": [
      " 81%|████████  | 1855/2300 [8:02:24<1:46:43, 14.39s/it]"
     ]
    },
    {
     "name": "stdout",
     "output_type": "stream",
     "text": [
      "[-29.08047938]\n",
      "[39.97944799]\n",
      "[2.919334]\n",
      "[0.0, 0.0]\n"
     ]
    },
    {
     "name": "stderr",
     "output_type": "stream",
     "text": [
      " 81%|████████  | 1856/2300 [8:02:38<1:45:53, 14.31s/it]"
     ]
    },
    {
     "name": "stdout",
     "output_type": "stream",
     "text": [
      "[-27.58062818]\n",
      "[40.17942902]\n",
      "[2.948992]\n",
      "[0.0, 0.0]\n"
     ]
    },
    {
     "name": "stderr",
     "output_type": "stream",
     "text": [
      " 81%|████████  | 1857/2300 [8:02:53<1:45:54, 14.34s/it]"
     ]
    },
    {
     "name": "stdout",
     "output_type": "stream",
     "text": [
      "[-26.11414314]\n",
      "[40.3126719]\n",
      "[2.9041467]\n",
      "[0.0, 0.0]\n"
     ]
    },
    {
     "name": "stderr",
     "output_type": "stream",
     "text": [
      " 81%|████████  | 1858/2300 [8:03:06<1:44:38, 14.20s/it]"
     ]
    },
    {
     "name": "stdout",
     "output_type": "stream",
     "text": [
      "[-24.68091541]\n",
      "[40.37941148]\n",
      "[2.8221967]\n",
      "[0.0, 0.0]\n"
     ]
    },
    {
     "name": "stderr",
     "output_type": "stream",
     "text": [
      " 81%|████████  | 1859/2300 [8:03:20<1:44:00, 14.15s/it]"
     ]
    },
    {
     "name": "stdout",
     "output_type": "stream",
     "text": [
      "[-23.18106371]\n",
      "[40.47940271]\n",
      "[2.773916]\n",
      "[0.0, 0.0]\n"
     ]
    },
    {
     "name": "stderr",
     "output_type": "stream",
     "text": [
      " 81%|████████  | 1860/2300 [8:03:35<1:44:23, 14.24s/it]"
     ]
    },
    {
     "name": "stdout",
     "output_type": "stream",
     "text": [
      "[-21.78120219]\n",
      "[40.47940369]\n",
      "[2.7604687]\n",
      "[0.0, 0.0]\n"
     ]
    },
    {
     "name": "stderr",
     "output_type": "stream",
     "text": [
      " 81%|████████  | 1861/2300 [8:03:49<1:43:40, 14.17s/it]"
     ]
    },
    {
     "name": "stdout",
     "output_type": "stream",
     "text": [
      "[-20.31471606]\n",
      "[40.51264337]\n",
      "[2.7507205]\n",
      "[0.0, 0.0]\n"
     ]
    },
    {
     "name": "stderr",
     "output_type": "stream",
     "text": [
      " 81%|████████  | 1862/2300 [8:04:03<1:43:03, 14.12s/it]"
     ]
    },
    {
     "name": "stdout",
     "output_type": "stream",
     "text": [
      "[-18.91485366]\n",
      "[40.51264129]\n",
      "[2.6694825]\n",
      "[0.0, 0.0]\n"
     ]
    },
    {
     "name": "stderr",
     "output_type": "stream",
     "text": [
      " 81%|████████  | 1863/2300 [8:04:17<1:42:31, 14.08s/it]"
     ]
    },
    {
     "name": "stdout",
     "output_type": "stream",
     "text": [
      "[-17.5149912]\n",
      "[40.51263938]\n",
      "[2.633965]\n",
      "[0.0, 0.0]\n"
     ]
    },
    {
     "name": "stderr",
     "output_type": "stream",
     "text": [
      " 81%|████████  | 1864/2300 [8:04:32<1:44:13, 14.34s/it]"
     ]
    },
    {
     "name": "stdout",
     "output_type": "stream",
     "text": [
      "[-16.01513887]\n",
      "[40.512637]\n",
      "[2.7474906]\n",
      "[0.0, 0.0]\n"
     ]
    },
    {
     "name": "stderr",
     "output_type": "stream",
     "text": [
      " 81%|████████  | 1865/2300 [8:04:46<1:43:17, 14.25s/it]"
     ]
    },
    {
     "name": "stdout",
     "output_type": "stream",
     "text": [
      "[-14.58191679]\n",
      "[40.47940636]\n",
      "[2.6972775]\n",
      "[0.0, 0.0]\n"
     ]
    },
    {
     "name": "stderr",
     "output_type": "stream",
     "text": [
      " 81%|████████  | 1866/2300 [8:05:00<1:42:23, 14.16s/it]"
     ]
    },
    {
     "name": "stdout",
     "output_type": "stream",
     "text": [
      "[-13.21541529]\n",
      "[40.41264181]\n",
      "[2.5589712]\n",
      "[0.0, 0.0]\n"
     ]
    },
    {
     "name": "stderr",
     "output_type": "stream",
     "text": [
      " 81%|████████  | 1867/2300 [8:05:14<1:42:40, 14.23s/it]"
     ]
    },
    {
     "name": "stdout",
     "output_type": "stream",
     "text": [
      "[-11.88218562]\n",
      "[40.27942709]\n",
      "[2.520928]\n",
      "[0.0, 0.0]\n"
     ]
    },
    {
     "name": "stderr",
     "output_type": "stream",
     "text": [
      " 81%|████████  | 1868/2300 [8:05:28<1:42:22, 14.22s/it]"
     ]
    },
    {
     "name": "stdout",
     "output_type": "stream",
     "text": [
      "[-10.51568002]\n",
      "[40.21265681]\n",
      "[2.499022]\n",
      "[0.0, 0.0]\n"
     ]
    },
    {
     "name": "stderr",
     "output_type": "stream",
     "text": [
      " 81%|████████▏ | 1869/2300 [8:05:43<1:42:21, 14.25s/it]"
     ]
    },
    {
     "name": "stdout",
     "output_type": "stream",
     "text": [
      "[-9.2158072]\n",
      "[40.11266484]\n",
      "[2.497041]\n",
      "[0.0, 0.0]\n"
     ]
    },
    {
     "name": "stderr",
     "output_type": "stream",
     "text": [
      " 81%|████████▏ | 1870/2300 [8:05:57<1:41:38, 14.18s/it]"
     ]
    },
    {
     "name": "stdout",
     "output_type": "stream",
     "text": [
      "[-7.8825841]\n",
      "[39.97945605]\n",
      "[2.4264135]\n",
      "[0.0, 0.0]\n"
     ]
    },
    {
     "name": "stderr",
     "output_type": "stream",
     "text": [
      " 81%|████████▏ | 1871/2300 [8:06:11<1:41:12, 14.15s/it]"
     ]
    },
    {
     "name": "stdout",
     "output_type": "stream",
     "text": [
      "[-6.58271322]\n",
      "[39.87946594]\n",
      "[2.340276]\n",
      "[0.0, 0.0]\n"
     ]
    },
    {
     "name": "stderr",
     "output_type": "stream",
     "text": [
      " 81%|████████▏ | 1872/2300 [8:06:28<1:46:29, 14.93s/it]"
     ]
    },
    {
     "name": "stdout",
     "output_type": "stream",
     "text": [
      "[-5.31618968]\n",
      "[39.71269877]\n",
      "[2.2978868]\n",
      "[0.0, 0.0]\n"
     ]
    },
    {
     "name": "stderr",
     "output_type": "stream",
     "text": [
      " 81%|████████▏ | 1873/2300 [8:06:44<1:49:08, 15.34s/it]"
     ]
    },
    {
     "name": "stdout",
     "output_type": "stream",
     "text": [
      "[-31.41369016 -33.11349783  -4.08296176]\n",
      "[-9.08243097 -3.78295842 39.57949516]\n",
      "[14.204372  11.709952   2.2986186]\n",
      "[0.0, 0.0]\n",
      "[0.0, 0.0]\n",
      "[0.0, 0.0]\n"
     ]
    },
    {
     "name": "stderr",
     "output_type": "stream",
     "text": [
      " 81%|████████▏ | 1874/2300 [8:06:59<1:49:01, 15.36s/it]"
     ]
    },
    {
     "name": "stdout",
     "output_type": "stream",
     "text": [
      "[-32.41356928  -2.81643489 -29.78027587]\n",
      "[ -2.98303549  39.41272552 -10.61551423]\n",
      "[ 7.716907   2.342657  10.7436695]\n",
      "[0.0, 0.0]\n",
      "[0.0, 0.0]\n",
      "[0.0, 0.0]\n"
     ]
    },
    {
     "name": "stderr",
     "output_type": "stream",
     "text": [
      " 82%|████████▏ | 1875/2300 [8:07:17<1:54:12, 16.12s/it]"
     ]
    },
    {
     "name": "stdout",
     "output_type": "stream",
     "text": [
      "[-31.51366458  -1.61655296 -28.08041256]\n",
      "[ -2.48307804  39.212744   -11.91537605]\n",
      "[6.04466   2.3921678 9.296773 ]\n",
      "[0.0, 0.0]\n",
      "[0.0, 0.0]\n",
      "[0.0, 0.0]\n"
     ]
    },
    {
     "name": "stderr",
     "output_type": "stream",
     "text": [
      " 82%|████████▏ | 1876/2300 [8:07:33<1:53:52, 16.11s/it]"
     ]
    },
    {
     "name": "stdout",
     "output_type": "stream",
     "text": [
      "[-26.18053176 -30.58021718  -0.1833464 ]\n",
      "[-13.0152272   -2.11636099  39.07954512]\n",
      "[9.646174  5.1891146 2.5766726]\n",
      "[0.0, 0.0]\n",
      "[0.0, 0.0]\n",
      "[0.0, 0.0]\n"
     ]
    },
    {
     "name": "stderr",
     "output_type": "stream",
     "text": [
      " 82%|████████▏ | 1877/2300 [8:07:50<1:54:20, 16.22s/it]"
     ]
    },
    {
     "name": "stdout",
     "output_type": "stream",
     "text": [
      "[-24.01452689   1.18317164 -29.48030721]\n",
      "[-14.18179794  38.81278217  -1.81637833]\n",
      "[10.890412   2.7669492  4.756015 ]\n",
      "[0.0, 0.0]\n",
      "[0.0, 0.0]\n",
      "[0.0, 0.0]\n"
     ]
    },
    {
     "name": "stderr",
     "output_type": "stream",
     "text": [
      " 82%|████████▏ | 1878/2300 [8:08:07<1:56:52, 16.62s/it]"
     ]
    },
    {
     "name": "stdout",
     "output_type": "stream",
     "text": [
      "[-20.91493613  -1.61621806  -2.41609318   2.68302451 -28.28040596]\n",
      "[-15.5813659   -8.78304451  -8.18319527  38.51281098  -1.61638407]\n",
      "[17.673452  39.12806   42.708702   2.7057323  4.6524715]\n",
      "[0.0, 0.0]\n",
      "[0.0, 0.0]\n",
      "[0.0, 0.0]\n",
      "[0.0, 0.0]\n",
      "[0.0, 0.0]\n"
     ]
    },
    {
     "name": "stderr",
     "output_type": "stream",
     "text": [
      " 82%|████████▏ | 1879/2300 [8:08:26<2:01:47, 17.36s/it]"
     ]
    },
    {
     "name": "stdout",
     "output_type": "stream",
     "text": [
      "[-18.8150873  -26.71419015 -14.98320917  -0.18403726   4.01624042]\n",
      "[ -2.0831036   -1.4831531  -17.81524651 -11.31580851  38.2796239 ]\n",
      "[ 4.71983    5.144675  12.991137   9.650812   2.5704637]\n",
      "[0.0, 0.0]\n",
      "[0.0, 0.0]\n",
      "[0.0, 0.0]\n",
      "[0.0, 0.0]\n",
      "[0.0, 0.0]\n"
     ]
    },
    {
     "name": "stderr",
     "output_type": "stream",
     "text": [
      " 82%|████████▏ | 1880/2300 [8:08:49<2:12:48, 18.97s/it]"
     ]
    },
    {
     "name": "stdout",
     "output_type": "stream",
     "text": [
      "[-11.81541814 -24.01450783  -0.08407382 -22.08087474   5.41610339]\n",
      "[-18.28179526  -1.3831535  -13.21562494  -1.51626709  37.97965373]\n",
      "[11.611885  14.892217  10.12328   14.564491   2.5062888]\n",
      "[0.0, 0.0]\n",
      "[0.0, 0.0]\n",
      "[0.0, 0.0]\n",
      "[0.0, 0.0]\n",
      "[0.0, 0.0]\n"
     ]
    },
    {
     "name": "stderr",
     "output_type": "stream",
     "text": [
      " 82%|████████▏ | 1881/2300 [8:09:08<2:12:18, 18.95s/it]"
     ]
    },
    {
     "name": "stdout",
     "output_type": "stream",
     "text": [
      "[-8.11586148 -1.11629386  6.71597583]\n",
      "[-18.08157954 -15.08250706  37.67968349]\n",
      "[16.849834  14.456813   2.4677007]\n",
      "[0.0, 0.0]\n",
      "[0.0, 0.0]\n",
      "[0.0, 0.0]\n"
     ]
    },
    {
     "name": "stderr",
     "output_type": "stream",
     "text": [
      " 82%|████████▏ | 1882/2300 [8:09:24<2:06:13, 18.12s/it]"
     ]
    },
    {
     "name": "stdout",
     "output_type": "stream",
     "text": [
      "[8.08249327]\n",
      "[37.31292714]\n",
      "[2.4659648]\n",
      "[0.0, 0.0]\n"
     ]
    },
    {
     "name": "stderr",
     "output_type": "stream",
     "text": [
      " 82%|████████▏ | 1883/2300 [8:09:39<1:57:57, 16.97s/it]"
     ]
    },
    {
     "name": "stdout",
     "output_type": "stream",
     "text": [
      "[9.41571159]\n",
      "[36.97975485]\n",
      "[2.4745126]\n",
      "[0.0, 0.0]\n"
     ]
    },
    {
     "name": "stderr",
     "output_type": "stream",
     "text": [
      " 82%|████████▏ | 1884/2300 [8:09:53<1:51:40, 16.11s/it]"
     ]
    },
    {
     "name": "stdout",
     "output_type": "stream",
     "text": [
      "[10.68223352]\n",
      "[36.61299246]\n",
      "[2.462826]\n",
      "[0.0, 0.0]\n"
     ]
    },
    {
     "name": "stderr",
     "output_type": "stream",
     "text": [
      " 82%|████████▏ | 1885/2300 [8:10:07<1:47:03, 15.48s/it]"
     ]
    },
    {
     "name": "stdout",
     "output_type": "stream",
     "text": [
      "[11.98210399]\n",
      "[36.21303]\n",
      "[2.4301655]\n",
      "[0.0, 0.0]\n"
     ]
    },
    {
     "name": "stderr",
     "output_type": "stream",
     "text": [
      " 82%|████████▏ | 1886/2300 [8:10:21<1:44:15, 15.11s/it]"
     ]
    },
    {
     "name": "stdout",
     "output_type": "stream",
     "text": [
      "[13.21534016]\n",
      "[35.77987823]\n",
      "[2.3979344]\n",
      "[0.0, 0.0]\n"
     ]
    },
    {
     "name": "stderr",
     "output_type": "stream",
     "text": [
      " 82%|████████▏ | 1887/2300 [8:10:35<1:42:20, 14.87s/it]"
     ]
    },
    {
     "name": "stdout",
     "output_type": "stream",
     "text": [
      "[14.41522148]\n",
      "[35.3799177]\n",
      "[2.3832781]\n",
      "[0.0, 0.0]\n"
     ]
    },
    {
     "name": "stderr",
     "output_type": "stream",
     "text": [
      " 82%|████████▏ | 1888/2300 [8:10:50<1:41:12, 14.74s/it]"
     ]
    },
    {
     "name": "stdout",
     "output_type": "stream",
     "text": [
      "[15.6150993]\n",
      "[34.97995633]\n",
      "[2.3521101]\n",
      "[0.0, 0.0]\n"
     ]
    },
    {
     "name": "stderr",
     "output_type": "stream",
     "text": [
      " 82%|████████▏ | 1889/2300 [8:11:04<1:39:28, 14.52s/it]"
     ]
    },
    {
     "name": "stdout",
     "output_type": "stream",
     "text": [
      "[16.81498571]\n",
      "[34.57999446]\n",
      "[2.3372731]\n",
      "[0.0, 0.0]\n"
     ]
    },
    {
     "name": "stderr",
     "output_type": "stream",
     "text": [
      " 82%|████████▏ | 1890/2300 [8:11:18<1:39:07, 14.51s/it]"
     ]
    },
    {
     "name": "stdout",
     "output_type": "stream",
     "text": [
      "[17.91488782]\n",
      "[34.18004285]\n",
      "[2.3460965]\n",
      "[0.0, 0.0]\n"
     ]
    },
    {
     "name": "stderr",
     "output_type": "stream",
     "text": [
      " 82%|████████▏ | 1891/2300 [8:11:32<1:37:50, 14.35s/it]"
     ]
    },
    {
     "name": "stdout",
     "output_type": "stream",
     "text": [
      "[19.11477448]\n",
      "[33.78009072]\n",
      "[2.2743483]\n",
      "[0.0, 0.0]\n"
     ]
    },
    {
     "name": "stderr",
     "output_type": "stream",
     "text": [
      " 82%|████████▏ | 1892/2300 [8:11:46<1:37:09, 14.29s/it]"
     ]
    },
    {
     "name": "stdout",
     "output_type": "stream",
     "text": [
      "[20.11468287]\n",
      "[33.3801377]\n",
      "[2.191688]\n",
      "[0.0, 0.0]\n"
     ]
    },
    {
     "name": "stderr",
     "output_type": "stream",
     "text": [
      " 82%|████████▏ | 1893/2300 [8:12:00<1:36:29, 14.23s/it]"
     ]
    },
    {
     "name": "stdout",
     "output_type": "stream",
     "text": [
      "[21.18116332]\n",
      "[33.01333263]\n",
      "[2.1638486]\n",
      "[0.0, 0.0]\n"
     ]
    },
    {
     "name": "stderr",
     "output_type": "stream",
     "text": [
      " 82%|████████▏ | 1894/2300 [8:12:14<1:36:03, 14.20s/it]"
     ]
    },
    {
     "name": "stdout",
     "output_type": "stream",
     "text": [
      "[22.18105077]\n",
      "[32.61336634]\n",
      "[2.1744256]\n",
      "[0.0, 0.0]\n"
     ]
    },
    {
     "name": "stderr",
     "output_type": "stream",
     "text": [
      " 82%|████████▏ | 1895/2300 [8:12:29<1:35:54, 14.21s/it]"
     ]
    },
    {
     "name": "stdout",
     "output_type": "stream",
     "text": [
      "[23.18093697]\n",
      "[32.21339727]\n",
      "[2.2152653]\n",
      "[0.0, 0.0]\n"
     ]
    },
    {
     "name": "stderr",
     "output_type": "stream",
     "text": [
      " 82%|████████▏ | 1896/2300 [8:12:43<1:36:08, 14.28s/it]"
     ]
    },
    {
     "name": "stdout",
     "output_type": "stream",
     "text": [
      "[24.18081792]\n",
      "[31.81342466]\n",
      "[2.2556717]\n",
      "[0.0, 0.0]\n"
     ]
    },
    {
     "name": "stderr",
     "output_type": "stream",
     "text": [
      " 82%|████████▏ | 1897/2300 [8:12:57<1:35:22, 14.20s/it]"
     ]
    },
    {
     "name": "stdout",
     "output_type": "stream",
     "text": [
      "[25.18068601]\n",
      "[31.41344444]\n",
      "[2.2323866]\n",
      "[0.0, 0.0]\n"
     ]
    },
    {
     "name": "stderr",
     "output_type": "stream",
     "text": [
      " 83%|████████▎ | 1898/2300 [8:13:11<1:35:23, 14.24s/it]"
     ]
    },
    {
     "name": "stdout",
     "output_type": "stream",
     "text": [
      "[26.18053614]\n",
      "[31.01345115]\n",
      "[2.1348934]\n",
      "[0.0, 0.0]\n"
     ]
    },
    {
     "name": "stderr",
     "output_type": "stream",
     "text": [
      " 83%|████████▎ | 1899/2300 [8:13:25<1:34:23, 14.12s/it]"
     ]
    },
    {
     "name": "stdout",
     "output_type": "stream",
     "text": [
      "[27.11407969]\n",
      "[30.68061447]\n",
      "[2.0739377]\n",
      "[0.0, 0.0]\n"
     ]
    },
    {
     "name": "stderr",
     "output_type": "stream",
     "text": [
      " 83%|████████▎ | 1900/2300 [8:13:40<1:34:29, 14.17s/it]"
     ]
    },
    {
     "name": "stdout",
     "output_type": "stream",
     "text": [
      "[-35.71319736]\n",
      "[39.61275404]\n",
      "[3.0271292]\n",
      "[0.0, 0.0]\n"
     ]
    },
    {
     "name": "stderr",
     "output_type": "stream",
     "text": [
      " 83%|████████▎ | 1901/2300 [8:13:54<1:33:55, 14.12s/it]"
     ]
    },
    {
     "name": "stdout",
     "output_type": "stream",
     "text": [
      "[-34.31333492]\n",
      "[39.91272288]\n",
      "[2.8569784]\n",
      "[0.0, 0.0]\n"
     ]
    },
    {
     "name": "stderr",
     "output_type": "stream",
     "text": [
      " 83%|████████▎ | 1902/2300 [8:14:08<1:33:29, 14.09s/it]"
     ]
    },
    {
     "name": "stdout",
     "output_type": "stream",
     "text": [
      "[-33.01346248]\n",
      "[40.11270163]\n",
      "[2.8003776]\n",
      "[0.0, 0.0]\n"
     ]
    },
    {
     "name": "stderr",
     "output_type": "stream",
     "text": [
      " 83%|████████▎ | 1903/2300 [8:14:22<1:33:19, 14.10s/it]"
     ]
    },
    {
     "name": "stdout",
     "output_type": "stream",
     "text": [
      "[-31.68022264]\n",
      "[40.37940678]\n",
      "[2.781221]\n",
      "[0.0, 0.0]\n"
     ]
    },
    {
     "name": "stderr",
     "output_type": "stream",
     "text": [
      " 83%|████████▎ | 1904/2300 [8:14:36<1:32:49, 14.06s/it]"
     ]
    },
    {
     "name": "stdout",
     "output_type": "stream",
     "text": [
      "[-30.28036111]\n",
      "[40.57938781]\n",
      "[2.7942538]\n",
      "[0.0, 0.0]\n"
     ]
    },
    {
     "name": "stderr",
     "output_type": "stream",
     "text": [
      " 83%|████████▎ | 1905/2300 [8:14:50<1:33:48, 14.25s/it]"
     ]
    },
    {
     "name": "stdout",
     "output_type": "stream",
     "text": [
      "[-28.91386628]\n",
      "[40.71263752]\n",
      "[2.825212]\n",
      "[0.0, 0.0]\n"
     ]
    },
    {
     "name": "stderr",
     "output_type": "stream",
     "text": [
      " 83%|████████▎ | 1906/2300 [8:15:05<1:33:37, 14.26s/it]"
     ]
    },
    {
     "name": "stdout",
     "output_type": "stream",
     "text": [
      "[-27.48063855]\n",
      "[40.87935967]\n",
      "[2.8337176]\n",
      "[0.0, 0.0]\n"
     ]
    },
    {
     "name": "stderr",
     "output_type": "stream",
     "text": [
      " 83%|████████▎ | 1907/2300 [8:15:19<1:32:58, 14.19s/it]"
     ]
    },
    {
     "name": "stdout",
     "output_type": "stream",
     "text": [
      "[-26.01415208]\n",
      "[41.01260348]\n",
      "[2.8176184]\n",
      "[0.0, 0.0]\n"
     ]
    },
    {
     "name": "stderr",
     "output_type": "stream",
     "text": [
      " 83%|████████▎ | 1908/2300 [8:15:33<1:32:23, 14.14s/it]"
     ]
    },
    {
     "name": "stdout",
     "output_type": "stream",
     "text": [
      "[-24.58092564]\n",
      "[41.07934195]\n",
      "[2.7396567]\n",
      "[0.0, 0.0]\n"
     ]
    },
    {
     "name": "stderr",
     "output_type": "stream",
     "text": [
      " 83%|████████▎ | 1909/2300 [8:15:47<1:32:06, 14.13s/it]"
     ]
    },
    {
     "name": "stdout",
     "output_type": "stream",
     "text": [
      "[-23.21442892]\n",
      "[41.1125896]\n",
      "[2.7080364]\n",
      "[0.0, 0.0]\n"
     ]
    },
    {
     "name": "stderr",
     "output_type": "stream",
     "text": [
      " 83%|████████▎ | 1910/2300 [8:16:01<1:32:09, 14.18s/it]"
     ]
    },
    {
     "name": "stdout",
     "output_type": "stream",
     "text": [
      "[-21.71457685]\n",
      "[41.21257786]\n",
      "[2.73275]\n",
      "[0.0, 0.0]\n"
     ]
    },
    {
     "name": "stderr",
     "output_type": "stream",
     "text": [
      " 83%|████████▎ | 1911/2300 [8:16:15<1:31:44, 14.15s/it]"
     ]
    },
    {
     "name": "stdout",
     "output_type": "stream",
     "text": [
      "[-20.28135058]\n",
      "[41.17933484]\n",
      "[2.7126465]\n",
      "[0.0, 0.0]\n"
     ]
    },
    {
     "name": "stderr",
     "output_type": "stream",
     "text": [
      " 83%|████████▎ | 1912/2300 [8:16:29<1:31:02, 14.08s/it]"
     ]
    },
    {
     "name": "stdout",
     "output_type": "stream",
     "text": [
      "[-18.88148943]\n",
      "[41.17933525]\n",
      "[2.6156807]\n",
      "[0.0, 0.0]\n"
     ]
    },
    {
     "name": "stderr",
     "output_type": "stream",
     "text": [
      " 83%|████████▎ | 1913/2300 [8:16:43<1:31:14, 14.15s/it]"
     ]
    },
    {
     "name": "stdout",
     "output_type": "stream",
     "text": [
      "[-17.48162859]\n",
      "[41.17933538]\n",
      "[2.5917866]\n",
      "[0.0, 0.0]\n"
     ]
    },
    {
     "name": "stderr",
     "output_type": "stream",
     "text": [
      " 83%|████████▎ | 1914/2300 [8:16:59<1:33:09, 14.48s/it]"
     ]
    },
    {
     "name": "stdout",
     "output_type": "stream",
     "text": [
      "[-16.0817676]\n",
      "[41.17933582]\n",
      "[2.6825013]\n",
      "[0.0, 0.0]\n"
     ]
    },
    {
     "name": "stderr",
     "output_type": "stream",
     "text": [
      " 83%|████████▎ | 1915/2300 [8:17:13<1:31:48, 14.31s/it]"
     ]
    },
    {
     "name": "stdout",
     "output_type": "stream",
     "text": [
      "[-14.68190668]\n",
      "[41.07934623]\n",
      "[2.6322327]\n",
      "[0.0, 0.0]\n"
     ]
    },
    {
     "name": "stderr",
     "output_type": "stream",
     "text": [
      " 83%|████████▎ | 1916/2300 [8:17:27<1:31:12, 14.25s/it]"
     ]
    },
    {
     "name": "stdout",
     "output_type": "stream",
     "text": [
      "[-13.28204529]\n",
      "[41.0793472]\n",
      "[2.5015492]\n",
      "[0.0, 0.0]\n"
     ]
    },
    {
     "name": "stderr",
     "output_type": "stream",
     "text": [
      " 83%|████████▎ | 1917/2300 [8:17:41<1:31:00, 14.26s/it]"
     ]
    },
    {
     "name": "stdout",
     "output_type": "stream",
     "text": [
      "[-11.91554163]\n",
      "[41.01258255]\n",
      "[2.4584043]\n",
      "[0.0, 0.0]\n"
     ]
    },
    {
     "name": "stderr",
     "output_type": "stream",
     "text": [
      " 83%|████████▎ | 1918/2300 [8:17:55<1:30:22, 14.20s/it]"
     ]
    },
    {
     "name": "stdout",
     "output_type": "stream",
     "text": [
      "[-10.61566908]\n",
      "[40.91259053]\n",
      "[2.456688]\n",
      "[0.0, 0.0]\n"
     ]
    },
    {
     "name": "stderr",
     "output_type": "stream",
     "text": [
      " 83%|████████▎ | 1919/2300 [8:18:09<1:29:46, 14.14s/it]"
     ]
    },
    {
     "name": "stdout",
     "output_type": "stream",
     "text": [
      "[-9.28244363]\n",
      "[40.77937647]\n",
      "[2.4692385]\n",
      "[0.0, 0.0]\n"
     ]
    },
    {
     "name": "stderr",
     "output_type": "stream",
     "text": [
      " 83%|████████▎ | 1920/2300 [8:18:23<1:29:21, 14.11s/it]"
     ]
    },
    {
     "name": "stdout",
     "output_type": "stream",
     "text": [
      "[-7.98257291]\n",
      "[40.67938611]\n",
      "[2.3958972]\n",
      "[0.0, 0.0]\n"
     ]
    },
    {
     "name": "stderr",
     "output_type": "stream",
     "text": [
      " 84%|████████▎ | 1921/2300 [8:18:38<1:29:52, 14.23s/it]"
     ]
    },
    {
     "name": "stdout",
     "output_type": "stream",
     "text": [
      "[-6.71605126]\n",
      "[40.51262494]\n",
      "[2.3038173]\n",
      "[0.0, 0.0]\n"
     ]
    },
    {
     "name": "stderr",
     "output_type": "stream",
     "text": [
      " 84%|████████▎ | 1922/2300 [8:18:52<1:29:17, 14.17s/it]"
     ]
    },
    {
     "name": "stdout",
     "output_type": "stream",
     "text": [
      "[-5.48282093]\n",
      "[40.37941546]\n",
      "[2.2579734]\n",
      "[0.0, 0.0]\n"
     ]
    },
    {
     "name": "stderr",
     "output_type": "stream",
     "text": [
      " 84%|████████▎ | 1923/2300 [8:19:07<1:30:27, 14.40s/it]"
     ]
    },
    {
     "name": "stdout",
     "output_type": "stream",
     "text": [
      "[-4.21629612]\n",
      "[40.21265181]\n",
      "[2.2561016]\n",
      "[0.0, 0.0]\n"
     ]
    },
    {
     "name": "stderr",
     "output_type": "stream",
     "text": [
      " 84%|████████▎ | 1924/2300 [8:19:21<1:29:59, 14.36s/it]"
     ]
    },
    {
     "name": "stdout",
     "output_type": "stream",
     "text": [
      "[-2.98306861]\n",
      "[40.07944475]\n",
      "[2.2967243]\n",
      "[0.0, 0.0]\n"
     ]
    },
    {
     "name": "stderr",
     "output_type": "stream",
     "text": [
      " 84%|████████▎ | 1925/2300 [8:19:35<1:29:14, 14.28s/it]"
     ]
    },
    {
     "name": "stdout",
     "output_type": "stream",
     "text": [
      "[-1.71654152]\n",
      "[39.91267906]\n",
      "[2.3420086]\n",
      "[0.0, 0.0]\n"
     ]
    },
    {
     "name": "stderr",
     "output_type": "stream",
     "text": [
      " 84%|████████▎ | 1926/2300 [8:19:51<1:32:33, 14.85s/it]"
     ]
    },
    {
     "name": "stdout",
     "output_type": "stream",
     "text": [
      "[-27.51408778  -0.41666986 -29.98027168]\n",
      "[-10.18229025  39.71269789  -4.51611539]\n",
      "[14.751957   2.4669428 11.875775 ]\n",
      "[0.0, 0.0]\n",
      "[0.0, 0.0]\n",
      "[0.0, 0.0]\n"
     ]
    },
    {
     "name": "stderr",
     "output_type": "stream",
     "text": [
      " 84%|████████▍ | 1927/2300 [8:20:08<1:36:56, 15.59s/it]"
     ]
    },
    {
     "name": "stdout",
     "output_type": "stream",
     "text": [
      "[-25.31434859 -29.11392563   0.91654742]\n",
      "[-11.78209193  -3.58296181  39.47950494]\n",
      "[12.743549   7.6709003  2.6582768]\n",
      "[0.0, 0.0]\n",
      "[0.0, 0.0]\n",
      "[0.0, 0.0]\n"
     ]
    },
    {
     "name": "stderr",
     "output_type": "stream",
     "text": [
      " 84%|████████▍ | 1928/2300 [8:20:25<1:37:52, 15.79s/it]"
     ]
    },
    {
     "name": "stdout",
     "output_type": "stream",
     "text": [
      "[-22.61467182 -27.91405373   2.41639972]\n",
      "[-13.28185198  -2.98301295  39.27952487]\n",
      "[16.034185   6.454093   2.6397593]\n",
      "[0.0, 0.0]\n",
      "[0.0, 0.0]\n",
      "[0.0, 0.0]\n"
     ]
    },
    {
     "name": "stderr",
     "output_type": "stream",
     "text": [
      " 84%|████████▍ | 1929/2300 [8:20:43<1:41:29, 16.42s/it]"
     ]
    },
    {
     "name": "stdout",
     "output_type": "stream",
     "text": [
      "[ -5.31555409  -9.31591568 -18.01517387 -26.51420634   3.78291745\n",
      " -16.37361027  -2.48405887]\n",
      "[ -7.98392279  -6.38175436  -2.98300977  -2.583045    39.01276452\n",
      " -15.91287542 -10.11599689]\n",
      "[32.77223   26.104605   6.8460016  6.489896   2.517958  29.245783\n",
      " 19.62656  ]\n",
      "[0.0, 0.0]\n",
      "[0.0, 0.0]\n",
      "[0.0, 0.0]\n",
      "[0.0, 0.0]\n",
      "[0.0, 0.0]\n",
      "[0.0, 0.0]\n",
      "[0.0, 0.0]\n"
     ]
    },
    {
     "name": "stderr",
     "output_type": "stream",
     "text": [
      " 84%|████████▍ | 1930/2300 [8:21:03<1:48:58, 17.67s/it]"
     ]
    },
    {
     "name": "stdout",
     "output_type": "stream",
     "text": [
      "[-12.01535347  -2.01616925 -21.38093938 -23.98075176   5.11613477]\n",
      "[-16.88198797 -12.48272756  -2.31618498  -2.2162646   38.67958426]\n",
      "[16.778965  13.321786  12.427333  14.532952   2.4719946]\n",
      "[0.0, 0.0]\n",
      "[0.0, 0.0]\n",
      "[0.0, 0.0]\n",
      "[0.0, 0.0]\n",
      "[0.0, 0.0]\n"
     ]
    },
    {
     "name": "stderr",
     "output_type": "stream",
     "text": [
      " 84%|████████▍ | 1931/2300 [8:21:21<1:49:07, 17.74s/it]"
     ]
    },
    {
     "name": "stdout",
     "output_type": "stream",
     "text": [
      "[-3.91614362 -6.98248797  6.4160076 ]\n",
      "[-14.98237356 -16.31503334  38.37961424]\n",
      "[37.87136   35.77598    2.4375415]\n",
      "[0.0, 0.0]\n",
      "[0.0, 0.0]\n",
      "[0.0, 0.0]\n"
     ]
    },
    {
     "name": "stderr",
     "output_type": "stream",
     "text": [
      " 84%|████████▍ | 1932/2300 [8:21:37<1:46:11, 17.31s/it]"
     ]
    },
    {
     "name": "stdout",
     "output_type": "stream",
     "text": [
      "[7.7158799]\n",
      "[38.07964375]\n",
      "[2.3950996]\n",
      "[0.0, 0.0]\n"
     ]
    },
    {
     "name": "stderr",
     "output_type": "stream",
     "text": [
      " 84%|████████▍ | 1933/2300 [8:21:51<1:39:22, 16.25s/it]"
     ]
    },
    {
     "name": "stdout",
     "output_type": "stream",
     "text": [
      "[8.98240499]\n",
      "[37.71289084]\n",
      "[2.410977]\n",
      "[0.0, 0.0]\n"
     ]
    },
    {
     "name": "stderr",
     "output_type": "stream",
     "text": [
      " 84%|████████▍ | 1934/2300 [8:22:05<1:35:17, 15.62s/it]"
     ]
    },
    {
     "name": "stdout",
     "output_type": "stream",
     "text": [
      "[10.31562571]\n",
      "[37.37971559]\n",
      "[2.4062266]\n",
      "[0.0, 0.0]\n"
     ]
    },
    {
     "name": "stderr",
     "output_type": "stream",
     "text": [
      " 84%|████████▍ | 1935/2300 [8:22:20<1:32:30, 15.21s/it]"
     ]
    },
    {
     "name": "stdout",
     "output_type": "stream",
     "text": [
      "[11.58214506]\n",
      "[37.01295561]\n",
      "[2.4045892]\n",
      "[0.0, 0.0]\n"
     ]
    },
    {
     "name": "stderr",
     "output_type": "stream",
     "text": [
      " 84%|████████▍ | 1936/2300 [8:22:34<1:30:16, 14.88s/it]"
     ]
    },
    {
     "name": "stdout",
     "output_type": "stream",
     "text": [
      "[12.81538172]\n",
      "[36.57979835]\n",
      "[2.347002]\n",
      "[0.0, 0.0]\n"
     ]
    },
    {
     "name": "stderr",
     "output_type": "stream",
     "text": [
      " 84%|████████▍ | 1937/2300 [8:22:48<1:28:30, 14.63s/it]"
     ]
    },
    {
     "name": "stdout",
     "output_type": "stream",
     "text": [
      "[14.0152637]\n",
      "[36.17983867]\n",
      "[2.3385885]\n",
      "[0.0, 0.0]\n"
     ]
    },
    {
     "name": "stderr",
     "output_type": "stream",
     "text": [
      " 84%|████████▍ | 1938/2300 [8:23:02<1:27:47, 14.55s/it]"
     ]
    },
    {
     "name": "stdout",
     "output_type": "stream",
     "text": [
      "[15.18179]\n",
      "[35.81306864]\n",
      "[2.3394144]\n",
      "[0.0, 0.0]\n"
     ]
    },
    {
     "name": "stderr",
     "output_type": "stream",
     "text": [
      " 84%|████████▍ | 1939/2300 [8:23:17<1:28:35, 14.72s/it]"
     ]
    },
    {
     "name": "stdout",
     "output_type": "stream",
     "text": [
      "[16.38167277]\n",
      "[35.41310757]\n",
      "[2.308136]\n",
      "[0.0, 0.0]\n"
     ]
    },
    {
     "name": "stderr",
     "output_type": "stream",
     "text": [
      " 84%|████████▍ | 1940/2300 [8:23:31<1:27:20, 14.56s/it]"
     ]
    },
    {
     "name": "stdout",
     "output_type": "stream",
     "text": [
      "[17.48156056]\n",
      "[35.01315085]\n",
      "[2.301071]\n",
      "[0.0, 0.0]\n"
     ]
    },
    {
     "name": "stderr",
     "output_type": "stream",
     "text": [
      " 84%|████████▍ | 1941/2300 [8:23:46<1:26:33, 14.47s/it]"
     ]
    },
    {
     "name": "stdout",
     "output_type": "stream",
     "text": [
      "[18.68143431]\n",
      "[34.61318847]\n",
      "[2.285845]\n",
      "[0.0, 0.0]\n"
     ]
    },
    {
     "name": "stderr",
     "output_type": "stream",
     "text": [
      " 84%|████████▍ | 1942/2300 [8:24:00<1:25:39, 14.36s/it]"
     ]
    },
    {
     "name": "stdout",
     "output_type": "stream",
     "text": [
      "[19.7147224]\n",
      "[34.18005294]\n",
      "[2.2064102]\n",
      "[0.0, 0.0]\n"
     ]
    },
    {
     "name": "stderr",
     "output_type": "stream",
     "text": [
      " 84%|████████▍ | 1943/2300 [8:24:14<1:24:52, 14.26s/it]"
     ]
    },
    {
     "name": "stdout",
     "output_type": "stream",
     "text": [
      "[20.78121175]\n",
      "[33.81326319]\n",
      "[2.1401358]\n",
      "[0.0, 0.0]\n"
     ]
    },
    {
     "name": "stderr",
     "output_type": "stream",
     "text": [
      " 85%|████████▍ | 1944/2300 [8:24:28<1:24:48, 14.29s/it]"
     ]
    },
    {
     "name": "stdout",
     "output_type": "stream",
     "text": [
      "[21.814528]\n",
      "[33.48014099]\n",
      "[2.1319284]\n",
      "[0.0, 0.0]\n"
     ]
    },
    {
     "name": "stderr",
     "output_type": "stream",
     "text": [
      " 85%|████████▍ | 1945/2300 [8:24:42<1:23:41, 14.14s/it]"
     ]
    },
    {
     "name": "stdout",
     "output_type": "stream",
     "text": [
      "[22.78099043]\n",
      "[33.11332121]\n",
      "[2.149511]\n",
      "[0.0, 0.0]\n"
     ]
    },
    {
     "name": "stderr",
     "output_type": "stream",
     "text": [
      " 85%|████████▍ | 1946/2300 [8:24:56<1:23:37, 14.17s/it]"
     ]
    },
    {
     "name": "stdout",
     "output_type": "stream",
     "text": [
      "[23.78087671]\n",
      "[32.71335272]\n",
      "[2.1929066]\n",
      "[0.0, 0.0]\n"
     ]
    },
    {
     "name": "stderr",
     "output_type": "stream",
     "text": [
      " 85%|████████▍ | 1947/2300 [8:25:10<1:23:05, 14.12s/it]"
     ]
    },
    {
     "name": "stdout",
     "output_type": "stream",
     "text": [
      "[24.81425312]\n",
      "[32.38029666]\n",
      "[2.2128558]\n",
      "[0.0, 0.0]\n"
     ]
    },
    {
     "name": "stderr",
     "output_type": "stream",
     "text": [
      " 85%|████████▍ | 1948/2300 [8:25:25<1:24:34, 14.42s/it]"
     ]
    },
    {
     "name": "stdout",
     "output_type": "stream",
     "text": [
      "[25.81416707]\n",
      "[31.98036645]\n",
      "[2.17567]\n",
      "[0.0, 0.0]\n"
     ]
    },
    {
     "name": "stderr",
     "output_type": "stream",
     "text": [
      " 85%|████████▍ | 1949/2300 [8:25:39<1:23:52, 14.34s/it]"
     ]
    },
    {
     "name": "stdout",
     "output_type": "stream",
     "text": [
      "[26.78047621]\n",
      "[31.6133907]\n",
      "[2.0911105]\n",
      "[0.0, 0.0]\n"
     ]
    },
    {
     "name": "stderr",
     "output_type": "stream",
     "text": [
      " 85%|████████▍ | 1950/2300 [8:25:53<1:22:59, 14.23s/it]"
     ]
    },
    {
     "name": "stdout",
     "output_type": "stream",
     "text": [
      "[-35.41322613]\n",
      "[40.41267555]\n",
      "[2.8710852]\n",
      "[0.0, 0.0]\n"
     ]
    },
    {
     "name": "stderr",
     "output_type": "stream",
     "text": [
      " 85%|████████▍ | 1951/2300 [8:26:07<1:22:17, 14.15s/it]"
     ]
    },
    {
     "name": "stdout",
     "output_type": "stream",
     "text": [
      "[-34.07998495]\n",
      "[40.67937648]\n",
      "[2.723134]\n",
      "[0.0, 0.0]\n"
     ]
    },
    {
     "name": "stderr",
     "output_type": "stream",
     "text": [
      " 85%|████████▍ | 1952/2300 [8:26:22<1:22:20, 14.20s/it]"
     ]
    },
    {
     "name": "stdout",
     "output_type": "stream",
     "text": [
      "[-32.7801139]\n",
      "[40.87935697]\n",
      "[2.6905513]\n",
      "[0.0, 0.0]\n"
     ]
    },
    {
     "name": "stderr",
     "output_type": "stream",
     "text": [
      " 85%|████████▍ | 1953/2300 [8:26:36<1:21:46, 14.14s/it]"
     ]
    },
    {
     "name": "stdout",
     "output_type": "stream",
     "text": [
      "[-31.48024275]\n",
      "[41.07933755]\n",
      "[2.705704]\n",
      "[0.0, 0.0]\n"
     ]
    },
    {
     "name": "stderr",
     "output_type": "stream",
     "text": [
      " 85%|████████▍ | 1954/2300 [8:26:50<1:21:24, 14.12s/it]"
     ]
    },
    {
     "name": "stdout",
     "output_type": "stream",
     "text": [
      "[-30.11374722]\n",
      "[41.3125807]\n",
      "[2.700406]\n",
      "[0.0, 0.0]\n"
     ]
    },
    {
     "name": "stderr",
     "output_type": "stream",
     "text": [
      " 85%|████████▌ | 1955/2300 [8:27:04<1:20:58, 14.08s/it]"
     ]
    },
    {
     "name": "stdout",
     "output_type": "stream",
     "text": [
      "[-28.81387542]\n",
      "[41.41256914]\n",
      "[2.7209907]\n",
      "[0.0, 0.0]\n"
     ]
    },
    {
     "name": "stderr",
     "output_type": "stream",
     "text": [
      " 85%|████████▌ | 1956/2300 [8:27:18<1:21:03, 14.14s/it]"
     ]
    },
    {
     "name": "stdout",
     "output_type": "stream",
     "text": [
      "[-27.38064874]\n",
      "[41.57929016]\n",
      "[2.7226958]\n",
      "[0.0, 0.0]\n"
     ]
    },
    {
     "name": "stderr",
     "output_type": "stream",
     "text": [
      " 85%|████████▌ | 1957/2300 [8:27:33<1:21:54, 14.33s/it]"
     ]
    },
    {
     "name": "stdout",
     "output_type": "stream",
     "text": [
      "[-25.9807876]\n",
      "[41.67928091]\n",
      "[2.743546]\n",
      "[0.0, 0.0]\n"
     ]
    },
    {
     "name": "stderr",
     "output_type": "stream",
     "text": [
      " 85%|████████▌ | 1958/2300 [8:27:47<1:21:05, 14.23s/it]"
     ]
    },
    {
     "name": "stdout",
     "output_type": "stream",
     "text": [
      "[-24.51429943]\n",
      "[41.71253343]\n",
      "[2.670344]\n",
      "[0.0, 0.0]\n"
     ]
    },
    {
     "name": "stderr",
     "output_type": "stream",
     "text": [
      " 85%|████████▌ | 1959/2300 [8:28:01<1:20:36, 14.18s/it]"
     ]
    },
    {
     "name": "stdout",
     "output_type": "stream",
     "text": [
      "[-23.11443774]\n",
      "[41.8125219]\n",
      "[2.6605315]\n",
      "[0.0, 0.0]\n"
     ]
    },
    {
     "name": "stderr",
     "output_type": "stream",
     "text": [
      " 85%|████████▌ | 1960/2300 [8:28:15<1:20:38, 14.23s/it]"
     ]
    },
    {
     "name": "stdout",
     "output_type": "stream",
     "text": [
      "[-21.71457584]\n",
      "[41.81252014]\n",
      "[2.712461]\n",
      "[0.0, 0.0]\n"
     ]
    },
    {
     "name": "stderr",
     "output_type": "stream",
     "text": [
      " 85%|████████▌ | 1961/2300 [8:28:29<1:19:58, 14.15s/it]"
     ]
    },
    {
     "name": "stdout",
     "output_type": "stream",
     "text": [
      "[-20.31471397]\n",
      "[41.81251831]\n",
      "[2.666997]\n",
      "[0.0, 0.0]\n"
     ]
    },
    {
     "name": "stderr",
     "output_type": "stream",
     "text": [
      " 85%|████████▌ | 1962/2300 [8:28:43<1:19:30, 14.11s/it]"
     ]
    },
    {
     "name": "stdout",
     "output_type": "stream",
     "text": [
      "[-18.91485181]\n",
      "[41.81251627]\n",
      "[2.571794]\n",
      "[0.0, 0.0]\n"
     ]
    },
    {
     "name": "stderr",
     "output_type": "stream",
     "text": [
      " 85%|████████▌ | 1963/2300 [8:28:58<1:19:39, 14.18s/it]"
     ]
    },
    {
     "name": "stdout",
     "output_type": "stream",
     "text": [
      "[-17.51498931]\n",
      "[41.81251432]\n",
      "[2.5602796]\n",
      "[0.0, 0.0]\n"
     ]
    },
    {
     "name": "stderr",
     "output_type": "stream",
     "text": [
      " 85%|████████▌ | 1964/2300 [8:29:12<1:19:14, 14.15s/it]"
     ]
    },
    {
     "name": "stdout",
     "output_type": "stream",
     "text": [
      "[-16.11512695]\n",
      "[41.81251223]\n",
      "[2.605834]\n",
      "[0.0, 0.0]\n"
     ]
    },
    {
     "name": "stderr",
     "output_type": "stream",
     "text": [
      " 85%|████████▌ | 1965/2300 [8:29:26<1:19:00, 14.15s/it]"
     ]
    },
    {
     "name": "stdout",
     "output_type": "stream",
     "text": [
      "[-14.68190645]\n",
      "[41.7792764]\n",
      "[2.5395129]\n",
      "[0.0, 0.0]\n"
     ]
    },
    {
     "name": "stderr",
     "output_type": "stream",
     "text": [
      " 85%|████████▌ | 1966/2300 [8:29:40<1:19:24, 14.27s/it]"
     ]
    },
    {
     "name": "stdout",
     "output_type": "stream",
     "text": [
      "[-13.38203499]\n",
      "[41.67928712]\n",
      "[2.4522645]\n",
      "[0.0, 0.0]\n"
     ]
    },
    {
     "name": "stderr",
     "output_type": "stream",
     "text": [
      " 86%|████████▌ | 1967/2300 [8:29:55<1:19:18, 14.29s/it]"
     ]
    },
    {
     "name": "stdout",
     "output_type": "stream",
     "text": [
      "[-12.01553079]\n",
      "[41.61252568]\n",
      "[2.4139416]\n",
      "[0.0, 0.0]\n"
     ]
    },
    {
     "name": "stderr",
     "output_type": "stream",
     "text": [
      " 86%|████████▌ | 1968/2300 [8:30:09<1:18:45, 14.23s/it]"
     ]
    },
    {
     "name": "stdout",
     "output_type": "stream",
     "text": [
      "[-10.71565824]\n",
      "[41.51253385]\n",
      "[2.423846]\n",
      "[0.0, 0.0]\n"
     ]
    },
    {
     "name": "stderr",
     "output_type": "stream",
     "text": [
      " 86%|████████▌ | 1969/2300 [8:30:23<1:18:10, 14.17s/it]"
     ]
    },
    {
     "name": "stdout",
     "output_type": "stream",
     "text": [
      "[-9.41578554]\n",
      "[41.41254205]\n",
      "[2.4328823]\n",
      "[0.0, 0.0]\n"
     ]
    },
    {
     "name": "stderr",
     "output_type": "stream",
     "text": [
      " 86%|████████▌ | 1970/2300 [8:30:37<1:18:13, 14.22s/it]"
     ]
    },
    {
     "name": "stdout",
     "output_type": "stream",
     "text": [
      "[-8.11591274]\n",
      "[41.3125504]\n",
      "[2.3703477]\n",
      "[0.0, 0.0]\n"
     ]
    },
    {
     "name": "stderr",
     "output_type": "stream",
     "text": [
      " 86%|████████▌ | 1971/2300 [8:30:51<1:17:51, 14.20s/it]"
     ]
    },
    {
     "name": "stdout",
     "output_type": "stream",
     "text": [
      "[-6.81604036]\n",
      "[41.21255885]\n",
      "[2.2665195]\n",
      "[0.0, 0.0]\n"
     ]
    },
    {
     "name": "stderr",
     "output_type": "stream",
     "text": [
      " 86%|████████▌ | 1972/2300 [8:31:06<1:17:43, 14.22s/it]"
     ]
    },
    {
     "name": "stdout",
     "output_type": "stream",
     "text": [
      "[-5.58280939]\n",
      "[41.07934581]\n",
      "[2.2194967]\n",
      "[0.0, 0.0]\n"
     ]
    },
    {
     "name": "stderr",
     "output_type": "stream",
     "text": [
      " 86%|████████▌ | 1973/2300 [8:31:20<1:17:30, 14.22s/it]"
     ]
    },
    {
     "name": "stdout",
     "output_type": "stream",
     "text": [
      "[-4.41627529]\n",
      "[40.91258625]\n",
      "[2.2221947]\n",
      "[0.0, 0.0]\n"
     ]
    },
    {
     "name": "stderr",
     "output_type": "stream",
     "text": [
      " 86%|████████▌ | 1974/2300 [8:31:37<1:21:25, 14.99s/it]"
     ]
    },
    {
     "name": "stdout",
     "output_type": "stream",
     "text": [
      "[-3.18304717]\n",
      "[40.77937485]\n",
      "[2.2610366]\n",
      "[0.0, 0.0]\n"
     ]
    },
    {
     "name": "stderr",
     "output_type": "stream",
     "text": [
      " 86%|████████▌ | 1975/2300 [8:31:53<1:23:53, 15.49s/it]"
     ]
    },
    {
     "name": "stdout",
     "output_type": "stream",
     "text": [
      "[-1.88317572]\n",
      "[40.57939446]\n",
      "[2.3058605]\n",
      "[0.0, 0.0]\n"
     ]
    },
    {
     "name": "stderr",
     "output_type": "stream",
     "text": [
      " 86%|████████▌ | 1976/2300 [8:32:13<1:30:32, 16.77s/it]"
     ]
    },
    {
     "name": "stdout",
     "output_type": "stream",
     "text": [
      "[-0.61664873]\n",
      "[40.41263249]\n",
      "[2.3796167]\n",
      "[0.0, 0.0]\n"
     ]
    },
    {
     "name": "stderr",
     "output_type": "stream",
     "text": [
      " 86%|████████▌ | 1977/2300 [8:32:29<1:28:18, 16.40s/it]"
     ]
    },
    {
     "name": "stdout",
     "output_type": "stream",
     "text": [
      "[0.68322305]\n",
      "[40.21265139]\n",
      "[2.5214353]\n",
      "[0.0, 0.0]\n"
     ]
    },
    {
     "name": "stderr",
     "output_type": "stream",
     "text": [
      " 86%|████████▌ | 1978/2300 [8:32:45<1:28:08, 16.42s/it]"
     ]
    },
    {
     "name": "stdout",
     "output_type": "stream",
     "text": [
      "[-24.48067961 -27.08051896   2.11643119]\n",
      "[-10.21550056  -5.21602492  39.97945508]\n",
      "[22.720957  14.63606    2.5807035]\n",
      "[0.0, 0.0]\n",
      "[0.0, 0.0]\n",
      "[0.0, 0.0]\n"
     ]
    },
    {
     "name": "stderr",
     "output_type": "stream",
     "text": [
      " 86%|████████▌ | 1979/2300 [8:33:02<1:29:31, 16.73s/it]"
     ]
    },
    {
     "name": "stdout",
     "output_type": "stream",
     "text": [
      "[-25.91426912   3.4829476  -20.18084725 -12.38178413 -16.38139831]\n",
      "[ -4.08289733  39.71269873 -12.61517217  -6.2159768   -4.51593699]\n",
      "[10.326391  2.475032 39.70009  36.72781  26.718225]\n",
      "[0.0, 0.0]\n",
      "[0.0, 0.0]\n",
      "[0.0, 0.0]\n",
      "[0.0, 0.0]\n",
      "[0.0, 0.0]\n"
     ]
    },
    {
     "name": "stderr",
     "output_type": "stream",
     "text": [
      " 86%|████████▌ | 1980/2300 [8:33:21<1:32:22, 17.32s/it]"
     ]
    },
    {
     "name": "stdout",
     "output_type": "stream",
     "text": [
      "[-12.21536757  -4.51584927 -20.81486996   4.78281977 -23.58078854]\n",
      "[-15.08214396 -11.58302401  -3.28296243  39.41272791  -3.41614855]\n",
      "[28.497282  28.923672  15.873808   2.4195487 18.369215 ]\n",
      "[0.0, 0.0]\n",
      "[0.0, 0.0]\n",
      "[0.0, 0.0]\n",
      "[0.0, 0.0]\n",
      "[0.0, 0.0]\n"
     ]
    },
    {
     "name": "stderr",
     "output_type": "stream",
     "text": [
      " 86%|████████▌ | 1981/2300 [8:33:42<1:38:02, 18.44s/it]"
     ]
    },
    {
     "name": "stdout",
     "output_type": "stream",
     "text": [
      "[6.11603891]\n",
      "[39.07954475]\n",
      "[2.4048135]\n",
      "[0.0, 0.0]\n"
     ]
    },
    {
     "name": "stderr",
     "output_type": "stream",
     "text": [
      " 86%|████████▌ | 1982/2300 [8:33:58<1:34:11, 17.77s/it]"
     ]
    },
    {
     "name": "stdout",
     "output_type": "stream",
     "text": [
      "[7.41591147]\n",
      "[38.77957451]\n",
      "[2.3614912]\n",
      "[0.0, 0.0]\n"
     ]
    },
    {
     "name": "stderr",
     "output_type": "stream",
     "text": [
      " 86%|████████▌ | 1983/2300 [8:34:14<1:30:43, 17.17s/it]"
     ]
    },
    {
     "name": "stdout",
     "output_type": "stream",
     "text": [
      "[8.71578415]\n",
      "[38.47960424]\n",
      "[2.356836]\n",
      "[0.0, 0.0]\n"
     ]
    },
    {
     "name": "stderr",
     "output_type": "stream",
     "text": [
      " 86%|████████▋ | 1984/2300 [8:34:29<1:26:01, 16.33s/it]"
     ]
    },
    {
     "name": "stdout",
     "output_type": "stream",
     "text": [
      "[9.98230693]\n",
      "[38.11285431]\n",
      "[2.3744082]\n",
      "[0.0, 0.0]\n"
     ]
    },
    {
     "name": "stderr",
     "output_type": "stream",
     "text": [
      " 86%|████████▋ | 1985/2300 [8:34:43<1:22:05, 15.64s/it]"
     ]
    },
    {
     "name": "stdout",
     "output_type": "stream",
     "text": [
      "[11.21554016]\n",
      "[37.77967678]\n",
      "[2.367051]\n",
      "[0.0, 0.0]\n"
     ]
    },
    {
     "name": "stderr",
     "output_type": "stream",
     "text": [
      " 86%|████████▋ | 1986/2300 [8:34:57<1:19:20, 15.16s/it]"
     ]
    },
    {
     "name": "stdout",
     "output_type": "stream",
     "text": [
      "[12.48205696]\n",
      "[37.41291877]\n",
      "[2.317539]\n",
      "[0.0, 0.0]\n"
     ]
    },
    {
     "name": "stderr",
     "output_type": "stream",
     "text": [
      " 86%|████████▋ | 1987/2300 [8:35:11<1:18:05, 14.97s/it]"
     ]
    },
    {
     "name": "stdout",
     "output_type": "stream",
     "text": [
      "[13.68193759]\n",
      "[37.01295607]\n",
      "[2.2659862]\n",
      "[0.0, 0.0]\n"
     ]
    },
    {
     "name": "stderr",
     "output_type": "stream",
     "text": [
      " 86%|████████▋ | 1988/2300 [8:35:25<1:16:47, 14.77s/it]"
     ]
    },
    {
     "name": "stdout",
     "output_type": "stream",
     "text": [
      "[14.81518566]\n",
      "[36.67978878]\n",
      "[2.304125]\n",
      "[0.0, 0.0]\n"
     ]
    },
    {
     "name": "stderr",
     "output_type": "stream",
     "text": [
      " 86%|████████▋ | 1989/2300 [8:35:40<1:16:05, 14.68s/it]"
     ]
    },
    {
     "name": "stdout",
     "output_type": "stream",
     "text": [
      "[16.01506567]\n",
      "[36.27982682]\n",
      "[2.2846222]\n",
      "[0.0, 0.0]\n"
     ]
    },
    {
     "name": "stderr",
     "output_type": "stream",
     "text": [
      " 87%|████████▋ | 1990/2300 [8:35:56<1:17:58, 15.09s/it]"
     ]
    },
    {
     "name": "stdout",
     "output_type": "stream",
     "text": [
      "[17.11496213]\n",
      "[35.87986821]\n",
      "[2.2654405]\n",
      "[0.0, 0.0]\n"
     ]
    },
    {
     "name": "stderr",
     "output_type": "stream",
     "text": [
      " 87%|████████▋ | 1991/2300 [8:36:10<1:16:02, 14.76s/it]"
     ]
    },
    {
     "name": "stdout",
     "output_type": "stream",
     "text": [
      "[18.28147889]\n",
      "[35.51310324]\n",
      "[2.2469878]\n",
      "[0.0, 0.0]\n"
     ]
    },
    {
     "name": "stderr",
     "output_type": "stream",
     "text": [
      " 87%|████████▋ | 1992/2300 [8:36:24<1:14:45, 14.56s/it]"
     ]
    },
    {
     "name": "stdout",
     "output_type": "stream",
     "text": [
      "[19.38136397]\n",
      "[35.11314116]\n",
      "[2.2172945]\n",
      "[0.0, 0.0]\n"
     ]
    },
    {
     "name": "stderr",
     "output_type": "stream",
     "text": [
      " 87%|████████▋ | 1993/2300 [8:36:38<1:14:02, 14.47s/it]"
     ]
    },
    {
     "name": "stdout",
     "output_type": "stream",
     "text": [
      "[20.41465675]\n",
      "[34.6800056]\n",
      "[2.1436768]\n",
      "[0.0, 0.0]\n"
     ]
    },
    {
     "name": "stderr",
     "output_type": "stream",
     "text": [
      " 87%|████████▋ | 1994/2300 [8:36:53<1:13:26, 14.40s/it]"
     ]
    },
    {
     "name": "stdout",
     "output_type": "stream",
     "text": [
      "[21.38115094]\n",
      "[34.31321716]\n",
      "[2.1027093]\n",
      "[0.0, 0.0]\n"
     ]
    },
    {
     "name": "stderr",
     "output_type": "stream",
     "text": [
      " 87%|████████▋ | 1995/2300 [8:37:07<1:12:44, 14.31s/it]"
     ]
    },
    {
     "name": "stdout",
     "output_type": "stream",
     "text": [
      "[22.41447391]\n",
      "[33.98009403]\n",
      "[2.1014693]\n",
      "[0.0, 0.0]\n"
     ]
    },
    {
     "name": "stderr",
     "output_type": "stream",
     "text": [
      " 87%|████████▋ | 1996/2300 [8:37:21<1:12:49, 14.37s/it]"
     ]
    },
    {
     "name": "stdout",
     "output_type": "stream",
     "text": [
      "[23.41438344]\n",
      "[33.58014604]\n",
      "[2.1311147]\n",
      "[0.0, 0.0]\n"
     ]
    },
    {
     "name": "stderr",
     "output_type": "stream",
     "text": [
      " 87%|████████▋ | 1997/2300 [8:37:35<1:12:11, 14.30s/it]"
     ]
    },
    {
     "name": "stdout",
     "output_type": "stream",
     "text": [
      "[24.41428824]\n",
      "[33.28019]\n",
      "[2.1555338]\n",
      "[0.0, 0.0]\n"
     ]
    },
    {
     "name": "stderr",
     "output_type": "stream",
     "text": [
      " 87%|████████▋ | 1998/2300 [8:37:49<1:11:40, 14.24s/it]"
     ]
    },
    {
     "name": "stdout",
     "output_type": "stream",
     "text": [
      "[25.4142005]\n",
      "[32.88025004]\n",
      "[2.16231]\n",
      "[0.0, 0.0]\n"
     ]
    },
    {
     "name": "stderr",
     "output_type": "stream",
     "text": [
      " 87%|████████▋ | 1999/2300 [8:38:04<1:12:42, 14.49s/it]"
     ]
    },
    {
     "name": "stdout",
     "output_type": "stream",
     "text": [
      "[26.38056427]\n",
      "[32.51334245]\n",
      "[2.1181786]\n",
      "[0.0, 0.0]\n"
     ]
    },
    {
     "name": "stderr",
     "output_type": "stream",
     "text": [
      " 87%|████████▋ | 2000/2300 [8:38:19<1:12:07, 14.42s/it]"
     ]
    },
    {
     "name": "stdout",
     "output_type": "stream",
     "text": [
      "[-35.11325496]\n",
      "[41.212597]\n",
      "[2.7312086]\n",
      "[0.0, 0.0]\n"
     ]
    },
    {
     "name": "stderr",
     "output_type": "stream",
     "text": [
      " 87%|████████▋ | 2001/2300 [8:38:33<1:11:22, 14.32s/it]"
     ]
    },
    {
     "name": "stdout",
     "output_type": "stream",
     "text": [
      "[-33.88000505]\n",
      "[41.47929738]\n",
      "[2.6116989]\n",
      "[0.0, 0.0]\n"
     ]
    },
    {
     "name": "stderr",
     "output_type": "stream",
     "text": [
      " 87%|████████▋ | 2002/2300 [8:38:47<1:11:03, 14.31s/it]"
     ]
    },
    {
     "name": "stdout",
     "output_type": "stream",
     "text": [
      "[-32.58013398]\n",
      "[41.67927795]\n",
      "[2.5787933]\n",
      "[0.0, 0.0]\n"
     ]
    },
    {
     "name": "stderr",
     "output_type": "stream",
     "text": [
      " 87%|████████▋ | 2003/2300 [8:39:01<1:10:25, 14.23s/it]"
     ]
    },
    {
     "name": "stdout",
     "output_type": "stream",
     "text": [
      "[-31.31362838]\n",
      "[41.81253353]\n",
      "[2.6149592]\n",
      "[0.0, 0.0]\n"
     ]
    },
    {
     "name": "stderr",
     "output_type": "stream",
     "text": [
      " 87%|████████▋ | 2004/2300 [8:39:15<1:09:42, 14.13s/it]"
     ]
    },
    {
     "name": "stdout",
     "output_type": "stream",
     "text": [
      "[-29.98039142]\n",
      "[41.97924918]\n",
      "[2.6195433]\n",
      "[0.0, 0.0]\n"
     ]
    },
    {
     "name": "stderr",
     "output_type": "stream",
     "text": [
      " 87%|████████▋ | 2005/2300 [8:39:29<1:09:38, 14.16s/it]"
     ]
    },
    {
     "name": "stdout",
     "output_type": "stream",
     "text": [
      "[-28.61389425]\n",
      "[42.11250092]\n",
      "[2.6132987]\n",
      "[0.0, 0.0]\n"
     ]
    },
    {
     "name": "stderr",
     "output_type": "stream",
     "text": [
      " 87%|████████▋ | 2006/2300 [8:39:43<1:09:07, 14.11s/it]"
     ]
    },
    {
     "name": "stdout",
     "output_type": "stream",
     "text": [
      "[-27.28065869]\n",
      "[42.2792206]\n",
      "[2.6262631]\n",
      "[0.0, 0.0]\n"
     ]
    },
    {
     "name": "stderr",
     "output_type": "stream",
     "text": [
      " 87%|████████▋ | 2007/2300 [8:39:57<1:08:55, 14.11s/it]"
     ]
    },
    {
     "name": "stdout",
     "output_type": "stream",
     "text": [
      "[-25.91415991]\n",
      "[42.31247758]\n",
      "[2.67491]\n",
      "[0.0, 0.0]\n"
     ]
    },
    {
     "name": "stderr",
     "output_type": "stream",
     "text": [
      " 87%|████████▋ | 2008/2300 [8:40:12<1:09:49, 14.35s/it]"
     ]
    },
    {
     "name": "stdout",
     "output_type": "stream",
     "text": [
      "[-24.48093575]\n",
      "[42.37921226]\n",
      "[2.6062765]\n",
      "[0.0, 0.0]\n"
     ]
    },
    {
     "name": "stderr",
     "output_type": "stream",
     "text": [
      " 87%|████████▋ | 2009/2300 [8:40:26<1:09:04, 14.24s/it]"
     ]
    },
    {
     "name": "stdout",
     "output_type": "stream",
     "text": [
      "[-23.11443667]\n",
      "[42.41246429]\n",
      "[2.6250648]\n",
      "[0.0, 0.0]\n"
     ]
    },
    {
     "name": "stderr",
     "output_type": "stream",
     "text": [
      " 87%|████████▋ | 2010/2300 [8:40:40<1:08:16, 14.13s/it]"
     ]
    },
    {
     "name": "stdout",
     "output_type": "stream",
     "text": [
      "[-21.68121178]\n",
      "[42.47920435]\n",
      "[2.6812305]\n",
      "[0.0, 0.0]\n"
     ]
    },
    {
     "name": "stderr",
     "output_type": "stream",
     "text": [
      " 87%|████████▋ | 2011/2300 [8:40:54<1:08:12, 14.16s/it]"
     ]
    },
    {
     "name": "stdout",
     "output_type": "stream",
     "text": [
      "[-20.28135025]\n",
      "[42.47920512]\n",
      "[2.613428]\n",
      "[0.0, 0.0]\n"
     ]
    },
    {
     "name": "stderr",
     "output_type": "stream",
     "text": [
      " 87%|████████▋ | 2012/2300 [8:41:08<1:07:43, 14.11s/it]"
     ]
    },
    {
     "name": "stdout",
     "output_type": "stream",
     "text": [
      "[-18.88148906]\n",
      "[42.47920575]\n",
      "[2.5329235]\n",
      "[0.0, 0.0]\n"
     ]
    },
    {
     "name": "stderr",
     "output_type": "stream",
     "text": [
      " 88%|████████▊ | 2013/2300 [8:41:22<1:07:24, 14.09s/it]"
     ]
    },
    {
     "name": "stdout",
     "output_type": "stream",
     "text": [
      "[-17.5149884]\n",
      "[42.51244681]\n",
      "[2.5439365]\n",
      "[0.0, 0.0]\n"
     ]
    },
    {
     "name": "stderr",
     "output_type": "stream",
     "text": [
      " 88%|████████▊ | 2014/2300 [8:41:37<1:07:29, 14.16s/it]"
     ]
    },
    {
     "name": "stdout",
     "output_type": "stream",
     "text": [
      "[-16.08176718]\n",
      "[42.47920627]\n",
      "[2.546355]\n",
      "[0.0, 0.0]\n"
     ]
    },
    {
     "name": "stderr",
     "output_type": "stream",
     "text": [
      " 88%|████████▊ | 2015/2300 [8:41:51<1:07:04, 14.12s/it]"
     ]
    },
    {
     "name": "stdout",
     "output_type": "stream",
     "text": [
      "[-14.78189617]\n",
      "[42.37921655]\n",
      "[2.486683]\n",
      "[0.0, 0.0]\n"
     ]
    },
    {
     "name": "stderr",
     "output_type": "stream",
     "text": [
      " 88%|████████▊ | 2016/2300 [8:42:05<1:06:57, 14.15s/it]"
     ]
    },
    {
     "name": "stdout",
     "output_type": "stream",
     "text": [
      "[-13.38203454]\n",
      "[42.37921725]\n",
      "[2.4000244]\n",
      "[0.0, 0.0]\n"
     ]
    },
    {
     "name": "stderr",
     "output_type": "stream",
     "text": [
      " 88%|████████▊ | 2017/2300 [8:42:19<1:07:13, 14.25s/it]"
     ]
    },
    {
     "name": "stdout",
     "output_type": "stream",
     "text": [
      "[-12.11551989]\n",
      "[42.31245902]\n",
      "[2.374299]\n",
      "[0.0, 0.0]\n"
     ]
    },
    {
     "name": "stderr",
     "output_type": "stream",
     "text": [
      " 88%|████████▊ | 2018/2300 [8:42:33<1:06:42, 14.19s/it]"
     ]
    },
    {
     "name": "stdout",
     "output_type": "stream",
     "text": [
      "[-10.81564742]\n",
      "[42.21246724]\n",
      "[2.390733]\n",
      "[0.0, 0.0]\n"
     ]
    },
    {
     "name": "stderr",
     "output_type": "stream",
     "text": [
      " 88%|████████▊ | 2019/2300 [8:42:48<1:06:24, 14.18s/it]"
     ]
    },
    {
     "name": "stdout",
     "output_type": "stream",
     "text": [
      "[-9.51577478]\n",
      "[42.11247562]\n",
      "[2.4002976]\n",
      "[0.0, 0.0]\n"
     ]
    },
    {
     "name": "stderr",
     "output_type": "stream",
     "text": [
      " 88%|████████▊ | 2020/2300 [8:43:02<1:06:22, 14.22s/it]"
     ]
    },
    {
     "name": "stdout",
     "output_type": "stream",
     "text": [
      "[-8.21590191]\n",
      "[42.01248421]\n",
      "[2.343399]\n",
      "[0.0, 0.0]\n"
     ]
    },
    {
     "name": "stderr",
     "output_type": "stream",
     "text": [
      " 88%|████████▊ | 2021/2300 [8:43:16<1:05:49, 14.15s/it]"
     ]
    },
    {
     "name": "stdout",
     "output_type": "stream",
     "text": [
      "[-7.0160196]\n",
      "[41.81250258]\n",
      "[2.2503579]\n",
      "[0.0, 0.0]\n"
     ]
    },
    {
     "name": "stderr",
     "output_type": "stream",
     "text": [
      " 88%|████████▊ | 2022/2300 [8:43:30<1:05:26, 14.13s/it]"
     ]
    },
    {
     "name": "stdout",
     "output_type": "stream",
     "text": [
      "[-5.78278813]\n",
      "[41.67928604]\n",
      "[2.1958199]\n",
      "[0.0, 0.0]\n"
     ]
    },
    {
     "name": "stderr",
     "output_type": "stream",
     "text": [
      " 88%|████████▊ | 2023/2300 [8:43:44<1:05:26, 14.18s/it]"
     ]
    },
    {
     "name": "stdout",
     "output_type": "stream",
     "text": [
      "[-4.51626455]\n",
      "[41.61252013]\n",
      "[2.2020721]\n",
      "[0.0, 0.0]\n"
     ]
    },
    {
     "name": "stderr",
     "output_type": "stream",
     "text": [
      " 88%|████████▊ | 2024/2300 [8:43:58<1:05:05, 14.15s/it]"
     ]
    },
    {
     "name": "stdout",
     "output_type": "stream",
     "text": [
      "[-3.31638218]\n",
      "[41.41253868]\n",
      "[2.2490678]\n",
      "[0.0, 0.0]\n"
     ]
    },
    {
     "name": "stderr",
     "output_type": "stream",
     "text": [
      " 88%|████████▊ | 2025/2300 [8:44:13<1:05:32, 14.30s/it]"
     ]
    },
    {
     "name": "stdout",
     "output_type": "stream",
     "text": [
      "[-2.11649997]\n",
      "[41.21255735]\n",
      "[2.2883503]\n",
      "[0.0, 0.0]\n"
     ]
    },
    {
     "name": "stderr",
     "output_type": "stream",
     "text": [
      " 88%|████████▊ | 2026/2300 [8:44:27<1:05:27, 14.33s/it]"
     ]
    },
    {
     "name": "stdout",
     "output_type": "stream",
     "text": [
      "[-0.78328216]\n",
      "[41.07934487]\n",
      "[2.3205657]\n",
      "[0.0, 0.0]\n"
     ]
    },
    {
     "name": "stderr",
     "output_type": "stream",
     "text": [
      " 88%|████████▊ | 2027/2300 [8:44:41<1:04:48, 14.24s/it]"
     ]
    },
    {
     "name": "stdout",
     "output_type": "stream",
     "text": [
      "[0.51659046]\n",
      "[40.87936516]\n",
      "[2.4115021]\n",
      "[0.0, 0.0]\n"
     ]
    },
    {
     "name": "stderr",
     "output_type": "stream",
     "text": [
      " 88%|████████▊ | 2028/2300 [8:44:56<1:04:16, 14.18s/it]"
     ]
    },
    {
     "name": "stdout",
     "output_type": "stream",
     "text": [
      "[1.8164625]\n",
      "[40.67938515]\n",
      "[2.5020304]\n",
      "[0.0, 0.0]\n"
     ]
    },
    {
     "name": "stderr",
     "output_type": "stream",
     "text": [
      " 88%|████████▊ | 2029/2300 [8:45:10<1:04:10, 14.21s/it]"
     ]
    },
    {
     "name": "stdout",
     "output_type": "stream",
     "text": [
      "[3.21632502]\n",
      "[40.37941524]\n",
      "[2.4484377]\n",
      "[0.0, 0.0]\n"
     ]
    },
    {
     "name": "stderr",
     "output_type": "stream",
     "text": [
      " 88%|████████▊ | 2030/2300 [8:45:26<1:06:19, 14.74s/it]"
     ]
    },
    {
     "name": "stdout",
     "output_type": "stream",
     "text": [
      "[ -9.41465948 -22.41465769 -20.31490013 -12.08586387   4.51619738]\n",
      "[-10.28394615  -4.88278776  -4.68281379 -12.51789905  40.07944505]\n",
      "[ 96.19262    40.375134   39.522472  109.37925     2.3738167]\n",
      "[0.0, 0.0]\n",
      "[0.0, 0.0]\n",
      "[0.0, 0.0]\n",
      "[0.0, 0.0]\n",
      "[0.0, 0.0]\n"
     ]
    },
    {
     "name": "stderr",
     "output_type": "stream",
     "text": [
      " 88%|████████▊ | 2031/2300 [8:45:42<1:08:18, 15.24s/it]"
     ]
    },
    {
     "name": "stdout",
     "output_type": "stream",
     "text": [
      "[5.78272199]\n",
      "[39.81269091]\n",
      "[2.344094]\n",
      "[0.0, 0.0]\n"
     ]
    },
    {
     "name": "stderr",
     "output_type": "stream",
     "text": [
      " 88%|████████▊ | 2032/2300 [8:45:56<1:06:45, 14.95s/it]"
     ]
    },
    {
     "name": "stdout",
     "output_type": "stream",
     "text": [
      "[7.08259377]\n",
      "[39.51271992]\n",
      "[2.3282564]\n",
      "[0.0, 0.0]\n"
     ]
    },
    {
     "name": "stderr",
     "output_type": "stream",
     "text": [
      " 88%|████████▊ | 2033/2300 [8:46:10<1:05:18, 14.68s/it]"
     ]
    },
    {
     "name": "stdout",
     "output_type": "stream",
     "text": [
      "[8.31582528]\n",
      "[39.17953488]\n",
      "[2.3237944]\n",
      "[0.0, 0.0]\n"
     ]
    },
    {
     "name": "stderr",
     "output_type": "stream",
     "text": [
      " 88%|████████▊ | 2034/2300 [8:46:25<1:05:14, 14.72s/it]"
     ]
    },
    {
     "name": "stdout",
     "output_type": "stream",
     "text": [
      "[9.61569851]\n",
      "[38.87956506]\n",
      "[2.3445005]\n",
      "[0.0, 0.0]\n"
     ]
    },
    {
     "name": "stderr",
     "output_type": "stream",
     "text": [
      " 88%|████████▊ | 2035/2300 [8:46:40<1:04:38, 14.63s/it]"
     ]
    },
    {
     "name": "stdout",
     "output_type": "stream",
     "text": [
      "[10.8822214]\n",
      "[38.51282025]\n",
      "[2.3430855]\n",
      "[0.0, 0.0]\n"
     ]
    },
    {
     "name": "stderr",
     "output_type": "stream",
     "text": [
      " 89%|████████▊ | 2036/2300 [8:46:54<1:03:42, 14.48s/it]"
     ]
    },
    {
     "name": "stdout",
     "output_type": "stream",
     "text": [
      "[12.11545458]\n",
      "[38.17963725]\n",
      "[2.309537]\n",
      "[0.0, 0.0]\n"
     ]
    },
    {
     "name": "stderr",
     "output_type": "stream",
     "text": [
      " 89%|████████▊ | 2037/2300 [8:47:08<1:02:57, 14.36s/it]"
     ]
    },
    {
     "name": "stdout",
     "output_type": "stream",
     "text": [
      "[13.28197893]\n",
      "[37.81288188]\n",
      "[2.2371016]\n",
      "[0.0, 0.0]\n"
     ]
    },
    {
     "name": "stderr",
     "output_type": "stream",
     "text": [
      " 89%|████████▊ | 2038/2300 [8:47:22<1:02:43, 14.37s/it]"
     ]
    },
    {
     "name": "stdout",
     "output_type": "stream",
     "text": [
      "[14.51521737]\n",
      "[37.47970929]\n",
      "[2.2386894]\n",
      "[0.0, 0.0]\n"
     ]
    },
    {
     "name": "stderr",
     "output_type": "stream",
     "text": [
      " 89%|████████▊ | 2039/2300 [8:47:36<1:02:05, 14.27s/it]"
     ]
    },
    {
     "name": "stdout",
     "output_type": "stream",
     "text": [
      "[15.6151093]\n",
      "[37.07974852]\n",
      "[2.2584403]\n",
      "[0.0, 0.0]\n"
     ]
    },
    {
     "name": "stderr",
     "output_type": "stream",
     "text": [
      " 89%|████████▊ | 2040/2300 [8:47:50<1:01:35, 14.21s/it]"
     ]
    },
    {
     "name": "stdout",
     "output_type": "stream",
     "text": [
      "[16.78163375]\n",
      "[36.71298755]\n",
      "[2.2335832]\n",
      "[0.0, 0.0]\n"
     ]
    },
    {
     "name": "stderr",
     "output_type": "stream",
     "text": [
      " 89%|████████▊ | 2041/2300 [8:48:05<1:01:19, 14.21s/it]"
     ]
    },
    {
     "name": "stdout",
     "output_type": "stream",
     "text": [
      "[17.88152198]\n",
      "[36.31302803]\n",
      "[2.212615]\n",
      "[0.0, 0.0]\n"
     ]
    },
    {
     "name": "stderr",
     "output_type": "stream",
     "text": [
      " 89%|████████▉ | 2042/2300 [8:48:19<1:00:54, 14.16s/it]"
     ]
    },
    {
     "name": "stdout",
     "output_type": "stream",
     "text": [
      "[18.98140851]\n",
      "[35.9130677]\n",
      "[2.205303]\n",
      "[0.0, 0.0]\n"
     ]
    },
    {
     "name": "stderr",
     "output_type": "stream",
     "text": [
      " 89%|████████▉ | 2043/2300 [8:48:33<1:01:18, 14.31s/it]"
     ]
    },
    {
     "name": "stdout",
     "output_type": "stream",
     "text": [
      "[20.01469372]\n",
      "[35.57991096]\n",
      "[2.173809]\n",
      "[0.0, 0.0]\n"
     ]
    },
    {
     "name": "stderr",
     "output_type": "stream",
     "text": [
      " 89%|████████▉ | 2044/2300 [8:48:47<1:00:48, 14.25s/it]"
     ]
    },
    {
     "name": "stdout",
     "output_type": "stream",
     "text": [
      "[21.08118771]\n",
      "[35.21313137]\n",
      "[2.1013534]\n",
      "[0.0, 0.0]\n"
     ]
    },
    {
     "name": "stderr",
     "output_type": "stream",
     "text": [
      " 89%|████████▉ | 2045/2300 [8:49:02<1:00:23, 14.21s/it]"
     ]
    },
    {
     "name": "stdout",
     "output_type": "stream",
     "text": [
      "[22.08107995]\n",
      "[34.81316843]\n",
      "[2.0706668]\n",
      "[0.0, 0.0]\n"
     ]
    },
    {
     "name": "stderr",
     "output_type": "stream",
     "text": [
      " 89%|████████▉ | 2046/2300 [8:49:16<1:00:05, 14.19s/it]"
     ]
    },
    {
     "name": "stdout",
     "output_type": "stream",
     "text": [
      "[23.0809707]\n",
      "[34.51319086]\n",
      "[2.0758955]\n",
      "[0.0, 0.0]\n"
     ]
    },
    {
     "name": "stderr",
     "output_type": "stream",
     "text": [
      " 89%|████████▉ | 2047/2300 [8:49:30<59:50, 14.19s/it]  "
     ]
    },
    {
     "name": "stdout",
     "output_type": "stream",
     "text": [
      "[24.08085945]\n",
      "[34.11322421]\n",
      "[2.103008]\n",
      "[0.0, 0.0]\n"
     ]
    },
    {
     "name": "stderr",
     "output_type": "stream",
     "text": [
      " 89%|████████▉ | 2048/2300 [8:49:44<59:26, 14.15s/it]"
     ]
    },
    {
     "name": "stdout",
     "output_type": "stream",
     "text": [
      "[25.08074533]\n",
      "[33.81324065]\n",
      "[2.113606]\n",
      "[0.0, 0.0]\n"
     ]
    },
    {
     "name": "stderr",
     "output_type": "stream",
     "text": [
      " 89%|████████▉ | 2049/2300 [8:49:58<59:00, 14.11s/it]"
     ]
    },
    {
     "name": "stdout",
     "output_type": "stream",
     "text": [
      "[26.01414802]\n",
      "[33.38020352]\n",
      "[2.107867]\n",
      "[0.0, 0.0]\n"
     ]
    },
    {
     "name": "stderr",
     "output_type": "stream",
     "text": [
      " 89%|████████▉ | 2050/2300 [8:50:12<59:05, 14.18s/it]"
     ]
    },
    {
     "name": "stdout",
     "output_type": "stream",
     "text": [
      "[-34.87990633]\n",
      "[41.97924751]\n",
      "[2.6228611]\n",
      "[0.0, 0.0]\n"
     ]
    },
    {
     "name": "stderr",
     "output_type": "stream",
     "text": [
      " 89%|████████▉ | 2051/2300 [8:50:27<59:12, 14.27s/it]"
     ]
    },
    {
     "name": "stdout",
     "output_type": "stream",
     "text": [
      "[-33.61340184]\n",
      "[42.21249739]\n",
      "[2.5148036]\n",
      "[0.0, 0.0]\n"
     ]
    },
    {
     "name": "stderr",
     "output_type": "stream",
     "text": [
      " 89%|████████▉ | 2052/2300 [8:50:41<58:57, 14.26s/it]"
     ]
    },
    {
     "name": "stdout",
     "output_type": "stream",
     "text": [
      "[-32.38015401]\n",
      "[42.37920877]\n",
      "[2.4918172]\n",
      "[0.0, 0.0]\n"
     ]
    },
    {
     "name": "stderr",
     "output_type": "stream",
     "text": [
      " 89%|████████▉ | 2053/2300 [8:50:55<58:24, 14.19s/it]"
     ]
    },
    {
     "name": "stdout",
     "output_type": "stream",
     "text": [
      "[-31.08028279]\n",
      "[42.57918929]\n",
      "[2.5374987]\n",
      "[0.0, 0.0]\n"
     ]
    },
    {
     "name": "stderr",
     "output_type": "stream",
     "text": [
      " 89%|████████▉ | 2054/2300 [8:51:09<58:20, 14.23s/it]"
     ]
    },
    {
     "name": "stdout",
     "output_type": "stream",
     "text": [
      "[-29.81377527]\n",
      "[42.71244419]\n",
      "[2.5328343]\n",
      "[0.0, 0.0]\n"
     ]
    },
    {
     "name": "stderr",
     "output_type": "stream",
     "text": [
      " 89%|████████▉ | 2055/2300 [8:51:24<58:22, 14.30s/it]"
     ]
    },
    {
     "name": "stdout",
     "output_type": "stream",
     "text": [
      "[-28.51390323]\n",
      "[42.81243299]\n",
      "[2.5178685]\n",
      "[0.0, 0.0]\n"
     ]
    },
    {
     "name": "stderr",
     "output_type": "stream",
     "text": [
      " 89%|████████▉ | 2056/2300 [8:51:38<58:06, 14.29s/it]"
     ]
    },
    {
     "name": "stdout",
     "output_type": "stream",
     "text": [
      "[-27.21403101]\n",
      "[42.91242168]\n",
      "[2.5532486]\n",
      "[0.0, 0.0]\n"
     ]
    },
    {
     "name": "stderr",
     "output_type": "stream",
     "text": [
      " 89%|████████▉ | 2057/2300 [8:51:52<57:45, 14.26s/it]"
     ]
    },
    {
     "name": "stdout",
     "output_type": "stream",
     "text": [
      "[-25.81416861]\n",
      "[43.01240997]\n",
      "[2.610625]\n",
      "[0.0, 0.0]\n"
     ]
    },
    {
     "name": "stderr",
     "output_type": "stream",
     "text": [
      " 89%|████████▉ | 2058/2300 [8:52:07<57:25, 14.24s/it]"
     ]
    },
    {
     "name": "stdout",
     "output_type": "stream",
     "text": [
      "[-24.41430678]\n",
      "[43.11239852]\n",
      "[2.5569642]\n",
      "[0.0, 0.0]\n"
     ]
    },
    {
     "name": "stderr",
     "output_type": "stream",
     "text": [
      " 90%|████████▉ | 2059/2300 [8:52:21<57:12, 14.24s/it]"
     ]
    },
    {
     "name": "stdout",
     "output_type": "stream",
     "text": [
      "[-23.08107339]\n",
      "[43.07914357]\n",
      "[2.5920036]\n",
      "[0.0, 0.0]\n"
     ]
    },
    {
     "name": "stderr",
     "output_type": "stream",
     "text": [
      " 90%|████████▉ | 2060/2300 [8:52:36<58:01, 14.51s/it]"
     ]
    },
    {
     "name": "stdout",
     "output_type": "stream",
     "text": [
      "[-21.68121167]\n",
      "[43.07914447]\n",
      "[2.6538994]\n",
      "[0.0, 0.0]\n"
     ]
    },
    {
     "name": "stderr",
     "output_type": "stream",
     "text": [
      " 90%|████████▉ | 2061/2300 [8:52:53<1:00:19, 15.15s/it]"
     ]
    },
    {
     "name": "stdout",
     "output_type": "stream",
     "text": [
      "[-20.31471177]\n",
      "[43.11239323]\n",
      "[2.5785527]\n",
      "[0.0, 0.0]\n"
     ]
    },
    {
     "name": "stderr",
     "output_type": "stream",
     "text": [
      " 90%|████████▉ | 2062/2300 [8:53:06<58:20, 14.71s/it]  "
     ]
    },
    {
     "name": "stdout",
     "output_type": "stream",
     "text": [
      "[-18.91484971]\n",
      "[43.11239128]\n",
      "[2.509256]\n",
      "[0.0, 0.0]\n"
     ]
    },
    {
     "name": "stderr",
     "output_type": "stream",
     "text": [
      " 90%|████████▉ | 2063/2300 [8:53:21<57:35, 14.58s/it]"
     ]
    },
    {
     "name": "stdout",
     "output_type": "stream",
     "text": [
      "[-17.51498744]\n",
      "[43.11238927]\n",
      "[2.5437448]\n",
      "[0.0, 0.0]\n"
     ]
    },
    {
     "name": "stderr",
     "output_type": "stream",
     "text": [
      " 90%|████████▉ | 2064/2300 [8:53:35<56:53, 14.46s/it]"
     ]
    },
    {
     "name": "stdout",
     "output_type": "stream",
     "text": [
      "[-16.11512491]\n",
      "[43.11238736]\n",
      "[2.5201278]\n",
      "[0.0, 0.0]\n"
     ]
    },
    {
     "name": "stderr",
     "output_type": "stream",
     "text": [
      " 90%|████████▉ | 2065/2300 [8:53:49<56:05, 14.32s/it]"
     ]
    },
    {
     "name": "stdout",
     "output_type": "stream",
     "text": [
      "[-14.78189571]\n",
      "[43.07914675]\n",
      "[2.4395773]\n",
      "[0.0, 0.0]\n"
     ]
    },
    {
     "name": "stderr",
     "output_type": "stream",
     "text": [
      " 90%|████████▉ | 2066/2300 [8:54:03<55:41, 14.28s/it]"
     ]
    },
    {
     "name": "stdout",
     "output_type": "stream",
     "text": [
      "[-13.51538088]\n",
      "[43.0123939]\n",
      "[2.3694632]\n",
      "[0.0, 0.0]\n"
     ]
    },
    {
     "name": "stderr",
     "output_type": "stream",
     "text": [
      " 90%|████████▉ | 2067/2300 [8:54:17<55:03, 14.18s/it]"
     ]
    },
    {
     "name": "stdout",
     "output_type": "stream",
     "text": [
      "[-12.21550903]\n",
      "[42.91240206]\n",
      "[2.3481202]\n",
      "[0.0, 0.0]\n"
     ]
    },
    {
     "name": "stderr",
     "output_type": "stream",
     "text": [
      " 90%|████████▉ | 2068/2300 [8:54:31<54:34, 14.11s/it]"
     ]
    },
    {
     "name": "stdout",
     "output_type": "stream",
     "text": [
      "[-10.88228148]\n",
      "[42.87916771]\n",
      "[2.35973]\n",
      "[0.0, 0.0]\n"
     ]
    },
    {
     "name": "stderr",
     "output_type": "stream",
     "text": [
      " 90%|████████▉ | 2069/2300 [8:54:46<55:23, 14.39s/it]"
     ]
    },
    {
     "name": "stdout",
     "output_type": "stream",
     "text": [
      "[-9.61576405]\n",
      "[42.71241889]\n",
      "[2.3706696]\n",
      "[0.0, 0.0]\n"
     ]
    },
    {
     "name": "stderr",
     "output_type": "stream",
     "text": [
      " 90%|█████████ | 2070/2300 [8:55:00<54:41, 14.27s/it]"
     ]
    },
    {
     "name": "stdout",
     "output_type": "stream",
     "text": [
      "[-8.3825295]\n",
      "[42.57919684]\n",
      "[2.3325968]\n",
      "[0.0, 0.0]\n"
     ]
    },
    {
     "name": "stderr",
     "output_type": "stream",
     "text": [
      " 90%|█████████ | 2071/2300 [8:55:16<56:20, 14.76s/it]"
     ]
    },
    {
     "name": "stdout",
     "output_type": "stream",
     "text": [
      "[-7.11600862]\n",
      "[42.51243636]\n",
      "[2.2367017]\n",
      "[0.0, 0.0]\n"
     ]
    },
    {
     "name": "stderr",
     "output_type": "stream",
     "text": [
      " 90%|█████████ | 2072/2300 [8:55:30<55:35, 14.63s/it]"
     ]
    },
    {
     "name": "stdout",
     "output_type": "stream",
     "text": [
      "[-5.8827769]\n",
      "[42.37921629]\n",
      "[2.171882]\n",
      "[0.0, 0.0]\n"
     ]
    },
    {
     "name": "stderr",
     "output_type": "stream",
     "text": [
      " 90%|█████████ | 2073/2300 [8:55:44<54:17, 14.35s/it]"
     ]
    },
    {
     "name": "stdout",
     "output_type": "stream",
     "text": [
      "[-4.71624415]\n",
      "[42.21246366]\n",
      "[2.1826777]\n",
      "[0.0, 0.0]\n"
     ]
    },
    {
     "name": "stderr",
     "output_type": "stream",
     "text": [
      " 90%|█████████ | 2074/2300 [8:55:58<53:52, 14.31s/it]"
     ]
    },
    {
     "name": "stdout",
     "output_type": "stream",
     "text": [
      "[-3.4830149]\n",
      "[42.07924532]\n",
      "[2.2319744]\n",
      "[0.0, 0.0]\n"
     ]
    },
    {
     "name": "stderr",
     "output_type": "stream",
     "text": [
      " 90%|█████████ | 2075/2300 [8:56:12<53:29, 14.26s/it]"
     ]
    },
    {
     "name": "stdout",
     "output_type": "stream",
     "text": [
      "[-2.21648928]\n",
      "[41.912491]\n",
      "[2.2793431]\n",
      "[0.0, 0.0]\n"
     ]
    },
    {
     "name": "stderr",
     "output_type": "stream",
     "text": [
      " 90%|█████████ | 2076/2300 [8:56:26<53:06, 14.23s/it]"
     ]
    },
    {
     "name": "stdout",
     "output_type": "stream",
     "text": [
      "[-1.01660723]\n",
      "[41.71251025]\n",
      "[2.2807908]\n",
      "[0.0, 0.0]\n"
     ]
    },
    {
     "name": "stderr",
     "output_type": "stream",
     "text": [
      " 90%|█████████ | 2077/2300 [8:56:41<53:04, 14.28s/it]"
     ]
    },
    {
     "name": "stdout",
     "output_type": "stream",
     "text": [
      "[0.28326466]\n",
      "[41.5125296]\n",
      "[2.3290184]\n",
      "[0.0, 0.0]\n"
     ]
    },
    {
     "name": "stderr",
     "output_type": "stream",
     "text": [
      " 90%|█████████ | 2078/2300 [8:56:55<53:03, 14.34s/it]"
     ]
    },
    {
     "name": "stdout",
     "output_type": "stream",
     "text": [
      "[1.58313667]\n",
      "[41.31254833]\n",
      "[2.413927]\n",
      "[0.0, 0.0]\n"
     ]
    },
    {
     "name": "stderr",
     "output_type": "stream",
     "text": [
      " 90%|█████████ | 2079/2300 [8:57:09<52:41, 14.31s/it]"
     ]
    },
    {
     "name": "stdout",
     "output_type": "stream",
     "text": [
      "[2.91635608]\n",
      "[41.07934536]\n",
      "[2.4172084]\n",
      "[0.0, 0.0]\n"
     ]
    },
    {
     "name": "stderr",
     "output_type": "stream",
     "text": [
      " 90%|█████████ | 2080/2300 [8:57:23<52:09, 14.22s/it]"
     ]
    },
    {
     "name": "stdout",
     "output_type": "stream",
     "text": [
      "[4.21622861]\n",
      "[40.77937545]\n",
      "[2.3398376]\n",
      "[0.0, 0.0]\n"
     ]
    },
    {
     "name": "stderr",
     "output_type": "stream",
     "text": [
      " 90%|█████████ | 2081/2300 [8:57:39<53:00, 14.52s/it]"
     ]
    },
    {
     "name": "stdout",
     "output_type": "stream",
     "text": [
      "[5.48275248]\n",
      "[40.51262483]\n",
      "[2.2996602]\n",
      "[0.0, 0.0]\n"
     ]
    },
    {
     "name": "stderr",
     "output_type": "stream",
     "text": [
      " 91%|█████████ | 2082/2300 [8:57:53<52:38, 14.49s/it]"
     ]
    },
    {
     "name": "stdout",
     "output_type": "stream",
     "text": [
      "[6.78262408]\n",
      "[40.21265373]\n",
      "[2.2857134]\n",
      "[0.0, 0.0]\n"
     ]
    },
    {
     "name": "stderr",
     "output_type": "stream",
     "text": [
      " 91%|█████████ | 2083/2300 [8:58:07<51:37, 14.28s/it]"
     ]
    },
    {
     "name": "stdout",
     "output_type": "stream",
     "text": [
      "[7.9825058]\n",
      "[39.91268286]\n",
      "[2.288993]\n",
      "[0.0, 0.0]\n"
     ]
    },
    {
     "name": "stderr",
     "output_type": "stream",
     "text": [
      " 91%|█████████ | 2084/2300 [8:58:21<51:23, 14.27s/it]"
     ]
    },
    {
     "name": "stdout",
     "output_type": "stream",
     "text": [
      "[9.28237767]\n",
      "[39.6127121]\n",
      "[2.3011703]\n",
      "[0.0, 0.0]\n"
     ]
    },
    {
     "name": "stderr",
     "output_type": "stream",
     "text": [
      " 91%|█████████ | 2085/2300 [8:58:35<50:59, 14.23s/it]"
     ]
    },
    {
     "name": "stdout",
     "output_type": "stream",
     "text": [
      "[10.51561192]\n",
      "[39.2795261]\n",
      "[2.3242044]\n",
      "[0.0, 0.0]\n"
     ]
    },
    {
     "name": "stderr",
     "output_type": "stream",
     "text": [
      " 91%|█████████ | 2086/2300 [8:58:50<51:14, 14.37s/it]"
     ]
    },
    {
     "name": "stdout",
     "output_type": "stream",
     "text": [
      "[11.71549581]\n",
      "[38.87956622]\n",
      "[2.3045602]\n",
      "[0.0, 0.0]\n"
     ]
    },
    {
     "name": "stderr",
     "output_type": "stream",
     "text": [
      " 91%|█████████ | 2087/2300 [8:59:04<50:52, 14.33s/it]"
     ]
    },
    {
     "name": "stdout",
     "output_type": "stream",
     "text": [
      "[12.91537761]\n",
      "[38.57959746]\n",
      "[2.2438605]\n",
      "[0.0, 0.0]\n"
     ]
    },
    {
     "name": "stderr",
     "output_type": "stream",
     "text": [
      " 91%|█████████ | 2088/2300 [8:59:18<50:02, 14.16s/it]"
     ]
    },
    {
     "name": "stdout",
     "output_type": "stream",
     "text": [
      "[14.08190097]\n",
      "[38.21284473]\n",
      "[2.1945987]\n",
      "[0.0, 0.0]\n"
     ]
    },
    {
     "name": "stderr",
     "output_type": "stream",
     "text": [
      " 91%|█████████ | 2089/2300 [8:59:32<49:57, 14.21s/it]"
     ]
    },
    {
     "name": "stdout",
     "output_type": "stream",
     "text": [
      "[15.21515086]\n",
      "[37.87966936]\n",
      "[2.2116585]\n",
      "[0.0, 0.0]\n"
     ]
    },
    {
     "name": "stderr",
     "output_type": "stream",
     "text": [
      " 91%|█████████ | 2090/2300 [8:59:46<49:38, 14.18s/it]"
     ]
    },
    {
     "name": "stdout",
     "output_type": "stream",
     "text": [
      "[16.38167478]\n",
      "[37.51291078]\n",
      "[2.2069933]\n",
      "[0.0, 0.0]\n"
     ]
    },
    {
     "name": "stderr",
     "output_type": "stream",
     "text": [
      " 91%|█████████ | 2091/2300 [9:00:00<49:17, 14.15s/it]"
     ]
    },
    {
     "name": "stdout",
     "output_type": "stream",
     "text": [
      "[17.51492786]\n",
      "[37.17973975]\n",
      "[2.1841137]\n",
      "[0.0, 0.0]\n"
     ]
    },
    {
     "name": "stderr",
     "output_type": "stream",
     "text": [
      " 91%|█████████ | 2092/2300 [9:00:15<49:18, 14.22s/it]"
     ]
    },
    {
     "name": "stdout",
     "output_type": "stream",
     "text": [
      "[18.61482527]\n",
      "[36.77978338]\n",
      "[2.1694784]\n",
      "[0.0, 0.0]\n"
     ]
    },
    {
     "name": "stderr",
     "output_type": "stream",
     "text": [
      " 91%|█████████ | 2093/2300 [9:00:29<48:47, 14.14s/it]"
     ]
    },
    {
     "name": "stdout",
     "output_type": "stream",
     "text": [
      "[19.68133836]\n",
      "[36.41302021]\n",
      "[2.1741614]\n",
      "[0.0, 0.0]\n"
     ]
    },
    {
     "name": "stderr",
     "output_type": "stream",
     "text": [
      " 91%|█████████ | 2094/2300 [9:00:43<48:38, 14.17s/it]"
     ]
    },
    {
     "name": "stdout",
     "output_type": "stream",
     "text": [
      "[20.68123372]\n",
      "[36.01305905]\n",
      "[2.1294794]\n",
      "[0.0, 0.0]\n"
     ]
    },
    {
     "name": "stderr",
     "output_type": "stream",
     "text": [
      " 91%|█████████ | 2095/2300 [9:00:58<49:10, 14.39s/it]"
     ]
    },
    {
     "name": "stdout",
     "output_type": "stream",
     "text": [
      "[21.7145368]\n",
      "[35.6799107]\n",
      "[2.0630746]\n",
      "[0.0, 0.0]\n"
     ]
    },
    {
     "name": "stderr",
     "output_type": "stream",
     "text": [
      " 91%|█████████ | 2096/2300 [9:01:12<48:38, 14.30s/it]"
     ]
    },
    {
     "name": "stdout",
     "output_type": "stream",
     "text": [
      "[22.68101975]\n",
      "[35.31312205]\n",
      "[2.045786]\n",
      "[0.0, 0.0]\n"
     ]
    },
    {
     "name": "stderr",
     "output_type": "stream",
     "text": [
      " 91%|█████████ | 2097/2300 [9:01:26<48:15, 14.26s/it]"
     ]
    },
    {
     "name": "stdout",
     "output_type": "stream",
     "text": [
      "[23.71435123]\n",
      "[34.97999918]\n",
      "[2.054596]\n",
      "[0.0, 0.0]\n"
     ]
    },
    {
     "name": "stderr",
     "output_type": "stream",
     "text": [
      " 91%|█████████ | 2098/2300 [9:01:40<47:51, 14.21s/it]"
     ]
    },
    {
     "name": "stdout",
     "output_type": "stream",
     "text": [
      "[24.71425608]\n",
      "[34.68004073]\n",
      "[2.0711234]\n",
      "[0.0, 0.0]\n"
     ]
    },
    {
     "name": "stderr",
     "output_type": "stream",
     "text": [
      " 91%|█████████▏| 2099/2300 [9:01:54<47:32, 14.19s/it]"
     ]
    },
    {
     "name": "stdout",
     "output_type": "stream",
     "text": [
      "[25.68068489]\n",
      "[34.31319524]\n",
      "[2.077717]\n",
      "[0.0, 0.0]\n"
     ]
    },
    {
     "name": "stderr",
     "output_type": "stream",
     "text": [
      " 91%|█████████▏| 2100/2300 [9:02:09<47:26, 14.23s/it]"
     ]
    },
    {
     "name": "stdout",
     "output_type": "stream",
     "text": [
      "[-34.71329328]\n",
      "[42.71244978]\n",
      "[2.5207918]\n",
      "[0.0, 0.0]\n"
     ]
    },
    {
     "name": "stderr",
     "output_type": "stream",
     "text": [
      " 91%|█████████▏| 2101/2300 [9:02:23<46:58, 14.16s/it]"
     ]
    },
    {
     "name": "stdout",
     "output_type": "stream",
     "text": [
      "[-33.48004522]\n",
      "[42.87915906]\n",
      "[2.4378774]\n",
      "[0.0, 0.0]\n"
     ]
    },
    {
     "name": "stderr",
     "output_type": "stream",
     "text": [
      " 91%|█████████▏| 2102/2300 [9:02:37<46:35, 14.12s/it]"
     ]
    },
    {
     "name": "stdout",
     "output_type": "stream",
     "text": [
      "[-32.21353883]\n",
      "[43.11240788]\n",
      "[2.430503]\n",
      "[0.0, 0.0]\n"
     ]
    },
    {
     "name": "stderr",
     "output_type": "stream",
     "text": [
      " 91%|█████████▏| 2103/2300 [9:02:51<46:14, 14.08s/it]"
     ]
    },
    {
     "name": "stdout",
     "output_type": "stream",
     "text": [
      "[-30.98029275]\n",
      "[43.27912007]\n",
      "[2.4728675]\n",
      "[0.0, 0.0]\n"
     ]
    },
    {
     "name": "stderr",
     "output_type": "stream",
     "text": [
      " 91%|█████████▏| 2104/2300 [9:03:06<47:18, 14.48s/it]"
     ]
    },
    {
     "name": "stdout",
     "output_type": "stream",
     "text": [
      "[-29.68042112]\n",
      "[43.37911052]\n",
      "[2.457867]\n",
      "[0.0, 0.0]\n"
     ]
    },
    {
     "name": "stderr",
     "output_type": "stream",
     "text": [
      " 92%|█████████▏| 2105/2300 [9:03:20<46:40, 14.36s/it]"
     ]
    },
    {
     "name": "stdout",
     "output_type": "stream",
     "text": [
      "[-28.38054954]\n",
      "[43.47910101]\n",
      "[2.447746]\n",
      "[0.0, 0.0]\n"
     ]
    },
    {
     "name": "stderr",
     "output_type": "stream",
     "text": [
      " 92%|█████████▏| 2106/2300 [9:03:34<46:08, 14.27s/it]"
     ]
    },
    {
     "name": "stdout",
     "output_type": "stream",
     "text": [
      "[-27.08067826]\n",
      "[43.57909138]\n",
      "[2.4965706]\n",
      "[0.0, 0.0]\n"
     ]
    },
    {
     "name": "stderr",
     "output_type": "stream",
     "text": [
      " 92%|█████████▏| 2107/2300 [9:03:48<45:49, 14.24s/it]"
     ]
    },
    {
     "name": "stdout",
     "output_type": "stream",
     "text": [
      "[-25.71417731]\n",
      "[43.71234242]\n",
      "[2.5626252]\n",
      "[0.0, 0.0]\n"
     ]
    },
    {
     "name": "stderr",
     "output_type": "stream",
     "text": [
      " 92%|█████████▏| 2108/2300 [9:04:03<45:35, 14.25s/it]"
     ]
    },
    {
     "name": "stdout",
     "output_type": "stream",
     "text": [
      "[-24.41430569]\n",
      "[43.71234082]\n",
      "[2.5380523]\n",
      "[0.0, 0.0]\n"
     ]
    },
    {
     "name": "stderr",
     "output_type": "stream",
     "text": [
      " 92%|█████████▏| 2109/2300 [9:04:17<45:00, 14.14s/it]"
     ]
    },
    {
     "name": "stdout",
     "output_type": "stream",
     "text": [
      "[-23.01444418]\n",
      "[43.81232932]\n",
      "[2.56922]\n",
      "[0.0, 0.0]\n"
     ]
    },
    {
     "name": "stderr",
     "output_type": "stream",
     "text": [
      " 92%|█████████▏| 2110/2300 [9:04:31<44:38, 14.10s/it]"
     ]
    },
    {
     "name": "stdout",
     "output_type": "stream",
     "text": [
      "[-21.61458247]\n",
      "[43.81232751]\n",
      "[2.609889]\n",
      "[0.0, 0.0]\n"
     ]
    },
    {
     "name": "stderr",
     "output_type": "stream",
     "text": [
      " 92%|█████████▏| 2111/2300 [9:04:45<44:31, 14.14s/it]"
     ]
    },
    {
     "name": "stdout",
     "output_type": "stream",
     "text": [
      "[-20.28135002]\n",
      "[43.77907551]\n",
      "[2.5536737]\n",
      "[0.0, 0.0]\n"
     ]
    },
    {
     "name": "stderr",
     "output_type": "stream",
     "text": [
      " 92%|█████████▏| 2112/2300 [9:04:59<44:09, 14.09s/it]"
     ]
    },
    {
     "name": "stdout",
     "output_type": "stream",
     "text": [
      "[-18.88148855]\n",
      "[43.77907612]\n",
      "[2.4944956]\n",
      "[0.0, 0.0]\n"
     ]
    },
    {
     "name": "stderr",
     "output_type": "stream",
     "text": [
      " 92%|█████████▏| 2113/2300 [9:05:14<44:49, 14.38s/it]"
     ]
    },
    {
     "name": "stdout",
     "output_type": "stream",
     "text": [
      "[-17.51498631]\n",
      "[43.81232204]\n",
      "[2.5478618]\n",
      "[0.0, 0.0]\n"
     ]
    },
    {
     "name": "stderr",
     "output_type": "stream",
     "text": [
      " 92%|█████████▏| 2114/2300 [9:05:28<44:11, 14.26s/it]"
     ]
    },
    {
     "name": "stdout",
     "output_type": "stream",
     "text": [
      "[-16.18175639]\n",
      "[43.77907673]\n",
      "[2.5160751]\n",
      "[0.0, 0.0]\n"
     ]
    },
    {
     "name": "stderr",
     "output_type": "stream",
     "text": [
      " 92%|█████████▏| 2115/2300 [9:05:42<44:01, 14.28s/it]"
     ]
    },
    {
     "name": "stdout",
     "output_type": "stream",
     "text": [
      "[-14.81525161]\n",
      "[43.71232851]\n",
      "[2.412085]\n",
      "[0.0, 0.0]\n"
     ]
    },
    {
     "name": "stderr",
     "output_type": "stream",
     "text": [
      " 92%|█████████▏| 2116/2300 [9:05:56<43:39, 14.23s/it]"
     ]
    },
    {
     "name": "stdout",
     "output_type": "stream",
     "text": [
      "[-13.58201355]\n",
      "[43.67908729]\n",
      "[2.3390017]\n",
      "[0.0, 0.0]\n"
     ]
    },
    {
     "name": "stderr",
     "output_type": "stream",
     "text": [
      " 92%|█████████▏| 2117/2300 [9:06:10<43:10, 14.16s/it]"
     ]
    },
    {
     "name": "stdout",
     "output_type": "stream",
     "text": [
      "[-12.28214198]\n",
      "[43.57909771]\n",
      "[2.320552]\n",
      "[0.0, 0.0]\n"
     ]
    },
    {
     "name": "stderr",
     "output_type": "stream",
     "text": [
      " 92%|█████████▏| 2118/2300 [9:06:24<42:59, 14.18s/it]"
     ]
    },
    {
     "name": "stdout",
     "output_type": "stream",
     "text": [
      "[-11.01562582]\n",
      "[43.51234377]\n",
      "[2.3341508]\n",
      "[0.0, 0.0]\n"
     ]
    },
    {
     "name": "stderr",
     "output_type": "stream",
     "text": [
      " 92%|█████████▏| 2119/2300 [9:06:39<42:42, 14.16s/it]"
     ]
    },
    {
     "name": "stdout",
     "output_type": "stream",
     "text": [
      "[-9.78238965]\n",
      "[43.37911779]\n",
      "[2.3381715]\n",
      "[0.0, 0.0]\n"
     ]
    },
    {
     "name": "stderr",
     "output_type": "stream",
     "text": [
      " 92%|█████████▏| 2120/2300 [9:06:53<42:38, 14.21s/it]"
     ]
    },
    {
     "name": "stdout",
     "output_type": "stream",
     "text": [
      "[-8.48251852]\n",
      "[43.27912743]\n",
      "[2.3084042]\n",
      "[0.0, 0.0]\n"
     ]
    },
    {
     "name": "stderr",
     "output_type": "stream",
     "text": [
      " 92%|█████████▏| 2121/2300 [9:07:07<42:12, 14.15s/it]"
     ]
    },
    {
     "name": "stdout",
     "output_type": "stream",
     "text": [
      "[-7.18264749]\n",
      "[43.17913687]\n",
      "[2.22838]\n",
      "[0.0, 0.0]\n"
     ]
    },
    {
     "name": "stderr",
     "output_type": "stream",
     "text": [
      " 92%|█████████▏| 2122/2300 [9:07:22<42:55, 14.47s/it]"
     ]
    },
    {
     "name": "stdout",
     "output_type": "stream",
     "text": [
      "[-6.01611577]\n",
      "[43.01238838]\n",
      "[2.1621802]\n",
      "[0.0, 0.0]\n"
     ]
    },
    {
     "name": "stderr",
     "output_type": "stream",
     "text": [
      " 92%|█████████▏| 2123/2300 [9:07:36<42:30, 14.41s/it]"
     ]
    },
    {
     "name": "stdout",
     "output_type": "stream",
     "text": [
      "[-4.81623346]\n",
      "[42.91239727]\n",
      "[2.165069]\n",
      "[0.0, 0.0]\n"
     ]
    },
    {
     "name": "stderr",
     "output_type": "stream",
     "text": [
      " 92%|█████████▏| 2124/2300 [9:07:51<42:01, 14.33s/it]"
     ]
    },
    {
     "name": "stdout",
     "output_type": "stream",
     "text": [
      "[-3.6163508]\n",
      "[42.71241584]\n",
      "[2.2109585]\n",
      "[0.0, 0.0]\n"
     ]
    },
    {
     "name": "stderr",
     "output_type": "stream",
     "text": [
      " 92%|█████████▏| 2125/2300 [9:08:05<41:36, 14.27s/it]"
     ]
    },
    {
     "name": "stdout",
     "output_type": "stream",
     "text": [
      "[-2.38312218]\n",
      "[42.57919548]\n",
      "[2.2620108]\n",
      "[0.0, 0.0]\n"
     ]
    },
    {
     "name": "stderr",
     "output_type": "stream",
     "text": [
      " 92%|█████████▏| 2126/2300 [9:08:19<41:29, 14.31s/it]"
     ]
    },
    {
     "name": "stdout",
     "output_type": "stream",
     "text": [
      "[-1.18324005]\n",
      "[42.37921541]\n",
      "[2.252139]\n",
      "[0.0, 0.0]\n"
     ]
    },
    {
     "name": "stderr",
     "output_type": "stream",
     "text": [
      " 92%|█████████▏| 2127/2300 [9:08:33<40:55, 14.20s/it]"
     ]
    },
    {
     "name": "stdout",
     "output_type": "stream",
     "text": [
      "[0.08328531]\n",
      "[42.21246333]\n",
      "[2.2648768]\n",
      "[0.0, 0.0]\n"
     ]
    },
    {
     "name": "stderr",
     "output_type": "stream",
     "text": [
      " 93%|█████████▎| 2128/2300 [9:08:47<40:45, 14.22s/it]"
     ]
    },
    {
     "name": "stdout",
     "output_type": "stream",
     "text": [
      "[1.38315731]\n",
      "[42.01248212]\n",
      "[2.323021]\n",
      "[0.0, 0.0]\n"
     ]
    },
    {
     "name": "stderr",
     "output_type": "stream",
     "text": [
      " 93%|█████████▎| 2129/2300 [9:09:01<40:21, 14.16s/it]"
     ]
    },
    {
     "name": "stdout",
     "output_type": "stream",
     "text": [
      "[2.71637702]\n",
      "[41.77927567]\n",
      "[2.3580194]\n",
      "[0.0, 0.0]\n"
     ]
    },
    {
     "name": "stderr",
     "output_type": "stream",
     "text": [
      " 93%|█████████▎| 2130/2300 [9:09:15<40:00, 14.12s/it]"
     ]
    },
    {
     "name": "stdout",
     "output_type": "stream",
     "text": [
      "[3.98290104]\n",
      "[41.51252986]\n",
      "[2.306624]\n",
      "[0.0, 0.0]\n"
     ]
    },
    {
     "name": "stderr",
     "output_type": "stream",
     "text": [
      " 93%|█████████▎| 2131/2300 [9:09:30<40:26, 14.36s/it]"
     ]
    },
    {
     "name": "stdout",
     "output_type": "stream",
     "text": [
      "[5.21613184]\n",
      "[41.17933568]\n",
      "[2.2735631]\n",
      "[0.0, 0.0]\n"
     ]
    },
    {
     "name": "stderr",
     "output_type": "stream",
     "text": [
      " 93%|█████████▎| 2132/2300 [9:09:44<40:01, 14.29s/it]"
     ]
    },
    {
     "name": "stdout",
     "output_type": "stream",
     "text": [
      "[6.48265463]\n",
      "[40.91258758]\n",
      "[2.2523715]\n",
      "[0.0, 0.0]\n"
     ]
    },
    {
     "name": "stderr",
     "output_type": "stream",
     "text": [
      " 93%|█████████▎| 2133/2300 [9:09:58<39:35, 14.23s/it]"
     ]
    },
    {
     "name": "stdout",
     "output_type": "stream",
     "text": [
      "[7.71588692]\n",
      "[40.67938635]\n",
      "[2.2484937]\n",
      "[0.0, 0.0]\n"
     ]
    },
    {
     "name": "stderr",
     "output_type": "stream",
     "text": [
      " 93%|█████████▎| 2134/2300 [9:10:13<39:28, 14.27s/it]"
     ]
    },
    {
     "name": "stdout",
     "output_type": "stream",
     "text": [
      "[8.98240774]\n",
      "[40.31264539]\n",
      "[2.2640333]\n",
      "[0.0, 0.0]\n"
     ]
    },
    {
     "name": "stderr",
     "output_type": "stream",
     "text": [
      " 93%|█████████▎| 2135/2300 [9:10:28<39:35, 14.40s/it]"
     ]
    },
    {
     "name": "stdout",
     "output_type": "stream",
     "text": [
      "[10.18228937]\n",
      "[40.01267442]\n",
      "[2.2845838]\n",
      "[0.0, 0.0]\n"
     ]
    },
    {
     "name": "stderr",
     "output_type": "stream",
     "text": [
      " 93%|█████████▎| 2136/2300 [9:10:42<39:06, 14.31s/it]"
     ]
    },
    {
     "name": "stdout",
     "output_type": "stream",
     "text": [
      "[11.41552566]\n",
      "[39.67948698]\n",
      "[2.2942607]\n",
      "[0.0, 0.0]\n"
     ]
    },
    {
     "name": "stderr",
     "output_type": "stream",
     "text": [
      " 93%|█████████▎| 2137/2300 [9:10:56<38:44, 14.26s/it]"
     ]
    },
    {
     "name": "stdout",
     "output_type": "stream",
     "text": [
      "[12.58205177]\n",
      "[39.31274251]\n",
      "[2.242679]\n",
      "[0.0, 0.0]\n"
     ]
    },
    {
     "name": "stderr",
     "output_type": "stream",
     "text": [
      " 93%|█████████▎| 2138/2300 [9:11:10<38:28, 14.25s/it]"
     ]
    },
    {
     "name": "stdout",
     "output_type": "stream",
     "text": [
      "[13.78193266]\n",
      "[39.01276981]\n",
      "[2.1736417]\n",
      "[0.0, 0.0]\n"
     ]
    },
    {
     "name": "stderr",
     "output_type": "stream",
     "text": [
      " 93%|█████████▎| 2139/2300 [9:11:25<38:41, 14.42s/it]"
     ]
    },
    {
     "name": "stdout",
     "output_type": "stream",
     "text": [
      "[14.91518203]\n",
      "[38.6795889]\n",
      "[2.1719797]\n",
      "[0.0, 0.0]\n"
     ]
    },
    {
     "name": "stderr",
     "output_type": "stream",
     "text": [
      " 93%|█████████▎| 2140/2300 [9:11:39<38:21, 14.38s/it]"
     ]
    },
    {
     "name": "stdout",
     "output_type": "stream",
     "text": [
      "[15.98171414]\n",
      "[38.31283567]\n",
      "[2.1712668]\n",
      "[0.0, 0.0]\n"
     ]
    },
    {
     "name": "stderr",
     "output_type": "stream",
     "text": [
      " 93%|█████████▎| 2141/2300 [9:11:53<38:02, 14.35s/it]"
     ]
    },
    {
     "name": "stdout",
     "output_type": "stream",
     "text": [
      "[17.11496753]\n",
      "[37.97965958]\n",
      "[2.1565273]\n",
      "[0.0, 0.0]\n"
     ]
    },
    {
     "name": "stderr",
     "output_type": "stream",
     "text": [
      " 93%|█████████▎| 2142/2300 [9:12:08<37:41, 14.31s/it]"
     ]
    },
    {
     "name": "stdout",
     "output_type": "stream",
     "text": [
      "[18.21486405]\n",
      "[37.57970168]\n",
      "[2.1464584]\n",
      "[0.0, 0.0]\n"
     ]
    },
    {
     "name": "stderr",
     "output_type": "stream",
     "text": [
      " 93%|█████████▎| 2143/2300 [9:12:22<37:06, 14.18s/it]"
     ]
    },
    {
     "name": "stdout",
     "output_type": "stream",
     "text": [
      "[19.28138167]\n",
      "[37.21294534]\n",
      "[2.1567843]\n",
      "[0.0, 0.0]\n"
     ]
    },
    {
     "name": "stderr",
     "output_type": "stream",
     "text": [
      " 93%|█████████▎| 2144/2300 [9:12:36<37:01, 14.24s/it]"
     ]
    },
    {
     "name": "stdout",
     "output_type": "stream",
     "text": [
      "[20.38126837]\n",
      "[36.91297247]\n",
      "[2.1433084]\n",
      "[0.0, 0.0]\n"
     ]
    },
    {
     "name": "stderr",
     "output_type": "stream",
     "text": [
      " 93%|█████████▎| 2145/2300 [9:12:50<36:49, 14.26s/it]"
     ]
    },
    {
     "name": "stdout",
     "output_type": "stream",
     "text": [
      "[21.38116329]\n",
      "[36.51301114]\n",
      "[2.0743248]\n",
      "[0.0, 0.0]\n"
     ]
    },
    {
     "name": "stderr",
     "output_type": "stream",
     "text": [
      " 93%|█████████▎| 2146/2300 [9:13:04<36:10, 14.10s/it]"
     ]
    },
    {
     "name": "stdout",
     "output_type": "stream",
     "text": [
      "[22.41447058]\n",
      "[36.17986332]\n",
      "[2.0296793]\n",
      "[0.0, 0.0]\n"
     ]
    },
    {
     "name": "stderr",
     "output_type": "stream",
     "text": [
      " 93%|█████████▎| 2147/2300 [9:13:18<36:16, 14.23s/it]"
     ]
    },
    {
     "name": "stdout",
     "output_type": "stream",
     "text": [
      "[23.41437566]\n",
      "[35.87990157]\n",
      "[2.0161245]\n",
      "[0.0, 0.0]\n"
     ]
    },
    {
     "name": "stderr",
     "output_type": "stream",
     "text": [
      " 93%|█████████▎| 2148/2300 [9:13:33<36:29, 14.40s/it]"
     ]
    },
    {
     "name": "stdout",
     "output_type": "stream",
     "text": [
      "[24.38084058]\n",
      "[35.513095]\n",
      "[2.030175]\n",
      "[0.0, 0.0]\n"
     ]
    },
    {
     "name": "stderr",
     "output_type": "stream",
     "text": [
      " 93%|█████████▎| 2149/2300 [9:13:47<35:53, 14.26s/it]"
     ]
    },
    {
     "name": "stdout",
     "output_type": "stream",
     "text": [
      "[25.31420148]\n",
      "[35.17999282]\n",
      "[2.0493033]\n",
      "[0.0, 0.0]\n"
     ]
    },
    {
     "name": "stderr",
     "output_type": "stream",
     "text": [
      " 93%|█████████▎| 2150/2300 [9:14:01<35:37, 14.25s/it]"
     ]
    },
    {
     "name": "stdout",
     "output_type": "stream",
     "text": [
      "[-34.47994646]\n",
      "[43.47909965]\n",
      "[2.4275086]\n",
      "[0.0, 0.0]\n"
     ]
    },
    {
     "name": "stderr",
     "output_type": "stream",
     "text": [
      " 94%|█████████▎| 2151/2300 [9:14:16<35:24, 14.26s/it]"
     ]
    },
    {
     "name": "stdout",
     "output_type": "stream",
     "text": [
      "[-33.31343039]\n",
      "[43.61236023]\n",
      "[2.3737257]\n",
      "[0.0, 0.0]\n"
     ]
    },
    {
     "name": "stderr",
     "output_type": "stream",
     "text": [
      " 94%|█████████▎| 2152/2300 [9:14:29<34:44, 14.09s/it]"
     ]
    },
    {
     "name": "stdout",
     "output_type": "stream",
     "text": [
      "[-32.08018397]\n",
      "[43.77907047]\n",
      "[2.3849576]\n",
      "[0.0, 0.0]\n"
     ]
    },
    {
     "name": "stderr",
     "output_type": "stream",
     "text": [
      " 94%|█████████▎| 2153/2300 [9:14:44<34:34, 14.11s/it]"
     ]
    },
    {
     "name": "stdout",
     "output_type": "stream",
     "text": [
      "[-30.81367581]\n",
      "[43.91232854]\n",
      "[2.4087245]\n",
      "[0.0, 0.0]\n"
     ]
    },
    {
     "name": "stderr",
     "output_type": "stream",
     "text": [
      " 94%|█████████▎| 2154/2300 [9:14:58<34:17, 14.09s/it]"
     ]
    },
    {
     "name": "stdout",
     "output_type": "stream",
     "text": [
      "[-29.51380349]\n",
      "[44.112308]\n",
      "[2.3914802]\n",
      "[0.0, 0.0]\n"
     ]
    },
    {
     "name": "stderr",
     "output_type": "stream",
     "text": [
      " 94%|█████████▎| 2155/2300 [9:15:12<33:55, 14.04s/it]"
     ]
    },
    {
     "name": "stdout",
     "output_type": "stream",
     "text": [
      "[-28.28055933]\n",
      "[44.17903163]\n",
      "[2.3867362]\n",
      "[0.0, 0.0]\n"
     ]
    },
    {
     "name": "stderr",
     "output_type": "stream",
     "text": [
      " 94%|█████████▎| 2156/2300 [9:15:26<33:48, 14.09s/it]"
     ]
    },
    {
     "name": "stdout",
     "output_type": "stream",
     "text": [
      "[-26.98068799]\n",
      "[44.27902194]\n",
      "[2.4507358]\n",
      "[0.0, 0.0]\n"
     ]
    },
    {
     "name": "stderr",
     "output_type": "stream",
     "text": [
      " 94%|█████████▍| 2157/2300 [9:15:41<34:04, 14.30s/it]"
     ]
    },
    {
     "name": "stdout",
     "output_type": "stream",
     "text": [
      "[-25.71417647]\n",
      "[44.31228456]\n",
      "[2.528133]\n",
      "[0.0, 0.0]\n"
     ]
    },
    {
     "name": "stderr",
     "output_type": "stream",
     "text": [
      " 94%|█████████▍| 2158/2300 [9:15:54<33:31, 14.17s/it]"
     ]
    },
    {
     "name": "stdout",
     "output_type": "stream",
     "text": [
      "[-24.3143144]\n",
      "[44.41227315]\n",
      "[2.5168443]\n",
      "[0.0, 0.0]\n"
     ]
    },
    {
     "name": "stderr",
     "output_type": "stream",
     "text": [
      " 94%|█████████▍| 2159/2300 [9:16:09<33:16, 14.16s/it]"
     ]
    },
    {
     "name": "stdout",
     "output_type": "stream",
     "text": [
      "[-23.01444311]\n",
      "[44.41227149]\n",
      "[2.5466027]\n",
      "[0.0, 0.0]\n"
     ]
    },
    {
     "name": "stderr",
     "output_type": "stream",
     "text": [
      " 94%|█████████▍| 2160/2300 [9:16:22<32:49, 14.07s/it]"
     ]
    },
    {
     "name": "stdout",
     "output_type": "stream",
     "text": [
      "[-21.61458146]\n",
      "[44.41226971]\n",
      "[2.577308]\n",
      "[0.0, 0.0]\n"
     ]
    },
    {
     "name": "stderr",
     "output_type": "stream",
     "text": [
      " 94%|█████████▍| 2161/2300 [9:16:36<32:36, 14.08s/it]"
     ]
    },
    {
     "name": "stdout",
     "output_type": "stream",
     "text": [
      "[-20.31470973]\n",
      "[44.41226799]\n",
      "[2.547221]\n",
      "[0.0, 0.0]\n"
     ]
    },
    {
     "name": "stderr",
     "output_type": "stream",
     "text": [
      " 94%|█████████▍| 2162/2300 [9:16:51<32:32, 14.15s/it]"
     ]
    },
    {
     "name": "stdout",
     "output_type": "stream",
     "text": [
      "[-18.91484765]\n",
      "[44.41226626]\n",
      "[2.498859]\n",
      "[0.0, 0.0]\n"
     ]
    },
    {
     "name": "stderr",
     "output_type": "stream",
     "text": [
      " 94%|█████████▍| 2163/2300 [9:17:04<31:56, 13.99s/it]"
     ]
    },
    {
     "name": "stdout",
     "output_type": "stream",
     "text": [
      "[-17.58161714]\n",
      "[44.37901666]\n",
      "[2.549327]\n",
      "[0.0, 0.0]\n"
     ]
    },
    {
     "name": "stderr",
     "output_type": "stream",
     "text": [
      " 94%|█████████▍| 2164/2300 [9:17:19<32:07, 14.17s/it]"
     ]
    },
    {
     "name": "stdout",
     "output_type": "stream",
     "text": [
      "[-16.21511305]\n",
      "[44.41226298]\n",
      "[2.510242]\n",
      "[0.0, 0.0]\n"
     ]
    },
    {
     "name": "stderr",
     "output_type": "stream",
     "text": [
      " 94%|█████████▍| 2165/2300 [9:17:33<31:51, 14.16s/it]"
     ]
    },
    {
     "name": "stdout",
     "output_type": "stream",
     "text": [
      "[-14.88188461]\n",
      "[44.37901705]\n",
      "[2.4006934]\n",
      "[0.0, 0.0]\n"
     ]
    },
    {
     "name": "stderr",
     "output_type": "stream",
     "text": [
      " 94%|█████████▍| 2166/2300 [9:17:48<32:10, 14.41s/it]"
     ]
    },
    {
     "name": "stdout",
     "output_type": "stream",
     "text": [
      "[-13.61536878]\n",
      "[44.31227011]\n",
      "[2.3146214]\n",
      "[0.0, 0.0]\n"
     ]
    },
    {
     "name": "stderr",
     "output_type": "stream",
     "text": [
      " 94%|█████████▍| 2167/2300 [9:18:02<31:41, 14.30s/it]"
     ]
    },
    {
     "name": "stdout",
     "output_type": "stream",
     "text": [
      "[-12.415487]\n",
      "[44.2122786]\n",
      "[2.2909334]\n",
      "[0.0, 0.0]\n"
     ]
    },
    {
     "name": "stderr",
     "output_type": "stream",
     "text": [
      " 94%|█████████▍| 2168/2300 [9:18:16<31:25, 14.28s/it]"
     ]
    },
    {
     "name": "stdout",
     "output_type": "stream",
     "text": [
      "[-11.08226006]\n",
      "[44.17903803]\n",
      "[2.3115482]\n",
      "[0.0, 0.0]\n"
     ]
    },
    {
     "name": "stderr",
     "output_type": "stream",
     "text": [
      " 94%|█████████▍| 2169/2300 [9:18:30<31:03, 14.22s/it]"
     ]
    },
    {
     "name": "stdout",
     "output_type": "stream",
     "text": [
      "[-9.88237887]\n",
      "[44.07904815]\n",
      "[2.307582]\n",
      "[0.0, 0.0]\n"
     ]
    },
    {
     "name": "stderr",
     "output_type": "stream",
     "text": [
      " 94%|█████████▍| 2170/2300 [9:18:44<30:40, 14.16s/it]"
     ]
    },
    {
     "name": "stdout",
     "output_type": "stream",
     "text": [
      "[-8.61586042]\n",
      "[43.91230372]\n",
      "[2.2864027]\n",
      "[0.0, 0.0]\n"
     ]
    },
    {
     "name": "stderr",
     "output_type": "stream",
     "text": [
      " 94%|█████████▍| 2171/2300 [9:18:59<30:31, 14.20s/it]"
     ]
    },
    {
     "name": "stdout",
     "output_type": "stream",
     "text": [
      "[-7.38262675]\n",
      "[43.77907741]\n",
      "[2.225105]\n",
      "[0.0, 0.0]\n"
     ]
    },
    {
     "name": "stderr",
     "output_type": "stream",
     "text": [
      " 94%|█████████▍| 2172/2300 [9:19:13<30:02, 14.08s/it]"
     ]
    },
    {
     "name": "stdout",
     "output_type": "stream",
     "text": [
      "[-6.18274533]\n",
      "[43.67908713]\n",
      "[2.154172]\n",
      "[0.0, 0.0]\n"
     ]
    },
    {
     "name": "stderr",
     "output_type": "stream",
     "text": [
      " 94%|█████████▍| 2173/2300 [9:19:27<29:56, 14.15s/it]"
     ]
    },
    {
     "name": "stdout",
     "output_type": "stream",
     "text": [
      "[-5.01621317]\n",
      "[43.51234044]\n",
      "[2.1489353]\n",
      "[0.0, 0.0]\n"
     ]
    },
    {
     "name": "stderr",
     "output_type": "stream",
     "text": [
      " 95%|█████████▍| 2174/2300 [9:19:41<29:40, 14.13s/it]"
     ]
    },
    {
     "name": "stdout",
     "output_type": "stream",
     "text": [
      "[-3.7829824]\n",
      "[43.37911606]\n",
      "[2.1813385]\n",
      "[0.0, 0.0]\n"
     ]
    },
    {
     "name": "stderr",
     "output_type": "stream",
     "text": [
      " 95%|█████████▍| 2175/2300 [9:19:56<30:07, 14.46s/it]"
     ]
    },
    {
     "name": "stdout",
     "output_type": "stream",
     "text": [
      "[-2.58310105]\n",
      "[43.17913574]\n",
      "[2.2345197]\n",
      "[0.0, 0.0]\n"
     ]
    },
    {
     "name": "stderr",
     "output_type": "stream",
     "text": [
      " 95%|█████████▍| 2176/2300 [9:20:10<29:42, 14.38s/it]"
     ]
    },
    {
     "name": "stdout",
     "output_type": "stream",
     "text": [
      "[-1.31657585]\n",
      "[43.01238744]\n",
      "[2.2280493]\n",
      "[0.0, 0.0]\n"
     ]
    },
    {
     "name": "stderr",
     "output_type": "stream",
     "text": [
      " 95%|█████████▍| 2177/2300 [9:20:24<29:15, 14.27s/it]"
     ]
    },
    {
     "name": "stdout",
     "output_type": "stream",
     "text": [
      "[-0.08334658]\n",
      "[42.8791659]\n",
      "[2.222197]\n",
      "[0.0, 0.0]\n"
     ]
    },
    {
     "name": "stderr",
     "output_type": "stream",
     "text": [
      " 95%|█████████▍| 2178/2300 [9:20:38<28:51, 14.19s/it]"
     ]
    },
    {
     "name": "stdout",
     "output_type": "stream",
     "text": [
      "[1.18317783]\n",
      "[42.71241574]\n",
      "[2.2420566]\n",
      "[0.0, 0.0]\n"
     ]
    },
    {
     "name": "stderr",
     "output_type": "stream",
     "text": [
      " 95%|█████████▍| 2179/2300 [9:20:53<28:41, 14.23s/it]"
     ]
    },
    {
     "name": "stdout",
     "output_type": "stream",
     "text": [
      "[2.38305975]\n",
      "[42.41244448]\n",
      "[2.2954721]\n",
      "[0.0, 0.0]\n"
     ]
    },
    {
     "name": "stderr",
     "output_type": "stream",
     "text": [
      " 95%|█████████▍| 2180/2300 [9:21:07<28:21, 14.18s/it]"
     ]
    },
    {
     "name": "stdout",
     "output_type": "stream",
     "text": [
      "[3.71628046]\n",
      "[42.17923623]\n",
      "[2.2724123]\n",
      "[0.0, 0.0]\n"
     ]
    },
    {
     "name": "stderr",
     "output_type": "stream",
     "text": [
      " 95%|█████████▍| 2181/2300 [9:21:21<28:03, 14.14s/it]"
     ]
    },
    {
     "name": "stdout",
     "output_type": "stream",
     "text": [
      "[4.98280344]\n",
      "[41.91249232]\n",
      "[2.2396357]\n",
      "[0.0, 0.0]\n"
     ]
    },
    {
     "name": "stderr",
     "output_type": "stream",
     "text": [
      " 95%|█████████▍| 2182/2300 [9:21:35<27:52, 14.18s/it]"
     ]
    },
    {
     "name": "stdout",
     "output_type": "stream",
     "text": [
      "[6.18268518]\n",
      "[41.61252137]\n",
      "[2.2393794]\n",
      "[0.0, 0.0]\n"
     ]
    },
    {
     "name": "stderr",
     "output_type": "stream",
     "text": [
      " 95%|█████████▍| 2183/2300 [9:21:49<27:21, 14.03s/it]"
     ]
    },
    {
     "name": "stdout",
     "output_type": "stream",
     "text": [
      "[7.41591786]\n",
      "[41.37931656]\n",
      "[2.2233741]\n",
      "[0.0, 0.0]\n"
     ]
    },
    {
     "name": "stderr",
     "output_type": "stream",
     "text": [
      " 95%|█████████▍| 2184/2300 [9:22:04<27:59, 14.48s/it]"
     ]
    },
    {
     "name": "stdout",
     "output_type": "stream",
     "text": [
      "[8.61580026]\n",
      "[41.07934694]\n",
      "[2.2241955]\n",
      "[0.0, 0.0]\n"
     ]
    },
    {
     "name": "stderr",
     "output_type": "stream",
     "text": [
      " 95%|█████████▌| 2185/2300 [9:22:22<29:29, 15.39s/it]"
     ]
    },
    {
     "name": "stdout",
     "output_type": "stream",
     "text": [
      "[9.88231951]\n",
      "[40.81259755]\n",
      "[2.236327]\n",
      "[0.0, 0.0]\n"
     ]
    },
    {
     "name": "stderr",
     "output_type": "stream",
     "text": [
      " 95%|█████████▌| 2186/2300 [9:22:36<28:28, 14.98s/it]"
     ]
    },
    {
     "name": "stdout",
     "output_type": "stream",
     "text": [
      "[11.08220097]\n",
      "[40.41263689]\n",
      "[2.264359]\n",
      "[0.0, 0.0]\n"
     ]
    },
    {
     "name": "stderr",
     "output_type": "stream",
     "text": [
      " 95%|█████████▌| 2187/2300 [9:22:50<27:45, 14.74s/it]"
     ]
    },
    {
     "name": "stdout",
     "output_type": "stream",
     "text": [
      "[12.28208219]\n",
      "[40.11266594]\n",
      "[2.2384052]\n",
      "[0.0, 0.0]\n"
     ]
    },
    {
     "name": "stderr",
     "output_type": "stream",
     "text": [
      " 95%|█████████▌| 2188/2300 [9:23:04<27:03, 14.50s/it]"
     ]
    },
    {
     "name": "stdout",
     "output_type": "stream",
     "text": [
      "[13.41533102]\n",
      "[39.77947778]\n",
      "[2.1708717]\n",
      "[0.0, 0.0]\n"
     ]
    },
    {
     "name": "stderr",
     "output_type": "stream",
     "text": [
      " 95%|█████████▌| 2189/2300 [9:23:18<26:34, 14.37s/it]"
     ]
    },
    {
     "name": "stdout",
     "output_type": "stream",
     "text": [
      "[14.58185449]\n",
      "[39.41273262]\n",
      "[2.13917]\n",
      "[0.0, 0.0]\n"
     ]
    },
    {
     "name": "stderr",
     "output_type": "stream",
     "text": [
      " 95%|█████████▌| 2190/2300 [9:23:32<26:20, 14.37s/it]"
     ]
    },
    {
     "name": "stdout",
     "output_type": "stream",
     "text": [
      "[15.68174511]\n",
      "[39.1127607]\n",
      "[2.1350977]\n",
      "[0.0, 0.0]\n"
     ]
    },
    {
     "name": "stderr",
     "output_type": "stream",
     "text": [
      " 95%|█████████▌| 2191/2300 [9:23:47<25:58, 14.30s/it]"
     ]
    },
    {
     "name": "stdout",
     "output_type": "stream",
     "text": [
      "[16.81499842]\n",
      "[38.77957997]\n",
      "[2.1199462]\n",
      "[0.0, 0.0]\n"
     ]
    },
    {
     "name": "stderr",
     "output_type": "stream",
     "text": [
      " 95%|█████████▌| 2192/2300 [9:24:01<25:36, 14.22s/it]"
     ]
    },
    {
     "name": "stdout",
     "output_type": "stream",
     "text": [
      "[17.88152608]\n",
      "[38.41282938]\n",
      "[2.1126747]\n",
      "[0.0, 0.0]\n"
     ]
    },
    {
     "name": "stderr",
     "output_type": "stream",
     "text": [
      " 95%|█████████▌| 2193/2300 [9:24:16<25:50, 14.49s/it]"
     ]
    },
    {
     "name": "stdout",
     "output_type": "stream",
     "text": [
      "[18.91479866]\n",
      "[38.07965388]\n",
      "[2.1293325]\n",
      "[0.0, 0.0]\n"
     ]
    },
    {
     "name": "stderr",
     "output_type": "stream",
     "text": [
      " 95%|█████████▌| 2194/2300 [9:24:29<25:11, 14.26s/it]"
     ]
    },
    {
     "name": "stdout",
     "output_type": "stream",
     "text": [
      "[20.01469509]\n",
      "[37.67969778]\n",
      "[2.1429067]\n",
      "[0.0, 0.0]\n"
     ]
    },
    {
     "name": "stderr",
     "output_type": "stream",
     "text": [
      " 95%|█████████▌| 2195/2300 [9:24:44<24:54, 14.23s/it]"
     ]
    },
    {
     "name": "stdout",
     "output_type": "stream",
     "text": [
      "[21.08119792]\n",
      "[37.31293579]\n",
      "[2.0849009]\n",
      "[0.0, 0.0]\n"
     ]
    },
    {
     "name": "stderr",
     "output_type": "stream",
     "text": [
      " 95%|█████████▌| 2196/2300 [9:24:58<24:36, 14.20s/it]"
     ]
    },
    {
     "name": "stdout",
     "output_type": "stream",
     "text": [
      "[22.08109288]\n",
      "[37.01296284]\n",
      "[2.0220106]\n",
      "[0.0, 0.0]\n"
     ]
    },
    {
     "name": "stderr",
     "output_type": "stream",
     "text": [
      " 96%|█████████▌| 2197/2300 [9:25:12<24:18, 14.16s/it]"
     ]
    },
    {
     "name": "stdout",
     "output_type": "stream",
     "text": [
      "[23.08098702]\n",
      "[36.71298858]\n",
      "[1.9918983]\n",
      "[0.0, 0.0]\n"
     ]
    },
    {
     "name": "stderr",
     "output_type": "stream",
     "text": [
      " 96%|█████████▌| 2198/2300 [9:25:26<24:03, 14.15s/it]"
     ]
    },
    {
     "name": "stdout",
     "output_type": "stream",
     "text": [
      "[24.01432044]\n",
      "[36.37985323]\n",
      "[1.9865373]\n",
      "[0.0, 0.0]\n"
     ]
    },
    {
     "name": "stderr",
     "output_type": "stream",
     "text": [
      " 96%|█████████▌| 2199/2300 [9:25:40<23:49, 14.15s/it]"
     ]
    },
    {
     "name": "stdout",
     "output_type": "stream",
     "text": [
      "[24.98078099]\n",
      "[36.01304871]\n",
      "[2.0095716]\n",
      "[0.0, 0.0]\n"
     ]
    },
    {
     "name": "stderr",
     "output_type": "stream",
     "text": [
      " 96%|█████████▌| 2200/2300 [9:25:54<23:37, 14.17s/it]"
     ]
    },
    {
     "name": "stdout",
     "output_type": "stream",
     "text": [
      "[-34.31333172]\n",
      "[44.21230263]\n",
      "[2.3620884]\n",
      "[0.0, 0.0]\n"
     ]
    },
    {
     "name": "stderr",
     "output_type": "stream",
     "text": [
      " 96%|█████████▌| 2201/2300 [9:26:09<23:25, 14.20s/it]"
     ]
    },
    {
     "name": "stdout",
     "output_type": "stream",
     "text": [
      "[-33.11344954]\n",
      "[44.31229171]\n",
      "[2.3342016]\n",
      "[0.0, 0.0]\n"
     ]
    },
    {
     "name": "stderr",
     "output_type": "stream",
     "text": [
      " 96%|█████████▌| 2202/2300 [9:26:23<23:14, 14.23s/it]"
     ]
    },
    {
     "name": "stdout",
     "output_type": "stream",
     "text": [
      "[-31.88020383]\n",
      "[44.47900132]\n",
      "[2.341712]\n",
      "[0.0, 0.0]\n"
     ]
    },
    {
     "name": "stderr",
     "output_type": "stream",
     "text": [
      " 96%|█████████▌| 2203/2300 [9:26:37<22:59, 14.22s/it]"
     ]
    },
    {
     "name": "stdout",
     "output_type": "stream",
     "text": [
      "[-30.68032237]\n",
      "[44.57899169]\n",
      "[2.348296]\n",
      "[0.0, 0.0]\n"
     ]
    },
    {
     "name": "stderr",
     "output_type": "stream",
     "text": [
      " 96%|█████████▌| 2204/2300 [9:26:51<22:33, 14.10s/it]"
     ]
    },
    {
     "name": "stdout",
     "output_type": "stream",
     "text": [
      "[-29.41381291]\n",
      "[44.71224951]\n",
      "[2.3478153]\n",
      "[0.0, 0.0]\n"
     ]
    },
    {
     "name": "stderr",
     "output_type": "stream",
     "text": [
      " 96%|█████████▌| 2205/2300 [9:27:05<22:20, 14.11s/it]"
     ]
    },
    {
     "name": "stdout",
     "output_type": "stream",
     "text": [
      "[-28.18056916]\n",
      "[44.87896247]\n",
      "[2.3406186]\n",
      "[0.0, 0.0]\n"
     ]
    },
    {
     "name": "stderr",
     "output_type": "stream",
     "text": [
      " 96%|█████████▌| 2206/2300 [9:27:19<22:10, 14.15s/it]"
     ]
    },
    {
     "name": "stdout",
     "output_type": "stream",
     "text": [
      "[-26.91405817]\n",
      "[44.91222787]\n",
      "[2.4195318]\n",
      "[0.0, 0.0]\n"
     ]
    },
    {
     "name": "stderr",
     "output_type": "stream",
     "text": [
      " 96%|█████████▌| 2207/2300 [9:27:34<22:05, 14.25s/it]"
     ]
    },
    {
     "name": "stdout",
     "output_type": "stream",
     "text": [
      "[-25.6141855]\n",
      "[45.01221664]\n",
      "[2.479975]\n",
      "[0.0, 0.0]\n"
     ]
    },
    {
     "name": "stderr",
     "output_type": "stream",
     "text": [
      " 96%|█████████▌| 2208/2300 [9:27:48<21:53, 14.27s/it]"
     ]
    },
    {
     "name": "stdout",
     "output_type": "stream",
     "text": [
      "[-24.28095547]\n",
      "[45.07894303]\n",
      "[2.4850566]\n",
      "[0.0, 0.0]\n"
     ]
    },
    {
     "name": "stderr",
     "output_type": "stream",
     "text": [
      " 96%|█████████▌| 2209/2300 [9:28:02<21:22, 14.10s/it]"
     ]
    },
    {
     "name": "stdout",
     "output_type": "stream",
     "text": [
      "[-22.98108345]\n",
      "[45.0789441]\n",
      "[2.520553]\n",
      "[0.0, 0.0]\n"
     ]
    },
    {
     "name": "stderr",
     "output_type": "stream",
     "text": [
      " 96%|█████████▌| 2210/2300 [9:28:17<21:29, 14.33s/it]"
     ]
    },
    {
     "name": "stdout",
     "output_type": "stream",
     "text": [
      "[-21.61458034]\n",
      "[45.11220221]\n",
      "[2.5577474]\n",
      "[0.0, 0.0]\n"
     ]
    },
    {
     "name": "stderr",
     "output_type": "stream",
     "text": [
      " 96%|█████████▌| 2211/2300 [9:28:31<21:10, 14.27s/it]"
     ]
    },
    {
     "name": "stdout",
     "output_type": "stream",
     "text": [
      "[-20.28134976]\n",
      "[45.07894594]\n",
      "[2.5459447]\n",
      "[0.0, 0.0]\n"
     ]
    },
    {
     "name": "stderr",
     "output_type": "stream",
     "text": [
      " 96%|█████████▌| 2212/2300 [9:28:45<20:49, 14.20s/it]"
     ]
    },
    {
     "name": "stdout",
     "output_type": "stream",
     "text": [
      "[-18.91484661]\n",
      "[45.11219889]\n",
      "[2.5098352]\n",
      "[0.0, 0.0]\n"
     ]
    },
    {
     "name": "stderr",
     "output_type": "stream",
     "text": [
      " 96%|█████████▌| 2213/2300 [9:28:59<20:36, 14.21s/it]"
     ]
    },
    {
     "name": "stdout",
     "output_type": "stream",
     "text": [
      "[-17.5816168]\n",
      "[45.078947]\n",
      "[2.5398881]\n",
      "[0.0, 0.0]\n"
     ]
    },
    {
     "name": "stderr",
     "output_type": "stream",
     "text": [
      " 96%|█████████▋| 2214/2300 [9:29:13<20:10, 14.07s/it]"
     ]
    },
    {
     "name": "stdout",
     "output_type": "stream",
     "text": [
      "[-16.21511214]\n",
      "[45.11219573]\n",
      "[2.4927306]\n",
      "[0.0, 0.0]\n"
     ]
    },
    {
     "name": "stderr",
     "output_type": "stream",
     "text": [
      " 96%|█████████▋| 2215/2300 [9:29:27<20:01, 14.13s/it]"
     ]
    },
    {
     "name": "stdout",
     "output_type": "stream",
     "text": [
      "[-14.91523986]\n",
      "[45.01220415]\n",
      "[2.397713]\n",
      "[0.0, 0.0]\n"
     ]
    },
    {
     "name": "stderr",
     "output_type": "stream",
     "text": [
      " 96%|█████████▋| 2216/2300 [9:29:41<19:44, 14.10s/it]"
     ]
    },
    {
     "name": "stdout",
     "output_type": "stream",
     "text": [
      "[-13.68200256]\n",
      "[44.97895769]\n",
      "[2.3041558]\n",
      "[0.0, 0.0]\n"
     ]
    },
    {
     "name": "stderr",
     "output_type": "stream",
     "text": [
      " 96%|█████████▋| 2217/2300 [9:29:55<19:29, 14.09s/it]"
     ]
    },
    {
     "name": "stdout",
     "output_type": "stream",
     "text": [
      "[-12.48212099]\n",
      "[44.87896803]\n",
      "[2.2691605]\n",
      "[0.0, 0.0]\n"
     ]
    },
    {
     "name": "stderr",
     "output_type": "stream",
     "text": [
      " 96%|█████████▋| 2218/2300 [9:30:09<19:16, 14.10s/it]"
     ]
    },
    {
     "name": "stdout",
     "output_type": "stream",
     "text": [
      "[-11.21560403]\n",
      "[44.81221992]\n",
      "[2.2874796]\n",
      "[0.0, 0.0]\n"
     ]
    },
    {
     "name": "stderr",
     "output_type": "stream",
     "text": [
      " 96%|█████████▋| 2219/2300 [9:30:24<19:19, 14.31s/it]"
     ]
    },
    {
     "name": "stdout",
     "output_type": "stream",
     "text": [
      "[-9.98236834]\n",
      "[44.67898837]\n",
      "[2.2905753]\n",
      "[0.0, 0.0]\n"
     ]
    },
    {
     "name": "stderr",
     "output_type": "stream",
     "text": [
      " 97%|█████████▋| 2220/2300 [9:30:38<18:58, 14.23s/it]"
     ]
    },
    {
     "name": "stdout",
     "output_type": "stream",
     "text": [
      "[-8.71584975]\n",
      "[44.6122368]\n",
      "[2.2557778]\n",
      "[0.0, 0.0]\n"
     ]
    },
    {
     "name": "stderr",
     "output_type": "stream",
     "text": [
      " 97%|█████████▋| 2221/2300 [9:30:53<18:49, 14.30s/it]"
     ]
    },
    {
     "name": "stdout",
     "output_type": "stream",
     "text": [
      "[-7.48261593]\n",
      "[44.47900807]\n",
      "[2.2016158]\n",
      "[0.0, 0.0]\n"
     ]
    },
    {
     "name": "stderr",
     "output_type": "stream",
     "text": [
      " 97%|█████████▋| 2222/2300 [9:31:07<18:28, 14.21s/it]"
     ]
    },
    {
     "name": "stdout",
     "output_type": "stream",
     "text": [
      "[-6.31608499]\n",
      "[44.31226436]\n",
      "[2.139978]\n",
      "[0.0, 0.0]\n"
     ]
    },
    {
     "name": "stderr",
     "output_type": "stream",
     "text": [
      " 97%|█████████▋| 2223/2300 [9:31:21<18:12, 14.19s/it]"
     ]
    },
    {
     "name": "stdout",
     "output_type": "stream",
     "text": [
      "[-5.11620272]\n",
      "[44.21227344]\n",
      "[2.1327937]\n",
      "[0.0, 0.0]\n"
     ]
    },
    {
     "name": "stderr",
     "output_type": "stream",
     "text": [
      " 97%|█████████▋| 2224/2300 [9:31:35<17:55, 14.15s/it]"
     ]
    },
    {
     "name": "stdout",
     "output_type": "stream",
     "text": [
      "[-3.91632026]\n",
      "[44.0122928]\n",
      "[2.1499953]\n",
      "[0.0, 0.0]\n"
     ]
    },
    {
     "name": "stderr",
     "output_type": "stream",
     "text": [
      " 97%|█████████▋| 2225/2300 [9:31:49<17:45, 14.20s/it]"
     ]
    },
    {
     "name": "stdout",
     "output_type": "stream",
     "text": [
      "[-2.71643711]\n",
      "[43.91230245]\n",
      "[2.1735597]\n",
      "[0.0, 0.0]\n"
     ]
    },
    {
     "name": "stderr",
     "output_type": "stream",
     "text": [
      " 97%|█████████▋| 2226/2300 [9:32:03<17:31, 14.20s/it]"
     ]
    },
    {
     "name": "stdout",
     "output_type": "stream",
     "text": [
      "[-1.51655525]\n",
      "[43.712321]\n",
      "[2.1967475]\n",
      "[0.0, 0.0]\n"
     ]
    },
    {
     "name": "stderr",
     "output_type": "stream",
     "text": [
      " 97%|█████████▋| 2227/2300 [9:32:17<17:12, 14.14s/it]"
     ]
    },
    {
     "name": "stdout",
     "output_type": "stream",
     "text": [
      "[-0.31667357]\n",
      "[43.51234012]\n",
      "[2.190228]\n",
      "[0.0, 0.0]\n"
     ]
    },
    {
     "name": "stderr",
     "output_type": "stream",
     "text": [
      " 97%|█████████▋| 2228/2300 [9:32:32<17:18, 14.42s/it]"
     ]
    },
    {
     "name": "stdout",
     "output_type": "stream",
     "text": [
      "[0.91655665]\n",
      "[43.27912626]\n",
      "[2.1908388]\n",
      "[0.0, 0.0]\n"
     ]
    },
    {
     "name": "stderr",
     "output_type": "stream",
     "text": [
      " 97%|█████████▋| 2229/2300 [9:32:47<17:02, 14.40s/it]"
     ]
    },
    {
     "name": "stdout",
     "output_type": "stream",
     "text": [
      "[2.1830804]\n",
      "[43.11237821]\n",
      "[2.2363882]\n",
      "[0.0, 0.0]\n"
     ]
    },
    {
     "name": "stderr",
     "output_type": "stream",
     "text": [
      " 97%|█████████▋| 2230/2300 [9:33:01<16:40, 14.29s/it]"
     ]
    },
    {
     "name": "stdout",
     "output_type": "stream",
     "text": [
      "[3.48295219]\n",
      "[42.91239722]\n",
      "[2.2247467]\n",
      "[0.0, 0.0]\n"
     ]
    },
    {
     "name": "stderr",
     "output_type": "stream",
     "text": [
      " 97%|█████████▋| 2231/2300 [9:33:15<16:23, 14.25s/it]"
     ]
    },
    {
     "name": "stdout",
     "output_type": "stream",
     "text": [
      "[4.68283372]\n",
      "[42.61242612]\n",
      "[2.2044542]\n",
      "[0.0, 0.0]\n"
     ]
    },
    {
     "name": "stderr",
     "output_type": "stream",
     "text": [
      " 97%|█████████▋| 2232/2300 [9:33:29<16:11, 14.29s/it]"
     ]
    },
    {
     "name": "stdout",
     "output_type": "stream",
     "text": [
      "[5.88271559]\n",
      "[42.31245492]\n",
      "[2.2179086]\n",
      "[0.0, 0.0]\n"
     ]
    },
    {
     "name": "stderr",
     "output_type": "stream",
     "text": [
      " 97%|█████████▋| 2233/2300 [9:33:43<15:53, 14.23s/it]"
     ]
    },
    {
     "name": "stdout",
     "output_type": "stream",
     "text": [
      "[7.11594847]\n",
      "[42.0792469]\n",
      "[2.2114823]\n",
      "[0.0, 0.0]\n"
     ]
    },
    {
     "name": "stderr",
     "output_type": "stream",
     "text": [
      " 97%|█████████▋| 2234/2300 [9:33:57<15:34, 14.16s/it]"
     ]
    },
    {
     "name": "stdout",
     "output_type": "stream",
     "text": [
      "[8.38246871]\n",
      "[41.81250262]\n",
      "[2.2015455]\n",
      "[0.0, 0.0]\n"
     ]
    },
    {
     "name": "stderr",
     "output_type": "stream",
     "text": [
      " 97%|█████████▋| 2235/2300 [9:34:11<15:16, 14.11s/it]"
     ]
    },
    {
     "name": "stdout",
     "output_type": "stream",
     "text": [
      "[9.58235006]\n",
      "[41.51253137]\n",
      "[2.1970048]\n",
      "[0.0, 0.0]\n"
     ]
    },
    {
     "name": "stderr",
     "output_type": "stream",
     "text": [
      " 97%|█████████▋| 2236/2300 [9:34:26<15:11, 14.24s/it]"
     ]
    },
    {
     "name": "stdout",
     "output_type": "stream",
     "text": [
      "[10.71559614]\n",
      "[41.17933777]\n",
      "[2.217568]\n",
      "[0.0, 0.0]\n"
     ]
    },
    {
     "name": "stderr",
     "output_type": "stream",
     "text": [
      " 97%|█████████▋| 2237/2300 [9:34:41<15:15, 14.54s/it]"
     ]
    },
    {
     "name": "stdout",
     "output_type": "stream",
     "text": [
      "[11.91547917]\n",
      "[40.87936841]\n",
      "[2.219277]\n",
      "[0.0, 0.0]\n"
     ]
    },
    {
     "name": "stderr",
     "output_type": "stream",
     "text": [
      " 97%|█████████▋| 2238/2300 [9:34:55<14:50, 14.37s/it]"
     ]
    },
    {
     "name": "stdout",
     "output_type": "stream",
     "text": [
      "[13.08200391]\n",
      "[40.51262826]\n",
      "[2.1732922]\n",
      "[0.0, 0.0]\n"
     ]
    },
    {
     "name": "stderr",
     "output_type": "stream",
     "text": [
      " 97%|█████████▋| 2239/2300 [9:35:09<14:34, 14.33s/it]"
     ]
    },
    {
     "name": "stdout",
     "output_type": "stream",
     "text": [
      "[14.21525396]\n",
      "[40.17943837]\n",
      "[2.122656]\n",
      "[0.0, 0.0]\n"
     ]
    },
    {
     "name": "stderr",
     "output_type": "stream",
     "text": [
      " 97%|█████████▋| 2240/2300 [9:35:24<14:17, 14.29s/it]"
     ]
    },
    {
     "name": "stdout",
     "output_type": "stream",
     "text": [
      "[15.3151464]\n",
      "[39.87946907]\n",
      "[2.1100135]\n",
      "[0.0, 0.0]\n"
     ]
    },
    {
     "name": "stderr",
     "output_type": "stream",
     "text": [
      " 97%|█████████▋| 2241/2300 [9:35:38<14:03, 14.30s/it]"
     ]
    },
    {
     "name": "stdout",
     "output_type": "stream",
     "text": [
      "[16.38167673]\n",
      "[39.51272453]\n",
      "[2.0921745]\n",
      "[0.0, 0.0]\n"
     ]
    },
    {
     "name": "stderr",
     "output_type": "stream",
     "text": [
      " 97%|█████████▋| 2242/2300 [9:35:52<13:46, 14.25s/it]"
     ]
    },
    {
     "name": "stdout",
     "output_type": "stream",
     "text": [
      "[17.51493329]\n",
      "[39.17954077]\n",
      "[2.0843275]\n",
      "[0.0, 0.0]\n"
     ]
    },
    {
     "name": "stderr",
     "output_type": "stream",
     "text": [
      " 98%|█████████▊| 2243/2300 [9:36:06<13:30, 14.22s/it]"
     ]
    },
    {
     "name": "stdout",
     "output_type": "stream",
     "text": [
      "[18.61482758]\n",
      "[38.87957285]\n",
      "[2.0933094]\n",
      "[0.0, 0.0]\n"
     ]
    },
    {
     "name": "stderr",
     "output_type": "stream",
     "text": [
      " 98%|█████████▊| 2244/2300 [9:36:21<13:18, 14.26s/it]"
     ]
    },
    {
     "name": "stdout",
     "output_type": "stream",
     "text": [
      "[19.68134458]\n",
      "[38.51282164]\n",
      "[2.1206148]\n",
      "[0.0, 0.0]\n"
     ]
    },
    {
     "name": "stderr",
     "output_type": "stream",
     "text": [
      " 98%|█████████▊| 2245/2300 [9:36:35<13:05, 14.28s/it]"
     ]
    },
    {
     "name": "stdout",
     "output_type": "stream",
     "text": [
      "[20.71462874]\n",
      "[38.1796498]\n",
      "[2.0997126]\n",
      "[0.0, 0.0]\n"
     ]
    },
    {
     "name": "stderr",
     "output_type": "stream",
     "text": [
      " 98%|█████████▊| 2246/2300 [9:36:50<13:04, 14.53s/it]"
     ]
    },
    {
     "name": "stdout",
     "output_type": "stream",
     "text": [
      "[21.71453608]\n",
      "[37.77969468]\n",
      "[2.025736]\n",
      "[0.0, 0.0]\n"
     ]
    },
    {
     "name": "stderr",
     "output_type": "stream",
     "text": [
      " 98%|█████████▊| 2247/2300 [9:37:04<12:47, 14.48s/it]"
     ]
    },
    {
     "name": "stdout",
     "output_type": "stream",
     "text": [
      "[22.7144425]\n",
      "[37.47973111]\n",
      "[1.979629]\n",
      "[0.0, 0.0]\n"
     ]
    },
    {
     "name": "stderr",
     "output_type": "stream",
     "text": [
      " 98%|█████████▊| 2248/2300 [9:37:18<12:24, 14.33s/it]"
     ]
    },
    {
     "name": "stdout",
     "output_type": "stream",
     "text": [
      "[23.71434803]\n",
      "[37.17976763]\n",
      "[1.9617081]\n",
      "[0.0, 0.0]\n"
     ]
    },
    {
     "name": "stderr",
     "output_type": "stream",
     "text": [
      " 98%|█████████▊| 2249/2300 [9:37:33<12:11, 14.35s/it]"
     ]
    },
    {
     "name": "stdout",
     "output_type": "stream",
     "text": [
      "[24.71425278]\n",
      "[36.87980544]\n",
      "[1.9631547]\n",
      "[0.0, 0.0]\n"
     ]
    },
    {
     "name": "stderr",
     "output_type": "stream",
     "text": [
      " 98%|█████████▊| 2250/2300 [9:37:47<11:55, 14.31s/it]"
     ]
    },
    {
     "name": "stdout",
     "output_type": "stream",
     "text": [
      "[-34.17997649]\n",
      "[44.87896129]\n",
      "[2.3126814]\n",
      "[0.0, 0.0]\n"
     ]
    },
    {
     "name": "stderr",
     "output_type": "stream",
     "text": [
      " 98%|█████████▊| 2251/2300 [9:38:01<11:37, 14.22s/it]"
     ]
    },
    {
     "name": "stdout",
     "output_type": "stream",
     "text": [
      "[-32.98009506]\n",
      "[44.97895177]\n",
      "[2.307256]\n",
      "[0.0, 0.0]\n"
     ]
    },
    {
     "name": "stderr",
     "output_type": "stream",
     "text": [
      " 98%|█████████▊| 2252/2300 [9:38:15<11:23, 14.24s/it]"
     ]
    },
    {
     "name": "stdout",
     "output_type": "stream",
     "text": [
      "[-31.78021374]\n",
      "[45.17893223]\n",
      "[2.2920318]\n",
      "[0.0, 0.0]\n"
     ]
    },
    {
     "name": "stderr",
     "output_type": "stream",
     "text": [
      " 98%|█████████▊| 2253/2300 [9:38:30<11:10, 14.26s/it]"
     ]
    },
    {
     "name": "stdout",
     "output_type": "stream",
     "text": [
      "[-30.5137044]\n",
      "[45.31219178]\n",
      "[2.3017044]\n",
      "[0.0, 0.0]\n"
     ]
    },
    {
     "name": "stderr",
     "output_type": "stream",
     "text": [
      " 98%|█████████▊| 2254/2300 [9:38:44<10:54, 14.23s/it]"
     ]
    },
    {
     "name": "stdout",
     "output_type": "stream",
     "text": [
      "[-29.31382239]\n",
      "[45.41218107]\n",
      "[2.305434]\n",
      "[0.0, 0.0]\n"
     ]
    },
    {
     "name": "stderr",
     "output_type": "stream",
     "text": [
      " 98%|█████████▊| 2255/2300 [9:38:58<10:46, 14.37s/it]"
     ]
    },
    {
     "name": "stdout",
     "output_type": "stream",
     "text": [
      "[-28.11394012]\n",
      "[45.51217042]\n",
      "[2.3116837]\n",
      "[0.0, 0.0]\n"
     ]
    },
    {
     "name": "stderr",
     "output_type": "stream",
     "text": [
      " 98%|█████████▊| 2256/2300 [9:39:13<10:32, 14.38s/it]"
     ]
    },
    {
     "name": "stdout",
     "output_type": "stream",
     "text": [
      "[-26.81406749]\n",
      "[45.6121596]\n",
      "[2.380882]\n",
      "[0.0, 0.0]\n"
     ]
    },
    {
     "name": "stderr",
     "output_type": "stream",
     "text": [
      " 98%|█████████▊| 2257/2300 [9:39:27<10:13, 14.27s/it]"
     ]
    },
    {
     "name": "stdout",
     "output_type": "stream",
     "text": [
      "[-25.58082687]\n",
      "[45.67888333]\n",
      "[2.418827]\n",
      "[0.0, 0.0]\n"
     ]
    },
    {
     "name": "stderr",
     "output_type": "stream",
     "text": [
      " 98%|█████████▊| 2258/2300 [9:39:41<09:57, 14.22s/it]"
     ]
    },
    {
     "name": "stdout",
     "output_type": "stream",
     "text": [
      "[-24.28095552]\n",
      "[45.67888348]\n",
      "[2.4449897]\n",
      "[0.0, 0.0]\n"
     ]
    },
    {
     "name": "stderr",
     "output_type": "stream",
     "text": [
      " 98%|█████████▊| 2259/2300 [9:39:55<09:43, 14.24s/it]"
     ]
    },
    {
     "name": "stdout",
     "output_type": "stream",
     "text": [
      "[-23.01444102]\n",
      "[45.71214588]\n",
      "[2.5032747]\n",
      "[0.0, 0.0]\n"
     ]
    },
    {
     "name": "stderr",
     "output_type": "stream",
     "text": [
      " 98%|█████████▊| 2260/2300 [9:40:09<09:27, 14.18s/it]"
     ]
    },
    {
     "name": "stdout",
     "output_type": "stream",
     "text": [
      "[-21.61457939]\n",
      "[45.71214439]\n",
      "[2.5565748]\n",
      "[0.0, 0.0]\n"
     ]
    },
    {
     "name": "stderr",
     "output_type": "stream",
     "text": [
      " 98%|█████████▊| 2261/2300 [9:40:23<09:12, 14.16s/it]"
     ]
    },
    {
     "name": "stdout",
     "output_type": "stream",
     "text": [
      "[-20.21471736]\n",
      "[45.81213298]\n",
      "[2.5608747]\n",
      "[0.0, 0.0]\n"
     ]
    },
    {
     "name": "stderr",
     "output_type": "stream",
     "text": [
      " 98%|█████████▊| 2262/2300 [9:40:38<08:59, 14.20s/it]"
     ]
    },
    {
     "name": "stdout",
     "output_type": "stream",
     "text": [
      "[-18.88148793]\n",
      "[45.7788769]\n",
      "[2.5185103]\n",
      "[0.0, 0.0]\n"
     ]
    },
    {
     "name": "stderr",
     "output_type": "stream",
     "text": [
      " 98%|█████████▊| 2263/2300 [9:40:52<08:48, 14.28s/it]"
     ]
    },
    {
     "name": "stdout",
     "output_type": "stream",
     "text": [
      "[-17.58161651]\n",
      "[45.77887732]\n",
      "[2.500795]\n",
      "[0.0, 0.0]\n"
     ]
    },
    {
     "name": "stderr",
     "output_type": "stream",
     "text": [
      " 98%|█████████▊| 2264/2300 [9:41:06<08:32, 14.23s/it]"
     ]
    },
    {
     "name": "stdout",
     "output_type": "stream",
     "text": [
      "[-16.31510144]\n",
      "[45.71213832]\n",
      "[2.482424]\n",
      "[0.0, 0.0]\n"
     ]
    },
    {
     "name": "stderr",
     "output_type": "stream",
     "text": [
      " 98%|█████████▊| 2265/2300 [9:41:20<08:18, 14.24s/it]"
     ]
    },
    {
     "name": "stdout",
     "output_type": "stream",
     "text": [
      "[-14.98187365]\n",
      "[45.67888775]\n",
      "[2.3820271]\n",
      "[0.0, 0.0]\n"
     ]
    },
    {
     "name": "stderr",
     "output_type": "stream",
     "text": [
      " 99%|█████████▊| 2266/2300 [9:41:35<08:04, 14.26s/it]"
     ]
    },
    {
     "name": "stdout",
     "output_type": "stream",
     "text": [
      "[-13.78199233]\n",
      "[45.57889793]\n",
      "[2.2936168]\n",
      "[0.0, 0.0]\n"
     ]
    },
    {
     "name": "stderr",
     "output_type": "stream",
     "text": [
      " 99%|█████████▊| 2267/2300 [9:41:48<07:45, 14.09s/it]"
     ]
    },
    {
     "name": "stdout",
     "output_type": "stream",
     "text": [
      "[-12.48212065]\n",
      "[45.5788984]\n",
      "[2.2461512]\n",
      "[0.0, 0.0]\n"
     ]
    },
    {
     "name": "stderr",
     "output_type": "stream",
     "text": [
      " 99%|█████████▊| 2268/2300 [9:42:03<07:33, 14.16s/it]"
     ]
    },
    {
     "name": "stdout",
     "output_type": "stream",
     "text": [
      "[-11.28223927]\n",
      "[45.47890862]\n",
      "[2.2608833]\n",
      "[0.0, 0.0]\n"
     ]
    },
    {
     "name": "stderr",
     "output_type": "stream",
     "text": [
      " 99%|█████████▊| 2269/2300 [9:42:17<07:18, 14.15s/it]"
     ]
    },
    {
     "name": "stdout",
     "output_type": "stream",
     "text": [
      "[-10.0823579]\n",
      "[45.37891873]\n",
      "[2.2671099]\n",
      "[0.0, 0.0]\n"
     ]
    },
    {
     "name": "stderr",
     "output_type": "stream",
     "text": [
      " 99%|█████████▊| 2270/2300 [9:42:31<07:02, 14.09s/it]"
     ]
    },
    {
     "name": "stdout",
     "output_type": "stream",
     "text": [
      "[-8.88247651]\n",
      "[45.17893869]\n",
      "[2.2355716]\n",
      "[0.0, 0.0]\n"
     ]
    },
    {
     "name": "stderr",
     "output_type": "stream",
     "text": [
      " 99%|█████████▊| 2271/2300 [9:42:45<06:50, 14.15s/it]"
     ]
    },
    {
     "name": "stdout",
     "output_type": "stream",
     "text": [
      "[-7.61595683]\n",
      "[45.11218826]\n",
      "[2.1782978]\n",
      "[0.0, 0.0]\n"
     ]
    },
    {
     "name": "stderr",
     "output_type": "stream",
     "text": [
      " 99%|█████████▉| 2272/2300 [9:43:00<06:44, 14.43s/it]"
     ]
    },
    {
     "name": "stdout",
     "output_type": "stream",
     "text": [
      "[-6.48271388]\n",
      "[44.97895833]\n",
      "[2.1273546]\n",
      "[0.0, 0.0]\n"
     ]
    },
    {
     "name": "stderr",
     "output_type": "stream",
     "text": [
      " 99%|█████████▉| 2273/2300 [9:43:14<06:24, 14.25s/it]"
     ]
    },
    {
     "name": "stdout",
     "output_type": "stream",
     "text": [
      "[-5.31618246]\n",
      "[44.81221616]\n",
      "[2.116869]\n",
      "[0.0, 0.0]\n"
     ]
    },
    {
     "name": "stderr",
     "output_type": "stream",
     "text": [
      " 99%|█████████▉| 2274/2300 [9:43:28<06:11, 14.28s/it]"
     ]
    },
    {
     "name": "stdout",
     "output_type": "stream",
     "text": [
      "[-4.08295045]\n",
      "[44.67898787]\n",
      "[2.1189208]\n",
      "[0.0, 0.0]\n"
     ]
    },
    {
     "name": "stderr",
     "output_type": "stream",
     "text": [
      " 99%|█████████▉| 2275/2300 [9:43:43<05:56, 14.24s/it]"
     ]
    },
    {
     "name": "stdout",
     "output_type": "stream",
     "text": [
      "[-2.91641721]\n",
      "[44.51224453]\n",
      "[2.1226192]\n",
      "[0.0, 0.0]\n"
     ]
    },
    {
     "name": "stderr",
     "output_type": "stream",
     "text": [
      " 99%|█████████▉| 2276/2300 [9:43:57<05:40, 14.17s/it]"
     ]
    },
    {
     "name": "stdout",
     "output_type": "stream",
     "text": [
      "[-1.68318747]\n",
      "[44.37901636]\n",
      "[2.1523824]\n",
      "[0.0, 0.0]\n"
     ]
    },
    {
     "name": "stderr",
     "output_type": "stream",
     "text": [
      " 99%|█████████▉| 2277/2300 [9:44:11<05:26, 14.21s/it]"
     ]
    },
    {
     "name": "stdout",
     "output_type": "stream",
     "text": [
      "[-0.48330504]\n",
      "[44.17903653]\n",
      "[2.1669278]\n",
      "[0.0, 0.0]\n"
     ]
    },
    {
     "name": "stderr",
     "output_type": "stream",
     "text": [
      " 99%|█████████▉| 2278/2300 [9:44:25<05:12, 14.19s/it]"
     ]
    },
    {
     "name": "stdout",
     "output_type": "stream",
     "text": [
      "[0.71657758]\n",
      "[43.97905669]\n",
      "[2.157212]\n",
      "[0.0, 0.0]\n"
     ]
    },
    {
     "name": "stderr",
     "output_type": "stream",
     "text": [
      " 99%|█████████▉| 2279/2300 [9:44:39<04:56, 14.14s/it]"
     ]
    },
    {
     "name": "stdout",
     "output_type": "stream",
     "text": [
      "[2.01644984]\n",
      "[43.77907662]\n",
      "[2.1877356]\n",
      "[0.0, 0.0]\n"
     ]
    },
    {
     "name": "stderr",
     "output_type": "stream",
     "text": [
      " 99%|█████████▉| 2280/2300 [9:44:53<04:43, 14.17s/it]"
     ]
    },
    {
     "name": "stdout",
     "output_type": "stream",
     "text": [
      "[3.18298284]\n",
      "[43.51234096]\n",
      "[2.1950548]\n",
      "[0.0, 0.0]\n"
     ]
    },
    {
     "name": "stderr",
     "output_type": "stream",
     "text": [
      " 99%|█████████▉| 2281/2300 [9:45:08<04:32, 14.33s/it]"
     ]
    },
    {
     "name": "stdout",
     "output_type": "stream",
     "text": [
      "[4.41621461]\n",
      "[43.27912683]\n",
      "[2.1642795]\n",
      "[0.0, 0.0]\n"
     ]
    },
    {
     "name": "stderr",
     "output_type": "stream",
     "text": [
      " 99%|█████████▉| 2282/2300 [9:45:22<04:17, 14.29s/it]"
     ]
    },
    {
     "name": "stdout",
     "output_type": "stream",
     "text": [
      "[5.68273616]\n",
      "[43.01238843]\n",
      "[2.1787455]\n",
      "[0.0, 0.0]\n"
     ]
    },
    {
     "name": "stderr",
     "output_type": "stream",
     "text": [
      " 99%|█████████▉| 2283/2300 [9:45:37<04:03, 14.30s/it]"
     ]
    },
    {
     "name": "stdout",
     "output_type": "stream",
     "text": [
      "[6.88261766]\n",
      "[42.81240731]\n",
      "[2.1893752]\n",
      "[0.0, 0.0]\n"
     ]
    },
    {
     "name": "stderr",
     "output_type": "stream",
     "text": [
      " 99%|█████████▉| 2284/2300 [9:45:51<03:51, 14.48s/it]"
     ]
    },
    {
     "name": "stdout",
     "output_type": "stream",
     "text": [
      "[8.08249918]\n",
      "[42.51243617]\n",
      "[2.1844795]\n",
      "[0.0, 0.0]\n"
     ]
    },
    {
     "name": "stderr",
     "output_type": "stream",
     "text": [
      " 99%|█████████▉| 2285/2300 [9:46:06<03:36, 14.44s/it]"
     ]
    },
    {
     "name": "stdout",
     "output_type": "stream",
     "text": [
      "[9.28238057]\n",
      "[42.21246502]\n",
      "[2.1731017]\n",
      "[0.0, 0.0]\n"
     ]
    },
    {
     "name": "stderr",
     "output_type": "stream",
     "text": [
      " 99%|█████████▉| 2286/2300 [9:46:20<03:21, 14.41s/it]"
     ]
    },
    {
     "name": "stdout",
     "output_type": "stream",
     "text": [
      "[10.41562674]\n",
      "[41.87926799]\n",
      "[2.1756065]\n",
      "[0.0, 0.0]\n"
     ]
    },
    {
     "name": "stderr",
     "output_type": "stream",
     "text": [
      " 99%|█████████▉| 2287/2300 [9:46:34<03:05, 14.29s/it]"
     ]
    },
    {
     "name": "stdout",
     "output_type": "stream",
     "text": [
      "[11.61550961]\n",
      "[41.57929865]\n",
      "[2.1840122]\n",
      "[0.0, 0.0]\n"
     ]
    },
    {
     "name": "stderr",
     "output_type": "stream",
     "text": [
      " 99%|█████████▉| 2288/2300 [9:46:48<02:51, 14.27s/it]"
     ]
    },
    {
     "name": "stdout",
     "output_type": "stream",
     "text": [
      "[12.78203398]\n",
      "[41.31255134]\n",
      "[2.1573992]\n",
      "[0.0, 0.0]\n"
     ]
    },
    {
     "name": "stderr",
     "output_type": "stream",
     "text": [
      "100%|█████████▉| 2289/2300 [9:47:02<02:36, 14.24s/it]"
     ]
    },
    {
     "name": "stdout",
     "output_type": "stream",
     "text": [
      "[13.91528403]\n",
      "[40.9793591]\n",
      "[2.1153052]\n",
      "[0.0, 0.0]\n"
     ]
    },
    {
     "name": "stderr",
     "output_type": "stream",
     "text": [
      "100%|█████████▉| 2290/2300 [9:47:18<02:25, 14.55s/it]"
     ]
    },
    {
     "name": "stdout",
     "output_type": "stream",
     "text": [
      "[14.98181694]\n",
      "[40.61261926]\n",
      "[2.0947106]\n",
      "[0.0, 0.0]\n"
     ]
    },
    {
     "name": "stderr",
     "output_type": "stream",
     "text": [
      "100%|█████████▉| 2291/2300 [9:47:32<02:10, 14.45s/it]"
     ]
    },
    {
     "name": "stdout",
     "output_type": "stream",
     "text": [
      "[16.08170767]\n",
      "[40.31264823]\n",
      "[2.0731146]\n",
      "[0.0, 0.0]\n"
     ]
    },
    {
     "name": "stderr",
     "output_type": "stream",
     "text": [
      "100%|█████████▉| 2292/2300 [9:47:46<01:55, 14.44s/it]"
     ]
    },
    {
     "name": "stdout",
     "output_type": "stream",
     "text": [
      "[17.18159815]\n",
      "[40.01267723]\n",
      "[2.0613449]\n",
      "[0.0, 0.0]\n"
     ]
    },
    {
     "name": "stderr",
     "output_type": "stream",
     "text": [
      "100%|█████████▉| 2293/2300 [9:48:00<01:39, 14.28s/it]"
     ]
    },
    {
     "name": "stdout",
     "output_type": "stream",
     "text": [
      "[18.21486725]\n",
      "[39.67949222]\n",
      "[2.0650373]\n",
      "[0.0, 0.0]\n"
     ]
    },
    {
     "name": "stderr",
     "output_type": "stream",
     "text": [
      "100%|█████████▉| 2294/2300 [9:48:15<01:26, 14.41s/it]"
     ]
    },
    {
     "name": "stdout",
     "output_type": "stream",
     "text": [
      "[19.28138698]\n",
      "[39.31274606]\n",
      "[2.081816]\n",
      "[0.0, 0.0]\n"
     ]
    },
    {
     "name": "stderr",
     "output_type": "stream",
     "text": [
      "100%|█████████▉| 2295/2300 [9:48:31<01:15, 15.01s/it]"
     ]
    },
    {
     "name": "stdout",
     "output_type": "stream",
     "text": [
      "[20.3812749]\n",
      "[39.0127739]\n",
      "[2.0926774]\n",
      "[0.0, 0.0]\n"
     ]
    },
    {
     "name": "stderr",
     "output_type": "stream",
     "text": [
      "100%|█████████▉| 2296/2300 [9:48:48<01:02, 15.54s/it]"
     ]
    },
    {
     "name": "stdout",
     "output_type": "stream",
     "text": [
      "[21.38117184]\n",
      "[38.61281275]\n",
      "[2.0392692]\n",
      "[0.0, 0.0]\n"
     ]
    },
    {
     "name": "stderr",
     "output_type": "stream",
     "text": [
      "100%|█████████▉| 2297/2300 [9:49:02<00:45, 15.14s/it]"
     ]
    },
    {
     "name": "stdout",
     "output_type": "stream",
     "text": [
      "[22.41446934]\n",
      "[38.2796475]\n",
      "[1.9718702]\n",
      "[0.0, 0.0]\n"
     ]
    },
    {
     "name": "stderr",
     "output_type": "stream",
     "text": [
      "100%|█████████▉| 2298/2300 [9:49:18<00:30, 15.22s/it]"
     ]
    },
    {
     "name": "stdout",
     "output_type": "stream",
     "text": [
      "[23.38096243]\n",
      "[38.01286662]\n",
      "[1.9420587]\n",
      "[0.0, 0.0]\n"
     ]
    },
    {
     "name": "stderr",
     "output_type": "stream",
     "text": [
      "100%|█████████▉| 2299/2300 [9:49:32<00:14, 14.92s/it]"
     ]
    },
    {
     "name": "stdout",
     "output_type": "stream",
     "text": [
      "[24.3808573]\n",
      "[37.71289208]\n",
      "[1.9331057]\n",
      "[0.0, 0.0]\n"
     ]
    },
    {
     "name": "stderr",
     "output_type": "stream",
     "text": [
      "100%|██████████| 2300/2300 [9:49:46<00:00, 15.39s/it]\n"
     ]
    }
   ],
   "source": [
    "import pymupds\n",
    "zl, zsnorm, zslist = 0.5, 2, [6]\n",
    "#zl, zsnorm, zslist = 0.5, 1, [4]\n",
    "model = [\"CATS\", \"J&S\", \"ZITR-NFW\"]\n",
    "\n",
    "for zs in zslist:\n",
    "    mappa_ = [pyfits.open(\"/home/gabriele/Tesi/ares_hera/Hera_CATS/MappeAmplificazione_forHSTlike/CATSmagnific_zs\"+str(zs)+\"_forHSTlike.fits\")[0],\n",
    "              pyfits.open(\"/home/gabriele/Tesi/ares_hera/Hera_J&S/MappeAmplificazione_forHSTlike/J&Smagnific_zs\"+str(zs)+\"_forHSTlike.fits\")[0],\n",
    "              pyfits.open(\"/home/gabriele/Tesi/ares_hera/Hera_ZITR-NFW/MappeAmplificazione_forHSTlike/ZITR-NFWmagnific_zs\"+str(zs)+\"_forHSTlike.fits\")[0]]\n",
    "\n",
    "    fov = []\n",
    "    for k in range(len(mappa_)):\n",
    "        f = mappa_[k].header[\"CDELT2\"]*3600*(mappa_[k].header[\"NAXIS1\"]-1)\n",
    "        fov.append(f)\n",
    "    fovCut = round(min(fov),2)\n",
    "\n",
    "    ang_ = pyfits.open('/home/gabriele/Tesi/deflection_angle_maps/Hera/deflAnglesHera.fits')\n",
    "    angx_, angy_ = ang_[0], ang_[1]\n",
    "    pix_ = ((angx_.header['XMAX']-angx_.header['XMIN'])/angx_.header['NAXIS1'])/3600\n",
    "    angx_, angy_ = formatHeaderForCut(angx_, angy_, pix_)\n",
    "    angx_, angy_ = cutout_image(angx_, [\"0 0\"], fov=fovCut), cutout_image(angy_, [\"0 0\"], fov=fovCut)\n",
    "    angx, angy = rescale(angx_.data, 4080), rescale(angy_.data, 4080)\n",
    "    angx = formatHeaderDef(angx, angx_)\n",
    "\n",
    "    pix = ((angx.header['XMAX']-angx.header['XMIN'])/angx.header['NAXIS1'])\n",
    "    npix = angx.shape[0]\n",
    "    sz = pix*(npix)\n",
    "\n",
    "    kwargs = {\n",
    "        'zl': zl,\n",
    "        'zs': zsnorm # La kword per la normalizzazione è 'zs'\n",
    "                     # e non 'zsnorm'\n",
    "    }\n",
    "\n",
    "    lens = deflector(co=co, angx=angx.data, angy=angy.data, usePotential=False, **kwargs)\n",
    "    theta = np.linspace(-sz/2,sz/2,npix)\n",
    "    lens.setGrid(theta)\n",
    "    lens.change_redshift(zs)\n",
    "    tEin = lens.thetaE()\n",
    "    detA = (1.0 - lens.ka) ** 2 - (lens.g1 ** 2 + lens.g2 ** 2)\n",
    "    mu=np.abs(1.0/detA)\n",
    "\n",
    "    ct, cr = lens.tancl(), lens.radcl()\n",
    "    caut, caur = lens.getCaustics(ct), lens.getCaustics(cr)\n",
    "    \n",
    "    print(\"Source's redshift: \"+str(zs)+\" - - - -\")\n",
    "    print(\"Shape: %5i px\" % angx.shape[0])\n",
    "    print(\"Fov: %5.2f arcsec\" % sz)\n",
    "    print(\"Pixel: %5.2f arcsec\" % pix)\n",
    "    print(\"Einstein's radius: %5.2f arcsec\" % tEin)\n",
    "    print(\"- - - - - - - - - - - - - - - - - - - \")\n",
    "    \n",
    "    angx4pntSrc, angy4pntSrc = rescale(angx.data, 2040), rescale(angy.data, 2040)\n",
    "    pix4pntSrc = 4080/2040*pix\n",
    "    npix4pntSrc = 2040\n",
    "    lens4pntSrc = deflector(co=co, angx=angx4pntSrc, angy=angy4pntSrc, usePotential=False, **kwargs)\n",
    "    theta4pntSrc = np.linspace(-sz/2,sz/2,npix4pntSrc)\n",
    "    lens4pntSrc.setGrid(theta4pntSrc)\n",
    "    lens4pntSrc.change_redshift(zs)\n",
    "    \n",
    "    mappa = [rescale(cutout_image(mappa_[0], [\"0 0\"], fov=fovCut).data, 4080),\n",
    "             rescale(cutout_image(mappa_[1], [\"0 0\"], fov=fovCut).data, 4080),\n",
    "             rescale(cutout_image(mappa_[2], [\"0 0\"], fov=fovCut).data, 4080)]\n",
    "    \n",
    "    mag_source, mag_lens, mag_sky = 22.0, 18.0, 22.5\n",
    "    zp = 23.9\n",
    "    \n",
    "    y1 = lens.theta1 - lens.a1 + 2 * lens.pixel_scale\n",
    "    y2 = lens.theta2 - lens.a2 + 2 * lens.pixel_scale\n",
    "    mus = pymupds.mupds_triangle(y1 - lens.theta1.min(), y2 - lens.theta2.min(), lens.pixel_scale, detA, nray=len(theta))\n",
    "\n",
    "    ob = observation(size=sz, Npix=npix, zp=zp, texp=565 * 4, bkg=mag_sky)\n",
    "    fl_gal, fl_lens, sky_counts = ob.mag2counts(mag_source), ob.mag2counts(mag_lens), ob.bkg_counts\n",
    "    # define a grid of sources\n",
    "    fov_zs = int(tEin)\n",
    "    thetasx = np.linspace(-7-fov_zs/2.0,-7+fov_zs/2.0,50)\n",
    "    thetasy = np.linspace(-fov_zs/2.0,+fov_zs/2.0,50)\n",
    "    thetas1, thetas2 = np.meshgrid(thetasx,thetasy)\n",
    "\n",
    "    thetas1=thetas1.flatten()\n",
    "    thetas2=thetas2.flatten()\n",
    "            \n",
    "    s0, s1, s2 = [], [], []\n",
    "    s0F, s1F, s2F = [], [], []\n",
    "    listaS, listaSF = [s0,s1,s2], [s0F, s1F, s2F]\n",
    "    re, sersInd = 0.7, 4.0 #capire come fare sorgenti più estese\n",
    "    \n",
    "    #for i in tqdm(range(0,1)):\n",
    "    for i in tqdm(range(0,2300)):\n",
    "    #for i in tqdm(range(len(thetas1))):\n",
    "    \n",
    "        kwargs_source_light = {\n",
    "            'n': sersInd,  # sersic index\n",
    "            're': re,  # effective radius\n",
    "            'q': 1.0,  # axis ratio\n",
    "            'pa': np.pi / 4.,  # position angle\n",
    "            'ys1': thetas1[i],  # 3.8,  # position x (on the source plane)\n",
    "            'ys2': thetas2[i],  # 3.8,  # position y (on the source plane)\n",
    "            'flux': fl_gal,  # flux of the source (in counts/s)\n",
    "            'zs': zs\n",
    "        }\n",
    "        \n",
    "        kwargs_source_light_4pntSrc = {\n",
    "            'ys1': thetas1[i],   \n",
    "            'ys2': thetas2[i],   \n",
    "            'flux': fl_gal,  \n",
    "            'zs': zs\n",
    "        }\n",
    "\n",
    "        se = sersic(size=sz, Npix=npix, gl=lens, save_unlensed=True, **kwargs_source_light)\n",
    "        pntSrc = pointsrc(size=sz, Npix=npix4pntSrc, gl=lens4pntSrc, **kwargs_source_light_4pntSrc)\n",
    "        imgPosition = pntSrc.find_images()\n",
    "        noise = ob.makeNoise(se.image)\n",
    "        \n",
    "        if np.size(imgPosition)!=3:\n",
    "            pntPos = []\n",
    "            for j in range(len(imgPosition)):\n",
    "                pntPos.append([imgPosition[0][j], imgPosition[1][j]])\n",
    "            pntPos = np.array(pntPos)\n",
    "            pntPos = (pntPos/pix4pntSrc+2040/2)*2\n",
    "        else:\n",
    "            imgPosition = np.array(imgPosition)\n",
    "            imgPosition = (imgPosition/pix4pntSrc+2040/2)*2\n",
    "            pntPos = [[imgPosition[0][0], imgPosition[1][0]]]\n",
    "            pntPos = np.array(pntPos)\n",
    "        \n",
    "        #SNR = 1.0\n",
    "        SNR = 5.0\n",
    "        #SNR = 10.0\n",
    "        noise_level = 0.5 * (1.0 + np.sqrt(1.0 + 4.0 * ob.bkg_counts * ob.texp)) / ob.texp * SNR\n",
    "\n",
    "        cnt = se.image_contours(level=noise_level)\n",
    "        contours___ = measure.find_contours(se.image_unlensed, noise_level)\n",
    "        cnt_source = sort_contours(contours___)\n",
    "    \n",
    "        mask_lensed = se.image > noise_level\n",
    "        mask_unlensed = se.image_unlensed > noise_level\n",
    "    \n",
    "        if len(cnt)!=1:\n",
    "            for j in range(len(model)):\n",
    "                multiple_images(se=se, noise_level=noise_level, mu=mappa[j], mus=mus.T, mask_unlensed=mask_unlensed, s=listaS[j], sFoldImages=listaSF[j], xpos=thetas1[i], ypos=thetas2[i], pix=pix, sz=sz, model=model[j], lens=lens, cntList=cnt, point=pntPos)\n",
    "                continue\n",
    "            continue\n",
    "\n",
    "        ai = image_fit(se.image, ith=noise_level)\n",
    "        cen = ai.centroid()\n",
    "\n",
    "        area_ratio = mask_lensed.sum() / mask_unlensed.sum()\n",
    "        flux_ratio = np.sum(se.image * mask_lensed) / np.sum(se.image_unlensed * mask_unlensed)\n",
    "    \n",
    "        mu_flux = np.sum((mus.T * se.image_unlensed) * mask_unlensed)\n",
    "        flux = np.sum(se.image_unlensed * mask_unlensed)\n",
    "        mu_true = mu_flux / flux\n",
    "                        \n",
    "        for k in range(len(model)):\n",
    "            mean_mu, median_mu, wfl_mu, mu_point = np.mean(mappa[k][mask_lensed]), np.median(mappa[k][mask_lensed]), np.average(mappa[k][mask_lensed], weights=se.image[mask_lensed]), mappa[k][int(pntPos[0,1]), int(pntPos[0,0])]\n",
    "            s_entry = {'x': thetas1[i],'y': thetas2[i],\n",
    "                       'xi':cen[0]*pix-sz/2.0,'yi':cen[1]*pix-sz/2.,\n",
    "                       'mus_true': mu_true, 'area_ratio': area_ratio,\n",
    "                       'flux_ratio': flux_ratio, model[k]+'_mean_mu': mean_mu,\n",
    "                       model[k]+'_median_mu': median_mu, model[k]+'_wfl_mu': wfl_mu, model[k]+'_mu_point': mu_point}\n",
    "            listaS[k].append(s_entry)\n",
    "        \n",
    "\n",
    "    for m in range(len(model)):\n",
    "        sdf = pd.DataFrame(listaS[m])\n",
    "        sdfF = pd.DataFrame(listaSF[m])\n",
    "        sdf.to_csv('/home/gabriele/Tesi/simulazioni/NuoviScript/Hera/Dati/'+model[m]+'HeraDati_zs'+str(zs)+'_SNR'+str(SNR)+'_effRad'+str(re)+'.csv', sep=' ')\n",
    "        sdfF.to_csv('/home/gabriele/Tesi/simulazioni/NuoviScript/Hera/Dati/'+model[m]+'HeraDatiFoldImages_zs'+str(zs)+'_SNR'+str(SNR)+'_effRad'+str(re)+'.csv', sep=' ')"
   ]
  },
  {
   "cell_type": "code",
   "execution_count": 6,
   "metadata": {},
   "outputs": [
    {
     "ename": "ImportError",
     "evalue": "cannot import name 'magnification_measures' from 'pyLensLib.maputils' (/home/gabriele/anaconda3/lib/python3.7/pyLensLib/maputils.py)",
     "output_type": "error",
     "traceback": [
      "\u001b[0;31m---------------------------------------------------------------------------\u001b[0m",
      "\u001b[0;31mImportError\u001b[0m                               Traceback (most recent call last)",
      "\u001b[0;32m<ipython-input-6-79a22fc02bdd>\u001b[0m in \u001b[0;36m<module>\u001b[0;34m\u001b[0m\n\u001b[0;32m----> 1\u001b[0;31m \u001b[0;32mfrom\u001b[0m \u001b[0mpyLensLib\u001b[0m\u001b[0;34m.\u001b[0m\u001b[0mmaputils\u001b[0m \u001b[0;32mimport\u001b[0m \u001b[0mmagnification_measures\u001b[0m\u001b[0;34m\u001b[0m\u001b[0;34m\u001b[0m\u001b[0m\n\u001b[0m",
      "\u001b[0;31mImportError\u001b[0m: cannot import name 'magnification_measures' from 'pyLensLib.maputils' (/home/gabriele/anaconda3/lib/python3.7/pyLensLib/maputils.py)"
     ]
    }
   ],
   "source": [
    "from pyLensLib.maputils import magnification_measures"
   ]
  },
  {
   "cell_type": "code",
   "execution_count": null,
   "metadata": {},
   "outputs": [],
   "source": []
  }
 ],
 "metadata": {
  "kernelspec": {
   "display_name": "Python 3 (ipykernel)",
   "language": "python",
   "name": "python3"
  },
  "language_info": {
   "codemirror_mode": {
    "name": "ipython",
    "version": 3
   },
   "file_extension": ".py",
   "mimetype": "text/x-python",
   "name": "python",
   "nbconvert_exporter": "python",
   "pygments_lexer": "ipython3",
   "version": "3.7.6"
  }
 },
 "nbformat": 4,
 "nbformat_minor": 4
}
